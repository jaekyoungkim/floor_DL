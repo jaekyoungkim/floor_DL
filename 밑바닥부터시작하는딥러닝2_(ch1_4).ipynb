{
  "nbformat": 4,
  "nbformat_minor": 0,
  "metadata": {
    "colab": {
      "name": "밑바닥부터시작하는딥러닝2 -(ch1-4).ipynb",
      "provenance": [],
      "collapsed_sections": [],
      "machine_shape": "hm",
      "authorship_tag": "ABX9TyPu2dqXIkiiUajdh3fT12q9",
      "include_colab_link": true
    },
    "kernelspec": {
      "name": "python3",
      "display_name": "Python 3"
    },
    "language_info": {
      "name": "python"
    },
    "accelerator": "GPU"
  },
  "cells": [
    {
      "cell_type": "markdown",
      "metadata": {
        "id": "view-in-github",
        "colab_type": "text"
      },
      "source": [
        "<a href=\"https://colab.research.google.com/github/jaekyoungkim/floor_DL/blob/main/%EB%B0%91%EB%B0%94%EB%8B%A5%EB%B6%80%ED%84%B0%EC%8B%9C%EC%9E%91%ED%95%98%EB%8A%94%EB%94%A5%EB%9F%AC%EB%8B%9D2_(ch1_4).ipynb\" target=\"_parent\"><img src=\"https://colab.research.google.com/assets/colab-badge.svg\" alt=\"Open In Colab\"/></a>"
      ]
    },
    {
      "cell_type": "code",
      "execution_count": 29,
      "metadata": {
        "id": "-p2YLaIYgO4o",
        "colab": {
          "base_uri": "https://localhost:8080/"
        },
        "outputId": "77e81b93-5cbd-4fb1-a15b-8b3aaba4727e"
      },
      "outputs": [
        {
          "output_type": "stream",
          "name": "stdout",
          "text": [
            "Cloning into 'deep-learning-from-scratch-2'...\n",
            "remote: Enumerating objects: 606, done.\u001b[K\n",
            "remote: Counting objects: 100% (8/8), done.\u001b[K\n",
            "remote: Compressing objects: 100% (8/8), done.\u001b[K\n",
            "remote: Total 606 (delta 1), reused 5 (delta 0), pack-reused 598\u001b[K\n",
            "Receiving objects: 100% (606/606), 29.82 MiB | 19.13 MiB/s, done.\n",
            "Resolving deltas: 100% (361/361), done.\n"
          ]
        }
      ],
      "source": [
        "!git clone https://github.com/WegraLee/deep-learning-from-scratch-2.git"
      ]
    },
    {
      "cell_type": "markdown",
      "source": [
        "# ch1. 신경망 복습 "
      ],
      "metadata": {
        "id": "9p28Nwy8gS6x"
      }
    },
    {
      "cell_type": "code",
      "source": [
        "import numpy as np\n",
        "x=np.array([1,2,3])\n",
        "x.__class__"
      ],
      "metadata": {
        "colab": {
          "base_uri": "https://localhost:8080/"
        },
        "id": "6FJMVl0AgU0f",
        "outputId": "80293d16-fb2c-438d-fa6d-1ab3c6b36408"
      },
      "execution_count": null,
      "outputs": [
        {
          "output_type": "execute_result",
          "data": {
            "text/plain": [
              "numpy.ndarray"
            ]
          },
          "metadata": {},
          "execution_count": 1
        }
      ]
    },
    {
      "cell_type": "code",
      "source": [
        "x.shape"
      ],
      "metadata": {
        "colab": {
          "base_uri": "https://localhost:8080/"
        },
        "id": "PSZRQQOxgehr",
        "outputId": "6c18d76e-1589-4b83-8c05-c000265909d2"
      },
      "execution_count": null,
      "outputs": [
        {
          "output_type": "execute_result",
          "data": {
            "text/plain": [
              "(3,)"
            ]
          },
          "metadata": {},
          "execution_count": 2
        }
      ]
    },
    {
      "cell_type": "code",
      "source": [
        "x.ndim"
      ],
      "metadata": {
        "colab": {
          "base_uri": "https://localhost:8080/"
        },
        "id": "hQv9i0QhggWj",
        "outputId": "3b4590a4-ce2b-4314-ec11-c1d25de65411"
      },
      "execution_count": null,
      "outputs": [
        {
          "output_type": "execute_result",
          "data": {
            "text/plain": [
              "1"
            ]
          },
          "metadata": {},
          "execution_count": 4
        }
      ]
    },
    {
      "cell_type": "code",
      "source": [
        "W= np.array([[1,2,3],[4,5,6]])"
      ],
      "metadata": {
        "id": "ENtvW7krgg0r"
      },
      "execution_count": null,
      "outputs": []
    },
    {
      "cell_type": "code",
      "source": [
        "W.shape"
      ],
      "metadata": {
        "colab": {
          "base_uri": "https://localhost:8080/"
        },
        "id": "pz_UOx_ugmVc",
        "outputId": "4aa5bcaf-b630-4dd2-bc5b-28202349371f"
      },
      "execution_count": null,
      "outputs": [
        {
          "output_type": "execute_result",
          "data": {
            "text/plain": [
              "(2, 3)"
            ]
          },
          "metadata": {},
          "execution_count": 6
        }
      ]
    },
    {
      "cell_type": "code",
      "source": [
        "W.ndim"
      ],
      "metadata": {
        "colab": {
          "base_uri": "https://localhost:8080/"
        },
        "id": "3T_fMyXlgnWv",
        "outputId": "26935316-a495-4ca6-b2c7-712c2a00370d"
      },
      "execution_count": null,
      "outputs": [
        {
          "output_type": "execute_result",
          "data": {
            "text/plain": [
              "2"
            ]
          },
          "metadata": {},
          "execution_count": 7
        }
      ]
    },
    {
      "cell_type": "code",
      "source": [
        "a=np.array([1,2,3])\n",
        "b=np.array([4,5,6])\n",
        "np.dot(a,b) # 벡터의 내적"
      ],
      "metadata": {
        "colab": {
          "base_uri": "https://localhost:8080/"
        },
        "id": "83abMEM-gn6-",
        "outputId": "d02f1d36-4a06-4120-e314-2d8fc93455a5"
      },
      "execution_count": null,
      "outputs": [
        {
          "output_type": "execute_result",
          "data": {
            "text/plain": [
              "32"
            ]
          },
          "metadata": {},
          "execution_count": 8
        }
      ]
    },
    {
      "cell_type": "code",
      "source": [
        "A=np.array([[1,2],[3,4]])\n",
        "B=np.array([4,5,6])"
      ],
      "metadata": {
        "id": "UyBP-9vqg08T"
      },
      "execution_count": null,
      "outputs": []
    },
    {
      "cell_type": "code",
      "source": [
        "np.dot(A,B) "
      ],
      "metadata": {
        "colab": {
          "base_uri": "https://localhost:8080/"
        },
        "id": "s_n3FXLbg5e5",
        "outputId": "b6027fd6-2b3d-4a4d-d1df-97e88a1be4c0"
      },
      "execution_count": null,
      "outputs": [
        {
          "output_type": "execute_result",
          "data": {
            "text/plain": [
              "array([[19, 22],\n",
              "       [43, 50]])"
            ]
          },
          "metadata": {},
          "execution_count": 15
        }
      ]
    },
    {
      "cell_type": "code",
      "source": [
        "A=np.array([[1,2],[3,4]])\n",
        "B=np.array([[5,6],[7,8]])"
      ],
      "metadata": {
        "id": "6Q-Cs2XSg8ti"
      },
      "execution_count": null,
      "outputs": []
    },
    {
      "cell_type": "code",
      "source": [
        "np.matmul(A,B)  # 행렬곱"
      ],
      "metadata": {
        "colab": {
          "base_uri": "https://localhost:8080/"
        },
        "id": "5YsGqRfChETM",
        "outputId": "3069e483-b0e7-4024-81bf-526443b32cd9"
      },
      "execution_count": null,
      "outputs": [
        {
          "output_type": "execute_result",
          "data": {
            "text/plain": [
              "array([[19, 22],\n",
              "       [43, 50]])"
            ]
          },
          "metadata": {},
          "execution_count": 14
        }
      ]
    },
    {
      "cell_type": "code",
      "source": [
        "# 100 NUMPY EXCERSICE 예제 해보기, 좋은 샘플임"
      ],
      "metadata": {
        "id": "P4v9nHMyhFes"
      },
      "execution_count": null,
      "outputs": []
    },
    {
      "cell_type": "code",
      "source": [
        "# 신경명에서 수행하는 작업 : 학습과 추론\n",
        "# 입력층, 출력층, 은닉층으로 구성됨\n",
        "# 가중치, 편향을 통해 계산됨\n"
      ],
      "metadata": {
        "id": "OgvHrleLhYiG"
      },
      "execution_count": null,
      "outputs": []
    },
    {
      "cell_type": "code",
      "source": [
        "# h(1x4) = x(1x2)W(2x4) + b(1x4)\n",
        "# h1 = x1 * w11 + x2w21 + b1\n",
        "# x : 입력\n",
        "# h: 은닉층 뉴런\n",
        "# W : 가중치\n",
        "# b: 편향"
      ],
      "metadata": {
        "id": "phvb-51Y3VeC"
      },
      "execution_count": null,
      "outputs": []
    },
    {
      "cell_type": "code",
      "source": [
        "import numpy as np\n",
        "W1  = np.random.randn(2,4) ; W1 # 2x4 # "
      ],
      "metadata": {
        "id": "6tZv_vmr30sX",
        "colab": {
          "base_uri": "https://localhost:8080/"
        },
        "outputId": "a306cf05-e674-4587-9dd6-5d4326b441ff"
      },
      "execution_count": null,
      "outputs": [
        {
          "output_type": "execute_result",
          "data": {
            "text/plain": [
              "array([[ 1.21648767, -0.48698938, -0.55972081, -0.33360003],\n",
              "       [-0.07943261,  0.33523018,  1.91602756,  0.49719856]])"
            ]
          },
          "metadata": {},
          "execution_count": 1
        }
      ]
    },
    {
      "cell_type": "code",
      "source": [
        "b1 = np.random.randn(4); b1 # 편향 "
      ],
      "metadata": {
        "id": "e6aGiZ9o3mUg",
        "colab": {
          "base_uri": "https://localhost:8080/"
        },
        "outputId": "a99f587a-770d-4f09-d5c2-c984faa7c303"
      },
      "execution_count": null,
      "outputs": [
        {
          "output_type": "execute_result",
          "data": {
            "text/plain": [
              "array([ 0.09281632, -1.32468704,  0.1211265 ,  1.45028844])"
            ]
          },
          "metadata": {},
          "execution_count": 2
        }
      ]
    },
    {
      "cell_type": "code",
      "source": [
        "x = np.random.randn(10,2) ;x  # 10개의 샘플 데이터 10x2"
      ],
      "metadata": {
        "colab": {
          "base_uri": "https://localhost:8080/"
        },
        "id": "OkSttPPMNPjj",
        "outputId": "9d420973-fd08-4356-fc85-c3b4f5606b22"
      },
      "execution_count": null,
      "outputs": [
        {
          "output_type": "execute_result",
          "data": {
            "text/plain": [
              "array([[-0.79263062, -0.75536546],\n",
              "       [-0.96074454, -0.7729176 ],\n",
              "       [ 0.27417157,  1.24564265],\n",
              "       [-0.17863988, -0.25924527],\n",
              "       [-1.5889804 ,  0.12993258],\n",
              "       [ 0.79132852, -0.05668989],\n",
              "       [ 2.02010822,  0.22829108],\n",
              "       [ 1.57134666, -0.50833922],\n",
              "       [ 0.31941044, -0.37383323],\n",
              "       [ 1.06823862,  0.33171146]])"
            ]
          },
          "metadata": {},
          "execution_count": 3
        }
      ]
    },
    {
      "cell_type": "code",
      "source": [
        "h = np.matmul(x, W1)+b1 ; h # b1은 브로드캐스트됨, (4,) -> (10,4)로 복제됨\n",
        "# 은닉층의 뉴런은 4개"
      ],
      "metadata": {
        "colab": {
          "base_uri": "https://localhost:8080/"
        },
        "id": "CIATYmBaNR5z",
        "outputId": "9db0e29a-02be-42bf-ac3c-b804f977189d"
      },
      "execution_count": null,
      "outputs": [
        {
          "output_type": "execute_result",
          "data": {
            "text/plain": [
              "array([[-0.8114084 , -1.19190565, -0.88252269,  1.33914341],\n",
              "       [-1.01452271, -1.11591996, -0.8220562 ,  1.38649933],\n",
              "       [ 0.327398  , -1.04062868,  2.3543526 ,  1.97815653],\n",
              "       [-0.10390437, -1.32459816, -0.27560613,  1.38098633],\n",
              "       [-1.85047963, -0.50731314,  1.2594663 ,  2.04497463],\n",
              "       [ 1.05996073, -1.72905979, -0.43041594,  1.15811509],\n",
              "       [ 2.5321193 , -2.23192823, -0.57215811,  0.88988629],\n",
              "       [ 2.04471886, -2.26032683, -1.73238088,  0.67334163],\n",
              "       [ 0.51106973, -1.60555672, -0.77392894,  1.15786377],\n",
              "       [ 1.36596671, -1.73370821,  0.1587794 ,  1.25885047]])"
            ]
          },
          "metadata": {},
          "execution_count": 6
        }
      ]
    },
    {
      "cell_type": "code",
      "source": [
        "def sigmoid(x):\n",
        "  return 1 / (1+np.exp(-x))"
      ],
      "metadata": {
        "id": "P7axyvAdNjS2"
      },
      "execution_count": null,
      "outputs": []
    },
    {
      "cell_type": "code",
      "source": [
        "a=sigmoid(h);a"
      ],
      "metadata": {
        "colab": {
          "base_uri": "https://localhost:8080/"
        },
        "id": "AhWjMziwN2pD",
        "outputId": "e1879bec-e2e5-4057-9ee0-ee41eb0edc3e"
      },
      "execution_count": null,
      "outputs": [
        {
          "output_type": "execute_result",
          "data": {
            "text/plain": [
              "array([[0.30759045, 0.23291829, 0.29265529, 0.79234904],\n",
              "       [0.26609568, 0.24676887, 0.30532736, 0.80003279],\n",
              "       [0.58112614, 0.26102871, 0.91327957, 0.87848451],\n",
              "       [0.47404725, 0.2100543 , 0.43153132, 0.79914936],\n",
              "       [0.13581659, 0.3758236 , 0.77893422, 0.88543885],\n",
              "       [0.74268304, 0.15070788, 0.39402701, 0.76099005],\n",
              "       [0.92636305, 0.09691974, 0.360739  , 0.70886671],\n",
              "       [0.8854129 , 0.09446241, 0.15028329, 0.662251  ],\n",
              "       [0.62505721, 0.16720642, 0.31562981, 0.76094433],\n",
              "       [0.79672773, 0.15011387, 0.53961167, 0.77882816]])"
            ]
          },
          "metadata": {},
          "execution_count": 9
        }
      ]
    },
    {
      "cell_type": "code",
      "source": [
        "W2 = np.random.randn(4,3); W2"
      ],
      "metadata": {
        "colab": {
          "base_uri": "https://localhost:8080/"
        },
        "id": "tw8iW2SINU2b",
        "outputId": "e01b0cb5-2afb-43e4-a7b7-405d6351d932"
      },
      "execution_count": null,
      "outputs": [
        {
          "output_type": "execute_result",
          "data": {
            "text/plain": [
              "array([[-1.37739058, -1.37091245,  1.02414928],\n",
              "       [ 0.53476128, -0.57238529, -1.18448979],\n",
              "       [ 0.78459979, -1.51697355, -0.88192149],\n",
              "       [ 0.2837107 ,  0.82732871, -0.72231865]])"
            ]
          },
          "metadata": {},
          "execution_count": 12
        }
      ]
    },
    {
      "cell_type": "code",
      "source": [
        "b2 = np.random.randn(3) ; b1"
      ],
      "metadata": {
        "colab": {
          "base_uri": "https://localhost:8080/"
        },
        "id": "N_s59bX2OTB8",
        "outputId": "7f24367d-fb22-4d99-878e-812733989fdd"
      },
      "execution_count": null,
      "outputs": [
        {
          "output_type": "execute_result",
          "data": {
            "text/plain": [
              "array([-0.08098443, -0.3624163 , -1.45582362])"
            ]
          },
          "metadata": {},
          "execution_count": 14
        }
      ]
    },
    {
      "cell_type": "code",
      "source": [
        "s = np.matmul(a, W2) + b2;s # 10x3 3차원 데이터로 변환되었다는 의미 / 3개의 분류를 할 수 있음"
      ],
      "metadata": {
        "colab": {
          "base_uri": "https://localhost:8080/"
        },
        "id": "5cd9kkMBOUOX",
        "outputId": "23ded0fb-a3de-49f8-fc36-e2f1aeda7ffb"
      },
      "execution_count": null,
      "outputs": [
        {
          "output_type": "execute_result",
          "data": {
            "text/plain": [
              "array([[ 0.37118812, -0.25582204,  0.46471824],\n",
              "       [ 0.44787185, -0.21973042,  0.38908963],\n",
              "       [ 0.52083425, -1.51711378,  0.10200395],\n",
              "       [ 0.24057675, -0.67597789,  0.53488725],\n",
              "       [ 1.09215297, -0.76278842, -0.37657407],\n",
              "       [-0.2014279 , -0.98496228,  0.94094466],\n",
              "       [-0.52409655, -1.19861005,  1.25977899],\n",
              "       [-0.64735516, -0.86037521,  1.44002741],\n",
              "       [-0.09211181, -0.71426242,  0.8701091 ],\n",
              "       [-0.15689965, -1.2648029 ,  0.85571906]])"
            ]
          },
          "metadata": {},
          "execution_count": 16
        }
      ]
    },
    {
      "cell_type": "code",
      "source": [
        "# 완전연결계층에 의한 변환은 기하학에서의 아핀변환에 해당(Affine)\n",
        "# 계층은 파이썬 클래스로 구현하며, 기본변환을 수행하는 메서드의 이름은 forward()\n",
        "# 모든 계층은 forward() / backward()를 가짐\n",
        "# 모든계층은 인스턴스 변수인 params / Grads를 가짐\n",
        "# params : 가중치와 편향같은 매개변수를 담은 리스트\n",
        "# grads : params에 저장된 각 매개변수에 대응하여 해당 매개변수의 기울기를 보관하는 리스트\n"
      ],
      "metadata": {
        "id": "iePQD3KWOeCt"
      },
      "execution_count": null,
      "outputs": []
    },
    {
      "cell_type": "code",
      "source": [
        "import numpy as np\n",
        "class Sigmoid:\n",
        "  def __init__(self): \n",
        "    self.params = []\n",
        "  \n",
        "  def forward(self, x):\n",
        "    return 1/ (1+np.exp(-x))\n",
        "# 주변환처리는 forward(x) 메서드가 담당함\n"
      ],
      "metadata": {
        "id": "vHtrwZYtQjuP"
      },
      "execution_count": null,
      "outputs": []
    },
    {
      "cell_type": "code",
      "source": [
        "class Affine:\n",
        "  def __init__(self, W,b):\n",
        "    self.params = [W,b]\n",
        "  \n",
        "  def forward(self,x):\n",
        "    W, b = self.params \n",
        "    out = np.matmul(x,W) + b\n",
        "    return out\n",
        "   # 초기화할때 가중치와 편향을 받음\n",
        "   #  "
      ],
      "metadata": {
        "id": "II82XECdQzyN"
      },
      "execution_count": null,
      "outputs": []
    },
    {
      "cell_type": "code",
      "source": [
        "# x-affine-sigmoid-affine-s 구현해보기\n",
        "\n",
        "class TwoLayerNet:\n",
        "  def __init__(self, input_size, hidden_size, output_size):\n",
        "    I,H,O = input_size, hidden_size, output_size\n",
        "    #가중치편향초기화\n",
        "    W1 = np.random.randn(I, H)\n",
        "    b1 = np.random.randn(H)\n",
        "    W2 = np.random.randn(H,O)\n",
        "    b2 = np.random.randn(O)\n",
        "\n",
        "    #계층생성 / 3개의 계층을 생성함\n",
        "    self.layers = [Affine(W1,b1), Sigmoid(), Affine(W2,b2)]\n",
        "\n",
        "    # 모든 가중치를 리스트에 모은다\n",
        "    self.params = []\n",
        "    for layer in self.layers: \n",
        "      self.params += layer.params\n",
        "  \n",
        "  def predict(self, x):\n",
        "    for layer in self.layers:\n",
        "      x = layer.forward(x)\n",
        "    return x"
      ],
      "metadata": {
        "id": "helnhOirRFYB"
      },
      "execution_count": null,
      "outputs": []
    },
    {
      "cell_type": "code",
      "source": [
        "a = ['A', 'B']\n",
        "a+= ['C','D']\n",
        "a"
      ],
      "metadata": {
        "colab": {
          "base_uri": "https://localhost:8080/"
        },
        "id": "J6C84UEER4LI",
        "outputId": "7bd00f3d-a220-4e5c-b13d-d09397f95dec"
      },
      "execution_count": null,
      "outputs": [
        {
          "output_type": "execute_result",
          "data": {
            "text/plain": [
              "['A', 'B', 'C', 'D']"
            ]
          },
          "metadata": {},
          "execution_count": 32
        }
      ]
    },
    {
      "cell_type": "code",
      "source": [
        "x = np.random.randn(10,2)\n",
        "model = TwoLayerNet(2,4,3)\n",
        "s=model.predict(x)"
      ],
      "metadata": {
        "id": "GVbFuRe1SiY5"
      },
      "execution_count": null,
      "outputs": []
    },
    {
      "cell_type": "code",
      "source": [
        "s"
      ],
      "metadata": {
        "colab": {
          "base_uri": "https://localhost:8080/"
        },
        "id": "lb2FV0qMSveD",
        "outputId": "154e137f-7719-49c8-da8f-bb5a35a97748"
      },
      "execution_count": null,
      "outputs": [
        {
          "output_type": "execute_result",
          "data": {
            "text/plain": [
              "array([[-1.50968998, -3.69145486, -0.59078053],\n",
              "       [-1.6117588 , -4.22416638, -0.71167142],\n",
              "       [-0.49862053, -2.90384628, -1.64117301],\n",
              "       [-0.73843196, -2.6384056 , -0.9049674 ],\n",
              "       [-0.96349443, -2.85194653, -0.70539678],\n",
              "       [-0.42929553, -2.41121233, -1.55367667],\n",
              "       [-1.5465118 , -3.96349097, -0.71224558],\n",
              "       [-0.90985446, -3.14941086, -1.01884055],\n",
              "       [-0.82460339, -2.64136731, -0.77112327],\n",
              "       [-0.98907426, -3.44949816, -1.19451352]])"
            ]
          },
          "metadata": {},
          "execution_count": 34
        }
      ]
    },
    {
      "cell_type": "code",
      "source": [
        "#학습되지 않은 신경망은 좋은추론을 해낼수없음\n",
        "#학습을 먼저 수행하고, 그 학습된 매개변수를 이용해 추론을 수행하는 흐름이 일반적\n"
      ],
      "metadata": {
        "id": "OihKEYbISsGy"
      },
      "execution_count": null,
      "outputs": []
    },
    {
      "cell_type": "code",
      "source": [
        "# 손실함수 :학습이 얼마나 잘 되고 있는지를 알기 위한 척도, 신경망의 성능을 나타내는 척도로 손실을 사용\n",
        "# 예측한 결과를 비교하여 예측이 얼마나 나쁜가를 산출한 단일값(스칼라)\n",
        "# 교차엔트로피 오차(cross entropy error) : 예측한 확률과 정답레이블을 이요해 계산\n",
        "#"
      ],
      "metadata": {
        "id": "vFeG2sa0aPpl"
      },
      "execution_count": null,
      "outputs": []
    },
    {
      "cell_type": "code",
      "source": [
        "# x-affine-sigmoid-affine-softmax-crossentropy-error-L 과정구현\n",
        "# 소프트 맥스의 출력값은 0~1실수\n"
      ],
      "metadata": {
        "id": "IdCLu6GCaoBF"
      },
      "execution_count": null,
      "outputs": []
    },
    {
      "cell_type": "code",
      "source": [
        "# 기울기 개념의 등장 : 수학에서 말하는 기울기와는 다름, 수학에서의 기울기는 벡터에 대한 미분으로 한정, 한편 딥러닝에서는 행렬이나 텐서에 대해서도 미분을 정의함\n",
        "# 국소적인 미분을 구할수있다면 전체의 미분을 구할수있게하는 아이디어 : 연쇄법칙\n"
      ],
      "metadata": {
        "id": "RDpEemVSvgkg"
      },
      "execution_count": null,
      "outputs": []
    },
    {
      "cell_type": "code",
      "source": [
        "# 역전파 종류-\n",
        "# 덧셈노드\n",
        "# 곱셈노드\n",
        "# 분기노드\n",
        "# REPEAT노드(N개의 분기노드)\n",
        "# SUM노드\n",
        "# MATMUL노드"
      ],
      "metadata": {
        "id": "EOL3IT7CSitg"
      },
      "execution_count": null,
      "outputs": []
    },
    {
      "cell_type": "code",
      "source": [
        "import numpy as np\n",
        "D, N = 8,7\n",
        "x = np.random.randn(1,D);x # 8 개랜덤값"
      ],
      "metadata": {
        "colab": {
          "base_uri": "https://localhost:8080/"
        },
        "id": "42xbZ2TKRBsu",
        "outputId": "caf37aa8-7224-45c1-bd43-6b889d35e0d3"
      },
      "execution_count": null,
      "outputs": [
        {
          "output_type": "execute_result",
          "data": {
            "text/plain": [
              "array([[-0.5794089 , -0.4090421 ,  0.11616307, -0.80426539,  0.86277395,\n",
              "        -0.22785349,  1.2346049 ,  0.36791626]])"
            ]
          },
          "metadata": {},
          "execution_count": 39
        }
      ]
    },
    {
      "cell_type": "code",
      "source": [
        "y = np.repeat(x,N, axis=0); y # x를 N번 반복"
      ],
      "metadata": {
        "colab": {
          "base_uri": "https://localhost:8080/"
        },
        "id": "i8M4znzyxCzF",
        "outputId": "919ecb33-0765-49ab-f6d9-7303b7235e22"
      },
      "execution_count": null,
      "outputs": [
        {
          "output_type": "execute_result",
          "data": {
            "text/plain": [
              "array([[-0.5794089 , -0.4090421 ,  0.11616307, -0.80426539,  0.86277395,\n",
              "        -0.22785349,  1.2346049 ,  0.36791626],\n",
              "       [-0.5794089 , -0.4090421 ,  0.11616307, -0.80426539,  0.86277395,\n",
              "        -0.22785349,  1.2346049 ,  0.36791626],\n",
              "       [-0.5794089 , -0.4090421 ,  0.11616307, -0.80426539,  0.86277395,\n",
              "        -0.22785349,  1.2346049 ,  0.36791626],\n",
              "       [-0.5794089 , -0.4090421 ,  0.11616307, -0.80426539,  0.86277395,\n",
              "        -0.22785349,  1.2346049 ,  0.36791626],\n",
              "       [-0.5794089 , -0.4090421 ,  0.11616307, -0.80426539,  0.86277395,\n",
              "        -0.22785349,  1.2346049 ,  0.36791626],\n",
              "       [-0.5794089 , -0.4090421 ,  0.11616307, -0.80426539,  0.86277395,\n",
              "        -0.22785349,  1.2346049 ,  0.36791626],\n",
              "       [-0.5794089 , -0.4090421 ,  0.11616307, -0.80426539,  0.86277395,\n",
              "        -0.22785349,  1.2346049 ,  0.36791626]])"
            ]
          },
          "metadata": {},
          "execution_count": 40
        }
      ]
    },
    {
      "cell_type": "code",
      "source": [
        "dx = np.random.randn(N,D) ;dx.shape"
      ],
      "metadata": {
        "colab": {
          "base_uri": "https://localhost:8080/"
        },
        "id": "nR9alEL6QvnM",
        "outputId": "06ec67bc-c13d-46ea-8115-4452314cb05d"
      },
      "execution_count": null,
      "outputs": [
        {
          "output_type": "execute_result",
          "data": {
            "text/plain": [
              "(7, 8)"
            ]
          },
          "metadata": {},
          "execution_count": 41
        }
      ]
    },
    {
      "cell_type": "code",
      "source": [
        "dy = np.sum(dx, axis=0, keepdims=True);dy #  keepdims=True : 2차원을 유지시킴\n",
        "# (1,D) 출력 NOT (D)"
      ],
      "metadata": {
        "colab": {
          "base_uri": "https://localhost:8080/"
        },
        "id": "l-GuZAhuOXIL",
        "outputId": "02546eca-1c9a-4aa2-94aa-f4379035e333"
      },
      "execution_count": null,
      "outputs": [
        {
          "output_type": "execute_result",
          "data": {
            "text/plain": [
              "array([[ 1.75530335,  2.4007671 ,  0.80061987,  3.1102779 ,  0.78699361,\n",
              "         0.44033144,  1.3401611 , -2.93366021]])"
            ]
          },
          "metadata": {},
          "execution_count": 45
        }
      ]
    },
    {
      "cell_type": "code",
      "source": [
        "dy.ndim"
      ],
      "metadata": {
        "colab": {
          "base_uri": "https://localhost:8080/"
        },
        "id": "Bfl4VmG3xixg",
        "outputId": "d415d1b4-342c-499f-8c10-8e34103946dc"
      },
      "execution_count": null,
      "outputs": [
        {
          "output_type": "execute_result",
          "data": {
            "text/plain": [
              "2"
            ]
          },
          "metadata": {},
          "execution_count": 46
        }
      ]
    },
    {
      "cell_type": "code",
      "source": [
        "# SUM노드의 역전파\n",
        "D,N = 8,7 \n",
        "x=np.random.randn(N,D)\n",
        "y=np.sum(x, axis=0, keepdims=True) \n",
        "dx = np.random.randn(1,D)\n",
        "dy = np.repeat(dy, N, axis=0)"
      ],
      "metadata": {
        "id": "Fmp8KVWxxWXQ"
      },
      "execution_count": null,
      "outputs": []
    },
    {
      "cell_type": "code",
      "source": [
        "# matmul노드의 역전파\n",
        "# y = xW\n",
        "# (1,H) = (1,D) * (D,H) \n",
        "# (N,H) = (N,D) * (D,H) / 미니배치 처리인 경우\n",
        "\n"
      ],
      "metadata": {
        "id": "rDottCRByvAM"
      },
      "execution_count": null,
      "outputs": []
    },
    {
      "cell_type": "code",
      "source": [
        "class MatMul:\n",
        "  def __init__(self, W):\n",
        "    self.params = [W]\n",
        "    self.grads = [np.zeros_like(W)]\n",
        "    self.x = None  \n",
        "  \n",
        "  def forward(self, x): \n",
        "    W, = self.params  \n",
        "    out = np.matmul(x, W)\n",
        "    self.x = x\n",
        "    return out \n",
        "  \n",
        "  def  backward(self, dout ):\n",
        "    W, = self.params \n",
        "    dx = np.matmul(dout, W.T) \n",
        "    dy = np.matmul(self.x.T, dout )\n",
        "    self.grads[0][...] = dW  # 기울기값 설정하는 부분, 생략기호 ... 사용. 넘파이 배열이 가리키는 메모리 위치를 고정시킨 다음, 그 위치에 원소들을 덮어씀\n",
        "    # 생략기호는 넘파이 배열의 덮어쓰기를 수행\n",
        "    # grads[0] =dw처럼 그냥 할당하면 얕은 복사가 이루어지고 grads[0][...]= dw처럼 덮어쓰면 깊은 복사가 이뤄짐\n",
        "    return dx "
      ],
      "metadata": {
        "id": "GZTA_u6HX3ko"
      },
      "execution_count": null,
      "outputs": []
    },
    {
      "cell_type": "code",
      "source": [
        "a = np.array([1,2,3])\n",
        "b = np.array([4,5,6])\n",
        "a=b;a"
      ],
      "metadata": {
        "colab": {
          "base_uri": "https://localhost:8080/"
        },
        "id": "tQhjcELRkCPG",
        "outputId": "eacd36f3-9bbe-4cc4-96df-57e6aa3a21c2"
      },
      "execution_count": null,
      "outputs": [
        {
          "output_type": "execute_result",
          "data": {
            "text/plain": [
              "array([4, 5, 6])"
            ]
          },
          "metadata": {},
          "execution_count": 9
        }
      ]
    },
    {
      "cell_type": "code",
      "source": [
        "a = np.array([1,2,3])\n",
        "b = np.array([4,5,6])\n",
        "a[...]=b;a"
      ],
      "metadata": {
        "colab": {
          "base_uri": "https://localhost:8080/"
        },
        "id": "46WVHXrIkQUC",
        "outputId": "869ab379-ad8c-4259-cd4a-9efd7dfba823"
      },
      "execution_count": null,
      "outputs": [
        {
          "output_type": "execute_result",
          "data": {
            "text/plain": [
              "array([4, 5, 6])"
            ]
          },
          "metadata": {},
          "execution_count": 8
        }
      ]
    },
    {
      "cell_type": "code",
      "source": [
        "# a에는 모두 [4,5,6]이 할당됨\n",
        "# 두경우, A가 가리키는 메모리의 위치가 서로 다름\n",
        "# 생략기호를 이요하여 변수의 메모리 주소를 고정할 수 있음\n",
        "# 메모리 주소를 고정함으로써 인스턴스 변수 grads를 다루기가 더 쉬워짐\n",
        "# grads리스트에는 각 매개변수의 기울기를 저장함. 생략기호를 사용하므로 이 넘파이 배열의 메모리 주소가 변하는 일 없이 항상 값을 덮어씀\n",
        "# 이렇게 하면 기울기를 그룹화하는 작업을 최초에 한번만 하면 된다는 이점이 생김\n"
      ],
      "metadata": {
        "id": "bafeY0NWhYDr"
      },
      "execution_count": null,
      "outputs": []
    },
    {
      "cell_type": "code",
      "source": [
        "# 기울기의 도출과 역전파 구현\n",
        "# 1. sigmoid계층\n",
        "class Sigmoid:\n",
        "  def __init__(self):\n",
        "    self.params , self.grads =[],[]\n",
        "    self.out = None \n",
        "  \n",
        "  def forward(self, x):\n",
        "    out = 1/(1+np.exp(-x))\n",
        "    self.out = out \n",
        "    return out \n",
        "  \n",
        "  def backward(self, dout) : \n",
        "    dx = dout * (1-self.out) * self.out \n",
        "    return dx  \n",
        "  "
      ],
      "metadata": {
        "id": "RhiD0wQ31rhu"
      },
      "execution_count": null,
      "outputs": []
    },
    {
      "cell_type": "code",
      "source": [
        "# affine 계층\n",
        "# 순전파 : y=np.matmul(x,W)+b\n",
        "# 편향을 더할때는 넘파이의 브로드캐스트가 사용됨\n",
        "class Affine:\n",
        "  def __init__(self,W,b):\n",
        "    self.params = [W,b]\n",
        "    self.grads = [np.zeros_like(W), np.zeros_like(b)]\n",
        "    self.x = None\n",
        "\n",
        "  def forward(self,x):\n",
        "    W,b = self.params\n",
        "    out = np.matmul(x,W) + b\n",
        "    self.x = x\n",
        "    return out \n",
        "  \n",
        "  def backward(self, dout):\n",
        "    W,b = self.params\n",
        "    dx = np.matmul(dout, W.T) \n",
        "    dW = np.matmul(self.x.T, dout)\n",
        "    db = np.sum(dout, axis = 0)\n",
        "    self.grads[0][...] = dW \n",
        "    self.grads[1][...] = db \n",
        "    return dx \n",
        "\n"
      ],
      "metadata": {
        "id": "64Fgwilz2JbR"
      },
      "execution_count": null,
      "outputs": []
    },
    {
      "cell_type": "code",
      "source": [
        "# soft max with loss 계층\n",
        "#소프트 맥스함수와 교차 엔트로피 오차는 하나의 계층으로 구현할 것\n"
      ],
      "metadata": {
        "id": "QO_amO3tkua3"
      },
      "execution_count": null,
      "outputs": []
    },
    {
      "cell_type": "code",
      "source": [
        "# SGD구현\n",
        "class SGD:\n",
        "  def __init__(self, lr=0.01):\n",
        "    self.lr = lr\n",
        "  \n",
        "  def update(self, params, grads):\n",
        "    for i in range(len(params)):\n",
        "      params[i] -= self.lr * grads[i]\n",
        "      "
      ],
      "metadata": {
        "id": "eJGMzkKyOxKY"
      },
      "execution_count": null,
      "outputs": []
    },
    {
      "cell_type": "code",
      "source": [
        ""
      ],
      "metadata": {
        "id": "EMKT6xQlO-zt"
      },
      "execution_count": null,
      "outputs": []
    },
    {
      "cell_type": "code",
      "source": [
        "import sys\n",
        "sys.path"
      ],
      "metadata": {
        "colab": {
          "base_uri": "https://localhost:8080/"
        },
        "id": "wbJvA1-RXgNO",
        "outputId": "bf31088f-e051-4423-d5bb-b7b58d4b5f41"
      },
      "execution_count": null,
      "outputs": [
        {
          "output_type": "execute_result",
          "data": {
            "text/plain": [
              "['',\n",
              " '/content',\n",
              " '/env/python',\n",
              " '/usr/lib/python37.zip',\n",
              " '/usr/lib/python3.7',\n",
              " '/usr/lib/python3.7/lib-dynload',\n",
              " '/usr/local/lib/python3.7/dist-packages',\n",
              " '/usr/lib/python3/dist-packages',\n",
              " '/usr/local/lib/python3.7/dist-packages/IPython/extensions',\n",
              " '/root/.ipython']"
            ]
          },
          "metadata": {},
          "execution_count": 26
        }
      ]
    },
    {
      "cell_type": "code",
      "source": [
        "\n",
        "sys.path.append('/content/deep-learning-from-scratch-2')"
      ],
      "metadata": {
        "id": "eh1thlxMZIzw"
      },
      "execution_count": null,
      "outputs": []
    },
    {
      "cell_type": "code",
      "source": [
        "!pip install dataset"
      ],
      "metadata": {
        "colab": {
          "base_uri": "https://localhost:8080/"
        },
        "id": "XJCDCxFjXxBV",
        "outputId": "1413a654-bec1-4cee-d962-8d1536aa6978"
      },
      "execution_count": null,
      "outputs": [
        {
          "output_type": "stream",
          "name": "stdout",
          "text": [
            "Collecting dataset\n",
            "  Downloading dataset-1.5.2-py2.py3-none-any.whl (18 kB)\n",
            "Collecting banal>=1.0.1\n",
            "  Downloading banal-1.0.6-py2.py3-none-any.whl (6.1 kB)\n",
            "Requirement already satisfied: sqlalchemy>=1.3.2 in /usr/local/lib/python3.7/dist-packages (from dataset) (1.4.31)\n",
            "Collecting alembic>=0.6.2\n",
            "  Downloading alembic-1.7.6-py3-none-any.whl (210 kB)\n",
            "\u001b[K     |████████████████████████████████| 210 kB 5.2 MB/s \n",
            "\u001b[?25hRequirement already satisfied: importlib-resources in /usr/local/lib/python3.7/dist-packages (from alembic>=0.6.2->dataset) (5.4.0)\n",
            "Requirement already satisfied: importlib-metadata in /usr/local/lib/python3.7/dist-packages (from alembic>=0.6.2->dataset) (4.11.1)\n",
            "Collecting Mako\n",
            "  Downloading Mako-1.1.6-py2.py3-none-any.whl (75 kB)\n",
            "\u001b[K     |████████████████████████████████| 75 kB 3.4 MB/s \n",
            "\u001b[?25hRequirement already satisfied: greenlet!=0.4.17 in /usr/local/lib/python3.7/dist-packages (from sqlalchemy>=1.3.2->dataset) (1.1.2)\n",
            "Requirement already satisfied: zipp>=0.5 in /usr/local/lib/python3.7/dist-packages (from importlib-metadata->alembic>=0.6.2->dataset) (3.7.0)\n",
            "Requirement already satisfied: typing-extensions>=3.6.4 in /usr/local/lib/python3.7/dist-packages (from importlib-metadata->alembic>=0.6.2->dataset) (3.10.0.2)\n",
            "Requirement already satisfied: MarkupSafe>=0.9.2 in /usr/local/lib/python3.7/dist-packages (from Mako->alembic>=0.6.2->dataset) (2.0.1)\n",
            "Installing collected packages: Mako, banal, alembic, dataset\n",
            "Successfully installed Mako-1.1.6 alembic-1.7.6 banal-1.0.6 dataset-1.5.2\n"
          ]
        }
      ]
    },
    {
      "cell_type": "code",
      "source": [
        "from dataset import spiral  "
      ],
      "metadata": {
        "id": "EowZsxxCXrQ9"
      },
      "execution_count": null,
      "outputs": []
    },
    {
      "cell_type": "code",
      "source": [
        "import matplotlib.pyplot as plt \n",
        "x,t = spiral.load_data()\n",
        "\n",
        "print('x', x.shape)\n",
        "print('t', t.shape)"
      ],
      "metadata": {
        "colab": {
          "base_uri": "https://localhost:8080/"
        },
        "id": "KyWC0AfiXu94",
        "outputId": "36d5dbbf-5fd3-4092-881b-a5560d7e293d"
      },
      "execution_count": null,
      "outputs": [
        {
          "output_type": "stream",
          "name": "stdout",
          "text": [
            "x (300, 2)\n",
            "t (300, 3)\n"
          ]
        }
      ]
    },
    {
      "cell_type": "code",
      "source": [
        "from common.layers import Affine, Sigmoid, SoftmaxWithLoss\n",
        "\n",
        "class TwoLayerNet:\n",
        "  def __init__(self, input_size, hidden_size, output_size):\n",
        "    I,H,O = input_size, hidden_size, output_size \n",
        "    #가중치와 편향초기화\n",
        "    W1 = 0.01 * np.random.randn(I,H)\n",
        "    b1 = np.zeros(H)\n",
        "    W2 = 0.01 * np.random.randn(H,O)\n",
        "    b2 = np.zeros(0)\n",
        "\n",
        "    # 계층생성\n",
        "    self.layers = [Affine(W1, b1), Sigmoid(), Affine(W2,b2)]\n",
        "    self.loss_layer = SoftmaxWithLoss()\n",
        "\n",
        "    # 모든 가중치와 기울기를 리스트에 모음\n",
        "    self.params , self.grads = [], []\n",
        "    for layer in self.layers : \n",
        "      self.params += layer.params\n",
        "      self.grads += layer.grads \n",
        "\n",
        "  def predic(self, x):\n",
        "    for layer in self.layers : \n",
        "      x = layer.forward(x)\n",
        "    return x \n",
        "  \n",
        "\n",
        "  def forward(self, x, t):\n",
        "    score = self.predict(x)\n",
        "    loss = self.loss_layer.forward(score,t)\n",
        "    return loss  \n",
        "  \n",
        "  def backward(self, dout=1): \n",
        "    dout = self.loss_layer.backward(dout) \n",
        "    for layer in reversed(self.layers):\n",
        "      dout = layer.backward(dout) \n",
        "    return dout \n"
      ],
      "metadata": {
        "id": "83Zh5_MqY49C"
      },
      "execution_count": null,
      "outputs": []
    },
    {
      "cell_type": "code",
      "source": [
        "# 학습용 코드\n"
      ],
      "metadata": {
        "id": "R8Cnx9m8e4xa"
      },
      "execution_count": null,
      "outputs": []
    },
    {
      "cell_type": "markdown",
      "source": [
        "# ch2. 자연어와 단어의 분산 표현 "
      ],
      "metadata": {
        "id": "SB_WL3m1fl1j"
      }
    },
    {
      "cell_type": "code",
      "source": [
        "# 단어의 의미 이해시키기\n",
        "# 1. 시소러스를 활용한 기법(유의어 사전활용)\n",
        "# 2. 통계 기반기법\n",
        "# 3. 추론기반기법(word2vec)\n"
      ],
      "metadata": {
        "id": "XC4ZbVG-fpL7"
      },
      "execution_count": null,
      "outputs": []
    },
    {
      "cell_type": "code",
      "source": [
        "# 1.시로러스 활용\n",
        "# car=auto = automobile machine \n",
        "# 단어사이의 연결을 정의\n",
        "# 단어 네트워크를 이용하여 컴퓨터에게 단어 사이의 관계를 가르침\n",
        "# 워드넷 : 자연어 처리 분야에서 가장 유명한 시소러스/ 프린스턴 대학에서 1985년부터 구축하기 시작\n",
        "# 유의어를 얻거나 단어 네트워크를 이용할 수 있음\n",
        "# NLKT모듈을 설치하고 간단한 실험을 해볼예정\n",
        "# 시소러스의 문제점 : 단어의 의미를 사람이 수작업으로 레이블링하는 방식 : 시대변화에 대응하기 어려움, 사람을 쓰는 비용이 큼, 단어의 미묘한 차이를 표현할 수 없음(레트로, 빈티지)\n"
      ],
      "metadata": {
        "id": "StkHTKjmgEAd"
      },
      "execution_count": null,
      "outputs": []
    },
    {
      "cell_type": "code",
      "source": [
        "# 2.통계 기반 기법\n",
        "# 말뭉치(CORPUS)\n",
        "# "
      ],
      "metadata": {
        "id": "FHQ_Mj6eg5cN"
      },
      "execution_count": null,
      "outputs": []
    },
    {
      "cell_type": "code",
      "source": [
        "# 파이썬으로 말뭉치 전처리하기\n",
        "text= 'you say goodbye and i say hello.'\n",
        "text=text.lower()\n",
        "text= text.replace('.',' .')\n",
        "text"
      ],
      "metadata": {
        "colab": {
          "base_uri": "https://localhost:8080/",
          "height": 35
        },
        "id": "qBSJE270hAFQ",
        "outputId": "4fb5a433-eac7-4552-dc3d-f766a81e8741"
      },
      "execution_count": null,
      "outputs": [
        {
          "output_type": "execute_result",
          "data": {
            "application/vnd.google.colaboratory.intrinsic+json": {
              "type": "string"
            },
            "text/plain": [
              "'you say goodbye and i say hello .'"
            ]
          },
          "metadata": {},
          "execution_count": 6
        }
      ]
    },
    {
      "cell_type": "code",
      "source": [
        "words = text.split(' ')"
      ],
      "metadata": {
        "id": "9zdyeKEAgow6"
      },
      "execution_count": null,
      "outputs": []
    },
    {
      "cell_type": "code",
      "source": [
        "words"
      ],
      "metadata": {
        "colab": {
          "base_uri": "https://localhost:8080/"
        },
        "id": "wDp1x4sHhOy3",
        "outputId": "ce3a0aab-e9f8-4d9b-a1a5-fc7628ee169b"
      },
      "execution_count": null,
      "outputs": [
        {
          "output_type": "execute_result",
          "data": {
            "text/plain": [
              "['you', 'say', 'goodbye', 'and', 'i', 'say', 'hello', '.']"
            ]
          },
          "metadata": {},
          "execution_count": 8
        }
      ]
    },
    {
      "cell_type": "code",
      "source": [
        "word_to_id ={}\n",
        "id_to_word = {}\n",
        "for word in words:\n",
        "  if word not in word_to_id:\n",
        "    new_id = len(word_to_id) \n",
        "    word_to_id[word] = new_id \n",
        "    id_to_word[new_id] = word "
      ],
      "metadata": {
        "id": "fCP3BdZohPUZ"
      },
      "execution_count": null,
      "outputs": []
    },
    {
      "cell_type": "code",
      "source": [
        "len(word_to_id) "
      ],
      "metadata": {
        "colab": {
          "base_uri": "https://localhost:8080/"
        },
        "id": "ePPuK0iFog_c",
        "outputId": "430cf228-cf5d-4a29-b13e-7e65b5bdc0c3"
      },
      "execution_count": null,
      "outputs": [
        {
          "output_type": "execute_result",
          "data": {
            "text/plain": [
              "7"
            ]
          },
          "metadata": {},
          "execution_count": 16
        }
      ]
    },
    {
      "cell_type": "code",
      "source": [
        "id_to_word"
      ],
      "metadata": {
        "colab": {
          "base_uri": "https://localhost:8080/"
        },
        "id": "Yj0T23dhhiI_",
        "outputId": "0cf50bce-d136-451b-efed-665613be969c"
      },
      "execution_count": null,
      "outputs": [
        {
          "output_type": "execute_result",
          "data": {
            "text/plain": [
              "{0: 'you', 1: 'say', 2: 'goodbye', 3: 'and', 4: 'i', 5: 'hello', 6: '.'}"
            ]
          },
          "metadata": {},
          "execution_count": 17
        }
      ]
    },
    {
      "cell_type": "code",
      "source": [
        "word_to_id"
      ],
      "metadata": {
        "colab": {
          "base_uri": "https://localhost:8080/"
        },
        "id": "q9tQonUJhnFz",
        "outputId": "6106f869-3338-426c-bec2-065e94b6c5b4"
      },
      "execution_count": null,
      "outputs": [
        {
          "output_type": "execute_result",
          "data": {
            "text/plain": [
              "{'.': 6, 'and': 3, 'goodbye': 2, 'hello': 5, 'i': 4, 'say': 1, 'you': 0}"
            ]
          },
          "metadata": {},
          "execution_count": 18
        }
      ]
    },
    {
      "cell_type": "code",
      "source": [
        "id_to_word[1]"
      ],
      "metadata": {
        "colab": {
          "base_uri": "https://localhost:8080/",
          "height": 35
        },
        "id": "1PhA5UJjhobX",
        "outputId": "48ab07a2-73fd-43dc-d892-844846175879"
      },
      "execution_count": null,
      "outputs": [
        {
          "output_type": "execute_result",
          "data": {
            "application/vnd.google.colaboratory.intrinsic+json": {
              "type": "string"
            },
            "text/plain": [
              "'say'"
            ]
          },
          "metadata": {},
          "execution_count": 19
        }
      ]
    },
    {
      "cell_type": "code",
      "source": [
        "word_to_id['hello']"
      ],
      "metadata": {
        "colab": {
          "base_uri": "https://localhost:8080/"
        },
        "id": "X1zzmMLcX6_p",
        "outputId": "c5dc734a-9377-4d5f-f547-d43eb14e6875"
      },
      "execution_count": null,
      "outputs": [
        {
          "output_type": "execute_result",
          "data": {
            "text/plain": [
              "5"
            ]
          },
          "metadata": {},
          "execution_count": 20
        }
      ]
    },
    {
      "cell_type": "code",
      "source": [
        "words"
      ],
      "metadata": {
        "colab": {
          "base_uri": "https://localhost:8080/"
        },
        "id": "O_eTHVsrYJmJ",
        "outputId": "3dd42400-2e0d-44d2-c320-45f702bb66fd"
      },
      "execution_count": null,
      "outputs": [
        {
          "output_type": "execute_result",
          "data": {
            "text/plain": [
              "['you', 'say', 'goodbye', 'and', 'i', 'say', 'hello', '.']"
            ]
          },
          "metadata": {},
          "execution_count": 21
        }
      ]
    },
    {
      "cell_type": "code",
      "source": [
        "#단어목록을 단어 id목록으로 변경\n",
        "import numpy as np \n",
        "corpus = [word_to_id[w] for w in words] ;corpus"
      ],
      "metadata": {
        "colab": {
          "base_uri": "https://localhost:8080/"
        },
        "id": "5SgLNTkBX91B",
        "outputId": "5ca94ab2-05ea-4a75-8310-d9d19467d15c"
      },
      "execution_count": null,
      "outputs": [
        {
          "output_type": "execute_result",
          "data": {
            "text/plain": [
              "[0, 1, 2, 3, 4, 1, 5, 6]"
            ]
          },
          "metadata": {},
          "execution_count": 22
        }
      ]
    },
    {
      "cell_type": "code",
      "source": [
        "# 내포\n",
        "# 리스트나 딕셔너리 등의 반복문 처리를 간단하게 쓰기 위한기법\n",
        "xs = [1,2,3,4]\n",
        "[x**2 for x in xs]"
      ],
      "metadata": {
        "colab": {
          "base_uri": "https://localhost:8080/"
        },
        "id": "7_J_Z1VQYMzi",
        "outputId": "3e1834a9-88e4-483c-a6da-527a49bb74aa"
      },
      "execution_count": null,
      "outputs": [
        {
          "output_type": "execute_result",
          "data": {
            "text/plain": [
              "[1, 4, 9, 16]"
            ]
          },
          "metadata": {},
          "execution_count": 23
        }
      ]
    },
    {
      "cell_type": "code",
      "source": [
        "# 말뭉치를 이용하기 위한 사전준비 마침\n",
        "def preprocess(text):\n",
        "  text = text.lower()\n",
        "  text = text.replace('.', ' .')\n",
        "  words = text.split(' ')\n",
        "  word_to_id ={}\n",
        "  id_to_word ={}\n",
        "  for word in words:\n",
        "    if word not in word_to_id:\n",
        "      new_id = len(word_to_id)\n",
        "      word_to_id[word] = new_id\n",
        "      id_to_word[new_id] = word \n",
        "  corpus = np.array([word_to_id[w] for w in words])  \n",
        "  return corpus, word_to_id, id_to_word"
      ],
      "metadata": {
        "id": "koN3bNE6YZFE"
      },
      "execution_count": null,
      "outputs": []
    },
    {
      "cell_type": "code",
      "source": [
        "text = 'You say goodbye and I say hello.'\n",
        "corpus, word_to_id, id_to_word = preprocess(text)"
      ],
      "metadata": {
        "id": "2RjN9rtYY8vH"
      },
      "execution_count": null,
      "outputs": []
    },
    {
      "cell_type": "code",
      "source": [
        "corpus"
      ],
      "metadata": {
        "colab": {
          "base_uri": "https://localhost:8080/"
        },
        "id": "M64Rp5AlZFFl",
        "outputId": "ec25dadc-74ee-4dcf-e975-9d943ca3fafa"
      },
      "execution_count": null,
      "outputs": [
        {
          "output_type": "execute_result",
          "data": {
            "text/plain": [
              "array([0, 1, 2, 3, 4, 1, 5, 6])"
            ]
          },
          "metadata": {},
          "execution_count": 26
        }
      ]
    },
    {
      "cell_type": "code",
      "source": [
        "word_to_id"
      ],
      "metadata": {
        "colab": {
          "base_uri": "https://localhost:8080/"
        },
        "id": "MfUzTaXGZF3n",
        "outputId": "605f72f8-f81b-4100-d6f1-825f9b4d8bf3"
      },
      "execution_count": null,
      "outputs": [
        {
          "output_type": "execute_result",
          "data": {
            "text/plain": [
              "{'.': 6, 'and': 3, 'goodbye': 2, 'hello': 5, 'i': 4, 'say': 1, 'you': 0}"
            ]
          },
          "metadata": {},
          "execution_count": 27
        }
      ]
    },
    {
      "cell_type": "code",
      "source": [
        "id_to_word"
      ],
      "metadata": {
        "colab": {
          "base_uri": "https://localhost:8080/"
        },
        "id": "jIXyw6qhZG7w",
        "outputId": "16d93f6e-a053-49ef-b1c9-c31d7db21510"
      },
      "execution_count": null,
      "outputs": [
        {
          "output_type": "execute_result",
          "data": {
            "text/plain": [
              "{0: 'you', 1: 'say', 2: 'goodbye', 3: 'and', 4: 'i', 5: 'hello', 6: '.'}"
            ]
          },
          "metadata": {},
          "execution_count": 28
        }
      ]
    },
    {
      "cell_type": "code",
      "source": [
        "# 단어의 분산표현 : 단어를 고정길이의 밀집벡터로 변환\n",
        "# 분포가설\n",
        "# 단어를 벡터로 표현하는 연구는 수없이 이뤄져 왔음\n",
        "# 하나의 간단한 아이디어에 뿌리를 두고있음: 단어의 의미는 주변단어에 의해 형성된다는 점(분포가설)\n",
        "# 단어자체는 의미가 없고, 그 단어가 사용된 맥락이 의미를 형성함\n",
        "# i drink wine / we drink wine\n",
        "# i guzzle beer / we guzzle wine"
      ],
      "metadata": {
        "id": "iwkqu_UoZHt4"
      },
      "execution_count": null,
      "outputs": []
    },
    {
      "cell_type": "code",
      "source": [
        "# 동시발생 행렬\n",
        "# 어떤단어에 주목할때, 주변에 어떤단어가 몇번이나 등장하는지를 세어 집계하는 방식\n",
        "import sys\n",
        "sys.path.append('/content/deep-learning-from-scratch-2')\n",
        "from common.util import preprocess"
      ],
      "metadata": {
        "id": "UTpvh0zJbBPE"
      },
      "execution_count": null,
      "outputs": []
    },
    {
      "cell_type": "code",
      "source": [
        "text = 'You say goodbye and I say hello.'\n",
        "corpus, word_to_id, id_to_word = preprocess(text)"
      ],
      "metadata": {
        "id": "3slCadwMbVhR"
      },
      "execution_count": null,
      "outputs": []
    },
    {
      "cell_type": "code",
      "source": [
        "# co-occurance matrix\n",
        "C=np.array([\n",
        "    [0,1,0,0,0,0,0],\n",
        "    [1,0,1,0,1,1,0],\n",
        "    [0,1,0,1,0,0,0],\n",
        "    [0,0,1,0,1,0,0],\n",
        "    [0,1,0,1,0,0,0],\n",
        "    [0,1,0,1,0,0,1],\n",
        "    [0,0,0,0,0,1,0],\n",
        "], dtype=np.int32\n",
        ")"
      ],
      "metadata": {
        "id": "ybk-E5mqbjKw"
      },
      "execution_count": null,
      "outputs": []
    },
    {
      "cell_type": "code",
      "source": [
        "C"
      ],
      "metadata": {
        "colab": {
          "base_uri": "https://localhost:8080/"
        },
        "id": "eK7XRcNpcIef",
        "outputId": "c7ab907a-7f19-42f6-c272-16c66a909720"
      },
      "execution_count": null,
      "outputs": [
        {
          "output_type": "execute_result",
          "data": {
            "text/plain": [
              "array([[0, 1, 0, 0, 0, 0, 0],\n",
              "       [1, 0, 1, 0, 1, 1, 0],\n",
              "       [0, 1, 0, 1, 0, 0, 0],\n",
              "       [0, 0, 1, 0, 1, 0, 0],\n",
              "       [0, 1, 0, 1, 0, 0, 0],\n",
              "       [0, 1, 0, 1, 0, 0, 1],\n",
              "       [0, 0, 0, 0, 0, 1, 0]], dtype=int32)"
            ]
          },
          "metadata": {},
          "execution_count": 37
        }
      ]
    },
    {
      "cell_type": "code",
      "source": [
        "print(C[0]) #id가 0인 단어의 벡터표현"
      ],
      "metadata": {
        "colab": {
          "base_uri": "https://localhost:8080/"
        },
        "id": "WNQDbuaqcX_0",
        "outputId": "2bd1cc68-e4aa-4e54-fd85-4e73b2c8dd69"
      },
      "execution_count": null,
      "outputs": [
        {
          "output_type": "stream",
          "name": "stdout",
          "text": [
            "[0 1 0 0 0 0 0]\n"
          ]
        }
      ]
    },
    {
      "cell_type": "code",
      "source": [
        "print(C[4])# id가 4인 단어의 벡터표현"
      ],
      "metadata": {
        "colab": {
          "base_uri": "https://localhost:8080/"
        },
        "id": "On0ABN97cafo",
        "outputId": "b644a20a-5479-47bf-b9ad-2fb223769c52"
      },
      "execution_count": null,
      "outputs": [
        {
          "output_type": "stream",
          "name": "stdout",
          "text": [
            "[0 1 0 1 0 0 0]\n"
          ]
        }
      ]
    },
    {
      "cell_type": "code",
      "source": [
        "print(C[word_to_id['goodbye']]) # goodbye의 벡터표현"
      ],
      "metadata": {
        "colab": {
          "base_uri": "https://localhost:8080/"
        },
        "id": "V_dMvjoEcb-A",
        "outputId": "206b3c74-5486-43f9-efb0-9ab79a4bcbd1"
      },
      "execution_count": null,
      "outputs": [
        {
          "output_type": "stream",
          "name": "stdout",
          "text": [
            "[0 1 0 1 0 0 0]\n"
          ]
        }
      ]
    },
    {
      "cell_type": "code",
      "source": [
        "# 동시발생행렬 자동으로 만들기 \n",
        "# 말뭉치로부터 동시 발생 행렬을 만들어주는 함수구현하기\n",
        "def create_co_matrix(corpus, vocab_size, window_size=1):\n",
        "  corpus_size = len(corpus)\n",
        "  co_matrix = np.zeros((vocab_size, vocab_size), dtype=np.int32) # 0으로 만든 2차원 배열로 초기화\n",
        "\n",
        "  for idx , word_id in enumerate(corpus):\n",
        "      for i in range(i, window_size+1) :\n",
        "        left_idx = idx-i\n",
        "        rigth_idx = idx+i\n",
        "        if left_idx >= 0:\n",
        "          left_word_id = corpus[left_idx]\n",
        "          co_matrix[word_id, left_word_id] += 1\n",
        "        if rigth_idx < corpus_size:\n",
        "          rigth_word_id = corpus[rigth_idx]\n",
        "          co_matrix[word_id, right_word_id] += 1\n"
      ],
      "metadata": {
        "id": "YC846a6jcfNM"
      },
      "execution_count": null,
      "outputs": []
    },
    {
      "cell_type": "code",
      "source": [
        "# 벡터간 유사도: 코사인 유사도 사용\n",
        "# 코사인 유사도를 직관적으로 풀어보자면 두 벡터가 가르키는 방향이 얼마나 비슷한가, \n",
        "def cos_similarty(x,y):\n",
        "  nx =  x/np.sqrt(np.sum(x**2))\n",
        "  ny = y/np.sqrt(np.sum(y**2))\n",
        "  return np.dot(nx, ny)"
      ],
      "metadata": {
        "id": "Go2pmyxffBgw"
      },
      "execution_count": null,
      "outputs": []
    },
    {
      "cell_type": "code",
      "source": [
        "def cos_similarty(x,y, eps = 1e-8): # 0으로 나누는 사태를 방지해줌\n",
        "  nx =  x/np.sqrt(np.sum(x**2)+eps)\n",
        "  ny = y/np.sqrt(np.sum(y**2)+eps)\n",
        "  return np.dot(nx, ny)"
      ],
      "metadata": {
        "id": "U2d7GWn3fsG1"
      },
      "execution_count": null,
      "outputs": []
    },
    {
      "cell_type": "code",
      "source": [
        "# you 와 i의 유사도 구하기\n",
        "from common.util import preprocess, create_co_matrix, cos_similarity "
      ],
      "metadata": {
        "id": "8Y_ijNCmfz34"
      },
      "execution_count": null,
      "outputs": []
    },
    {
      "cell_type": "code",
      "source": [
        "text = 'You say goodbye and I say hello.'\n",
        "corpus, word_to_id, id_to_word = preprocess(text)"
      ],
      "metadata": {
        "id": "_inDgiBjgLjP"
      },
      "execution_count": null,
      "outputs": []
    },
    {
      "cell_type": "code",
      "source": [
        "vocab_size = len(word_to_id)\n"
      ],
      "metadata": {
        "id": "HabLAShtgLmt"
      },
      "execution_count": null,
      "outputs": []
    },
    {
      "cell_type": "code",
      "source": [
        "C= create_co_matrix(corpus, vocab_size)"
      ],
      "metadata": {
        "id": "NOC4TMkLgAF2"
      },
      "execution_count": null,
      "outputs": []
    },
    {
      "cell_type": "code",
      "source": [
        "C"
      ],
      "metadata": {
        "colab": {
          "base_uri": "https://localhost:8080/"
        },
        "id": "2c6cJTdvgF2N",
        "outputId": "c4031fcb-ab49-49ce-a9b4-b293329721f2"
      },
      "execution_count": null,
      "outputs": [
        {
          "output_type": "execute_result",
          "data": {
            "text/plain": [
              "array([[0, 1, 0, 0, 0, 0, 0],\n",
              "       [1, 0, 1, 0, 1, 1, 0],\n",
              "       [0, 1, 0, 1, 0, 0, 0],\n",
              "       [0, 0, 1, 0, 1, 0, 0],\n",
              "       [0, 1, 0, 1, 0, 0, 0],\n",
              "       [0, 1, 0, 0, 0, 0, 1],\n",
              "       [0, 0, 0, 0, 0, 1, 0]], dtype=int32)"
            ]
          },
          "metadata": {},
          "execution_count": 48
        }
      ]
    },
    {
      "cell_type": "code",
      "source": [
        "c0 = C[word_to_id['you']]\n",
        "c1 = C[word_to_id['i']]"
      ],
      "metadata": {
        "id": "gCaAqJEugSuR"
      },
      "execution_count": null,
      "outputs": []
    },
    {
      "cell_type": "code",
      "source": [
        "print(cos_similarity(c0,c1)) # high"
      ],
      "metadata": {
        "colab": {
          "base_uri": "https://localhost:8080/"
        },
        "id": "6ZPGM9ocgY5t",
        "outputId": "55c945e4-3201-4cd5-9a30-349753252847"
      },
      "execution_count": null,
      "outputs": [
        {
          "output_type": "stream",
          "name": "stdout",
          "text": [
            "0.7071067691154799\n"
          ]
        }
      ]
    },
    {
      "cell_type": "code",
      "source": [
        "# 유사 단어의 랭킹표시\n",
        "# 그 검색어와 비슷한 단어를 유사도 순으로 출력하는 함수\n",
        "# 구성 : most_similar(query, word_to_id, id_to_word, word_matrix, top=5)\n",
        "# query : 검색어\n",
        "def most_similar(query, word_to_id, id_to_word, word_matrix, top=5):\n",
        "  # 검색어를 꺼낸다 / 검색어의 단어벡터를 꺼낸다\n",
        "  if query not in word_to_id:\n",
        "    print('%s 를 찾을 수 없습니다'% query)\n",
        "    return\n",
        "  \n",
        "  print('\\n[query] ' + query)\n",
        "  query_id = word_to_id[query]\n",
        "  query_vec = word_matrix[query_id]\n",
        "\n",
        "  # 코사인 유사도 계산 / 검색어의 단어벡터와 다른 모든 단어 벡터와의 코사인 유사도를 각각 구한다\n",
        "  vocab_size = len(id_to_word) \n",
        "  similarity = np.zeros(vocab_size) #초기화\n",
        "  for i in range(vocab_size):\n",
        "    similarity[i] = cos_similarity(word_matrix[i], query_vec)\n",
        "  \n",
        "  # 코사인 유사도를 기준으로 내림차순으로 출력\n",
        "  count = 0\n",
        "  for i in (-1 * similarity).argsort():\n",
        "    if id_to_word[i] == query :\n",
        "      continue\n",
        "    \n",
        "    print('%s : %s' %(id_to_word[i], similarity[i]))\n",
        "    count +=1\n",
        "    \n",
        "    if count >= top:\n",
        "      return"
      ],
      "metadata": {
        "id": "nx3XKREsgcsK"
      },
      "execution_count": null,
      "outputs": []
    },
    {
      "cell_type": "code",
      "source": [
        "x= np.array([100,-20,2]) "
      ],
      "metadata": {
        "id": "gPRWqtmJkdmH"
      },
      "execution_count": null,
      "outputs": []
    },
    {
      "cell_type": "code",
      "source": [
        "x.argsort() #오름차순으로 정렬 index로 표시함"
      ],
      "metadata": {
        "colab": {
          "base_uri": "https://localhost:8080/"
        },
        "id": "X_KyFO8-kVSy",
        "outputId": "848ab515-6241-4c8e-c9f4-b751ed7726d6"
      },
      "execution_count": null,
      "outputs": [
        {
          "output_type": "execute_result",
          "data": {
            "text/plain": [
              "array([1, 2, 0])"
            ]
          },
          "metadata": {},
          "execution_count": 53
        }
      ]
    },
    {
      "cell_type": "code",
      "source": [
        "(-x).argsort() # 역순임"
      ],
      "metadata": {
        "colab": {
          "base_uri": "https://localhost:8080/"
        },
        "id": "nkrABpkakiG0",
        "outputId": "5ed3de9e-2f8c-4822-8e2b-786f20b181e3"
      },
      "execution_count": null,
      "outputs": [
        {
          "output_type": "execute_result",
          "data": {
            "text/plain": [
              "array([0, 2, 1])"
            ]
          },
          "metadata": {},
          "execution_count": 54
        }
      ]
    },
    {
      "cell_type": "code",
      "source": [
        "most_similar('you', word_to_id, id_to_word, C, top=5)"
      ],
      "metadata": {
        "colab": {
          "base_uri": "https://localhost:8080/"
        },
        "id": "vaCwJvlcksf-",
        "outputId": "5e4e4ca1-6c78-4c59-e2b8-8755b77b4af1"
      },
      "execution_count": null,
      "outputs": [
        {
          "output_type": "stream",
          "name": "stdout",
          "text": [
            "\n",
            "[query] you\n",
            "goodbye : 0.7071067691154799\n",
            "i : 0.7071067691154799\n",
            "hello : 0.7071067691154799\n",
            "say : 0.0\n",
            "and : 0.0\n"
          ]
        }
      ]
    },
    {
      "cell_type": "code",
      "source": [
        "# 통계 기반 기법 개선하기\n",
        "# 점별 상호 정보량 (PMI) 라는 척도를 사용 Pointwise mutual information \n",
        "# pmi는 확률변수 x 와 y에 대해 다음식으로 정의 \n",
        "# pmi(x,y) = log2 [(p(x,y) / p(x)p(y))]\n",
        "# pmi값이 높을수록 관련성이 높다는 의미\n",
        "# p(x) : 단어 x가 말뭉치에 등장할 확률의미\n",
        "# p(x,y) : 단어 x,y가 동시에 발생할 확률\n",
        "# p(x,y) = C(x,y) / N \n",
        "# C(x,y) : x,y가 동시발생한 횟수\n",
        "# N : 말뭉치에 포함된 단어수\n",
        "# 단어가 단독으로 출현하는 횟수가 고려된 값임\n",
        "# the같은경우, 자주출현하게 되면서 pmi점수가 낮아짐\n",
        "# pmi의 문제점 : 두 단어의 동시발생횟수가 0이면 -무한대가 된다는 점\n",
        "# 이 문제를 해결하기 위해 ppmi(양의 상호 정보량)을 사용\n",
        "# ppmi(x,y) = max(0, pmi(x,y))\n"
      ],
      "metadata": {
        "id": "O1A-3w20k3Nh"
      },
      "execution_count": null,
      "outputs": []
    },
    {
      "cell_type": "code",
      "source": [
        "def ppmi(C, verbose=False, eps = 1e-8):  # C : 동시발생 행렬, VERBOSE는 진행사항 출력여부를 결정하는 플래그\n",
        "  M = np.zeros_like(C, dtype = np.float32) \n",
        "  N = np.sum(C)\n",
        "  S = np.sum(C,axis=0)\n",
        "  total =C.shape[0] * C.shape[1] \n",
        "  cnt = 0\n",
        "\n",
        "  for i in range(C.shape[0]):\n",
        "    for j in range(C.shape[1]):\n",
        "      pmi = np.log2(C[i,j] *N / (S[j]*S[i]) + eps)\n",
        "      M[i,j] = max(0, pmi)\n",
        "      \n",
        "      if verbose:\n",
        "        cnt+=1\n",
        "        if cnt%(total//100+1) ==0:\n",
        "          print('%.1f%% 완료'%(100*cnt/total))\n",
        "  return M\n",
        "      "
      ],
      "metadata": {
        "id": "wbbhSDp7lIZK"
      },
      "execution_count": null,
      "outputs": []
    },
    {
      "cell_type": "code",
      "source": [
        "text= 'you say goodbye and i say hello.'\n",
        "corpus , word_to_id, id_to_word = preprocess(text)"
      ],
      "metadata": {
        "id": "tAsl1JbMs_-W"
      },
      "execution_count": null,
      "outputs": []
    },
    {
      "cell_type": "code",
      "source": [
        "vocab_size = len(word_to_id)\n",
        "C= create_co_matrix(corpus, vocab_size)\n",
        "W= ppmi(C);W"
      ],
      "metadata": {
        "colab": {
          "base_uri": "https://localhost:8080/"
        },
        "id": "qmaWu4jotDtq",
        "outputId": "755f3019-11eb-4e18-f520-bb4c4afdad67"
      },
      "execution_count": null,
      "outputs": [
        {
          "output_type": "execute_result",
          "data": {
            "text/plain": [
              "array([[0.       , 1.8073549, 0.       , 0.       , 0.       , 0.       ,\n",
              "        0.       ],\n",
              "       [1.8073549, 0.       , 0.8073549, 0.       , 0.8073549, 0.8073549,\n",
              "        0.       ],\n",
              "       [0.       , 0.8073549, 0.       , 1.8073549, 0.       , 0.       ,\n",
              "        0.       ],\n",
              "       [0.       , 0.       , 1.8073549, 0.       , 1.8073549, 0.       ,\n",
              "        0.       ],\n",
              "       [0.       , 0.8073549, 0.       , 1.8073549, 0.       , 0.       ,\n",
              "        0.       ],\n",
              "       [0.       , 0.8073549, 0.       , 0.       , 0.       , 0.       ,\n",
              "        2.807355 ],\n",
              "       [0.       , 0.       , 0.       , 0.       , 0.       , 2.807355 ,\n",
              "        0.       ]], dtype=float32)"
            ]
          },
          "metadata": {},
          "execution_count": 61
        }
      ]
    },
    {
      "cell_type": "code",
      "source": [
        "np.set_printoptions(precision=3) # 유효숫자 3자리보기"
      ],
      "metadata": {
        "id": "PZS5JxePuYMo"
      },
      "execution_count": null,
      "outputs": []
    },
    {
      "cell_type": "code",
      "source": [
        "print('동시발생확률')\n",
        "print(C)\n",
        "print('-'*50)\n",
        "print('PPMI')\n",
        "print(W)\n",
        "# 동시발생행렬을 PPMI행렬로 변환하는 것 확인"
      ],
      "metadata": {
        "colab": {
          "base_uri": "https://localhost:8080/"
        },
        "id": "s-dz1-L_ud5y",
        "outputId": "2a7899b6-d6fc-4c5b-8c5e-cf7addc5a99c"
      },
      "execution_count": null,
      "outputs": [
        {
          "output_type": "stream",
          "name": "stdout",
          "text": [
            "동시발생확률\n",
            "[[0 1 0 0 0 0 0]\n",
            " [1 0 1 0 1 1 0]\n",
            " [0 1 0 1 0 0 0]\n",
            " [0 0 1 0 1 0 0]\n",
            " [0 1 0 1 0 0 0]\n",
            " [0 1 0 0 0 0 1]\n",
            " [0 0 0 0 0 1 0]]\n",
            "--------------------------------------------------\n",
            "PPMI\n",
            "[[0.    1.807 0.    0.    0.    0.    0.   ]\n",
            " [1.807 0.    0.807 0.    0.807 0.807 0.   ]\n",
            " [0.    0.807 0.    1.807 0.    0.    0.   ]\n",
            " [0.    0.    1.807 0.    1.807 0.    0.   ]\n",
            " [0.    0.807 0.    1.807 0.    0.    0.   ]\n",
            " [0.    0.807 0.    0.    0.    0.    2.807]\n",
            " [0.    0.    0.    0.    0.    2.807 0.   ]]\n"
          ]
        }
      ]
    },
    {
      "cell_type": "code",
      "source": [
        "# PPMI행렬에도 여전히 문제가 존재함 말뭉치의 어휘수가 증가함에 따라 각 단어 벡터의 차원수도 증가함\n",
        "# 말뭉치의 어휘수가 10만개라면 그 벡터의 차원수도 똑같이 10만"
      ],
      "metadata": {
        "id": "lavPp_S1ul8r"
      },
      "execution_count": null,
      "outputs": []
    },
    {
      "cell_type": "code",
      "source": [
        "# 벡터의 차원감소\n",
        "# 중요한 정보는 최대한 유지하면서 줄이는게 핵심\n",
        "# 특이값분해 (SVD)를 이용한 차원축소\n",
        "# X = USV\n",
        "# U,V : 직교행렬, S: 대각행렬\n",
        "# U행렬은 단어 공간으로 취급할 수 있음\n",
        "# S행렬은 대학행렬로 대각성분에는 특잇값이 큰 순서로 나열되어 있음, 해당축의 중요도로 간주-> 중요도가 낮은 원소를 깍아내는 방법을 생각할 수 있음\n"
      ],
      "metadata": {
        "id": "Bo6LZGbju6tj"
      },
      "execution_count": null,
      "outputs": []
    },
    {
      "cell_type": "code",
      "source": [
        "# SVD에 의한 차원 감소\n",
        "U,S,V = np.linalg.svd(W)"
      ],
      "metadata": {
        "id": "Ov6Af5lRvWSq"
      },
      "execution_count": null,
      "outputs": []
    },
    {
      "cell_type": "code",
      "source": [
        "print(C[0])\n",
        "print(W[0])"
      ],
      "metadata": {
        "colab": {
          "base_uri": "https://localhost:8080/"
        },
        "id": "O6hbpWw76-2j",
        "outputId": "5e1801df-dd80-413d-c7f4-8f06308abfed"
      },
      "execution_count": null,
      "outputs": [
        {
          "output_type": "stream",
          "name": "stdout",
          "text": [
            "[0 1 0 0 0 0 0]\n",
            "[0.    1.807 0.    0.    0.    0.    0.   ]\n"
          ]
        }
      ]
    },
    {
      "cell_type": "code",
      "source": [
        "print(U[0]) # 희소벡터인 w[0]가 svd에 의해서 밀집벡터로 변함\n",
        "print(U[0,:2]) # 2차원 벡터로 줄임"
      ],
      "metadata": {
        "colab": {
          "base_uri": "https://localhost:8080/"
        },
        "id": "irnyqGzg7BOh",
        "outputId": "dc03f3f2-4b75-485b-d61e-335102534927"
      },
      "execution_count": null,
      "outputs": [
        {
          "output_type": "stream",
          "name": "stdout",
          "text": [
            "[-1.110e-16  3.409e-01 -4.163e-16 -1.205e-01 -1.110e-16 -9.323e-01\n",
            " -1.086e-16]\n",
            "[-1.110e-16  3.409e-01]\n"
          ]
        }
      ]
    },
    {
      "cell_type": "code",
      "source": [
        "word_to_id.items()"
      ],
      "metadata": {
        "colab": {
          "base_uri": "https://localhost:8080/"
        },
        "id": "ssh4vQBF8XFh",
        "outputId": "d8523111-2ff9-435d-e2ff-298f556c422e"
      },
      "execution_count": null,
      "outputs": [
        {
          "output_type": "execute_result",
          "data": {
            "text/plain": [
              "dict_items([('you', 0), ('say', 1), ('goodbye', 2), ('and', 3), ('i', 4), ('hello', 5), ('.', 6)])"
            ]
          },
          "metadata": {},
          "execution_count": 76
        }
      ]
    },
    {
      "cell_type": "code",
      "source": [
        "import matplotlib.pyplot as plt \n",
        "for word, word_id in word_to_id.items():\n",
        "  plt.annotate(word, (U[word_id,0], U[word_id,1]))\n",
        "\n",
        "plt.scatter(U[:,0], U[:,1], alpha=0.5)\n",
        "plt.show()\n",
        "# 행렬의 크기가 N이면 연산은 O(N^3)이 걸림 계산량이 N의 3제곱에 비례해 늘어남\n",
        "# Truncated SVD같은 더 빠른 기법이 사용됨(특이값이 작은것은 버림, 사이킥런의 Truncated SVM사용가능)"
      ],
      "metadata": {
        "colab": {
          "base_uri": "https://localhost:8080/",
          "height": 265
        },
        "id": "NRkkiCee7DtE",
        "outputId": "3d05a87f-7413-4571-c1f8-0ede2a8d040f"
      },
      "execution_count": null,
      "outputs": [
        {
          "output_type": "display_data",
          "data": {
            "image/png": "[encoded data removed]",
            "text/plain": [
              "<Figure size 432x288 with 1 Axes>"
            ]
          },
          "metadata": {
            "needs_background": "light"
          }
        }
      ]
    },
    {
      "cell_type": "code",
      "source": [
        "# PTB 데이터\n",
        "# 지금까지는 아주 작은 텍스트 데이터를 말뭉치로 사용함\n",
        "# 펜 트리뱅크 데이터셋(PENN TREEBANK) : 주어진 기법의 품질을 측정하는 벤치마크로 자주 이용됨\n",
        "# WORD2VEC의 발명자인 토마스 미콜로프의 웹페이지에서 받을 수 있음\n",
        "# 희소한 단어를 <UNK>라는 특수문자로 치환하거나 구체적인 숫자를 N으로 대체하는 등의 작업이 적용됨\n"
      ],
      "metadata": {
        "id": "eQLpYepj7xiE"
      },
      "execution_count": null,
      "outputs": []
    },
    {
      "cell_type": "code",
      "source": [
        "from dataset import ptb"
      ],
      "metadata": {
        "id": "95L3H0Nx-B16"
      },
      "execution_count": null,
      "outputs": []
    },
    {
      "cell_type": "code",
      "source": [
        "corpus, word_to_id, id_to_word = ptb.load_data('train')"
      ],
      "metadata": {
        "colab": {
          "base_uri": "https://localhost:8080/"
        },
        "id": "pul7lz3j-EVs",
        "outputId": "e531eb3f-f03f-4da7-b14e-7e530bba261e"
      },
      "execution_count": null,
      "outputs": [
        {
          "output_type": "stream",
          "name": "stdout",
          "text": [
            "Downloading ptb.train.txt ... \n",
            "Done\n"
          ]
        }
      ]
    },
    {
      "cell_type": "code",
      "source": [
        "print('말뭉치크기', len(corpus))\n",
        "print('corpus[:30]', corpus[:30])"
      ],
      "metadata": {
        "colab": {
          "base_uri": "https://localhost:8080/"
        },
        "id": "uINTHy7A-Ja1",
        "outputId": "8e8c5c6b-767f-452f-8f34-ff03b77f0624"
      },
      "execution_count": null,
      "outputs": [
        {
          "output_type": "stream",
          "name": "stdout",
          "text": [
            "말뭉치크기 929589\n",
            "corpus[:30] [ 0  1  2  3  4  5  6  7  8  9 10 11 12 13 14 15 16 17 18 19 20 21 22 23\n",
            " 24 25 26 27 28 29]\n"
          ]
        }
      ]
    },
    {
      "cell_type": "code",
      "source": [
        "print(id_to_word[0])\n",
        "print(id_to_word[1])\n",
        "print(id_to_word[2])\n",
        "\n",
        "\n",
        "print(word_to_id['car'])\n",
        "print(word_to_id['happy'])\n",
        "print(word_to_id['lexus'])"
      ],
      "metadata": {
        "colab": {
          "base_uri": "https://localhost:8080/"
        },
        "id": "8eaCONjr-Q65",
        "outputId": "bc1917f9-0173-4c30-88df-20da95dbb2e9"
      },
      "execution_count": null,
      "outputs": [
        {
          "output_type": "stream",
          "name": "stdout",
          "text": [
            "aer\n",
            "banknote\n",
            "berlitz\n",
            "3856\n",
            "4428\n",
            "7426\n"
          ]
        }
      ]
    },
    {
      "cell_type": "code",
      "source": [
        "# ptb데이터셋 평가 \n",
        "# ptb데이터셋에 통계기반 기법을 적용해보기\n",
        "# 이번에틑 큰 행렬에 svd를 적용해야하므로 고속 svd이용(sklearn) / 간단한np.linalg.svd()도 있음\n",
        "window_size= 2\n",
        "wordvec_size=100\n",
        "\n",
        "vocab_size = len(word_to_id)\n",
        "print('동시발생수 계산 ..')\n",
        "C= create_co_matrix(corpus, vocab_size, window_size) ;C"
      ],
      "metadata": {
        "colab": {
          "base_uri": "https://localhost:8080/"
        },
        "id": "M0_tKz6F-cmk",
        "outputId": "d65836a9-5432-4a04-a2aa-f6a72a5bff07"
      },
      "execution_count": null,
      "outputs": [
        {
          "output_type": "stream",
          "name": "stdout",
          "text": [
            "동시발생수 계산 ..\n"
          ]
        },
        {
          "output_type": "execute_result",
          "data": {
            "text/plain": [
              "array([[0, 1, 1, ..., 0, 0, 0],\n",
              "       [1, 0, 1, ..., 0, 0, 0],\n",
              "       [1, 1, 0, ..., 0, 0, 0],\n",
              "       ...,\n",
              "       [0, 0, 0, ..., 0, 0, 0],\n",
              "       [0, 0, 0, ..., 0, 0, 0],\n",
              "       [0, 0, 0, ..., 0, 0, 0]], dtype=int32)"
            ]
          },
          "metadata": {},
          "execution_count": 83
        }
      ]
    },
    {
      "cell_type": "code",
      "source": [
        "print('PPMI계산...')\n",
        "W= ppmi(C, verbose=True); W"
      ],
      "metadata": {
        "colab": {
          "base_uri": "https://localhost:8080/"
        },
        "id": "VQviuolK-_tw",
        "outputId": "e65c0ffa-bc2c-44c3-c98a-541c6c9326fc"
      },
      "execution_count": null,
      "outputs": [
        {
          "output_type": "stream",
          "name": "stdout",
          "text": [
            "PPMI계산...\n",
            "1.0% 완료\n",
            "2.0% 완료\n",
            "3.0% 완료\n",
            "4.0% 완료\n",
            "5.0% 완료\n",
            "6.0% 완료\n",
            "7.0% 완료\n",
            "8.0% 완료\n",
            "9.0% 완료\n",
            "10.0% 완료\n",
            "11.0% 완료\n",
            "12.0% 완료\n",
            "13.0% 완료\n",
            "14.0% 완료\n",
            "15.0% 완료\n",
            "16.0% 완료\n",
            "17.0% 완료\n",
            "18.0% 완료\n",
            "19.0% 완료\n",
            "20.0% 완료\n",
            "21.0% 완료\n",
            "22.0% 완료\n",
            "23.0% 완료\n",
            "24.0% 완료\n",
            "25.0% 완료\n",
            "26.0% 완료\n",
            "27.0% 완료\n",
            "28.0% 완료\n",
            "29.0% 완료\n",
            "30.0% 완료\n",
            "31.0% 완료\n",
            "32.0% 완료\n",
            "33.0% 완료\n",
            "34.0% 완료\n",
            "35.0% 완료\n",
            "36.0% 완료\n",
            "37.0% 완료\n",
            "38.0% 완료\n",
            "39.0% 완료\n",
            "40.0% 완료\n",
            "41.0% 완료\n",
            "42.0% 완료\n",
            "43.0% 완료\n",
            "44.0% 완료\n",
            "45.0% 완료\n",
            "46.0% 완료\n",
            "47.0% 완료\n",
            "48.0% 완료\n",
            "49.0% 완료\n",
            "50.0% 완료\n",
            "51.0% 완료\n",
            "52.0% 완료\n",
            "53.0% 완료\n",
            "54.0% 완료\n",
            "55.0% 완료\n",
            "56.0% 완료\n",
            "57.0% 완료\n",
            "58.0% 완료\n",
            "59.0% 완료\n",
            "60.0% 완료\n",
            "61.0% 완료\n",
            "62.0% 완료\n",
            "63.0% 완료\n",
            "64.0% 완료\n",
            "65.0% 완료\n",
            "66.0% 완료\n",
            "67.0% 완료\n",
            "68.0% 완료\n",
            "69.0% 완료\n",
            "70.0% 완료\n",
            "71.0% 완료\n",
            "72.0% 완료\n",
            "73.0% 완료\n",
            "74.0% 완료\n",
            "75.0% 완료\n",
            "76.0% 완료\n",
            "77.0% 완료\n",
            "78.0% 완료\n",
            "79.0% 완료\n",
            "80.0% 완료\n",
            "81.0% 완료\n",
            "82.0% 완료\n",
            "83.0% 완료\n",
            "84.0% 완료\n",
            "85.0% 완료\n",
            "86.0% 완료\n",
            "87.0% 완료\n",
            "88.0% 완료\n",
            "89.0% 완료\n",
            "90.0% 완료\n",
            "91.0% 완료\n",
            "92.0% 완료\n",
            "93.0% 완료\n",
            "94.0% 완료\n",
            "95.0% 완료\n",
            "96.0% 완료\n",
            "97.0% 완료\n",
            "98.0% 완료\n",
            "99.0% 완료\n"
          ]
        },
        {
          "output_type": "execute_result",
          "data": {
            "text/plain": [
              "array([[ 0.   , 19.241, 18.826, ...,  0.   ,  0.   ,  0.   ],\n",
              "       [19.241,  0.   , 18.241, ...,  0.   ,  0.   ,  0.   ],\n",
              "       [18.826, 18.241,  0.   , ...,  0.   ,  0.   ,  0.   ],\n",
              "       ...,\n",
              "       [ 0.   ,  0.   ,  0.   , ...,  0.   ,  0.   ,  0.   ],\n",
              "       [ 0.   ,  0.   ,  0.   , ...,  0.   ,  0.   ,  0.   ],\n",
              "       [ 0.   ,  0.   ,  0.   , ...,  0.   ,  0.   ,  0.   ]],\n",
              "      dtype=float32)"
            ]
          },
          "metadata": {},
          "execution_count": 87
        }
      ]
    },
    {
      "cell_type": "code",
      "source": [
        "print('svd계산 ...')\n",
        "try :\n",
        "  # truncatedsvd 빠름! \n",
        "  from sklearn.utils.extmath import randomized_svd \n",
        "  U,S,V = randomized_svd(W, n_components=wordvec_size, n_iter=5, random_state=None)  \n",
        "except ImportError:\n",
        "  # SVD\n",
        "  U,S,V = np.linalg.svd(W) \n",
        "\n",
        "word_vecs = U[:, :wordvec_size] \n",
        "querys = ['you', 'year','car','toyota'] \n",
        "for query in querys :  \n",
        "  most_similar(query, word_to_id, id_to_word, word_vecs, top=5) "
      ],
      "metadata": {
        "colab": {
          "base_uri": "https://localhost:8080/"
        },
        "id": "jF8FZdL9BQ0W",
        "outputId": "64affc73-8fc3-4bd6-acef-e3028c4d298a"
      },
      "execution_count": null,
      "outputs": [
        {
          "output_type": "stream",
          "name": "stdout",
          "text": [
            "svd계산 ...\n",
            "\n",
            "[query] you\n",
            "i : 0.6798784136772156\n",
            "we : 0.6585314869880676\n",
            "'ll : 0.5424599051475525\n",
            "do : 0.5095625519752502\n",
            "'d : 0.49672359228134155\n",
            "\n",
            "[query] year\n",
            "month : 0.7190585136413574\n",
            "earlier : 0.6854026913642883\n",
            "quarter : 0.6749022006988525\n",
            "last : 0.6479121446609497\n",
            "fiscal : 0.5858595967292786\n",
            "\n",
            "[query] car\n",
            "auto : 0.6217397451400757\n",
            "luxury : 0.58762526512146\n",
            "cars : 0.5173414945602417\n",
            "domestic : 0.4970399737358093\n",
            "truck : 0.4700299799442291\n",
            "\n",
            "[query] toyota\n",
            "motor : 0.7230758666992188\n",
            "motors : 0.682379424571991\n",
            "honda : 0.6747257709503174\n",
            "nissan : 0.6588114500045776\n",
            "lexus : 0.6090384721755981\n"
          ]
        }
      ]
    },
    {
      "cell_type": "code",
      "source": [
        ""
      ],
      "metadata": {
        "id": "nwRc1HT-CBs9"
      },
      "execution_count": null,
      "outputs": []
    },
    {
      "cell_type": "markdown",
      "source": [
        "# ch3. word2vec "
      ],
      "metadata": {
        "id": "klRm-_6ocT4H"
      }
    },
    {
      "cell_type": "code",
      "source": [
        "# 앞에서 통계기반 기법으로 분산표현을 얻음, 이번에는 추론기반기법을 사용\n",
        "# 추론기법과정에서 신경망을 활용함\n",
        "# 단순한 word2vec구하는 과정\n",
        "# 단어를 벡터로 표현하는 방법은 지금까지 활발히 연구됨, \n",
        "# 통계기반기법과 추론기법 : 단어의 의미를 얻는 방식은 서로 크게 다르지만, 그 배경에는 모두 분포가설이 있음"
      ],
      "metadata": {
        "id": "FiqdxUXXcV5X"
      },
      "execution_count": null,
      "outputs": []
    },
    {
      "cell_type": "code",
      "source": [
        "# 통계기반 기법의 문제점:계산량이 너무 큼\n",
        "# 통계기반기법 : 학습데이터를 한꺼번에 처리(배치학습)\n",
        "# 추론기법 : 학습데이터의 일부를 사용하여 순차적으로 학습(미니배치 학습), 여러 머신과 여러 GPU를 이용한 병렬 계산도 가능함 -> 학습속도 높임\n",
        "# 추론 문제를 풀면서 단어의 출현 패턴을 학습 \n",
        "# 분포가설 : 단어의 의미는 주변 단어에 의해 형성된다는 가설\n",
        "# 단어의 동시 발생 가능성을 얼마나 잘 모델링 하는가가 중요한 연구 주제"
      ],
      "metadata": {
        "id": "h0pRVcuSc1kz"
      },
      "execution_count": 2,
      "outputs": []
    },
    {
      "cell_type": "code",
      "source": [
        "import numpy as np\n",
        "c= np.array([[1,0,0,0,0,0,0]])\n",
        "W=np.random.randn(7,3) # 가중치\n",
        "h= np.matmul(c,W);h\n",
        "# id가 0인 단어를 원핫 표현으로 표현한 다음 완전 연결계층을 통과시켜 변환하는 보여줌\n"
      ],
      "metadata": {
        "id": "bceAA0MQdSdj",
        "colab": {
          "base_uri": "https://localhost:8080/"
        },
        "outputId": "a9a5bc88-fb44-4c1b-f12b-5b9e0bbce22f"
      },
      "execution_count": 3,
      "outputs": [
        {
          "output_type": "execute_result",
          "data": {
            "text/plain": [
              "array([[ 0.51366783, -0.1890562 , -0.90969628]])"
            ]
          },
          "metadata": {},
          "execution_count": 3
        }
      ]
    },
    {
      "cell_type": "code",
      "source": [
        "import sys\n",
        "import numpy as np\n",
        "sys.path.append('/content/deep-learning-from-scratch-2/')\n",
        "from common.layers import MatMul \n",
        "c= np.array([[1,0,0,0,0,0,0]])\n",
        "W= np.random.randn(7,3)\n",
        "layer = MatMul(W) \n",
        "h = layer.forward(c) \n",
        "print(h)"
      ],
      "metadata": {
        "colab": {
          "base_uri": "https://localhost:8080/"
        },
        "id": "R5jhb0d4OCsA",
        "outputId": "6eeb5447-797e-4a5d-a7cb-25c53fa2f4dc"
      },
      "execution_count": 9,
      "outputs": [
        {
          "output_type": "stream",
          "name": "stdout",
          "text": [
            "[[-0.31314808  0.35635513  1.38706403]]\n"
          ]
        }
      ]
    },
    {
      "cell_type": "code",
      "source": [
        "layer"
      ],
      "metadata": {
        "colab": {
          "base_uri": "https://localhost:8080/"
        },
        "id": "a0PJ63rCSZrZ",
        "outputId": "cf9bafec-f897-4750-bc70-ccc0e2e02775"
      },
      "execution_count": 5,
      "outputs": [
        {
          "output_type": "execute_result",
          "data": {
            "text/plain": [
              "<common.layers.MatMul at 0x7f249b0a0450>"
            ]
          },
          "metadata": {},
          "execution_count": 5
        }
      ]
    },
    {
      "cell_type": "code",
      "source": [
        "W"
      ],
      "metadata": {
        "colab": {
          "base_uri": "https://localhost:8080/"
        },
        "id": "R6MKwDlhSfaO",
        "outputId": "dede448a-a18a-4ab6-9798-41cf893afffe"
      },
      "execution_count": 6,
      "outputs": [
        {
          "output_type": "execute_result",
          "data": {
            "text/plain": [
              "array([[-0.79509471, -1.45923992, -0.02852232],\n",
              "       [-0.28726945,  0.54178468,  0.28341626],\n",
              "       [-0.72607232, -0.89912527, -0.40804838],\n",
              "       [-1.21088044,  0.39261912, -0.20378796],\n",
              "       [ 0.46259745,  2.09518604,  0.21846207],\n",
              "       [ 0.78681567,  1.45867321, -0.59498213],\n",
              "       [-0.73196487, -2.10235831,  1.20625192]])"
            ]
          },
          "metadata": {},
          "execution_count": 6
        }
      ]
    },
    {
      "cell_type": "code",
      "source": [
        "# 단순한 WORD2VEC \n",
        "# CBOW(continuous bag-of-words) \n",
        "# 맥락으로부터 타깃을 추측하는 용도의 신경망, 타깃은 중앙단어이고, 그 주변 단어들이 맥락이 됨\n",
        "# CBOW모델 구현하기\n",
        "c0 = np.array([[1,0,0,0,0,0,0]])\n",
        "c1 = np.array([[0,0,1,0,0,0,0]])\n",
        "W_in = np.random.randn(7,3)\n",
        "W_out = np.random.randn(3,7)\n",
        "in_layer0 = MatMul(W_in)\n",
        "in_layer1 = MatMul(W_in) \n",
        "out_layer = MatMul(W_out) \n",
        "\n",
        "# 순전파\n",
        "h0 = in_layer0.forward(c0) \n",
        "h1 = in_layer1.forward(c1) \n",
        "h = 0.5 * (h0+h1) \n",
        "s = out_layer.forward(h) \n",
        "print(s)"
      ],
      "metadata": {
        "colab": {
          "base_uri": "https://localhost:8080/"
        },
        "id": "i00T4zdvShmW",
        "outputId": "5a076bc1-2bb3-4988-faf4-8e1e1f1961b9"
      },
      "execution_count": 10,
      "outputs": [
        {
          "output_type": "stream",
          "name": "stdout",
          "text": [
            "[[-0.36073538  0.5551377   0.20957163  0.17122678  0.08090242 -0.37807664\n",
            "   0.09402426]]\n"
          ]
        }
      ]
    },
    {
      "cell_type": "code",
      "source": [
        "# CBOW 모델의 학습 \n",
        " # WORD2VEC 에서 사용되는 신경망에는 두가지 가중치가 있음 W_in , W_out \n",
        " # W_in 의 각 행이 각 단어의 분산 표현에 해당됨\n",
        " # 출력층 가중치 W_out에도 단어의 의미가 인코딩된 벡터가 저장되고 있다고 생각할 수 있음\n",
        " # 다만 출력 가중치는 단어의 분산표현이 열방향으로 저장됨\n",
        " # 최종적으로 이용하는 단어의 분산표현으로 선택가능한것 : 1. 입력층, 2. 출력층, 3. 양쪽 모두이용\n",
        " # word2vec에서는  입력층의 가중치만 이용한다가 가장 대중적인 선택\n",
        " # word2vec과 비슷한 gloVe 에서는 두 가중치를 더했을때 가장 좋은 결과를 얻음\n",
        " "
      ],
      "metadata": {
        "id": "PsfR6I_IZLgN"
      },
      "execution_count": 1,
      "outputs": []
    },
    {
      "cell_type": "code",
      "source": [
        "# 학습 데이터 준비\n",
        "import sys\n",
        "sys.path.append('/content/deep-learning-from-scratch-2/')\n",
        "from common.util import preprocess \n",
        "text = 'You say goodbye and I say hello.'\n",
        "corpus , word_to_id, id_to_word = preprocess(text) \n",
        "print(corpus) \n",
        "print(id_to_word) \n"
      ],
      "metadata": {
        "colab": {
          "base_uri": "https://localhost:8080/"
        },
        "id": "8jAvrPI9v4Cs",
        "outputId": "e68b5e9e-1b31-4a07-befd-915e046b2a21"
      },
      "execution_count": 29,
      "outputs": [
        {
          "output_type": "stream",
          "name": "stdout",
          "text": [
            "[0 1 2 3 4 1 5 6]\n",
            "{0: 'you', 1: 'say', 2: 'goodbye', 3: 'and', 4: 'i', 5: 'hello', 6: '.'}\n"
          ]
        }
      ]
    },
    {
      "cell_type": "code",
      "source": [
        "def create_contexts_target(corpus, window_size =1):\n",
        "  target = corpus[window_size :-window_size] \n",
        "  contexts=[]\n",
        "  \n",
        "  for idx in range(window_size, len(corpus)-window_size) :\n",
        "    cs = []\n",
        "    for t in range(-window_size, window_size +1) : \n",
        "      if t==0:\n",
        "        continue \n",
        "      cs.append(corpus[idx+t]) \n",
        "    contexts.append(cs) \n",
        "  \n",
        "  return np.array(contexts), np.array(target) \n"
      ],
      "metadata": {
        "id": "6vcrAJzAwq58"
      },
      "execution_count": 30,
      "outputs": []
    },
    {
      "cell_type": "code",
      "source": [
        "corpus"
      ],
      "metadata": {
        "colab": {
          "base_uri": "https://localhost:8080/"
        },
        "id": "tr5jYkQXzWeS",
        "outputId": "bfb6c30b-7abe-4ba8-a549-769832f5f7a4"
      },
      "execution_count": 31,
      "outputs": [
        {
          "output_type": "execute_result",
          "data": {
            "text/plain": [
              "array([0, 1, 2, 3, 4, 1, 5, 6])"
            ]
          },
          "metadata": {},
          "execution_count": 31
        }
      ]
    },
    {
      "cell_type": "code",
      "source": [
        "corpus[1:-1]"
      ],
      "metadata": {
        "colab": {
          "base_uri": "https://localhost:8080/"
        },
        "id": "YllY9hG8zd5J",
        "outputId": "16ee3b5b-fec2-4b5c-9a15-aa4f9410550c"
      },
      "execution_count": 32,
      "outputs": [
        {
          "output_type": "execute_result",
          "data": {
            "text/plain": [
              "array([1, 2, 3, 4, 1, 5])"
            ]
          },
          "metadata": {},
          "execution_count": 32
        }
      ]
    },
    {
      "cell_type": "code",
      "source": [
        "contexts, target = create_contexts_target(corpus, window_size =1) \n",
        "print(contexts) \n",
        "print(target)\n",
        "# 말뭉치로부터 맥락과 타깃을 생성"
      ],
      "metadata": {
        "colab": {
          "base_uri": "https://localhost:8080/"
        },
        "id": "YSA63txjyAO1",
        "outputId": "d8637ba3-dca9-4a05-ee62-985c2ded0687"
      },
      "execution_count": 34,
      "outputs": [
        {
          "output_type": "stream",
          "name": "stdout",
          "text": [
            "[[0 2]\n",
            " [1 3]\n",
            " [2 4]\n",
            " [3 1]\n",
            " [4 5]\n",
            " [1 6]]\n",
            "[1 2 3 4 1 5]\n"
          ]
        }
      ]
    },
    {
      "cell_type": "code",
      "source": [
        "## 원핫 벡터로 표현하기\n",
        "#(6,2) -> (6,2,7)로 변환\n",
        "import sys \n",
        "from common.util import preprocess, create_contexts_target, convert_one_hot \n",
        "vocab_size = len(word_to_id) \n",
        "target = convert_one_hot(target, vocab_size) \n",
        "contexts = convert_one_hot(contexts, vocab_size) \n"
      ],
      "metadata": {
        "id": "EvsppJhKyHGp"
      },
      "execution_count": 36,
      "outputs": []
    },
    {
      "cell_type": "code",
      "source": [
        "contexts"
      ],
      "metadata": {
        "colab": {
          "base_uri": "https://localhost:8080/"
        },
        "id": "pbUVJLlS1Dkj",
        "outputId": "b268c90c-2448-4a21-b440-e953a31c0e06"
      },
      "execution_count": 37,
      "outputs": [
        {
          "output_type": "execute_result",
          "data": {
            "text/plain": [
              "array([[[1, 0, 0, 0, 0, 0, 0],\n",
              "        [0, 0, 1, 0, 0, 0, 0]],\n",
              "\n",
              "       [[0, 1, 0, 0, 0, 0, 0],\n",
              "        [0, 0, 0, 1, 0, 0, 0]],\n",
              "\n",
              "       [[0, 0, 1, 0, 0, 0, 0],\n",
              "        [0, 0, 0, 0, 1, 0, 0]],\n",
              "\n",
              "       [[0, 0, 0, 1, 0, 0, 0],\n",
              "        [0, 1, 0, 0, 0, 0, 0]],\n",
              "\n",
              "       [[0, 0, 0, 0, 1, 0, 0],\n",
              "        [0, 0, 0, 0, 0, 1, 0]],\n",
              "\n",
              "       [[0, 1, 0, 0, 0, 0, 0],\n",
              "        [0, 0, 0, 0, 0, 0, 1]]], dtype=int32)"
            ]
          },
          "metadata": {},
          "execution_count": 37
        }
      ]
    },
    {
      "cell_type": "code",
      "source": [
        "# CBOW모델 구현\n",
        "class SimpleCBOW:\n",
        "  def __init__(self, vocab_size, hidden_size): \n",
        "    V,H = vocab_size, hidden_size \n",
        "    # 가중치 초기화\n",
        "    W_in = 0.01 * np.random.randn(V,H).astype('f')  # 실수타입으로 변환 float의 약자, 32비트 부동 소수점\n",
        "    W_out = 0.01 * np.random.randn(H,V).astype('f') \n",
        "\n",
        "    # 계층 생성\n",
        "    self.in_layer0 = MatMul(W_in) \n",
        "    self.in_layer1 = MatMul(W_in) \n",
        "    self.out_layer = MatMul(W_out)\n",
        "    self.loss_layer = SoftmaxWithLoss() \n",
        "\n",
        "    # 모든 가중치와 기울기를 리스트에 모은다\n",
        "    layers = [self.in_layer0, self.in_layer1, self.out_layer] \n",
        "    for layer in layers: \n",
        "      self.params += layer.params \n",
        "      self.grads += layer.grads \n",
        "    \n",
        "    # 인스턴스 변수에 단어의 분산 표현을 저장함\n",
        "    self.word_vecs = W_in \n"
      ],
      "metadata": {
        "id": "IxpjUxO21Hke"
      },
      "execution_count": 44,
      "outputs": []
    },
    {
      "cell_type": "code",
      "source": [
        "contexts"
      ],
      "metadata": {
        "colab": {
          "base_uri": "https://localhost:8080/"
        },
        "id": "Otv5pagF3WHN",
        "outputId": "f0443335-7a64-4c6e-d892-9bad6f510a50"
      },
      "execution_count": 45,
      "outputs": [
        {
          "output_type": "execute_result",
          "data": {
            "text/plain": [
              "array([[[1, 0, 0, 0, 0, 0, 0],\n",
              "        [0, 0, 1, 0, 0, 0, 0]],\n",
              "\n",
              "       [[0, 1, 0, 0, 0, 0, 0],\n",
              "        [0, 0, 0, 1, 0, 0, 0]],\n",
              "\n",
              "       [[0, 0, 1, 0, 0, 0, 0],\n",
              "        [0, 0, 0, 0, 1, 0, 0]],\n",
              "\n",
              "       [[0, 0, 0, 1, 0, 0, 0],\n",
              "        [0, 1, 0, 0, 0, 0, 0]],\n",
              "\n",
              "       [[0, 0, 0, 0, 1, 0, 0],\n",
              "        [0, 0, 0, 0, 0, 1, 0]],\n",
              "\n",
              "       [[0, 1, 0, 0, 0, 0, 0],\n",
              "        [0, 0, 0, 0, 0, 0, 1]]], dtype=int32)"
            ]
          },
          "metadata": {},
          "execution_count": 45
        }
      ]
    },
    {
      "cell_type": "code",
      "source": [
        "contexts[:,0]"
      ],
      "metadata": {
        "colab": {
          "base_uri": "https://localhost:8080/"
        },
        "id": "FYYNGCa53Mtp",
        "outputId": "da46d1f7-1863-4e1f-d179-3ae63837b5fa"
      },
      "execution_count": 42,
      "outputs": [
        {
          "output_type": "execute_result",
          "data": {
            "text/plain": [
              "array([[1, 0, 0, 0, 0, 0, 0],\n",
              "       [0, 1, 0, 0, 0, 0, 0],\n",
              "       [0, 0, 1, 0, 0, 0, 0],\n",
              "       [0, 0, 0, 1, 0, 0, 0],\n",
              "       [0, 0, 0, 0, 1, 0, 0],\n",
              "       [0, 1, 0, 0, 0, 0, 0]], dtype=int32)"
            ]
          },
          "metadata": {},
          "execution_count": 42
        }
      ]
    },
    {
      "cell_type": "code",
      "source": [
        "contexts[:,1]"
      ],
      "metadata": {
        "colab": {
          "base_uri": "https://localhost:8080/"
        },
        "id": "pIOnAnOu3UGp",
        "outputId": "95756d3a-2ae4-4c95-e661-5eb220ef5780"
      },
      "execution_count": 43,
      "outputs": [
        {
          "output_type": "execute_result",
          "data": {
            "text/plain": [
              "array([[0, 0, 1, 0, 0, 0, 0],\n",
              "       [0, 0, 0, 1, 0, 0, 0],\n",
              "       [0, 0, 0, 0, 1, 0, 0],\n",
              "       [0, 1, 0, 0, 0, 0, 0],\n",
              "       [0, 0, 0, 0, 0, 1, 0],\n",
              "       [0, 0, 0, 0, 0, 0, 1]], dtype=int32)"
            ]
          },
          "metadata": {},
          "execution_count": 43
        }
      ]
    },
    {
      "cell_type": "code",
      "source": [
        "def forward(self, contexts,  target):\n",
        "  h0 = self.in_layer0.forward(contexts[:,0]) \n",
        "  h1 = self.in_layer1.forward(contexts[:,1]) \n",
        "  h = (h0+h1) / 2\n",
        "  score = self.out_layer.forward(h) \n",
        "  loss = self.loss_layer.forward(score, target) \n",
        "  return loss "
      ],
      "metadata": {
        "id": "jyT40AIf2CKq"
      },
      "execution_count": 46,
      "outputs": []
    },
    {
      "cell_type": "code",
      "source": [
        "target # 2차원"
      ],
      "metadata": {
        "colab": {
          "base_uri": "https://localhost:8080/"
        },
        "id": "yZ3p4Vzg3hNo",
        "outputId": "9afd35c9-f9e3-4f66-cc2e-b4e220220c5c"
      },
      "execution_count": 48,
      "outputs": [
        {
          "output_type": "execute_result",
          "data": {
            "text/plain": [
              "array([[0, 1, 0, 0, 0, 0, 0],\n",
              "       [0, 0, 1, 0, 0, 0, 0],\n",
              "       [0, 0, 0, 1, 0, 0, 0],\n",
              "       [0, 0, 0, 0, 1, 0, 0],\n",
              "       [0, 1, 0, 0, 0, 0, 0],\n",
              "       [0, 0, 0, 0, 0, 1, 0]], dtype=int32)"
            ]
          },
          "metadata": {},
          "execution_count": 48
        }
      ]
    },
    {
      "cell_type": "code",
      "source": [
        "# 역전파\n",
        "def backward(self, dout=1): \n",
        "  ds = self.loss_layer.backward(dout) \n",
        "  da = self.out_layer.backward(ds) \n",
        "  da *= 0.5\n",
        "  self.in_layer1.backward(da) \n",
        "  self.in_layer0.backward(da) \n",
        "  return None "
      ],
      "metadata": {
        "id": "QbDZcXtr3sbs"
      },
      "execution_count": 49,
      "outputs": []
    },
    {
      "cell_type": "code",
      "source": [
        "from common.trainer import Trainer \n",
        "from common.optimizer import Adam \n",
        "from ch03.simple_cbow import SimpleCBOW \n",
        "from common.util import preprocess, create_contexts_target, convert_one_hot \n",
        "\n",
        "window_size = 1 \n",
        "hidden_size =5\n",
        "batch_size = 3 \n",
        "max_epoch = 1000\n",
        "\n",
        "model = SimpleCBOW(vocab_size,  hidden_size) \n",
        "optimizer = Adam()\n",
        "trainer = Trainer(model, optimizer) \n",
        "trainer.fit(contexts, target, max_epoch, batch_size) \n",
        "trainer.plot()"
      ],
      "metadata": {
        "colab": {
          "base_uri": "https://localhost:8080/",
          "height": 1000
        },
        "id": "nq7Jrcv-3qv3",
        "outputId": "219b1eca-7fdc-48c1-b3a1-0f7ee632cd79"
      },
      "execution_count": 52,
      "outputs": [
        {
          "output_type": "stream",
          "name": "stdout",
          "text": [
            "| 에폭 1 |  반복 1 / 2 | 시간 0[s] | 손실 1.95\n",
            "| 에폭 2 |  반복 1 / 2 | 시간 0[s] | 손실 1.95\n",
            "| 에폭 3 |  반복 1 / 2 | 시간 0[s] | 손실 1.95\n",
            "| 에폭 4 |  반복 1 / 2 | 시간 0[s] | 손실 1.95\n",
            "| 에폭 5 |  반복 1 / 2 | 시간 0[s] | 손실 1.95\n",
            "| 에폭 6 |  반복 1 / 2 | 시간 0[s] | 손실 1.95\n",
            "| 에폭 7 |  반복 1 / 2 | 시간 0[s] | 손실 1.95\n",
            "| 에폭 8 |  반복 1 / 2 | 시간 0[s] | 손실 1.95\n",
            "| 에폭 9 |  반복 1 / 2 | 시간 0[s] | 손실 1.95\n",
            "| 에폭 10 |  반복 1 / 2 | 시간 0[s] | 손실 1.95\n",
            "| 에폭 11 |  반복 1 / 2 | 시간 0[s] | 손실 1.94\n",
            "| 에폭 12 |  반복 1 / 2 | 시간 0[s] | 손실 1.94\n",
            "| 에폭 13 |  반복 1 / 2 | 시간 0[s] | 손실 1.94\n",
            "| 에폭 14 |  반복 1 / 2 | 시간 0[s] | 손실 1.94\n",
            "| 에폭 15 |  반복 1 / 2 | 시간 0[s] | 손실 1.94\n",
            "| 에폭 16 |  반복 1 / 2 | 시간 0[s] | 손실 1.94\n",
            "| 에폭 17 |  반복 1 / 2 | 시간 0[s] | 손실 1.94\n",
            "| 에폭 18 |  반복 1 / 2 | 시간 0[s] | 손실 1.94\n",
            "| 에폭 19 |  반복 1 / 2 | 시간 0[s] | 손실 1.94\n",
            "| 에폭 20 |  반복 1 / 2 | 시간 0[s] | 손실 1.94\n",
            "| 에폭 21 |  반복 1 / 2 | 시간 0[s] | 손실 1.94\n",
            "| 에폭 22 |  반복 1 / 2 | 시간 0[s] | 손실 1.94\n",
            "| 에폭 23 |  반복 1 / 2 | 시간 0[s] | 손실 1.94\n",
            "| 에폭 24 |  반복 1 / 2 | 시간 0[s] | 손실 1.94\n",
            "| 에폭 25 |  반복 1 / 2 | 시간 0[s] | 손실 1.94\n",
            "| 에폭 26 |  반복 1 / 2 | 시간 0[s] | 손실 1.94\n",
            "| 에폭 27 |  반복 1 / 2 | 시간 0[s] | 손실 1.93\n",
            "| 에폭 28 |  반복 1 / 2 | 시간 0[s] | 손실 1.94\n",
            "| 에폭 29 |  반복 1 / 2 | 시간 0[s] | 손실 1.93\n",
            "| 에폭 30 |  반복 1 / 2 | 시간 0[s] | 손실 1.93\n",
            "| 에폭 31 |  반복 1 / 2 | 시간 0[s] | 손실 1.93\n",
            "| 에폭 32 |  반복 1 / 2 | 시간 0[s] | 손실 1.93\n",
            "| 에폭 33 |  반복 1 / 2 | 시간 0[s] | 손실 1.93\n",
            "| 에폭 34 |  반복 1 / 2 | 시간 0[s] | 손실 1.93\n",
            "| 에폭 35 |  반복 1 / 2 | 시간 0[s] | 손실 1.93\n",
            "| 에폭 36 |  반복 1 / 2 | 시간 0[s] | 손실 1.92\n",
            "| 에폭 37 |  반복 1 / 2 | 시간 0[s] | 손실 1.92\n",
            "| 에폭 38 |  반복 1 / 2 | 시간 0[s] | 손실 1.92\n",
            "| 에폭 39 |  반복 1 / 2 | 시간 0[s] | 손실 1.92\n",
            "| 에폭 40 |  반복 1 / 2 | 시간 0[s] | 손실 1.92\n",
            "| 에폭 41 |  반복 1 / 2 | 시간 0[s] | 손실 1.91\n",
            "| 에폭 42 |  반복 1 / 2 | 시간 0[s] | 손실 1.92\n",
            "| 에폭 43 |  반복 1 / 2 | 시간 0[s] | 손실 1.91\n",
            "| 에폭 44 |  반복 1 / 2 | 시간 0[s] | 손실 1.91\n",
            "| 에폭 45 |  반복 1 / 2 | 시간 0[s] | 손실 1.91\n",
            "| 에폭 46 |  반복 1 / 2 | 시간 0[s] | 손실 1.91\n",
            "| 에폭 47 |  반복 1 / 2 | 시간 0[s] | 손실 1.91\n",
            "| 에폭 48 |  반복 1 / 2 | 시간 0[s] | 손실 1.90\n",
            "| 에폭 49 |  반복 1 / 2 | 시간 0[s] | 손실 1.90\n",
            "| 에폭 50 |  반복 1 / 2 | 시간 0[s] | 손실 1.90\n",
            "| 에폭 51 |  반복 1 / 2 | 시간 0[s] | 손실 1.90\n",
            "| 에폭 52 |  반복 1 / 2 | 시간 0[s] | 손실 1.89\n",
            "| 에폭 53 |  반복 1 / 2 | 시간 0[s] | 손실 1.89\n",
            "| 에폭 54 |  반복 1 / 2 | 시간 0[s] | 손실 1.88\n",
            "| 에폭 55 |  반복 1 / 2 | 시간 0[s] | 손실 1.88\n",
            "| 에폭 56 |  반복 1 / 2 | 시간 0[s] | 손실 1.89\n",
            "| 에폭 57 |  반복 1 / 2 | 시간 0[s] | 손실 1.88\n",
            "| 에폭 58 |  반복 1 / 2 | 시간 0[s] | 손실 1.88\n",
            "| 에폭 59 |  반복 1 / 2 | 시간 0[s] | 손실 1.87\n",
            "| 에폭 60 |  반복 1 / 2 | 시간 0[s] | 손실 1.86\n",
            "| 에폭 61 |  반복 1 / 2 | 시간 0[s] | 손실 1.88\n",
            "| 에폭 62 |  반복 1 / 2 | 시간 0[s] | 손실 1.86\n",
            "| 에폭 63 |  반복 1 / 2 | 시간 0[s] | 손실 1.85\n",
            "| 에폭 64 |  반복 1 / 2 | 시간 0[s] | 손실 1.86\n",
            "| 에폭 65 |  반복 1 / 2 | 시간 0[s] | 손실 1.86\n",
            "| 에폭 66 |  반복 1 / 2 | 시간 0[s] | 손실 1.84\n",
            "| 에폭 67 |  반복 1 / 2 | 시간 0[s] | 손실 1.85\n",
            "| 에폭 68 |  반복 1 / 2 | 시간 0[s] | 손실 1.85\n",
            "| 에폭 69 |  반복 1 / 2 | 시간 0[s] | 손실 1.84\n",
            "| 에폭 70 |  반복 1 / 2 | 시간 0[s] | 손실 1.84\n",
            "| 에폭 71 |  반복 1 / 2 | 시간 0[s] | 손실 1.83\n",
            "| 에폭 72 |  반복 1 / 2 | 시간 0[s] | 손실 1.83\n",
            "| 에폭 73 |  반복 1 / 2 | 시간 0[s] | 손실 1.83\n",
            "| 에폭 74 |  반복 1 / 2 | 시간 0[s] | 손실 1.82\n",
            "| 에폭 75 |  반복 1 / 2 | 시간 0[s] | 손실 1.82\n",
            "| 에폭 76 |  반복 1 / 2 | 시간 0[s] | 손실 1.81\n",
            "| 에폭 77 |  반복 1 / 2 | 시간 0[s] | 손실 1.80\n",
            "| 에폭 78 |  반복 1 / 2 | 시간 0[s] | 손실 1.81\n",
            "| 에폭 79 |  반복 1 / 2 | 시간 0[s] | 손실 1.80\n",
            "| 에폭 80 |  반복 1 / 2 | 시간 0[s] | 손실 1.81\n",
            "| 에폭 81 |  반복 1 / 2 | 시간 0[s] | 손실 1.78\n",
            "| 에폭 82 |  반복 1 / 2 | 시간 0[s] | 손실 1.79\n",
            "| 에폭 83 |  반복 1 / 2 | 시간 0[s] | 손실 1.78\n",
            "| 에폭 84 |  반복 1 / 2 | 시간 0[s] | 손실 1.79\n",
            "| 에폭 85 |  반복 1 / 2 | 시간 0[s] | 손실 1.80\n",
            "| 에폭 86 |  반복 1 / 2 | 시간 0[s] | 손실 1.77\n",
            "| 에폭 87 |  반복 1 / 2 | 시간 0[s] | 손실 1.77\n",
            "| 에폭 88 |  반복 1 / 2 | 시간 0[s] | 손실 1.76\n",
            "| 에폭 89 |  반복 1 / 2 | 시간 0[s] | 손실 1.77\n",
            "| 에폭 90 |  반복 1 / 2 | 시간 0[s] | 손실 1.77\n",
            "| 에폭 91 |  반복 1 / 2 | 시간 0[s] | 손실 1.75\n",
            "| 에폭 92 |  반복 1 / 2 | 시간 0[s] | 손실 1.73\n",
            "| 에폭 93 |  반복 1 / 2 | 시간 0[s] | 손실 1.75\n",
            "| 에폭 94 |  반복 1 / 2 | 시간 0[s] | 손실 1.77\n",
            "| 에폭 95 |  반복 1 / 2 | 시간 0[s] | 손실 1.73\n",
            "| 에폭 96 |  반복 1 / 2 | 시간 0[s] | 손실 1.73\n",
            "| 에폭 97 |  반복 1 / 2 | 시간 0[s] | 손실 1.72\n",
            "| 에폭 98 |  반복 1 / 2 | 시간 0[s] | 손실 1.72\n",
            "| 에폭 99 |  반복 1 / 2 | 시간 0[s] | 손실 1.74\n",
            "| 에폭 100 |  반복 1 / 2 | 시간 0[s] | 손실 1.69\n",
            "| 에폭 101 |  반복 1 / 2 | 시간 0[s] | 손실 1.73\n",
            "| 에폭 102 |  반복 1 / 2 | 시간 0[s] | 손실 1.71\n",
            "| 에폭 103 |  반복 1 / 2 | 시간 0[s] | 손실 1.68\n",
            "| 에폭 104 |  반복 1 / 2 | 시간 0[s] | 손실 1.69\n",
            "| 에폭 105 |  반복 1 / 2 | 시간 0[s] | 손실 1.69\n",
            "| 에폭 106 |  반복 1 / 2 | 시간 0[s] | 손실 1.70\n",
            "| 에폭 107 |  반복 1 / 2 | 시간 0[s] | 손실 1.68\n",
            "| 에폭 108 |  반복 1 / 2 | 시간 0[s] | 손실 1.68\n",
            "| 에폭 109 |  반복 1 / 2 | 시간 0[s] | 손실 1.68\n",
            "| 에폭 110 |  반복 1 / 2 | 시간 0[s] | 손실 1.66\n",
            "| 에폭 111 |  반복 1 / 2 | 시간 0[s] | 손실 1.66\n",
            "| 에폭 112 |  반복 1 / 2 | 시간 0[s] | 손실 1.66\n",
            "| 에폭 113 |  반복 1 / 2 | 시간 0[s] | 손실 1.66\n",
            "| 에폭 114 |  반복 1 / 2 | 시간 0[s] | 손실 1.64\n",
            "| 에폭 115 |  반복 1 / 2 | 시간 0[s] | 손실 1.66\n",
            "| 에폭 116 |  반복 1 / 2 | 시간 0[s] | 손실 1.64\n",
            "| 에폭 117 |  반복 1 / 2 | 시간 0[s] | 손실 1.64\n",
            "| 에폭 118 |  반복 1 / 2 | 시간 0[s] | 손실 1.63\n",
            "| 에폭 119 |  반복 1 / 2 | 시간 0[s] | 손실 1.63\n",
            "| 에폭 120 |  반복 1 / 2 | 시간 0[s] | 손실 1.62\n",
            "| 에폭 121 |  반복 1 / 2 | 시간 0[s] | 손실 1.62\n",
            "| 에폭 122 |  반복 1 / 2 | 시간 0[s] | 손실 1.61\n",
            "| 에폭 123 |  반복 1 / 2 | 시간 0[s] | 손실 1.61\n",
            "| 에폭 124 |  반복 1 / 2 | 시간 0[s] | 손실 1.62\n",
            "| 에폭 125 |  반복 1 / 2 | 시간 0[s] | 손실 1.58\n",
            "| 에폭 126 |  반복 1 / 2 | 시간 0[s] | 손실 1.61\n",
            "| 에폭 127 |  반복 1 / 2 | 시간 0[s] | 손실 1.58\n",
            "| 에폭 128 |  반복 1 / 2 | 시간 0[s] | 손실 1.55\n",
            "| 에폭 129 |  반복 1 / 2 | 시간 0[s] | 손실 1.59\n",
            "| 에폭 130 |  반복 1 / 2 | 시간 0[s] | 손실 1.57\n",
            "| 에폭 131 |  반복 1 / 2 | 시간 0[s] | 손실 1.59\n",
            "| 에폭 132 |  반복 1 / 2 | 시간 0[s] | 손실 1.53\n",
            "| 에폭 133 |  반복 1 / 2 | 시간 0[s] | 손실 1.61\n",
            "| 에폭 134 |  반복 1 / 2 | 시간 0[s] | 손실 1.50\n",
            "| 에폭 135 |  반복 1 / 2 | 시간 0[s] | 손실 1.59\n",
            "| 에폭 136 |  반복 1 / 2 | 시간 0[s] | 손실 1.56\n",
            "| 에폭 137 |  반복 1 / 2 | 시간 0[s] | 손실 1.52\n",
            "| 에폭 138 |  반복 1 / 2 | 시간 0[s] | 손실 1.51\n",
            "| 에폭 139 |  반복 1 / 2 | 시간 0[s] | 손실 1.53\n",
            "| 에폭 140 |  반복 1 / 2 | 시간 0[s] | 손실 1.54\n",
            "| 에폭 141 |  반복 1 / 2 | 시간 0[s] | 손실 1.48\n",
            "| 에폭 142 |  반복 1 / 2 | 시간 0[s] | 손실 1.56\n",
            "| 에폭 143 |  반복 1 / 2 | 시간 0[s] | 손실 1.49\n",
            "| 에폭 144 |  반복 1 / 2 | 시간 0[s] | 손실 1.52\n",
            "| 에폭 145 |  반복 1 / 2 | 시간 0[s] | 손실 1.46\n",
            "| 에폭 146 |  반복 1 / 2 | 시간 0[s] | 손실 1.49\n",
            "| 에폭 147 |  반복 1 / 2 | 시간 0[s] | 손실 1.54\n",
            "| 에폭 148 |  반복 1 / 2 | 시간 0[s] | 손실 1.46\n",
            "| 에폭 149 |  반복 1 / 2 | 시간 0[s] | 손실 1.50\n",
            "| 에폭 150 |  반복 1 / 2 | 시간 0[s] | 손실 1.48\n",
            "| 에폭 151 |  반복 1 / 2 | 시간 0[s] | 손실 1.49\n",
            "| 에폭 152 |  반복 1 / 2 | 시간 0[s] | 손실 1.44\n",
            "| 에폭 153 |  반복 1 / 2 | 시간 0[s] | 손실 1.42\n",
            "| 에폭 154 |  반복 1 / 2 | 시간 0[s] | 손실 1.50\n",
            "| 에폭 155 |  반복 1 / 2 | 시간 0[s] | 손실 1.46\n",
            "| 에폭 156 |  반복 1 / 2 | 시간 0[s] | 손실 1.45\n",
            "| 에폭 157 |  반복 1 / 2 | 시간 0[s] | 손실 1.44\n",
            "| 에폭 158 |  반복 1 / 2 | 시간 0[s] | 손실 1.44\n",
            "| 에폭 159 |  반복 1 / 2 | 시간 0[s] | 손실 1.43\n",
            "| 에폭 160 |  반복 1 / 2 | 시간 0[s] | 손실 1.38\n",
            "| 에폭 161 |  반복 1 / 2 | 시간 0[s] | 손실 1.48\n",
            "| 에폭 162 |  반복 1 / 2 | 시간 0[s] | 손실 1.42\n",
            "| 에폭 163 |  반복 1 / 2 | 시간 0[s] | 손실 1.42\n",
            "| 에폭 164 |  반복 1 / 2 | 시간 0[s] | 손실 1.39\n",
            "| 에폭 165 |  반복 1 / 2 | 시간 0[s] | 손실 1.43\n",
            "| 에폭 166 |  반복 1 / 2 | 시간 0[s] | 손실 1.38\n",
            "| 에폭 167 |  반복 1 / 2 | 시간 0[s] | 손실 1.40\n",
            "| 에폭 168 |  반복 1 / 2 | 시간 0[s] | 손실 1.40\n",
            "| 에폭 169 |  반복 1 / 2 | 시간 0[s] | 손실 1.39\n",
            "| 에폭 170 |  반복 1 / 2 | 시간 0[s] | 손실 1.41\n",
            "| 에폭 171 |  반복 1 / 2 | 시간 0[s] | 손실 1.38\n",
            "| 에폭 172 |  반복 1 / 2 | 시간 0[s] | 손실 1.41\n",
            "| 에폭 173 |  반복 1 / 2 | 시간 0[s] | 손실 1.35\n",
            "| 에폭 174 |  반복 1 / 2 | 시간 0[s] | 손실 1.30\n",
            "| 에폭 175 |  반복 1 / 2 | 시간 0[s] | 손실 1.42\n",
            "| 에폭 176 |  반복 1 / 2 | 시간 0[s] | 손실 1.34\n",
            "| 에폭 177 |  반복 1 / 2 | 시간 0[s] | 손실 1.36\n",
            "| 에폭 178 |  반복 1 / 2 | 시간 0[s] | 손실 1.35\n",
            "| 에폭 179 |  반복 1 / 2 | 시간 0[s] | 손실 1.37\n",
            "| 에폭 180 |  반복 1 / 2 | 시간 0[s] | 손실 1.32\n",
            "| 에폭 181 |  반복 1 / 2 | 시간 0[s] | 손실 1.34\n",
            "| 에폭 182 |  반복 1 / 2 | 시간 0[s] | 손실 1.36\n",
            "| 에폭 183 |  반복 1 / 2 | 시간 0[s] | 손실 1.33\n",
            "| 에폭 184 |  반복 1 / 2 | 시간 0[s] | 손실 1.30\n",
            "| 에폭 185 |  반복 1 / 2 | 시간 0[s] | 손실 1.39\n",
            "| 에폭 186 |  반복 1 / 2 | 시간 0[s] | 손실 1.28\n",
            "| 에폭 187 |  반복 1 / 2 | 시간 0[s] | 손실 1.25\n",
            "| 에폭 188 |  반복 1 / 2 | 시간 0[s] | 손실 1.37\n",
            "| 에폭 189 |  반복 1 / 2 | 시간 0[s] | 손실 1.31\n",
            "| 에폭 190 |  반복 1 / 2 | 시간 0[s] | 손실 1.30\n",
            "| 에폭 191 |  반복 1 / 2 | 시간 0[s] | 손실 1.23\n",
            "| 에폭 192 |  반복 1 / 2 | 시간 0[s] | 손실 1.38\n",
            "| 에폭 193 |  반복 1 / 2 | 시간 0[s] | 손실 1.25\n",
            "| 에폭 194 |  반복 1 / 2 | 시간 0[s] | 손실 1.28\n",
            "| 에폭 195 |  반복 1 / 2 | 시간 0[s] | 손실 1.31\n",
            "| 에폭 196 |  반복 1 / 2 | 시간 0[s] | 손실 1.21\n",
            "| 에폭 197 |  반복 1 / 2 | 시간 0[s] | 손실 1.35\n",
            "| 에폭 198 |  반복 1 / 2 | 시간 0[s] | 손실 1.20\n",
            "| 에폭 199 |  반복 1 / 2 | 시간 0[s] | 손실 1.38\n",
            "| 에폭 200 |  반복 1 / 2 | 시간 0[s] | 손실 1.26\n",
            "| 에폭 201 |  반복 1 / 2 | 시간 0[s] | 손실 1.15\n",
            "| 에폭 202 |  반복 1 / 2 | 시간 0[s] | 손실 1.31\n",
            "| 에폭 203 |  반복 1 / 2 | 시간 0[s] | 손실 1.27\n",
            "| 에폭 204 |  반복 1 / 2 | 시간 0[s] | 손실 1.25\n",
            "| 에폭 205 |  반복 1 / 2 | 시간 0[s] | 손실 1.25\n",
            "| 에폭 206 |  반복 1 / 2 | 시간 0[s] | 손실 1.27\n",
            "| 에폭 207 |  반복 1 / 2 | 시간 0[s] | 손실 1.21\n",
            "| 에폭 208 |  반복 1 / 2 | 시간 0[s] | 손실 1.23\n",
            "| 에폭 209 |  반복 1 / 2 | 시간 0[s] | 손실 1.28\n",
            "| 에폭 210 |  반복 1 / 2 | 시간 0[s] | 손실 1.11\n",
            "| 에폭 211 |  반복 1 / 2 | 시간 0[s] | 손실 1.35\n",
            "| 에폭 212 |  반복 1 / 2 | 시간 0[s] | 손실 1.15\n",
            "| 에폭 213 |  반복 1 / 2 | 시간 0[s] | 손실 1.21\n",
            "| 에폭 214 |  반복 1 / 2 | 시간 0[s] | 손실 1.29\n",
            "| 에폭 215 |  반복 1 / 2 | 시간 0[s] | 손실 1.13\n",
            "| 에폭 216 |  반복 1 / 2 | 시간 0[s] | 손실 1.23\n",
            "| 에폭 217 |  반복 1 / 2 | 시간 0[s] | 손실 1.13\n",
            "| 에폭 218 |  반복 1 / 2 | 시간 0[s] | 손실 1.33\n",
            "| 에폭 219 |  반복 1 / 2 | 시간 0[s] | 손실 1.15\n",
            "| 에폭 220 |  반복 1 / 2 | 시간 0[s] | 손실 1.23\n",
            "| 에폭 221 |  반복 1 / 2 | 시간 0[s] | 손실 1.08\n",
            "| 에폭 222 |  반복 1 / 2 | 시간 0[s] | 손실 1.19\n",
            "| 에폭 223 |  반복 1 / 2 | 시간 0[s] | 손실 1.26\n",
            "| 에폭 224 |  반복 1 / 2 | 시간 0[s] | 손실 1.16\n",
            "| 에폭 225 |  반복 1 / 2 | 시간 0[s] | 손실 1.24\n",
            "| 에폭 226 |  반복 1 / 2 | 시간 0[s] | 손실 1.13\n",
            "| 에폭 227 |  반복 1 / 2 | 시간 0[s] | 손실 1.12\n",
            "| 에폭 228 |  반복 1 / 2 | 시간 0[s] | 손실 1.21\n",
            "| 에폭 229 |  반복 1 / 2 | 시간 0[s] | 손실 1.17\n",
            "| 에폭 230 |  반복 1 / 2 | 시간 0[s] | 손실 1.12\n",
            "| 에폭 231 |  반복 1 / 2 | 시간 0[s] | 손실 1.28\n",
            "| 에폭 232 |  반복 1 / 2 | 시간 0[s] | 손실 1.07\n",
            "| 에폭 233 |  반복 1 / 2 | 시간 0[s] | 손실 1.10\n",
            "| 에폭 234 |  반복 1 / 2 | 시간 0[s] | 손실 1.23\n",
            "| 에폭 235 |  반복 1 / 2 | 시간 0[s] | 손실 1.16\n",
            "| 에폭 236 |  반복 1 / 2 | 시간 0[s] | 손실 1.21\n",
            "| 에폭 237 |  반복 1 / 2 | 시간 0[s] | 손실 1.00\n",
            "| 에폭 238 |  반복 1 / 2 | 시간 0[s] | 손실 1.15\n",
            "| 에폭 239 |  반복 1 / 2 | 시간 0[s] | 손실 1.22\n",
            "| 에폭 240 |  반복 1 / 2 | 시간 0[s] | 손실 1.14\n",
            "| 에폭 241 |  반복 1 / 2 | 시간 0[s] | 손실 1.11\n",
            "| 에폭 242 |  반복 1 / 2 | 시간 0[s] | 손실 1.14\n",
            "| 에폭 243 |  반복 1 / 2 | 시간 0[s] | 손실 1.07\n",
            "| 에폭 244 |  반복 1 / 2 | 시간 0[s] | 손실 1.18\n",
            "| 에폭 245 |  반복 1 / 2 | 시간 0[s] | 손실 1.05\n",
            "| 에폭 246 |  반복 1 / 2 | 시간 0[s] | 손실 1.13\n",
            "| 에폭 247 |  반복 1 / 2 | 시간 0[s] | 손실 1.26\n",
            "| 에폭 248 |  반복 1 / 2 | 시간 0[s] | 손실 1.10\n",
            "| 에폭 249 |  반복 1 / 2 | 시간 0[s] | 손실 1.06\n",
            "| 에폭 250 |  반복 1 / 2 | 시간 0[s] | 손실 1.16\n",
            "| 에폭 251 |  반복 1 / 2 | 시간 0[s] | 손실 1.11\n",
            "| 에폭 252 |  반복 1 / 2 | 시간 0[s] | 손실 1.10\n",
            "| 에폭 253 |  반복 1 / 2 | 시간 0[s] | 손실 1.04\n",
            "| 에폭 254 |  반복 1 / 2 | 시간 0[s] | 손실 1.11\n",
            "| 에폭 255 |  반복 1 / 2 | 시간 0[s] | 손실 1.08\n",
            "| 에폭 256 |  반복 1 / 2 | 시간 0[s] | 손실 1.11\n",
            "| 에폭 257 |  반복 1 / 2 | 시간 0[s] | 손실 1.01\n",
            "| 에폭 258 |  반복 1 / 2 | 시간 0[s] | 손실 1.22\n",
            "| 에폭 259 |  반복 1 / 2 | 시간 0[s] | 손실 1.02\n",
            "| 에폭 260 |  반복 1 / 2 | 시간 0[s] | 손실 1.07\n",
            "| 에폭 261 |  반복 1 / 2 | 시간 0[s] | 손실 1.08\n",
            "| 에폭 262 |  반복 1 / 2 | 시간 0[s] | 손실 1.17\n",
            "| 에폭 263 |  반복 1 / 2 | 시간 0[s] | 손실 1.06\n",
            "| 에폭 264 |  반복 1 / 2 | 시간 0[s] | 손실 0.99\n",
            "| 에폭 265 |  반복 1 / 2 | 시간 0[s] | 손실 1.02\n",
            "| 에폭 266 |  반복 1 / 2 | 시간 0[s] | 손실 1.22\n",
            "| 에폭 267 |  반복 1 / 2 | 시간 0[s] | 손실 0.99\n",
            "| 에폭 268 |  반복 1 / 2 | 시간 0[s] | 손실 1.15\n",
            "| 에폭 269 |  반복 1 / 2 | 시간 0[s] | 손실 0.98\n",
            "| 에폭 270 |  반복 1 / 2 | 시간 0[s] | 손실 0.98\n",
            "| 에폭 271 |  반복 1 / 2 | 시간 0[s] | 손실 1.14\n",
            "| 에폭 272 |  반복 1 / 2 | 시간 0[s] | 손실 1.13\n",
            "| 에폭 273 |  반복 1 / 2 | 시간 0[s] | 손실 0.89\n",
            "| 에폭 274 |  반복 1 / 2 | 시간 0[s] | 손실 1.14\n",
            "| 에폭 275 |  반복 1 / 2 | 시간 0[s] | 손실 1.12\n",
            "| 에폭 276 |  반복 1 / 2 | 시간 0[s] | 손실 0.98\n",
            "| 에폭 277 |  반복 1 / 2 | 시간 0[s] | 손실 0.96\n",
            "| 에폭 278 |  반복 1 / 2 | 시간 0[s] | 손실 1.12\n",
            "| 에폭 279 |  반복 1 / 2 | 시간 0[s] | 손실 1.03\n",
            "| 에폭 280 |  반복 1 / 2 | 시간 0[s] | 손실 1.03\n",
            "| 에폭 281 |  반복 1 / 2 | 시간 0[s] | 손실 1.12\n",
            "| 에폭 282 |  반복 1 / 2 | 시간 0[s] | 손실 0.95\n",
            "| 에폭 283 |  반복 1 / 2 | 시간 0[s] | 손실 1.04\n",
            "| 에폭 284 |  반복 1 / 2 | 시간 0[s] | 손실 0.95\n",
            "| 에폭 285 |  반복 1 / 2 | 시간 0[s] | 손실 1.11\n",
            "| 에폭 286 |  반복 1 / 2 | 시간 0[s] | 손실 1.04\n",
            "| 에폭 287 |  반복 1 / 2 | 시간 0[s] | 손실 1.02\n",
            "| 에폭 288 |  반복 1 / 2 | 시간 0[s] | 손실 1.08\n",
            "| 에폭 289 |  반복 1 / 2 | 시간 0[s] | 손실 0.86\n",
            "| 에폭 290 |  반복 1 / 2 | 시간 0[s] | 손실 1.10\n",
            "| 에폭 291 |  반복 1 / 2 | 시간 0[s] | 손실 1.09\n",
            "| 에폭 292 |  반복 1 / 2 | 시간 0[s] | 손실 0.88\n",
            "| 에폭 293 |  반복 1 / 2 | 시간 0[s] | 손실 1.07\n",
            "| 에폭 294 |  반복 1 / 2 | 시간 0[s] | 손실 1.00\n",
            "| 에폭 295 |  반복 1 / 2 | 시간 0[s] | 손실 1.09\n",
            "| 에폭 296 |  반복 1 / 2 | 시간 0[s] | 손실 0.95\n",
            "| 에폭 297 |  반복 1 / 2 | 시간 0[s] | 손실 0.98\n",
            "| 에폭 298 |  반복 1 / 2 | 시간 0[s] | 손실 1.00\n",
            "| 에폭 299 |  반복 1 / 2 | 시간 0[s] | 손실 1.00\n",
            "| 에폭 300 |  반복 1 / 2 | 시간 0[s] | 손실 0.94\n",
            "| 에폭 301 |  반복 1 / 2 | 시간 0[s] | 손실 1.05\n",
            "| 에폭 302 |  반복 1 / 2 | 시간 0[s] | 손실 1.00\n",
            "| 에폭 303 |  반복 1 / 2 | 시간 0[s] | 손실 1.02\n",
            "| 에폭 304 |  반복 1 / 2 | 시간 0[s] | 손실 0.99\n",
            "| 에폭 305 |  반복 1 / 2 | 시간 0[s] | 손실 0.96\n",
            "| 에폭 306 |  반복 1 / 2 | 시간 0[s] | 손실 1.01\n",
            "| 에폭 307 |  반복 1 / 2 | 시간 0[s] | 손실 1.04\n",
            "| 에폭 308 |  반복 1 / 2 | 시간 0[s] | 손실 0.83\n",
            "| 에폭 309 |  반복 1 / 2 | 시간 0[s] | 손실 1.01\n",
            "| 에폭 310 |  반복 1 / 2 | 시간 0[s] | 손실 1.03\n",
            "| 에폭 311 |  반복 1 / 2 | 시간 0[s] | 손실 1.00\n",
            "| 에폭 312 |  반복 1 / 2 | 시간 0[s] | 손실 0.95\n",
            "| 에폭 313 |  반복 1 / 2 | 시간 0[s] | 손실 1.00\n",
            "| 에폭 314 |  반복 1 / 2 | 시간 0[s] | 손실 0.95\n",
            "| 에폭 315 |  반복 1 / 2 | 시간 0[s] | 손실 1.08\n",
            "| 에폭 316 |  반복 1 / 2 | 시간 0[s] | 손실 0.89\n",
            "| 에폭 317 |  반복 1 / 2 | 시간 0[s] | 손실 0.86\n",
            "| 에폭 318 |  반복 1 / 2 | 시간 0[s] | 손실 0.96\n",
            "| 에폭 319 |  반복 1 / 2 | 시간 0[s] | 손실 1.07\n",
            "| 에폭 320 |  반복 1 / 2 | 시간 0[s] | 손실 0.93\n",
            "| 에폭 321 |  반복 1 / 2 | 시간 0[s] | 손실 1.07\n",
            "| 에폭 322 |  반복 1 / 2 | 시간 0[s] | 손실 0.85\n",
            "| 에폭 323 |  반복 1 / 2 | 시간 0[s] | 손실 1.06\n",
            "| 에폭 324 |  반복 1 / 2 | 시간 0[s] | 손실 0.85\n",
            "| 에폭 325 |  반복 1 / 2 | 시간 0[s] | 손실 1.06\n",
            "| 에폭 326 |  반복 1 / 2 | 시간 0[s] | 손실 0.84\n",
            "| 에폭 327 |  반복 1 / 2 | 시간 0[s] | 손실 0.95\n",
            "| 에폭 328 |  반복 1 / 2 | 시간 0[s] | 손실 1.06\n",
            "| 에폭 329 |  반복 1 / 2 | 시간 0[s] | 손실 0.96\n",
            "| 에폭 330 |  반복 1 / 2 | 시간 0[s] | 손실 0.94\n",
            "| 에폭 331 |  반복 1 / 2 | 시간 0[s] | 손실 0.87\n",
            "| 에폭 332 |  반복 1 / 2 | 시간 0[s] | 손실 0.90\n",
            "| 에폭 333 |  반복 1 / 2 | 시간 0[s] | 손실 0.98\n",
            "| 에폭 334 |  반복 1 / 2 | 시간 0[s] | 손실 0.94\n",
            "| 에폭 335 |  반복 1 / 2 | 시간 0[s] | 손실 0.94\n",
            "| 에폭 336 |  반복 1 / 2 | 시간 0[s] | 손실 0.83\n",
            "| 에폭 337 |  반복 1 / 2 | 시간 0[s] | 손실 1.01\n",
            "| 에폭 338 |  반복 1 / 2 | 시간 0[s] | 손실 0.93\n",
            "| 에폭 339 |  반복 1 / 2 | 시간 0[s] | 손실 1.04\n",
            "| 에폭 340 |  반복 1 / 2 | 시간 0[s] | 손실 0.93\n",
            "| 에폭 341 |  반복 1 / 2 | 시간 0[s] | 손실 0.86\n",
            "| 에폭 342 |  반복 1 / 2 | 시간 0[s] | 손실 1.01\n",
            "| 에폭 343 |  반복 1 / 2 | 시간 0[s] | 손실 0.76\n",
            "| 에폭 344 |  반복 1 / 2 | 시간 0[s] | 손실 0.98\n",
            "| 에폭 345 |  반복 1 / 2 | 시간 0[s] | 손실 0.99\n",
            "| 에폭 346 |  반복 1 / 2 | 시간 0[s] | 손실 0.97\n",
            "| 에폭 347 |  반복 1 / 2 | 시간 0[s] | 손실 0.82\n",
            "| 에폭 348 |  반복 1 / 2 | 시간 0[s] | 손실 0.97\n",
            "| 에폭 349 |  반복 1 / 2 | 시간 0[s] | 손실 0.88\n",
            "| 에폭 350 |  반복 1 / 2 | 시간 0[s] | 손실 0.88\n",
            "| 에폭 351 |  반복 1 / 2 | 시간 0[s] | 손실 0.91\n",
            "| 에폭 352 |  반복 1 / 2 | 시간 0[s] | 손실 0.95\n",
            "| 에폭 353 |  반복 1 / 2 | 시간 0[s] | 손실 0.94\n",
            "| 에폭 354 |  반복 1 / 2 | 시간 0[s] | 손실 0.88\n",
            "| 에폭 355 |  반복 1 / 2 | 시간 0[s] | 손실 0.86\n",
            "| 에폭 356 |  반복 1 / 2 | 시간 0[s] | 손실 0.99\n",
            "| 에폭 357 |  반복 1 / 2 | 시간 0[s] | 손실 0.82\n",
            "| 에폭 358 |  반복 1 / 2 | 시간 0[s] | 손실 0.96\n",
            "| 에폭 359 |  반복 1 / 2 | 시간 0[s] | 손실 0.96\n",
            "| 에폭 360 |  반복 1 / 2 | 시간 0[s] | 손실 0.78\n",
            "| 에폭 361 |  반복 1 / 2 | 시간 0[s] | 손실 0.96\n",
            "| 에폭 362 |  반복 1 / 2 | 시간 0[s] | 손실 0.98\n",
            "| 에폭 363 |  반복 1 / 2 | 시간 0[s] | 손실 0.81\n",
            "| 에폭 364 |  반복 1 / 2 | 시간 0[s] | 손실 0.90\n",
            "| 에폭 365 |  반복 1 / 2 | 시간 0[s] | 손실 0.84\n",
            "| 에폭 366 |  반복 1 / 2 | 시간 0[s] | 손실 0.95\n",
            "| 에폭 367 |  반복 1 / 2 | 시간 0[s] | 손실 0.87\n",
            "| 에폭 368 |  반복 1 / 2 | 시간 0[s] | 손실 0.83\n",
            "| 에폭 369 |  반복 1 / 2 | 시간 0[s] | 손실 0.91\n",
            "| 에폭 370 |  반복 1 / 2 | 시간 0[s] | 손실 0.83\n",
            "| 에폭 371 |  반복 1 / 2 | 시간 0[s] | 손실 0.98\n",
            "| 에폭 372 |  반복 1 / 2 | 시간 0[s] | 손실 0.97\n",
            "| 에폭 373 |  반복 1 / 2 | 시간 0[s] | 손실 0.88\n",
            "| 에폭 374 |  반복 1 / 2 | 시간 0[s] | 손실 0.79\n",
            "| 에폭 375 |  반복 1 / 2 | 시간 0[s] | 손실 0.88\n",
            "| 에폭 376 |  반복 1 / 2 | 시간 0[s] | 손실 0.89\n",
            "| 에폭 377 |  반복 1 / 2 | 시간 0[s] | 손실 0.82\n",
            "| 에폭 378 |  반복 1 / 2 | 시간 0[s] | 손실 0.90\n",
            "| 에폭 379 |  반복 1 / 2 | 시간 0[s] | 손실 0.82\n",
            "| 에폭 380 |  반복 1 / 2 | 시간 0[s] | 손실 0.93\n",
            "| 에폭 381 |  반복 1 / 2 | 시간 0[s] | 손실 0.94\n",
            "| 에폭 382 |  반복 1 / 2 | 시간 0[s] | 손실 0.96\n",
            "| 에폭 383 |  반복 1 / 2 | 시간 0[s] | 손실 0.75\n",
            "| 에폭 384 |  반복 1 / 2 | 시간 0[s] | 손실 0.87\n",
            "| 에폭 385 |  반복 1 / 2 | 시간 0[s] | 손실 0.84\n",
            "| 에폭 386 |  반복 1 / 2 | 시간 0[s] | 손실 0.87\n",
            "| 에폭 387 |  반복 1 / 2 | 시간 0[s] | 손실 0.90\n",
            "| 에폭 388 |  반복 1 / 2 | 시간 0[s] | 손실 0.95\n",
            "| 에폭 389 |  반복 1 / 2 | 시간 0[s] | 손실 0.74\n",
            "| 에폭 390 |  반복 1 / 2 | 시간 0[s] | 손실 0.93\n",
            "| 에폭 391 |  반복 1 / 2 | 시간 0[s] | 손실 0.79\n",
            "| 에폭 392 |  반복 1 / 2 | 시간 0[s] | 손실 0.93\n",
            "| 에폭 393 |  반복 1 / 2 | 시간 0[s] | 손실 0.82\n",
            "| 에폭 394 |  반복 1 / 2 | 시간 0[s] | 손실 0.73\n",
            "| 에폭 395 |  반복 1 / 2 | 시간 0[s] | 손실 0.98\n",
            "| 에폭 396 |  반복 1 / 2 | 시간 0[s] | 손실 0.82\n",
            "| 에폭 397 |  반복 1 / 2 | 시간 0[s] | 손실 0.98\n",
            "| 에폭 398 |  반복 1 / 2 | 시간 0[s] | 손실 0.89\n",
            "| 에폭 399 |  반복 1 / 2 | 시간 0[s] | 손실 0.78\n",
            "| 에폭 400 |  반복 1 / 2 | 시간 0[s] | 손실 0.92\n",
            "| 에폭 401 |  반복 1 / 2 | 시간 0[s] | 손실 0.81\n",
            "| 에폭 402 |  반복 1 / 2 | 시간 0[s] | 손실 0.81\n",
            "| 에폭 403 |  반복 1 / 2 | 시간 0[s] | 손실 0.80\n",
            "| 에폭 404 |  반복 1 / 2 | 시간 0[s] | 손실 0.76\n",
            "| 에폭 405 |  반복 1 / 2 | 시간 0[s] | 손실 0.80\n",
            "| 에폭 406 |  반복 1 / 2 | 시간 0[s] | 손실 1.01\n",
            "| 에폭 407 |  반복 1 / 2 | 시간 0[s] | 손실 0.89\n",
            "| 에폭 408 |  반복 1 / 2 | 시간 0[s] | 손실 0.84\n",
            "| 에폭 409 |  반복 1 / 2 | 시간 0[s] | 손실 0.80\n",
            "| 에폭 410 |  반복 1 / 2 | 시간 0[s] | 손실 0.83\n",
            "| 에폭 411 |  반복 1 / 2 | 시간 0[s] | 손실 0.88\n",
            "| 에폭 412 |  반복 1 / 2 | 시간 0[s] | 손실 0.66\n",
            "| 에폭 413 |  반복 1 / 2 | 시간 0[s] | 손실 0.92\n",
            "| 에폭 414 |  반복 1 / 2 | 시간 0[s] | 손실 0.83\n",
            "| 에폭 415 |  반복 1 / 2 | 시간 0[s] | 손실 0.83\n",
            "| 에폭 416 |  반복 1 / 2 | 시간 0[s] | 손실 0.75\n",
            "| 에폭 417 |  반복 1 / 2 | 시간 0[s] | 손실 0.92\n",
            "| 에폭 418 |  반복 1 / 2 | 시간 0[s] | 손실 0.82\n",
            "| 에폭 419 |  반복 1 / 2 | 시간 0[s] | 손실 0.79\n",
            "| 에폭 420 |  반복 1 / 2 | 시간 0[s] | 손실 0.83\n",
            "| 에폭 421 |  반복 1 / 2 | 시간 0[s] | 손실 0.82\n",
            "| 에폭 422 |  반복 1 / 2 | 시간 0[s] | 손실 0.86\n",
            "| 에폭 423 |  반복 1 / 2 | 시간 0[s] | 손실 0.82\n",
            "| 에폭 424 |  반복 1 / 2 | 시간 0[s] | 손실 0.74\n",
            "| 에폭 425 |  반복 1 / 2 | 시간 0[s] | 손실 0.86\n",
            "| 에폭 426 |  반복 1 / 2 | 시간 0[s] | 손실 0.91\n",
            "| 에폭 427 |  반복 1 / 2 | 시간 0[s] | 손실 0.77\n",
            "| 에폭 428 |  반복 1 / 2 | 시간 0[s] | 손실 0.78\n",
            "| 에폭 429 |  반복 1 / 2 | 시간 0[s] | 손실 0.86\n",
            "| 에폭 430 |  반복 1 / 2 | 시간 0[s] | 손실 0.77\n",
            "| 에폭 431 |  반복 1 / 2 | 시간 0[s] | 손실 0.81\n",
            "| 에폭 432 |  반복 1 / 2 | 시간 0[s] | 손실 0.77\n",
            "| 에폭 433 |  반복 1 / 2 | 시간 0[s] | 손실 0.76\n",
            "| 에폭 434 |  반복 1 / 2 | 시간 0[s] | 손실 0.81\n",
            "| 에폭 435 |  반복 1 / 2 | 시간 0[s] | 손실 0.86\n",
            "| 에폭 436 |  반복 1 / 2 | 시간 0[s] | 손실 0.89\n",
            "| 에폭 437 |  반복 1 / 2 | 시간 0[s] | 손실 0.77\n",
            "| 에폭 438 |  반복 1 / 2 | 시간 0[s] | 손실 0.86\n",
            "| 에폭 439 |  반복 1 / 2 | 시간 0[s] | 손실 0.67\n",
            "| 에폭 440 |  반복 1 / 2 | 시간 0[s] | 손실 0.93\n",
            "| 에폭 441 |  반복 1 / 2 | 시간 0[s] | 손실 0.76\n",
            "| 에폭 442 |  반복 1 / 2 | 시간 0[s] | 손실 0.84\n",
            "| 에폭 443 |  반복 1 / 2 | 시간 0[s] | 손실 0.80\n",
            "| 에폭 444 |  반복 1 / 2 | 시간 0[s] | 손실 0.85\n",
            "| 에폭 445 |  반복 1 / 2 | 시간 0[s] | 손실 0.71\n",
            "| 에폭 446 |  반복 1 / 2 | 시간 0[s] | 손실 0.80\n",
            "| 에폭 447 |  반복 1 / 2 | 시간 0[s] | 손실 0.89\n",
            "| 에폭 448 |  반복 1 / 2 | 시간 0[s] | 손실 0.70\n",
            "| 에폭 449 |  반복 1 / 2 | 시간 0[s] | 손실 0.80\n",
            "| 에폭 450 |  반복 1 / 2 | 시간 0[s] | 손실 0.79\n",
            "| 에폭 451 |  반복 1 / 2 | 시간 0[s] | 손실 0.85\n",
            "| 에폭 452 |  반복 1 / 2 | 시간 0[s] | 손실 0.83\n",
            "| 에폭 453 |  반복 1 / 2 | 시간 0[s] | 손실 0.66\n",
            "| 에폭 454 |  반복 1 / 2 | 시간 0[s] | 손실 0.86\n",
            "| 에폭 455 |  반복 1 / 2 | 시간 0[s] | 손실 0.75\n",
            "| 에폭 456 |  반복 1 / 2 | 시간 0[s] | 손실 0.97\n",
            "| 에폭 457 |  반복 1 / 2 | 시간 0[s] | 손실 0.60\n",
            "| 에폭 458 |  반복 1 / 2 | 시간 0[s] | 손실 0.87\n",
            "| 에폭 459 |  반복 1 / 2 | 시간 0[s] | 손실 0.70\n",
            "| 에폭 460 |  반복 1 / 2 | 시간 0[s] | 손실 0.91\n",
            "| 에폭 461 |  반복 1 / 2 | 시간 0[s] | 손실 0.67\n",
            "| 에폭 462 |  반복 1 / 2 | 시간 0[s] | 손실 0.90\n",
            "| 에폭 463 |  반복 1 / 2 | 시간 0[s] | 손실 0.69\n",
            "| 에폭 464 |  반복 1 / 2 | 시간 0[s] | 손실 0.74\n",
            "| 에폭 465 |  반복 1 / 2 | 시간 0[s] | 손실 0.88\n",
            "| 에폭 466 |  반복 1 / 2 | 시간 0[s] | 손실 0.78\n",
            "| 에폭 467 |  반복 1 / 2 | 시간 0[s] | 손실 0.78\n",
            "| 에폭 468 |  반복 1 / 2 | 시간 0[s] | 손실 0.67\n",
            "| 에폭 469 |  반복 1 / 2 | 시간 0[s] | 손실 0.84\n",
            "| 에폭 470 |  반복 1 / 2 | 시간 0[s] | 손실 0.77\n",
            "| 에폭 471 |  반복 1 / 2 | 시간 0[s] | 손실 0.82\n",
            "| 에폭 472 |  반복 1 / 2 | 시간 0[s] | 손실 0.73\n",
            "| 에폭 473 |  반복 1 / 2 | 시간 0[s] | 손실 0.71\n",
            "| 에폭 474 |  반복 1 / 2 | 시간 0[s] | 손실 0.77\n",
            "| 에폭 475 |  반복 1 / 2 | 시간 0[s] | 손실 0.68\n",
            "| 에폭 476 |  반복 1 / 2 | 시간 0[s] | 손실 0.77\n",
            "| 에폭 477 |  반복 1 / 2 | 시간 0[s] | 손실 0.96\n",
            "| 에폭 478 |  반복 1 / 2 | 시간 0[s] | 손실 0.77\n",
            "| 에폭 479 |  반복 1 / 2 | 시간 0[s] | 손실 0.66\n",
            "| 에폭 480 |  반복 1 / 2 | 시간 0[s] | 손실 0.83\n",
            "| 에폭 481 |  반복 1 / 2 | 시간 0[s] | 손실 0.74\n",
            "| 에폭 482 |  반복 1 / 2 | 시간 0[s] | 손실 0.85\n",
            "| 에폭 483 |  반복 1 / 2 | 시간 0[s] | 손실 0.74\n",
            "| 에폭 484 |  반복 1 / 2 | 시간 0[s] | 손실 0.76\n",
            "| 에폭 485 |  반복 1 / 2 | 시간 0[s] | 손실 0.76\n",
            "| 에폭 486 |  반복 1 / 2 | 시간 0[s] | 손실 0.72\n",
            "| 에폭 487 |  반복 1 / 2 | 시간 0[s] | 손실 0.73\n",
            "| 에폭 488 |  반복 1 / 2 | 시간 0[s] | 손실 0.91\n",
            "| 에폭 489 |  반복 1 / 2 | 시간 0[s] | 손실 0.65\n",
            "| 에폭 490 |  반복 1 / 2 | 시간 0[s] | 손실 0.67\n",
            "| 에폭 491 |  반복 1 / 2 | 시간 0[s] | 손실 0.80\n",
            "| 에폭 492 |  반복 1 / 2 | 시간 0[s] | 손실 0.82\n",
            "| 에폭 493 |  반복 1 / 2 | 시간 0[s] | 손실 0.69\n",
            "| 에폭 494 |  반복 1 / 2 | 시간 0[s] | 손실 0.71\n",
            "| 에폭 495 |  반복 1 / 2 | 시간 0[s] | 손실 0.75\n",
            "| 에폭 496 |  반복 1 / 2 | 시간 0[s] | 손실 0.79\n",
            "| 에폭 497 |  반복 1 / 2 | 시간 0[s] | 손실 0.69\n",
            "| 에폭 498 |  반복 1 / 2 | 시간 0[s] | 손실 0.77\n",
            "| 에폭 499 |  반복 1 / 2 | 시간 0[s] | 손실 0.75\n",
            "| 에폭 500 |  반복 1 / 2 | 시간 0[s] | 손실 0.86\n",
            "| 에폭 501 |  반복 1 / 2 | 시간 0[s] | 손실 0.62\n",
            "| 에폭 502 |  반복 1 / 2 | 시간 0[s] | 손실 0.87\n",
            "| 에폭 503 |  반복 1 / 2 | 시간 0[s] | 손실 0.74\n",
            "| 에폭 504 |  반복 1 / 2 | 시간 0[s] | 손실 0.70\n",
            "| 에폭 505 |  반복 1 / 2 | 시간 0[s] | 손실 0.67\n",
            "| 에폭 506 |  반복 1 / 2 | 시간 0[s] | 손실 0.74\n",
            "| 에폭 507 |  반복 1 / 2 | 시간 0[s] | 손실 0.78\n",
            "| 에폭 508 |  반복 1 / 2 | 시간 0[s] | 손실 0.81\n",
            "| 에폭 509 |  반복 1 / 2 | 시간 0[s] | 손실 0.62\n",
            "| 에폭 510 |  반복 1 / 2 | 시간 0[s] | 손실 0.72\n",
            "| 에폭 511 |  반복 1 / 2 | 시간 0[s] | 손실 0.74\n",
            "| 에폭 512 |  반복 1 / 2 | 시간 0[s] | 손실 0.87\n",
            "| 에폭 513 |  반복 1 / 2 | 시간 0[s] | 손실 0.62\n",
            "| 에폭 514 |  반복 1 / 2 | 시간 0[s] | 손실 0.85\n",
            "| 에폭 515 |  반복 1 / 2 | 시간 0[s] | 손실 0.62\n",
            "| 에폭 516 |  반복 1 / 2 | 시간 0[s] | 손실 0.85\n",
            "| 에폭 517 |  반복 1 / 2 | 시간 0[s] | 손실 0.60\n",
            "| 에폭 518 |  반복 1 / 2 | 시간 0[s] | 손실 0.86\n",
            "| 에폭 519 |  반복 1 / 2 | 시간 0[s] | 손실 0.73\n",
            "| 에폭 520 |  반복 1 / 2 | 시간 0[s] | 손실 0.73\n",
            "| 에폭 521 |  반복 1 / 2 | 시간 0[s] | 손실 0.65\n",
            "| 에폭 522 |  반복 1 / 2 | 시간 0[s] | 손실 0.80\n",
            "| 에폭 523 |  반복 1 / 2 | 시간 0[s] | 손실 0.74\n",
            "| 에폭 524 |  반복 1 / 2 | 시간 0[s] | 손실 0.64\n",
            "| 에폭 525 |  반복 1 / 2 | 시간 0[s] | 손실 0.81\n",
            "| 에폭 526 |  반복 1 / 2 | 시간 0[s] | 손실 0.60\n",
            "| 에폭 527 |  반복 1 / 2 | 시간 0[s] | 손실 0.85\n",
            "| 에폭 528 |  반복 1 / 2 | 시간 0[s] | 손실 0.63\n",
            "| 에폭 529 |  반복 1 / 2 | 시간 0[s] | 손실 0.72\n",
            "| 에폭 530 |  반복 1 / 2 | 시간 0[s] | 손실 0.77\n",
            "| 에폭 531 |  반복 1 / 2 | 시간 0[s] | 손실 0.85\n",
            "| 에폭 532 |  반복 1 / 2 | 시간 0[s] | 손실 0.59\n",
            "| 에폭 533 |  반복 1 / 2 | 시간 0[s] | 손실 0.85\n",
            "| 에폭 534 |  반복 1 / 2 | 시간 0[s] | 손실 0.59\n",
            "| 에폭 535 |  반복 1 / 2 | 시간 0[s] | 손실 0.77\n",
            "| 에폭 536 |  반복 1 / 2 | 시간 0[s] | 손실 0.71\n",
            "| 에폭 537 |  반복 1 / 2 | 시간 0[s] | 손실 0.59\n",
            "| 에폭 538 |  반복 1 / 2 | 시간 0[s] | 손실 0.76\n",
            "| 에폭 539 |  반복 1 / 2 | 시간 0[s] | 손실 0.59\n",
            "| 에폭 540 |  반복 1 / 2 | 시간 0[s] | 손실 0.80\n",
            "| 에폭 541 |  반복 1 / 2 | 시간 0[s] | 손실 0.79\n",
            "| 에폭 542 |  반복 1 / 2 | 시간 0[s] | 손실 0.75\n",
            "| 에폭 543 |  반복 1 / 2 | 시간 0[s] | 손실 0.58\n",
            "| 에폭 544 |  반복 1 / 2 | 시간 0[s] | 손실 0.72\n",
            "| 에폭 545 |  반복 1 / 2 | 시간 0[s] | 손실 0.83\n",
            "| 에폭 546 |  반복 1 / 2 | 시간 0[s] | 손실 0.63\n",
            "| 에폭 547 |  반복 1 / 2 | 시간 0[s] | 손실 0.79\n",
            "| 에폭 548 |  반복 1 / 2 | 시간 0[s] | 손실 0.66\n",
            "| 에폭 549 |  반복 1 / 2 | 시간 0[s] | 손실 0.62\n",
            "| 에폭 550 |  반복 1 / 2 | 시간 0[s] | 손실 0.70\n",
            "| 에폭 551 |  반복 1 / 2 | 시간 0[s] | 손실 0.75\n",
            "| 에폭 552 |  반복 1 / 2 | 시간 0[s] | 손실 0.66\n",
            "| 에폭 553 |  반복 1 / 2 | 시간 0[s] | 손실 0.91\n",
            "| 에폭 554 |  반복 1 / 2 | 시간 0[s] | 손실 0.49\n",
            "| 에폭 555 |  반복 1 / 2 | 시간 0[s] | 손실 0.74\n",
            "| 에폭 556 |  반복 1 / 2 | 시간 0[s] | 손실 0.79\n",
            "| 에폭 557 |  반복 1 / 2 | 시간 0[s] | 손실 0.66\n",
            "| 에폭 558 |  반복 1 / 2 | 시간 0[s] | 손실 0.65\n",
            "| 에폭 559 |  반복 1 / 2 | 시간 0[s] | 손실 0.70\n",
            "| 에폭 560 |  반복 1 / 2 | 시간 0[s] | 손실 0.78\n",
            "| 에폭 561 |  반복 1 / 2 | 시간 0[s] | 손실 0.61\n",
            "| 에폭 562 |  반복 1 / 2 | 시간 0[s] | 손실 0.69\n",
            "| 에폭 563 |  반복 1 / 2 | 시간 0[s] | 손실 0.70\n",
            "| 에폭 564 |  반복 1 / 2 | 시간 0[s] | 손실 0.74\n",
            "| 에폭 565 |  반복 1 / 2 | 시간 0[s] | 손실 0.61\n",
            "| 에폭 566 |  반복 1 / 2 | 시간 0[s] | 손실 0.69\n",
            "| 에폭 567 |  반복 1 / 2 | 시간 0[s] | 손실 0.82\n",
            "| 에폭 568 |  반복 1 / 2 | 시간 0[s] | 손실 0.57\n",
            "| 에폭 569 |  반복 1 / 2 | 시간 0[s] | 손실 0.69\n",
            "| 에폭 570 |  반복 1 / 2 | 시간 0[s] | 손실 0.69\n",
            "| 에폭 571 |  반복 1 / 2 | 시간 0[s] | 손실 0.77\n",
            "| 에폭 572 |  반복 1 / 2 | 시간 0[s] | 손실 0.60\n",
            "| 에폭 573 |  반복 1 / 2 | 시간 0[s] | 손실 0.73\n",
            "| 에폭 574 |  반복 1 / 2 | 시간 0[s] | 손실 0.86\n",
            "| 에폭 575 |  반복 1 / 2 | 시간 0[s] | 손실 0.60\n",
            "| 에폭 576 |  반복 1 / 2 | 시간 0[s] | 손실 0.56\n",
            "| 에폭 577 |  반복 1 / 2 | 시간 0[s] | 손실 0.60\n",
            "| 에폭 578 |  반복 1 / 2 | 시간 0[s] | 손실 0.81\n",
            "| 에폭 579 |  반복 1 / 2 | 시간 0[s] | 손실 0.77\n",
            "| 에폭 580 |  반복 1 / 2 | 시간 0[s] | 손실 0.56\n",
            "| 에폭 581 |  반복 1 / 2 | 시간 0[s] | 손실 0.81\n",
            "| 에폭 582 |  반복 1 / 2 | 시간 0[s] | 손실 0.68\n",
            "| 에폭 583 |  반복 1 / 2 | 시간 0[s] | 손실 0.56\n",
            "| 에폭 584 |  반복 1 / 2 | 시간 0[s] | 손실 0.68\n",
            "| 에폭 585 |  반복 1 / 2 | 시간 0[s] | 손실 0.76\n",
            "| 에폭 586 |  반복 1 / 2 | 시간 0[s] | 손실 0.72\n",
            "| 에폭 587 |  반복 1 / 2 | 시간 0[s] | 손실 0.55\n",
            "| 에폭 588 |  반복 1 / 2 | 시간 0[s] | 손실 0.76\n",
            "| 에폭 589 |  반복 1 / 2 | 시간 0[s] | 손실 0.72\n",
            "| 에폭 590 |  반복 1 / 2 | 시간 0[s] | 손실 0.67\n",
            "| 에폭 591 |  반복 1 / 2 | 시간 0[s] | 손실 0.68\n",
            "| 에폭 592 |  반복 1 / 2 | 시간 0[s] | 손실 0.63\n",
            "| 에폭 593 |  반복 1 / 2 | 시간 0[s] | 손실 0.59\n",
            "| 에폭 594 |  반복 1 / 2 | 시간 0[s] | 손실 0.80\n",
            "| 에폭 595 |  반복 1 / 2 | 시간 0[s] | 손실 0.76\n",
            "| 에폭 596 |  반복 1 / 2 | 시간 0[s] | 손실 0.59\n",
            "| 에폭 597 |  반복 1 / 2 | 시간 0[s] | 손실 0.67\n",
            "| 에폭 598 |  반복 1 / 2 | 시간 0[s] | 손실 0.67\n",
            "| 에폭 599 |  반복 1 / 2 | 시간 0[s] | 손실 0.67\n",
            "| 에폭 600 |  반복 1 / 2 | 시간 0[s] | 손실 0.67\n",
            "| 에폭 601 |  반복 1 / 2 | 시간 0[s] | 손실 0.67\n",
            "| 에폭 602 |  반복 1 / 2 | 시간 0[s] | 손실 0.54\n",
            "| 에폭 603 |  반복 1 / 2 | 시간 0[s] | 손실 0.67\n",
            "| 에폭 604 |  반복 1 / 2 | 시간 0[s] | 손실 0.66\n",
            "| 에폭 605 |  반복 1 / 2 | 시간 0[s] | 손실 0.79\n",
            "| 에폭 606 |  반복 1 / 2 | 시간 0[s] | 손실 0.66\n",
            "| 에폭 607 |  반복 1 / 2 | 시간 0[s] | 손실 0.67\n",
            "| 에폭 608 |  반복 1 / 2 | 시간 0[s] | 손실 0.53\n",
            "| 에폭 609 |  반복 1 / 2 | 시간 0[s] | 손실 0.66\n",
            "| 에폭 610 |  반복 1 / 2 | 시간 0[s] | 손실 0.66\n",
            "| 에폭 611 |  반복 1 / 2 | 시간 0[s] | 손실 0.79\n",
            "| 에폭 612 |  반복 1 / 2 | 시간 0[s] | 손실 0.62\n",
            "| 에폭 613 |  반복 1 / 2 | 시간 0[s] | 손실 0.61\n",
            "| 에폭 614 |  반복 1 / 2 | 시간 0[s] | 손실 0.71\n",
            "| 에폭 615 |  반복 1 / 2 | 시간 0[s] | 손실 0.57\n",
            "| 에폭 616 |  반복 1 / 2 | 시간 0[s] | 손실 0.74\n",
            "| 에폭 617 |  반복 1 / 2 | 시간 0[s] | 손실 0.57\n",
            "| 에폭 618 |  반복 1 / 2 | 시간 0[s] | 손실 0.65\n",
            "| 에폭 619 |  반복 1 / 2 | 시간 0[s] | 손실 0.65\n",
            "| 에폭 620 |  반복 1 / 2 | 시간 0[s] | 손실 0.70\n",
            "| 에폭 621 |  반복 1 / 2 | 시간 0[s] | 손실 0.74\n",
            "| 에폭 622 |  반복 1 / 2 | 시간 0[s] | 손실 0.56\n",
            "| 에폭 623 |  반복 1 / 2 | 시간 0[s] | 손실 0.61\n",
            "| 에폭 624 |  반복 1 / 2 | 시간 0[s] | 손실 0.66\n",
            "| 에폭 625 |  반복 1 / 2 | 시간 0[s] | 손실 0.69\n",
            "| 에폭 626 |  반복 1 / 2 | 시간 0[s] | 손실 0.73\n",
            "| 에폭 627 |  반복 1 / 2 | 시간 0[s] | 손실 0.52\n",
            "| 에폭 628 |  반복 1 / 2 | 시간 0[s] | 손실 0.78\n",
            "| 에폭 629 |  반복 1 / 2 | 시간 0[s] | 손실 0.43\n",
            "| 에폭 630 |  반복 1 / 2 | 시간 0[s] | 손실 0.86\n",
            "| 에폭 631 |  반복 1 / 2 | 시간 0[s] | 손실 0.65\n",
            "| 에폭 632 |  반복 1 / 2 | 시간 0[s] | 손실 0.65\n",
            "| 에폭 633 |  반복 1 / 2 | 시간 0[s] | 손실 0.61\n",
            "| 에폭 634 |  반복 1 / 2 | 시간 0[s] | 손실 0.68\n",
            "| 에폭 635 |  반복 1 / 2 | 시간 0[s] | 손실 0.51\n",
            "| 에폭 636 |  반복 1 / 2 | 시간 0[s] | 손실 0.68\n",
            "| 에폭 637 |  반복 1 / 2 | 시간 0[s] | 손실 0.74\n",
            "| 에폭 638 |  반복 1 / 2 | 시간 0[s] | 손실 0.51\n",
            "| 에폭 639 |  반복 1 / 2 | 시간 0[s] | 손실 0.64\n",
            "| 에폭 640 |  반복 1 / 2 | 시간 0[s] | 손실 0.68\n",
            "| 에폭 641 |  반복 1 / 2 | 시간 0[s] | 손실 0.81\n",
            "| 에폭 642 |  반복 1 / 2 | 시간 0[s] | 손실 0.54\n",
            "| 에폭 643 |  반복 1 / 2 | 시간 0[s] | 손실 0.55\n",
            "| 에폭 644 |  반복 1 / 2 | 시간 0[s] | 손실 0.82\n",
            "| 에폭 645 |  반복 1 / 2 | 시간 0[s] | 손실 0.43\n",
            "| 에폭 646 |  반복 1 / 2 | 시간 0[s] | 손실 0.75\n",
            "| 에폭 647 |  반복 1 / 2 | 시간 0[s] | 손실 0.60\n",
            "| 에폭 648 |  반복 1 / 2 | 시간 0[s] | 손실 0.55\n",
            "| 에폭 649 |  반복 1 / 2 | 시간 0[s] | 손실 0.62\n",
            "| 에폭 650 |  반복 1 / 2 | 시간 0[s] | 손실 0.85\n",
            "| 에폭 651 |  반복 1 / 2 | 시간 0[s] | 손실 0.51\n",
            "| 에폭 652 |  반복 1 / 2 | 시간 0[s] | 손실 0.57\n",
            "| 에폭 653 |  반복 1 / 2 | 시간 0[s] | 손실 0.81\n",
            "| 에폭 654 |  반복 1 / 2 | 시간 0[s] | 손실 0.55\n",
            "| 에폭 655 |  반복 1 / 2 | 시간 0[s] | 손실 0.50\n",
            "| 에폭 656 |  반복 1 / 2 | 시간 0[s] | 손실 0.72\n",
            "| 에폭 657 |  반복 1 / 2 | 시간 0[s] | 손실 0.54\n",
            "| 에폭 658 |  반복 1 / 2 | 시간 0[s] | 손실 0.65\n",
            "| 에폭 659 |  반복 1 / 2 | 시간 0[s] | 손실 0.71\n",
            "| 에폭 660 |  반복 1 / 2 | 시간 0[s] | 손실 0.64\n",
            "| 에폭 661 |  반복 1 / 2 | 시간 0[s] | 손실 0.51\n",
            "| 에폭 662 |  반복 1 / 2 | 시간 0[s] | 손실 0.66\n",
            "| 에폭 663 |  반복 1 / 2 | 시간 0[s] | 손실 0.50\n",
            "| 에폭 664 |  반복 1 / 2 | 시간 0[s] | 손실 0.71\n",
            "| 에폭 665 |  반복 1 / 2 | 시간 0[s] | 손실 0.67\n",
            "| 에폭 666 |  반복 1 / 2 | 시간 0[s] | 손실 0.71\n",
            "| 에폭 667 |  반복 1 / 2 | 시간 0[s] | 손실 0.49\n",
            "| 에폭 668 |  반복 1 / 2 | 시간 0[s] | 손실 0.67\n",
            "| 에폭 669 |  반복 1 / 2 | 시간 0[s] | 손실 0.70\n",
            "| 에폭 670 |  반복 1 / 2 | 시간 0[s] | 손실 0.62\n",
            "| 에폭 671 |  반복 1 / 2 | 시간 0[s] | 손실 0.59\n",
            "| 에폭 672 |  반복 1 / 2 | 시간 0[s] | 손실 0.61\n",
            "| 에폭 673 |  반복 1 / 2 | 시간 0[s] | 손실 0.55\n",
            "| 에폭 674 |  반복 1 / 2 | 시간 0[s] | 손실 0.69\n",
            "| 에폭 675 |  반복 1 / 2 | 시간 0[s] | 손실 0.65\n",
            "| 에폭 676 |  반복 1 / 2 | 시간 0[s] | 손실 0.50\n",
            "| 에폭 677 |  반복 1 / 2 | 시간 0[s] | 손실 0.71\n",
            "| 에폭 678 |  반복 1 / 2 | 시간 0[s] | 손실 0.55\n",
            "| 에폭 679 |  반복 1 / 2 | 시간 0[s] | 손실 0.80\n",
            "| 에폭 680 |  반복 1 / 2 | 시간 0[s] | 손실 0.53\n",
            "| 에폭 681 |  반복 1 / 2 | 시간 0[s] | 손실 0.60\n",
            "| 에폭 682 |  반복 1 / 2 | 시간 0[s] | 손실 0.71\n",
            "| 에폭 683 |  반복 1 / 2 | 시간 0[s] | 손실 0.48\n",
            "| 에폭 684 |  반복 1 / 2 | 시간 0[s] | 손실 0.61\n",
            "| 에폭 685 |  반복 1 / 2 | 시간 0[s] | 손실 0.65\n",
            "| 에폭 686 |  반복 1 / 2 | 시간 0[s] | 손실 0.61\n",
            "| 에폭 687 |  반복 1 / 2 | 시간 0[s] | 손실 0.58\n",
            "| 에폭 688 |  반복 1 / 2 | 시간 0[s] | 손실 0.61\n",
            "| 에폭 689 |  반복 1 / 2 | 시간 0[s] | 손실 0.51\n",
            "| 에폭 690 |  반복 1 / 2 | 시간 0[s] | 손실 0.73\n",
            "| 에폭 691 |  반복 1 / 2 | 시간 0[s] | 손실 0.49\n",
            "| 에폭 692 |  반복 1 / 2 | 시간 0[s] | 손실 0.69\n",
            "| 에폭 693 |  반복 1 / 2 | 시간 0[s] | 손실 0.60\n",
            "| 에폭 694 |  반복 1 / 2 | 시간 0[s] | 손실 0.55\n",
            "| 에폭 695 |  반복 1 / 2 | 시간 0[s] | 손실 0.69\n",
            "| 에폭 696 |  반복 1 / 2 | 시간 0[s] | 손실 0.60\n",
            "| 에폭 697 |  반복 1 / 2 | 시간 0[s] | 손실 0.48\n",
            "| 에폭 698 |  반복 1 / 2 | 시간 0[s] | 손실 0.60\n",
            "| 에폭 699 |  반복 1 / 2 | 시간 0[s] | 손실 0.63\n",
            "| 에폭 700 |  반복 1 / 2 | 시간 0[s] | 손실 0.62\n",
            "| 에폭 701 |  반복 1 / 2 | 시간 0[s] | 손실 0.56\n",
            "| 에폭 702 |  반복 1 / 2 | 시간 0[s] | 손실 0.72\n",
            "| 에폭 703 |  반복 1 / 2 | 시간 0[s] | 손실 0.57\n",
            "| 에폭 704 |  반복 1 / 2 | 시간 0[s] | 손실 0.71\n",
            "| 에폭 705 |  반복 1 / 2 | 시간 0[s] | 손실 0.50\n",
            "| 에폭 706 |  반복 1 / 2 | 시간 0[s] | 손실 0.50\n",
            "| 에폭 707 |  반복 1 / 2 | 시간 0[s] | 손실 0.58\n",
            "| 에폭 708 |  반복 1 / 2 | 시간 0[s] | 손실 0.59\n",
            "| 에폭 709 |  반복 1 / 2 | 시간 0[s] | 손실 0.59\n",
            "| 에폭 710 |  반복 1 / 2 | 시간 0[s] | 손실 0.59\n",
            "| 에폭 711 |  반복 1 / 2 | 시간 0[s] | 손실 0.61\n",
            "| 에폭 712 |  반복 1 / 2 | 시간 0[s] | 손실 0.58\n",
            "| 에폭 713 |  반복 1 / 2 | 시간 0[s] | 손실 0.61\n",
            "| 에폭 714 |  반복 1 / 2 | 시간 0[s] | 손실 0.70\n",
            "| 에폭 715 |  반복 1 / 2 | 시간 0[s] | 손실 0.48\n",
            "| 에폭 716 |  반복 1 / 2 | 시간 0[s] | 손실 0.70\n",
            "| 에폭 717 |  반복 1 / 2 | 시간 0[s] | 손실 0.46\n",
            "| 에폭 718 |  반복 1 / 2 | 시간 0[s] | 손실 0.80\n",
            "| 에폭 719 |  반복 1 / 2 | 시간 0[s] | 손실 0.46\n",
            "| 에폭 720 |  반복 1 / 2 | 시간 0[s] | 손실 0.60\n",
            "| 에폭 721 |  반복 1 / 2 | 시간 0[s] | 손실 0.50\n",
            "| 에폭 722 |  반복 1 / 2 | 시간 0[s] | 손실 0.78\n",
            "| 에폭 723 |  반복 1 / 2 | 시간 0[s] | 손실 0.42\n",
            "| 에폭 724 |  반복 1 / 2 | 시간 0[s] | 손실 0.55\n",
            "| 에폭 725 |  반복 1 / 2 | 시간 0[s] | 손실 0.71\n",
            "| 에폭 726 |  반복 1 / 2 | 시간 0[s] | 손실 0.56\n",
            "| 에폭 727 |  반복 1 / 2 | 시간 0[s] | 손실 0.59\n",
            "| 에폭 728 |  반복 1 / 2 | 시간 0[s] | 손실 0.48\n",
            "| 에폭 729 |  반복 1 / 2 | 시간 0[s] | 손실 0.58\n",
            "| 에폭 730 |  반복 1 / 2 | 시간 0[s] | 손실 0.62\n",
            "| 에폭 731 |  반복 1 / 2 | 시간 0[s] | 손실 0.75\n",
            "| 에폭 732 |  반복 1 / 2 | 시간 0[s] | 손실 0.37\n",
            "| 에폭 733 |  반복 1 / 2 | 시간 0[s] | 손실 0.68\n",
            "| 에폭 734 |  반복 1 / 2 | 시간 0[s] | 손실 0.47\n",
            "| 에폭 735 |  반복 1 / 2 | 시간 0[s] | 손실 0.58\n",
            "| 에폭 736 |  반복 1 / 2 | 시간 0[s] | 손실 0.66\n",
            "| 에폭 737 |  반복 1 / 2 | 시간 0[s] | 손실 0.61\n",
            "| 에폭 738 |  반복 1 / 2 | 시간 0[s] | 손실 0.58\n",
            "| 에폭 739 |  반복 1 / 2 | 시간 0[s] | 손실 0.45\n",
            "| 에폭 740 |  반복 1 / 2 | 시간 0[s] | 손실 0.70\n",
            "| 에폭 741 |  반복 1 / 2 | 시간 0[s] | 손실 0.57\n",
            "| 에폭 742 |  반복 1 / 2 | 시간 0[s] | 손실 0.45\n",
            "| 에폭 743 |  반복 1 / 2 | 시간 0[s] | 손실 0.69\n",
            "| 에폭 744 |  반복 1 / 2 | 시간 0[s] | 손실 0.47\n",
            "| 에폭 745 |  반복 1 / 2 | 시간 0[s] | 손실 0.55\n",
            "| 에폭 746 |  반복 1 / 2 | 시간 0[s] | 손실 0.59\n",
            "| 에폭 747 |  반복 1 / 2 | 시간 0[s] | 손실 0.67\n",
            "| 에폭 748 |  반복 1 / 2 | 시간 0[s] | 손실 0.53\n",
            "| 에폭 749 |  반복 1 / 2 | 시간 0[s] | 손실 0.59\n",
            "| 에폭 750 |  반복 1 / 2 | 시간 0[s] | 손실 0.59\n",
            "| 에폭 751 |  반복 1 / 2 | 시간 0[s] | 손실 0.45\n",
            "| 에폭 752 |  반복 1 / 2 | 시간 0[s] | 손실 0.69\n",
            "| 에폭 753 |  반복 1 / 2 | 시간 0[s] | 손실 0.46\n",
            "| 에폭 754 |  반복 1 / 2 | 시간 0[s] | 손실 0.63\n",
            "| 에폭 755 |  반복 1 / 2 | 시간 0[s] | 손실 0.58\n",
            "| 에폭 756 |  반복 1 / 2 | 시간 0[s] | 손실 0.48\n",
            "| 에폭 757 |  반복 1 / 2 | 시간 0[s] | 손실 0.56\n",
            "| 에폭 758 |  반복 1 / 2 | 시간 0[s] | 손실 0.65\n",
            "| 에폭 759 |  반복 1 / 2 | 시간 0[s] | 손실 0.58\n",
            "| 에폭 760 |  반복 1 / 2 | 시간 0[s] | 손실 0.56\n",
            "| 에폭 761 |  반복 1 / 2 | 시간 0[s] | 손실 0.46\n",
            "| 에폭 762 |  반복 1 / 2 | 시간 0[s] | 손실 0.56\n",
            "| 에폭 763 |  반복 1 / 2 | 시간 0[s] | 손실 0.55\n",
            "| 에폭 764 |  반복 1 / 2 | 시간 0[s] | 손실 0.56\n",
            "| 에폭 765 |  반복 1 / 2 | 시간 0[s] | 손실 0.47\n",
            "| 에폭 766 |  반복 1 / 2 | 시간 0[s] | 손실 0.66\n",
            "| 에폭 767 |  반복 1 / 2 | 시간 0[s] | 손실 0.56\n",
            "| 에폭 768 |  반복 1 / 2 | 시간 0[s] | 손실 0.65\n",
            "| 에폭 769 |  반복 1 / 2 | 시간 0[s] | 손실 0.45\n",
            "| 에폭 770 |  반복 1 / 2 | 시간 0[s] | 손실 0.67\n",
            "| 에폭 771 |  반복 1 / 2 | 시간 0[s] | 손실 0.55\n",
            "| 에폭 772 |  반복 1 / 2 | 시간 0[s] | 손실 0.45\n",
            "| 에폭 773 |  반복 1 / 2 | 시간 0[s] | 손실 0.54\n",
            "| 에폭 774 |  반복 1 / 2 | 시간 0[s] | 손실 0.66\n",
            "| 에폭 775 |  반복 1 / 2 | 시간 0[s] | 손실 0.65\n",
            "| 에폭 776 |  반복 1 / 2 | 시간 0[s] | 손실 0.47\n",
            "| 에폭 777 |  반복 1 / 2 | 시간 0[s] | 손실 0.55\n",
            "| 에폭 778 |  반복 1 / 2 | 시간 0[s] | 손실 0.35\n",
            "| 에폭 779 |  반복 1 / 2 | 시간 0[s] | 손실 0.83\n",
            "| 에폭 780 |  반복 1 / 2 | 시간 0[s] | 손실 0.35\n",
            "| 에폭 781 |  반복 1 / 2 | 시간 0[s] | 손실 0.63\n",
            "| 에폭 782 |  반복 1 / 2 | 시간 0[s] | 손실 0.56\n",
            "| 에폭 783 |  반복 1 / 2 | 시간 0[s] | 손실 0.46\n",
            "| 에폭 784 |  반복 1 / 2 | 시간 0[s] | 손실 0.54\n",
            "| 에폭 785 |  반복 1 / 2 | 시간 0[s] | 손실 0.55\n",
            "| 에폭 786 |  반복 1 / 2 | 시간 0[s] | 손실 0.65\n",
            "| 에폭 787 |  반복 1 / 2 | 시간 0[s] | 손실 0.54\n",
            "| 에폭 788 |  반복 1 / 2 | 시간 0[s] | 손실 0.53\n",
            "| 에폭 789 |  반복 1 / 2 | 시간 0[s] | 손실 0.45\n",
            "| 에폭 790 |  반복 1 / 2 | 시간 0[s] | 손실 0.74\n",
            "| 에폭 791 |  반복 1 / 2 | 시간 0[s] | 손실 0.46\n",
            "| 에폭 792 |  반복 1 / 2 | 시간 0[s] | 손실 0.34\n",
            "| 에폭 793 |  반복 1 / 2 | 시간 0[s] | 손실 0.54\n",
            "| 에폭 794 |  반복 1 / 2 | 시간 0[s] | 손실 0.62\n",
            "| 에폭 795 |  반복 1 / 2 | 시간 0[s] | 손실 0.55\n",
            "| 에폭 796 |  반복 1 / 2 | 시간 0[s] | 손실 0.64\n",
            "| 에폭 797 |  반복 1 / 2 | 시간 0[s] | 손실 0.45\n",
            "| 에폭 798 |  반복 1 / 2 | 시간 0[s] | 손실 0.63\n",
            "| 에폭 799 |  반복 1 / 2 | 시간 0[s] | 손실 0.54\n",
            "| 에폭 800 |  반복 1 / 2 | 시간 0[s] | 손실 0.54\n",
            "| 에폭 801 |  반복 1 / 2 | 시간 0[s] | 손실 0.54\n",
            "| 에폭 802 |  반복 1 / 2 | 시간 0[s] | 손실 0.53\n",
            "| 에폭 803 |  반복 1 / 2 | 시간 0[s] | 손실 0.45\n",
            "| 에폭 804 |  반복 1 / 2 | 시간 0[s] | 손실 0.51\n",
            "| 에폭 805 |  반복 1 / 2 | 시간 0[s] | 손실 0.62\n",
            "| 에폭 806 |  반복 1 / 2 | 시간 0[s] | 손실 0.55\n",
            "| 에폭 807 |  반복 1 / 2 | 시간 0[s] | 손실 0.43\n",
            "| 에폭 808 |  반복 1 / 2 | 시간 0[s] | 손실 0.53\n",
            "| 에폭 809 |  반복 1 / 2 | 시간 0[s] | 손실 0.62\n",
            "| 에폭 810 |  반복 1 / 2 | 시간 0[s] | 손실 0.53\n",
            "| 에폭 811 |  반복 1 / 2 | 시간 0[s] | 손실 0.46\n",
            "| 에폭 812 |  반복 1 / 2 | 시간 0[s] | 손실 0.61\n",
            "| 에폭 813 |  반복 1 / 2 | 시간 0[s] | 손실 0.42\n",
            "| 에폭 814 |  반복 1 / 2 | 시간 0[s] | 손실 0.53\n",
            "| 에폭 815 |  반복 1 / 2 | 시간 0[s] | 손실 0.53\n",
            "| 에폭 816 |  반복 1 / 2 | 시간 0[s] | 손실 0.54\n",
            "| 에폭 817 |  반복 1 / 2 | 시간 0[s] | 손실 0.61\n",
            "| 에폭 818 |  반복 1 / 2 | 시간 0[s] | 손실 0.52\n",
            "| 에폭 819 |  반복 1 / 2 | 시간 0[s] | 손실 0.52\n",
            "| 에폭 820 |  반복 1 / 2 | 시간 0[s] | 손실 0.52\n",
            "| 에폭 821 |  반복 1 / 2 | 시간 0[s] | 손실 0.44\n",
            "| 에폭 822 |  반복 1 / 2 | 시간 0[s] | 손실 0.59\n",
            "| 에폭 823 |  반복 1 / 2 | 시간 0[s] | 손실 0.45\n",
            "| 에폭 824 |  반복 1 / 2 | 시간 0[s] | 손실 0.50\n",
            "| 에폭 825 |  반복 1 / 2 | 시간 0[s] | 손실 0.52\n",
            "| 에폭 826 |  반복 1 / 2 | 시간 0[s] | 손실 0.63\n",
            "| 에폭 827 |  반복 1 / 2 | 시간 0[s] | 손실 0.41\n",
            "| 에폭 828 |  반복 1 / 2 | 시간 0[s] | 손실 0.52\n",
            "| 에폭 829 |  반복 1 / 2 | 시간 0[s] | 손실 0.60\n",
            "| 에폭 830 |  반복 1 / 2 | 시간 0[s] | 손실 0.52\n",
            "| 에폭 831 |  반복 1 / 2 | 시간 0[s] | 손실 0.43\n",
            "| 에폭 832 |  반복 1 / 2 | 시간 0[s] | 손실 0.52\n",
            "| 에폭 833 |  반복 1 / 2 | 시간 0[s] | 손실 0.52\n",
            "| 에폭 834 |  반복 1 / 2 | 시간 0[s] | 손실 0.51\n",
            "| 에폭 835 |  반복 1 / 2 | 시간 0[s] | 손실 0.62\n",
            "| 에폭 836 |  반복 1 / 2 | 시간 0[s] | 손실 0.49\n",
            "| 에폭 837 |  반복 1 / 2 | 시간 0[s] | 손실 0.53\n",
            "| 에폭 838 |  반복 1 / 2 | 시간 0[s] | 손실 0.49\n",
            "| 에폭 839 |  반복 1 / 2 | 시간 0[s] | 손실 0.34\n",
            "| 에폭 840 |  반복 1 / 2 | 시간 0[s] | 손실 0.70\n",
            "| 에폭 841 |  반복 1 / 2 | 시간 0[s] | 손실 0.40\n",
            "| 에폭 842 |  반복 1 / 2 | 시간 0[s] | 손실 0.62\n",
            "| 에폭 843 |  반복 1 / 2 | 시간 0[s] | 손실 0.42\n",
            "| 에폭 844 |  반복 1 / 2 | 시간 0[s] | 손실 0.60\n",
            "| 에폭 845 |  반복 1 / 2 | 시간 0[s] | 손실 0.48\n",
            "| 에폭 846 |  반복 1 / 2 | 시간 0[s] | 손실 0.51\n",
            "| 에폭 847 |  반복 1 / 2 | 시간 0[s] | 손실 0.50\n",
            "| 에폭 848 |  반복 1 / 2 | 시간 0[s] | 손실 0.53\n",
            "| 에폭 849 |  반복 1 / 2 | 시간 0[s] | 손실 0.40\n",
            "| 에폭 850 |  반복 1 / 2 | 시간 0[s] | 손실 0.53\n",
            "| 에폭 851 |  반복 1 / 2 | 시간 0[s] | 손실 0.67\n",
            "| 에폭 852 |  반복 1 / 2 | 시간 0[s] | 손실 0.34\n",
            "| 에폭 853 |  반복 1 / 2 | 시간 0[s] | 손실 0.48\n",
            "| 에폭 854 |  반복 1 / 2 | 시간 0[s] | 손실 0.41\n",
            "| 에폭 855 |  반복 1 / 2 | 시간 0[s] | 손실 0.58\n",
            "| 에폭 856 |  반복 1 / 2 | 시간 0[s] | 손실 0.52\n",
            "| 에폭 857 |  반복 1 / 2 | 시간 0[s] | 손실 0.58\n",
            "| 에폭 858 |  반복 1 / 2 | 시간 0[s] | 손실 0.52\n",
            "| 에폭 859 |  반복 1 / 2 | 시간 0[s] | 손실 0.39\n",
            "| 에폭 860 |  반복 1 / 2 | 시간 0[s] | 손실 0.50\n",
            "| 에폭 861 |  반복 1 / 2 | 시간 0[s] | 손실 0.60\n",
            "| 에폭 862 |  반복 1 / 2 | 시간 0[s] | 손실 0.39\n",
            "| 에폭 863 |  반복 1 / 2 | 시간 0[s] | 손실 0.50\n",
            "| 에폭 864 |  반복 1 / 2 | 시간 0[s] | 손실 0.57\n",
            "| 에폭 865 |  반복 1 / 2 | 시간 0[s] | 손실 0.52\n",
            "| 에폭 866 |  반복 1 / 2 | 시간 0[s] | 손실 0.47\n",
            "| 에폭 867 |  반복 1 / 2 | 시간 0[s] | 손실 0.53\n",
            "| 에폭 868 |  반복 1 / 2 | 시간 0[s] | 손실 0.41\n",
            "| 에폭 869 |  반복 1 / 2 | 시간 0[s] | 손실 0.46\n",
            "| 에폭 870 |  반복 1 / 2 | 시간 0[s] | 손실 0.50\n",
            "| 에폭 871 |  반복 1 / 2 | 시간 0[s] | 손실 0.51\n",
            "| 에폭 872 |  반복 1 / 2 | 시간 0[s] | 손실 0.47\n",
            "| 에폭 873 |  반복 1 / 2 | 시간 0[s] | 손실 0.48\n",
            "| 에폭 874 |  반복 1 / 2 | 시간 0[s] | 손실 0.58\n",
            "| 에폭 875 |  반복 1 / 2 | 시간 0[s] | 손실 0.51\n",
            "| 에폭 876 |  반복 1 / 2 | 시간 0[s] | 손실 0.31\n",
            "| 에폭 877 |  반복 1 / 2 | 시간 0[s] | 손실 0.60\n",
            "| 에폭 878 |  반복 1 / 2 | 시간 0[s] | 손실 0.56\n",
            "| 에폭 879 |  반복 1 / 2 | 시간 0[s] | 손실 0.50\n",
            "| 에폭 880 |  반복 1 / 2 | 시간 0[s] | 손실 0.47\n",
            "| 에폭 881 |  반복 1 / 2 | 시간 0[s] | 손실 0.49\n",
            "| 에폭 882 |  반복 1 / 2 | 시간 0[s] | 손실 0.41\n",
            "| 에폭 883 |  반복 1 / 2 | 시간 0[s] | 손실 0.46\n",
            "| 에폭 884 |  반복 1 / 2 | 시간 0[s] | 손실 0.48\n",
            "| 에폭 885 |  반복 1 / 2 | 시간 0[s] | 손실 0.58\n",
            "| 에폭 886 |  반복 1 / 2 | 시간 0[s] | 손실 0.46\n",
            "| 에폭 887 |  반복 1 / 2 | 시간 0[s] | 손실 0.50\n",
            "| 에폭 888 |  반복 1 / 2 | 시간 0[s] | 손실 0.41\n",
            "| 에폭 889 |  반복 1 / 2 | 시간 0[s] | 손실 0.55\n",
            "| 에폭 890 |  반복 1 / 2 | 시간 0[s] | 손실 0.39\n",
            "| 에폭 891 |  반복 1 / 2 | 시간 0[s] | 손실 0.57\n",
            "| 에폭 892 |  반복 1 / 2 | 시간 0[s] | 손실 0.37\n",
            "| 에폭 893 |  반복 1 / 2 | 시간 0[s] | 손실 0.57\n",
            "| 에폭 894 |  반복 1 / 2 | 시간 0[s] | 손실 0.50\n",
            "| 에폭 895 |  반복 1 / 2 | 시간 0[s] | 손실 0.48\n",
            "| 에폭 896 |  반복 1 / 2 | 시간 0[s] | 손실 0.50\n",
            "| 에폭 897 |  반복 1 / 2 | 시간 0[s] | 손실 0.44\n",
            "| 에폭 898 |  반복 1 / 2 | 시간 0[s] | 손실 0.48\n",
            "| 에폭 899 |  반복 1 / 2 | 시간 0[s] | 손실 0.51\n",
            "| 에폭 900 |  반복 1 / 2 | 시간 0[s] | 손실 0.45\n",
            "| 에폭 901 |  반복 1 / 2 | 시간 0[s] | 손실 0.38\n",
            "| 에폭 902 |  반복 1 / 2 | 시간 0[s] | 손실 0.56\n",
            "| 에폭 903 |  반복 1 / 2 | 시간 0[s] | 손실 0.47\n",
            "| 에폭 904 |  반복 1 / 2 | 시간 0[s] | 손실 0.45\n",
            "| 에폭 905 |  반복 1 / 2 | 시간 0[s] | 손실 0.38\n",
            "| 에폭 906 |  반복 1 / 2 | 시간 0[s] | 손실 0.58\n",
            "| 에폭 907 |  반복 1 / 2 | 시간 0[s] | 손실 0.38\n",
            "| 에폭 908 |  반복 1 / 2 | 시간 0[s] | 손실 0.54\n",
            "| 에폭 909 |  반복 1 / 2 | 시간 0[s] | 손실 0.42\n",
            "| 에폭 910 |  반복 1 / 2 | 시간 0[s] | 손실 0.62\n",
            "| 에폭 911 |  반복 1 / 2 | 시간 0[s] | 손실 0.38\n",
            "| 에폭 912 |  반복 1 / 2 | 시간 0[s] | 손실 0.45\n",
            "| 에폭 913 |  반복 1 / 2 | 시간 0[s] | 손실 0.49\n",
            "| 에폭 914 |  반복 1 / 2 | 시간 0[s] | 손실 0.40\n",
            "| 에폭 915 |  반복 1 / 2 | 시간 0[s] | 손실 0.56\n",
            "| 에폭 916 |  반복 1 / 2 | 시간 0[s] | 손실 0.53\n",
            "| 에폭 917 |  반복 1 / 2 | 시간 0[s] | 손실 0.28\n",
            "| 에폭 918 |  반복 1 / 2 | 시간 0[s] | 손실 0.55\n",
            "| 에폭 919 |  반복 1 / 2 | 시간 0[s] | 손실 0.49\n",
            "| 에폭 920 |  반복 1 / 2 | 시간 0[s] | 손실 0.44\n",
            "| 에폭 921 |  반복 1 / 2 | 시간 0[s] | 손실 0.47\n",
            "| 에폭 922 |  반복 1 / 2 | 시간 0[s] | 손실 0.43\n",
            "| 에폭 923 |  반복 1 / 2 | 시간 0[s] | 손실 0.39\n",
            "| 에폭 924 |  반복 1 / 2 | 시간 0[s] | 손실 0.47\n",
            "| 에폭 925 |  반복 1 / 2 | 시간 0[s] | 손실 0.46\n",
            "| 에폭 926 |  반복 1 / 2 | 시간 0[s] | 손실 0.46\n",
            "| 에폭 927 |  반복 1 / 2 | 시간 0[s] | 손실 0.37\n",
            "| 에폭 928 |  반복 1 / 2 | 시간 0[s] | 손실 0.55\n",
            "| 에폭 929 |  반복 1 / 2 | 시간 0[s] | 손실 0.43\n",
            "| 에폭 930 |  반복 1 / 2 | 시간 0[s] | 손실 0.57\n",
            "| 에폭 931 |  반복 1 / 2 | 시간 0[s] | 손실 0.38\n",
            "| 에폭 932 |  반복 1 / 2 | 시간 0[s] | 손실 0.54\n",
            "| 에폭 933 |  반복 1 / 2 | 시간 0[s] | 손실 0.35\n",
            "| 에폭 934 |  반복 1 / 2 | 시간 0[s] | 손실 0.56\n",
            "| 에폭 935 |  반복 1 / 2 | 시간 0[s] | 손실 0.43\n",
            "| 에폭 936 |  반복 1 / 2 | 시간 0[s] | 손실 0.47\n",
            "| 에폭 937 |  반복 1 / 2 | 시간 0[s] | 손실 0.37\n",
            "| 에폭 938 |  반복 1 / 2 | 시간 0[s] | 손실 0.53\n",
            "| 에폭 939 |  반복 1 / 2 | 시간 0[s] | 손실 0.37\n",
            "| 에폭 940 |  반복 1 / 2 | 시간 0[s] | 손실 0.45\n",
            "| 에폭 941 |  반복 1 / 2 | 시간 0[s] | 손실 0.53\n",
            "| 에폭 942 |  반복 1 / 2 | 시간 0[s] | 손실 0.46\n",
            "| 에폭 943 |  반복 1 / 2 | 시간 0[s] | 손실 0.33\n",
            "| 에폭 944 |  반복 1 / 2 | 시간 0[s] | 손실 0.56\n",
            "| 에폭 945 |  반복 1 / 2 | 시간 0[s] | 손실 0.43\n",
            "| 에폭 946 |  반복 1 / 2 | 시간 0[s] | 손실 0.39\n",
            "| 에폭 947 |  반복 1 / 2 | 시간 0[s] | 손실 0.41\n",
            "| 에폭 948 |  반복 1 / 2 | 시간 0[s] | 손실 0.56\n",
            "| 에폭 949 |  반복 1 / 2 | 시간 0[s] | 손실 0.37\n",
            "| 에폭 950 |  반복 1 / 2 | 시간 0[s] | 손실 0.56\n",
            "| 에폭 951 |  반복 1 / 2 | 시간 0[s] | 손실 0.35\n",
            "| 에폭 952 |  반복 1 / 2 | 시간 0[s] | 손실 0.44\n",
            "| 에폭 953 |  반복 1 / 2 | 시간 0[s] | 손실 0.42\n",
            "| 에폭 954 |  반복 1 / 2 | 시간 0[s] | 손실 0.52\n",
            "| 에폭 955 |  반복 1 / 2 | 시간 0[s] | 손실 0.28\n",
            "| 에폭 956 |  반복 1 / 2 | 시간 0[s] | 손실 0.61\n",
            "| 에폭 957 |  반복 1 / 2 | 시간 0[s] | 손실 0.53\n",
            "| 에폭 958 |  반복 1 / 2 | 시간 0[s] | 손실 0.29\n",
            "| 에폭 959 |  반복 1 / 2 | 시간 0[s] | 손실 0.33\n",
            "| 에폭 960 |  반복 1 / 2 | 시간 0[s] | 손실 0.70\n",
            "| 에폭 961 |  반복 1 / 2 | 시간 0[s] | 손실 0.33\n",
            "| 에폭 962 |  반복 1 / 2 | 시간 0[s] | 손실 0.29\n",
            "| 에폭 963 |  반복 1 / 2 | 시간 0[s] | 손실 0.62\n",
            "| 에폭 964 |  반복 1 / 2 | 시간 0[s] | 손실 0.36\n",
            "| 에폭 965 |  반복 1 / 2 | 시간 0[s] | 손실 0.53\n",
            "| 에폭 966 |  반복 1 / 2 | 시간 0[s] | 손실 0.44\n",
            "| 에폭 967 |  반복 1 / 2 | 시간 0[s] | 손실 0.31\n",
            "| 에폭 968 |  반복 1 / 2 | 시간 0[s] | 손실 0.42\n",
            "| 에폭 969 |  반복 1 / 2 | 시간 0[s] | 손실 0.54\n",
            "| 에폭 970 |  반복 1 / 2 | 시간 0[s] | 손실 0.27\n",
            "| 에폭 971 |  반복 1 / 2 | 시간 0[s] | 손실 0.58\n",
            "| 에폭 972 |  반복 1 / 2 | 시간 0[s] | 손실 0.40\n",
            "| 에폭 973 |  반복 1 / 2 | 시간 0[s] | 손실 0.41\n",
            "| 에폭 974 |  반복 1 / 2 | 시간 0[s] | 손실 0.43\n",
            "| 에폭 975 |  반복 1 / 2 | 시간 0[s] | 손실 0.45\n",
            "| 에폭 976 |  반복 1 / 2 | 시간 0[s] | 손실 0.52\n",
            "| 에폭 977 |  반복 1 / 2 | 시간 0[s] | 손실 0.30\n",
            "| 에폭 978 |  반복 1 / 2 | 시간 0[s] | 손실 0.45\n",
            "| 에폭 979 |  반복 1 / 2 | 시간 0[s] | 손실 0.50\n",
            "| 에폭 980 |  반복 1 / 2 | 시간 0[s] | 손실 0.38\n",
            "| 에폭 981 |  반복 1 / 2 | 시간 0[s] | 손실 0.48\n",
            "| 에폭 982 |  반복 1 / 2 | 시간 0[s] | 손실 0.41\n",
            "| 에폭 983 |  반복 1 / 2 | 시간 0[s] | 손실 0.38\n",
            "| 에폭 984 |  반복 1 / 2 | 시간 0[s] | 손실 0.43\n",
            "| 에폭 985 |  반복 1 / 2 | 시간 0[s] | 손실 0.54\n",
            "| 에폭 986 |  반복 1 / 2 | 시간 0[s] | 손실 0.43\n",
            "| 에폭 987 |  반복 1 / 2 | 시간 0[s] | 손실 0.31\n",
            "| 에폭 988 |  반복 1 / 2 | 시간 0[s] | 손실 0.42\n",
            "| 에폭 989 |  반복 1 / 2 | 시간 0[s] | 손실 0.47\n",
            "| 에폭 990 |  반복 1 / 2 | 시간 0[s] | 손실 0.28\n",
            "| 에폭 991 |  반복 1 / 2 | 시간 0[s] | 손실 0.47\n",
            "| 에폭 992 |  반복 1 / 2 | 시간 0[s] | 손실 0.58\n",
            "| 에폭 993 |  반복 1 / 2 | 시간 0[s] | 손실 0.40\n",
            "| 에폭 994 |  반복 1 / 2 | 시간 0[s] | 손실 0.30\n",
            "| 에폭 995 |  반복 1 / 2 | 시간 0[s] | 손실 0.50\n",
            "| 에폭 996 |  반복 1 / 2 | 시간 0[s] | 손실 0.37\n",
            "| 에폭 997 |  반복 1 / 2 | 시간 0[s] | 손실 0.39\n",
            "| 에폭 998 |  반복 1 / 2 | 시간 0[s] | 손실 0.51\n",
            "| 에폭 999 |  반복 1 / 2 | 시간 0[s] | 손실 0.42\n",
            "| 에폭 1000 |  반복 1 / 2 | 시간 0[s] | 손실 0.45\n"
          ]
        },
        {
          "output_type": "stream",
          "name": "stderr",
          "text": [
            "/usr/local/lib/python3.7/dist-packages/matplotlib/backends/backend_agg.py:214: RuntimeWarning: Glyph 48152 missing from current font.\n",
            "  font.set_text(s, 0.0, flags=flags)\n",
            "/usr/local/lib/python3.7/dist-packages/matplotlib/backends/backend_agg.py:214: RuntimeWarning: Glyph 48373 missing from current font.\n",
            "  font.set_text(s, 0.0, flags=flags)\n",
            "/usr/local/lib/python3.7/dist-packages/matplotlib/backends/backend_agg.py:214: RuntimeWarning: Glyph 49552 missing from current font.\n",
            "  font.set_text(s, 0.0, flags=flags)\n",
            "/usr/local/lib/python3.7/dist-packages/matplotlib/backends/backend_agg.py:214: RuntimeWarning: Glyph 49892 missing from current font.\n",
            "  font.set_text(s, 0.0, flags=flags)\n",
            "/usr/local/lib/python3.7/dist-packages/matplotlib/backends/backend_agg.py:183: RuntimeWarning: Glyph 48152 missing from current font.\n",
            "  font.set_text(s, 0, flags=flags)\n",
            "/usr/local/lib/python3.7/dist-packages/matplotlib/backends/backend_agg.py:183: RuntimeWarning: Glyph 48373 missing from current font.\n",
            "  font.set_text(s, 0, flags=flags)\n",
            "/usr/local/lib/python3.7/dist-packages/matplotlib/backends/backend_agg.py:183: RuntimeWarning: Glyph 49552 missing from current font.\n",
            "  font.set_text(s, 0, flags=flags)\n",
            "/usr/local/lib/python3.7/dist-packages/matplotlib/backends/backend_agg.py:183: RuntimeWarning: Glyph 49892 missing from current font.\n",
            "  font.set_text(s, 0, flags=flags)\n"
          ]
        },
        {
          "output_type": "display_data",
          "data": {
            "image/png": "[encoded data removed]",
            "text/plain": [
              "<Figure size 432x288 with 1 Axes>"
            ]
          },
          "metadata": {
            "needs_background": "light"
          }
        }
      ]
    },
    {
      "cell_type": "code",
      "source": [
        "word_vecs = model.word_vecs ; word_vecs"
      ],
      "metadata": {
        "colab": {
          "base_uri": "https://localhost:8080/"
        },
        "id": "elST91BR5DwT",
        "outputId": "10e7e870-396e-42a9-e686-fdf9f1b0b570"
      },
      "execution_count": 56,
      "outputs": [
        {
          "output_type": "execute_result",
          "data": {
            "text/plain": [
              "array([[-1.74539   ,  0.97889787, -0.94558877,  0.9217437 ,  0.9969784 ],\n",
              "       [ 0.4153673 , -1.1579971 ,  1.2081553 , -1.18737   , -1.1780249 ],\n",
              "       [ 0.19706808,  1.040546  , -0.9848199 ,  1.0780019 ,  1.0026276 ],\n",
              "       [ 1.7932583 , -0.8421571 ,  0.92804563, -0.84528714, -0.85019445],\n",
              "       [ 0.19005889,  1.029755  , -0.98065865,  1.072977  ,  0.9650643 ],\n",
              "       [-1.7530444 ,  0.9895961 , -0.948117  ,  0.9193398 ,  0.98405886],\n",
              "       [-1.7064844 , -1.1514366 ,  1.1755863 , -1.182577  , -1.1317255 ]],\n",
              "      dtype=float32)"
            ]
          },
          "metadata": {},
          "execution_count": 56
        }
      ]
    },
    {
      "cell_type": "code",
      "source": [
        "for word_id, word in id_to_word.items(): \n",
        "  print(word, word_vecs[word_id])\n",
        "# 단어를 밀집벡터로 나타낼수있게됨\n",
        "# 밀집벡터가 단어의 분산표현임\n"
      ],
      "metadata": {
        "colab": {
          "base_uri": "https://localhost:8080/"
        },
        "id": "EDXTEBzc5oMj",
        "outputId": "ec9efecb-5b1e-4f63-bde4-82565c4e46f4"
      },
      "execution_count": 58,
      "outputs": [
        {
          "output_type": "stream",
          "name": "stdout",
          "text": [
            "you [-1.74539     0.97889787 -0.94558877  0.9217437   0.9969784 ]\n",
            "say [ 0.4153673 -1.1579971  1.2081553 -1.18737   -1.1780249]\n",
            "goodbye [ 0.19706808  1.040546   -0.9848199   1.0780019   1.0026276 ]\n",
            "and [ 1.7932583  -0.8421571   0.92804563 -0.84528714 -0.85019445]\n",
            "i [ 0.19005889  1.029755   -0.98065865  1.072977    0.9650643 ]\n",
            "hello [-1.7530444   0.9895961  -0.948117    0.9193398   0.98405886]\n",
            ". [-1.7064844 -1.1514366  1.1755863 -1.182577  -1.1317255]\n"
          ]
        }
      ]
    },
    {
      "cell_type": "code",
      "source": [
        "# word2vec보충\n",
        "# skip gram 모델\n",
        "# 중앙의 단어로부터 주변의 여러단어를 추측함\n",
        "# 입력층 하나, 출력층은 맥락의 수만큼 존재함\n",
        "# 각 출력층에서는 softmax with loss계층을 이용해 개별적으로 손실을 구하고, 개별손신들을 모두 더한값을 최종손실로 사용\n",
        "# skip gram vs CBOW : skip gram사용 / 이유: 정밀도 면에서 skip gram이 우세함\n",
        "# 학습속도면에서는 CBOW가 더 빠름 / SKIP GRAM은 맥락의 수만큼 손실을 구해야해서 계산비용이 그만큼 커짐\n"
      ],
      "metadata": {
        "id": "kR19_QoI5-B5"
      },
      "execution_count": null,
      "outputs": []
    },
    {
      "cell_type": "code",
      "source": [
        "# WORD2VEC이후에 통계기반기법과 추론기반기법을 융합한 GloVe가 등장\n",
        "# GloVe는 말뭉치 전체의 통계정보를 손실함수에 도입해 미니배치학습을 하는것임\n"
      ],
      "metadata": {
        "id": "3vZsJ2S_5x0v"
      },
      "execution_count": null,
      "outputs": []
    },
    {
      "cell_type": "markdown",
      "source": [
        "# ch4. word2vec 속도개선 "
      ],
      "metadata": {
        "id": "XtrjTocMBNUI"
      }
    },
    {
      "cell_type": "code",
      "source": [
        "# 앞에서 구현한 CBOW모델은 단순한 2층 신경망이라서 간단하게 구현가능\n",
        "# 말뭉치에 포함된 단어가 많아지면 계산량이 커지는 단점이 있음\n",
        "# 실제로 어휘수가 어느정도를 넘어서면 CBOW는 계산 시간이 너무 오래걸림\n",
        "# 해당 장의 목표는 WORD2VEC의 속도개선임"
      ],
      "metadata": {
        "id": "cSNXAeJEBRYk"
      },
      "execution_count": 59,
      "outputs": []
    },
    {
      "cell_type": "code",
      "source": [
        "# 두가지 개선을 할예정\n",
        "# 1 . Embedding이라는 새로운 계층 도입\n",
        "# 2.  Negative sampling 새로운 소실함수를 도입\n"
      ],
      "metadata": {
        "id": "hL_PQVdWBuGe"
      },
      "execution_count": 60,
      "outputs": []
    },
    {
      "cell_type": "code",
      "source": [
        "# 단어수가 많아지면, 단어를 원핫 표현으로 다루기 때문에 어휘수가 많아지면 원핫 표현의 벡터크기도 커지게됨\n",
        "# 어휘가 1000만개라면 원핫 표현 하나만 해도 원소수가 1000만개인 베터가 생성-> 상당한 메모리 차지 -> embedding계층 생성\n",
        "# 은닉층과 가중치 행렬의 곱만해도 계산량이 상당함, softmax층에서도 어휘가 많아짐에 따라 계산량이 증가함-> negative sampling도입"
      ],
      "metadata": {
        "id": "gEUWX-O2B2tB"
      },
      "execution_count": 61,
      "outputs": []
    },
    {
      "cell_type": "code",
      "source": [
        "# 1. Embedding계층\n",
        "# 단어 ID에 해당하는 행을 추출하는 계층\n",
        "# 단어임베딩에서 유래한용어\n",
        "import numpy as np \n",
        "W= np.arange(21).reshape(7,3) # 7개의 단어인셈\n",
        "W"
      ],
      "metadata": {
        "colab": {
          "base_uri": "https://localhost:8080/"
        },
        "id": "sQpZofSUEcel",
        "outputId": "597120cb-1d91-4eb3-f937-6f0ec024f8e2"
      },
      "execution_count": 30,
      "outputs": [
        {
          "output_type": "execute_result",
          "data": {
            "text/plain": [
              "array([[ 0,  1,  2],\n",
              "       [ 3,  4,  5],\n",
              "       [ 6,  7,  8],\n",
              "       [ 9, 10, 11],\n",
              "       [12, 13, 14],\n",
              "       [15, 16, 17],\n",
              "       [18, 19, 20]])"
            ]
          },
          "metadata": {},
          "execution_count": 30
        }
      ]
    },
    {
      "cell_type": "code",
      "source": [
        "W[0]"
      ],
      "metadata": {
        "colab": {
          "base_uri": "https://localhost:8080/"
        },
        "id": "Uc3bT5vAE6Qs",
        "outputId": "a5cceec4-7951-41c3-c660-9b6739752b3d"
      },
      "execution_count": 31,
      "outputs": [
        {
          "output_type": "execute_result",
          "data": {
            "text/plain": [
              "array([0, 1, 2])"
            ]
          },
          "metadata": {},
          "execution_count": 31
        }
      ]
    },
    {
      "cell_type": "code",
      "source": [
        "idx = np.array([1,0,3,0]) \n",
        "W[idx] # 인수에 배열을 사용하면 여러 행도 한꺼번에 추출함\n"
      ],
      "metadata": {
        "colab": {
          "base_uri": "https://localhost:8080/"
        },
        "id": "TeF805QFNYnz",
        "outputId": "e60a6c38-bc56-42db-e6fb-5da891733dcd"
      },
      "execution_count": 32,
      "outputs": [
        {
          "output_type": "execute_result",
          "data": {
            "text/plain": [
              "array([[ 3,  4,  5],\n",
              "       [ 0,  1,  2],\n",
              "       [ 9, 10, 11],\n",
              "       [ 0,  1,  2]])"
            ]
          },
          "metadata": {},
          "execution_count": 32
        }
      ]
    },
    {
      "cell_type": "code",
      "source": [
        "# embedding계층의 forward()메서드\n",
        "class Embedding:\n",
        "  def __init__(self,W):\n",
        "    self.params = [W]\n",
        "    self.grads = [np.zeros_like(W)]\n",
        "    self.idx = None \n",
        "\n",
        "  def forward(self, idx):  # 가중치행의 특정행을 추출할 뿐, 가중치의 특정 행 뉴런만을 다음 층으로 흘려보냄\n",
        "    W, =self.params \n",
        "    self.idx = idx\n",
        "    out = W[idx] \n",
        "    return out \n",
        "\n",
        "\n",
        "  def backward(self, dout):\n",
        "    dw, = self.grads  # 앞층으로부터 전해진 기울기를 가중치 기울기 dW의 특정행에 설정함\n",
        "    dw[...] = 0 # dW의 형상은 유지한채 원소를 0으로 덮어씀\n",
        "    for i, word_id in enumerate(self.idx):\n",
        "      dw[word_id] +=dout[i] # 중복 인덱스가 있더라도 올바르게 처리해줌\n",
        "      # 혹은\n",
        "      # np.add.at(dW, self.idx, dout)  : B를 A의 idx번째 행에 더해줌\n",
        "\n",
        "      return None \n",
        "# matmul계층을 embedding계층으로 전환가능 > 메모리 사용량을 줄이고 쓸데없는 계산도 생략"
      ],
      "metadata": {
        "id": "DlGI_8W9NhXl"
      },
      "execution_count": 33,
      "outputs": []
    },
    {
      "cell_type": "code",
      "source": [
        "# word2vec 개선: negative samplimg (부정적 샘플링)\n",
        "# 어휘가 아무리 많아져도 계산량을 낮은 수준에서 일정하게 억제 가능\n",
        "# Softmax대신 negative sampling 사용\n",
        "# 은닉층 이후 계산의 문제점 : 은닉층의 뉴런과 가중치 행렬의 곱, softmax계층의 계산\n",
        "# 해결책 : 다중 분류에서 이진분류로 근사하기\n"
      ],
      "metadata": {
        "id": "_Rz-BpY2LfyN"
      },
      "execution_count": 34,
      "outputs": []
    },
    {
      "cell_type": "code",
      "source": [
        "# 시그모이드함수와 교차 엔트로피 오차\n",
        "# 다중분류 : 출력층에서는 소프트맥스함수를, 손실함수로는 교차 엔트로피 오차 이용\n",
        "# 이진분류 : 출력층에서는 시그모이드 함수를, 손실함수는 교차 엔트로피 오차 이용\n",
        "# 다중분류에서 이진분류로 구현\n"
      ],
      "metadata": {
        "id": "gd6ERxymdaz6"
      },
      "execution_count": 35,
      "outputs": []
    },
    {
      "cell_type": "code",
      "source": [
        "class  EmbeddingDot: # 총 네개의 인스턴스변수(embed, params, grads, cache) \n",
        "  def __init__(self, W): \n",
        "    self.embed = Embedding(W) # 임베딩 계층\n",
        "    self.params = self.embed.params \n",
        "    self.grads = self.embed.grads  # 기울기 저장\n",
        "    self.cache = None # 순전파시의 계산결과를 잠시 유지하기 위한 변수\n",
        "  \n",
        "  def forward(self, h, idx):  # 은닉층 뉴런 , 단어 id의 넘파이 배열/ \n",
        "  # idx는 ID의 배열인데 배열로 받는 이유는 데이터를 한꺼번에 처리하는 미니배치 처리를 가정했기 때문임\n",
        "    target_W = self.embed.forward(idx) \n",
        "    out = np.sum(target_W*h , axis= 1) \n",
        "    self.cache = (h, target_W) \n",
        "    return out \n",
        "  \n",
        "  def backward(self, dout): \n",
        "    h, target_W = self.cache \n",
        "    dout = dout.reshape(dout.shape[0], 1) \n",
        "    dtarget_W = dout * h \n",
        "    self.embed.backward(dtarget_W) \n",
        "    dh = dout * target_W \n",
        "    return dh  \n",
        "\n",
        "# 지금까지는 긍정적인 예(정답)에 대해서만 학습했음\n",
        "# 부정정인 예(오답)을 입력하면 어떤결과가 나올지 확실하지 않음\n",
        "# you ___ goodby 의 정답은 say-> say에 대해서만 이진분류를 해옴\n",
        "# say이외의 단어에 대해서는 어떠한 지식도 획득하지 못함\n",
        "# 최종 목표는 say에 대해서는 sigmoid출력을 1에 가깝게 만들고, 부정적인예(say이외의 단어)에 대해서는 0에 가깝게 만들기\n",
        "# 부정적인 예를 몇개 선택해서 튜닝하는 과정을 네거티브 샘플링이라고 함\n",
        "# 긍정적인예와 샘플링된 부정적 예의 손실을 더한 값을 최종 손실로 사용함\n",
        "# 부정적인 예에 대해서는 sigmoidwithloss계층에 정답레이블을 0으로 입력함 \n",
        "# 긍정적인 예에 대해서는 sigmoidwithloss계층에 정답레이블을 1로 입력함"
      ],
      "metadata": {
        "id": "fVCT0dBCM5kH"
      },
      "execution_count": 36,
      "outputs": []
    },
    {
      "cell_type": "code",
      "source": [
        "# 네거티브 샘플링에서 샘플링 방법\n",
        "# 무작위 샘플링보다 , 말뭉치의 통계 데이터를 기초로한 샘플링\n",
        "# 말뭉치에서 자주 등장하는 단어를 많이 추출하고, 드물게 등장하는 단어를 적게 추출하는것 \n",
        "# 말뭉치에서 단어빈도를 기준으로 샘플링\n",
        "# 희소한 단어는 선택되기 어려움\n",
        "\n",
        "import numpy as np\n",
        " \n",
        "np.random.choice(10) "
      ],
      "metadata": {
        "colab": {
          "base_uri": "https://localhost:8080/"
        },
        "id": "LKLEsfe-M5nT",
        "outputId": "618de9f3-abbd-4db2-c080-28696d4e2484"
      },
      "execution_count": 37,
      "outputs": [
        {
          "output_type": "execute_result",
          "data": {
            "text/plain": [
              "9"
            ]
          },
          "metadata": {},
          "execution_count": 37
        }
      ]
    },
    {
      "cell_type": "code",
      "source": [
        "np.random.choice(10)"
      ],
      "metadata": {
        "colab": {
          "base_uri": "https://localhost:8080/"
        },
        "id": "hZwzT3otnrQs",
        "outputId": "b00d2164-4a9d-46ff-ae3b-49e3fd03b0af"
      },
      "execution_count": 38,
      "outputs": [
        {
          "output_type": "execute_result",
          "data": {
            "text/plain": [
              "1"
            ]
          },
          "metadata": {},
          "execution_count": 38
        }
      ]
    },
    {
      "cell_type": "code",
      "source": [
        "words = ['you','say','goodbye','I','hello','.'] \n",
        "np.random.choice(words)"
      ],
      "metadata": {
        "colab": {
          "base_uri": "https://localhost:8080/",
          "height": 36
        },
        "id": "LsAgMj6Anrbh",
        "outputId": "f2a686eb-29a5-4154-d947-cd5a5842cc6a"
      },
      "execution_count": 39,
      "outputs": [
        {
          "output_type": "execute_result",
          "data": {
            "application/vnd.google.colaboratory.intrinsic+json": {
              "type": "string"
            },
            "text/plain": [
              "'you'"
            ]
          },
          "metadata": {},
          "execution_count": 39
        }
      ]
    },
    {
      "cell_type": "code",
      "source": [
        "np.random.choice(words, size=5)"
      ],
      "metadata": {
        "colab": {
          "base_uri": "https://localhost:8080/"
        },
        "id": "nLfxJRRhnyY8",
        "outputId": "b8e8fb77-e299-4c49-b6d6-0182a10bf3b2"
      },
      "execution_count": 40,
      "outputs": [
        {
          "output_type": "execute_result",
          "data": {
            "text/plain": [
              "array(['say', 'I', '.', 'I', 'say'], dtype='<U7')"
            ]
          },
          "metadata": {},
          "execution_count": 40
        }
      ]
    },
    {
      "cell_type": "code",
      "source": [
        "np.random.choice(words, size=5, replace = False)"
      ],
      "metadata": {
        "colab": {
          "base_uri": "https://localhost:8080/"
        },
        "id": "dyOCra7Xn2eI",
        "outputId": "3dbbaaaf-bba8-4143-c811-759c9f9856e9"
      },
      "execution_count": 41,
      "outputs": [
        {
          "output_type": "execute_result",
          "data": {
            "text/plain": [
              "array(['I', 'say', 'goodbye', 'you', 'hello'], dtype='<U7')"
            ]
          },
          "metadata": {},
          "execution_count": 41
        }
      ]
    },
    {
      "cell_type": "code",
      "source": [
        "p=[0.5,0.1,0.05, 0.2,0.05, 0.1]\n",
        "np.random.choice(words, p=p)"
      ],
      "metadata": {
        "colab": {
          "base_uri": "https://localhost:8080/",
          "height": 36
        },
        "id": "bCM2Qlr9n6DH",
        "outputId": "b7356b21-77ec-4e2f-e2db-a8f20de4122a"
      },
      "execution_count": 42,
      "outputs": [
        {
          "output_type": "execute_result",
          "data": {
            "application/vnd.google.colaboratory.intrinsic+json": {
              "type": "string"
            },
            "text/plain": [
              "'you'"
            ]
          },
          "metadata": {},
          "execution_count": 42
        }
      ]
    },
    {
      "cell_type": "code",
      "source": [
        "p=[0.7,0.29, 0.01] \n",
        "new_p = np.power(p,0.75) \n",
        "new_p /= np.sum(new_p) ; new_p\n",
        "# 낮은 확률의 단어가 좀더 쉽게 샘플링 되도록 하기 위한 구제조치 : 0.75 제곱 사용"
      ],
      "metadata": {
        "colab": {
          "base_uri": "https://localhost:8080/"
        },
        "id": "PixONmzgoAe5",
        "outputId": "673de0f6-2087-4f5b-a708-334d32658ae9"
      },
      "execution_count": 43,
      "outputs": [
        {
          "output_type": "execute_result",
          "data": {
            "text/plain": [
              "array([0.64196878, 0.33150408, 0.02652714])"
            ]
          },
          "metadata": {},
          "execution_count": 43
        }
      ]
    },
    {
      "cell_type": "code",
      "source": [
        "sum(new_p)"
      ],
      "metadata": {
        "colab": {
          "base_uri": "https://localhost:8080/"
        },
        "id": "kquZ38kbopl8",
        "outputId": "011b5e6c-0477-499c-9084-13d94e282961"
      },
      "execution_count": 44,
      "outputs": [
        {
          "output_type": "execute_result",
          "data": {
            "text/plain": [
              "1.0"
            ]
          },
          "metadata": {},
          "execution_count": 44
        }
      ]
    },
    {
      "cell_type": "code",
      "source": [
        "import sys\n",
        "sys.path.append('/content/deep-learning-from-scratch-2/')\n",
        "from ch04.negative_sampling_layer import *"
      ],
      "metadata": {
        "id": "8HeRCEJmqcA9"
      },
      "execution_count": 47,
      "outputs": []
    },
    {
      "cell_type": "code",
      "source": [
        "corpus = np.array([0,1,2,3,4,1,2,3]) \n",
        "power= 0.75 \n",
        "sample_size = 2 \n",
        "sampler = UnigramSampler(corpus, power, sample_size)  \n",
        "target = np.array([1,3,0]) \n",
        "negative_sample = sampler.get_negative_sample(target) \n",
        "print(negative_sample)"
      ],
      "metadata": {
        "colab": {
          "base_uri": "https://localhost:8080/"
        },
        "id": "LzEEfPGBor_V",
        "outputId": "8121df69-965f-441e-b2d0-357a60a46617"
      },
      "execution_count": 48,
      "outputs": [
        {
          "output_type": "stream",
          "name": "stdout",
          "text": [
            "[[2 4]\n",
            " [2 1]\n",
            " [2 4]]\n"
          ]
        }
      ]
    },
    {
      "cell_type": "code",
      "source": [
        "# 네거티브 샘플링 구현\n",
        "class NegativeSamplingLoss: \n",
        "  def __init__(self, W, corpus, power=0.75, sample_size=5):\n",
        "    self.sample_size= sample_size \n",
        "    self.sampler = UnigramSampler(corpus, power, sample_size) \n",
        "    # sampler setting\n",
        "    \n",
        "    self.loss_layers = [SigmoidWithLoss() for _ in range(sample_size+1)] \n",
        "    self.embed_dot_layers = [EmbeddingDot(W) for _ in range(sample_size+1)] \n",
        "    self.params, self.grads = [], []\n",
        "    \n",
        "    for layer in self.embed_dot_layers : \n",
        "      self.params += layer.parms \n",
        "      self.grads += layer.grads \n",
        "    \n",
        "  def forward(self, h, target): \n",
        "    batch_size = target.shape[0] \n",
        "    negative_sample = self.sampler.get_negative_sample(target) \n",
        "    # negative sample 을 뽑아냄\n",
        "\n",
        "    # 긍정적 예 순전파\n",
        "    score = self.embed_dot_layers[0].forward(h, target)  \n",
        "    correct_label = np.ones(batch_size, dtype=np.int32) # batch size만큼의 1 \n",
        "    loss = self.loss_layers[0].forward(score, correct_label) \n",
        "\n",
        "    # 부정적 예 순전파\n",
        "    negative_label = np.zeros(batch_size, dtype=np.int32)  # batch size만큼의 0\n",
        "    for i in range(self.sample_size): # negative sample size만큼의 iteration수행됨\n",
        "      negative_target = negative_sample[:i] \n",
        "      score = self.embed_dot_layers[1+i].forward(h, negative_target) \n",
        "      loss += self.loss_layers[1+i].forward(score, negative_label) \n",
        "    return loss\n",
        "  \n",
        "  def backward(self, dout=1):\n",
        "    dh = 0 \n",
        "    for l0, l1 in zip(self.loss_layers, self.embed_dot_layers): \n",
        "      dscore = l0.backward(dout) \n",
        "      dh += l1.backward(dscore) \n",
        "    return dh"
      ],
      "metadata": {
        "id": "MDcAa9KxqNn6"
      },
      "execution_count": 49,
      "outputs": []
    },
    {
      "cell_type": "code",
      "source": [
        "# 개선판 word2vec(CBOW) 학습\n",
        "# 개선점 : EMBEDDING 계층 + Negative sampling loss계층 + 맥락의window크기 임의로 조절 가능\n",
        "from common.layers import Embedding \n",
        "from ch04.negative_sampling_layer import NegativeSamplingLoss"
      ],
      "metadata": {
        "id": "ds2FQcbCudcF"
      },
      "execution_count": 50,
      "outputs": []
    },
    {
      "cell_type": "code",
      "source": [
        "class CBOW:# singleCBOW클래스를 확장한것\n",
        "  def __init__(self, vocab_size, hidden_size, window_size, corpus): \n",
        "    V,H = vocab_size, hidden_size \n",
        "    \n",
        "    # 가중치 초기화\n",
        "    W_in = 0.01*np.random.randn(V,H).astype('f') \n",
        "    W_out = 0.01*np.random.randn(V,H).astype('f') \n",
        "\n",
        "    # 계층 생성\n",
        "    self.in_layers = []\n",
        "    for i in range(2*window_size): \n",
        "      layer = Embedding(W_in) # embedding계층 사용\n",
        "      self.in_layers.append(layer) \n",
        "    self.ns_loss = NegativeSamplingLoss(W_out, corpus, power=0.75, sample_size=5) \n",
        "\n",
        "    # 모든 가중치와 기울기를 배열에 모은다.\n",
        "    layers= self.in_layers +[self.ns_loss] \n",
        "    self.params, self.grads = [], []\n",
        "    for layer in layers:\n",
        "      self.params += layer.params \n",
        "      self.grads += layer.grads \n",
        "    \n",
        "    # 인스턴스 변수에 단어의 분산표현을 저장함\n",
        "    self.word_vecs = W_in\n",
        "  \n",
        "  def forward(self, contexts , target): \n",
        "    h=0\n",
        "    for i, layer in enumerate(self.in_layers):\n",
        "      h += layer.forward(contexts[:,i])  # h의 합\n",
        "    h *= 1/len(self.in_layers)  #h의합을 개수로 나눠줌 / 평균\n",
        "    loss = self.ns_loss.forward(h, target) \n",
        "    return loss \n",
        "  \n",
        "  def backward(self, dout=1): \n",
        "    dout = self.ns_loss.backward(dout) \n",
        "    dout *= 1/ len(self.in_layers) \n",
        "    for layer in self.in_layers: \n",
        "      layer.backward(dout) \n",
        "    return None  \n",
        "# Contexts 는 2차원, target은 1차원 배열\n"
      ],
      "metadata": {
        "id": "Dz0O20l_y-AQ"
      },
      "execution_count": 51,
      "outputs": []
    },
    {
      "cell_type": "code",
      "source": [
        "# CBOW학습\n",
        "# GPU사용 : config.GPU=True"
      ],
      "metadata": {
        "id": "D06Y4Dv-38_w"
      },
      "execution_count": 52,
      "outputs": []
    },
    {
      "cell_type": "code",
      "source": [
        "import pickle \n",
        "from common import config\n",
        "from common.trainer import Trainer \n",
        "from common.optimizer import Adam \n",
        "from ch04.cbow import CBOW \n",
        "from common.util import create_contexts_target, to_cpu, to_gpu \n",
        "from dataset import ptb"
      ],
      "metadata": {
        "id": "fdZDY-7o2P1e"
      },
      "execution_count": 53,
      "outputs": []
    },
    {
      "cell_type": "code",
      "source": [
        "# 하이퍼 파라미터설정 \n",
        "window_size= 5 # 윈도우 크기\n",
        "hidden_size =100  # 은닉층의 뉴런수\n",
        "batch_size =100\n",
        "max_epoch = 10\n",
        "\n",
        "#데이터 읽기\n",
        "corpus, word_to_id, id_to_word = ptb.load_data('train')\n",
        "corpus "
      ],
      "metadata": {
        "colab": {
          "base_uri": "https://localhost:8080/"
        },
        "id": "97166Hnz4SL3",
        "outputId": "53f5b86f-ac5b-42db-992c-6789950a4fa0"
      },
      "execution_count": 54,
      "outputs": [
        {
          "output_type": "stream",
          "name": "stdout",
          "text": [
            "Downloading ptb.train.txt ... \n",
            "Done\n"
          ]
        },
        {
          "output_type": "execute_result",
          "data": {
            "text/plain": [
              "array([ 0,  1,  2, ..., 39, 26, 24])"
            ]
          },
          "metadata": {},
          "execution_count": 54
        }
      ]
    },
    {
      "cell_type": "code",
      "source": [
        "vocab_size = len(word_to_id) ; vocab_size"
      ],
      "metadata": {
        "colab": {
          "base_uri": "https://localhost:8080/"
        },
        "id": "S78LNe844lmc",
        "outputId": "a5aa51b3-0a2c-4668-caba-5c39c36d7845"
      },
      "execution_count": 55,
      "outputs": [
        {
          "output_type": "execute_result",
          "data": {
            "text/plain": [
              "10000"
            ]
          },
          "metadata": {},
          "execution_count": 55
        }
      ]
    },
    {
      "cell_type": "code",
      "source": [
        "contexts, target = create_contexts_target(corpus, window_size) \n",
        "target"
      ],
      "metadata": {
        "colab": {
          "base_uri": "https://localhost:8080/"
        },
        "id": "t0yBlGGM4rEc",
        "outputId": "31794bc9-d133-467c-9b0a-65be380165e8"
      },
      "execution_count": 56,
      "outputs": [
        {
          "output_type": "execute_result",
          "data": {
            "text/plain": [
              "array([   5,    6,    7, ...,  552,  917, 3196])"
            ]
          },
          "metadata": {},
          "execution_count": 56
        }
      ]
    },
    {
      "cell_type": "code",
      "source": [
        "if config.GPU:\n",
        "  contexts, target = to_gpu(contexts), to_gpu(target)"
      ],
      "metadata": {
        "id": "23MQ6IvP4w32"
      },
      "execution_count": 57,
      "outputs": []
    },
    {
      "cell_type": "code",
      "source": [
        "# 모델 생성\n",
        "model = CBOW(vocab_size, hidden_size, window_size, corpus) \n",
        "optimizer= Adam() \n",
        "trainer = Trainer(model, optimizer)"
      ],
      "metadata": {
        "id": "yvSiNdbx5UqJ"
      },
      "execution_count": 58,
      "outputs": []
    },
    {
      "cell_type": "code",
      "source": [
        "# 학습시작\n",
        "trainer.fit(contexts, target, max_epoch, batch_size)\n",
        "trainer.plot()"
      ],
      "metadata": {
        "colab": {
          "base_uri": "https://localhost:8080/",
          "height": 1000
        },
        "id": "_B0ITFci5ku9",
        "outputId": "3658b92d-d256-442f-a5f3-8bf576417d1c"
      },
      "execution_count": 59,
      "outputs": [
        {
          "output_type": "stream",
          "name": "stdout",
          "text": [
            "| 에폭 1 |  반복 1 / 9295 | 시간 0[s] | 손실 4.16\n",
            "| 에폭 1 |  반복 21 / 9295 | 시간 1[s] | 손실 4.16\n",
            "| 에폭 1 |  반복 41 / 9295 | 시간 2[s] | 손실 4.15\n",
            "| 에폭 1 |  반복 61 / 9295 | 시간 4[s] | 손실 4.12\n",
            "| 에폭 1 |  반복 81 / 9295 | 시간 5[s] | 손실 4.04\n",
            "| 에폭 1 |  반복 101 / 9295 | 시간 6[s] | 손실 3.92\n",
            "| 에폭 1 |  반복 121 / 9295 | 시간 7[s] | 손실 3.77\n",
            "| 에폭 1 |  반복 141 / 9295 | 시간 8[s] | 손실 3.61\n",
            "| 에폭 1 |  반복 161 / 9295 | 시간 9[s] | 손실 3.48\n",
            "| 에폭 1 |  반복 181 / 9295 | 시간 11[s] | 손실 3.34\n",
            "| 에폭 1 |  반복 201 / 9295 | 시간 12[s] | 손실 3.24\n",
            "| 에폭 1 |  반복 221 / 9295 | 시간 13[s] | 손실 3.17\n",
            "| 에폭 1 |  반복 241 / 9295 | 시간 14[s] | 손실 3.07\n",
            "| 에폭 1 |  반복 261 / 9295 | 시간 15[s] | 손실 3.00\n",
            "| 에폭 1 |  반복 281 / 9295 | 시간 16[s] | 손실 2.98\n",
            "| 에폭 1 |  반복 301 / 9295 | 시간 17[s] | 손실 2.90\n",
            "| 에폭 1 |  반복 321 / 9295 | 시간 19[s] | 손실 2.88\n",
            "| 에폭 1 |  반복 341 / 9295 | 시간 20[s] | 손실 2.83\n",
            "| 에폭 1 |  반복 361 / 9295 | 시간 21[s] | 손실 2.83\n",
            "| 에폭 1 |  반복 381 / 9295 | 시간 22[s] | 손실 2.79\n",
            "| 에폭 1 |  반복 401 / 9295 | 시간 23[s] | 손실 2.76\n",
            "| 에폭 1 |  반복 421 / 9295 | 시간 25[s] | 손실 2.76\n",
            "| 에폭 1 |  반복 441 / 9295 | 시간 26[s] | 손실 2.73\n",
            "| 에폭 1 |  반복 461 / 9295 | 시간 27[s] | 손실 2.72\n",
            "| 에폭 1 |  반복 481 / 9295 | 시간 28[s] | 손실 2.72\n",
            "| 에폭 1 |  반복 501 / 9295 | 시간 29[s] | 손실 2.68\n",
            "| 에폭 1 |  반복 521 / 9295 | 시간 30[s] | 손실 2.68\n",
            "| 에폭 1 |  반복 541 / 9295 | 시간 32[s] | 손실 2.66\n",
            "| 에폭 1 |  반복 561 / 9295 | 시간 33[s] | 손실 2.66\n",
            "| 에폭 1 |  반복 581 / 9295 | 시간 34[s] | 손실 2.65\n",
            "| 에폭 1 |  반복 601 / 9295 | 시간 35[s] | 손실 2.62\n",
            "| 에폭 1 |  반복 621 / 9295 | 시간 36[s] | 손실 2.66\n",
            "| 에폭 1 |  반복 641 / 9295 | 시간 37[s] | 손실 2.66\n",
            "| 에폭 1 |  반복 661 / 9295 | 시간 39[s] | 손실 2.62\n",
            "| 에폭 1 |  반복 681 / 9295 | 시간 40[s] | 손실 2.62\n",
            "| 에폭 1 |  반복 701 / 9295 | 시간 41[s] | 손실 2.64\n",
            "| 에폭 1 |  반복 721 / 9295 | 시간 42[s] | 손실 2.61\n",
            "| 에폭 1 |  반복 741 / 9295 | 시간 43[s] | 손실 2.62\n",
            "| 에폭 1 |  반복 761 / 9295 | 시간 44[s] | 손실 2.62\n",
            "| 에폭 1 |  반복 781 / 9295 | 시간 46[s] | 손실 2.61\n",
            "| 에폭 1 |  반복 801 / 9295 | 시간 47[s] | 손실 2.60\n",
            "| 에폭 1 |  반복 821 / 9295 | 시간 48[s] | 손실 2.64\n",
            "| 에폭 1 |  반복 841 / 9295 | 시간 49[s] | 손실 2.58\n",
            "| 에폭 1 |  반복 861 / 9295 | 시간 50[s] | 손실 2.59\n",
            "| 에폭 1 |  반복 881 / 9295 | 시간 51[s] | 손실 2.61\n",
            "| 에폭 1 |  반복 901 / 9295 | 시간 53[s] | 손실 2.57\n",
            "| 에폭 1 |  반복 921 / 9295 | 시간 54[s] | 손실 2.58\n",
            "| 에폭 1 |  반복 941 / 9295 | 시간 55[s] | 손실 2.55\n",
            "| 에폭 1 |  반복 961 / 9295 | 시간 56[s] | 손실 2.56\n",
            "| 에폭 1 |  반복 981 / 9295 | 시간 57[s] | 손실 2.60\n",
            "| 에폭 1 |  반복 1001 / 9295 | 시간 58[s] | 손실 2.57\n",
            "| 에폭 1 |  반복 1021 / 9295 | 시간 60[s] | 손실 2.55\n",
            "| 에폭 1 |  반복 1041 / 9295 | 시간 61[s] | 손실 2.56\n",
            "| 에폭 1 |  반복 1061 / 9295 | 시간 62[s] | 손실 2.53\n",
            "| 에폭 1 |  반복 1081 / 9295 | 시간 63[s] | 손실 2.53\n",
            "| 에폭 1 |  반복 1101 / 9295 | 시간 64[s] | 손실 2.57\n",
            "| 에폭 1 |  반복 1121 / 9295 | 시간 66[s] | 손실 2.55\n",
            "| 에폭 1 |  반복 1141 / 9295 | 시간 67[s] | 손실 2.54\n",
            "| 에폭 1 |  반복 1161 / 9295 | 시간 68[s] | 손실 2.55\n",
            "| 에폭 1 |  반복 1181 / 9295 | 시간 69[s] | 손실 2.53\n",
            "| 에폭 1 |  반복 1201 / 9295 | 시간 70[s] | 손실 2.52\n",
            "| 에폭 1 |  반복 1221 / 9295 | 시간 71[s] | 손실 2.53\n",
            "| 에폭 1 |  반복 1241 / 9295 | 시간 73[s] | 손실 2.56\n",
            "| 에폭 1 |  반복 1261 / 9295 | 시간 74[s] | 손실 2.55\n",
            "| 에폭 1 |  반복 1281 / 9295 | 시간 75[s] | 손실 2.55\n",
            "| 에폭 1 |  반복 1301 / 9295 | 시간 76[s] | 손실 2.53\n",
            "| 에폭 1 |  반복 1321 / 9295 | 시간 77[s] | 손실 2.56\n",
            "| 에폭 1 |  반복 1341 / 9295 | 시간 78[s] | 손실 2.52\n",
            "| 에폭 1 |  반복 1361 / 9295 | 시간 80[s] | 손실 2.51\n",
            "| 에폭 1 |  반복 1381 / 9295 | 시간 81[s] | 손실 2.53\n",
            "| 에폭 1 |  반복 1401 / 9295 | 시간 82[s] | 손실 2.55\n",
            "| 에폭 1 |  반복 1421 / 9295 | 시간 83[s] | 손실 2.53\n",
            "| 에폭 1 |  반복 1441 / 9295 | 시간 84[s] | 손실 2.52\n",
            "| 에폭 1 |  반복 1461 / 9295 | 시간 86[s] | 손실 2.49\n",
            "| 에폭 1 |  반복 1481 / 9295 | 시간 87[s] | 손실 2.52\n",
            "| 에폭 1 |  반복 1501 / 9295 | 시간 88[s] | 손실 2.51\n",
            "| 에폭 1 |  반복 1521 / 9295 | 시간 89[s] | 손실 2.50\n",
            "| 에폭 1 |  반복 1541 / 9295 | 시간 90[s] | 손실 2.54\n",
            "| 에폭 1 |  반복 1561 / 9295 | 시간 91[s] | 손실 2.48\n",
            "| 에폭 1 |  반복 1581 / 9295 | 시간 93[s] | 손실 2.49\n",
            "| 에폭 1 |  반복 1601 / 9295 | 시간 94[s] | 손실 2.53\n",
            "| 에폭 1 |  반복 1621 / 9295 | 시간 95[s] | 손실 2.49\n",
            "| 에폭 1 |  반복 1641 / 9295 | 시간 96[s] | 손실 2.48\n",
            "| 에폭 1 |  반복 1661 / 9295 | 시간 97[s] | 손실 2.50\n",
            "| 에폭 1 |  반복 1681 / 9295 | 시간 98[s] | 손실 2.51\n",
            "| 에폭 1 |  반복 1701 / 9295 | 시간 100[s] | 손실 2.49\n",
            "| 에폭 1 |  반복 1721 / 9295 | 시간 101[s] | 손실 2.49\n",
            "| 에폭 1 |  반복 1741 / 9295 | 시간 102[s] | 손실 2.47\n",
            "| 에폭 1 |  반복 1761 / 9295 | 시간 103[s] | 손실 2.51\n",
            "| 에폭 1 |  반복 1781 / 9295 | 시간 104[s] | 손실 2.49\n",
            "| 에폭 1 |  반복 1801 / 9295 | 시간 105[s] | 손실 2.54\n",
            "| 에폭 1 |  반복 1821 / 9295 | 시간 107[s] | 손실 2.48\n",
            "| 에폭 1 |  반복 1841 / 9295 | 시간 108[s] | 손실 2.47\n",
            "| 에폭 1 |  반복 1861 / 9295 | 시간 109[s] | 손실 2.48\n",
            "| 에폭 1 |  반복 1881 / 9295 | 시간 110[s] | 손실 2.51\n",
            "| 에폭 1 |  반복 1901 / 9295 | 시간 111[s] | 손실 2.50\n",
            "| 에폭 1 |  반복 1921 / 9295 | 시간 113[s] | 손실 2.48\n",
            "| 에폭 1 |  반복 1941 / 9295 | 시간 114[s] | 손실 2.48\n",
            "| 에폭 1 |  반복 1961 / 9295 | 시간 115[s] | 손실 2.50\n",
            "| 에폭 1 |  반복 1981 / 9295 | 시간 116[s] | 손실 2.51\n",
            "| 에폭 1 |  반복 2001 / 9295 | 시간 117[s] | 손실 2.51\n",
            "| 에폭 1 |  반복 2021 / 9295 | 시간 118[s] | 손실 2.48\n",
            "| 에폭 1 |  반복 2041 / 9295 | 시간 120[s] | 손실 2.48\n",
            "| 에폭 1 |  반복 2061 / 9295 | 시간 121[s] | 손실 2.49\n",
            "| 에폭 1 |  반복 2081 / 9295 | 시간 122[s] | 손실 2.50\n",
            "| 에폭 1 |  반복 2101 / 9295 | 시간 123[s] | 손실 2.48\n",
            "| 에폭 1 |  반복 2121 / 9295 | 시간 124[s] | 손실 2.47\n",
            "| 에폭 1 |  반복 2141 / 9295 | 시간 125[s] | 손실 2.52\n",
            "| 에폭 1 |  반복 2161 / 9295 | 시간 127[s] | 손실 2.50\n",
            "| 에폭 1 |  반복 2181 / 9295 | 시간 128[s] | 손실 2.50\n",
            "| 에폭 1 |  반복 2201 / 9295 | 시간 129[s] | 손실 2.47\n",
            "| 에폭 1 |  반복 2221 / 9295 | 시간 130[s] | 손실 2.49\n",
            "| 에폭 1 |  반복 2241 / 9295 | 시간 131[s] | 손실 2.46\n",
            "| 에폭 1 |  반복 2261 / 9295 | 시간 133[s] | 손실 2.51\n",
            "| 에폭 1 |  반복 2281 / 9295 | 시간 134[s] | 손실 2.47\n",
            "| 에폭 1 |  반복 2301 / 9295 | 시간 135[s] | 손실 2.45\n",
            "| 에폭 1 |  반복 2321 / 9295 | 시간 136[s] | 손실 2.48\n",
            "| 에폭 1 |  반복 2341 / 9295 | 시간 137[s] | 손실 2.45\n",
            "| 에폭 1 |  반복 2361 / 9295 | 시간 138[s] | 손실 2.50\n",
            "| 에폭 1 |  반복 2381 / 9295 | 시간 140[s] | 손실 2.47\n",
            "| 에폭 1 |  반복 2401 / 9295 | 시간 141[s] | 손실 2.45\n",
            "| 에폭 1 |  반복 2421 / 9295 | 시간 142[s] | 손실 2.48\n",
            "| 에폭 1 |  반복 2441 / 9295 | 시간 143[s] | 손실 2.47\n",
            "| 에폭 1 |  반복 2461 / 9295 | 시간 144[s] | 손실 2.48\n",
            "| 에폭 1 |  반복 2481 / 9295 | 시간 145[s] | 손실 2.47\n",
            "| 에폭 1 |  반복 2501 / 9295 | 시간 147[s] | 손실 2.49\n",
            "| 에폭 1 |  반복 2521 / 9295 | 시간 148[s] | 손실 2.46\n",
            "| 에폭 1 |  반복 2541 / 9295 | 시간 149[s] | 손실 2.49\n",
            "| 에폭 1 |  반복 2561 / 9295 | 시간 150[s] | 손실 2.48\n",
            "| 에폭 1 |  반복 2581 / 9295 | 시간 151[s] | 손실 2.47\n",
            "| 에폭 1 |  반복 2601 / 9295 | 시간 152[s] | 손실 2.48\n",
            "| 에폭 1 |  반복 2621 / 9295 | 시간 154[s] | 손실 2.46\n",
            "| 에폭 1 |  반복 2641 / 9295 | 시간 155[s] | 손실 2.44\n",
            "| 에폭 1 |  반복 2661 / 9295 | 시간 156[s] | 손실 2.47\n",
            "| 에폭 1 |  반복 2681 / 9295 | 시간 157[s] | 손실 2.46\n",
            "| 에폭 1 |  반복 2701 / 9295 | 시간 159[s] | 손실 2.47\n",
            "| 에폭 1 |  반복 2721 / 9295 | 시간 160[s] | 손실 2.46\n",
            "| 에폭 1 |  반복 2741 / 9295 | 시간 161[s] | 손실 2.47\n",
            "| 에폭 1 |  반복 2761 / 9295 | 시간 162[s] | 손실 2.44\n",
            "| 에폭 1 |  반복 2781 / 9295 | 시간 163[s] | 손실 2.45\n",
            "| 에폭 1 |  반복 2801 / 9295 | 시간 164[s] | 손실 2.45\n",
            "| 에폭 1 |  반복 2821 / 9295 | 시간 166[s] | 손실 2.46\n",
            "| 에폭 1 |  반복 2841 / 9295 | 시간 167[s] | 손실 2.45\n",
            "| 에폭 1 |  반복 2861 / 9295 | 시간 168[s] | 손실 2.45\n",
            "| 에폭 1 |  반복 2881 / 9295 | 시간 169[s] | 손실 2.46\n",
            "| 에폭 1 |  반복 2901 / 9295 | 시간 170[s] | 손실 2.45\n",
            "| 에폭 1 |  반복 2921 / 9295 | 시간 172[s] | 손실 2.45\n",
            "| 에폭 1 |  반복 2941 / 9295 | 시간 173[s] | 손실 2.46\n",
            "| 에폭 1 |  반복 2961 / 9295 | 시간 174[s] | 손실 2.46\n",
            "| 에폭 1 |  반복 2981 / 9295 | 시간 175[s] | 손실 2.46\n",
            "| 에폭 1 |  반복 3001 / 9295 | 시간 176[s] | 손실 2.47\n",
            "| 에폭 1 |  반복 3021 / 9295 | 시간 177[s] | 손실 2.48\n",
            "| 에폭 1 |  반복 3041 / 9295 | 시간 179[s] | 손실 2.44\n",
            "| 에폭 1 |  반복 3061 / 9295 | 시간 180[s] | 손실 2.45\n",
            "| 에폭 1 |  반복 3081 / 9295 | 시간 181[s] | 손실 2.45\n",
            "| 에폭 1 |  반복 3101 / 9295 | 시간 182[s] | 손실 2.48\n",
            "| 에폭 1 |  반복 3121 / 9295 | 시간 183[s] | 손실 2.45\n",
            "| 에폭 1 |  반복 3141 / 9295 | 시간 185[s] | 손실 2.47\n",
            "| 에폭 1 |  반복 3161 / 9295 | 시간 186[s] | 손실 2.48\n",
            "| 에폭 1 |  반복 3181 / 9295 | 시간 187[s] | 손실 2.47\n",
            "| 에폭 1 |  반복 3201 / 9295 | 시간 188[s] | 손실 2.43\n",
            "| 에폭 1 |  반복 3221 / 9295 | 시간 189[s] | 손실 2.42\n",
            "| 에폭 1 |  반복 3241 / 9295 | 시간 190[s] | 손실 2.44\n",
            "| 에폭 1 |  반복 3261 / 9295 | 시간 192[s] | 손실 2.41\n",
            "| 에폭 1 |  반복 3281 / 9295 | 시간 193[s] | 손실 2.43\n",
            "| 에폭 1 |  반복 3301 / 9295 | 시간 194[s] | 손실 2.43\n",
            "| 에폭 1 |  반복 3321 / 9295 | 시간 195[s] | 손실 2.44\n",
            "| 에폭 1 |  반복 3341 / 9295 | 시간 196[s] | 손실 2.43\n",
            "| 에폭 1 |  반복 3361 / 9295 | 시간 197[s] | 손실 2.43\n",
            "| 에폭 1 |  반복 3381 / 9295 | 시간 199[s] | 손실 2.44\n",
            "| 에폭 1 |  반복 3401 / 9295 | 시간 200[s] | 손실 2.45\n",
            "| 에폭 1 |  반복 3421 / 9295 | 시간 201[s] | 손실 2.44\n",
            "| 에폭 1 |  반복 3441 / 9295 | 시간 202[s] | 손실 2.43\n",
            "| 에폭 1 |  반복 3461 / 9295 | 시간 203[s] | 손실 2.45\n",
            "| 에폭 1 |  반복 3481 / 9295 | 시간 204[s] | 손실 2.43\n",
            "| 에폭 1 |  반복 3501 / 9295 | 시간 206[s] | 손실 2.45\n",
            "| 에폭 1 |  반복 3521 / 9295 | 시간 207[s] | 손실 2.42\n",
            "| 에폭 1 |  반복 3541 / 9295 | 시간 208[s] | 손실 2.42\n",
            "| 에폭 1 |  반복 3561 / 9295 | 시간 209[s] | 손실 2.41\n",
            "| 에폭 1 |  반복 3581 / 9295 | 시간 210[s] | 손실 2.42\n",
            "| 에폭 1 |  반복 3601 / 9295 | 시간 212[s] | 손실 2.43\n",
            "| 에폭 1 |  반복 3621 / 9295 | 시간 213[s] | 손실 2.45\n",
            "| 에폭 1 |  반복 3641 / 9295 | 시간 214[s] | 손실 2.41\n",
            "| 에폭 1 |  반복 3661 / 9295 | 시간 215[s] | 손실 2.41\n",
            "| 에폭 1 |  반복 3681 / 9295 | 시간 216[s] | 손실 2.43\n",
            "| 에폭 1 |  반복 3701 / 9295 | 시간 217[s] | 손실 2.40\n",
            "| 에폭 1 |  반복 3721 / 9295 | 시간 219[s] | 손실 2.45\n",
            "| 에폭 1 |  반복 3741 / 9295 | 시간 220[s] | 손실 2.46\n",
            "| 에폭 1 |  반복 3761 / 9295 | 시간 221[s] | 손실 2.41\n",
            "| 에폭 1 |  반복 3781 / 9295 | 시간 222[s] | 손실 2.40\n",
            "| 에폭 1 |  반복 3801 / 9295 | 시간 223[s] | 손실 2.41\n",
            "| 에폭 1 |  반복 3821 / 9295 | 시간 224[s] | 손실 2.42\n",
            "| 에폭 1 |  반복 3841 / 9295 | 시간 226[s] | 손실 2.43\n",
            "| 에폭 1 |  반복 3861 / 9295 | 시간 227[s] | 손실 2.40\n",
            "| 에폭 1 |  반복 3881 / 9295 | 시간 228[s] | 손실 2.42\n",
            "| 에폭 1 |  반복 3901 / 9295 | 시간 229[s] | 손실 2.42\n",
            "| 에폭 1 |  반복 3921 / 9295 | 시간 230[s] | 손실 2.40\n",
            "| 에폭 1 |  반복 3941 / 9295 | 시간 231[s] | 손실 2.38\n",
            "| 에폭 1 |  반복 3961 / 9295 | 시간 233[s] | 손실 2.43\n",
            "| 에폭 1 |  반복 3981 / 9295 | 시간 234[s] | 손실 2.44\n",
            "| 에폭 1 |  반복 4001 / 9295 | 시간 235[s] | 손실 2.43\n",
            "| 에폭 1 |  반복 4021 / 9295 | 시간 236[s] | 손실 2.42\n",
            "| 에폭 1 |  반복 4041 / 9295 | 시간 237[s] | 손실 2.40\n",
            "| 에폭 1 |  반복 4061 / 9295 | 시간 239[s] | 손실 2.42\n",
            "| 에폭 1 |  반복 4081 / 9295 | 시간 240[s] | 손실 2.43\n",
            "| 에폭 1 |  반복 4101 / 9295 | 시간 241[s] | 손실 2.39\n",
            "| 에폭 1 |  반복 4121 / 9295 | 시간 242[s] | 손실 2.42\n",
            "| 에폭 1 |  반복 4141 / 9295 | 시간 243[s] | 손실 2.44\n",
            "| 에폭 1 |  반복 4161 / 9295 | 시간 244[s] | 손실 2.39\n",
            "| 에폭 1 |  반복 4181 / 9295 | 시간 246[s] | 손실 2.40\n",
            "| 에폭 1 |  반복 4201 / 9295 | 시간 247[s] | 손실 2.40\n",
            "| 에폭 1 |  반복 4221 / 9295 | 시간 248[s] | 손실 2.37\n",
            "| 에폭 1 |  반복 4241 / 9295 | 시간 249[s] | 손실 2.38\n",
            "| 에폭 1 |  반복 4261 / 9295 | 시간 250[s] | 손실 2.41\n",
            "| 에폭 1 |  반복 4281 / 9295 | 시간 251[s] | 손실 2.40\n",
            "| 에폭 1 |  반복 4301 / 9295 | 시간 253[s] | 손실 2.39\n",
            "| 에폭 1 |  반복 4321 / 9295 | 시간 254[s] | 손실 2.41\n",
            "| 에폭 1 |  반복 4341 / 9295 | 시간 255[s] | 손실 2.40\n",
            "| 에폭 1 |  반복 4361 / 9295 | 시간 256[s] | 손실 2.43\n",
            "| 에폭 1 |  반복 4381 / 9295 | 시간 257[s] | 손실 2.37\n",
            "| 에폭 1 |  반복 4401 / 9295 | 시간 258[s] | 손실 2.42\n",
            "| 에폭 1 |  반복 4421 / 9295 | 시간 260[s] | 손실 2.36\n",
            "| 에폭 1 |  반복 4441 / 9295 | 시간 261[s] | 손실 2.39\n",
            "| 에폭 1 |  반복 4461 / 9295 | 시간 262[s] | 손실 2.38\n",
            "| 에폭 1 |  반복 4481 / 9295 | 시간 263[s] | 손실 2.37\n",
            "| 에폭 1 |  반복 4501 / 9295 | 시간 264[s] | 손실 2.38\n",
            "| 에폭 1 |  반복 4521 / 9295 | 시간 265[s] | 손실 2.43\n",
            "| 에폭 1 |  반복 4541 / 9295 | 시간 267[s] | 손실 2.38\n",
            "| 에폭 1 |  반복 4561 / 9295 | 시간 268[s] | 손실 2.36\n",
            "| 에폭 1 |  반복 4581 / 9295 | 시간 269[s] | 손실 2.36\n",
            "| 에폭 1 |  반복 4601 / 9295 | 시간 270[s] | 손실 2.38\n",
            "| 에폭 1 |  반복 4621 / 9295 | 시간 271[s] | 손실 2.36\n",
            "| 에폭 1 |  반복 4641 / 9295 | 시간 272[s] | 손실 2.39\n",
            "| 에폭 1 |  반복 4661 / 9295 | 시간 274[s] | 손실 2.37\n",
            "| 에폭 1 |  반복 4681 / 9295 | 시간 275[s] | 손실 2.36\n",
            "| 에폭 1 |  반복 4701 / 9295 | 시간 276[s] | 손실 2.36\n",
            "| 에폭 1 |  반복 4721 / 9295 | 시간 277[s] | 손실 2.35\n",
            "| 에폭 1 |  반복 4741 / 9295 | 시간 278[s] | 손실 2.38\n",
            "| 에폭 1 |  반복 4761 / 9295 | 시간 279[s] | 손실 2.37\n",
            "| 에폭 1 |  반복 4781 / 9295 | 시간 281[s] | 손실 2.37\n",
            "| 에폭 1 |  반복 4801 / 9295 | 시간 282[s] | 손실 2.38\n",
            "| 에폭 1 |  반복 4821 / 9295 | 시간 283[s] | 손실 2.37\n",
            "| 에폭 1 |  반복 4841 / 9295 | 시간 284[s] | 손실 2.37\n",
            "| 에폭 1 |  반복 4861 / 9295 | 시간 285[s] | 손실 2.37\n",
            "| 에폭 1 |  반복 4881 / 9295 | 시간 287[s] | 손실 2.36\n",
            "| 에폭 1 |  반복 4901 / 9295 | 시간 288[s] | 손실 2.38\n",
            "| 에폭 1 |  반복 4921 / 9295 | 시간 289[s] | 손실 2.33\n",
            "| 에폭 1 |  반복 4941 / 9295 | 시간 290[s] | 손실 2.34\n",
            "| 에폭 1 |  반복 4961 / 9295 | 시간 291[s] | 손실 2.38\n",
            "| 에폭 1 |  반복 4981 / 9295 | 시간 292[s] | 손실 2.34\n",
            "| 에폭 1 |  반복 5001 / 9295 | 시간 293[s] | 손실 2.36\n",
            "| 에폭 1 |  반복 5021 / 9295 | 시간 295[s] | 손실 2.39\n",
            "| 에폭 1 |  반복 5041 / 9295 | 시간 296[s] | 손실 2.36\n",
            "| 에폭 1 |  반복 5061 / 9295 | 시간 297[s] | 손실 2.35\n",
            "| 에폭 1 |  반복 5081 / 9295 | 시간 298[s] | 손실 2.35\n",
            "| 에폭 1 |  반복 5101 / 9295 | 시간 299[s] | 손실 2.32\n",
            "| 에폭 1 |  반복 5121 / 9295 | 시간 301[s] | 손실 2.37\n",
            "| 에폭 1 |  반복 5141 / 9295 | 시간 302[s] | 손실 2.34\n",
            "| 에폭 1 |  반복 5161 / 9295 | 시간 303[s] | 손실 2.37\n",
            "| 에폭 1 |  반복 5181 / 9295 | 시간 304[s] | 손실 2.35\n",
            "| 에폭 1 |  반복 5201 / 9295 | 시간 305[s] | 손실 2.35\n",
            "| 에폭 1 |  반복 5221 / 9295 | 시간 306[s] | 손실 2.36\n",
            "| 에폭 1 |  반복 5241 / 9295 | 시간 308[s] | 손실 2.33\n",
            "| 에폭 1 |  반복 5261 / 9295 | 시간 309[s] | 손실 2.32\n",
            "| 에폭 1 |  반복 5281 / 9295 | 시간 310[s] | 손실 2.36\n",
            "| 에폭 1 |  반복 5301 / 9295 | 시간 311[s] | 손실 2.37\n",
            "| 에폭 1 |  반복 5321 / 9295 | 시간 312[s] | 손실 2.34\n",
            "| 에폭 1 |  반복 5341 / 9295 | 시간 313[s] | 손실 2.36\n",
            "| 에폭 1 |  반복 5361 / 9295 | 시간 315[s] | 손실 2.33\n",
            "| 에폭 1 |  반복 5381 / 9295 | 시간 316[s] | 손실 2.32\n",
            "| 에폭 1 |  반복 5401 / 9295 | 시간 317[s] | 손실 2.37\n",
            "| 에폭 1 |  반복 5421 / 9295 | 시간 318[s] | 손실 2.35\n",
            "| 에폭 1 |  반복 5441 / 9295 | 시간 319[s] | 손실 2.35\n",
            "| 에폭 1 |  반복 5461 / 9295 | 시간 320[s] | 손실 2.36\n",
            "| 에폭 1 |  반복 5481 / 9295 | 시간 322[s] | 손실 2.33\n",
            "| 에폭 1 |  반복 5501 / 9295 | 시간 323[s] | 손실 2.34\n",
            "| 에폭 1 |  반복 5521 / 9295 | 시간 324[s] | 손실 2.35\n",
            "| 에폭 1 |  반복 5541 / 9295 | 시간 325[s] | 손실 2.31\n",
            "| 에폭 1 |  반복 5561 / 9295 | 시간 326[s] | 손실 2.34\n",
            "| 에폭 1 |  반복 5581 / 9295 | 시간 328[s] | 손실 2.38\n",
            "| 에폭 1 |  반복 5601 / 9295 | 시간 329[s] | 손실 2.34\n",
            "| 에폭 1 |  반복 5621 / 9295 | 시간 330[s] | 손실 2.35\n",
            "| 에폭 1 |  반복 5641 / 9295 | 시간 331[s] | 손실 2.35\n",
            "| 에폭 1 |  반복 5661 / 9295 | 시간 332[s] | 손실 2.34\n",
            "| 에폭 1 |  반복 5681 / 9295 | 시간 334[s] | 손실 2.37\n",
            "| 에폭 1 |  반복 5701 / 9295 | 시간 335[s] | 손실 2.32\n",
            "| 에폭 1 |  반복 5721 / 9295 | 시간 336[s] | 손실 2.34\n",
            "| 에폭 1 |  반복 5741 / 9295 | 시간 337[s] | 손실 2.35\n",
            "| 에폭 1 |  반복 5761 / 9295 | 시간 338[s] | 손실 2.36\n",
            "| 에폭 1 |  반복 5781 / 9295 | 시간 339[s] | 손실 2.36\n",
            "| 에폭 1 |  반복 5801 / 9295 | 시간 341[s] | 손실 2.33\n",
            "| 에폭 1 |  반복 5821 / 9295 | 시간 342[s] | 손실 2.31\n",
            "| 에폭 1 |  반복 5841 / 9295 | 시간 343[s] | 손실 2.31\n",
            "| 에폭 1 |  반복 5861 / 9295 | 시간 344[s] | 손실 2.33\n",
            "| 에폭 1 |  반복 5881 / 9295 | 시간 345[s] | 손실 2.31\n",
            "| 에폭 1 |  반복 5901 / 9295 | 시간 346[s] | 손실 2.32\n",
            "| 에폭 1 |  반복 5921 / 9295 | 시간 348[s] | 손실 2.32\n",
            "| 에폭 1 |  반복 5941 / 9295 | 시간 349[s] | 손실 2.29\n",
            "| 에폭 1 |  반복 5961 / 9295 | 시간 350[s] | 손실 2.35\n",
            "| 에폭 1 |  반복 5981 / 9295 | 시간 351[s] | 손실 2.32\n",
            "| 에폭 1 |  반복 6001 / 9295 | 시간 352[s] | 손실 2.33\n",
            "| 에폭 1 |  반복 6021 / 9295 | 시간 353[s] | 손실 2.34\n",
            "| 에폭 1 |  반복 6041 / 9295 | 시간 355[s] | 손실 2.33\n",
            "| 에폭 1 |  반복 6061 / 9295 | 시간 356[s] | 손실 2.29\n",
            "| 에폭 1 |  반복 6081 / 9295 | 시간 357[s] | 손실 2.34\n",
            "| 에폭 1 |  반복 6101 / 9295 | 시간 358[s] | 손실 2.32\n",
            "| 에폭 1 |  반복 6121 / 9295 | 시간 359[s] | 손실 2.32\n",
            "| 에폭 1 |  반복 6141 / 9295 | 시간 360[s] | 손실 2.31\n",
            "| 에폭 1 |  반복 6161 / 9295 | 시간 362[s] | 손실 2.31\n",
            "| 에폭 1 |  반복 6181 / 9295 | 시간 363[s] | 손실 2.35\n",
            "| 에폭 1 |  반복 6201 / 9295 | 시간 364[s] | 손실 2.30\n",
            "| 에폭 1 |  반복 6221 / 9295 | 시간 365[s] | 손실 2.34\n",
            "| 에폭 1 |  반복 6241 / 9295 | 시간 366[s] | 손실 2.34\n",
            "| 에폭 1 |  반복 6261 / 9295 | 시간 368[s] | 손실 2.33\n",
            "| 에폭 1 |  반복 6281 / 9295 | 시간 369[s] | 손실 2.32\n",
            "| 에폭 1 |  반복 6301 / 9295 | 시간 370[s] | 손실 2.29\n",
            "| 에폭 1 |  반복 6321 / 9295 | 시간 371[s] | 손실 2.33\n",
            "| 에폭 1 |  반복 6341 / 9295 | 시간 372[s] | 손실 2.29\n",
            "| 에폭 1 |  반복 6361 / 9295 | 시간 373[s] | 손실 2.31\n",
            "| 에폭 1 |  반복 6381 / 9295 | 시간 375[s] | 손실 2.33\n",
            "| 에폭 1 |  반복 6401 / 9295 | 시간 376[s] | 손실 2.29\n",
            "| 에폭 1 |  반복 6421 / 9295 | 시간 377[s] | 손실 2.27\n",
            "| 에폭 1 |  반복 6441 / 9295 | 시간 378[s] | 손실 2.31\n",
            "| 에폭 1 |  반복 6461 / 9295 | 시간 379[s] | 손실 2.28\n",
            "| 에폭 1 |  반복 6481 / 9295 | 시간 380[s] | 손실 2.28\n",
            "| 에폭 1 |  반복 6501 / 9295 | 시간 382[s] | 손실 2.28\n",
            "| 에폭 1 |  반복 6521 / 9295 | 시간 383[s] | 손실 2.28\n",
            "| 에폭 1 |  반복 6541 / 9295 | 시간 384[s] | 손실 2.34\n",
            "| 에폭 1 |  반복 6561 / 9295 | 시간 385[s] | 손실 2.30\n",
            "| 에폭 1 |  반복 6581 / 9295 | 시간 386[s] | 손실 2.28\n",
            "| 에폭 1 |  반복 6601 / 9295 | 시간 387[s] | 손실 2.29\n",
            "| 에폭 1 |  반복 6621 / 9295 | 시간 389[s] | 손실 2.31\n",
            "| 에폭 1 |  반복 6641 / 9295 | 시간 390[s] | 손실 2.31\n",
            "| 에폭 1 |  반복 6661 / 9295 | 시간 391[s] | 손실 2.32\n",
            "| 에폭 1 |  반복 6681 / 9295 | 시간 392[s] | 손실 2.31\n",
            "| 에폭 1 |  반복 6701 / 9295 | 시간 393[s] | 손실 2.30\n",
            "| 에폭 1 |  반복 6721 / 9295 | 시간 395[s] | 손실 2.30\n",
            "| 에폭 1 |  반복 6741 / 9295 | 시간 396[s] | 손실 2.30\n",
            "| 에폭 1 |  반복 6761 / 9295 | 시간 397[s] | 손실 2.28\n",
            "| 에폭 1 |  반복 6781 / 9295 | 시간 398[s] | 손실 2.25\n",
            "| 에폭 1 |  반복 6801 / 9295 | 시간 399[s] | 손실 2.30\n",
            "| 에폭 1 |  반복 6821 / 9295 | 시간 400[s] | 손실 2.31\n",
            "| 에폭 1 |  반복 6841 / 9295 | 시간 402[s] | 손실 2.29\n",
            "| 에폭 1 |  반복 6861 / 9295 | 시간 403[s] | 손실 2.30\n",
            "| 에폭 1 |  반복 6881 / 9295 | 시간 404[s] | 손실 2.31\n",
            "| 에폭 1 |  반복 6901 / 9295 | 시간 405[s] | 손실 2.31\n",
            "| 에폭 1 |  반복 6921 / 9295 | 시간 406[s] | 손실 2.29\n",
            "| 에폭 1 |  반복 6941 / 9295 | 시간 407[s] | 손실 2.29\n",
            "| 에폭 1 |  반복 6961 / 9295 | 시간 409[s] | 손실 2.32\n",
            "| 에폭 1 |  반복 6981 / 9295 | 시간 410[s] | 손실 2.27\n",
            "| 에폭 1 |  반복 7001 / 9295 | 시간 411[s] | 손실 2.32\n",
            "| 에폭 1 |  반복 7021 / 9295 | 시간 412[s] | 손실 2.30\n",
            "| 에폭 1 |  반복 7041 / 9295 | 시간 413[s] | 손실 2.25\n",
            "| 에폭 1 |  반복 7061 / 9295 | 시간 414[s] | 손실 2.28\n",
            "| 에폭 1 |  반복 7081 / 9295 | 시간 416[s] | 손실 2.26\n",
            "| 에폭 1 |  반복 7101 / 9295 | 시간 417[s] | 손실 2.32\n",
            "| 에폭 1 |  반복 7121 / 9295 | 시간 418[s] | 손실 2.31\n",
            "| 에폭 1 |  반복 7141 / 9295 | 시간 419[s] | 손실 2.26\n",
            "| 에폭 1 |  반복 7161 / 9295 | 시간 420[s] | 손실 2.28\n",
            "| 에폭 1 |  반복 7181 / 9295 | 시간 421[s] | 손실 2.28\n",
            "| 에폭 1 |  반복 7201 / 9295 | 시간 423[s] | 손실 2.32\n",
            "| 에폭 1 |  반복 7221 / 9295 | 시간 424[s] | 손실 2.26\n",
            "| 에폭 1 |  반복 7241 / 9295 | 시간 425[s] | 손실 2.26\n",
            "| 에폭 1 |  반복 7261 / 9295 | 시간 426[s] | 손실 2.29\n",
            "| 에폭 1 |  반복 7281 / 9295 | 시간 427[s] | 손실 2.27\n",
            "| 에폭 1 |  반복 7301 / 9295 | 시간 428[s] | 손실 2.29\n",
            "| 에폭 1 |  반복 7321 / 9295 | 시간 430[s] | 손실 2.24\n",
            "| 에폭 1 |  반복 7341 / 9295 | 시간 431[s] | 손실 2.29\n",
            "| 에폭 1 |  반복 7361 / 9295 | 시간 432[s] | 손실 2.28\n",
            "| 에폭 1 |  반복 7381 / 9295 | 시간 433[s] | 손실 2.28\n",
            "| 에폭 1 |  반복 7401 / 9295 | 시간 434[s] | 손실 2.28\n",
            "| 에폭 1 |  반복 7421 / 9295 | 시간 435[s] | 손실 2.31\n",
            "| 에폭 1 |  반복 7441 / 9295 | 시간 437[s] | 손실 2.31\n",
            "| 에폭 1 |  반복 7461 / 9295 | 시간 438[s] | 손실 2.28\n",
            "| 에폭 1 |  반복 7481 / 9295 | 시간 439[s] | 손실 2.26\n",
            "| 에폭 1 |  반복 7501 / 9295 | 시간 440[s] | 손실 2.30\n",
            "| 에폭 1 |  반복 7521 / 9295 | 시간 441[s] | 손실 2.25\n",
            "| 에폭 1 |  반복 7541 / 9295 | 시간 442[s] | 손실 2.28\n",
            "| 에폭 1 |  반복 7561 / 9295 | 시간 444[s] | 손실 2.30\n",
            "| 에폭 1 |  반복 7581 / 9295 | 시간 445[s] | 손실 2.24\n",
            "| 에폭 1 |  반복 7601 / 9295 | 시간 446[s] | 손실 2.26\n",
            "| 에폭 1 |  반복 7621 / 9295 | 시간 447[s] | 손실 2.31\n",
            "| 에폭 1 |  반복 7641 / 9295 | 시간 448[s] | 손실 2.27\n",
            "| 에폭 1 |  반복 7661 / 9295 | 시간 450[s] | 손실 2.26\n",
            "| 에폭 1 |  반복 7681 / 9295 | 시간 451[s] | 손실 2.28\n",
            "| 에폭 1 |  반복 7701 / 9295 | 시간 452[s] | 손실 2.28\n",
            "| 에폭 1 |  반복 7721 / 9295 | 시간 453[s] | 손실 2.24\n",
            "| 에폭 1 |  반복 7741 / 9295 | 시간 454[s] | 손실 2.26\n",
            "| 에폭 1 |  반복 7761 / 9295 | 시간 455[s] | 손실 2.26\n",
            "| 에폭 1 |  반복 7781 / 9295 | 시간 457[s] | 손실 2.31\n",
            "| 에폭 1 |  반복 7801 / 9295 | 시간 458[s] | 손실 2.28\n",
            "| 에폭 1 |  반복 7821 / 9295 | 시간 459[s] | 손실 2.29\n",
            "| 에폭 1 |  반복 7841 / 9295 | 시간 460[s] | 손실 2.25\n",
            "| 에폭 1 |  반복 7861 / 9295 | 시간 461[s] | 손실 2.25\n",
            "| 에폭 1 |  반복 7881 / 9295 | 시간 463[s] | 손실 2.25\n",
            "| 에폭 1 |  반복 7901 / 9295 | 시간 464[s] | 손실 2.27\n",
            "| 에폭 1 |  반복 7921 / 9295 | 시간 465[s] | 손실 2.22\n",
            "| 에폭 1 |  반복 7941 / 9295 | 시간 466[s] | 손실 2.24\n",
            "| 에폭 1 |  반복 7961 / 9295 | 시간 467[s] | 손실 2.28\n",
            "| 에폭 1 |  반복 7981 / 9295 | 시간 468[s] | 손실 2.24\n",
            "| 에폭 1 |  반복 8001 / 9295 | 시간 470[s] | 손실 2.22\n",
            "| 에폭 1 |  반복 8021 / 9295 | 시간 471[s] | 손실 2.25\n",
            "| 에폭 1 |  반복 8041 / 9295 | 시간 472[s] | 손실 2.26\n",
            "| 에폭 1 |  반복 8061 / 9295 | 시간 473[s] | 손실 2.25\n",
            "| 에폭 1 |  반복 8081 / 9295 | 시간 474[s] | 손실 2.27\n",
            "| 에폭 1 |  반복 8101 / 9295 | 시간 475[s] | 손실 2.24\n",
            "| 에폭 1 |  반복 8121 / 9295 | 시간 477[s] | 손실 2.29\n",
            "| 에폭 1 |  반복 8141 / 9295 | 시간 478[s] | 손실 2.23\n",
            "| 에폭 1 |  반복 8161 / 9295 | 시간 479[s] | 손실 2.26\n",
            "| 에폭 1 |  반복 8181 / 9295 | 시간 480[s] | 손실 2.27\n",
            "| 에폭 1 |  반복 8201 / 9295 | 시간 481[s] | 손실 2.24\n",
            "| 에폭 1 |  반복 8221 / 9295 | 시간 482[s] | 손실 2.26\n",
            "| 에폭 1 |  반복 8241 / 9295 | 시간 484[s] | 손실 2.25\n",
            "| 에폭 1 |  반복 8261 / 9295 | 시간 485[s] | 손실 2.28\n",
            "| 에폭 1 |  반복 8281 / 9295 | 시간 486[s] | 손실 2.27\n",
            "| 에폭 1 |  반복 8301 / 9295 | 시간 487[s] | 손실 2.23\n",
            "| 에폭 1 |  반복 8321 / 9295 | 시간 488[s] | 손실 2.24\n",
            "| 에폭 1 |  반복 8341 / 9295 | 시간 489[s] | 손실 2.29\n",
            "| 에폭 1 |  반복 8361 / 9295 | 시간 491[s] | 손실 2.25\n",
            "| 에폭 1 |  반복 8381 / 9295 | 시간 492[s] | 손실 2.25\n",
            "| 에폭 1 |  반복 8401 / 9295 | 시간 493[s] | 손실 2.24\n",
            "| 에폭 1 |  반복 8421 / 9295 | 시간 494[s] | 손실 2.27\n",
            "| 에폭 1 |  반복 8441 / 9295 | 시간 495[s] | 손실 2.27\n",
            "| 에폭 1 |  반복 8461 / 9295 | 시간 497[s] | 손실 2.25\n",
            "| 에폭 1 |  반복 8481 / 9295 | 시간 498[s] | 손실 2.22\n",
            "| 에폭 1 |  반복 8501 / 9295 | 시간 499[s] | 손실 2.26\n",
            "| 에폭 1 |  반복 8521 / 9295 | 시간 500[s] | 손실 2.23\n",
            "| 에폭 1 |  반복 8541 / 9295 | 시간 501[s] | 손실 2.22\n",
            "| 에폭 1 |  반복 8561 / 9295 | 시간 502[s] | 손실 2.26\n",
            "| 에폭 1 |  반복 8581 / 9295 | 시간 504[s] | 손실 2.26\n",
            "| 에폭 1 |  반복 8601 / 9295 | 시간 505[s] | 손실 2.25\n",
            "| 에폭 1 |  반복 8621 / 9295 | 시간 506[s] | 손실 2.23\n",
            "| 에폭 1 |  반복 8641 / 9295 | 시간 507[s] | 손실 2.22\n",
            "| 에폭 1 |  반복 8661 / 9295 | 시간 508[s] | 손실 2.20\n",
            "| 에폭 1 |  반복 8681 / 9295 | 시간 509[s] | 손실 2.23\n",
            "| 에폭 1 |  반복 8701 / 9295 | 시간 511[s] | 손실 2.21\n",
            "| 에폭 1 |  반복 8721 / 9295 | 시간 512[s] | 손실 2.22\n",
            "| 에폭 1 |  반복 8741 / 9295 | 시간 513[s] | 손실 2.22\n",
            "| 에폭 1 |  반복 8761 / 9295 | 시간 514[s] | 손실 2.21\n",
            "| 에폭 1 |  반복 8781 / 9295 | 시간 515[s] | 손실 2.26\n",
            "| 에폭 1 |  반복 8801 / 9295 | 시간 516[s] | 손실 2.25\n",
            "| 에폭 1 |  반복 8821 / 9295 | 시간 518[s] | 손실 2.20\n",
            "| 에폭 1 |  반복 8841 / 9295 | 시간 519[s] | 손실 2.23\n",
            "| 에폭 1 |  반복 8861 / 9295 | 시간 520[s] | 손실 2.22\n",
            "| 에폭 1 |  반복 8881 / 9295 | 시간 521[s] | 손실 2.25\n",
            "| 에폭 1 |  반복 8901 / 9295 | 시간 522[s] | 손실 2.21\n",
            "| 에폭 1 |  반복 8921 / 9295 | 시간 523[s] | 손실 2.23\n",
            "| 에폭 1 |  반복 8941 / 9295 | 시간 525[s] | 손실 2.20\n",
            "| 에폭 1 |  반복 8961 / 9295 | 시간 526[s] | 손실 2.24\n",
            "| 에폭 1 |  반복 8981 / 9295 | 시간 527[s] | 손실 2.25\n",
            "| 에폭 1 |  반복 9001 / 9295 | 시간 528[s] | 손실 2.22\n",
            "| 에폭 1 |  반복 9021 / 9295 | 시간 529[s] | 손실 2.23\n",
            "| 에폭 1 |  반복 9041 / 9295 | 시간 531[s] | 손실 2.21\n",
            "| 에폭 1 |  반복 9061 / 9295 | 시간 532[s] | 손실 2.22\n",
            "| 에폭 1 |  반복 9081 / 9295 | 시간 533[s] | 손실 2.18\n",
            "| 에폭 1 |  반복 9101 / 9295 | 시간 534[s] | 손실 2.23\n",
            "| 에폭 1 |  반복 9121 / 9295 | 시간 535[s] | 손실 2.19\n",
            "| 에폭 1 |  반복 9141 / 9295 | 시간 537[s] | 손실 2.23\n",
            "| 에폭 1 |  반복 9161 / 9295 | 시간 538[s] | 손실 2.23\n",
            "| 에폭 1 |  반복 9181 / 9295 | 시간 539[s] | 손실 2.23\n",
            "| 에폭 1 |  반복 9201 / 9295 | 시간 540[s] | 손실 2.19\n",
            "| 에폭 1 |  반복 9221 / 9295 | 시간 541[s] | 손실 2.24\n",
            "| 에폭 1 |  반복 9241 / 9295 | 시간 542[s] | 손실 2.19\n",
            "| 에폭 1 |  반복 9261 / 9295 | 시간 544[s] | 손실 2.21\n",
            "| 에폭 1 |  반복 9281 / 9295 | 시간 545[s] | 손실 2.20\n",
            "| 에폭 2 |  반복 1 / 9295 | 시간 546[s] | 손실 2.22\n",
            "| 에폭 2 |  반복 21 / 9295 | 시간 547[s] | 손실 2.17\n",
            "| 에폭 2 |  반복 41 / 9295 | 시간 548[s] | 손실 2.18\n",
            "| 에폭 2 |  반복 61 / 9295 | 시간 549[s] | 손실 2.20\n",
            "| 에폭 2 |  반복 81 / 9295 | 시간 550[s] | 손실 2.18\n",
            "| 에폭 2 |  반복 101 / 9295 | 시간 552[s] | 손실 2.16\n",
            "| 에폭 2 |  반복 121 / 9295 | 시간 553[s] | 손실 2.16\n",
            "| 에폭 2 |  반복 141 / 9295 | 시간 554[s] | 손실 2.16\n",
            "| 에폭 2 |  반복 161 / 9295 | 시간 555[s] | 손실 2.19\n",
            "| 에폭 2 |  반복 181 / 9295 | 시간 556[s] | 손실 2.18\n",
            "| 에폭 2 |  반복 201 / 9295 | 시간 557[s] | 손실 2.22\n",
            "| 에폭 2 |  반복 221 / 9295 | 시간 559[s] | 손실 2.16\n",
            "| 에폭 2 |  반복 241 / 9295 | 시간 560[s] | 손실 2.16\n",
            "| 에폭 2 |  반복 261 / 9295 | 시간 561[s] | 손실 2.14\n",
            "| 에폭 2 |  반복 281 / 9295 | 시간 562[s] | 손실 2.16\n",
            "| 에폭 2 |  반복 301 / 9295 | 시간 563[s] | 손실 2.17\n",
            "| 에폭 2 |  반복 321 / 9295 | 시간 564[s] | 손실 2.19\n",
            "| 에폭 2 |  반복 341 / 9295 | 시간 566[s] | 손실 2.18\n",
            "| 에폭 2 |  반복 361 / 9295 | 시간 567[s] | 손실 2.20\n",
            "| 에폭 2 |  반복 381 / 9295 | 시간 568[s] | 손실 2.18\n",
            "| 에폭 2 |  반복 401 / 9295 | 시간 569[s] | 손실 2.17\n",
            "| 에폭 2 |  반복 421 / 9295 | 시간 570[s] | 손실 2.17\n",
            "| 에폭 2 |  반복 441 / 9295 | 시간 571[s] | 손실 2.18\n",
            "| 에폭 2 |  반복 461 / 9295 | 시간 573[s] | 손실 2.14\n",
            "| 에폭 2 |  반복 481 / 9295 | 시간 574[s] | 손실 2.14\n",
            "| 에폭 2 |  반복 501 / 9295 | 시간 575[s] | 손실 2.16\n",
            "| 에폭 2 |  반복 521 / 9295 | 시간 576[s] | 손실 2.18\n",
            "| 에폭 2 |  반복 541 / 9295 | 시간 577[s] | 손실 2.19\n",
            "| 에폭 2 |  반복 561 / 9295 | 시간 578[s] | 손실 2.11\n",
            "| 에폭 2 |  반복 581 / 9295 | 시간 580[s] | 손실 2.20\n",
            "| 에폭 2 |  반복 601 / 9295 | 시간 581[s] | 손실 2.18\n",
            "| 에폭 2 |  반복 621 / 9295 | 시간 582[s] | 손실 2.17\n",
            "| 에폭 2 |  반복 641 / 9295 | 시간 583[s] | 손실 2.15\n",
            "| 에폭 2 |  반복 661 / 9295 | 시간 584[s] | 손실 2.18\n",
            "| 에폭 2 |  반복 681 / 9295 | 시간 585[s] | 손실 2.17\n",
            "| 에폭 2 |  반복 701 / 9295 | 시간 586[s] | 손실 2.15\n",
            "| 에폭 2 |  반복 721 / 9295 | 시간 588[s] | 손실 2.15\n",
            "| 에폭 2 |  반복 741 / 9295 | 시간 589[s] | 손실 2.14\n",
            "| 에폭 2 |  반복 761 / 9295 | 시간 590[s] | 손실 2.15\n",
            "| 에폭 2 |  반복 781 / 9295 | 시간 591[s] | 손실 2.19\n",
            "| 에폭 2 |  반복 801 / 9295 | 시간 592[s] | 손실 2.13\n",
            "| 에폭 2 |  반복 821 / 9295 | 시간 593[s] | 손실 2.19\n",
            "| 에폭 2 |  반복 841 / 9295 | 시간 595[s] | 손실 2.14\n",
            "| 에폭 2 |  반복 861 / 9295 | 시간 596[s] | 손실 2.16\n",
            "| 에폭 2 |  반복 881 / 9295 | 시간 597[s] | 손실 2.14\n",
            "| 에폭 2 |  반복 901 / 9295 | 시간 598[s] | 손실 2.14\n",
            "| 에폭 2 |  반복 921 / 9295 | 시간 599[s] | 손실 2.15\n",
            "| 에폭 2 |  반복 941 / 9295 | 시간 600[s] | 손실 2.20\n",
            "| 에폭 2 |  반복 961 / 9295 | 시간 602[s] | 손실 2.16\n",
            "| 에폭 2 |  반복 981 / 9295 | 시간 603[s] | 손실 2.18\n",
            "| 에폭 2 |  반복 1001 / 9295 | 시간 604[s] | 손실 2.16\n",
            "| 에폭 2 |  반복 1021 / 9295 | 시간 605[s] | 손실 2.17\n",
            "| 에폭 2 |  반복 1041 / 9295 | 시간 606[s] | 손실 2.19\n",
            "| 에폭 2 |  반복 1061 / 9295 | 시간 607[s] | 손실 2.21\n",
            "| 에폭 2 |  반복 1081 / 9295 | 시간 609[s] | 손실 2.17\n",
            "| 에폭 2 |  반복 1101 / 9295 | 시간 610[s] | 손실 2.15\n",
            "| 에폭 2 |  반복 1121 / 9295 | 시간 611[s] | 손실 2.18\n",
            "| 에폭 2 |  반복 1141 / 9295 | 시간 612[s] | 손실 2.14\n",
            "| 에폭 2 |  반복 1161 / 9295 | 시간 613[s] | 손실 2.11\n",
            "| 에폭 2 |  반복 1181 / 9295 | 시간 614[s] | 손실 2.13\n",
            "| 에폭 2 |  반복 1201 / 9295 | 시간 616[s] | 손실 2.16\n",
            "| 에폭 2 |  반복 1221 / 9295 | 시간 617[s] | 손실 2.12\n",
            "| 에폭 2 |  반복 1241 / 9295 | 시간 618[s] | 손실 2.15\n",
            "| 에폭 2 |  반복 1261 / 9295 | 시간 619[s] | 손실 2.15\n",
            "| 에폭 2 |  반복 1281 / 9295 | 시간 620[s] | 손실 2.15\n",
            "| 에폭 2 |  반복 1301 / 9295 | 시간 621[s] | 손실 2.15\n",
            "| 에폭 2 |  반복 1321 / 9295 | 시간 623[s] | 손실 2.14\n",
            "| 에폭 2 |  반복 1341 / 9295 | 시간 624[s] | 손실 2.14\n",
            "| 에폭 2 |  반복 1361 / 9295 | 시간 625[s] | 손실 2.14\n",
            "| 에폭 2 |  반복 1381 / 9295 | 시간 626[s] | 손실 2.17\n",
            "| 에폭 2 |  반복 1401 / 9295 | 시간 627[s] | 손실 2.12\n",
            "| 에폭 2 |  반복 1421 / 9295 | 시간 628[s] | 손실 2.10\n",
            "| 에폭 2 |  반복 1441 / 9295 | 시간 630[s] | 손실 2.16\n",
            "| 에폭 2 |  반복 1461 / 9295 | 시간 631[s] | 손실 2.15\n",
            "| 에폭 2 |  반복 1481 / 9295 | 시간 632[s] | 손실 2.17\n",
            "| 에폭 2 |  반복 1501 / 9295 | 시간 633[s] | 손실 2.11\n",
            "| 에폭 2 |  반복 1521 / 9295 | 시간 634[s] | 손실 2.14\n",
            "| 에폭 2 |  반복 1541 / 9295 | 시간 635[s] | 손실 2.17\n",
            "| 에폭 2 |  반복 1561 / 9295 | 시간 637[s] | 손실 2.18\n",
            "| 에폭 2 |  반복 1581 / 9295 | 시간 638[s] | 손실 2.17\n",
            "| 에폭 2 |  반복 1601 / 9295 | 시간 639[s] | 손실 2.13\n",
            "| 에폭 2 |  반복 1621 / 9295 | 시간 640[s] | 손실 2.14\n",
            "| 에폭 2 |  반복 1641 / 9295 | 시간 641[s] | 손실 2.16\n",
            "| 에폭 2 |  반복 1661 / 9295 | 시간 642[s] | 손실 2.13\n",
            "| 에폭 2 |  반복 1681 / 9295 | 시간 644[s] | 손실 2.15\n",
            "| 에폭 2 |  반복 1701 / 9295 | 시간 645[s] | 손실 2.13\n",
            "| 에폭 2 |  반복 1721 / 9295 | 시간 646[s] | 손실 2.16\n",
            "| 에폭 2 |  반복 1741 / 9295 | 시간 647[s] | 손실 2.14\n",
            "| 에폭 2 |  반복 1761 / 9295 | 시간 648[s] | 손실 2.14\n",
            "| 에폭 2 |  반복 1781 / 9295 | 시간 649[s] | 손실 2.15\n",
            "| 에폭 2 |  반복 1801 / 9295 | 시간 651[s] | 손실 2.15\n",
            "| 에폭 2 |  반복 1821 / 9295 | 시간 652[s] | 손실 2.14\n",
            "| 에폭 2 |  반복 1841 / 9295 | 시간 653[s] | 손실 2.16\n",
            "| 에폭 2 |  반복 1861 / 9295 | 시간 654[s] | 손실 2.14\n",
            "| 에폭 2 |  반복 1881 / 9295 | 시간 655[s] | 손실 2.18\n",
            "| 에폭 2 |  반복 1901 / 9295 | 시간 656[s] | 손실 2.10\n",
            "| 에폭 2 |  반복 1921 / 9295 | 시간 658[s] | 손실 2.16\n",
            "| 에폭 2 |  반복 1941 / 9295 | 시간 659[s] | 손실 2.16\n",
            "| 에폭 2 |  반복 1961 / 9295 | 시간 660[s] | 손실 2.13\n",
            "| 에폭 2 |  반복 1981 / 9295 | 시간 661[s] | 손실 2.16\n",
            "| 에폭 2 |  반복 2001 / 9295 | 시간 662[s] | 손실 2.15\n",
            "| 에폭 2 |  반복 2021 / 9295 | 시간 663[s] | 손실 2.13\n",
            "| 에폭 2 |  반복 2041 / 9295 | 시간 664[s] | 손실 2.15\n",
            "| 에폭 2 |  반복 2061 / 9295 | 시간 666[s] | 손실 2.17\n",
            "| 에폭 2 |  반복 2081 / 9295 | 시간 667[s] | 손실 2.13\n",
            "| 에폭 2 |  반복 2101 / 9295 | 시간 668[s] | 손실 2.17\n",
            "| 에폭 2 |  반복 2121 / 9295 | 시간 669[s] | 손실 2.12\n",
            "| 에폭 2 |  반복 2141 / 9295 | 시간 670[s] | 손실 2.12\n",
            "| 에폭 2 |  반복 2161 / 9295 | 시간 671[s] | 손실 2.14\n",
            "| 에폭 2 |  반복 2181 / 9295 | 시간 673[s] | 손실 2.16\n",
            "| 에폭 2 |  반복 2201 / 9295 | 시간 674[s] | 손실 2.11\n",
            "| 에폭 2 |  반복 2221 / 9295 | 시간 675[s] | 손실 2.16\n",
            "| 에폭 2 |  반복 2241 / 9295 | 시간 676[s] | 손실 2.14\n",
            "| 에폭 2 |  반복 2261 / 9295 | 시간 677[s] | 손실 2.18\n",
            "| 에폭 2 |  반복 2281 / 9295 | 시간 678[s] | 손실 2.14\n",
            "| 에폭 2 |  반복 2301 / 9295 | 시간 680[s] | 손실 2.12\n",
            "| 에폭 2 |  반복 2321 / 9295 | 시간 681[s] | 손실 2.13\n",
            "| 에폭 2 |  반복 2341 / 9295 | 시간 682[s] | 손실 2.11\n",
            "| 에폭 2 |  반복 2361 / 9295 | 시간 683[s] | 손실 2.15\n",
            "| 에폭 2 |  반복 2381 / 9295 | 시간 684[s] | 손실 2.13\n",
            "| 에폭 2 |  반복 2401 / 9295 | 시간 685[s] | 손실 2.12\n",
            "| 에폭 2 |  반복 2421 / 9295 | 시간 687[s] | 손실 2.13\n",
            "| 에폭 2 |  반복 2441 / 9295 | 시간 688[s] | 손실 2.16\n",
            "| 에폭 2 |  반복 2461 / 9295 | 시간 689[s] | 손실 2.12\n",
            "| 에폭 2 |  반복 2481 / 9295 | 시간 690[s] | 손실 2.12\n",
            "| 에폭 2 |  반복 2501 / 9295 | 시간 691[s] | 손실 2.16\n",
            "| 에폭 2 |  반복 2521 / 9295 | 시간 692[s] | 손실 2.11\n",
            "| 에폭 2 |  반복 2541 / 9295 | 시간 694[s] | 손실 2.15\n",
            "| 에폭 2 |  반복 2561 / 9295 | 시간 695[s] | 손실 2.12\n",
            "| 에폭 2 |  반복 2581 / 9295 | 시간 696[s] | 손실 2.13\n",
            "| 에폭 2 |  반복 2601 / 9295 | 시간 697[s] | 손실 2.13\n",
            "| 에폭 2 |  반복 2621 / 9295 | 시간 698[s] | 손실 2.14\n",
            "| 에폭 2 |  반복 2641 / 9295 | 시간 699[s] | 손실 2.15\n",
            "| 에폭 2 |  반복 2661 / 9295 | 시간 701[s] | 손실 2.11\n",
            "| 에폭 2 |  반복 2681 / 9295 | 시간 702[s] | 손실 2.15\n",
            "| 에폭 2 |  반복 2701 / 9295 | 시간 703[s] | 손실 2.13\n",
            "| 에폭 2 |  반복 2721 / 9295 | 시간 704[s] | 손실 2.13\n",
            "| 에폭 2 |  반복 2741 / 9295 | 시간 705[s] | 손실 2.13\n",
            "| 에폭 2 |  반복 2761 / 9295 | 시간 706[s] | 손실 2.15\n",
            "| 에폭 2 |  반복 2781 / 9295 | 시간 708[s] | 손실 2.12\n",
            "| 에폭 2 |  반복 2801 / 9295 | 시간 709[s] | 손실 2.15\n",
            "| 에폭 2 |  반복 2821 / 9295 | 시간 710[s] | 손실 2.17\n",
            "| 에폭 2 |  반복 2841 / 9295 | 시간 711[s] | 손실 2.13\n",
            "| 에폭 2 |  반복 2861 / 9295 | 시간 712[s] | 손실 2.14\n",
            "| 에폭 2 |  반복 2881 / 9295 | 시간 713[s] | 손실 2.13\n",
            "| 에폭 2 |  반복 2901 / 9295 | 시간 714[s] | 손실 2.15\n",
            "| 에폭 2 |  반복 2921 / 9295 | 시간 716[s] | 손실 2.10\n",
            "| 에폭 2 |  반복 2941 / 9295 | 시간 717[s] | 손실 2.13\n",
            "| 에폭 2 |  반복 2961 / 9295 | 시간 718[s] | 손실 2.10\n",
            "| 에폭 2 |  반복 2981 / 9295 | 시간 719[s] | 손실 2.10\n",
            "| 에폭 2 |  반복 3001 / 9295 | 시간 720[s] | 손실 2.13\n",
            "| 에폭 2 |  반복 3021 / 9295 | 시간 721[s] | 손실 2.12\n",
            "| 에폭 2 |  반복 3041 / 9295 | 시간 723[s] | 손실 2.13\n",
            "| 에폭 2 |  반복 3061 / 9295 | 시간 724[s] | 손실 2.13\n",
            "| 에폭 2 |  반복 3081 / 9295 | 시간 725[s] | 손실 2.14\n",
            "| 에폭 2 |  반복 3101 / 9295 | 시간 726[s] | 손실 2.13\n",
            "| 에폭 2 |  반복 3121 / 9295 | 시간 727[s] | 손실 2.12\n",
            "| 에폭 2 |  반복 3141 / 9295 | 시간 729[s] | 손실 2.13\n",
            "| 에폭 2 |  반복 3161 / 9295 | 시간 730[s] | 손실 2.06\n",
            "| 에폭 2 |  반복 3181 / 9295 | 시간 731[s] | 손실 2.12\n",
            "| 에폭 2 |  반복 3201 / 9295 | 시간 732[s] | 손실 2.13\n",
            "| 에폭 2 |  반복 3221 / 9295 | 시간 733[s] | 손실 2.13\n",
            "| 에폭 2 |  반복 3241 / 9295 | 시간 734[s] | 손실 2.11\n",
            "| 에폭 2 |  반복 3261 / 9295 | 시간 736[s] | 손실 2.10\n",
            "| 에폭 2 |  반복 3281 / 9295 | 시간 737[s] | 손실 2.14\n",
            "| 에폭 2 |  반복 3301 / 9295 | 시간 738[s] | 손실 2.09\n",
            "| 에폭 2 |  반복 3321 / 9295 | 시간 739[s] | 손실 2.12\n",
            "| 에폭 2 |  반복 3341 / 9295 | 시간 740[s] | 손실 2.10\n",
            "| 에폭 2 |  반복 3361 / 9295 | 시간 741[s] | 손실 2.07\n",
            "| 에폭 2 |  반복 3381 / 9295 | 시간 743[s] | 손실 2.11\n",
            "| 에폭 2 |  반복 3401 / 9295 | 시간 744[s] | 손실 2.10\n",
            "| 에폭 2 |  반복 3421 / 9295 | 시간 745[s] | 손실 2.10\n",
            "| 에폭 2 |  반복 3441 / 9295 | 시간 746[s] | 손실 2.12\n",
            "| 에폭 2 |  반복 3461 / 9295 | 시간 747[s] | 손실 2.11\n",
            "| 에폭 2 |  반복 3481 / 9295 | 시간 748[s] | 손실 2.12\n",
            "| 에폭 2 |  반복 3501 / 9295 | 시간 749[s] | 손실 2.10\n",
            "| 에폭 2 |  반복 3521 / 9295 | 시간 751[s] | 손실 2.12\n",
            "| 에폭 2 |  반복 3541 / 9295 | 시간 752[s] | 손실 2.13\n",
            "| 에폭 2 |  반복 3561 / 9295 | 시간 753[s] | 손실 2.15\n",
            "| 에폭 2 |  반복 3581 / 9295 | 시간 754[s] | 손실 2.12\n",
            "| 에폭 2 |  반복 3601 / 9295 | 시간 755[s] | 손실 2.09\n",
            "| 에폭 2 |  반복 3621 / 9295 | 시간 756[s] | 손실 2.10\n",
            "| 에폭 2 |  반복 3641 / 9295 | 시간 758[s] | 손실 2.12\n",
            "| 에폭 2 |  반복 3661 / 9295 | 시간 759[s] | 손실 2.11\n",
            "| 에폭 2 |  반복 3681 / 9295 | 시간 760[s] | 손실 2.11\n",
            "| 에폭 2 |  반복 3701 / 9295 | 시간 761[s] | 손실 2.11\n",
            "| 에폭 2 |  반복 3721 / 9295 | 시간 762[s] | 손실 2.13\n",
            "| 에폭 2 |  반복 3741 / 9295 | 시간 763[s] | 손실 2.11\n",
            "| 에폭 2 |  반복 3761 / 9295 | 시간 765[s] | 손실 2.08\n",
            "| 에폭 2 |  반복 3781 / 9295 | 시간 766[s] | 손실 2.11\n",
            "| 에폭 2 |  반복 3801 / 9295 | 시간 767[s] | 손실 2.10\n",
            "| 에폭 2 |  반복 3821 / 9295 | 시간 768[s] | 손실 2.09\n",
            "| 에폭 2 |  반복 3841 / 9295 | 시간 769[s] | 손실 2.08\n",
            "| 에폭 2 |  반복 3861 / 9295 | 시간 770[s] | 손실 2.09\n",
            "| 에폭 2 |  반복 3881 / 9295 | 시간 772[s] | 손실 2.09\n",
            "| 에폭 2 |  반복 3901 / 9295 | 시간 773[s] | 손실 2.10\n",
            "| 에폭 2 |  반복 3921 / 9295 | 시간 774[s] | 손실 2.13\n",
            "| 에폭 2 |  반복 3941 / 9295 | 시간 775[s] | 손실 2.08\n",
            "| 에폭 2 |  반복 3961 / 9295 | 시간 776[s] | 손실 2.11\n",
            "| 에폭 2 |  반복 3981 / 9295 | 시간 777[s] | 손실 2.12\n",
            "| 에폭 2 |  반복 4001 / 9295 | 시간 779[s] | 손실 2.11\n",
            "| 에폭 2 |  반복 4021 / 9295 | 시간 780[s] | 손실 2.11\n",
            "| 에폭 2 |  반복 4041 / 9295 | 시간 781[s] | 손실 2.11\n",
            "| 에폭 2 |  반복 4061 / 9295 | 시간 782[s] | 손실 2.12\n",
            "| 에폭 2 |  반복 4081 / 9295 | 시간 783[s] | 손실 2.12\n",
            "| 에폭 2 |  반복 4101 / 9295 | 시간 784[s] | 손실 2.11\n",
            "| 에폭 2 |  반복 4121 / 9295 | 시간 786[s] | 손실 2.10\n",
            "| 에폭 2 |  반복 4141 / 9295 | 시간 787[s] | 손실 2.12\n",
            "| 에폭 2 |  반복 4161 / 9295 | 시간 788[s] | 손실 2.07\n",
            "| 에폭 2 |  반복 4181 / 9295 | 시간 789[s] | 손실 2.10\n",
            "| 에폭 2 |  반복 4201 / 9295 | 시간 790[s] | 손실 2.10\n",
            "| 에폭 2 |  반복 4221 / 9295 | 시간 791[s] | 손실 2.09\n",
            "| 에폭 2 |  반복 4241 / 9295 | 시간 793[s] | 손실 2.13\n",
            "| 에폭 2 |  반복 4261 / 9295 | 시간 794[s] | 손실 2.09\n",
            "| 에폭 2 |  반복 4281 / 9295 | 시간 795[s] | 손실 2.10\n",
            "| 에폭 2 |  반복 4301 / 9295 | 시간 796[s] | 손실 2.09\n",
            "| 에폭 2 |  반복 4321 / 9295 | 시간 797[s] | 손실 2.09\n",
            "| 에폭 2 |  반복 4341 / 9295 | 시간 798[s] | 손실 2.10\n",
            "| 에폭 2 |  반복 4361 / 9295 | 시간 800[s] | 손실 2.05\n",
            "| 에폭 2 |  반복 4381 / 9295 | 시간 801[s] | 손실 2.07\n",
            "| 에폭 2 |  반복 4401 / 9295 | 시간 802[s] | 손실 2.07\n",
            "| 에폭 2 |  반복 4421 / 9295 | 시간 803[s] | 손실 2.04\n",
            "| 에폭 2 |  반복 4441 / 9295 | 시간 804[s] | 손실 2.07\n",
            "| 에폭 2 |  반복 4461 / 9295 | 시간 805[s] | 손실 2.14\n",
            "| 에폭 2 |  반복 4481 / 9295 | 시간 807[s] | 손실 2.09\n",
            "| 에폭 2 |  반복 4501 / 9295 | 시간 808[s] | 손실 2.08\n",
            "| 에폭 2 |  반복 4521 / 9295 | 시간 809[s] | 손실 2.09\n",
            "| 에폭 2 |  반복 4541 / 9295 | 시간 810[s] | 손실 2.07\n",
            "| 에폭 2 |  반복 4561 / 9295 | 시간 811[s] | 손실 2.07\n",
            "| 에폭 2 |  반복 4581 / 9295 | 시간 812[s] | 손실 2.08\n",
            "| 에폭 2 |  반복 4601 / 9295 | 시간 814[s] | 손실 2.07\n",
            "| 에폭 2 |  반복 4621 / 9295 | 시간 815[s] | 손실 2.07\n",
            "| 에폭 2 |  반복 4641 / 9295 | 시간 816[s] | 손실 2.11\n",
            "| 에폭 2 |  반복 4661 / 9295 | 시간 817[s] | 손실 2.08\n",
            "| 에폭 2 |  반복 4681 / 9295 | 시간 818[s] | 손실 2.06\n",
            "| 에폭 2 |  반복 4701 / 9295 | 시간 819[s] | 손실 2.09\n",
            "| 에폭 2 |  반복 4721 / 9295 | 시간 821[s] | 손실 2.13\n",
            "| 에폭 2 |  반복 4741 / 9295 | 시간 822[s] | 손실 2.10\n",
            "| 에폭 2 |  반복 4761 / 9295 | 시간 823[s] | 손실 2.08\n",
            "| 에폭 2 |  반복 4781 / 9295 | 시간 824[s] | 손실 2.10\n",
            "| 에폭 2 |  반복 4801 / 9295 | 시간 825[s] | 손실 2.12\n",
            "| 에폭 2 |  반복 4821 / 9295 | 시간 826[s] | 손실 2.07\n",
            "| 에폭 2 |  반복 4841 / 9295 | 시간 828[s] | 손실 2.08\n",
            "| 에폭 2 |  반복 4861 / 9295 | 시간 829[s] | 손실 2.09\n",
            "| 에폭 2 |  반복 4881 / 9295 | 시간 830[s] | 손실 2.07\n",
            "| 에폭 2 |  반복 4901 / 9295 | 시간 831[s] | 손실 2.07\n",
            "| 에폭 2 |  반복 4921 / 9295 | 시간 832[s] | 손실 2.06\n",
            "| 에폭 2 |  반복 4941 / 9295 | 시간 833[s] | 손실 2.14\n",
            "| 에폭 2 |  반복 4961 / 9295 | 시간 835[s] | 손실 2.08\n",
            "| 에폭 2 |  반복 4981 / 9295 | 시간 836[s] | 손실 2.08\n",
            "| 에폭 2 |  반복 5001 / 9295 | 시간 837[s] | 손실 2.10\n",
            "| 에폭 2 |  반복 5021 / 9295 | 시간 838[s] | 손실 2.10\n",
            "| 에폭 2 |  반복 5041 / 9295 | 시간 839[s] | 손실 2.07\n",
            "| 에폭 2 |  반복 5061 / 9295 | 시간 840[s] | 손실 2.07\n",
            "| 에폭 2 |  반복 5081 / 9295 | 시간 841[s] | 손실 2.08\n",
            "| 에폭 2 |  반복 5101 / 9295 | 시간 843[s] | 손실 2.05\n",
            "| 에폭 2 |  반복 5121 / 9295 | 시간 844[s] | 손실 2.07\n",
            "| 에폭 2 |  반복 5141 / 9295 | 시간 845[s] | 손실 2.09\n",
            "| 에폭 2 |  반복 5161 / 9295 | 시간 846[s] | 손실 2.07\n",
            "| 에폭 2 |  반복 5181 / 9295 | 시간 847[s] | 손실 2.10\n",
            "| 에폭 2 |  반복 5201 / 9295 | 시간 849[s] | 손실 2.11\n",
            "| 에폭 2 |  반복 5221 / 9295 | 시간 850[s] | 손실 2.10\n",
            "| 에폭 2 |  반복 5241 / 9295 | 시간 851[s] | 손실 2.09\n",
            "| 에폭 2 |  반복 5261 / 9295 | 시간 852[s] | 손실 2.08\n",
            "| 에폭 2 |  반복 5281 / 9295 | 시간 853[s] | 손실 2.11\n",
            "| 에폭 2 |  반복 5301 / 9295 | 시간 854[s] | 손실 2.07\n",
            "| 에폭 2 |  반복 5321 / 9295 | 시간 856[s] | 손실 2.08\n",
            "| 에폭 2 |  반복 5341 / 9295 | 시간 857[s] | 손실 2.08\n",
            "| 에폭 2 |  반복 5361 / 9295 | 시간 858[s] | 손실 2.10\n",
            "| 에폭 2 |  반복 5381 / 9295 | 시간 859[s] | 손실 2.09\n",
            "| 에폭 2 |  반복 5401 / 9295 | 시간 860[s] | 손실 2.05\n",
            "| 에폭 2 |  반복 5421 / 9295 | 시간 861[s] | 손실 2.07\n",
            "| 에폭 2 |  반복 5441 / 9295 | 시간 862[s] | 손실 2.09\n",
            "| 에폭 2 |  반복 5461 / 9295 | 시간 864[s] | 손실 2.10\n",
            "| 에폭 2 |  반복 5481 / 9295 | 시간 865[s] | 손실 2.10\n",
            "| 에폭 2 |  반복 5501 / 9295 | 시간 866[s] | 손실 2.08\n",
            "| 에폭 2 |  반복 5521 / 9295 | 시간 867[s] | 손실 2.06\n",
            "| 에폭 2 |  반복 5541 / 9295 | 시간 868[s] | 손실 2.07\n",
            "| 에폭 2 |  반복 5561 / 9295 | 시간 869[s] | 손실 2.09\n",
            "| 에폭 2 |  반복 5581 / 9295 | 시간 871[s] | 손실 2.07\n",
            "| 에폭 2 |  반복 5601 / 9295 | 시간 872[s] | 손실 2.07\n",
            "| 에폭 2 |  반복 5621 / 9295 | 시간 873[s] | 손실 2.07\n",
            "| 에폭 2 |  반복 5641 / 9295 | 시간 874[s] | 손실 2.09\n",
            "| 에폭 2 |  반복 5661 / 9295 | 시간 875[s] | 손실 2.09\n",
            "| 에폭 2 |  반복 5681 / 9295 | 시간 876[s] | 손실 2.03\n",
            "| 에폭 2 |  반복 5701 / 9295 | 시간 878[s] | 손실 2.06\n",
            "| 에폭 2 |  반복 5721 / 9295 | 시간 879[s] | 손실 2.11\n",
            "| 에폭 2 |  반복 5741 / 9295 | 시간 880[s] | 손실 2.03\n",
            "| 에폭 2 |  반복 5761 / 9295 | 시간 881[s] | 손실 2.08\n",
            "| 에폭 2 |  반복 5781 / 9295 | 시간 882[s] | 손실 2.08\n",
            "| 에폭 2 |  반복 5801 / 9295 | 시간 883[s] | 손실 2.03\n",
            "| 에폭 2 |  반복 5821 / 9295 | 시간 884[s] | 손실 2.09\n",
            "| 에폭 2 |  반복 5841 / 9295 | 시간 886[s] | 손실 2.06\n",
            "| 에폭 2 |  반복 5861 / 9295 | 시간 887[s] | 손실 2.07\n",
            "| 에폭 2 |  반복 5881 / 9295 | 시간 888[s] | 손실 2.04\n",
            "| 에폭 2 |  반복 5901 / 9295 | 시간 889[s] | 손실 2.08\n",
            "| 에폭 2 |  반복 5921 / 9295 | 시간 890[s] | 손실 2.07\n",
            "| 에폭 2 |  반복 5941 / 9295 | 시간 892[s] | 손실 2.04\n",
            "| 에폭 2 |  반복 5961 / 9295 | 시간 893[s] | 손실 2.06\n",
            "| 에폭 2 |  반복 5981 / 9295 | 시간 894[s] | 손실 2.08\n",
            "| 에폭 2 |  반복 6001 / 9295 | 시간 895[s] | 손실 2.11\n",
            "| 에폭 2 |  반복 6021 / 9295 | 시간 896[s] | 손실 2.05\n",
            "| 에폭 2 |  반복 6041 / 9295 | 시간 897[s] | 손실 2.05\n",
            "| 에폭 2 |  반복 6061 / 9295 | 시간 899[s] | 손실 2.06\n",
            "| 에폭 2 |  반복 6081 / 9295 | 시간 900[s] | 손실 2.07\n",
            "| 에폭 2 |  반복 6101 / 9295 | 시간 901[s] | 손실 2.05\n",
            "| 에폭 2 |  반복 6121 / 9295 | 시간 902[s] | 손실 2.03\n",
            "| 에폭 2 |  반복 6141 / 9295 | 시간 903[s] | 손실 2.09\n",
            "| 에폭 2 |  반복 6161 / 9295 | 시간 904[s] | 손실 2.07\n",
            "| 에폭 2 |  반복 6181 / 9295 | 시간 906[s] | 손실 2.06\n",
            "| 에폭 2 |  반복 6201 / 9295 | 시간 907[s] | 손실 2.07\n",
            "| 에폭 2 |  반복 6221 / 9295 | 시간 908[s] | 손실 2.03\n",
            "| 에폭 2 |  반복 6241 / 9295 | 시간 909[s] | 손실 2.07\n",
            "| 에폭 2 |  반복 6261 / 9295 | 시간 910[s] | 손실 2.07\n",
            "| 에폭 2 |  반복 6281 / 9295 | 시간 911[s] | 손실 2.06\n",
            "| 에폭 2 |  반복 6301 / 9295 | 시간 912[s] | 손실 2.11\n",
            "| 에폭 2 |  반복 6321 / 9295 | 시간 914[s] | 손실 2.12\n",
            "| 에폭 2 |  반복 6341 / 9295 | 시간 915[s] | 손실 2.09\n",
            "| 에폭 2 |  반복 6361 / 9295 | 시간 916[s] | 손실 2.08\n",
            "| 에폭 2 |  반복 6381 / 9295 | 시간 917[s] | 손실 2.08\n",
            "| 에폭 2 |  반복 6401 / 9295 | 시간 918[s] | 손실 2.03\n",
            "| 에폭 2 |  반복 6421 / 9295 | 시간 919[s] | 손실 2.05\n",
            "| 에폭 2 |  반복 6441 / 9295 | 시간 921[s] | 손실 2.07\n",
            "| 에폭 2 |  반복 6461 / 9295 | 시간 922[s] | 손실 2.05\n",
            "| 에폭 2 |  반복 6481 / 9295 | 시간 923[s] | 손실 2.07\n",
            "| 에폭 2 |  반복 6501 / 9295 | 시간 924[s] | 손실 2.03\n",
            "| 에폭 2 |  반복 6521 / 9295 | 시간 925[s] | 손실 2.08\n",
            "| 에폭 2 |  반복 6541 / 9295 | 시간 926[s] | 손실 2.08\n",
            "| 에폭 2 |  반복 6561 / 9295 | 시간 928[s] | 손실 2.06\n",
            "| 에폭 2 |  반복 6581 / 9295 | 시간 929[s] | 손실 2.07\n",
            "| 에폭 2 |  반복 6601 / 9295 | 시간 930[s] | 손실 2.07\n",
            "| 에폭 2 |  반복 6621 / 9295 | 시간 931[s] | 손실 2.07\n",
            "| 에폭 2 |  반복 6641 / 9295 | 시간 932[s] | 손실 2.07\n",
            "| 에폭 2 |  반복 6661 / 9295 | 시간 933[s] | 손실 2.03\n",
            "| 에폭 2 |  반복 6681 / 9295 | 시간 935[s] | 손실 2.07\n",
            "| 에폭 2 |  반복 6701 / 9295 | 시간 936[s] | 손실 2.07\n",
            "| 에폭 2 |  반복 6721 / 9295 | 시간 937[s] | 손실 2.07\n",
            "| 에폭 2 |  반복 6741 / 9295 | 시간 938[s] | 손실 2.04\n",
            "| 에폭 2 |  반복 6761 / 9295 | 시간 939[s] | 손실 2.05\n",
            "| 에폭 2 |  반복 6781 / 9295 | 시간 940[s] | 손실 2.04\n",
            "| 에폭 2 |  반복 6801 / 9295 | 시간 942[s] | 손실 2.02\n",
            "| 에폭 2 |  반복 6821 / 9295 | 시간 943[s] | 손실 2.07\n",
            "| 에폭 2 |  반복 6841 / 9295 | 시간 944[s] | 손실 2.07\n",
            "| 에폭 2 |  반복 6861 / 9295 | 시간 945[s] | 손실 2.09\n",
            "| 에폭 2 |  반복 6881 / 9295 | 시간 946[s] | 손실 2.03\n",
            "| 에폭 2 |  반복 6901 / 9295 | 시간 947[s] | 손실 2.02\n",
            "| 에폭 2 |  반복 6921 / 9295 | 시간 949[s] | 손실 2.08\n",
            "| 에폭 2 |  반복 6941 / 9295 | 시간 950[s] | 손실 2.03\n",
            "| 에폭 2 |  반복 6961 / 9295 | 시간 951[s] | 손실 2.04\n",
            "| 에폭 2 |  반복 6981 / 9295 | 시간 952[s] | 손실 2.07\n",
            "| 에폭 2 |  반복 7001 / 9295 | 시간 953[s] | 손실 2.04\n",
            "| 에폭 2 |  반복 7021 / 9295 | 시간 954[s] | 손실 2.03\n",
            "| 에폭 2 |  반복 7041 / 9295 | 시간 956[s] | 손실 2.01\n",
            "| 에폭 2 |  반복 7061 / 9295 | 시간 957[s] | 손실 2.03\n",
            "| 에폭 2 |  반복 7081 / 9295 | 시간 958[s] | 손실 2.04\n",
            "| 에폭 2 |  반복 7101 / 9295 | 시간 959[s] | 손실 2.01\n",
            "| 에폭 2 |  반복 7121 / 9295 | 시간 960[s] | 손실 2.04\n",
            "| 에폭 2 |  반복 7141 / 9295 | 시간 961[s] | 손실 2.00\n",
            "| 에폭 2 |  반복 7161 / 9295 | 시간 963[s] | 손실 2.06\n",
            "| 에폭 2 |  반복 7181 / 9295 | 시간 964[s] | 손실 2.05\n",
            "| 에폭 2 |  반복 7201 / 9295 | 시간 965[s] | 손실 2.04\n",
            "| 에폭 2 |  반복 7221 / 9295 | 시간 966[s] | 손실 2.02\n",
            "| 에폭 2 |  반복 7241 / 9295 | 시간 967[s] | 손실 2.05\n",
            "| 에폭 2 |  반복 7261 / 9295 | 시간 968[s] | 손실 2.05\n",
            "| 에폭 2 |  반복 7281 / 9295 | 시간 969[s] | 손실 2.02\n",
            "| 에폭 2 |  반복 7301 / 9295 | 시간 971[s] | 손실 2.02\n",
            "| 에폭 2 |  반복 7321 / 9295 | 시간 972[s] | 손실 2.06\n",
            "| 에폭 2 |  반복 7341 / 9295 | 시간 973[s] | 손실 2.03\n",
            "| 에폭 2 |  반복 7361 / 9295 | 시간 974[s] | 손실 2.04\n",
            "| 에폭 2 |  반복 7381 / 9295 | 시간 975[s] | 손실 2.06\n",
            "| 에폭 2 |  반복 7401 / 9295 | 시간 977[s] | 손실 2.04\n",
            "| 에폭 2 |  반복 7421 / 9295 | 시간 978[s] | 손실 2.06\n",
            "| 에폭 2 |  반복 7441 / 9295 | 시간 979[s] | 손실 2.04\n",
            "| 에폭 2 |  반복 7461 / 9295 | 시간 980[s] | 손실 2.07\n",
            "| 에폭 2 |  반복 7481 / 9295 | 시간 981[s] | 손실 2.04\n",
            "| 에폭 2 |  반복 7501 / 9295 | 시간 982[s] | 손실 2.05\n",
            "| 에폭 2 |  반복 7521 / 9295 | 시간 984[s] | 손실 2.03\n",
            "| 에폭 2 |  반복 7541 / 9295 | 시간 985[s] | 손실 2.05\n",
            "| 에폭 2 |  반복 7561 / 9295 | 시간 986[s] | 손실 2.05\n",
            "| 에폭 2 |  반복 7581 / 9295 | 시간 987[s] | 손실 2.07\n",
            "| 에폭 2 |  반복 7601 / 9295 | 시간 988[s] | 손실 2.06\n",
            "| 에폭 2 |  반복 7621 / 9295 | 시간 989[s] | 손실 2.05\n",
            "| 에폭 2 |  반복 7641 / 9295 | 시간 991[s] | 손실 2.03\n",
            "| 에폭 2 |  반복 7661 / 9295 | 시간 992[s] | 손실 2.07\n",
            "| 에폭 2 |  반복 7681 / 9295 | 시간 993[s] | 손실 2.05\n",
            "| 에폭 2 |  반복 7701 / 9295 | 시간 994[s] | 손실 2.03\n",
            "| 에폭 2 |  반복 7721 / 9295 | 시간 995[s] | 손실 2.06\n",
            "| 에폭 2 |  반복 7741 / 9295 | 시간 996[s] | 손실 2.05\n",
            "| 에폭 2 |  반복 7761 / 9295 | 시간 998[s] | 손실 2.05\n",
            "| 에폭 2 |  반복 7781 / 9295 | 시간 999[s] | 손실 2.02\n",
            "| 에폭 2 |  반복 7801 / 9295 | 시간 1000[s] | 손실 2.06\n",
            "| 에폭 2 |  반복 7821 / 9295 | 시간 1001[s] | 손실 2.02\n",
            "| 에폭 2 |  반복 7841 / 9295 | 시간 1002[s] | 손실 2.04\n",
            "| 에폭 2 |  반복 7861 / 9295 | 시간 1003[s] | 손실 2.04\n",
            "| 에폭 2 |  반복 7881 / 9295 | 시간 1005[s] | 손실 2.01\n",
            "| 에폭 2 |  반복 7901 / 9295 | 시간 1006[s] | 손실 2.03\n",
            "| 에폭 2 |  반복 7921 / 9295 | 시간 1007[s] | 손실 2.05\n",
            "| 에폭 2 |  반복 7941 / 9295 | 시간 1008[s] | 손실 2.04\n",
            "| 에폭 2 |  반복 7961 / 9295 | 시간 1009[s] | 손실 2.02\n",
            "| 에폭 2 |  반복 7981 / 9295 | 시간 1010[s] | 손실 2.05\n",
            "| 에폭 2 |  반복 8001 / 9295 | 시간 1012[s] | 손실 2.03\n",
            "| 에폭 2 |  반복 8021 / 9295 | 시간 1013[s] | 손실 2.03\n",
            "| 에폭 2 |  반복 8041 / 9295 | 시간 1014[s] | 손실 2.04\n",
            "| 에폭 2 |  반복 8061 / 9295 | 시간 1015[s] | 손실 2.02\n",
            "| 에폭 2 |  반복 8081 / 9295 | 시간 1016[s] | 손실 2.04\n",
            "| 에폭 2 |  반복 8101 / 9295 | 시간 1017[s] | 손실 2.04\n",
            "| 에폭 2 |  반복 8121 / 9295 | 시간 1019[s] | 손실 1.98\n",
            "| 에폭 2 |  반복 8141 / 9295 | 시간 1020[s] | 손실 2.06\n",
            "| 에폭 2 |  반복 8161 / 9295 | 시간 1021[s] | 손실 2.03\n",
            "| 에폭 2 |  반복 8181 / 9295 | 시간 1022[s] | 손실 2.04\n",
            "| 에폭 2 |  반복 8201 / 9295 | 시간 1023[s] | 손실 2.04\n",
            "| 에폭 2 |  반복 8221 / 9295 | 시간 1024[s] | 손실 2.05\n",
            "| 에폭 2 |  반복 8241 / 9295 | 시간 1026[s] | 손실 2.03\n",
            "| 에폭 2 |  반복 8261 / 9295 | 시간 1027[s] | 손실 2.02\n",
            "| 에폭 2 |  반복 8281 / 9295 | 시간 1028[s] | 손실 2.02\n",
            "| 에폭 2 |  반복 8301 / 9295 | 시간 1029[s] | 손실 2.04\n",
            "| 에폭 2 |  반복 8321 / 9295 | 시간 1030[s] | 손실 2.03\n",
            "| 에폭 2 |  반복 8341 / 9295 | 시간 1031[s] | 손실 2.03\n",
            "| 에폭 2 |  반복 8361 / 9295 | 시간 1032[s] | 손실 2.03\n",
            "| 에폭 2 |  반복 8381 / 9295 | 시간 1034[s] | 손실 2.03\n",
            "| 에폭 2 |  반복 8401 / 9295 | 시간 1035[s] | 손실 2.02\n",
            "| 에폭 2 |  반복 8421 / 9295 | 시간 1036[s] | 손실 2.05\n",
            "| 에폭 2 |  반복 8441 / 9295 | 시간 1037[s] | 손실 2.05\n",
            "| 에폭 2 |  반복 8461 / 9295 | 시간 1038[s] | 손실 2.04\n",
            "| 에폭 2 |  반복 8481 / 9295 | 시간 1039[s] | 손실 2.01\n",
            "| 에폭 2 |  반복 8501 / 9295 | 시간 1041[s] | 손실 2.03\n",
            "| 에폭 2 |  반복 8521 / 9295 | 시간 1042[s] | 손실 2.01\n",
            "| 에폭 2 |  반복 8541 / 9295 | 시간 1043[s] | 손실 2.04\n",
            "| 에폭 2 |  반복 8561 / 9295 | 시간 1044[s] | 손실 2.03\n",
            "| 에폭 2 |  반복 8581 / 9295 | 시간 1045[s] | 손실 2.00\n",
            "| 에폭 2 |  반복 8601 / 9295 | 시간 1046[s] | 손실 2.00\n",
            "| 에폭 2 |  반복 8621 / 9295 | 시간 1048[s] | 손실 2.05\n",
            "| 에폭 2 |  반복 8641 / 9295 | 시간 1049[s] | 손실 2.04\n",
            "| 에폭 2 |  반복 8661 / 9295 | 시간 1050[s] | 손실 2.00\n",
            "| 에폭 2 |  반복 8681 / 9295 | 시간 1051[s] | 손실 2.05\n",
            "| 에폭 2 |  반복 8701 / 9295 | 시간 1052[s] | 손실 2.00\n",
            "| 에폭 2 |  반복 8721 / 9295 | 시간 1053[s] | 손실 2.03\n",
            "| 에폭 2 |  반복 8741 / 9295 | 시간 1055[s] | 손실 2.04\n",
            "| 에폭 2 |  반복 8761 / 9295 | 시간 1056[s] | 손실 2.03\n",
            "| 에폭 2 |  반복 8781 / 9295 | 시간 1057[s] | 손실 2.04\n",
            "| 에폭 2 |  반복 8801 / 9295 | 시간 1058[s] | 손실 2.04\n",
            "| 에폭 2 |  반복 8821 / 9295 | 시간 1059[s] | 손실 2.02\n",
            "| 에폭 2 |  반복 8841 / 9295 | 시간 1060[s] | 손실 2.03\n",
            "| 에폭 2 |  반복 8861 / 9295 | 시간 1062[s] | 손실 2.01\n",
            "| 에폭 2 |  반복 8881 / 9295 | 시간 1063[s] | 손실 2.03\n",
            "| 에폭 2 |  반복 8901 / 9295 | 시간 1064[s] | 손실 2.05\n",
            "| 에폭 2 |  반복 8921 / 9295 | 시간 1065[s] | 손실 2.06\n",
            "| 에폭 2 |  반복 8941 / 9295 | 시간 1066[s] | 손실 2.06\n",
            "| 에폭 2 |  반복 8961 / 9295 | 시간 1067[s] | 손실 2.01\n",
            "| 에폭 2 |  반복 8981 / 9295 | 시간 1069[s] | 손실 1.99\n",
            "| 에폭 2 |  반복 9001 / 9295 | 시간 1070[s] | 손실 2.02\n",
            "| 에폭 2 |  반복 9021 / 9295 | 시간 1071[s] | 손실 2.01\n",
            "| 에폭 2 |  반복 9041 / 9295 | 시간 1072[s] | 손실 1.98\n",
            "| 에폭 2 |  반복 9061 / 9295 | 시간 1073[s] | 손실 2.05\n",
            "| 에폭 2 |  반복 9081 / 9295 | 시간 1074[s] | 손실 2.06\n",
            "| 에폭 2 |  반복 9101 / 9295 | 시간 1076[s] | 손실 2.02\n",
            "| 에폭 2 |  반복 9121 / 9295 | 시간 1077[s] | 손실 2.04\n",
            "| 에폭 2 |  반복 9141 / 9295 | 시간 1078[s] | 손실 2.03\n",
            "| 에폭 2 |  반복 9161 / 9295 | 시간 1079[s] | 손실 2.02\n",
            "| 에폭 2 |  반복 9181 / 9295 | 시간 1080[s] | 손실 2.06\n",
            "| 에폭 2 |  반복 9201 / 9295 | 시간 1081[s] | 손실 2.04\n",
            "| 에폭 2 |  반복 9221 / 9295 | 시간 1083[s] | 손실 1.99\n",
            "| 에폭 2 |  반복 9241 / 9295 | 시간 1084[s] | 손실 2.04\n",
            "| 에폭 2 |  반복 9261 / 9295 | 시간 1085[s] | 손실 2.04\n",
            "| 에폭 2 |  반복 9281 / 9295 | 시간 1086[s] | 손실 2.04\n",
            "| 에폭 3 |  반복 1 / 9295 | 시간 1087[s] | 손실 2.01\n",
            "| 에폭 3 |  반복 21 / 9295 | 시간 1088[s] | 손실 1.97\n",
            "| 에폭 3 |  반복 41 / 9295 | 시간 1089[s] | 손실 1.94\n",
            "| 에폭 3 |  반복 61 / 9295 | 시간 1091[s] | 손실 1.95\n",
            "| 에폭 3 |  반복 81 / 9295 | 시간 1092[s] | 손실 1.99\n",
            "| 에폭 3 |  반복 101 / 9295 | 시간 1093[s] | 손실 1.92\n",
            "| 에폭 3 |  반복 121 / 9295 | 시간 1094[s] | 손실 1.98\n",
            "| 에폭 3 |  반복 141 / 9295 | 시간 1095[s] | 손실 1.97\n",
            "| 에폭 3 |  반복 161 / 9295 | 시간 1096[s] | 손실 1.96\n",
            "| 에폭 3 |  반복 181 / 9295 | 시간 1098[s] | 손실 1.98\n",
            "| 에폭 3 |  반복 201 / 9295 | 시간 1099[s] | 손실 1.95\n",
            "| 에폭 3 |  반복 221 / 9295 | 시간 1100[s] | 손실 1.95\n",
            "| 에폭 3 |  반복 241 / 9295 | 시간 1101[s] | 손실 1.98\n",
            "| 에폭 3 |  반복 261 / 9295 | 시간 1102[s] | 손실 1.96\n",
            "| 에폭 3 |  반복 281 / 9295 | 시간 1103[s] | 손실 1.95\n",
            "| 에폭 3 |  반복 301 / 9295 | 시간 1104[s] | 손실 1.95\n",
            "| 에폭 3 |  반복 321 / 9295 | 시간 1106[s] | 손실 1.95\n",
            "| 에폭 3 |  반복 341 / 9295 | 시간 1107[s] | 손실 1.96\n",
            "| 에폭 3 |  반복 361 / 9295 | 시간 1108[s] | 손실 1.92\n",
            "| 에폭 3 |  반복 381 / 9295 | 시간 1109[s] | 손실 1.95\n",
            "| 에폭 3 |  반복 401 / 9295 | 시간 1110[s] | 손실 1.92\n",
            "| 에폭 3 |  반복 421 / 9295 | 시간 1111[s] | 손실 1.93\n",
            "| 에폭 3 |  반복 441 / 9295 | 시간 1113[s] | 손실 2.00\n",
            "| 에폭 3 |  반복 461 / 9295 | 시간 1114[s] | 손실 1.96\n",
            "| 에폭 3 |  반복 481 / 9295 | 시간 1115[s] | 손실 1.93\n",
            "| 에폭 3 |  반복 501 / 9295 | 시간 1116[s] | 손실 1.94\n",
            "| 에폭 3 |  반복 521 / 9295 | 시간 1117[s] | 손실 1.99\n",
            "| 에폭 3 |  반복 541 / 9295 | 시간 1118[s] | 손실 1.94\n",
            "| 에폭 3 |  반복 561 / 9295 | 시간 1119[s] | 손실 1.94\n",
            "| 에폭 3 |  반복 581 / 9295 | 시간 1121[s] | 손실 1.98\n",
            "| 에폭 3 |  반복 601 / 9295 | 시간 1122[s] | 손실 1.98\n",
            "| 에폭 3 |  반복 621 / 9295 | 시간 1123[s] | 손실 1.95\n",
            "| 에폭 3 |  반복 641 / 9295 | 시간 1124[s] | 손실 1.96\n",
            "| 에폭 3 |  반복 661 / 9295 | 시간 1125[s] | 손실 1.97\n",
            "| 에폭 3 |  반복 681 / 9295 | 시간 1126[s] | 손실 1.97\n",
            "| 에폭 3 |  반복 701 / 9295 | 시간 1127[s] | 손실 1.95\n",
            "| 에폭 3 |  반복 721 / 9295 | 시간 1129[s] | 손실 1.95\n",
            "| 에폭 3 |  반복 741 / 9295 | 시간 1130[s] | 손실 1.92\n",
            "| 에폭 3 |  반복 761 / 9295 | 시간 1131[s] | 손실 1.96\n",
            "| 에폭 3 |  반복 781 / 9295 | 시간 1132[s] | 손실 1.94\n",
            "| 에폭 3 |  반복 801 / 9295 | 시간 1133[s] | 손실 1.94\n",
            "| 에폭 3 |  반복 821 / 9295 | 시간 1134[s] | 손실 1.97\n",
            "| 에폭 3 |  반복 841 / 9295 | 시간 1136[s] | 손실 1.98\n",
            "| 에폭 3 |  반복 861 / 9295 | 시간 1137[s] | 손실 1.95\n",
            "| 에폭 3 |  반복 881 / 9295 | 시간 1138[s] | 손실 1.99\n",
            "| 에폭 3 |  반복 901 / 9295 | 시간 1139[s] | 손실 1.94\n",
            "| 에폭 3 |  반복 921 / 9295 | 시간 1140[s] | 손실 1.94\n",
            "| 에폭 3 |  반복 941 / 9295 | 시간 1141[s] | 손실 1.96\n",
            "| 에폭 3 |  반복 961 / 9295 | 시간 1142[s] | 손실 1.98\n",
            "| 에폭 3 |  반복 981 / 9295 | 시간 1144[s] | 손실 1.91\n",
            "| 에폭 3 |  반복 1001 / 9295 | 시간 1145[s] | 손실 1.92\n",
            "| 에폭 3 |  반복 1021 / 9295 | 시간 1146[s] | 손실 1.97\n",
            "| 에폭 3 |  반복 1041 / 9295 | 시간 1147[s] | 손실 2.00\n",
            "| 에폭 3 |  반복 1061 / 9295 | 시간 1148[s] | 손실 1.96\n",
            "| 에폭 3 |  반복 1081 / 9295 | 시간 1149[s] | 손실 1.97\n",
            "| 에폭 3 |  반복 1101 / 9295 | 시간 1150[s] | 손실 1.97\n",
            "| 에폭 3 |  반복 1121 / 9295 | 시간 1152[s] | 손실 1.94\n",
            "| 에폭 3 |  반복 1141 / 9295 | 시간 1153[s] | 손실 1.98\n",
            "| 에폭 3 |  반복 1161 / 9295 | 시간 1154[s] | 손실 1.97\n",
            "| 에폭 3 |  반복 1181 / 9295 | 시간 1155[s] | 손실 1.94\n",
            "| 에폭 3 |  반복 1201 / 9295 | 시간 1156[s] | 손실 1.95\n",
            "| 에폭 3 |  반복 1221 / 9295 | 시간 1157[s] | 손실 1.93\n",
            "| 에폭 3 |  반복 1241 / 9295 | 시간 1159[s] | 손실 1.94\n",
            "| 에폭 3 |  반복 1261 / 9295 | 시간 1160[s] | 손실 1.95\n",
            "| 에폭 3 |  반복 1281 / 9295 | 시간 1161[s] | 손실 1.95\n",
            "| 에폭 3 |  반복 1301 / 9295 | 시간 1162[s] | 손실 1.93\n",
            "| 에폭 3 |  반복 1321 / 9295 | 시간 1163[s] | 손실 1.96\n",
            "| 에폭 3 |  반복 1341 / 9295 | 시간 1164[s] | 손실 1.97\n",
            "| 에폭 3 |  반복 1361 / 9295 | 시간 1165[s] | 손실 1.94\n",
            "| 에폭 3 |  반복 1381 / 9295 | 시간 1167[s] | 손실 1.95\n",
            "| 에폭 3 |  반복 1401 / 9295 | 시간 1168[s] | 손실 1.95\n",
            "| 에폭 3 |  반복 1421 / 9295 | 시간 1169[s] | 손실 1.94\n",
            "| 에폭 3 |  반복 1441 / 9295 | 시간 1170[s] | 손실 1.96\n",
            "| 에폭 3 |  반복 1461 / 9295 | 시간 1171[s] | 손실 1.94\n",
            "| 에폭 3 |  반복 1481 / 9295 | 시간 1172[s] | 손실 1.94\n",
            "| 에폭 3 |  반복 1501 / 9295 | 시간 1174[s] | 손실 2.00\n",
            "| 에폭 3 |  반복 1521 / 9295 | 시간 1175[s] | 손실 1.95\n",
            "| 에폭 3 |  반복 1541 / 9295 | 시간 1176[s] | 손실 1.92\n",
            "| 에폭 3 |  반복 1561 / 9295 | 시간 1177[s] | 손실 1.96\n",
            "| 에폭 3 |  반복 1581 / 9295 | 시간 1178[s] | 손실 1.95\n",
            "| 에폭 3 |  반복 1601 / 9295 | 시간 1179[s] | 손실 1.93\n",
            "| 에폭 3 |  반복 1621 / 9295 | 시간 1180[s] | 손실 1.94\n",
            "| 에폭 3 |  반복 1641 / 9295 | 시간 1182[s] | 손실 1.95\n",
            "| 에폭 3 |  반복 1661 / 9295 | 시간 1183[s] | 손실 1.93\n",
            "| 에폭 3 |  반복 1681 / 9295 | 시간 1184[s] | 손실 1.93\n",
            "| 에폭 3 |  반복 1701 / 9295 | 시간 1185[s] | 손실 1.95\n",
            "| 에폭 3 |  반복 1721 / 9295 | 시간 1186[s] | 손실 1.95\n",
            "| 에폭 3 |  반복 1741 / 9295 | 시간 1187[s] | 손실 1.98\n",
            "| 에폭 3 |  반복 1761 / 9295 | 시간 1189[s] | 손실 1.91\n",
            "| 에폭 3 |  반복 1781 / 9295 | 시간 1190[s] | 손실 1.95\n",
            "| 에폭 3 |  반복 1801 / 9295 | 시간 1191[s] | 손실 1.94\n",
            "| 에폭 3 |  반복 1821 / 9295 | 시간 1192[s] | 손실 1.96\n",
            "| 에폭 3 |  반복 1841 / 9295 | 시간 1193[s] | 손실 1.95\n",
            "| 에폭 3 |  반복 1861 / 9295 | 시간 1194[s] | 손실 1.94\n",
            "| 에폭 3 |  반복 1881 / 9295 | 시간 1195[s] | 손실 1.92\n",
            "| 에폭 3 |  반복 1901 / 9295 | 시간 1197[s] | 손실 1.93\n",
            "| 에폭 3 |  반복 1921 / 9295 | 시간 1198[s] | 손실 1.95\n",
            "| 에폭 3 |  반복 1941 / 9295 | 시간 1199[s] | 손실 1.96\n",
            "| 에폭 3 |  반복 1961 / 9295 | 시간 1200[s] | 손실 1.98\n",
            "| 에폭 3 |  반복 1981 / 9295 | 시간 1201[s] | 손실 1.96\n",
            "| 에폭 3 |  반복 2001 / 9295 | 시간 1202[s] | 손실 1.92\n",
            "| 에폭 3 |  반복 2021 / 9295 | 시간 1204[s] | 손실 1.93\n",
            "| 에폭 3 |  반복 2041 / 9295 | 시간 1205[s] | 손실 1.94\n",
            "| 에폭 3 |  반복 2061 / 9295 | 시간 1206[s] | 손실 1.94\n",
            "| 에폭 3 |  반복 2081 / 9295 | 시간 1207[s] | 손실 1.95\n",
            "| 에폭 3 |  반복 2101 / 9295 | 시간 1208[s] | 손실 1.92\n",
            "| 에폭 3 |  반복 2121 / 9295 | 시간 1209[s] | 손실 1.94\n",
            "| 에폭 3 |  반복 2141 / 9295 | 시간 1211[s] | 손실 1.94\n",
            "| 에폭 3 |  반복 2161 / 9295 | 시간 1212[s] | 손실 1.99\n",
            "| 에폭 3 |  반복 2181 / 9295 | 시간 1213[s] | 손실 1.94\n",
            "| 에폭 3 |  반복 2201 / 9295 | 시간 1214[s] | 손실 1.91\n",
            "| 에폭 3 |  반복 2221 / 9295 | 시간 1215[s] | 손실 1.95\n",
            "| 에폭 3 |  반복 2241 / 9295 | 시간 1216[s] | 손실 1.88\n",
            "| 에폭 3 |  반복 2261 / 9295 | 시간 1217[s] | 손실 1.95\n",
            "| 에폭 3 |  반복 2281 / 9295 | 시간 1219[s] | 손실 1.94\n",
            "| 에폭 3 |  반복 2301 / 9295 | 시간 1220[s] | 손실 1.93\n",
            "| 에폭 3 |  반복 2321 / 9295 | 시간 1221[s] | 손실 1.95\n",
            "| 에폭 3 |  반복 2341 / 9295 | 시간 1222[s] | 손실 1.93\n",
            "| 에폭 3 |  반복 2361 / 9295 | 시간 1223[s] | 손실 1.98\n",
            "| 에폭 3 |  반복 2381 / 9295 | 시간 1224[s] | 손실 1.98\n",
            "| 에폭 3 |  반복 2401 / 9295 | 시간 1226[s] | 손실 1.91\n",
            "| 에폭 3 |  반복 2421 / 9295 | 시간 1227[s] | 손실 1.94\n",
            "| 에폭 3 |  반복 2441 / 9295 | 시간 1228[s] | 손실 1.91\n",
            "| 에폭 3 |  반복 2461 / 9295 | 시간 1229[s] | 손실 1.92\n",
            "| 에폭 3 |  반복 2481 / 9295 | 시간 1230[s] | 손실 1.95\n",
            "| 에폭 3 |  반복 2501 / 9295 | 시간 1231[s] | 손실 1.96\n",
            "| 에폭 3 |  반복 2521 / 9295 | 시간 1232[s] | 손실 1.96\n",
            "| 에폭 3 |  반복 2541 / 9295 | 시간 1234[s] | 손실 1.92\n",
            "| 에폭 3 |  반복 2561 / 9295 | 시간 1235[s] | 손실 1.95\n",
            "| 에폭 3 |  반복 2581 / 9295 | 시간 1236[s] | 손실 1.92\n",
            "| 에폭 3 |  반복 2601 / 9295 | 시간 1237[s] | 손실 1.92\n",
            "| 에폭 3 |  반복 2621 / 9295 | 시간 1238[s] | 손실 1.94\n",
            "| 에폭 3 |  반복 2641 / 9295 | 시간 1239[s] | 손실 1.94\n",
            "| 에폭 3 |  반복 2661 / 9295 | 시간 1241[s] | 손실 1.93\n",
            "| 에폭 3 |  반복 2681 / 9295 | 시간 1242[s] | 손실 1.93\n",
            "| 에폭 3 |  반복 2701 / 9295 | 시간 1243[s] | 손실 1.94\n",
            "| 에폭 3 |  반복 2721 / 9295 | 시간 1244[s] | 손실 1.93\n",
            "| 에폭 3 |  반복 2741 / 9295 | 시간 1245[s] | 손실 1.93\n",
            "| 에폭 3 |  반복 2761 / 9295 | 시간 1246[s] | 손실 1.93\n",
            "| 에폭 3 |  반복 2781 / 9295 | 시간 1247[s] | 손실 1.93\n",
            "| 에폭 3 |  반복 2801 / 9295 | 시간 1249[s] | 손실 1.91\n",
            "| 에폭 3 |  반복 2821 / 9295 | 시간 1250[s] | 손실 1.98\n",
            "| 에폭 3 |  반복 2841 / 9295 | 시간 1251[s] | 손실 1.93\n",
            "| 에폭 3 |  반복 2861 / 9295 | 시간 1252[s] | 손실 1.94\n",
            "| 에폭 3 |  반복 2881 / 9295 | 시간 1253[s] | 손실 1.95\n",
            "| 에폭 3 |  반복 2901 / 9295 | 시간 1254[s] | 손실 1.95\n",
            "| 에폭 3 |  반복 2921 / 9295 | 시간 1256[s] | 손실 1.89\n",
            "| 에폭 3 |  반복 2941 / 9295 | 시간 1257[s] | 손실 1.94\n",
            "| 에폭 3 |  반복 2961 / 9295 | 시간 1258[s] | 손실 1.93\n",
            "| 에폭 3 |  반복 2981 / 9295 | 시간 1259[s] | 손실 1.94\n",
            "| 에폭 3 |  반복 3001 / 9295 | 시간 1260[s] | 손실 1.94\n",
            "| 에폭 3 |  반복 3021 / 9295 | 시간 1261[s] | 손실 1.92\n",
            "| 에폭 3 |  반복 3041 / 9295 | 시간 1262[s] | 손실 1.91\n",
            "| 에폭 3 |  반복 3061 / 9295 | 시간 1264[s] | 손실 1.89\n",
            "| 에폭 3 |  반복 3081 / 9295 | 시간 1265[s] | 손실 1.94\n",
            "| 에폭 3 |  반복 3101 / 9295 | 시간 1266[s] | 손실 1.92\n",
            "| 에폭 3 |  반복 3121 / 9295 | 시간 1267[s] | 손실 1.97\n",
            "| 에폭 3 |  반복 3141 / 9295 | 시간 1268[s] | 손실 1.91\n",
            "| 에폭 3 |  반복 3161 / 9295 | 시간 1269[s] | 손실 1.96\n",
            "| 에폭 3 |  반복 3181 / 9295 | 시간 1271[s] | 손실 1.94\n",
            "| 에폭 3 |  반복 3201 / 9295 | 시간 1272[s] | 손실 1.90\n",
            "| 에폭 3 |  반복 3221 / 9295 | 시간 1273[s] | 손실 1.95\n",
            "| 에폭 3 |  반복 3241 / 9295 | 시간 1274[s] | 손실 1.93\n",
            "| 에폭 3 |  반복 3261 / 9295 | 시간 1275[s] | 손실 1.92\n",
            "| 에폭 3 |  반복 3281 / 9295 | 시간 1276[s] | 손실 1.95\n",
            "| 에폭 3 |  반복 3301 / 9295 | 시간 1277[s] | 손실 1.91\n",
            "| 에폭 3 |  반복 3321 / 9295 | 시간 1279[s] | 손실 1.95\n",
            "| 에폭 3 |  반복 3341 / 9295 | 시간 1280[s] | 손실 1.94\n",
            "| 에폭 3 |  반복 3361 / 9295 | 시간 1281[s] | 손실 1.93\n",
            "| 에폭 3 |  반복 3381 / 9295 | 시간 1282[s] | 손실 1.93\n",
            "| 에폭 3 |  반복 3401 / 9295 | 시간 1283[s] | 손실 1.94\n",
            "| 에폭 3 |  반복 3421 / 9295 | 시간 1284[s] | 손실 1.93\n",
            "| 에폭 3 |  반복 3441 / 9295 | 시간 1285[s] | 손실 1.95\n",
            "| 에폭 3 |  반복 3461 / 9295 | 시간 1287[s] | 손실 1.91\n",
            "| 에폭 3 |  반복 3481 / 9295 | 시간 1288[s] | 손실 1.91\n",
            "| 에폭 3 |  반복 3501 / 9295 | 시간 1289[s] | 손실 1.94\n",
            "| 에폭 3 |  반복 3521 / 9295 | 시간 1290[s] | 손실 1.98\n",
            "| 에폭 3 |  반복 3541 / 9295 | 시간 1291[s] | 손실 1.96\n",
            "| 에폭 3 |  반복 3561 / 9295 | 시간 1292[s] | 손실 1.92\n",
            "| 에폭 3 |  반복 3581 / 9295 | 시간 1294[s] | 손실 1.93\n",
            "| 에폭 3 |  반복 3601 / 9295 | 시간 1295[s] | 손실 1.94\n",
            "| 에폭 3 |  반복 3621 / 9295 | 시간 1296[s] | 손실 1.93\n",
            "| 에폭 3 |  반복 3641 / 9295 | 시간 1297[s] | 손실 1.96\n",
            "| 에폭 3 |  반복 3661 / 9295 | 시간 1298[s] | 손실 1.96\n",
            "| 에폭 3 |  반복 3681 / 9295 | 시간 1299[s] | 손실 1.99\n",
            "| 에폭 3 |  반복 3701 / 9295 | 시간 1300[s] | 손실 1.93\n",
            "| 에폭 3 |  반복 3721 / 9295 | 시간 1302[s] | 손실 1.96\n",
            "| 에폭 3 |  반복 3741 / 9295 | 시간 1303[s] | 손실 1.94\n",
            "| 에폭 3 |  반복 3761 / 9295 | 시간 1304[s] | 손실 1.94\n",
            "| 에폭 3 |  반복 3781 / 9295 | 시간 1305[s] | 손실 1.95\n",
            "| 에폭 3 |  반복 3801 / 9295 | 시간 1306[s] | 손실 1.92\n",
            "| 에폭 3 |  반복 3821 / 9295 | 시간 1307[s] | 손실 1.95\n",
            "| 에폭 3 |  반복 3841 / 9295 | 시간 1309[s] | 손실 1.92\n",
            "| 에폭 3 |  반복 3861 / 9295 | 시간 1310[s] | 손실 1.89\n",
            "| 에폭 3 |  반복 3881 / 9295 | 시간 1311[s] | 손실 1.92\n",
            "| 에폭 3 |  반복 3901 / 9295 | 시간 1312[s] | 손실 1.95\n",
            "| 에폭 3 |  반복 3921 / 9295 | 시간 1313[s] | 손실 1.93\n",
            "| 에폭 3 |  반복 3941 / 9295 | 시간 1314[s] | 손실 1.91\n",
            "| 에폭 3 |  반복 3961 / 9295 | 시간 1315[s] | 손실 1.93\n",
            "| 에폭 3 |  반복 3981 / 9295 | 시간 1317[s] | 손실 1.92\n",
            "| 에폭 3 |  반복 4001 / 9295 | 시간 1318[s] | 손실 1.88\n",
            "| 에폭 3 |  반복 4021 / 9295 | 시간 1319[s] | 손실 1.92\n",
            "| 에폭 3 |  반복 4041 / 9295 | 시간 1320[s] | 손실 1.89\n",
            "| 에폭 3 |  반복 4061 / 9295 | 시간 1321[s] | 손실 1.92\n",
            "| 에폭 3 |  반복 4081 / 9295 | 시간 1322[s] | 손실 1.94\n",
            "| 에폭 3 |  반복 4101 / 9295 | 시간 1323[s] | 손실 1.90\n",
            "| 에폭 3 |  반복 4121 / 9295 | 시간 1325[s] | 손실 1.93\n",
            "| 에폭 3 |  반복 4141 / 9295 | 시간 1326[s] | 손실 1.94\n",
            "| 에폭 3 |  반복 4161 / 9295 | 시간 1327[s] | 손실 1.93\n",
            "| 에폭 3 |  반복 4181 / 9295 | 시간 1328[s] | 손실 1.93\n",
            "| 에폭 3 |  반복 4201 / 9295 | 시간 1329[s] | 손실 1.97\n",
            "| 에폭 3 |  반복 4221 / 9295 | 시간 1330[s] | 손실 1.92\n",
            "| 에폭 3 |  반복 4241 / 9295 | 시간 1331[s] | 손실 1.94\n",
            "| 에폭 3 |  반복 4261 / 9295 | 시간 1333[s] | 손실 1.95\n",
            "| 에폭 3 |  반복 4281 / 9295 | 시간 1334[s] | 손실 1.90\n",
            "| 에폭 3 |  반복 4301 / 9295 | 시간 1335[s] | 손실 1.91\n",
            "| 에폭 3 |  반복 4321 / 9295 | 시간 1336[s] | 손실 1.96\n",
            "| 에폭 3 |  반복 4341 / 9295 | 시간 1337[s] | 손실 1.90\n",
            "| 에폭 3 |  반복 4361 / 9295 | 시간 1338[s] | 손실 1.97\n",
            "| 에폭 3 |  반복 4381 / 9295 | 시간 1339[s] | 손실 1.93\n",
            "| 에폭 3 |  반복 4401 / 9295 | 시간 1341[s] | 손실 1.94\n",
            "| 에폭 3 |  반복 4421 / 9295 | 시간 1342[s] | 손실 1.92\n",
            "| 에폭 3 |  반복 4441 / 9295 | 시간 1343[s] | 손실 1.92\n",
            "| 에폭 3 |  반복 4461 / 9295 | 시간 1344[s] | 손실 1.94\n",
            "| 에폭 3 |  반복 4481 / 9295 | 시간 1345[s] | 손실 1.95\n",
            "| 에폭 3 |  반복 4501 / 9295 | 시간 1346[s] | 손실 1.94\n",
            "| 에폭 3 |  반복 4521 / 9295 | 시간 1348[s] | 손실 1.96\n",
            "| 에폭 3 |  반복 4541 / 9295 | 시간 1349[s] | 손실 1.93\n",
            "| 에폭 3 |  반복 4561 / 9295 | 시간 1350[s] | 손실 1.95\n",
            "| 에폭 3 |  반복 4581 / 9295 | 시간 1351[s] | 손실 1.96\n",
            "| 에폭 3 |  반복 4601 / 9295 | 시간 1352[s] | 손실 1.93\n",
            "| 에폭 3 |  반복 4621 / 9295 | 시간 1353[s] | 손실 1.91\n",
            "| 에폭 3 |  반복 4641 / 9295 | 시간 1355[s] | 손실 1.94\n",
            "| 에폭 3 |  반복 4661 / 9295 | 시간 1356[s] | 손실 1.91\n",
            "| 에폭 3 |  반복 4681 / 9295 | 시간 1357[s] | 손실 1.94\n",
            "| 에폭 3 |  반복 4701 / 9295 | 시간 1358[s] | 손실 1.91\n",
            "| 에폭 3 |  반복 4721 / 9295 | 시간 1359[s] | 손실 1.87\n",
            "| 에폭 3 |  반복 4741 / 9295 | 시간 1360[s] | 손실 1.94\n",
            "| 에폭 3 |  반복 4761 / 9295 | 시간 1361[s] | 손실 1.90\n",
            "| 에폭 3 |  반복 4781 / 9295 | 시간 1363[s] | 손실 1.90\n",
            "| 에폭 3 |  반복 4801 / 9295 | 시간 1364[s] | 손실 1.89\n",
            "| 에폭 3 |  반복 4821 / 9295 | 시간 1365[s] | 손실 1.95\n",
            "| 에폭 3 |  반복 4841 / 9295 | 시간 1366[s] | 손실 1.92\n",
            "| 에폭 3 |  반복 4861 / 9295 | 시간 1367[s] | 손실 1.94\n",
            "| 에폭 3 |  반복 4881 / 9295 | 시간 1368[s] | 손실 1.92\n",
            "| 에폭 3 |  반복 4901 / 9295 | 시간 1369[s] | 손실 1.93\n",
            "| 에폭 3 |  반복 4921 / 9295 | 시간 1371[s] | 손실 1.92\n",
            "| 에폭 3 |  반복 4941 / 9295 | 시간 1372[s] | 손실 1.93\n",
            "| 에폭 3 |  반복 4961 / 9295 | 시간 1373[s] | 손실 1.96\n",
            "| 에폭 3 |  반복 4981 / 9295 | 시간 1374[s] | 손실 1.93\n",
            "| 에폭 3 |  반복 5001 / 9295 | 시간 1375[s] | 손실 1.95\n",
            "| 에폭 3 |  반복 5021 / 9295 | 시간 1376[s] | 손실 1.93\n",
            "| 에폭 3 |  반복 5041 / 9295 | 시간 1377[s] | 손실 1.94\n",
            "| 에폭 3 |  반복 5061 / 9295 | 시간 1379[s] | 손실 1.89\n",
            "| 에폭 3 |  반복 5081 / 9295 | 시간 1380[s] | 손실 1.95\n",
            "| 에폭 3 |  반복 5101 / 9295 | 시간 1381[s] | 손실 1.94\n",
            "| 에폭 3 |  반복 5121 / 9295 | 시간 1382[s] | 손실 1.92\n",
            "| 에폭 3 |  반복 5141 / 9295 | 시간 1383[s] | 손실 1.92\n",
            "| 에폭 3 |  반복 5161 / 9295 | 시간 1384[s] | 손실 1.94\n",
            "| 에폭 3 |  반복 5181 / 9295 | 시간 1386[s] | 손실 1.92\n",
            "| 에폭 3 |  반복 5201 / 9295 | 시간 1387[s] | 손실 1.91\n",
            "| 에폭 3 |  반복 5221 / 9295 | 시간 1388[s] | 손실 1.95\n",
            "| 에폭 3 |  반복 5241 / 9295 | 시간 1389[s] | 손실 1.89\n",
            "| 에폭 3 |  반복 5261 / 9295 | 시간 1390[s] | 손실 1.91\n",
            "| 에폭 3 |  반복 5281 / 9295 | 시간 1391[s] | 손실 1.94\n",
            "| 에폭 3 |  반복 5301 / 9295 | 시간 1392[s] | 손실 1.93\n",
            "| 에폭 3 |  반복 5321 / 9295 | 시간 1394[s] | 손실 1.91\n",
            "| 에폭 3 |  반복 5341 / 9295 | 시간 1395[s] | 손실 1.90\n",
            "| 에폭 3 |  반복 5361 / 9295 | 시간 1396[s] | 손실 1.90\n",
            "| 에폭 3 |  반복 5381 / 9295 | 시간 1397[s] | 손실 1.91\n",
            "| 에폭 3 |  반복 5401 / 9295 | 시간 1398[s] | 손실 1.90\n",
            "| 에폭 3 |  반복 5421 / 9295 | 시간 1399[s] | 손실 1.92\n",
            "| 에폭 3 |  반복 5441 / 9295 | 시간 1401[s] | 손실 1.93\n",
            "| 에폭 3 |  반복 5461 / 9295 | 시간 1402[s] | 손실 1.91\n",
            "| 에폭 3 |  반복 5481 / 9295 | 시간 1403[s] | 손실 1.93\n",
            "| 에폭 3 |  반복 5501 / 9295 | 시간 1404[s] | 손실 1.92\n",
            "| 에폭 3 |  반복 5521 / 9295 | 시간 1405[s] | 손실 1.88\n",
            "| 에폭 3 |  반복 5541 / 9295 | 시간 1406[s] | 손실 1.91\n",
            "| 에폭 3 |  반복 5561 / 9295 | 시간 1407[s] | 손실 1.91\n",
            "| 에폭 3 |  반복 5581 / 9295 | 시간 1409[s] | 손실 1.94\n",
            "| 에폭 3 |  반복 5601 / 9295 | 시간 1410[s] | 손실 1.90\n",
            "| 에폭 3 |  반복 5621 / 9295 | 시간 1411[s] | 손실 1.92\n",
            "| 에폭 3 |  반복 5641 / 9295 | 시간 1412[s] | 손실 1.89\n",
            "| 에폭 3 |  반복 5661 / 9295 | 시간 1413[s] | 손실 1.91\n",
            "| 에폭 3 |  반복 5681 / 9295 | 시간 1414[s] | 손실 1.91\n",
            "| 에폭 3 |  반복 5701 / 9295 | 시간 1416[s] | 손실 1.92\n",
            "| 에폭 3 |  반복 5721 / 9295 | 시간 1417[s] | 손실 1.95\n",
            "| 에폭 3 |  반복 5741 / 9295 | 시간 1418[s] | 손실 1.88\n",
            "| 에폭 3 |  반복 5761 / 9295 | 시간 1419[s] | 손실 1.91\n",
            "| 에폭 3 |  반복 5781 / 9295 | 시간 1420[s] | 손실 1.91\n",
            "| 에폭 3 |  반복 5801 / 9295 | 시간 1421[s] | 손실 1.95\n",
            "| 에폭 3 |  반복 5821 / 9295 | 시간 1423[s] | 손실 1.93\n",
            "| 에폭 3 |  반복 5841 / 9295 | 시간 1424[s] | 손실 1.91\n",
            "| 에폭 3 |  반복 5861 / 9295 | 시간 1425[s] | 손실 1.95\n",
            "| 에폭 3 |  반복 5881 / 9295 | 시간 1426[s] | 손실 1.87\n",
            "| 에폭 3 |  반복 5901 / 9295 | 시간 1427[s] | 손실 1.92\n",
            "| 에폭 3 |  반복 5921 / 9295 | 시간 1428[s] | 손실 1.92\n",
            "| 에폭 3 |  반복 5941 / 9295 | 시간 1429[s] | 손실 1.90\n",
            "| 에폭 3 |  반복 5961 / 9295 | 시간 1431[s] | 손실 1.92\n",
            "| 에폭 3 |  반복 5981 / 9295 | 시간 1432[s] | 손실 1.94\n",
            "| 에폭 3 |  반복 6001 / 9295 | 시간 1433[s] | 손실 1.90\n",
            "| 에폭 3 |  반복 6021 / 9295 | 시간 1434[s] | 손실 1.88\n",
            "| 에폭 3 |  반복 6041 / 9295 | 시간 1435[s] | 손실 1.93\n",
            "| 에폭 3 |  반복 6061 / 9295 | 시간 1436[s] | 손실 1.91\n",
            "| 에폭 3 |  반복 6081 / 9295 | 시간 1437[s] | 손실 1.96\n",
            "| 에폭 3 |  반복 6101 / 9295 | 시간 1439[s] | 손실 1.91\n",
            "| 에폭 3 |  반복 6121 / 9295 | 시간 1440[s] | 손실 1.92\n",
            "| 에폭 3 |  반복 6141 / 9295 | 시간 1441[s] | 손실 1.92\n",
            "| 에폭 3 |  반복 6161 / 9295 | 시간 1442[s] | 손실 1.91\n",
            "| 에폭 3 |  반복 6181 / 9295 | 시간 1443[s] | 손실 1.91\n",
            "| 에폭 3 |  반복 6201 / 9295 | 시간 1444[s] | 손실 1.91\n",
            "| 에폭 3 |  반복 6221 / 9295 | 시간 1445[s] | 손실 1.92\n",
            "| 에폭 3 |  반복 6241 / 9295 | 시간 1447[s] | 손실 1.94\n",
            "| 에폭 3 |  반복 6261 / 9295 | 시간 1448[s] | 손실 1.91\n",
            "| 에폭 3 |  반복 6281 / 9295 | 시간 1449[s] | 손실 1.92\n",
            "| 에폭 3 |  반복 6301 / 9295 | 시간 1450[s] | 손실 1.89\n",
            "| 에폭 3 |  반복 6321 / 9295 | 시간 1451[s] | 손실 1.92\n",
            "| 에폭 3 |  반복 6341 / 9295 | 시간 1452[s] | 손실 1.90\n",
            "| 에폭 3 |  반복 6361 / 9295 | 시간 1453[s] | 손실 1.90\n",
            "| 에폭 3 |  반복 6381 / 9295 | 시간 1455[s] | 손실 1.88\n",
            "| 에폭 3 |  반복 6401 / 9295 | 시간 1456[s] | 손실 1.93\n",
            "| 에폭 3 |  반복 6421 / 9295 | 시간 1457[s] | 손실 1.94\n",
            "| 에폭 3 |  반복 6441 / 9295 | 시간 1458[s] | 손실 1.93\n",
            "| 에폭 3 |  반복 6461 / 9295 | 시간 1459[s] | 손실 1.95\n",
            "| 에폭 3 |  반복 6481 / 9295 | 시간 1460[s] | 손실 1.93\n",
            "| 에폭 3 |  반복 6501 / 9295 | 시간 1461[s] | 손실 1.91\n",
            "| 에폭 3 |  반복 6521 / 9295 | 시간 1463[s] | 손실 1.92\n",
            "| 에폭 3 |  반복 6541 / 9295 | 시간 1464[s] | 손실 1.92\n",
            "| 에폭 3 |  반복 6561 / 9295 | 시간 1465[s] | 손실 1.93\n",
            "| 에폭 3 |  반복 6581 / 9295 | 시간 1466[s] | 손실 1.91\n",
            "| 에폭 3 |  반복 6601 / 9295 | 시간 1467[s] | 손실 1.90\n",
            "| 에폭 3 |  반복 6621 / 9295 | 시간 1468[s] | 손실 1.95\n",
            "| 에폭 3 |  반복 6641 / 9295 | 시간 1469[s] | 손실 1.94\n",
            "| 에폭 3 |  반복 6661 / 9295 | 시간 1471[s] | 손실 1.87\n",
            "| 에폭 3 |  반복 6681 / 9295 | 시간 1472[s] | 손실 1.90\n",
            "| 에폭 3 |  반복 6701 / 9295 | 시간 1473[s] | 손실 1.90\n",
            "| 에폭 3 |  반복 6721 / 9295 | 시간 1474[s] | 손실 1.92\n",
            "| 에폭 3 |  반복 6741 / 9295 | 시간 1475[s] | 손실 1.88\n",
            "| 에폭 3 |  반복 6761 / 9295 | 시간 1476[s] | 손실 1.92\n",
            "| 에폭 3 |  반복 6781 / 9295 | 시간 1477[s] | 손실 1.91\n",
            "| 에폭 3 |  반복 6801 / 9295 | 시간 1479[s] | 손실 1.92\n",
            "| 에폭 3 |  반복 6821 / 9295 | 시간 1480[s] | 손실 1.90\n",
            "| 에폭 3 |  반복 6841 / 9295 | 시간 1481[s] | 손실 1.89\n",
            "| 에폭 3 |  반복 6861 / 9295 | 시간 1482[s] | 손실 1.89\n",
            "| 에폭 3 |  반복 6881 / 9295 | 시간 1483[s] | 손실 1.93\n",
            "| 에폭 3 |  반복 6901 / 9295 | 시간 1484[s] | 손실 1.92\n",
            "| 에폭 3 |  반복 6921 / 9295 | 시간 1485[s] | 손실 1.89\n",
            "| 에폭 3 |  반복 6941 / 9295 | 시간 1487[s] | 손실 1.89\n",
            "| 에폭 3 |  반복 6961 / 9295 | 시간 1488[s] | 손실 1.91\n",
            "| 에폭 3 |  반복 6981 / 9295 | 시간 1489[s] | 손실 1.88\n",
            "| 에폭 3 |  반복 7001 / 9295 | 시간 1490[s] | 손실 1.90\n",
            "| 에폭 3 |  반복 7021 / 9295 | 시간 1491[s] | 손실 1.92\n",
            "| 에폭 3 |  반복 7041 / 9295 | 시간 1492[s] | 손실 1.91\n",
            "| 에폭 3 |  반복 7061 / 9295 | 시간 1493[s] | 손실 1.97\n",
            "| 에폭 3 |  반복 7081 / 9295 | 시간 1495[s] | 손실 1.94\n",
            "| 에폭 3 |  반복 7101 / 9295 | 시간 1496[s] | 손실 1.89\n",
            "| 에폭 3 |  반복 7121 / 9295 | 시간 1497[s] | 손실 1.93\n",
            "| 에폭 3 |  반복 7141 / 9295 | 시간 1498[s] | 손실 1.88\n",
            "| 에폭 3 |  반복 7161 / 9295 | 시간 1499[s] | 손실 1.88\n",
            "| 에폭 3 |  반복 7181 / 9295 | 시간 1500[s] | 손실 1.89\n",
            "| 에폭 3 |  반복 7201 / 9295 | 시간 1501[s] | 손실 1.93\n",
            "| 에폭 3 |  반복 7221 / 9295 | 시간 1503[s] | 손실 1.92\n",
            "| 에폭 3 |  반복 7241 / 9295 | 시간 1504[s] | 손실 1.90\n",
            "| 에폭 3 |  반복 7261 / 9295 | 시간 1505[s] | 손실 1.87\n",
            "| 에폭 3 |  반복 7281 / 9295 | 시간 1506[s] | 손실 1.91\n",
            "| 에폭 3 |  반복 7301 / 9295 | 시간 1507[s] | 손실 1.87\n",
            "| 에폭 3 |  반복 7321 / 9295 | 시간 1508[s] | 손실 1.92\n",
            "| 에폭 3 |  반복 7341 / 9295 | 시간 1509[s] | 손실 1.91\n",
            "| 에폭 3 |  반복 7361 / 9295 | 시간 1511[s] | 손실 1.93\n",
            "| 에폭 3 |  반복 7381 / 9295 | 시간 1512[s] | 손실 1.90\n",
            "| 에폭 3 |  반복 7401 / 9295 | 시간 1513[s] | 손실 1.90\n",
            "| 에폭 3 |  반복 7421 / 9295 | 시간 1514[s] | 손실 1.94\n",
            "| 에폭 3 |  반복 7441 / 9295 | 시간 1515[s] | 손실 1.93\n",
            "| 에폭 3 |  반복 7461 / 9295 | 시간 1516[s] | 손실 1.93\n",
            "| 에폭 3 |  반복 7481 / 9295 | 시간 1517[s] | 손실 1.90\n",
            "| 에폭 3 |  반복 7501 / 9295 | 시간 1519[s] | 손실 1.94\n",
            "| 에폭 3 |  반복 7521 / 9295 | 시간 1520[s] | 손실 1.91\n",
            "| 에폭 3 |  반복 7541 / 9295 | 시간 1521[s] | 손실 1.89\n",
            "| 에폭 3 |  반복 7561 / 9295 | 시간 1522[s] | 손실 1.91\n",
            "| 에폭 3 |  반복 7581 / 9295 | 시간 1523[s] | 손실 1.89\n",
            "| 에폭 3 |  반복 7601 / 9295 | 시간 1524[s] | 손실 1.89\n",
            "| 에폭 3 |  반복 7621 / 9295 | 시간 1525[s] | 손실 1.89\n",
            "| 에폭 3 |  반복 7641 / 9295 | 시간 1527[s] | 손실 1.90\n",
            "| 에폭 3 |  반복 7661 / 9295 | 시간 1528[s] | 손실 1.86\n",
            "| 에폭 3 |  반복 7681 / 9295 | 시간 1529[s] | 손실 1.92\n",
            "| 에폭 3 |  반복 7701 / 9295 | 시간 1530[s] | 손실 1.91\n",
            "| 에폭 3 |  반복 7721 / 9295 | 시간 1531[s] | 손실 1.89\n",
            "| 에폭 3 |  반복 7741 / 9295 | 시간 1532[s] | 손실 1.86\n",
            "| 에폭 3 |  반복 7761 / 9295 | 시간 1533[s] | 손실 1.92\n",
            "| 에폭 3 |  반복 7781 / 9295 | 시간 1535[s] | 손실 1.93\n",
            "| 에폭 3 |  반복 7801 / 9295 | 시간 1536[s] | 손실 1.91\n",
            "| 에폭 3 |  반복 7821 / 9295 | 시간 1537[s] | 손실 1.89\n",
            "| 에폭 3 |  반복 7841 / 9295 | 시간 1538[s] | 손실 1.91\n",
            "| 에폭 3 |  반복 7861 / 9295 | 시간 1539[s] | 손실 1.91\n",
            "| 에폭 3 |  반복 7881 / 9295 | 시간 1540[s] | 손실 1.90\n",
            "| 에폭 3 |  반복 7901 / 9295 | 시간 1541[s] | 손실 1.88\n",
            "| 에폭 3 |  반복 7921 / 9295 | 시간 1543[s] | 손실 1.89\n",
            "| 에폭 3 |  반복 7941 / 9295 | 시간 1544[s] | 손실 1.89\n",
            "| 에폭 3 |  반복 7961 / 9295 | 시간 1545[s] | 손실 1.90\n",
            "| 에폭 3 |  반복 7981 / 9295 | 시간 1546[s] | 손실 1.86\n",
            "| 에폭 3 |  반복 8001 / 9295 | 시간 1547[s] | 손실 1.91\n",
            "| 에폭 3 |  반복 8021 / 9295 | 시간 1548[s] | 손실 1.92\n",
            "| 에폭 3 |  반복 8041 / 9295 | 시간 1549[s] | 손실 1.88\n",
            "| 에폭 3 |  반복 8061 / 9295 | 시간 1551[s] | 손실 1.92\n",
            "| 에폭 3 |  반복 8081 / 9295 | 시간 1552[s] | 손실 1.89\n",
            "| 에폭 3 |  반복 8101 / 9295 | 시간 1553[s] | 손실 1.89\n",
            "| 에폭 3 |  반복 8121 / 9295 | 시간 1554[s] | 손실 1.92\n",
            "| 에폭 3 |  반복 8141 / 9295 | 시간 1555[s] | 손실 1.92\n",
            "| 에폭 3 |  반복 8161 / 9295 | 시간 1556[s] | 손실 1.89\n",
            "| 에폭 3 |  반복 8181 / 9295 | 시간 1557[s] | 손실 1.90\n",
            "| 에폭 3 |  반복 8201 / 9295 | 시간 1559[s] | 손실 1.91\n",
            "| 에폭 3 |  반복 8221 / 9295 | 시간 1560[s] | 손실 1.92\n",
            "| 에폭 3 |  반복 8241 / 9295 | 시간 1561[s] | 손실 1.88\n",
            "| 에폭 3 |  반복 8261 / 9295 | 시간 1562[s] | 손실 1.90\n",
            "| 에폭 3 |  반복 8281 / 9295 | 시간 1563[s] | 손실 1.95\n",
            "| 에폭 3 |  반복 8301 / 9295 | 시간 1564[s] | 손실 1.93\n",
            "| 에폭 3 |  반복 8321 / 9295 | 시간 1565[s] | 손실 1.92\n",
            "| 에폭 3 |  반복 8341 / 9295 | 시간 1567[s] | 손실 1.90\n",
            "| 에폭 3 |  반복 8361 / 9295 | 시간 1568[s] | 손실 1.91\n",
            "| 에폭 3 |  반복 8381 / 9295 | 시간 1569[s] | 손실 1.91\n",
            "| 에폭 3 |  반복 8401 / 9295 | 시간 1570[s] | 손실 1.89\n",
            "| 에폭 3 |  반복 8421 / 9295 | 시간 1571[s] | 손실 1.89\n",
            "| 에폭 3 |  반복 8441 / 9295 | 시간 1572[s] | 손실 1.92\n",
            "| 에폭 3 |  반복 8461 / 9295 | 시간 1574[s] | 손실 1.91\n",
            "| 에폭 3 |  반복 8481 / 9295 | 시간 1575[s] | 손실 1.90\n",
            "| 에폭 3 |  반복 8501 / 9295 | 시간 1576[s] | 손실 1.92\n",
            "| 에폭 3 |  반복 8521 / 9295 | 시간 1577[s] | 손실 1.85\n",
            "| 에폭 3 |  반복 8541 / 9295 | 시간 1578[s] | 손실 1.92\n",
            "| 에폭 3 |  반복 8561 / 9295 | 시간 1579[s] | 손실 1.90\n",
            "| 에폭 3 |  반복 8581 / 9295 | 시간 1580[s] | 손실 1.90\n",
            "| 에폭 3 |  반복 8601 / 9295 | 시간 1582[s] | 손실 1.90\n",
            "| 에폭 3 |  반복 8621 / 9295 | 시간 1583[s] | 손실 1.89\n",
            "| 에폭 3 |  반복 8641 / 9295 | 시간 1584[s] | 손실 1.92\n",
            "| 에폭 3 |  반복 8661 / 9295 | 시간 1585[s] | 손실 1.90\n",
            "| 에폭 3 |  반복 8681 / 9295 | 시간 1586[s] | 손실 1.88\n",
            "| 에폭 3 |  반복 8701 / 9295 | 시간 1587[s] | 손실 1.86\n",
            "| 에폭 3 |  반복 8721 / 9295 | 시간 1588[s] | 손실 1.85\n",
            "| 에폭 3 |  반복 8741 / 9295 | 시간 1590[s] | 손실 1.87\n",
            "| 에폭 3 |  반복 8761 / 9295 | 시간 1591[s] | 손실 1.89\n",
            "| 에폭 3 |  반복 8781 / 9295 | 시간 1592[s] | 손실 1.92\n",
            "| 에폭 3 |  반복 8801 / 9295 | 시간 1593[s] | 손실 1.90\n",
            "| 에폭 3 |  반복 8821 / 9295 | 시간 1594[s] | 손실 1.89\n",
            "| 에폭 3 |  반복 8841 / 9295 | 시간 1595[s] | 손실 1.90\n",
            "| 에폭 3 |  반복 8861 / 9295 | 시간 1597[s] | 손실 1.90\n",
            "| 에폭 3 |  반복 8881 / 9295 | 시간 1598[s] | 손실 1.88\n",
            "| 에폭 3 |  반복 8901 / 9295 | 시간 1599[s] | 손실 1.88\n",
            "| 에폭 3 |  반복 8921 / 9295 | 시간 1600[s] | 손실 1.88\n",
            "| 에폭 3 |  반복 8941 / 9295 | 시간 1601[s] | 손실 1.89\n",
            "| 에폭 3 |  반복 8961 / 9295 | 시간 1602[s] | 손실 1.89\n",
            "| 에폭 3 |  반복 8981 / 9295 | 시간 1603[s] | 손실 1.89\n",
            "| 에폭 3 |  반복 9001 / 9295 | 시간 1604[s] | 손실 1.88\n",
            "| 에폭 3 |  반복 9021 / 9295 | 시간 1606[s] | 손실 1.92\n",
            "| 에폭 3 |  반복 9041 / 9295 | 시간 1607[s] | 손실 1.89\n",
            "| 에폭 3 |  반복 9061 / 9295 | 시간 1608[s] | 손실 1.92\n",
            "| 에폭 3 |  반복 9081 / 9295 | 시간 1609[s] | 손실 1.89\n",
            "| 에폭 3 |  반복 9101 / 9295 | 시간 1610[s] | 손실 1.87\n",
            "| 에폭 3 |  반복 9121 / 9295 | 시간 1611[s] | 손실 1.91\n",
            "| 에폭 3 |  반복 9141 / 9295 | 시간 1613[s] | 손실 1.89\n",
            "| 에폭 3 |  반복 9161 / 9295 | 시간 1614[s] | 손실 1.89\n",
            "| 에폭 3 |  반복 9181 / 9295 | 시간 1615[s] | 손실 1.91\n",
            "| 에폭 3 |  반복 9201 / 9295 | 시간 1616[s] | 손실 1.88\n",
            "| 에폭 3 |  반복 9221 / 9295 | 시간 1617[s] | 손실 1.89\n",
            "| 에폭 3 |  반복 9241 / 9295 | 시간 1618[s] | 손실 1.88\n",
            "| 에폭 3 |  반복 9261 / 9295 | 시간 1619[s] | 손실 1.88\n",
            "| 에폭 3 |  반복 9281 / 9295 | 시간 1621[s] | 손실 1.89\n",
            "| 에폭 4 |  반복 1 / 9295 | 시간 1622[s] | 손실 1.82\n",
            "| 에폭 4 |  반복 21 / 9295 | 시간 1623[s] | 손실 1.78\n",
            "| 에폭 4 |  반복 41 / 9295 | 시간 1624[s] | 손실 1.78\n",
            "| 에폭 4 |  반복 61 / 9295 | 시간 1625[s] | 손실 1.81\n",
            "| 에폭 4 |  반복 81 / 9295 | 시간 1626[s] | 손실 1.85\n",
            "| 에폭 4 |  반복 101 / 9295 | 시간 1627[s] | 손실 1.79\n",
            "| 에폭 4 |  반복 121 / 9295 | 시간 1628[s] | 손실 1.79\n",
            "| 에폭 4 |  반복 141 / 9295 | 시간 1630[s] | 손실 1.83\n",
            "| 에폭 4 |  반복 161 / 9295 | 시간 1631[s] | 손실 1.82\n",
            "| 에폭 4 |  반복 181 / 9295 | 시간 1632[s] | 손실 1.88\n",
            "| 에폭 4 |  반복 201 / 9295 | 시간 1633[s] | 손실 1.85\n",
            "| 에폭 4 |  반복 221 / 9295 | 시간 1634[s] | 손실 1.84\n",
            "| 에폭 4 |  반복 241 / 9295 | 시간 1635[s] | 손실 1.80\n",
            "| 에폭 4 |  반복 261 / 9295 | 시간 1637[s] | 손실 1.79\n",
            "| 에폭 4 |  반복 281 / 9295 | 시간 1638[s] | 손실 1.84\n",
            "| 에폭 4 |  반복 301 / 9295 | 시간 1639[s] | 손실 1.78\n",
            "| 에폭 4 |  반복 321 / 9295 | 시간 1640[s] | 손실 1.78\n",
            "| 에폭 4 |  반복 341 / 9295 | 시간 1641[s] | 손실 1.86\n",
            "| 에폭 4 |  반복 361 / 9295 | 시간 1642[s] | 손실 1.81\n",
            "| 에폭 4 |  반복 381 / 9295 | 시간 1643[s] | 손실 1.79\n",
            "| 에폭 4 |  반복 401 / 9295 | 시간 1645[s] | 손실 1.79\n",
            "| 에폭 4 |  반복 421 / 9295 | 시간 1646[s] | 손실 1.83\n",
            "| 에폭 4 |  반복 441 / 9295 | 시간 1647[s] | 손실 1.80\n",
            "| 에폭 4 |  반복 461 / 9295 | 시간 1648[s] | 손실 1.88\n",
            "| 에폭 4 |  반복 481 / 9295 | 시간 1649[s] | 손실 1.81\n",
            "| 에폭 4 |  반복 501 / 9295 | 시간 1650[s] | 손실 1.81\n",
            "| 에폭 4 |  반복 521 / 9295 | 시간 1651[s] | 손실 1.83\n",
            "| 에폭 4 |  반복 541 / 9295 | 시간 1653[s] | 손실 1.80\n",
            "| 에폭 4 |  반복 561 / 9295 | 시간 1654[s] | 손실 1.82\n",
            "| 에폭 4 |  반복 581 / 9295 | 시간 1655[s] | 손실 1.82\n",
            "| 에폭 4 |  반복 601 / 9295 | 시간 1656[s] | 손실 1.83\n",
            "| 에폭 4 |  반복 621 / 9295 | 시간 1657[s] | 손실 1.82\n",
            "| 에폭 4 |  반복 641 / 9295 | 시간 1658[s] | 손실 1.85\n",
            "| 에폭 4 |  반복 661 / 9295 | 시간 1660[s] | 손실 1.82\n",
            "| 에폭 4 |  반복 681 / 9295 | 시간 1661[s] | 손실 1.84\n",
            "| 에폭 4 |  반복 701 / 9295 | 시간 1662[s] | 손실 1.82\n",
            "| 에폭 4 |  반복 721 / 9295 | 시간 1663[s] | 손실 1.81\n",
            "| 에폭 4 |  반복 741 / 9295 | 시간 1664[s] | 손실 1.83\n",
            "| 에폭 4 |  반복 761 / 9295 | 시간 1665[s] | 손실 1.82\n",
            "| 에폭 4 |  반복 781 / 9295 | 시간 1666[s] | 손실 1.83\n",
            "| 에폭 4 |  반복 801 / 9295 | 시간 1668[s] | 손실 1.83\n",
            "| 에폭 4 |  반복 821 / 9295 | 시간 1669[s] | 손실 1.81\n",
            "| 에폭 4 |  반복 841 / 9295 | 시간 1670[s] | 손실 1.84\n",
            "| 에폭 4 |  반복 861 / 9295 | 시간 1671[s] | 손실 1.79\n",
            "| 에폭 4 |  반복 881 / 9295 | 시간 1672[s] | 손실 1.88\n",
            "| 에폭 4 |  반복 901 / 9295 | 시간 1673[s] | 손실 1.79\n",
            "| 에폭 4 |  반복 921 / 9295 | 시간 1675[s] | 손실 1.81\n",
            "| 에폭 4 |  반복 941 / 9295 | 시간 1676[s] | 손실 1.84\n",
            "| 에폭 4 |  반복 961 / 9295 | 시간 1677[s] | 손실 1.83\n",
            "| 에폭 4 |  반복 981 / 9295 | 시간 1678[s] | 손실 1.84\n",
            "| 에폭 4 |  반복 1001 / 9295 | 시간 1679[s] | 손실 1.78\n",
            "| 에폭 4 |  반복 1021 / 9295 | 시간 1680[s] | 손실 1.80\n",
            "| 에폭 4 |  반복 1041 / 9295 | 시간 1681[s] | 손실 1.83\n",
            "| 에폭 4 |  반복 1061 / 9295 | 시간 1683[s] | 손실 1.82\n",
            "| 에폭 4 |  반복 1081 / 9295 | 시간 1684[s] | 손실 1.82\n",
            "| 에폭 4 |  반복 1101 / 9295 | 시간 1685[s] | 손실 1.86\n",
            "| 에폭 4 |  반복 1121 / 9295 | 시간 1686[s] | 손실 1.82\n",
            "| 에폭 4 |  반복 1141 / 9295 | 시간 1687[s] | 손실 1.84\n",
            "| 에폭 4 |  반복 1161 / 9295 | 시간 1688[s] | 손실 1.83\n",
            "| 에폭 4 |  반복 1181 / 9295 | 시간 1690[s] | 손실 1.83\n",
            "| 에폭 4 |  반복 1201 / 9295 | 시간 1691[s] | 손실 1.80\n",
            "| 에폭 4 |  반복 1221 / 9295 | 시간 1692[s] | 손실 1.80\n",
            "| 에폭 4 |  반복 1241 / 9295 | 시간 1693[s] | 손실 1.79\n",
            "| 에폭 4 |  반복 1261 / 9295 | 시간 1694[s] | 손실 1.83\n",
            "| 에폭 4 |  반복 1281 / 9295 | 시간 1695[s] | 손실 1.74\n",
            "| 에폭 4 |  반복 1301 / 9295 | 시간 1696[s] | 손실 1.84\n",
            "| 에폭 4 |  반복 1321 / 9295 | 시간 1698[s] | 손실 1.82\n",
            "| 에폭 4 |  반복 1341 / 9295 | 시간 1699[s] | 손실 1.80\n",
            "| 에폭 4 |  반복 1361 / 9295 | 시간 1700[s] | 손실 1.84\n",
            "| 에폭 4 |  반복 1381 / 9295 | 시간 1701[s] | 손실 1.85\n",
            "| 에폭 4 |  반복 1401 / 9295 | 시간 1702[s] | 손실 1.81\n",
            "| 에폭 4 |  반복 1421 / 9295 | 시간 1703[s] | 손실 1.81\n",
            "| 에폭 4 |  반복 1441 / 9295 | 시간 1705[s] | 손실 1.83\n",
            "| 에폭 4 |  반복 1461 / 9295 | 시간 1706[s] | 손실 1.84\n",
            "| 에폭 4 |  반복 1481 / 9295 | 시간 1707[s] | 손실 1.82\n",
            "| 에폭 4 |  반복 1501 / 9295 | 시간 1708[s] | 손실 1.82\n",
            "| 에폭 4 |  반복 1521 / 9295 | 시간 1709[s] | 손실 1.81\n",
            "| 에폭 4 |  반복 1541 / 9295 | 시간 1710[s] | 손실 1.81\n",
            "| 에폭 4 |  반복 1561 / 9295 | 시간 1711[s] | 손실 1.84\n",
            "| 에폭 4 |  반복 1581 / 9295 | 시간 1713[s] | 손실 1.81\n",
            "| 에폭 4 |  반복 1601 / 9295 | 시간 1714[s] | 손실 1.85\n",
            "| 에폭 4 |  반복 1621 / 9295 | 시간 1715[s] | 손실 1.79\n",
            "| 에폭 4 |  반복 1641 / 9295 | 시간 1716[s] | 손실 1.82\n",
            "| 에폭 4 |  반복 1661 / 9295 | 시간 1717[s] | 손실 1.81\n",
            "| 에폭 4 |  반복 1681 / 9295 | 시간 1718[s] | 손실 1.84\n",
            "| 에폭 4 |  반복 1701 / 9295 | 시간 1720[s] | 손실 1.81\n",
            "| 에폭 4 |  반복 1721 / 9295 | 시간 1721[s] | 손실 1.83\n",
            "| 에폭 4 |  반복 1741 / 9295 | 시간 1722[s] | 손실 1.78\n",
            "| 에폭 4 |  반복 1761 / 9295 | 시간 1723[s] | 손실 1.83\n",
            "| 에폭 4 |  반복 1781 / 9295 | 시간 1724[s] | 손실 1.81\n",
            "| 에폭 4 |  반복 1801 / 9295 | 시간 1725[s] | 손실 1.84\n",
            "| 에폭 4 |  반복 1821 / 9295 | 시간 1727[s] | 손실 1.80\n",
            "| 에폭 4 |  반복 1841 / 9295 | 시간 1728[s] | 손실 1.84\n",
            "| 에폭 4 |  반복 1861 / 9295 | 시간 1729[s] | 손실 1.84\n",
            "| 에폭 4 |  반복 1881 / 9295 | 시간 1730[s] | 손실 1.81\n",
            "| 에폭 4 |  반복 1901 / 9295 | 시간 1731[s] | 손실 1.84\n",
            "| 에폭 4 |  반복 1921 / 9295 | 시간 1732[s] | 손실 1.82\n",
            "| 에폭 4 |  반복 1941 / 9295 | 시간 1733[s] | 손실 1.82\n",
            "| 에폭 4 |  반복 1961 / 9295 | 시간 1735[s] | 손실 1.82\n",
            "| 에폭 4 |  반복 1981 / 9295 | 시간 1736[s] | 손실 1.83\n",
            "| 에폭 4 |  반복 2001 / 9295 | 시간 1737[s] | 손실 1.80\n",
            "| 에폭 4 |  반복 2021 / 9295 | 시간 1738[s] | 손실 1.79\n",
            "| 에폭 4 |  반복 2041 / 9295 | 시간 1739[s] | 손실 1.85\n",
            "| 에폭 4 |  반복 2061 / 9295 | 시간 1740[s] | 손실 1.86\n",
            "| 에폭 4 |  반복 2081 / 9295 | 시간 1742[s] | 손실 1.85\n",
            "| 에폭 4 |  반복 2101 / 9295 | 시간 1743[s] | 손실 1.80\n",
            "| 에폭 4 |  반복 2121 / 9295 | 시간 1744[s] | 손실 1.80\n",
            "| 에폭 4 |  반복 2141 / 9295 | 시간 1745[s] | 손실 1.86\n",
            "| 에폭 4 |  반복 2161 / 9295 | 시간 1746[s] | 손실 1.85\n",
            "| 에폭 4 |  반복 2181 / 9295 | 시간 1747[s] | 손실 1.83\n",
            "| 에폭 4 |  반복 2201 / 9295 | 시간 1748[s] | 손실 1.82\n",
            "| 에폭 4 |  반복 2221 / 9295 | 시간 1750[s] | 손실 1.79\n",
            "| 에폭 4 |  반복 2241 / 9295 | 시간 1751[s] | 손실 1.81\n",
            "| 에폭 4 |  반복 2261 / 9295 | 시간 1752[s] | 손실 1.83\n",
            "| 에폭 4 |  반복 2281 / 9295 | 시간 1753[s] | 손실 1.83\n",
            "| 에폭 4 |  반복 2301 / 9295 | 시간 1754[s] | 손실 1.86\n",
            "| 에폭 4 |  반복 2321 / 9295 | 시간 1755[s] | 손실 1.80\n",
            "| 에폭 4 |  반복 2341 / 9295 | 시간 1757[s] | 손실 1.78\n",
            "| 에폭 4 |  반복 2361 / 9295 | 시간 1758[s] | 손실 1.82\n",
            "| 에폭 4 |  반복 2381 / 9295 | 시간 1759[s] | 손실 1.83\n",
            "| 에폭 4 |  반복 2401 / 9295 | 시간 1760[s] | 손실 1.80\n",
            "| 에폭 4 |  반복 2421 / 9295 | 시간 1761[s] | 손실 1.83\n",
            "| 에폭 4 |  반복 2441 / 9295 | 시간 1762[s] | 손실 1.79\n",
            "| 에폭 4 |  반복 2461 / 9295 | 시간 1763[s] | 손실 1.80\n",
            "| 에폭 4 |  반복 2481 / 9295 | 시간 1765[s] | 손실 1.78\n",
            "| 에폭 4 |  반복 2501 / 9295 | 시간 1766[s] | 손실 1.83\n",
            "| 에폭 4 |  반복 2521 / 9295 | 시간 1767[s] | 손실 1.82\n",
            "| 에폭 4 |  반복 2541 / 9295 | 시간 1768[s] | 손실 1.83\n",
            "| 에폭 4 |  반복 2561 / 9295 | 시간 1769[s] | 손실 1.85\n",
            "| 에폭 4 |  반복 2581 / 9295 | 시간 1770[s] | 손실 1.84\n",
            "| 에폭 4 |  반복 2601 / 9295 | 시간 1772[s] | 손실 1.83\n",
            "| 에폭 4 |  반복 2621 / 9295 | 시간 1773[s] | 손실 1.80\n",
            "| 에폭 4 |  반복 2641 / 9295 | 시간 1774[s] | 손실 1.80\n",
            "| 에폭 4 |  반복 2661 / 9295 | 시간 1775[s] | 손실 1.81\n",
            "| 에폭 4 |  반복 2681 / 9295 | 시간 1776[s] | 손실 1.81\n",
            "| 에폭 4 |  반복 2701 / 9295 | 시간 1777[s] | 손실 1.81\n",
            "| 에폭 4 |  반복 2721 / 9295 | 시간 1778[s] | 손실 1.85\n",
            "| 에폭 4 |  반복 2741 / 9295 | 시간 1780[s] | 손실 1.83\n",
            "| 에폭 4 |  반복 2761 / 9295 | 시간 1781[s] | 손실 1.83\n",
            "| 에폭 4 |  반복 2781 / 9295 | 시간 1782[s] | 손실 1.81\n",
            "| 에폭 4 |  반복 2801 / 9295 | 시간 1783[s] | 손실 1.82\n",
            "| 에폭 4 |  반복 2821 / 9295 | 시간 1784[s] | 손실 1.82\n",
            "| 에폭 4 |  반복 2841 / 9295 | 시간 1785[s] | 손실 1.83\n",
            "| 에폭 4 |  반복 2861 / 9295 | 시간 1786[s] | 손실 1.80\n",
            "| 에폭 4 |  반복 2881 / 9295 | 시간 1788[s] | 손실 1.82\n",
            "| 에폭 4 |  반복 2901 / 9295 | 시간 1789[s] | 손실 1.81\n",
            "| 에폭 4 |  반복 2921 / 9295 | 시간 1790[s] | 손실 1.82\n",
            "| 에폭 4 |  반복 2941 / 9295 | 시간 1791[s] | 손실 1.79\n",
            "| 에폭 4 |  반복 2961 / 9295 | 시간 1792[s] | 손실 1.77\n",
            "| 에폭 4 |  반복 2981 / 9295 | 시간 1793[s] | 손실 1.80\n",
            "| 에폭 4 |  반복 3001 / 9295 | 시간 1795[s] | 손실 1.81\n",
            "| 에폭 4 |  반복 3021 / 9295 | 시간 1796[s] | 손실 1.81\n",
            "| 에폭 4 |  반복 3041 / 9295 | 시간 1797[s] | 손실 1.83\n",
            "| 에폭 4 |  반복 3061 / 9295 | 시간 1798[s] | 손실 1.78\n",
            "| 에폭 4 |  반복 3081 / 9295 | 시간 1799[s] | 손실 1.83\n",
            "| 에폭 4 |  반복 3101 / 9295 | 시간 1800[s] | 손실 1.81\n",
            "| 에폭 4 |  반복 3121 / 9295 | 시간 1801[s] | 손실 1.79\n",
            "| 에폭 4 |  반복 3141 / 9295 | 시간 1803[s] | 손실 1.78\n",
            "| 에폭 4 |  반복 3161 / 9295 | 시간 1804[s] | 손실 1.76\n",
            "| 에폭 4 |  반복 3181 / 9295 | 시간 1805[s] | 손실 1.87\n",
            "| 에폭 4 |  반복 3201 / 9295 | 시간 1806[s] | 손실 1.81\n",
            "| 에폭 4 |  반복 3221 / 9295 | 시간 1807[s] | 손실 1.80\n",
            "| 에폭 4 |  반복 3241 / 9295 | 시간 1808[s] | 손실 1.79\n",
            "| 에폭 4 |  반복 3261 / 9295 | 시간 1810[s] | 손실 1.82\n",
            "| 에폭 4 |  반복 3281 / 9295 | 시간 1811[s] | 손실 1.77\n",
            "| 에폭 4 |  반복 3301 / 9295 | 시간 1812[s] | 손실 1.78\n",
            "| 에폭 4 |  반복 3321 / 9295 | 시간 1813[s] | 손실 1.78\n",
            "| 에폭 4 |  반복 3341 / 9295 | 시간 1814[s] | 손실 1.83\n",
            "| 에폭 4 |  반복 3361 / 9295 | 시간 1815[s] | 손실 1.82\n",
            "| 에폭 4 |  반복 3381 / 9295 | 시간 1816[s] | 손실 1.84\n",
            "| 에폭 4 |  반복 3401 / 9295 | 시간 1818[s] | 손실 1.80\n",
            "| 에폭 4 |  반복 3421 / 9295 | 시간 1819[s] | 손실 1.80\n",
            "| 에폭 4 |  반복 3441 / 9295 | 시간 1820[s] | 손실 1.86\n",
            "| 에폭 4 |  반복 3461 / 9295 | 시간 1821[s] | 손실 1.80\n",
            "| 에폭 4 |  반복 3481 / 9295 | 시간 1822[s] | 손실 1.80\n",
            "| 에폭 4 |  반복 3501 / 9295 | 시간 1824[s] | 손실 1.79\n",
            "| 에폭 4 |  반복 3521 / 9295 | 시간 1825[s] | 손실 1.81\n",
            "| 에폭 4 |  반복 3541 / 9295 | 시간 1826[s] | 손실 1.79\n",
            "| 에폭 4 |  반복 3561 / 9295 | 시간 1827[s] | 손실 1.84\n",
            "| 에폭 4 |  반복 3581 / 9295 | 시간 1828[s] | 손실 1.79\n",
            "| 에폭 4 |  반복 3601 / 9295 | 시간 1829[s] | 손실 1.82\n",
            "| 에폭 4 |  반복 3621 / 9295 | 시간 1830[s] | 손실 1.81\n",
            "| 에폭 4 |  반복 3641 / 9295 | 시간 1832[s] | 손실 1.85\n",
            "| 에폭 4 |  반복 3661 / 9295 | 시간 1833[s] | 손실 1.83\n",
            "| 에폭 4 |  반복 3681 / 9295 | 시간 1834[s] | 손실 1.82\n",
            "| 에폭 4 |  반복 3701 / 9295 | 시간 1835[s] | 손실 1.81\n",
            "| 에폭 4 |  반복 3721 / 9295 | 시간 1836[s] | 손실 1.83\n",
            "| 에폭 4 |  반복 3741 / 9295 | 시간 1837[s] | 손실 1.84\n",
            "| 에폭 4 |  반복 3761 / 9295 | 시간 1839[s] | 손실 1.84\n",
            "| 에폭 4 |  반복 3781 / 9295 | 시간 1840[s] | 손실 1.80\n",
            "| 에폭 4 |  반복 3801 / 9295 | 시간 1841[s] | 손실 1.78\n",
            "| 에폭 4 |  반복 3821 / 9295 | 시간 1842[s] | 손실 1.81\n",
            "| 에폭 4 |  반복 3841 / 9295 | 시간 1843[s] | 손실 1.84\n",
            "| 에폭 4 |  반복 3861 / 9295 | 시간 1844[s] | 손실 1.84\n",
            "| 에폭 4 |  반복 3881 / 9295 | 시간 1845[s] | 손실 1.81\n",
            "| 에폭 4 |  반복 3901 / 9295 | 시간 1847[s] | 손실 1.83\n",
            "| 에폭 4 |  반복 3921 / 9295 | 시간 1848[s] | 손실 1.81\n",
            "| 에폭 4 |  반복 3941 / 9295 | 시간 1849[s] | 손실 1.87\n",
            "| 에폭 4 |  반복 3961 / 9295 | 시간 1850[s] | 손실 1.84\n",
            "| 에폭 4 |  반복 3981 / 9295 | 시간 1851[s] | 손실 1.83\n",
            "| 에폭 4 |  반복 4001 / 9295 | 시간 1852[s] | 손실 1.84\n",
            "| 에폭 4 |  반복 4021 / 9295 | 시간 1854[s] | 손실 1.82\n",
            "| 에폭 4 |  반복 4041 / 9295 | 시간 1855[s] | 손실 1.80\n",
            "| 에폭 4 |  반복 4061 / 9295 | 시간 1856[s] | 손실 1.80\n",
            "| 에폭 4 |  반복 4081 / 9295 | 시간 1857[s] | 손실 1.79\n",
            "| 에폭 4 |  반복 4101 / 9295 | 시간 1858[s] | 손실 1.80\n",
            "| 에폭 4 |  반복 4121 / 9295 | 시간 1859[s] | 손실 1.79\n",
            "| 에폭 4 |  반복 4141 / 9295 | 시간 1860[s] | 손실 1.80\n",
            "| 에폭 4 |  반복 4161 / 9295 | 시간 1862[s] | 손실 1.81\n",
            "| 에폭 4 |  반복 4181 / 9295 | 시간 1863[s] | 손실 1.85\n",
            "| 에폭 4 |  반복 4201 / 9295 | 시간 1864[s] | 손실 1.78\n",
            "| 에폭 4 |  반복 4221 / 9295 | 시간 1865[s] | 손실 1.84\n",
            "| 에폭 4 |  반복 4241 / 9295 | 시간 1866[s] | 손실 1.80\n",
            "| 에폭 4 |  반복 4261 / 9295 | 시간 1867[s] | 손실 1.79\n",
            "| 에폭 4 |  반복 4281 / 9295 | 시간 1868[s] | 손실 1.82\n",
            "| 에폭 4 |  반복 4301 / 9295 | 시간 1870[s] | 손실 1.82\n",
            "| 에폭 4 |  반복 4321 / 9295 | 시간 1871[s] | 손실 1.79\n",
            "| 에폭 4 |  반복 4341 / 9295 | 시간 1872[s] | 손실 1.81\n",
            "| 에폭 4 |  반복 4361 / 9295 | 시간 1873[s] | 손실 1.82\n",
            "| 에폭 4 |  반복 4381 / 9295 | 시간 1874[s] | 손실 1.83\n",
            "| 에폭 4 |  반복 4401 / 9295 | 시간 1875[s] | 손실 1.81\n",
            "| 에폭 4 |  반복 4421 / 9295 | 시간 1876[s] | 손실 1.81\n",
            "| 에폭 4 |  반복 4441 / 9295 | 시간 1878[s] | 손실 1.82\n",
            "| 에폭 4 |  반복 4461 / 9295 | 시간 1879[s] | 손실 1.81\n",
            "| 에폭 4 |  반복 4481 / 9295 | 시간 1880[s] | 손실 1.81\n",
            "| 에폭 4 |  반복 4501 / 9295 | 시간 1881[s] | 손실 1.83\n",
            "| 에폭 4 |  반복 4521 / 9295 | 시간 1882[s] | 손실 1.81\n",
            "| 에폭 4 |  반복 4541 / 9295 | 시간 1883[s] | 손실 1.84\n",
            "| 에폭 4 |  반복 4561 / 9295 | 시간 1885[s] | 손실 1.78\n",
            "| 에폭 4 |  반복 4581 / 9295 | 시간 1886[s] | 손실 1.80\n",
            "| 에폭 4 |  반복 4601 / 9295 | 시간 1887[s] | 손실 1.84\n",
            "| 에폭 4 |  반복 4621 / 9295 | 시간 1888[s] | 손실 1.83\n",
            "| 에폭 4 |  반복 4641 / 9295 | 시간 1889[s] | 손실 1.79\n",
            "| 에폭 4 |  반복 4661 / 9295 | 시간 1890[s] | 손실 1.79\n",
            "| 에폭 4 |  반복 4681 / 9295 | 시간 1892[s] | 손실 1.81\n",
            "| 에폭 4 |  반복 4701 / 9295 | 시간 1893[s] | 손실 1.78\n",
            "| 에폭 4 |  반복 4721 / 9295 | 시간 1894[s] | 손실 1.78\n",
            "| 에폭 4 |  반복 4741 / 9295 | 시간 1895[s] | 손실 1.83\n",
            "| 에폭 4 |  반복 4761 / 9295 | 시간 1896[s] | 손실 1.81\n",
            "| 에폭 4 |  반복 4781 / 9295 | 시간 1897[s] | 손실 1.83\n",
            "| 에폭 4 |  반복 4801 / 9295 | 시간 1898[s] | 손실 1.78\n",
            "| 에폭 4 |  반복 4821 / 9295 | 시간 1900[s] | 손실 1.79\n",
            "| 에폭 4 |  반복 4841 / 9295 | 시간 1901[s] | 손실 1.81\n",
            "| 에폭 4 |  반복 4861 / 9295 | 시간 1902[s] | 손실 1.83\n",
            "| 에폭 4 |  반복 4881 / 9295 | 시간 1903[s] | 손실 1.81\n",
            "| 에폭 4 |  반복 4901 / 9295 | 시간 1904[s] | 손실 1.82\n",
            "| 에폭 4 |  반복 4921 / 9295 | 시간 1905[s] | 손실 1.80\n",
            "| 에폭 4 |  반복 4941 / 9295 | 시간 1907[s] | 손실 1.79\n",
            "| 에폭 4 |  반복 4961 / 9295 | 시간 1908[s] | 손실 1.80\n",
            "| 에폭 4 |  반복 4981 / 9295 | 시간 1909[s] | 손실 1.81\n",
            "| 에폭 4 |  반복 5001 / 9295 | 시간 1910[s] | 손실 1.82\n",
            "| 에폭 4 |  반복 5021 / 9295 | 시간 1911[s] | 손실 1.83\n",
            "| 에폭 4 |  반복 5041 / 9295 | 시간 1912[s] | 손실 1.83\n",
            "| 에폭 4 |  반복 5061 / 9295 | 시간 1914[s] | 손실 1.81\n",
            "| 에폭 4 |  반복 5081 / 9295 | 시간 1915[s] | 손실 1.84\n",
            "| 에폭 4 |  반복 5101 / 9295 | 시간 1916[s] | 손실 1.79\n",
            "| 에폭 4 |  반복 5121 / 9295 | 시간 1917[s] | 손실 1.84\n",
            "| 에폭 4 |  반복 5141 / 9295 | 시간 1918[s] | 손실 1.82\n",
            "| 에폭 4 |  반복 5161 / 9295 | 시간 1919[s] | 손실 1.83\n",
            "| 에폭 4 |  반복 5181 / 9295 | 시간 1920[s] | 손실 1.80\n",
            "| 에폭 4 |  반복 5201 / 9295 | 시간 1922[s] | 손실 1.80\n",
            "| 에폭 4 |  반복 5221 / 9295 | 시간 1923[s] | 손실 1.80\n",
            "| 에폭 4 |  반복 5241 / 9295 | 시간 1924[s] | 손실 1.79\n",
            "| 에폭 4 |  반복 5261 / 9295 | 시간 1925[s] | 손실 1.84\n",
            "| 에폭 4 |  반복 5281 / 9295 | 시간 1926[s] | 손실 1.82\n",
            "| 에폭 4 |  반복 5301 / 9295 | 시간 1927[s] | 손실 1.81\n",
            "| 에폭 4 |  반복 5321 / 9295 | 시간 1928[s] | 손실 1.84\n",
            "| 에폭 4 |  반복 5341 / 9295 | 시간 1930[s] | 손실 1.82\n",
            "| 에폭 4 |  반복 5361 / 9295 | 시간 1931[s] | 손실 1.81\n",
            "| 에폭 4 |  반복 5381 / 9295 | 시간 1932[s] | 손실 1.83\n",
            "| 에폭 4 |  반복 5401 / 9295 | 시간 1933[s] | 손실 1.82\n",
            "| 에폭 4 |  반복 5421 / 9295 | 시간 1934[s] | 손실 1.83\n",
            "| 에폭 4 |  반복 5441 / 9295 | 시간 1935[s] | 손실 1.82\n",
            "| 에폭 4 |  반복 5461 / 9295 | 시간 1937[s] | 손실 1.85\n",
            "| 에폭 4 |  반복 5481 / 9295 | 시간 1938[s] | 손실 1.78\n",
            "| 에폭 4 |  반복 5501 / 9295 | 시간 1939[s] | 손실 1.87\n",
            "| 에폭 4 |  반복 5521 / 9295 | 시간 1940[s] | 손실 1.82\n",
            "| 에폭 4 |  반복 5541 / 9295 | 시간 1941[s] | 손실 1.84\n",
            "| 에폭 4 |  반복 5561 / 9295 | 시간 1942[s] | 손실 1.82\n",
            "| 에폭 4 |  반복 5581 / 9295 | 시간 1943[s] | 손실 1.87\n",
            "| 에폭 4 |  반복 5601 / 9295 | 시간 1945[s] | 손실 1.82\n",
            "| 에폭 4 |  반복 5621 / 9295 | 시간 1946[s] | 손실 1.79\n",
            "| 에폭 4 |  반복 5641 / 9295 | 시간 1947[s] | 손실 1.79\n",
            "| 에폭 4 |  반복 5661 / 9295 | 시간 1948[s] | 손실 1.79\n",
            "| 에폭 4 |  반복 5681 / 9295 | 시간 1949[s] | 손실 1.81\n",
            "| 에폭 4 |  반복 5701 / 9295 | 시간 1950[s] | 손실 1.81\n",
            "| 에폭 4 |  반복 5721 / 9295 | 시간 1952[s] | 손실 1.80\n",
            "| 에폭 4 |  반복 5741 / 9295 | 시간 1953[s] | 손실 1.80\n",
            "| 에폭 4 |  반복 5761 / 9295 | 시간 1954[s] | 손실 1.80\n",
            "| 에폭 4 |  반복 5781 / 9295 | 시간 1955[s] | 손실 1.81\n",
            "| 에폭 4 |  반복 5801 / 9295 | 시간 1956[s] | 손실 1.80\n",
            "| 에폭 4 |  반복 5821 / 9295 | 시간 1958[s] | 손실 1.82\n",
            "| 에폭 4 |  반복 5841 / 9295 | 시간 1959[s] | 손실 1.82\n",
            "| 에폭 4 |  반복 5861 / 9295 | 시간 1960[s] | 손실 1.83\n",
            "| 에폭 4 |  반복 5881 / 9295 | 시간 1961[s] | 손실 1.80\n",
            "| 에폭 4 |  반복 5901 / 9295 | 시간 1962[s] | 손실 1.79\n",
            "| 에폭 4 |  반복 5921 / 9295 | 시간 1963[s] | 손실 1.83\n",
            "| 에폭 4 |  반복 5941 / 9295 | 시간 1965[s] | 손실 1.79\n",
            "| 에폭 4 |  반복 5961 / 9295 | 시간 1966[s] | 손실 1.79\n",
            "| 에폭 4 |  반복 5981 / 9295 | 시간 1967[s] | 손실 1.83\n",
            "| 에폭 4 |  반복 6001 / 9295 | 시간 1968[s] | 손실 1.83\n",
            "| 에폭 4 |  반복 6021 / 9295 | 시간 1969[s] | 손실 1.78\n",
            "| 에폭 4 |  반복 6041 / 9295 | 시간 1970[s] | 손실 1.81\n",
            "| 에폭 4 |  반복 6061 / 9295 | 시간 1972[s] | 손실 1.81\n",
            "| 에폭 4 |  반복 6081 / 9295 | 시간 1973[s] | 손실 1.85\n",
            "| 에폭 4 |  반복 6101 / 9295 | 시간 1974[s] | 손실 1.81\n",
            "| 에폭 4 |  반복 6121 / 9295 | 시간 1975[s] | 손실 1.83\n",
            "| 에폭 4 |  반복 6141 / 9295 | 시간 1976[s] | 손실 1.78\n",
            "| 에폭 4 |  반복 6161 / 9295 | 시간 1977[s] | 손실 1.75\n",
            "| 에폭 4 |  반복 6181 / 9295 | 시간 1979[s] | 손실 1.81\n",
            "| 에폭 4 |  반복 6201 / 9295 | 시간 1980[s] | 손실 1.80\n",
            "| 에폭 4 |  반복 6221 / 9295 | 시간 1981[s] | 손실 1.82\n",
            "| 에폭 4 |  반복 6241 / 9295 | 시간 1982[s] | 손실 1.81\n",
            "| 에폭 4 |  반복 6261 / 9295 | 시간 1983[s] | 손실 1.82\n",
            "| 에폭 4 |  반복 6281 / 9295 | 시간 1984[s] | 손실 1.80\n",
            "| 에폭 4 |  반복 6301 / 9295 | 시간 1986[s] | 손실 1.78\n",
            "| 에폭 4 |  반복 6321 / 9295 | 시간 1987[s] | 손실 1.81\n",
            "| 에폭 4 |  반복 6341 / 9295 | 시간 1988[s] | 손실 1.81\n",
            "| 에폭 4 |  반복 6361 / 9295 | 시간 1989[s] | 손실 1.81\n",
            "| 에폭 4 |  반복 6381 / 9295 | 시간 1990[s] | 손실 1.77\n",
            "| 에폭 4 |  반복 6401 / 9295 | 시간 1991[s] | 손실 1.80\n",
            "| 에폭 4 |  반복 6421 / 9295 | 시간 1992[s] | 손실 1.80\n",
            "| 에폭 4 |  반복 6441 / 9295 | 시간 1994[s] | 손실 1.80\n",
            "| 에폭 4 |  반복 6461 / 9295 | 시간 1995[s] | 손실 1.82\n",
            "| 에폭 4 |  반복 6481 / 9295 | 시간 1996[s] | 손실 1.80\n",
            "| 에폭 4 |  반복 6501 / 9295 | 시간 1997[s] | 손실 1.79\n",
            "| 에폭 4 |  반복 6521 / 9295 | 시간 1998[s] | 손실 1.80\n",
            "| 에폭 4 |  반복 6541 / 9295 | 시간 1999[s] | 손실 1.81\n",
            "| 에폭 4 |  반복 6561 / 9295 | 시간 2001[s] | 손실 1.78\n",
            "| 에폭 4 |  반복 6581 / 9295 | 시간 2002[s] | 손실 1.80\n",
            "| 에폭 4 |  반복 6601 / 9295 | 시간 2003[s] | 손실 1.81\n",
            "| 에폭 4 |  반복 6621 / 9295 | 시간 2004[s] | 손실 1.79\n",
            "| 에폭 4 |  반복 6641 / 9295 | 시간 2005[s] | 손실 1.81\n",
            "| 에폭 4 |  반복 6661 / 9295 | 시간 2006[s] | 손실 1.81\n",
            "| 에폭 4 |  반복 6681 / 9295 | 시간 2007[s] | 손실 1.86\n",
            "| 에폭 4 |  반복 6701 / 9295 | 시간 2009[s] | 손실 1.79\n",
            "| 에폭 4 |  반복 6721 / 9295 | 시간 2010[s] | 손실 1.78\n",
            "| 에폭 4 |  반복 6741 / 9295 | 시간 2011[s] | 손실 1.82\n",
            "| 에폭 4 |  반복 6761 / 9295 | 시간 2012[s] | 손실 1.82\n",
            "| 에폭 4 |  반복 6781 / 9295 | 시간 2013[s] | 손실 1.77\n",
            "| 에폭 4 |  반복 6801 / 9295 | 시간 2014[s] | 손실 1.82\n",
            "| 에폭 4 |  반복 6821 / 9295 | 시간 2016[s] | 손실 1.81\n",
            "| 에폭 4 |  반복 6841 / 9295 | 시간 2017[s] | 손실 1.84\n",
            "| 에폭 4 |  반복 6861 / 9295 | 시간 2018[s] | 손실 1.82\n",
            "| 에폭 4 |  반복 6881 / 9295 | 시간 2019[s] | 손실 1.81\n",
            "| 에폭 4 |  반복 6901 / 9295 | 시간 2020[s] | 손실 1.80\n",
            "| 에폭 4 |  반복 6921 / 9295 | 시간 2021[s] | 손실 1.81\n",
            "| 에폭 4 |  반복 6941 / 9295 | 시간 2022[s] | 손실 1.83\n",
            "| 에폭 4 |  반복 6961 / 9295 | 시간 2024[s] | 손실 1.83\n",
            "| 에폭 4 |  반복 6981 / 9295 | 시간 2025[s] | 손실 1.81\n",
            "| 에폭 4 |  반복 7001 / 9295 | 시간 2026[s] | 손실 1.78\n",
            "| 에폭 4 |  반복 7021 / 9295 | 시간 2027[s] | 손실 1.79\n",
            "| 에폭 4 |  반복 7041 / 9295 | 시간 2028[s] | 손실 1.85\n",
            "| 에폭 4 |  반복 7061 / 9295 | 시간 2029[s] | 손실 1.81\n",
            "| 에폭 4 |  반복 7081 / 9295 | 시간 2030[s] | 손실 1.78\n",
            "| 에폭 4 |  반복 7101 / 9295 | 시간 2032[s] | 손실 1.77\n",
            "| 에폭 4 |  반복 7121 / 9295 | 시간 2033[s] | 손실 1.82\n",
            "| 에폭 4 |  반복 7141 / 9295 | 시간 2034[s] | 손실 1.82\n",
            "| 에폭 4 |  반복 7161 / 9295 | 시간 2035[s] | 손실 1.80\n",
            "| 에폭 4 |  반복 7181 / 9295 | 시간 2036[s] | 손실 1.78\n",
            "| 에폭 4 |  반복 7201 / 9295 | 시간 2037[s] | 손실 1.82\n",
            "| 에폭 4 |  반복 7221 / 9295 | 시간 2039[s] | 손실 1.82\n",
            "| 에폭 4 |  반복 7241 / 9295 | 시간 2040[s] | 손실 1.84\n",
            "| 에폭 4 |  반복 7261 / 9295 | 시간 2041[s] | 손실 1.80\n",
            "| 에폭 4 |  반복 7281 / 9295 | 시간 2042[s] | 손실 1.78\n",
            "| 에폭 4 |  반복 7301 / 9295 | 시간 2043[s] | 손실 1.79\n",
            "| 에폭 4 |  반복 7321 / 9295 | 시간 2044[s] | 손실 1.82\n",
            "| 에폭 4 |  반복 7341 / 9295 | 시간 2046[s] | 손실 1.81\n",
            "| 에폭 4 |  반복 7361 / 9295 | 시간 2047[s] | 손실 1.79\n",
            "| 에폭 4 |  반복 7381 / 9295 | 시간 2048[s] | 손실 1.80\n",
            "| 에폭 4 |  반복 7401 / 9295 | 시간 2049[s] | 손실 1.81\n",
            "| 에폭 4 |  반복 7421 / 9295 | 시간 2050[s] | 손실 1.80\n",
            "| 에폭 4 |  반복 7441 / 9295 | 시간 2051[s] | 손실 1.79\n",
            "| 에폭 4 |  반복 7461 / 9295 | 시간 2052[s] | 손실 1.82\n",
            "| 에폭 4 |  반복 7481 / 9295 | 시간 2054[s] | 손실 1.82\n",
            "| 에폭 4 |  반복 7501 / 9295 | 시간 2055[s] | 손실 1.79\n",
            "| 에폭 4 |  반복 7521 / 9295 | 시간 2056[s] | 손실 1.78\n",
            "| 에폭 4 |  반복 7541 / 9295 | 시간 2057[s] | 손실 1.80\n",
            "| 에폭 4 |  반복 7561 / 9295 | 시간 2058[s] | 손실 1.79\n",
            "| 에폭 4 |  반복 7581 / 9295 | 시간 2059[s] | 손실 1.82\n",
            "| 에폭 4 |  반복 7601 / 9295 | 시간 2060[s] | 손실 1.83\n",
            "| 에폭 4 |  반복 7621 / 9295 | 시간 2062[s] | 손실 1.81\n",
            "| 에폭 4 |  반복 7641 / 9295 | 시간 2063[s] | 손실 1.82\n",
            "| 에폭 4 |  반복 7661 / 9295 | 시간 2064[s] | 손실 1.82\n",
            "| 에폭 4 |  반복 7681 / 9295 | 시간 2065[s] | 손실 1.76\n",
            "| 에폭 4 |  반복 7701 / 9295 | 시간 2066[s] | 손실 1.83\n",
            "| 에폭 4 |  반복 7721 / 9295 | 시간 2067[s] | 손실 1.78\n",
            "| 에폭 4 |  반복 7741 / 9295 | 시간 2069[s] | 손실 1.80\n",
            "| 에폭 4 |  반복 7761 / 9295 | 시간 2070[s] | 손실 1.82\n",
            "| 에폭 4 |  반복 7781 / 9295 | 시간 2071[s] | 손실 1.78\n",
            "| 에폭 4 |  반복 7801 / 9295 | 시간 2072[s] | 손실 1.83\n",
            "| 에폭 4 |  반복 7821 / 9295 | 시간 2073[s] | 손실 1.78\n",
            "| 에폭 4 |  반복 7841 / 9295 | 시간 2074[s] | 손실 1.82\n",
            "| 에폭 4 |  반복 7861 / 9295 | 시간 2075[s] | 손실 1.78\n",
            "| 에폭 4 |  반복 7881 / 9295 | 시간 2077[s] | 손실 1.80\n",
            "| 에폭 4 |  반복 7901 / 9295 | 시간 2078[s] | 손실 1.81\n",
            "| 에폭 4 |  반복 7921 / 9295 | 시간 2079[s] | 손실 1.77\n",
            "| 에폭 4 |  반복 7941 / 9295 | 시간 2080[s] | 손실 1.78\n",
            "| 에폭 4 |  반복 7961 / 9295 | 시간 2081[s] | 손실 1.80\n",
            "| 에폭 4 |  반복 7981 / 9295 | 시간 2082[s] | 손실 1.80\n",
            "| 에폭 4 |  반복 8001 / 9295 | 시간 2084[s] | 손실 1.80\n",
            "| 에폭 4 |  반복 8021 / 9295 | 시간 2085[s] | 손실 1.78\n",
            "| 에폭 4 |  반복 8041 / 9295 | 시간 2086[s] | 손실 1.80\n",
            "| 에폭 4 |  반복 8061 / 9295 | 시간 2087[s] | 손실 1.80\n",
            "| 에폭 4 |  반복 8081 / 9295 | 시간 2088[s] | 손실 1.79\n",
            "| 에폭 4 |  반복 8101 / 9295 | 시간 2089[s] | 손실 1.83\n",
            "| 에폭 4 |  반복 8121 / 9295 | 시간 2090[s] | 손실 1.77\n",
            "| 에폭 4 |  반복 8141 / 9295 | 시간 2092[s] | 손실 1.81\n",
            "| 에폭 4 |  반복 8161 / 9295 | 시간 2093[s] | 손실 1.79\n",
            "| 에폭 4 |  반복 8181 / 9295 | 시간 2094[s] | 손실 1.80\n",
            "| 에폭 4 |  반복 8201 / 9295 | 시간 2095[s] | 손실 1.81\n",
            "| 에폭 4 |  반복 8221 / 9295 | 시간 2096[s] | 손실 1.83\n",
            "| 에폭 4 |  반복 8241 / 9295 | 시간 2097[s] | 손실 1.80\n",
            "| 에폭 4 |  반복 8261 / 9295 | 시간 2099[s] | 손실 1.81\n",
            "| 에폭 4 |  반복 8281 / 9295 | 시간 2100[s] | 손실 1.81\n",
            "| 에폭 4 |  반복 8301 / 9295 | 시간 2101[s] | 손실 1.85\n",
            "| 에폭 4 |  반복 8321 / 9295 | 시간 2102[s] | 손실 1.81\n",
            "| 에폭 4 |  반복 8341 / 9295 | 시간 2103[s] | 손실 1.74\n",
            "| 에폭 4 |  반복 8361 / 9295 | 시간 2104[s] | 손실 1.80\n",
            "| 에폭 4 |  반복 8381 / 9295 | 시간 2106[s] | 손실 1.80\n",
            "| 에폭 4 |  반복 8401 / 9295 | 시간 2107[s] | 손실 1.81\n",
            "| 에폭 4 |  반복 8421 / 9295 | 시간 2108[s] | 손실 1.77\n",
            "| 에폭 4 |  반복 8441 / 9295 | 시간 2109[s] | 손실 1.80\n",
            "| 에폭 4 |  반복 8461 / 9295 | 시간 2110[s] | 손실 1.81\n",
            "| 에폭 4 |  반복 8481 / 9295 | 시간 2111[s] | 손실 1.80\n",
            "| 에폭 4 |  반복 8501 / 9295 | 시간 2112[s] | 손실 1.84\n",
            "| 에폭 4 |  반복 8521 / 9295 | 시간 2114[s] | 손실 1.80\n",
            "| 에폭 4 |  반복 8541 / 9295 | 시간 2115[s] | 손실 1.84\n",
            "| 에폭 4 |  반복 8561 / 9295 | 시간 2116[s] | 손실 1.81\n",
            "| 에폭 4 |  반복 8581 / 9295 | 시간 2117[s] | 손실 1.78\n",
            "| 에폭 4 |  반복 8601 / 9295 | 시간 2118[s] | 손실 1.80\n",
            "| 에폭 4 |  반복 8621 / 9295 | 시간 2119[s] | 손실 1.82\n",
            "| 에폭 4 |  반복 8641 / 9295 | 시간 2120[s] | 손실 1.82\n",
            "| 에폭 4 |  반복 8661 / 9295 | 시간 2122[s] | 손실 1.80\n",
            "| 에폭 4 |  반복 8681 / 9295 | 시간 2123[s] | 손실 1.80\n",
            "| 에폭 4 |  반복 8701 / 9295 | 시간 2124[s] | 손실 1.75\n",
            "| 에폭 4 |  반복 8721 / 9295 | 시간 2125[s] | 손실 1.80\n",
            "| 에폭 4 |  반복 8741 / 9295 | 시간 2126[s] | 손실 1.83\n",
            "| 에폭 4 |  반복 8761 / 9295 | 시간 2127[s] | 손실 1.82\n",
            "| 에폭 4 |  반복 8781 / 9295 | 시간 2129[s] | 손실 1.79\n",
            "| 에폭 4 |  반복 8801 / 9295 | 시간 2130[s] | 손실 1.77\n",
            "| 에폭 4 |  반복 8821 / 9295 | 시간 2131[s] | 손실 1.80\n",
            "| 에폭 4 |  반복 8841 / 9295 | 시간 2132[s] | 손실 1.80\n",
            "| 에폭 4 |  반복 8861 / 9295 | 시간 2133[s] | 손실 1.81\n",
            "| 에폭 4 |  반복 8881 / 9295 | 시간 2134[s] | 손실 1.80\n",
            "| 에폭 4 |  반복 8901 / 9295 | 시간 2135[s] | 손실 1.81\n",
            "| 에폭 4 |  반복 8921 / 9295 | 시간 2137[s] | 손실 1.80\n",
            "| 에폭 4 |  반복 8941 / 9295 | 시간 2138[s] | 손실 1.84\n",
            "| 에폭 4 |  반복 8961 / 9295 | 시간 2139[s] | 손실 1.78\n",
            "| 에폭 4 |  반복 8981 / 9295 | 시간 2140[s] | 손실 1.78\n",
            "| 에폭 4 |  반복 9001 / 9295 | 시간 2141[s] | 손실 1.79\n",
            "| 에폭 4 |  반복 9021 / 9295 | 시간 2142[s] | 손실 1.80\n",
            "| 에폭 4 |  반복 9041 / 9295 | 시간 2144[s] | 손실 1.82\n",
            "| 에폭 4 |  반복 9061 / 9295 | 시간 2145[s] | 손실 1.81\n",
            "| 에폭 4 |  반복 9081 / 9295 | 시간 2146[s] | 손실 1.78\n",
            "| 에폭 4 |  반복 9101 / 9295 | 시간 2147[s] | 손실 1.82\n",
            "| 에폭 4 |  반복 9121 / 9295 | 시간 2148[s] | 손실 1.78\n",
            "| 에폭 4 |  반복 9141 / 9295 | 시간 2149[s] | 손실 1.78\n",
            "| 에폭 4 |  반복 9161 / 9295 | 시간 2150[s] | 손실 1.81\n",
            "| 에폭 4 |  반복 9181 / 9295 | 시간 2152[s] | 손실 1.83\n",
            "| 에폭 4 |  반복 9201 / 9295 | 시간 2153[s] | 손실 1.76\n",
            "| 에폭 4 |  반복 9221 / 9295 | 시간 2154[s] | 손실 1.82\n",
            "| 에폭 4 |  반복 9241 / 9295 | 시간 2155[s] | 손실 1.83\n",
            "| 에폭 4 |  반복 9261 / 9295 | 시간 2156[s] | 손실 1.81\n",
            "| 에폭 4 |  반복 9281 / 9295 | 시간 2157[s] | 손실 1.82\n",
            "| 에폭 5 |  반복 1 / 9295 | 시간 2158[s] | 손실 1.79\n",
            "| 에폭 5 |  반복 21 / 9295 | 시간 2159[s] | 손실 1.70\n",
            "| 에폭 5 |  반복 41 / 9295 | 시간 2161[s] | 손실 1.72\n",
            "| 에폭 5 |  반복 61 / 9295 | 시간 2162[s] | 손실 1.71\n",
            "| 에폭 5 |  반복 81 / 9295 | 시간 2163[s] | 손실 1.72\n",
            "| 에폭 5 |  반복 101 / 9295 | 시간 2164[s] | 손실 1.72\n",
            "| 에폭 5 |  반복 121 / 9295 | 시간 2165[s] | 손실 1.69\n",
            "| 에폭 5 |  반복 141 / 9295 | 시간 2166[s] | 손실 1.76\n",
            "| 에폭 5 |  반복 161 / 9295 | 시간 2168[s] | 손실 1.72\n",
            "| 에폭 5 |  반복 181 / 9295 | 시간 2169[s] | 손실 1.71\n",
            "| 에폭 5 |  반복 201 / 9295 | 시간 2170[s] | 손실 1.73\n",
            "| 에폭 5 |  반복 221 / 9295 | 시간 2171[s] | 손실 1.71\n",
            "| 에폭 5 |  반복 241 / 9295 | 시간 2172[s] | 손실 1.75\n",
            "| 에폭 5 |  반복 261 / 9295 | 시간 2173[s] | 손실 1.73\n",
            "| 에폭 5 |  반복 281 / 9295 | 시간 2174[s] | 손실 1.74\n",
            "| 에폭 5 |  반복 301 / 9295 | 시간 2176[s] | 손실 1.76\n",
            "| 에폭 5 |  반복 321 / 9295 | 시간 2177[s] | 손실 1.71\n",
            "| 에폭 5 |  반복 341 / 9295 | 시간 2178[s] | 손실 1.70\n",
            "| 에폭 5 |  반복 361 / 9295 | 시간 2179[s] | 손실 1.72\n",
            "| 에폭 5 |  반복 381 / 9295 | 시간 2180[s] | 손실 1.72\n",
            "| 에폭 5 |  반복 401 / 9295 | 시간 2181[s] | 손실 1.71\n",
            "| 에폭 5 |  반복 421 / 9295 | 시간 2183[s] | 손실 1.71\n",
            "| 에폭 5 |  반복 441 / 9295 | 시간 2184[s] | 손실 1.75\n",
            "| 에폭 5 |  반복 461 / 9295 | 시간 2185[s] | 손실 1.72\n",
            "| 에폭 5 |  반복 481 / 9295 | 시간 2186[s] | 손실 1.72\n",
            "| 에폭 5 |  반복 501 / 9295 | 시간 2187[s] | 손실 1.70\n",
            "| 에폭 5 |  반복 521 / 9295 | 시간 2188[s] | 손실 1.74\n",
            "| 에폭 5 |  반복 541 / 9295 | 시간 2189[s] | 손실 1.71\n",
            "| 에폭 5 |  반복 561 / 9295 | 시간 2191[s] | 손실 1.74\n",
            "| 에폭 5 |  반복 581 / 9295 | 시간 2192[s] | 손실 1.72\n",
            "| 에폭 5 |  반복 601 / 9295 | 시간 2193[s] | 손실 1.67\n",
            "| 에폭 5 |  반복 621 / 9295 | 시간 2194[s] | 손실 1.71\n",
            "| 에폭 5 |  반복 641 / 9295 | 시간 2195[s] | 손실 1.73\n",
            "| 에폭 5 |  반복 661 / 9295 | 시간 2196[s] | 손실 1.71\n",
            "| 에폭 5 |  반복 681 / 9295 | 시간 2198[s] | 손실 1.70\n",
            "| 에폭 5 |  반복 701 / 9295 | 시간 2199[s] | 손실 1.73\n",
            "| 에폭 5 |  반복 721 / 9295 | 시간 2200[s] | 손실 1.71\n",
            "| 에폭 5 |  반복 741 / 9295 | 시간 2201[s] | 손실 1.70\n",
            "| 에폭 5 |  반복 761 / 9295 | 시간 2202[s] | 손실 1.72\n",
            "| 에폭 5 |  반복 781 / 9295 | 시간 2203[s] | 손실 1.74\n",
            "| 에폭 5 |  반복 801 / 9295 | 시간 2205[s] | 손실 1.74\n",
            "| 에폭 5 |  반복 821 / 9295 | 시간 2206[s] | 손실 1.76\n",
            "| 에폭 5 |  반복 841 / 9295 | 시간 2207[s] | 손실 1.74\n",
            "| 에폭 5 |  반복 861 / 9295 | 시간 2208[s] | 손실 1.73\n",
            "| 에폭 5 |  반복 881 / 9295 | 시간 2209[s] | 손실 1.74\n",
            "| 에폭 5 |  반복 901 / 9295 | 시간 2210[s] | 손실 1.72\n",
            "| 에폭 5 |  반복 921 / 9295 | 시간 2211[s] | 손실 1.73\n",
            "| 에폭 5 |  반복 941 / 9295 | 시간 2213[s] | 손실 1.71\n",
            "| 에폭 5 |  반복 961 / 9295 | 시간 2214[s] | 손실 1.75\n",
            "| 에폭 5 |  반복 981 / 9295 | 시간 2215[s] | 손실 1.77\n",
            "| 에폭 5 |  반복 1001 / 9295 | 시간 2216[s] | 손실 1.73\n",
            "| 에폭 5 |  반복 1021 / 9295 | 시간 2217[s] | 손실 1.73\n",
            "| 에폭 5 |  반복 1041 / 9295 | 시간 2218[s] | 손실 1.68\n",
            "| 에폭 5 |  반복 1061 / 9295 | 시간 2219[s] | 손실 1.75\n",
            "| 에폭 5 |  반복 1081 / 9295 | 시간 2221[s] | 손실 1.73\n",
            "| 에폭 5 |  반복 1101 / 9295 | 시간 2222[s] | 손실 1.71\n",
            "| 에폭 5 |  반복 1121 / 9295 | 시간 2223[s] | 손실 1.70\n",
            "| 에폭 5 |  반복 1141 / 9295 | 시간 2224[s] | 손실 1.71\n",
            "| 에폭 5 |  반복 1161 / 9295 | 시간 2225[s] | 손실 1.76\n",
            "| 에폭 5 |  반복 1181 / 9295 | 시간 2226[s] | 손실 1.76\n",
            "| 에폭 5 |  반복 1201 / 9295 | 시간 2228[s] | 손실 1.70\n",
            "| 에폭 5 |  반복 1221 / 9295 | 시간 2229[s] | 손실 1.75\n",
            "| 에폭 5 |  반복 1241 / 9295 | 시간 2230[s] | 손실 1.74\n",
            "| 에폭 5 |  반복 1261 / 9295 | 시간 2231[s] | 손실 1.74\n",
            "| 에폭 5 |  반복 1281 / 9295 | 시간 2232[s] | 손실 1.71\n",
            "| 에폭 5 |  반복 1301 / 9295 | 시간 2233[s] | 손실 1.72\n",
            "| 에폭 5 |  반복 1321 / 9295 | 시간 2235[s] | 손실 1.73\n",
            "| 에폭 5 |  반복 1341 / 9295 | 시간 2236[s] | 손실 1.72\n",
            "| 에폭 5 |  반복 1361 / 9295 | 시간 2237[s] | 손실 1.70\n",
            "| 에폭 5 |  반복 1381 / 9295 | 시간 2238[s] | 손실 1.73\n",
            "| 에폭 5 |  반복 1401 / 9295 | 시간 2239[s] | 손실 1.72\n",
            "| 에폭 5 |  반복 1421 / 9295 | 시간 2240[s] | 손실 1.73\n",
            "| 에폭 5 |  반복 1441 / 9295 | 시간 2241[s] | 손실 1.72\n",
            "| 에폭 5 |  반복 1461 / 9295 | 시간 2243[s] | 손실 1.73\n",
            "| 에폭 5 |  반복 1481 / 9295 | 시간 2244[s] | 손실 1.71\n",
            "| 에폭 5 |  반복 1501 / 9295 | 시간 2245[s] | 손실 1.71\n",
            "| 에폭 5 |  반복 1521 / 9295 | 시간 2246[s] | 손실 1.74\n",
            "| 에폭 5 |  반복 1541 / 9295 | 시간 2247[s] | 손실 1.71\n",
            "| 에폭 5 |  반복 1561 / 9295 | 시간 2248[s] | 손실 1.70\n",
            "| 에폭 5 |  반복 1581 / 9295 | 시간 2250[s] | 손실 1.71\n",
            "| 에폭 5 |  반복 1601 / 9295 | 시간 2251[s] | 손실 1.71\n",
            "| 에폭 5 |  반복 1621 / 9295 | 시간 2252[s] | 손실 1.75\n",
            "| 에폭 5 |  반복 1641 / 9295 | 시간 2253[s] | 손실 1.74\n",
            "| 에폭 5 |  반복 1661 / 9295 | 시간 2254[s] | 손실 1.75\n",
            "| 에폭 5 |  반복 1681 / 9295 | 시간 2255[s] | 손실 1.76\n",
            "| 에폭 5 |  반복 1701 / 9295 | 시간 2256[s] | 손실 1.73\n",
            "| 에폭 5 |  반복 1721 / 9295 | 시간 2258[s] | 손실 1.73\n",
            "| 에폭 5 |  반복 1741 / 9295 | 시간 2259[s] | 손실 1.73\n",
            "| 에폭 5 |  반복 1761 / 9295 | 시간 2260[s] | 손실 1.74\n",
            "| 에폭 5 |  반복 1781 / 9295 | 시간 2261[s] | 손실 1.74\n",
            "| 에폭 5 |  반복 1801 / 9295 | 시간 2262[s] | 손실 1.72\n",
            "| 에폭 5 |  반복 1821 / 9295 | 시간 2263[s] | 손실 1.74\n",
            "| 에폭 5 |  반복 1841 / 9295 | 시간 2265[s] | 손실 1.69\n",
            "| 에폭 5 |  반복 1861 / 9295 | 시간 2266[s] | 손실 1.77\n",
            "| 에폭 5 |  반복 1881 / 9295 | 시간 2267[s] | 손실 1.71\n",
            "| 에폭 5 |  반복 1901 / 9295 | 시간 2268[s] | 손실 1.71\n",
            "| 에폭 5 |  반복 1921 / 9295 | 시간 2269[s] | 손실 1.75\n",
            "| 에폭 5 |  반복 1941 / 9295 | 시간 2270[s] | 손실 1.73\n",
            "| 에폭 5 |  반복 1961 / 9295 | 시간 2271[s] | 손실 1.74\n",
            "| 에폭 5 |  반복 1981 / 9295 | 시간 2273[s] | 손실 1.68\n",
            "| 에폭 5 |  반복 2001 / 9295 | 시간 2274[s] | 손실 1.70\n",
            "| 에폭 5 |  반복 2021 / 9295 | 시간 2275[s] | 손실 1.75\n",
            "| 에폭 5 |  반복 2041 / 9295 | 시간 2276[s] | 손실 1.73\n",
            "| 에폭 5 |  반복 2061 / 9295 | 시간 2277[s] | 손실 1.72\n",
            "| 에폭 5 |  반복 2081 / 9295 | 시간 2278[s] | 손실 1.71\n",
            "| 에폭 5 |  반복 2101 / 9295 | 시간 2280[s] | 손실 1.75\n",
            "| 에폭 5 |  반복 2121 / 9295 | 시간 2281[s] | 손실 1.71\n",
            "| 에폭 5 |  반복 2141 / 9295 | 시간 2282[s] | 손실 1.72\n",
            "| 에폭 5 |  반복 2161 / 9295 | 시간 2283[s] | 손실 1.79\n",
            "| 에폭 5 |  반복 2181 / 9295 | 시간 2284[s] | 손실 1.69\n",
            "| 에폭 5 |  반복 2201 / 9295 | 시간 2285[s] | 손실 1.75\n",
            "| 에폭 5 |  반복 2221 / 9295 | 시간 2287[s] | 손실 1.75\n",
            "| 에폭 5 |  반복 2241 / 9295 | 시간 2288[s] | 손실 1.72\n",
            "| 에폭 5 |  반복 2261 / 9295 | 시간 2289[s] | 손실 1.73\n",
            "| 에폭 5 |  반복 2281 / 9295 | 시간 2290[s] | 손실 1.75\n",
            "| 에폭 5 |  반복 2301 / 9295 | 시간 2291[s] | 손실 1.75\n",
            "| 에폭 5 |  반복 2321 / 9295 | 시간 2292[s] | 손실 1.72\n",
            "| 에폭 5 |  반복 2341 / 9295 | 시간 2294[s] | 손실 1.74\n",
            "| 에폭 5 |  반복 2361 / 9295 | 시간 2295[s] | 손실 1.74\n",
            "| 에폭 5 |  반복 2381 / 9295 | 시간 2296[s] | 손실 1.77\n",
            "| 에폭 5 |  반복 2401 / 9295 | 시간 2297[s] | 손실 1.71\n",
            "| 에폭 5 |  반복 2421 / 9295 | 시간 2298[s] | 손실 1.72\n",
            "| 에폭 5 |  반복 2441 / 9295 | 시간 2299[s] | 손실 1.75\n",
            "| 에폭 5 |  반복 2461 / 9295 | 시간 2301[s] | 손실 1.72\n",
            "| 에폭 5 |  반복 2481 / 9295 | 시간 2302[s] | 손실 1.72\n",
            "| 에폭 5 |  반복 2501 / 9295 | 시간 2303[s] | 손실 1.72\n",
            "| 에폭 5 |  반복 2521 / 9295 | 시간 2304[s] | 손실 1.71\n",
            "| 에폭 5 |  반복 2541 / 9295 | 시간 2305[s] | 손실 1.71\n",
            "| 에폭 5 |  반복 2561 / 9295 | 시간 2306[s] | 손실 1.69\n",
            "| 에폭 5 |  반복 2581 / 9295 | 시간 2307[s] | 손실 1.69\n",
            "| 에폭 5 |  반복 2601 / 9295 | 시간 2309[s] | 손실 1.74\n",
            "| 에폭 5 |  반복 2621 / 9295 | 시간 2310[s] | 손실 1.73\n",
            "| 에폭 5 |  반복 2641 / 9295 | 시간 2311[s] | 손실 1.74\n",
            "| 에폭 5 |  반복 2661 / 9295 | 시간 2312[s] | 손실 1.71\n",
            "| 에폭 5 |  반복 2681 / 9295 | 시간 2313[s] | 손실 1.73\n",
            "| 에폭 5 |  반복 2701 / 9295 | 시간 2314[s] | 손실 1.73\n",
            "| 에폭 5 |  반복 2721 / 9295 | 시간 2316[s] | 손실 1.72\n",
            "| 에폭 5 |  반복 2741 / 9295 | 시간 2317[s] | 손실 1.73\n",
            "| 에폭 5 |  반복 2761 / 9295 | 시간 2318[s] | 손실 1.72\n",
            "| 에폭 5 |  반복 2781 / 9295 | 시간 2319[s] | 손실 1.71\n",
            "| 에폭 5 |  반복 2801 / 9295 | 시간 2320[s] | 손실 1.74\n",
            "| 에폭 5 |  반복 2821 / 9295 | 시간 2321[s] | 손실 1.75\n",
            "| 에폭 5 |  반복 2841 / 9295 | 시간 2322[s] | 손실 1.71\n",
            "| 에폭 5 |  반복 2861 / 9295 | 시간 2324[s] | 손실 1.72\n",
            "| 에폭 5 |  반복 2881 / 9295 | 시간 2325[s] | 손실 1.73\n",
            "| 에폭 5 |  반복 2901 / 9295 | 시간 2326[s] | 손실 1.75\n",
            "| 에폭 5 |  반복 2921 / 9295 | 시간 2327[s] | 손실 1.72\n",
            "| 에폭 5 |  반복 2941 / 9295 | 시간 2328[s] | 손실 1.73\n",
            "| 에폭 5 |  반복 2961 / 9295 | 시간 2329[s] | 손실 1.71\n",
            "| 에폭 5 |  반복 2981 / 9295 | 시간 2330[s] | 손실 1.71\n",
            "| 에폭 5 |  반복 3001 / 9295 | 시간 2332[s] | 손실 1.68\n",
            "| 에폭 5 |  반복 3021 / 9295 | 시간 2333[s] | 손실 1.71\n",
            "| 에폭 5 |  반복 3041 / 9295 | 시간 2334[s] | 손실 1.77\n",
            "| 에폭 5 |  반복 3061 / 9295 | 시간 2335[s] | 손실 1.72\n",
            "| 에폭 5 |  반복 3081 / 9295 | 시간 2336[s] | 손실 1.71\n",
            "| 에폭 5 |  반복 3101 / 9295 | 시간 2337[s] | 손실 1.76\n",
            "| 에폭 5 |  반복 3121 / 9295 | 시간 2339[s] | 손실 1.74\n",
            "| 에폭 5 |  반복 3141 / 9295 | 시간 2340[s] | 손실 1.73\n",
            "| 에폭 5 |  반복 3161 / 9295 | 시간 2341[s] | 손실 1.75\n",
            "| 에폭 5 |  반복 3181 / 9295 | 시간 2342[s] | 손실 1.74\n",
            "| 에폭 5 |  반복 3201 / 9295 | 시간 2343[s] | 손실 1.73\n",
            "| 에폭 5 |  반복 3221 / 9295 | 시간 2344[s] | 손실 1.72\n",
            "| 에폭 5 |  반복 3241 / 9295 | 시간 2346[s] | 손실 1.74\n",
            "| 에폭 5 |  반복 3261 / 9295 | 시간 2347[s] | 손실 1.73\n",
            "| 에폭 5 |  반복 3281 / 9295 | 시간 2348[s] | 손실 1.70\n",
            "| 에폭 5 |  반복 3301 / 9295 | 시간 2349[s] | 손실 1.73\n",
            "| 에폭 5 |  반복 3321 / 9295 | 시간 2350[s] | 손실 1.72\n",
            "| 에폭 5 |  반복 3341 / 9295 | 시간 2351[s] | 손실 1.74\n",
            "| 에폭 5 |  반복 3361 / 9295 | 시간 2352[s] | 손실 1.73\n",
            "| 에폭 5 |  반복 3381 / 9295 | 시간 2354[s] | 손실 1.74\n",
            "| 에폭 5 |  반복 3401 / 9295 | 시간 2355[s] | 손실 1.69\n",
            "| 에폭 5 |  반복 3421 / 9295 | 시간 2356[s] | 손실 1.74\n",
            "| 에폭 5 |  반복 3441 / 9295 | 시간 2357[s] | 손실 1.74\n",
            "| 에폭 5 |  반복 3461 / 9295 | 시간 2358[s] | 손실 1.76\n",
            "| 에폭 5 |  반복 3481 / 9295 | 시간 2359[s] | 손실 1.74\n",
            "| 에폭 5 |  반복 3501 / 9295 | 시간 2361[s] | 손실 1.71\n",
            "| 에폭 5 |  반복 3521 / 9295 | 시간 2362[s] | 손실 1.72\n",
            "| 에폭 5 |  반복 3541 / 9295 | 시간 2363[s] | 손실 1.73\n",
            "| 에폭 5 |  반복 3561 / 9295 | 시간 2364[s] | 손실 1.73\n",
            "| 에폭 5 |  반복 3581 / 9295 | 시간 2365[s] | 손실 1.75\n",
            "| 에폭 5 |  반복 3601 / 9295 | 시간 2366[s] | 손실 1.77\n",
            "| 에폭 5 |  반복 3621 / 9295 | 시간 2367[s] | 손실 1.75\n",
            "| 에폭 5 |  반복 3641 / 9295 | 시간 2369[s] | 손실 1.74\n",
            "| 에폭 5 |  반복 3661 / 9295 | 시간 2370[s] | 손실 1.77\n",
            "| 에폭 5 |  반복 3681 / 9295 | 시간 2371[s] | 손실 1.74\n",
            "| 에폭 5 |  반복 3701 / 9295 | 시간 2372[s] | 손실 1.72\n",
            "| 에폭 5 |  반복 3721 / 9295 | 시간 2373[s] | 손실 1.74\n",
            "| 에폭 5 |  반복 3741 / 9295 | 시간 2374[s] | 손실 1.72\n",
            "| 에폭 5 |  반복 3761 / 9295 | 시간 2376[s] | 손실 1.72\n",
            "| 에폭 5 |  반복 3781 / 9295 | 시간 2377[s] | 손실 1.70\n",
            "| 에폭 5 |  반복 3801 / 9295 | 시간 2378[s] | 손실 1.69\n",
            "| 에폭 5 |  반복 3821 / 9295 | 시간 2379[s] | 손실 1.71\n",
            "| 에폭 5 |  반복 3841 / 9295 | 시간 2380[s] | 손실 1.77\n",
            "| 에폭 5 |  반복 3861 / 9295 | 시간 2381[s] | 손실 1.70\n",
            "| 에폭 5 |  반복 3881 / 9295 | 시간 2383[s] | 손실 1.71\n",
            "| 에폭 5 |  반복 3901 / 9295 | 시간 2384[s] | 손실 1.73\n",
            "| 에폭 5 |  반복 3921 / 9295 | 시간 2385[s] | 손실 1.74\n",
            "| 에폭 5 |  반복 3941 / 9295 | 시간 2386[s] | 손실 1.76\n",
            "| 에폭 5 |  반복 3961 / 9295 | 시간 2387[s] | 손실 1.72\n",
            "| 에폭 5 |  반복 3981 / 9295 | 시간 2388[s] | 손실 1.76\n",
            "| 에폭 5 |  반복 4001 / 9295 | 시간 2389[s] | 손실 1.75\n",
            "| 에폭 5 |  반복 4021 / 9295 | 시간 2391[s] | 손실 1.72\n",
            "| 에폭 5 |  반복 4041 / 9295 | 시간 2392[s] | 손실 1.73\n",
            "| 에폭 5 |  반복 4061 / 9295 | 시간 2393[s] | 손실 1.74\n",
            "| 에폭 5 |  반복 4081 / 9295 | 시간 2394[s] | 손실 1.74\n",
            "| 에폭 5 |  반복 4101 / 9295 | 시간 2395[s] | 손실 1.72\n",
            "| 에폭 5 |  반복 4121 / 9295 | 시간 2396[s] | 손실 1.76\n",
            "| 에폭 5 |  반복 4141 / 9295 | 시간 2397[s] | 손실 1.74\n",
            "| 에폭 5 |  반복 4161 / 9295 | 시간 2399[s] | 손실 1.76\n",
            "| 에폭 5 |  반복 4181 / 9295 | 시간 2400[s] | 손실 1.73\n",
            "| 에폭 5 |  반복 4201 / 9295 | 시간 2401[s] | 손실 1.70\n",
            "| 에폭 5 |  반복 4221 / 9295 | 시간 2402[s] | 손실 1.75\n",
            "| 에폭 5 |  반복 4241 / 9295 | 시간 2403[s] | 손실 1.72\n",
            "| 에폭 5 |  반복 4261 / 9295 | 시간 2404[s] | 손실 1.74\n",
            "| 에폭 5 |  반복 4281 / 9295 | 시간 2406[s] | 손실 1.77\n",
            "| 에폭 5 |  반복 4301 / 9295 | 시간 2407[s] | 손실 1.73\n",
            "| 에폭 5 |  반복 4321 / 9295 | 시간 2408[s] | 손실 1.69\n",
            "| 에폭 5 |  반복 4341 / 9295 | 시간 2409[s] | 손실 1.75\n",
            "| 에폭 5 |  반복 4361 / 9295 | 시간 2410[s] | 손실 1.71\n",
            "| 에폭 5 |  반복 4381 / 9295 | 시간 2411[s] | 손실 1.73\n",
            "| 에폭 5 |  반복 4401 / 9295 | 시간 2412[s] | 손실 1.73\n",
            "| 에폭 5 |  반복 4421 / 9295 | 시간 2414[s] | 손실 1.71\n",
            "| 에폭 5 |  반복 4441 / 9295 | 시간 2415[s] | 손실 1.74\n",
            "| 에폭 5 |  반복 4461 / 9295 | 시간 2416[s] | 손실 1.74\n",
            "| 에폭 5 |  반복 4481 / 9295 | 시간 2417[s] | 손실 1.73\n",
            "| 에폭 5 |  반복 4501 / 9295 | 시간 2418[s] | 손실 1.70\n",
            "| 에폭 5 |  반복 4521 / 9295 | 시간 2419[s] | 손실 1.74\n",
            "| 에폭 5 |  반복 4541 / 9295 | 시간 2421[s] | 손실 1.74\n",
            "| 에폭 5 |  반복 4561 / 9295 | 시간 2422[s] | 손실 1.71\n",
            "| 에폭 5 |  반복 4581 / 9295 | 시간 2423[s] | 손실 1.71\n",
            "| 에폭 5 |  반복 4601 / 9295 | 시간 2424[s] | 손실 1.77\n",
            "| 에폭 5 |  반복 4621 / 9295 | 시간 2425[s] | 손실 1.72\n",
            "| 에폭 5 |  반복 4641 / 9295 | 시간 2426[s] | 손실 1.73\n",
            "| 에폭 5 |  반복 4661 / 9295 | 시간 2427[s] | 손실 1.71\n",
            "| 에폭 5 |  반복 4681 / 9295 | 시간 2429[s] | 손실 1.73\n",
            "| 에폭 5 |  반복 4701 / 9295 | 시간 2430[s] | 손실 1.72\n",
            "| 에폭 5 |  반복 4721 / 9295 | 시간 2431[s] | 손실 1.72\n",
            "| 에폭 5 |  반복 4741 / 9295 | 시간 2432[s] | 손실 1.76\n",
            "| 에폭 5 |  반복 4761 / 9295 | 시간 2433[s] | 손실 1.73\n",
            "| 에폭 5 |  반복 4781 / 9295 | 시간 2434[s] | 손실 1.72\n",
            "| 에폭 5 |  반복 4801 / 9295 | 시간 2436[s] | 손실 1.72\n",
            "| 에폭 5 |  반복 4821 / 9295 | 시간 2437[s] | 손실 1.73\n",
            "| 에폭 5 |  반복 4841 / 9295 | 시간 2438[s] | 손실 1.73\n",
            "| 에폭 5 |  반복 4861 / 9295 | 시간 2439[s] | 손실 1.73\n",
            "| 에폭 5 |  반복 4881 / 9295 | 시간 2440[s] | 손실 1.70\n",
            "| 에폭 5 |  반복 4901 / 9295 | 시간 2441[s] | 손실 1.68\n",
            "| 에폭 5 |  반복 4921 / 9295 | 시간 2442[s] | 손실 1.74\n",
            "| 에폭 5 |  반복 4941 / 9295 | 시간 2444[s] | 손실 1.71\n",
            "| 에폭 5 |  반복 4961 / 9295 | 시간 2445[s] | 손실 1.72\n",
            "| 에폭 5 |  반복 4981 / 9295 | 시간 2446[s] | 손실 1.74\n",
            "| 에폭 5 |  반복 5001 / 9295 | 시간 2447[s] | 손실 1.72\n",
            "| 에폭 5 |  반복 5021 / 9295 | 시간 2448[s] | 손실 1.70\n",
            "| 에폭 5 |  반복 5041 / 9295 | 시간 2449[s] | 손실 1.70\n",
            "| 에폭 5 |  반복 5061 / 9295 | 시간 2450[s] | 손실 1.70\n",
            "| 에폭 5 |  반복 5081 / 9295 | 시간 2452[s] | 손실 1.72\n",
            "| 에폭 5 |  반복 5101 / 9295 | 시간 2453[s] | 손실 1.72\n",
            "| 에폭 5 |  반복 5121 / 9295 | 시간 2454[s] | 손실 1.75\n",
            "| 에폭 5 |  반복 5141 / 9295 | 시간 2455[s] | 손실 1.75\n",
            "| 에폭 5 |  반복 5161 / 9295 | 시간 2456[s] | 손실 1.72\n",
            "| 에폭 5 |  반복 5181 / 9295 | 시간 2457[s] | 손실 1.72\n",
            "| 에폭 5 |  반복 5201 / 9295 | 시간 2458[s] | 손실 1.73\n",
            "| 에폭 5 |  반복 5221 / 9295 | 시간 2460[s] | 손실 1.69\n",
            "| 에폭 5 |  반복 5241 / 9295 | 시간 2461[s] | 손실 1.74\n",
            "| 에폭 5 |  반복 5261 / 9295 | 시간 2462[s] | 손실 1.74\n",
            "| 에폭 5 |  반복 5281 / 9295 | 시간 2463[s] | 손실 1.72\n",
            "| 에폭 5 |  반복 5301 / 9295 | 시간 2464[s] | 손실 1.73\n",
            "| 에폭 5 |  반복 5321 / 9295 | 시간 2465[s] | 손실 1.71\n",
            "| 에폭 5 |  반복 5341 / 9295 | 시간 2467[s] | 손실 1.73\n",
            "| 에폭 5 |  반복 5361 / 9295 | 시간 2468[s] | 손실 1.70\n",
            "| 에폭 5 |  반복 5381 / 9295 | 시간 2469[s] | 손실 1.70\n",
            "| 에폭 5 |  반복 5401 / 9295 | 시간 2470[s] | 손실 1.74\n",
            "| 에폭 5 |  반복 5421 / 9295 | 시간 2471[s] | 손실 1.76\n",
            "| 에폭 5 |  반복 5441 / 9295 | 시간 2472[s] | 손실 1.68\n",
            "| 에폭 5 |  반복 5461 / 9295 | 시간 2473[s] | 손실 1.73\n",
            "| 에폭 5 |  반복 5481 / 9295 | 시간 2475[s] | 손실 1.68\n",
            "| 에폭 5 |  반복 5501 / 9295 | 시간 2476[s] | 손실 1.68\n",
            "| 에폭 5 |  반복 5521 / 9295 | 시간 2477[s] | 손실 1.71\n",
            "| 에폭 5 |  반복 5541 / 9295 | 시간 2478[s] | 손실 1.75\n",
            "| 에폭 5 |  반복 5561 / 9295 | 시간 2479[s] | 손실 1.70\n",
            "| 에폭 5 |  반복 5581 / 9295 | 시간 2480[s] | 손실 1.75\n",
            "| 에폭 5 |  반복 5601 / 9295 | 시간 2481[s] | 손실 1.72\n",
            "| 에폭 5 |  반복 5621 / 9295 | 시간 2483[s] | 손실 1.75\n",
            "| 에폭 5 |  반복 5641 / 9295 | 시간 2484[s] | 손실 1.72\n",
            "| 에폭 5 |  반복 5661 / 9295 | 시간 2485[s] | 손실 1.72\n",
            "| 에폭 5 |  반복 5681 / 9295 | 시간 2486[s] | 손실 1.73\n",
            "| 에폭 5 |  반복 5701 / 9295 | 시간 2487[s] | 손실 1.73\n",
            "| 에폭 5 |  반복 5721 / 9295 | 시간 2488[s] | 손실 1.74\n",
            "| 에폭 5 |  반복 5741 / 9295 | 시간 2490[s] | 손실 1.73\n",
            "| 에폭 5 |  반복 5761 / 9295 | 시간 2491[s] | 손실 1.74\n",
            "| 에폭 5 |  반복 5781 / 9295 | 시간 2492[s] | 손실 1.70\n",
            "| 에폭 5 |  반복 5801 / 9295 | 시간 2493[s] | 손실 1.73\n",
            "| 에폭 5 |  반복 5821 / 9295 | 시간 2494[s] | 손실 1.73\n",
            "| 에폭 5 |  반복 5841 / 9295 | 시간 2495[s] | 손실 1.75\n",
            "| 에폭 5 |  반복 5861 / 9295 | 시간 2496[s] | 손실 1.73\n",
            "| 에폭 5 |  반복 5881 / 9295 | 시간 2498[s] | 손실 1.72\n",
            "| 에폭 5 |  반복 5901 / 9295 | 시간 2499[s] | 손실 1.73\n",
            "| 에폭 5 |  반복 5921 / 9295 | 시간 2500[s] | 손실 1.77\n",
            "| 에폭 5 |  반복 5941 / 9295 | 시간 2501[s] | 손실 1.76\n",
            "| 에폭 5 |  반복 5961 / 9295 | 시간 2502[s] | 손실 1.72\n",
            "| 에폭 5 |  반복 5981 / 9295 | 시간 2503[s] | 손실 1.76\n",
            "| 에폭 5 |  반복 6001 / 9295 | 시간 2505[s] | 손실 1.70\n",
            "| 에폭 5 |  반복 6021 / 9295 | 시간 2506[s] | 손실 1.74\n",
            "| 에폭 5 |  반복 6041 / 9295 | 시간 2507[s] | 손실 1.72\n",
            "| 에폭 5 |  반복 6061 / 9295 | 시간 2508[s] | 손실 1.76\n",
            "| 에폭 5 |  반복 6081 / 9295 | 시간 2509[s] | 손실 1.74\n",
            "| 에폭 5 |  반복 6101 / 9295 | 시간 2510[s] | 손실 1.73\n",
            "| 에폭 5 |  반복 6121 / 9295 | 시간 2511[s] | 손실 1.70\n",
            "| 에폭 5 |  반복 6141 / 9295 | 시간 2513[s] | 손실 1.71\n",
            "| 에폭 5 |  반복 6161 / 9295 | 시간 2514[s] | 손실 1.72\n",
            "| 에폭 5 |  반복 6181 / 9295 | 시간 2515[s] | 손실 1.70\n",
            "| 에폭 5 |  반복 6201 / 9295 | 시간 2516[s] | 손실 1.71\n",
            "| 에폭 5 |  반복 6221 / 9295 | 시간 2517[s] | 손실 1.71\n",
            "| 에폭 5 |  반복 6241 / 9295 | 시간 2518[s] | 손실 1.69\n",
            "| 에폭 5 |  반복 6261 / 9295 | 시간 2520[s] | 손실 1.71\n",
            "| 에폭 5 |  반복 6281 / 9295 | 시간 2521[s] | 손실 1.72\n",
            "| 에폭 5 |  반복 6301 / 9295 | 시간 2522[s] | 손실 1.71\n",
            "| 에폭 5 |  반복 6321 / 9295 | 시간 2523[s] | 손실 1.72\n",
            "| 에폭 5 |  반복 6341 / 9295 | 시간 2524[s] | 손실 1.70\n",
            "| 에폭 5 |  반복 6361 / 9295 | 시간 2525[s] | 손실 1.74\n",
            "| 에폭 5 |  반복 6381 / 9295 | 시간 2526[s] | 손실 1.74\n",
            "| 에폭 5 |  반복 6401 / 9295 | 시간 2528[s] | 손실 1.67\n",
            "| 에폭 5 |  반복 6421 / 9295 | 시간 2529[s] | 손실 1.74\n",
            "| 에폭 5 |  반복 6441 / 9295 | 시간 2530[s] | 손실 1.71\n",
            "| 에폭 5 |  반복 6461 / 9295 | 시간 2531[s] | 손실 1.68\n",
            "| 에폭 5 |  반복 6481 / 9295 | 시간 2532[s] | 손실 1.72\n",
            "| 에폭 5 |  반복 6501 / 9295 | 시간 2533[s] | 손실 1.71\n",
            "| 에폭 5 |  반복 6521 / 9295 | 시간 2534[s] | 손실 1.70\n",
            "| 에폭 5 |  반복 6541 / 9295 | 시간 2536[s] | 손실 1.73\n",
            "| 에폭 5 |  반복 6561 / 9295 | 시간 2537[s] | 손실 1.71\n",
            "| 에폭 5 |  반복 6581 / 9295 | 시간 2538[s] | 손실 1.72\n",
            "| 에폭 5 |  반복 6601 / 9295 | 시간 2539[s] | 손실 1.74\n",
            "| 에폭 5 |  반복 6621 / 9295 | 시간 2540[s] | 손실 1.74\n",
            "| 에폭 5 |  반복 6641 / 9295 | 시간 2541[s] | 손실 1.70\n",
            "| 에폭 5 |  반복 6661 / 9295 | 시간 2543[s] | 손실 1.73\n",
            "| 에폭 5 |  반복 6681 / 9295 | 시간 2544[s] | 손실 1.77\n",
            "| 에폭 5 |  반복 6701 / 9295 | 시간 2545[s] | 손실 1.75\n",
            "| 에폭 5 |  반복 6721 / 9295 | 시간 2546[s] | 손실 1.73\n",
            "| 에폭 5 |  반복 6741 / 9295 | 시간 2547[s] | 손실 1.72\n",
            "| 에폭 5 |  반복 6761 / 9295 | 시간 2548[s] | 손실 1.79\n",
            "| 에폭 5 |  반복 6781 / 9295 | 시간 2550[s] | 손실 1.74\n",
            "| 에폭 5 |  반복 6801 / 9295 | 시간 2551[s] | 손실 1.72\n",
            "| 에폭 5 |  반복 6821 / 9295 | 시간 2552[s] | 손실 1.69\n",
            "| 에폭 5 |  반복 6841 / 9295 | 시간 2553[s] | 손실 1.72\n",
            "| 에폭 5 |  반복 6861 / 9295 | 시간 2554[s] | 손실 1.75\n",
            "| 에폭 5 |  반복 6881 / 9295 | 시간 2555[s] | 손실 1.75\n",
            "| 에폭 5 |  반복 6901 / 9295 | 시간 2556[s] | 손실 1.71\n",
            "| 에폭 5 |  반복 6921 / 9295 | 시간 2558[s] | 손실 1.72\n",
            "| 에폭 5 |  반복 6941 / 9295 | 시간 2559[s] | 손실 1.71\n",
            "| 에폭 5 |  반복 6961 / 9295 | 시간 2560[s] | 손실 1.74\n",
            "| 에폭 5 |  반복 6981 / 9295 | 시간 2561[s] | 손실 1.71\n",
            "| 에폭 5 |  반복 7001 / 9295 | 시간 2562[s] | 손실 1.69\n",
            "| 에폭 5 |  반복 7021 / 9295 | 시간 2563[s] | 손실 1.77\n",
            "| 에폭 5 |  반복 7041 / 9295 | 시간 2564[s] | 손실 1.70\n",
            "| 에폭 5 |  반복 7061 / 9295 | 시간 2566[s] | 손실 1.72\n",
            "| 에폭 5 |  반복 7081 / 9295 | 시간 2567[s] | 손실 1.75\n",
            "| 에폭 5 |  반복 7101 / 9295 | 시간 2568[s] | 손실 1.72\n",
            "| 에폭 5 |  반복 7121 / 9295 | 시간 2569[s] | 손실 1.72\n",
            "| 에폭 5 |  반복 7141 / 9295 | 시간 2570[s] | 손실 1.70\n",
            "| 에폭 5 |  반복 7161 / 9295 | 시간 2571[s] | 손실 1.72\n",
            "| 에폭 5 |  반복 7181 / 9295 | 시간 2573[s] | 손실 1.75\n",
            "| 에폭 5 |  반복 7201 / 9295 | 시간 2574[s] | 손실 1.76\n",
            "| 에폭 5 |  반복 7221 / 9295 | 시간 2575[s] | 손실 1.71\n",
            "| 에폭 5 |  반복 7241 / 9295 | 시간 2576[s] | 손실 1.70\n",
            "| 에폭 5 |  반복 7261 / 9295 | 시간 2577[s] | 손실 1.70\n",
            "| 에폭 5 |  반복 7281 / 9295 | 시간 2578[s] | 손실 1.73\n",
            "| 에폭 5 |  반복 7301 / 9295 | 시간 2579[s] | 손실 1.71\n",
            "| 에폭 5 |  반복 7321 / 9295 | 시간 2581[s] | 손실 1.76\n",
            "| 에폭 5 |  반복 7341 / 9295 | 시간 2582[s] | 손실 1.69\n",
            "| 에폭 5 |  반복 7361 / 9295 | 시간 2583[s] | 손실 1.72\n",
            "| 에폭 5 |  반복 7381 / 9295 | 시간 2584[s] | 손실 1.73\n",
            "| 에폭 5 |  반복 7401 / 9295 | 시간 2585[s] | 손실 1.73\n",
            "| 에폭 5 |  반복 7421 / 9295 | 시간 2586[s] | 손실 1.72\n",
            "| 에폭 5 |  반복 7441 / 9295 | 시간 2588[s] | 손실 1.71\n",
            "| 에폭 5 |  반복 7461 / 9295 | 시간 2589[s] | 손실 1.70\n",
            "| 에폭 5 |  반복 7481 / 9295 | 시간 2590[s] | 손실 1.74\n",
            "| 에폭 5 |  반복 7501 / 9295 | 시간 2591[s] | 손실 1.71\n",
            "| 에폭 5 |  반복 7521 / 9295 | 시간 2592[s] | 손실 1.73\n",
            "| 에폭 5 |  반복 7541 / 9295 | 시간 2593[s] | 손실 1.72\n",
            "| 에폭 5 |  반복 7561 / 9295 | 시간 2595[s] | 손실 1.71\n",
            "| 에폭 5 |  반복 7581 / 9295 | 시간 2596[s] | 손실 1.72\n",
            "| 에폭 5 |  반복 7601 / 9295 | 시간 2597[s] | 손실 1.74\n",
            "| 에폭 5 |  반복 7621 / 9295 | 시간 2598[s] | 손실 1.73\n",
            "| 에폭 5 |  반복 7641 / 9295 | 시간 2599[s] | 손실 1.70\n",
            "| 에폭 5 |  반복 7661 / 9295 | 시간 2600[s] | 손실 1.75\n",
            "| 에폭 5 |  반복 7681 / 9295 | 시간 2601[s] | 손실 1.71\n",
            "| 에폭 5 |  반복 7701 / 9295 | 시간 2603[s] | 손실 1.74\n",
            "| 에폭 5 |  반복 7721 / 9295 | 시간 2604[s] | 손실 1.73\n",
            "| 에폭 5 |  반복 7741 / 9295 | 시간 2605[s] | 손실 1.72\n",
            "| 에폭 5 |  반복 7761 / 9295 | 시간 2606[s] | 손실 1.72\n",
            "| 에폭 5 |  반복 7781 / 9295 | 시간 2607[s] | 손실 1.72\n",
            "| 에폭 5 |  반복 7801 / 9295 | 시간 2608[s] | 손실 1.74\n",
            "| 에폭 5 |  반복 7821 / 9295 | 시간 2610[s] | 손실 1.74\n",
            "| 에폭 5 |  반복 7841 / 9295 | 시간 2611[s] | 손실 1.70\n",
            "| 에폭 5 |  반복 7861 / 9295 | 시간 2612[s] | 손실 1.68\n",
            "| 에폭 5 |  반복 7881 / 9295 | 시간 2613[s] | 손실 1.70\n",
            "| 에폭 5 |  반복 7901 / 9295 | 시간 2614[s] | 손실 1.74\n",
            "| 에폭 5 |  반복 7921 / 9295 | 시간 2615[s] | 손실 1.73\n",
            "| 에폭 5 |  반복 7941 / 9295 | 시간 2617[s] | 손실 1.74\n",
            "| 에폭 5 |  반복 7961 / 9295 | 시간 2618[s] | 손실 1.75\n",
            "| 에폭 5 |  반복 7981 / 9295 | 시간 2619[s] | 손실 1.72\n",
            "| 에폭 5 |  반복 8001 / 9295 | 시간 2620[s] | 손실 1.73\n",
            "| 에폭 5 |  반복 8021 / 9295 | 시간 2621[s] | 손실 1.70\n",
            "| 에폭 5 |  반복 8041 / 9295 | 시간 2622[s] | 손실 1.71\n",
            "| 에폭 5 |  반복 8061 / 9295 | 시간 2623[s] | 손실 1.71\n",
            "| 에폭 5 |  반복 8081 / 9295 | 시간 2625[s] | 손실 1.71\n",
            "| 에폭 5 |  반복 8101 / 9295 | 시간 2626[s] | 손실 1.70\n",
            "| 에폭 5 |  반복 8121 / 9295 | 시간 2627[s] | 손실 1.69\n",
            "| 에폭 5 |  반복 8141 / 9295 | 시간 2628[s] | 손실 1.72\n",
            "| 에폭 5 |  반복 8161 / 9295 | 시간 2629[s] | 손실 1.76\n",
            "| 에폭 5 |  반복 8181 / 9295 | 시간 2630[s] | 손실 1.73\n",
            "| 에폭 5 |  반복 8201 / 9295 | 시간 2631[s] | 손실 1.71\n",
            "| 에폭 5 |  반복 8221 / 9295 | 시간 2633[s] | 손실 1.73\n",
            "| 에폭 5 |  반복 8241 / 9295 | 시간 2634[s] | 손실 1.70\n",
            "| 에폭 5 |  반복 8261 / 9295 | 시간 2635[s] | 손실 1.72\n",
            "| 에폭 5 |  반복 8281 / 9295 | 시간 2636[s] | 손실 1.72\n",
            "| 에폭 5 |  반복 8301 / 9295 | 시간 2637[s] | 손실 1.72\n",
            "| 에폭 5 |  반복 8321 / 9295 | 시간 2638[s] | 손실 1.69\n",
            "| 에폭 5 |  반복 8341 / 9295 | 시간 2640[s] | 손실 1.76\n",
            "| 에폭 5 |  반복 8361 / 9295 | 시간 2641[s] | 손실 1.73\n",
            "| 에폭 5 |  반복 8381 / 9295 | 시간 2642[s] | 손실 1.72\n",
            "| 에폭 5 |  반복 8401 / 9295 | 시간 2643[s] | 손실 1.71\n",
            "| 에폭 5 |  반복 8421 / 9295 | 시간 2644[s] | 손실 1.73\n",
            "| 에폭 5 |  반복 8441 / 9295 | 시간 2645[s] | 손실 1.69\n",
            "| 에폭 5 |  반복 8461 / 9295 | 시간 2647[s] | 손실 1.73\n",
            "| 에폭 5 |  반복 8481 / 9295 | 시간 2648[s] | 손실 1.72\n",
            "| 에폭 5 |  반복 8501 / 9295 | 시간 2649[s] | 손실 1.75\n",
            "| 에폭 5 |  반복 8521 / 9295 | 시간 2650[s] | 손실 1.74\n",
            "| 에폭 5 |  반복 8541 / 9295 | 시간 2651[s] | 손실 1.75\n",
            "| 에폭 5 |  반복 8561 / 9295 | 시간 2652[s] | 손실 1.73\n",
            "| 에폭 5 |  반복 8581 / 9295 | 시간 2653[s] | 손실 1.71\n",
            "| 에폭 5 |  반복 8601 / 9295 | 시간 2655[s] | 손실 1.69\n",
            "| 에폭 5 |  반복 8621 / 9295 | 시간 2656[s] | 손실 1.74\n",
            "| 에폭 5 |  반복 8641 / 9295 | 시간 2657[s] | 손실 1.79\n",
            "| 에폭 5 |  반복 8661 / 9295 | 시간 2658[s] | 손실 1.71\n",
            "| 에폭 5 |  반복 8681 / 9295 | 시간 2659[s] | 손실 1.71\n",
            "| 에폭 5 |  반복 8701 / 9295 | 시간 2660[s] | 손실 1.72\n",
            "| 에폭 5 |  반복 8721 / 9295 | 시간 2661[s] | 손실 1.76\n",
            "| 에폭 5 |  반복 8741 / 9295 | 시간 2663[s] | 손실 1.70\n",
            "| 에폭 5 |  반복 8761 / 9295 | 시간 2664[s] | 손실 1.74\n",
            "| 에폭 5 |  반복 8781 / 9295 | 시간 2665[s] | 손실 1.71\n",
            "| 에폭 5 |  반복 8801 / 9295 | 시간 2666[s] | 손실 1.74\n",
            "| 에폭 5 |  반복 8821 / 9295 | 시간 2667[s] | 손실 1.72\n",
            "| 에폭 5 |  반복 8841 / 9295 | 시간 2668[s] | 손실 1.72\n",
            "| 에폭 5 |  반복 8861 / 9295 | 시간 2670[s] | 손실 1.71\n",
            "| 에폭 5 |  반복 8881 / 9295 | 시간 2671[s] | 손실 1.69\n",
            "| 에폭 5 |  반복 8901 / 9295 | 시간 2672[s] | 손실 1.71\n",
            "| 에폭 5 |  반복 8921 / 9295 | 시간 2673[s] | 손실 1.71\n",
            "| 에폭 5 |  반복 8941 / 9295 | 시간 2674[s] | 손실 1.77\n",
            "| 에폭 5 |  반복 8961 / 9295 | 시간 2675[s] | 손실 1.67\n",
            "| 에폭 5 |  반복 8981 / 9295 | 시간 2677[s] | 손실 1.72\n",
            "| 에폭 5 |  반복 9001 / 9295 | 시간 2678[s] | 손실 1.76\n",
            "| 에폭 5 |  반복 9021 / 9295 | 시간 2679[s] | 손실 1.68\n",
            "| 에폭 5 |  반복 9041 / 9295 | 시간 2680[s] | 손실 1.73\n",
            "| 에폭 5 |  반복 9061 / 9295 | 시간 2681[s] | 손실 1.76\n",
            "| 에폭 5 |  반복 9081 / 9295 | 시간 2682[s] | 손실 1.71\n",
            "| 에폭 5 |  반복 9101 / 9295 | 시간 2683[s] | 손실 1.73\n",
            "| 에폭 5 |  반복 9121 / 9295 | 시간 2685[s] | 손실 1.69\n",
            "| 에폭 5 |  반복 9141 / 9295 | 시간 2686[s] | 손실 1.71\n",
            "| 에폭 5 |  반복 9161 / 9295 | 시간 2687[s] | 손실 1.75\n",
            "| 에폭 5 |  반복 9181 / 9295 | 시간 2688[s] | 손실 1.70\n",
            "| 에폭 5 |  반복 9201 / 9295 | 시간 2689[s] | 손실 1.70\n",
            "| 에폭 5 |  반복 9221 / 9295 | 시간 2690[s] | 손실 1.73\n",
            "| 에폭 5 |  반복 9241 / 9295 | 시간 2691[s] | 손실 1.74\n",
            "| 에폭 5 |  반복 9261 / 9295 | 시간 2693[s] | 손실 1.72\n",
            "| 에폭 5 |  반복 9281 / 9295 | 시간 2694[s] | 손실 1.71\n",
            "| 에폭 6 |  반복 1 / 9295 | 시간 2695[s] | 손실 1.71\n",
            "| 에폭 6 |  반복 21 / 9295 | 시간 2696[s] | 손실 1.62\n",
            "| 에폭 6 |  반복 41 / 9295 | 시간 2697[s] | 손실 1.66\n",
            "| 에폭 6 |  반복 61 / 9295 | 시간 2698[s] | 손실 1.65\n",
            "| 에폭 6 |  반복 81 / 9295 | 시간 2699[s] | 손실 1.64\n",
            "| 에폭 6 |  반복 101 / 9295 | 시간 2700[s] | 손실 1.65\n",
            "| 에폭 6 |  반복 121 / 9295 | 시간 2702[s] | 손실 1.63\n",
            "| 에폭 6 |  반복 141 / 9295 | 시간 2703[s] | 손실 1.64\n",
            "| 에폭 6 |  반복 161 / 9295 | 시간 2704[s] | 손실 1.66\n",
            "| 에폭 6 |  반복 181 / 9295 | 시간 2705[s] | 손실 1.64\n",
            "| 에폭 6 |  반복 201 / 9295 | 시간 2706[s] | 손실 1.64\n",
            "| 에폭 6 |  반복 221 / 9295 | 시간 2707[s] | 손실 1.65\n",
            "| 에폭 6 |  반복 241 / 9295 | 시간 2708[s] | 손실 1.67\n",
            "| 에폭 6 |  반복 261 / 9295 | 시간 2710[s] | 손실 1.62\n",
            "| 에폭 6 |  반복 281 / 9295 | 시간 2711[s] | 손실 1.64\n",
            "| 에폭 6 |  반복 301 / 9295 | 시간 2712[s] | 손실 1.69\n",
            "| 에폭 6 |  반복 321 / 9295 | 시간 2713[s] | 손실 1.63\n",
            "| 에폭 6 |  반복 341 / 9295 | 시간 2714[s] | 손실 1.67\n",
            "| 에폭 6 |  반복 361 / 9295 | 시간 2715[s] | 손실 1.65\n",
            "| 에폭 6 |  반복 381 / 9295 | 시간 2717[s] | 손실 1.64\n",
            "| 에폭 6 |  반복 401 / 9295 | 시간 2718[s] | 손실 1.65\n",
            "| 에폭 6 |  반복 421 / 9295 | 시간 2719[s] | 손실 1.66\n",
            "| 에폭 6 |  반복 441 / 9295 | 시간 2720[s] | 손실 1.62\n",
            "| 에폭 6 |  반복 461 / 9295 | 시간 2721[s] | 손실 1.65\n",
            "| 에폭 6 |  반복 481 / 9295 | 시간 2722[s] | 손실 1.62\n",
            "| 에폭 6 |  반복 501 / 9295 | 시간 2723[s] | 손실 1.63\n",
            "| 에폭 6 |  반복 521 / 9295 | 시간 2725[s] | 손실 1.60\n",
            "| 에폭 6 |  반복 541 / 9295 | 시간 2726[s] | 손실 1.64\n",
            "| 에폭 6 |  반복 561 / 9295 | 시간 2727[s] | 손실 1.66\n",
            "| 에폭 6 |  반복 581 / 9295 | 시간 2728[s] | 손실 1.65\n",
            "| 에폭 6 |  반복 601 / 9295 | 시간 2729[s] | 손실 1.63\n",
            "| 에폭 6 |  반복 621 / 9295 | 시간 2730[s] | 손실 1.61\n",
            "| 에폭 6 |  반복 641 / 9295 | 시간 2732[s] | 손실 1.66\n",
            "| 에폭 6 |  반복 661 / 9295 | 시간 2733[s] | 손실 1.68\n",
            "| 에폭 6 |  반복 681 / 9295 | 시간 2734[s] | 손실 1.66\n",
            "| 에폭 6 |  반복 701 / 9295 | 시간 2735[s] | 손실 1.64\n",
            "| 에폭 6 |  반복 721 / 9295 | 시간 2736[s] | 손실 1.66\n",
            "| 에폭 6 |  반복 741 / 9295 | 시간 2737[s] | 손실 1.64\n",
            "| 에폭 6 |  반복 761 / 9295 | 시간 2738[s] | 손실 1.64\n",
            "| 에폭 6 |  반복 781 / 9295 | 시간 2740[s] | 손실 1.67\n",
            "| 에폭 6 |  반복 801 / 9295 | 시간 2741[s] | 손실 1.70\n",
            "| 에폭 6 |  반복 821 / 9295 | 시간 2742[s] | 손실 1.63\n",
            "| 에폭 6 |  반복 841 / 9295 | 시간 2743[s] | 손실 1.61\n",
            "| 에폭 6 |  반복 861 / 9295 | 시간 2744[s] | 손실 1.64\n",
            "| 에폭 6 |  반복 881 / 9295 | 시간 2745[s] | 손실 1.57\n",
            "| 에폭 6 |  반복 901 / 9295 | 시간 2747[s] | 손실 1.67\n",
            "| 에폭 6 |  반복 921 / 9295 | 시간 2748[s] | 손실 1.64\n",
            "| 에폭 6 |  반복 941 / 9295 | 시간 2749[s] | 손실 1.64\n",
            "| 에폭 6 |  반복 961 / 9295 | 시간 2750[s] | 손실 1.68\n",
            "| 에폭 6 |  반복 981 / 9295 | 시간 2751[s] | 손실 1.67\n",
            "| 에폭 6 |  반복 1001 / 9295 | 시간 2752[s] | 손실 1.65\n",
            "| 에폭 6 |  반복 1021 / 9295 | 시간 2753[s] | 손실 1.61\n",
            "| 에폭 6 |  반복 1041 / 9295 | 시간 2755[s] | 손실 1.61\n",
            "| 에폭 6 |  반복 1061 / 9295 | 시간 2756[s] | 손실 1.64\n",
            "| 에폭 6 |  반복 1081 / 9295 | 시간 2757[s] | 손실 1.63\n",
            "| 에폭 6 |  반복 1101 / 9295 | 시간 2758[s] | 손실 1.60\n",
            "| 에폭 6 |  반복 1121 / 9295 | 시간 2759[s] | 손실 1.66\n",
            "| 에폭 6 |  반복 1141 / 9295 | 시간 2760[s] | 손실 1.65\n",
            "| 에폭 6 |  반복 1161 / 9295 | 시간 2762[s] | 손실 1.63\n",
            "| 에폭 6 |  반복 1181 / 9295 | 시간 2763[s] | 손실 1.63\n",
            "| 에폭 6 |  반복 1201 / 9295 | 시간 2764[s] | 손실 1.63\n",
            "| 에폭 6 |  반복 1221 / 9295 | 시간 2765[s] | 손실 1.70\n",
            "| 에폭 6 |  반복 1241 / 9295 | 시간 2766[s] | 손실 1.65\n",
            "| 에폭 6 |  반복 1261 / 9295 | 시간 2767[s] | 손실 1.65\n",
            "| 에폭 6 |  반복 1281 / 9295 | 시간 2768[s] | 손실 1.66\n",
            "| 에폭 6 |  반복 1301 / 9295 | 시간 2770[s] | 손실 1.66\n",
            "| 에폭 6 |  반복 1321 / 9295 | 시간 2771[s] | 손실 1.67\n",
            "| 에폭 6 |  반복 1341 / 9295 | 시간 2772[s] | 손실 1.64\n",
            "| 에폭 6 |  반복 1361 / 9295 | 시간 2773[s] | 손실 1.65\n",
            "| 에폭 6 |  반복 1381 / 9295 | 시간 2774[s] | 손실 1.66\n",
            "| 에폭 6 |  반복 1401 / 9295 | 시간 2775[s] | 손실 1.66\n",
            "| 에폭 6 |  반복 1421 / 9295 | 시간 2777[s] | 손실 1.65\n",
            "| 에폭 6 |  반복 1441 / 9295 | 시간 2778[s] | 손실 1.65\n",
            "| 에폭 6 |  반복 1461 / 9295 | 시간 2779[s] | 손실 1.63\n",
            "| 에폭 6 |  반복 1481 / 9295 | 시간 2780[s] | 손실 1.64\n",
            "| 에폭 6 |  반복 1501 / 9295 | 시간 2781[s] | 손실 1.64\n",
            "| 에폭 6 |  반복 1521 / 9295 | 시간 2782[s] | 손실 1.62\n",
            "| 에폭 6 |  반복 1541 / 9295 | 시간 2784[s] | 손실 1.63\n",
            "| 에폭 6 |  반복 1561 / 9295 | 시간 2785[s] | 손실 1.64\n",
            "| 에폭 6 |  반복 1581 / 9295 | 시간 2786[s] | 손실 1.64\n",
            "| 에폭 6 |  반복 1601 / 9295 | 시간 2787[s] | 손실 1.67\n",
            "| 에폭 6 |  반복 1621 / 9295 | 시간 2788[s] | 손실 1.66\n",
            "| 에폭 6 |  반복 1641 / 9295 | 시간 2789[s] | 손실 1.65\n",
            "| 에폭 6 |  반복 1661 / 9295 | 시간 2791[s] | 손실 1.62\n",
            "| 에폭 6 |  반복 1681 / 9295 | 시간 2792[s] | 손실 1.67\n",
            "| 에폭 6 |  반복 1701 / 9295 | 시간 2793[s] | 손실 1.63\n",
            "| 에폭 6 |  반복 1721 / 9295 | 시간 2794[s] | 손실 1.66\n",
            "| 에폭 6 |  반복 1741 / 9295 | 시간 2795[s] | 손실 1.65\n",
            "| 에폭 6 |  반복 1761 / 9295 | 시간 2796[s] | 손실 1.62\n",
            "| 에폭 6 |  반복 1781 / 9295 | 시간 2798[s] | 손실 1.64\n",
            "| 에폭 6 |  반복 1801 / 9295 | 시간 2799[s] | 손실 1.66\n",
            "| 에폭 6 |  반복 1821 / 9295 | 시간 2800[s] | 손실 1.67\n",
            "| 에폭 6 |  반복 1841 / 9295 | 시간 2801[s] | 손실 1.63\n",
            "| 에폭 6 |  반복 1861 / 9295 | 시간 2802[s] | 손실 1.67\n",
            "| 에폭 6 |  반복 1881 / 9295 | 시간 2803[s] | 손실 1.65\n",
            "| 에폭 6 |  반복 1901 / 9295 | 시간 2804[s] | 손실 1.65\n",
            "| 에폭 6 |  반복 1921 / 9295 | 시간 2806[s] | 손실 1.63\n",
            "| 에폭 6 |  반복 1941 / 9295 | 시간 2807[s] | 손실 1.62\n",
            "| 에폭 6 |  반복 1961 / 9295 | 시간 2808[s] | 손실 1.70\n",
            "| 에폭 6 |  반복 1981 / 9295 | 시간 2809[s] | 손실 1.63\n",
            "| 에폭 6 |  반복 2001 / 9295 | 시간 2810[s] | 손실 1.65\n",
            "| 에폭 6 |  반복 2021 / 9295 | 시간 2811[s] | 손실 1.66\n",
            "| 에폭 6 |  반복 2041 / 9295 | 시간 2812[s] | 손실 1.63\n",
            "| 에폭 6 |  반복 2061 / 9295 | 시간 2814[s] | 손실 1.68\n",
            "| 에폭 6 |  반복 2081 / 9295 | 시간 2815[s] | 손실 1.64\n",
            "| 에폭 6 |  반복 2101 / 9295 | 시간 2816[s] | 손실 1.66\n",
            "| 에폭 6 |  반복 2121 / 9295 | 시간 2817[s] | 손실 1.67\n",
            "| 에폭 6 |  반복 2141 / 9295 | 시간 2818[s] | 손실 1.63\n",
            "| 에폭 6 |  반복 2161 / 9295 | 시간 2819[s] | 손실 1.66\n",
            "| 에폭 6 |  반복 2181 / 9295 | 시간 2820[s] | 손실 1.67\n",
            "| 에폭 6 |  반복 2201 / 9295 | 시간 2822[s] | 손실 1.66\n",
            "| 에폭 6 |  반복 2221 / 9295 | 시간 2823[s] | 손실 1.63\n",
            "| 에폭 6 |  반복 2241 / 9295 | 시간 2824[s] | 손실 1.71\n",
            "| 에폭 6 |  반복 2261 / 9295 | 시간 2825[s] | 손실 1.63\n",
            "| 에폭 6 |  반복 2281 / 9295 | 시간 2826[s] | 손실 1.63\n",
            "| 에폭 6 |  반복 2301 / 9295 | 시간 2827[s] | 손실 1.67\n",
            "| 에폭 6 |  반복 2321 / 9295 | 시간 2828[s] | 손실 1.66\n",
            "| 에폭 6 |  반복 2341 / 9295 | 시간 2830[s] | 손실 1.67\n",
            "| 에폭 6 |  반복 2361 / 9295 | 시간 2831[s] | 손실 1.65\n",
            "| 에폭 6 |  반복 2381 / 9295 | 시간 2832[s] | 손실 1.67\n",
            "| 에폭 6 |  반복 2401 / 9295 | 시간 2833[s] | 손실 1.66\n",
            "| 에폭 6 |  반복 2421 / 9295 | 시간 2834[s] | 손실 1.67\n",
            "| 에폭 6 |  반복 2441 / 9295 | 시간 2835[s] | 손실 1.65\n",
            "| 에폭 6 |  반복 2461 / 9295 | 시간 2837[s] | 손실 1.68\n",
            "| 에폭 6 |  반복 2481 / 9295 | 시간 2838[s] | 손실 1.60\n",
            "| 에폭 6 |  반복 2501 / 9295 | 시간 2839[s] | 손실 1.62\n",
            "| 에폭 6 |  반복 2521 / 9295 | 시간 2840[s] | 손실 1.62\n",
            "| 에폭 6 |  반복 2541 / 9295 | 시간 2841[s] | 손실 1.63\n",
            "| 에폭 6 |  반복 2561 / 9295 | 시간 2842[s] | 손실 1.61\n",
            "| 에폭 6 |  반복 2581 / 9295 | 시간 2844[s] | 손실 1.63\n",
            "| 에폭 6 |  반복 2601 / 9295 | 시간 2845[s] | 손실 1.61\n",
            "| 에폭 6 |  반복 2621 / 9295 | 시간 2846[s] | 손실 1.65\n",
            "| 에폭 6 |  반복 2641 / 9295 | 시간 2847[s] | 손실 1.67\n",
            "| 에폭 6 |  반복 2661 / 9295 | 시간 2848[s] | 손실 1.67\n",
            "| 에폭 6 |  반복 2681 / 9295 | 시간 2849[s] | 손실 1.62\n",
            "| 에폭 6 |  반복 2701 / 9295 | 시간 2851[s] | 손실 1.64\n",
            "| 에폭 6 |  반복 2721 / 9295 | 시간 2852[s] | 손실 1.67\n",
            "| 에폭 6 |  반복 2741 / 9295 | 시간 2853[s] | 손실 1.70\n",
            "| 에폭 6 |  반복 2761 / 9295 | 시간 2854[s] | 손실 1.64\n",
            "| 에폭 6 |  반복 2781 / 9295 | 시간 2855[s] | 손실 1.68\n",
            "| 에폭 6 |  반복 2801 / 9295 | 시간 2856[s] | 손실 1.64\n",
            "| 에폭 6 |  반복 2821 / 9295 | 시간 2858[s] | 손실 1.61\n",
            "| 에폭 6 |  반복 2841 / 9295 | 시간 2859[s] | 손실 1.63\n",
            "| 에폭 6 |  반복 2861 / 9295 | 시간 2860[s] | 손실 1.62\n",
            "| 에폭 6 |  반복 2881 / 9295 | 시간 2861[s] | 손실 1.66\n",
            "| 에폭 6 |  반복 2901 / 9295 | 시간 2862[s] | 손실 1.65\n",
            "| 에폭 6 |  반복 2921 / 9295 | 시간 2863[s] | 손실 1.67\n",
            "| 에폭 6 |  반복 2941 / 9295 | 시간 2864[s] | 손실 1.65\n",
            "| 에폭 6 |  반복 2961 / 9295 | 시간 2866[s] | 손실 1.62\n",
            "| 에폭 6 |  반복 2981 / 9295 | 시간 2867[s] | 손실 1.67\n",
            "| 에폭 6 |  반복 3001 / 9295 | 시간 2868[s] | 손실 1.67\n",
            "| 에폭 6 |  반복 3021 / 9295 | 시간 2869[s] | 손실 1.63\n",
            "| 에폭 6 |  반복 3041 / 9295 | 시간 2870[s] | 손실 1.64\n",
            "| 에폭 6 |  반복 3061 / 9295 | 시간 2871[s] | 손실 1.67\n",
            "| 에폭 6 |  반복 3081 / 9295 | 시간 2873[s] | 손실 1.61\n",
            "| 에폭 6 |  반복 3101 / 9295 | 시간 2874[s] | 손실 1.66\n",
            "| 에폭 6 |  반복 3121 / 9295 | 시간 2875[s] | 손실 1.65\n",
            "| 에폭 6 |  반복 3141 / 9295 | 시간 2876[s] | 손실 1.65\n",
            "| 에폭 6 |  반복 3161 / 9295 | 시간 2877[s] | 손실 1.62\n",
            "| 에폭 6 |  반복 3181 / 9295 | 시간 2878[s] | 손실 1.67\n",
            "| 에폭 6 |  반복 3201 / 9295 | 시간 2880[s] | 손실 1.65\n",
            "| 에폭 6 |  반복 3221 / 9295 | 시간 2881[s] | 손실 1.62\n",
            "| 에폭 6 |  반복 3241 / 9295 | 시간 2882[s] | 손실 1.67\n",
            "| 에폭 6 |  반복 3261 / 9295 | 시간 2883[s] | 손실 1.66\n",
            "| 에폭 6 |  반복 3281 / 9295 | 시간 2884[s] | 손실 1.62\n",
            "| 에폭 6 |  반복 3301 / 9295 | 시간 2885[s] | 손실 1.65\n",
            "| 에폭 6 |  반복 3321 / 9295 | 시간 2887[s] | 손실 1.65\n",
            "| 에폭 6 |  반복 3341 / 9295 | 시간 2888[s] | 손실 1.66\n",
            "| 에폭 6 |  반복 3361 / 9295 | 시간 2889[s] | 손실 1.65\n",
            "| 에폭 6 |  반복 3381 / 9295 | 시간 2890[s] | 손실 1.66\n",
            "| 에폭 6 |  반복 3401 / 9295 | 시간 2891[s] | 손실 1.65\n",
            "| 에폭 6 |  반복 3421 / 9295 | 시간 2892[s] | 손실 1.66\n",
            "| 에폭 6 |  반복 3441 / 9295 | 시간 2893[s] | 손실 1.66\n",
            "| 에폭 6 |  반복 3461 / 9295 | 시간 2895[s] | 손실 1.66\n",
            "| 에폭 6 |  반복 3481 / 9295 | 시간 2896[s] | 손실 1.66\n",
            "| 에폭 6 |  반복 3501 / 9295 | 시간 2897[s] | 손실 1.64\n",
            "| 에폭 6 |  반복 3521 / 9295 | 시간 2898[s] | 손실 1.65\n",
            "| 에폭 6 |  반복 3541 / 9295 | 시간 2899[s] | 손실 1.63\n",
            "| 에폭 6 |  반복 3561 / 9295 | 시간 2900[s] | 손실 1.66\n",
            "| 에폭 6 |  반복 3581 / 9295 | 시간 2902[s] | 손실 1.68\n",
            "| 에폭 6 |  반복 3601 / 9295 | 시간 2903[s] | 손실 1.64\n",
            "| 에폭 6 |  반복 3621 / 9295 | 시간 2904[s] | 손실 1.63\n",
            "| 에폭 6 |  반복 3641 / 9295 | 시간 2905[s] | 손실 1.63\n",
            "| 에폭 6 |  반복 3661 / 9295 | 시간 2906[s] | 손실 1.64\n",
            "| 에폭 6 |  반복 3681 / 9295 | 시간 2907[s] | 손실 1.62\n",
            "| 에폭 6 |  반복 3701 / 9295 | 시간 2909[s] | 손실 1.67\n",
            "| 에폭 6 |  반복 3721 / 9295 | 시간 2910[s] | 손실 1.68\n",
            "| 에폭 6 |  반복 3741 / 9295 | 시간 2911[s] | 손실 1.71\n",
            "| 에폭 6 |  반복 3761 / 9295 | 시간 2912[s] | 손실 1.61\n",
            "| 에폭 6 |  반복 3781 / 9295 | 시간 2913[s] | 손실 1.62\n",
            "| 에폭 6 |  반복 3801 / 9295 | 시간 2914[s] | 손실 1.66\n",
            "| 에폭 6 |  반복 3821 / 9295 | 시간 2915[s] | 손실 1.72\n",
            "| 에폭 6 |  반복 3841 / 9295 | 시간 2917[s] | 손실 1.64\n",
            "| 에폭 6 |  반복 3861 / 9295 | 시간 2918[s] | 손실 1.63\n",
            "| 에폭 6 |  반복 3881 / 9295 | 시간 2919[s] | 손실 1.65\n",
            "| 에폭 6 |  반복 3901 / 9295 | 시간 2920[s] | 손실 1.66\n",
            "| 에폭 6 |  반복 3921 / 9295 | 시간 2921[s] | 손실 1.66\n",
            "| 에폭 6 |  반복 3941 / 9295 | 시간 2922[s] | 손실 1.66\n",
            "| 에폭 6 |  반복 3961 / 9295 | 시간 2924[s] | 손실 1.68\n",
            "| 에폭 6 |  반복 3981 / 9295 | 시간 2925[s] | 손실 1.62\n",
            "| 에폭 6 |  반복 4001 / 9295 | 시간 2926[s] | 손실 1.65\n",
            "| 에폭 6 |  반복 4021 / 9295 | 시간 2927[s] | 손실 1.64\n",
            "| 에폭 6 |  반복 4041 / 9295 | 시간 2928[s] | 손실 1.66\n",
            "| 에폭 6 |  반복 4061 / 9295 | 시간 2929[s] | 손실 1.64\n",
            "| 에폭 6 |  반복 4081 / 9295 | 시간 2930[s] | 손실 1.65\n",
            "| 에폭 6 |  반복 4101 / 9295 | 시간 2932[s] | 손실 1.62\n",
            "| 에폭 6 |  반복 4121 / 9295 | 시간 2933[s] | 손실 1.65\n",
            "| 에폭 6 |  반복 4141 / 9295 | 시간 2934[s] | 손실 1.64\n",
            "| 에폭 6 |  반복 4161 / 9295 | 시간 2935[s] | 손실 1.65\n",
            "| 에폭 6 |  반복 4181 / 9295 | 시간 2936[s] | 손실 1.65\n",
            "| 에폭 6 |  반복 4201 / 9295 | 시간 2937[s] | 손실 1.68\n",
            "| 에폭 6 |  반복 4221 / 9295 | 시간 2939[s] | 손실 1.65\n",
            "| 에폭 6 |  반복 4241 / 9295 | 시간 2940[s] | 손실 1.68\n",
            "| 에폭 6 |  반복 4261 / 9295 | 시간 2941[s] | 손실 1.63\n",
            "| 에폭 6 |  반복 4281 / 9295 | 시간 2942[s] | 손실 1.66\n",
            "| 에폭 6 |  반복 4301 / 9295 | 시간 2943[s] | 손실 1.63\n",
            "| 에폭 6 |  반복 4321 / 9295 | 시간 2944[s] | 손실 1.68\n",
            "| 에폭 6 |  반복 4341 / 9295 | 시간 2946[s] | 손실 1.65\n",
            "| 에폭 6 |  반복 4361 / 9295 | 시간 2947[s] | 손실 1.67\n",
            "| 에폭 6 |  반복 4381 / 9295 | 시간 2948[s] | 손실 1.70\n",
            "| 에폭 6 |  반복 4401 / 9295 | 시간 2949[s] | 손실 1.67\n",
            "| 에폭 6 |  반복 4421 / 9295 | 시간 2950[s] | 손실 1.66\n",
            "| 에폭 6 |  반복 4441 / 9295 | 시간 2951[s] | 손실 1.65\n",
            "| 에폭 6 |  반복 4461 / 9295 | 시간 2953[s] | 손실 1.65\n",
            "| 에폭 6 |  반복 4481 / 9295 | 시간 2954[s] | 손실 1.63\n",
            "| 에폭 6 |  반복 4501 / 9295 | 시간 2955[s] | 손실 1.63\n",
            "| 에폭 6 |  반복 4521 / 9295 | 시간 2956[s] | 손실 1.63\n",
            "| 에폭 6 |  반복 4541 / 9295 | 시간 2957[s] | 손실 1.69\n",
            "| 에폭 6 |  반복 4561 / 9295 | 시간 2958[s] | 손실 1.67\n",
            "| 에폭 6 |  반복 4581 / 9295 | 시간 2959[s] | 손실 1.69\n",
            "| 에폭 6 |  반복 4601 / 9295 | 시간 2961[s] | 손실 1.65\n",
            "| 에폭 6 |  반복 4621 / 9295 | 시간 2962[s] | 손실 1.65\n",
            "| 에폭 6 |  반복 4641 / 9295 | 시간 2963[s] | 손실 1.64\n",
            "| 에폭 6 |  반복 4661 / 9295 | 시간 2964[s] | 손실 1.69\n",
            "| 에폭 6 |  반복 4681 / 9295 | 시간 2965[s] | 손실 1.62\n",
            "| 에폭 6 |  반복 4701 / 9295 | 시간 2966[s] | 손실 1.63\n",
            "| 에폭 6 |  반복 4721 / 9295 | 시간 2967[s] | 손실 1.69\n",
            "| 에폭 6 |  반복 4741 / 9295 | 시간 2969[s] | 손실 1.65\n",
            "| 에폭 6 |  반복 4761 / 9295 | 시간 2970[s] | 손실 1.66\n",
            "| 에폭 6 |  반복 4781 / 9295 | 시간 2971[s] | 손실 1.65\n",
            "| 에폭 6 |  반복 4801 / 9295 | 시간 2972[s] | 손실 1.63\n",
            "| 에폭 6 |  반복 4821 / 9295 | 시간 2973[s] | 손실 1.64\n",
            "| 에폭 6 |  반복 4841 / 9295 | 시간 2974[s] | 손실 1.66\n",
            "| 에폭 6 |  반복 4861 / 9295 | 시간 2976[s] | 손실 1.66\n",
            "| 에폭 6 |  반복 4881 / 9295 | 시간 2977[s] | 손실 1.64\n",
            "| 에폭 6 |  반복 4901 / 9295 | 시간 2978[s] | 손실 1.61\n",
            "| 에폭 6 |  반복 4921 / 9295 | 시간 2979[s] | 손실 1.63\n",
            "| 에폭 6 |  반복 4941 / 9295 | 시간 2980[s] | 손실 1.67\n",
            "| 에폭 6 |  반복 4961 / 9295 | 시간 2981[s] | 손실 1.66\n",
            "| 에폭 6 |  반복 4981 / 9295 | 시간 2983[s] | 손실 1.70\n",
            "| 에폭 6 |  반복 5001 / 9295 | 시간 2984[s] | 손실 1.63\n",
            "| 에폭 6 |  반복 5021 / 9295 | 시간 2985[s] | 손실 1.64\n",
            "| 에폭 6 |  반복 5041 / 9295 | 시간 2986[s] | 손실 1.70\n",
            "| 에폭 6 |  반복 5061 / 9295 | 시간 2987[s] | 손실 1.67\n",
            "| 에폭 6 |  반복 5081 / 9295 | 시간 2988[s] | 손실 1.65\n",
            "| 에폭 6 |  반복 5101 / 9295 | 시간 2990[s] | 손실 1.65\n",
            "| 에폭 6 |  반복 5121 / 9295 | 시간 2991[s] | 손실 1.65\n",
            "| 에폭 6 |  반복 5141 / 9295 | 시간 2992[s] | 손실 1.62\n",
            "| 에폭 6 |  반복 5161 / 9295 | 시간 2993[s] | 손실 1.66\n",
            "| 에폭 6 |  반복 5181 / 9295 | 시간 2994[s] | 손실 1.66\n",
            "| 에폭 6 |  반복 5201 / 9295 | 시간 2995[s] | 손실 1.64\n",
            "| 에폭 6 |  반복 5221 / 9295 | 시간 2996[s] | 손실 1.67\n",
            "| 에폭 6 |  반복 5241 / 9295 | 시간 2998[s] | 손실 1.62\n",
            "| 에폭 6 |  반복 5261 / 9295 | 시간 2999[s] | 손실 1.66\n",
            "| 에폭 6 |  반복 5281 / 9295 | 시간 3000[s] | 손실 1.56\n",
            "| 에폭 6 |  반복 5301 / 9295 | 시간 3001[s] | 손실 1.60\n",
            "| 에폭 6 |  반복 5321 / 9295 | 시간 3002[s] | 손실 1.66\n",
            "| 에폭 6 |  반복 5341 / 9295 | 시간 3003[s] | 손실 1.63\n",
            "| 에폭 6 |  반복 5361 / 9295 | 시간 3005[s] | 손실 1.61\n",
            "| 에폭 6 |  반복 5381 / 9295 | 시간 3006[s] | 손실 1.64\n",
            "| 에폭 6 |  반복 5401 / 9295 | 시간 3007[s] | 손실 1.69\n",
            "| 에폭 6 |  반복 5421 / 9295 | 시간 3008[s] | 손실 1.65\n",
            "| 에폭 6 |  반복 5441 / 9295 | 시간 3009[s] | 손실 1.66\n",
            "| 에폭 6 |  반복 5461 / 9295 | 시간 3010[s] | 손실 1.64\n",
            "| 에폭 6 |  반복 5481 / 9295 | 시간 3012[s] | 손실 1.65\n",
            "| 에폭 6 |  반복 5501 / 9295 | 시간 3013[s] | 손실 1.70\n",
            "| 에폭 6 |  반복 5521 / 9295 | 시간 3014[s] | 손실 1.66\n",
            "| 에폭 6 |  반복 5541 / 9295 | 시간 3015[s] | 손실 1.64\n",
            "| 에폭 6 |  반복 5561 / 9295 | 시간 3016[s] | 손실 1.64\n",
            "| 에폭 6 |  반복 5581 / 9295 | 시간 3017[s] | 손실 1.59\n",
            "| 에폭 6 |  반복 5601 / 9295 | 시간 3019[s] | 손실 1.65\n",
            "| 에폭 6 |  반복 5621 / 9295 | 시간 3020[s] | 손실 1.65\n",
            "| 에폭 6 |  반복 5641 / 9295 | 시간 3021[s] | 손실 1.64\n",
            "| 에폭 6 |  반복 5661 / 9295 | 시간 3022[s] | 손실 1.65\n",
            "| 에폭 6 |  반복 5681 / 9295 | 시간 3023[s] | 손실 1.63\n",
            "| 에폭 6 |  반복 5701 / 9295 | 시간 3024[s] | 손실 1.64\n",
            "| 에폭 6 |  반복 5721 / 9295 | 시간 3026[s] | 손실 1.64\n",
            "| 에폭 6 |  반복 5741 / 9295 | 시간 3027[s] | 손실 1.67\n",
            "| 에폭 6 |  반복 5761 / 9295 | 시간 3028[s] | 손실 1.66\n",
            "| 에폭 6 |  반복 5781 / 9295 | 시간 3029[s] | 손실 1.67\n",
            "| 에폭 6 |  반복 5801 / 9295 | 시간 3030[s] | 손실 1.65\n",
            "| 에폭 6 |  반복 5821 / 9295 | 시간 3032[s] | 손실 1.65\n",
            "| 에폭 6 |  반복 5841 / 9295 | 시간 3033[s] | 손실 1.67\n",
            "| 에폭 6 |  반복 5861 / 9295 | 시간 3034[s] | 손실 1.67\n",
            "| 에폭 6 |  반복 5881 / 9295 | 시간 3035[s] | 손실 1.65\n",
            "| 에폭 6 |  반복 5901 / 9295 | 시간 3036[s] | 손실 1.67\n",
            "| 에폭 6 |  반복 5921 / 9295 | 시간 3037[s] | 손실 1.63\n",
            "| 에폭 6 |  반복 5941 / 9295 | 시간 3039[s] | 손실 1.69\n",
            "| 에폭 6 |  반복 5961 / 9295 | 시간 3040[s] | 손실 1.67\n",
            "| 에폭 6 |  반복 5981 / 9295 | 시간 3041[s] | 손실 1.65\n",
            "| 에폭 6 |  반복 6001 / 9295 | 시간 3042[s] | 손실 1.64\n",
            "| 에폭 6 |  반복 6021 / 9295 | 시간 3043[s] | 손실 1.65\n",
            "| 에폭 6 |  반복 6041 / 9295 | 시간 3044[s] | 손실 1.63\n",
            "| 에폭 6 |  반복 6061 / 9295 | 시간 3045[s] | 손실 1.67\n",
            "| 에폭 6 |  반복 6081 / 9295 | 시간 3047[s] | 손실 1.63\n",
            "| 에폭 6 |  반복 6101 / 9295 | 시간 3048[s] | 손실 1.67\n",
            "| 에폭 6 |  반복 6121 / 9295 | 시간 3049[s] | 손실 1.66\n",
            "| 에폭 6 |  반복 6141 / 9295 | 시간 3050[s] | 손실 1.68\n",
            "| 에폭 6 |  반복 6161 / 9295 | 시간 3051[s] | 손실 1.65\n",
            "| 에폭 6 |  반복 6181 / 9295 | 시간 3052[s] | 손실 1.63\n",
            "| 에폭 6 |  반복 6201 / 9295 | 시간 3054[s] | 손실 1.70\n",
            "| 에폭 6 |  반복 6221 / 9295 | 시간 3055[s] | 손실 1.65\n",
            "| 에폭 6 |  반복 6241 / 9295 | 시간 3056[s] | 손실 1.64\n",
            "| 에폭 6 |  반복 6261 / 9295 | 시간 3057[s] | 손실 1.70\n",
            "| 에폭 6 |  반복 6281 / 9295 | 시간 3058[s] | 손실 1.63\n",
            "| 에폭 6 |  반복 6301 / 9295 | 시간 3059[s] | 손실 1.61\n",
            "| 에폭 6 |  반복 6321 / 9295 | 시간 3060[s] | 손실 1.62\n",
            "| 에폭 6 |  반복 6341 / 9295 | 시간 3062[s] | 손실 1.66\n",
            "| 에폭 6 |  반복 6361 / 9295 | 시간 3063[s] | 손실 1.61\n",
            "| 에폭 6 |  반복 6381 / 9295 | 시간 3064[s] | 손실 1.62\n",
            "| 에폭 6 |  반복 6401 / 9295 | 시간 3065[s] | 손실 1.64\n",
            "| 에폭 6 |  반복 6421 / 9295 | 시간 3066[s] | 손실 1.63\n",
            "| 에폭 6 |  반복 6441 / 9295 | 시간 3067[s] | 손실 1.65\n",
            "| 에폭 6 |  반복 6461 / 9295 | 시간 3068[s] | 손실 1.63\n",
            "| 에폭 6 |  반복 6481 / 9295 | 시간 3070[s] | 손실 1.67\n",
            "| 에폭 6 |  반복 6501 / 9295 | 시간 3071[s] | 손실 1.63\n",
            "| 에폭 6 |  반복 6521 / 9295 | 시간 3072[s] | 손실 1.62\n",
            "| 에폭 6 |  반복 6541 / 9295 | 시간 3073[s] | 손실 1.65\n",
            "| 에폭 6 |  반복 6561 / 9295 | 시간 3074[s] | 손실 1.65\n",
            "| 에폭 6 |  반복 6581 / 9295 | 시간 3075[s] | 손실 1.65\n",
            "| 에폭 6 |  반복 6601 / 9295 | 시간 3077[s] | 손실 1.67\n",
            "| 에폭 6 |  반복 6621 / 9295 | 시간 3078[s] | 손실 1.68\n",
            "| 에폭 6 |  반복 6641 / 9295 | 시간 3079[s] | 손실 1.70\n",
            "| 에폭 6 |  반복 6661 / 9295 | 시간 3080[s] | 손실 1.67\n",
            "| 에폭 6 |  반복 6681 / 9295 | 시간 3081[s] | 손실 1.68\n",
            "| 에폭 6 |  반복 6701 / 9295 | 시간 3082[s] | 손실 1.66\n",
            "| 에폭 6 |  반복 6721 / 9295 | 시간 3083[s] | 손실 1.67\n",
            "| 에폭 6 |  반복 6741 / 9295 | 시간 3085[s] | 손실 1.64\n",
            "| 에폭 6 |  반복 6761 / 9295 | 시간 3086[s] | 손실 1.67\n",
            "| 에폭 6 |  반복 6781 / 9295 | 시간 3087[s] | 손실 1.63\n",
            "| 에폭 6 |  반복 6801 / 9295 | 시간 3088[s] | 손실 1.63\n",
            "| 에폭 6 |  반복 6821 / 9295 | 시간 3089[s] | 손실 1.64\n",
            "| 에폭 6 |  반복 6841 / 9295 | 시간 3090[s] | 손실 1.63\n",
            "| 에폭 6 |  반복 6861 / 9295 | 시간 3092[s] | 손실 1.66\n",
            "| 에폭 6 |  반복 6881 / 9295 | 시간 3093[s] | 손실 1.67\n",
            "| 에폭 6 |  반복 6901 / 9295 | 시간 3094[s] | 손실 1.64\n",
            "| 에폭 6 |  반복 6921 / 9295 | 시간 3095[s] | 손실 1.64\n",
            "| 에폭 6 |  반복 6941 / 9295 | 시간 3096[s] | 손실 1.64\n",
            "| 에폭 6 |  반복 6961 / 9295 | 시간 3097[s] | 손실 1.65\n",
            "| 에폭 6 |  반복 6981 / 9295 | 시간 3098[s] | 손실 1.64\n",
            "| 에폭 6 |  반복 7001 / 9295 | 시간 3100[s] | 손실 1.66\n",
            "| 에폭 6 |  반복 7021 / 9295 | 시간 3101[s] | 손실 1.62\n",
            "| 에폭 6 |  반복 7041 / 9295 | 시간 3102[s] | 손실 1.66\n",
            "| 에폭 6 |  반복 7061 / 9295 | 시간 3103[s] | 손실 1.67\n",
            "| 에폭 6 |  반복 7081 / 9295 | 시간 3104[s] | 손실 1.67\n",
            "| 에폭 6 |  반복 7101 / 9295 | 시간 3105[s] | 손실 1.65\n",
            "| 에폭 6 |  반복 7121 / 9295 | 시간 3107[s] | 손실 1.66\n",
            "| 에폭 6 |  반복 7141 / 9295 | 시간 3108[s] | 손실 1.65\n",
            "| 에폭 6 |  반복 7161 / 9295 | 시간 3109[s] | 손실 1.65\n",
            "| 에폭 6 |  반복 7181 / 9295 | 시간 3110[s] | 손실 1.65\n",
            "| 에폭 6 |  반복 7201 / 9295 | 시간 3111[s] | 손실 1.64\n",
            "| 에폭 6 |  반복 7221 / 9295 | 시간 3112[s] | 손실 1.63\n",
            "| 에폭 6 |  반복 7241 / 9295 | 시간 3114[s] | 손실 1.64\n",
            "| 에폭 6 |  반복 7261 / 9295 | 시간 3115[s] | 손실 1.63\n",
            "| 에폭 6 |  반복 7281 / 9295 | 시간 3116[s] | 손실 1.66\n",
            "| 에폭 6 |  반복 7301 / 9295 | 시간 3117[s] | 손실 1.67\n",
            "| 에폭 6 |  반복 7321 / 9295 | 시간 3118[s] | 손실 1.68\n",
            "| 에폭 6 |  반복 7341 / 9295 | 시간 3119[s] | 손실 1.66\n",
            "| 에폭 6 |  반복 7361 / 9295 | 시간 3120[s] | 손실 1.67\n",
            "| 에폭 6 |  반복 7381 / 9295 | 시간 3122[s] | 손실 1.63\n",
            "| 에폭 6 |  반복 7401 / 9295 | 시간 3123[s] | 손실 1.66\n",
            "| 에폭 6 |  반복 7421 / 9295 | 시간 3124[s] | 손실 1.66\n",
            "| 에폭 6 |  반복 7441 / 9295 | 시간 3125[s] | 손실 1.65\n",
            "| 에폭 6 |  반복 7461 / 9295 | 시간 3126[s] | 손실 1.65\n",
            "| 에폭 6 |  반복 7481 / 9295 | 시간 3127[s] | 손실 1.65\n",
            "| 에폭 6 |  반복 7501 / 9295 | 시간 3128[s] | 손실 1.64\n",
            "| 에폭 6 |  반복 7521 / 9295 | 시간 3130[s] | 손실 1.68\n",
            "| 에폭 6 |  반복 7541 / 9295 | 시간 3131[s] | 손실 1.64\n",
            "| 에폭 6 |  반복 7561 / 9295 | 시간 3132[s] | 손실 1.66\n",
            "| 에폭 6 |  반복 7581 / 9295 | 시간 3133[s] | 손실 1.64\n",
            "| 에폭 6 |  반복 7601 / 9295 | 시간 3134[s] | 손실 1.67\n",
            "| 에폭 6 |  반복 7621 / 9295 | 시간 3135[s] | 손실 1.65\n",
            "| 에폭 6 |  반복 7641 / 9295 | 시간 3137[s] | 손실 1.65\n",
            "| 에폭 6 |  반복 7661 / 9295 | 시간 3138[s] | 손실 1.61\n",
            "| 에폭 6 |  반복 7681 / 9295 | 시간 3139[s] | 손실 1.61\n",
            "| 에폭 6 |  반복 7701 / 9295 | 시간 3140[s] | 손실 1.59\n",
            "| 에폭 6 |  반복 7721 / 9295 | 시간 3141[s] | 손실 1.64\n",
            "| 에폭 6 |  반복 7741 / 9295 | 시간 3142[s] | 손실 1.67\n",
            "| 에폭 6 |  반복 7761 / 9295 | 시간 3143[s] | 손실 1.68\n",
            "| 에폭 6 |  반복 7781 / 9295 | 시간 3145[s] | 손실 1.66\n",
            "| 에폭 6 |  반복 7801 / 9295 | 시간 3146[s] | 손실 1.64\n",
            "| 에폭 6 |  반복 7821 / 9295 | 시간 3147[s] | 손실 1.64\n",
            "| 에폭 6 |  반복 7841 / 9295 | 시간 3148[s] | 손실 1.66\n",
            "| 에폭 6 |  반복 7861 / 9295 | 시간 3149[s] | 손실 1.66\n",
            "| 에폭 6 |  반복 7881 / 9295 | 시간 3150[s] | 손실 1.64\n",
            "| 에폭 6 |  반복 7901 / 9295 | 시간 3152[s] | 손실 1.66\n",
            "| 에폭 6 |  반복 7921 / 9295 | 시간 3153[s] | 손실 1.63\n",
            "| 에폭 6 |  반복 7941 / 9295 | 시간 3154[s] | 손실 1.67\n",
            "| 에폭 6 |  반복 7961 / 9295 | 시간 3155[s] | 손실 1.64\n",
            "| 에폭 6 |  반복 7981 / 9295 | 시간 3156[s] | 손실 1.66\n",
            "| 에폭 6 |  반복 8001 / 9295 | 시간 3157[s] | 손실 1.67\n",
            "| 에폭 6 |  반복 8021 / 9295 | 시간 3159[s] | 손실 1.64\n",
            "| 에폭 6 |  반복 8041 / 9295 | 시간 3160[s] | 손실 1.62\n",
            "| 에폭 6 |  반복 8061 / 9295 | 시간 3161[s] | 손실 1.63\n",
            "| 에폭 6 |  반복 8081 / 9295 | 시간 3162[s] | 손실 1.67\n",
            "| 에폭 6 |  반복 8101 / 9295 | 시간 3163[s] | 손실 1.64\n",
            "| 에폭 6 |  반복 8121 / 9295 | 시간 3164[s] | 손실 1.67\n",
            "| 에폭 6 |  반복 8141 / 9295 | 시간 3165[s] | 손실 1.65\n",
            "| 에폭 6 |  반복 8161 / 9295 | 시간 3167[s] | 손실 1.69\n",
            "| 에폭 6 |  반복 8181 / 9295 | 시간 3168[s] | 손실 1.60\n",
            "| 에폭 6 |  반복 8201 / 9295 | 시간 3169[s] | 손실 1.68\n",
            "| 에폭 6 |  반복 8221 / 9295 | 시간 3170[s] | 손실 1.67\n",
            "| 에폭 6 |  반복 8241 / 9295 | 시간 3171[s] | 손실 1.66\n",
            "| 에폭 6 |  반복 8261 / 9295 | 시간 3172[s] | 손실 1.64\n",
            "| 에폭 6 |  반복 8281 / 9295 | 시간 3174[s] | 손실 1.69\n",
            "| 에폭 6 |  반복 8301 / 9295 | 시간 3175[s] | 손실 1.65\n",
            "| 에폭 6 |  반복 8321 / 9295 | 시간 3176[s] | 손실 1.64\n",
            "| 에폭 6 |  반복 8341 / 9295 | 시간 3177[s] | 손실 1.67\n",
            "| 에폭 6 |  반복 8361 / 9295 | 시간 3178[s] | 손실 1.61\n",
            "| 에폭 6 |  반복 8381 / 9295 | 시간 3179[s] | 손실 1.71\n",
            "| 에폭 6 |  반복 8401 / 9295 | 시간 3180[s] | 손실 1.66\n",
            "| 에폭 6 |  반복 8421 / 9295 | 시간 3182[s] | 손실 1.64\n",
            "| 에폭 6 |  반복 8441 / 9295 | 시간 3183[s] | 손실 1.68\n",
            "| 에폭 6 |  반복 8461 / 9295 | 시간 3184[s] | 손실 1.66\n",
            "| 에폭 6 |  반복 8481 / 9295 | 시간 3185[s] | 손실 1.63\n",
            "| 에폭 6 |  반복 8501 / 9295 | 시간 3186[s] | 손실 1.65\n",
            "| 에폭 6 |  반복 8521 / 9295 | 시간 3187[s] | 손실 1.69\n",
            "| 에폭 6 |  반복 8541 / 9295 | 시간 3189[s] | 손실 1.65\n",
            "| 에폭 6 |  반복 8561 / 9295 | 시간 3190[s] | 손실 1.65\n",
            "| 에폭 6 |  반복 8581 / 9295 | 시간 3191[s] | 손실 1.65\n",
            "| 에폭 6 |  반복 8601 / 9295 | 시간 3192[s] | 손실 1.72\n",
            "| 에폭 6 |  반복 8621 / 9295 | 시간 3193[s] | 손실 1.67\n",
            "| 에폭 6 |  반복 8641 / 9295 | 시간 3194[s] | 손실 1.67\n",
            "| 에폭 6 |  반복 8661 / 9295 | 시간 3196[s] | 손실 1.66\n",
            "| 에폭 6 |  반복 8681 / 9295 | 시간 3197[s] | 손실 1.66\n",
            "| 에폭 6 |  반복 8701 / 9295 | 시간 3198[s] | 손실 1.64\n",
            "| 에폭 6 |  반복 8721 / 9295 | 시간 3199[s] | 손실 1.63\n",
            "| 에폭 6 |  반복 8741 / 9295 | 시간 3200[s] | 손실 1.68\n",
            "| 에폭 6 |  반복 8761 / 9295 | 시간 3201[s] | 손실 1.66\n",
            "| 에폭 6 |  반복 8781 / 9295 | 시간 3203[s] | 손실 1.62\n",
            "| 에폭 6 |  반복 8801 / 9295 | 시간 3204[s] | 손실 1.67\n",
            "| 에폭 6 |  반복 8821 / 9295 | 시간 3205[s] | 손실 1.61\n",
            "| 에폭 6 |  반복 8841 / 9295 | 시간 3206[s] | 손실 1.64\n",
            "| 에폭 6 |  반복 8861 / 9295 | 시간 3207[s] | 손실 1.64\n",
            "| 에폭 6 |  반복 8881 / 9295 | 시간 3208[s] | 손실 1.63\n",
            "| 에폭 6 |  반복 8901 / 9295 | 시간 3209[s] | 손실 1.66\n",
            "| 에폭 6 |  반복 8921 / 9295 | 시간 3211[s] | 손실 1.64\n",
            "| 에폭 6 |  반복 8941 / 9295 | 시간 3212[s] | 손실 1.69\n",
            "| 에폭 6 |  반복 8961 / 9295 | 시간 3213[s] | 손실 1.67\n",
            "| 에폭 6 |  반복 8981 / 9295 | 시간 3214[s] | 손실 1.64\n",
            "| 에폭 6 |  반복 9001 / 9295 | 시간 3215[s] | 손실 1.66\n",
            "| 에폭 6 |  반복 9021 / 9295 | 시간 3216[s] | 손실 1.68\n",
            "| 에폭 6 |  반복 9041 / 9295 | 시간 3218[s] | 손실 1.63\n",
            "| 에폭 6 |  반복 9061 / 9295 | 시간 3219[s] | 손실 1.69\n",
            "| 에폭 6 |  반복 9081 / 9295 | 시간 3220[s] | 손실 1.64\n",
            "| 에폭 6 |  반복 9101 / 9295 | 시간 3221[s] | 손실 1.69\n",
            "| 에폭 6 |  반복 9121 / 9295 | 시간 3222[s] | 손실 1.63\n",
            "| 에폭 6 |  반복 9141 / 9295 | 시간 3223[s] | 손실 1.64\n",
            "| 에폭 6 |  반복 9161 / 9295 | 시간 3225[s] | 손실 1.69\n",
            "| 에폭 6 |  반복 9181 / 9295 | 시간 3226[s] | 손실 1.63\n",
            "| 에폭 6 |  반복 9201 / 9295 | 시간 3227[s] | 손실 1.64\n",
            "| 에폭 6 |  반복 9221 / 9295 | 시간 3228[s] | 손실 1.65\n",
            "| 에폭 6 |  반복 9241 / 9295 | 시간 3229[s] | 손실 1.69\n",
            "| 에폭 6 |  반복 9261 / 9295 | 시간 3230[s] | 손실 1.64\n",
            "| 에폭 6 |  반복 9281 / 9295 | 시간 3231[s] | 손실 1.65\n",
            "| 에폭 7 |  반복 1 / 9295 | 시간 3232[s] | 손실 1.64\n",
            "| 에폭 7 |  반복 21 / 9295 | 시간 3234[s] | 손실 1.57\n",
            "| 에폭 7 |  반복 41 / 9295 | 시간 3235[s] | 손실 1.57\n",
            "| 에폭 7 |  반복 61 / 9295 | 시간 3236[s] | 손실 1.54\n",
            "| 에폭 7 |  반복 81 / 9295 | 시간 3237[s] | 손실 1.60\n",
            "| 에폭 7 |  반복 101 / 9295 | 시간 3238[s] | 손실 1.54\n",
            "| 에폭 7 |  반복 121 / 9295 | 시간 3239[s] | 손실 1.60\n",
            "| 에폭 7 |  반복 141 / 9295 | 시간 3240[s] | 손실 1.61\n",
            "| 에폭 7 |  반복 161 / 9295 | 시간 3242[s] | 손실 1.62\n",
            "| 에폭 7 |  반복 181 / 9295 | 시간 3243[s] | 손실 1.60\n",
            "| 에폭 7 |  반복 201 / 9295 | 시간 3244[s] | 손실 1.58\n",
            "| 에폭 7 |  반복 221 / 9295 | 시간 3245[s] | 손실 1.57\n",
            "| 에폭 7 |  반복 241 / 9295 | 시간 3246[s] | 손실 1.59\n",
            "| 에폭 7 |  반복 261 / 9295 | 시간 3247[s] | 손실 1.55\n",
            "| 에폭 7 |  반복 281 / 9295 | 시간 3248[s] | 손실 1.55\n",
            "| 에폭 7 |  반복 301 / 9295 | 시간 3250[s] | 손실 1.58\n",
            "| 에폭 7 |  반복 321 / 9295 | 시간 3251[s] | 손실 1.57\n",
            "| 에폭 7 |  반복 341 / 9295 | 시간 3252[s] | 손실 1.55\n",
            "| 에폭 7 |  반복 361 / 9295 | 시간 3253[s] | 손실 1.58\n",
            "| 에폭 7 |  반복 381 / 9295 | 시간 3254[s] | 손실 1.56\n",
            "| 에폭 7 |  반복 401 / 9295 | 시간 3255[s] | 손실 1.59\n",
            "| 에폭 7 |  반복 421 / 9295 | 시간 3256[s] | 손실 1.57\n",
            "| 에폭 7 |  반복 441 / 9295 | 시간 3258[s] | 손실 1.53\n",
            "| 에폭 7 |  반복 461 / 9295 | 시간 3259[s] | 손실 1.58\n",
            "| 에폭 7 |  반복 481 / 9295 | 시간 3260[s] | 손실 1.58\n",
            "| 에폭 7 |  반복 501 / 9295 | 시간 3261[s] | 손실 1.53\n",
            "| 에폭 7 |  반복 521 / 9295 | 시간 3262[s] | 손실 1.54\n",
            "| 에폭 7 |  반복 541 / 9295 | 시간 3263[s] | 손실 1.56\n",
            "| 에폭 7 |  반복 561 / 9295 | 시간 3265[s] | 손실 1.59\n",
            "| 에폭 7 |  반복 581 / 9295 | 시간 3266[s] | 손실 1.59\n",
            "| 에폭 7 |  반복 601 / 9295 | 시간 3267[s] | 손실 1.53\n",
            "| 에폭 7 |  반복 621 / 9295 | 시간 3268[s] | 손실 1.59\n",
            "| 에폭 7 |  반복 641 / 9295 | 시간 3269[s] | 손실 1.55\n",
            "| 에폭 7 |  반복 661 / 9295 | 시간 3270[s] | 손실 1.59\n",
            "| 에폭 7 |  반복 681 / 9295 | 시간 3271[s] | 손실 1.57\n",
            "| 에폭 7 |  반복 701 / 9295 | 시간 3273[s] | 손실 1.60\n",
            "| 에폭 7 |  반복 721 / 9295 | 시간 3274[s] | 손실 1.57\n",
            "| 에폭 7 |  반복 741 / 9295 | 시간 3275[s] | 손실 1.61\n",
            "| 에폭 7 |  반복 761 / 9295 | 시간 3276[s] | 손실 1.58\n",
            "| 에폭 7 |  반복 781 / 9295 | 시간 3277[s] | 손실 1.60\n",
            "| 에폭 7 |  반복 801 / 9295 | 시간 3278[s] | 손실 1.59\n",
            "| 에폭 7 |  반복 821 / 9295 | 시간 3280[s] | 손실 1.59\n",
            "| 에폭 7 |  반복 841 / 9295 | 시간 3281[s] | 손실 1.58\n",
            "| 에폭 7 |  반복 861 / 9295 | 시간 3282[s] | 손실 1.56\n",
            "| 에폭 7 |  반복 881 / 9295 | 시간 3283[s] | 손실 1.59\n",
            "| 에폭 7 |  반복 901 / 9295 | 시간 3284[s] | 손실 1.57\n",
            "| 에폭 7 |  반복 921 / 9295 | 시간 3285[s] | 손실 1.61\n",
            "| 에폭 7 |  반복 941 / 9295 | 시간 3286[s] | 손실 1.59\n",
            "| 에폭 7 |  반복 961 / 9295 | 시간 3288[s] | 손실 1.58\n",
            "| 에폭 7 |  반복 981 / 9295 | 시간 3289[s] | 손실 1.60\n",
            "| 에폭 7 |  반복 1001 / 9295 | 시간 3290[s] | 손실 1.58\n",
            "| 에폭 7 |  반복 1021 / 9295 | 시간 3291[s] | 손실 1.58\n",
            "| 에폭 7 |  반복 1041 / 9295 | 시간 3292[s] | 손실 1.57\n",
            "| 에폭 7 |  반복 1061 / 9295 | 시간 3293[s] | 손실 1.55\n",
            "| 에폭 7 |  반복 1081 / 9295 | 시간 3294[s] | 손실 1.59\n",
            "| 에폭 7 |  반복 1101 / 9295 | 시간 3296[s] | 손실 1.57\n",
            "| 에폭 7 |  반복 1121 / 9295 | 시간 3297[s] | 손실 1.59\n",
            "| 에폭 7 |  반복 1141 / 9295 | 시간 3298[s] | 손실 1.56\n",
            "| 에폭 7 |  반복 1161 / 9295 | 시간 3299[s] | 손실 1.59\n",
            "| 에폭 7 |  반복 1181 / 9295 | 시간 3300[s] | 손실 1.59\n",
            "| 에폭 7 |  반복 1201 / 9295 | 시간 3301[s] | 손실 1.56\n",
            "| 에폭 7 |  반복 1221 / 9295 | 시간 3303[s] | 손실 1.60\n",
            "| 에폭 7 |  반복 1241 / 9295 | 시간 3304[s] | 손실 1.53\n",
            "| 에폭 7 |  반복 1261 / 9295 | 시간 3305[s] | 손실 1.58\n",
            "| 에폭 7 |  반복 1281 / 9295 | 시간 3306[s] | 손실 1.60\n",
            "| 에폭 7 |  반복 1301 / 9295 | 시간 3307[s] | 손실 1.62\n",
            "| 에폭 7 |  반복 1321 / 9295 | 시간 3308[s] | 손실 1.56\n",
            "| 에폭 7 |  반복 1341 / 9295 | 시간 3309[s] | 손실 1.62\n",
            "| 에폭 7 |  반복 1361 / 9295 | 시간 3311[s] | 손실 1.60\n",
            "| 에폭 7 |  반복 1381 / 9295 | 시간 3312[s] | 손실 1.60\n",
            "| 에폭 7 |  반복 1401 / 9295 | 시간 3313[s] | 손실 1.62\n",
            "| 에폭 7 |  반복 1421 / 9295 | 시간 3314[s] | 손실 1.58\n",
            "| 에폭 7 |  반복 1441 / 9295 | 시간 3315[s] | 손실 1.57\n",
            "| 에폭 7 |  반복 1461 / 9295 | 시간 3316[s] | 손실 1.59\n",
            "| 에폭 7 |  반복 1481 / 9295 | 시간 3317[s] | 손실 1.60\n",
            "| 에폭 7 |  반복 1501 / 9295 | 시간 3319[s] | 손실 1.61\n",
            "| 에폭 7 |  반복 1521 / 9295 | 시간 3320[s] | 손실 1.58\n",
            "| 에폭 7 |  반복 1541 / 9295 | 시간 3321[s] | 손실 1.57\n",
            "| 에폭 7 |  반복 1561 / 9295 | 시간 3322[s] | 손실 1.57\n",
            "| 에폭 7 |  반복 1581 / 9295 | 시간 3323[s] | 손실 1.61\n",
            "| 에폭 7 |  반복 1601 / 9295 | 시간 3324[s] | 손실 1.63\n",
            "| 에폭 7 |  반복 1621 / 9295 | 시간 3326[s] | 손실 1.55\n",
            "| 에폭 7 |  반복 1641 / 9295 | 시간 3327[s] | 손실 1.56\n",
            "| 에폭 7 |  반복 1661 / 9295 | 시간 3328[s] | 손실 1.60\n",
            "| 에폭 7 |  반복 1681 / 9295 | 시간 3329[s] | 손실 1.55\n",
            "| 에폭 7 |  반복 1701 / 9295 | 시간 3330[s] | 손실 1.59\n",
            "| 에폭 7 |  반복 1721 / 9295 | 시간 3331[s] | 손실 1.54\n",
            "| 에폭 7 |  반복 1741 / 9295 | 시간 3333[s] | 손실 1.57\n",
            "| 에폭 7 |  반복 1761 / 9295 | 시간 3334[s] | 손실 1.58\n",
            "| 에폭 7 |  반복 1781 / 9295 | 시간 3335[s] | 손실 1.57\n",
            "| 에폭 7 |  반복 1801 / 9295 | 시간 3336[s] | 손실 1.57\n",
            "| 에폭 7 |  반복 1821 / 9295 | 시간 3337[s] | 손실 1.57\n",
            "| 에폭 7 |  반복 1841 / 9295 | 시간 3338[s] | 손실 1.57\n",
            "| 에폭 7 |  반복 1861 / 9295 | 시간 3339[s] | 손실 1.53\n",
            "| 에폭 7 |  반복 1881 / 9295 | 시간 3341[s] | 손실 1.57\n",
            "| 에폭 7 |  반복 1901 / 9295 | 시간 3342[s] | 손실 1.58\n",
            "| 에폭 7 |  반복 1921 / 9295 | 시간 3343[s] | 손실 1.56\n",
            "| 에폭 7 |  반복 1941 / 9295 | 시간 3344[s] | 손실 1.56\n",
            "| 에폭 7 |  반복 1961 / 9295 | 시간 3345[s] | 손실 1.57\n",
            "| 에폭 7 |  반복 1981 / 9295 | 시간 3346[s] | 손실 1.59\n",
            "| 에폭 7 |  반복 2001 / 9295 | 시간 3347[s] | 손실 1.60\n",
            "| 에폭 7 |  반복 2021 / 9295 | 시간 3349[s] | 손실 1.58\n",
            "| 에폭 7 |  반복 2041 / 9295 | 시간 3350[s] | 손실 1.59\n",
            "| 에폭 7 |  반복 2061 / 9295 | 시간 3351[s] | 손실 1.59\n",
            "| 에폭 7 |  반복 2081 / 9295 | 시간 3352[s] | 손실 1.56\n",
            "| 에폭 7 |  반복 2101 / 9295 | 시간 3353[s] | 손실 1.54\n",
            "| 에폭 7 |  반복 2121 / 9295 | 시간 3354[s] | 손실 1.57\n",
            "| 에폭 7 |  반복 2141 / 9295 | 시간 3355[s] | 손실 1.63\n",
            "| 에폭 7 |  반복 2161 / 9295 | 시간 3357[s] | 손실 1.60\n",
            "| 에폭 7 |  반복 2181 / 9295 | 시간 3358[s] | 손실 1.63\n",
            "| 에폭 7 |  반복 2201 / 9295 | 시간 3359[s] | 손실 1.56\n",
            "| 에폭 7 |  반복 2221 / 9295 | 시간 3360[s] | 손실 1.57\n",
            "| 에폭 7 |  반복 2241 / 9295 | 시간 3361[s] | 손실 1.58\n",
            "| 에폭 7 |  반복 2261 / 9295 | 시간 3362[s] | 손실 1.58\n",
            "| 에폭 7 |  반복 2281 / 9295 | 시간 3363[s] | 손실 1.63\n",
            "| 에폭 7 |  반복 2301 / 9295 | 시간 3365[s] | 손실 1.59\n",
            "| 에폭 7 |  반복 2321 / 9295 | 시간 3366[s] | 손실 1.60\n",
            "| 에폭 7 |  반복 2341 / 9295 | 시간 3367[s] | 손실 1.63\n",
            "| 에폭 7 |  반복 2361 / 9295 | 시간 3368[s] | 손실 1.61\n",
            "| 에폭 7 |  반복 2381 / 9295 | 시간 3369[s] | 손실 1.63\n",
            "| 에폭 7 |  반복 2401 / 9295 | 시간 3370[s] | 손실 1.58\n",
            "| 에폭 7 |  반복 2421 / 9295 | 시간 3372[s] | 손실 1.58\n",
            "| 에폭 7 |  반복 2441 / 9295 | 시간 3373[s] | 손실 1.60\n",
            "| 에폭 7 |  반복 2461 / 9295 | 시간 3374[s] | 손실 1.56\n",
            "| 에폭 7 |  반복 2481 / 9295 | 시간 3375[s] | 손실 1.60\n",
            "| 에폭 7 |  반복 2501 / 9295 | 시간 3376[s] | 손실 1.61\n",
            "| 에폭 7 |  반복 2521 / 9295 | 시간 3377[s] | 손실 1.58\n",
            "| 에폭 7 |  반복 2541 / 9295 | 시간 3378[s] | 손실 1.56\n",
            "| 에폭 7 |  반복 2561 / 9295 | 시간 3380[s] | 손실 1.60\n",
            "| 에폭 7 |  반복 2581 / 9295 | 시간 3381[s] | 손실 1.56\n",
            "| 에폭 7 |  반복 2601 / 9295 | 시간 3382[s] | 손실 1.56\n",
            "| 에폭 7 |  반복 2621 / 9295 | 시간 3383[s] | 손실 1.60\n",
            "| 에폭 7 |  반복 2641 / 9295 | 시간 3384[s] | 손실 1.59\n",
            "| 에폭 7 |  반복 2661 / 9295 | 시간 3385[s] | 손실 1.61\n",
            "| 에폭 7 |  반복 2681 / 9295 | 시간 3386[s] | 손실 1.57\n",
            "| 에폭 7 |  반복 2701 / 9295 | 시간 3388[s] | 손실 1.53\n",
            "| 에폭 7 |  반복 2721 / 9295 | 시간 3389[s] | 손실 1.56\n",
            "| 에폭 7 |  반복 2741 / 9295 | 시간 3390[s] | 손실 1.59\n",
            "| 에폭 7 |  반복 2761 / 9295 | 시간 3391[s] | 손실 1.62\n",
            "| 에폭 7 |  반복 2781 / 9295 | 시간 3392[s] | 손실 1.54\n",
            "| 에폭 7 |  반복 2801 / 9295 | 시간 3393[s] | 손실 1.60\n",
            "| 에폭 7 |  반복 2821 / 9295 | 시간 3395[s] | 손실 1.55\n",
            "| 에폭 7 |  반복 2841 / 9295 | 시간 3396[s] | 손실 1.53\n",
            "| 에폭 7 |  반복 2861 / 9295 | 시간 3397[s] | 손실 1.58\n",
            "| 에폭 7 |  반복 2881 / 9295 | 시간 3398[s] | 손실 1.60\n",
            "| 에폭 7 |  반복 2901 / 9295 | 시간 3399[s] | 손실 1.57\n",
            "| 에폭 7 |  반복 2921 / 9295 | 시간 3400[s] | 손실 1.60\n",
            "| 에폭 7 |  반복 2941 / 9295 | 시간 3401[s] | 손실 1.55\n",
            "| 에폭 7 |  반복 2961 / 9295 | 시간 3403[s] | 손실 1.60\n",
            "| 에폭 7 |  반복 2981 / 9295 | 시간 3404[s] | 손실 1.57\n",
            "| 에폭 7 |  반복 3001 / 9295 | 시간 3405[s] | 손실 1.57\n",
            "| 에폭 7 |  반복 3021 / 9295 | 시간 3406[s] | 손실 1.59\n",
            "| 에폭 7 |  반복 3041 / 9295 | 시간 3407[s] | 손실 1.58\n",
            "| 에폭 7 |  반복 3061 / 9295 | 시간 3408[s] | 손실 1.57\n",
            "| 에폭 7 |  반복 3081 / 9295 | 시간 3409[s] | 손실 1.63\n",
            "| 에폭 7 |  반복 3101 / 9295 | 시간 3411[s] | 손실 1.60\n",
            "| 에폭 7 |  반복 3121 / 9295 | 시간 3412[s] | 손실 1.63\n",
            "| 에폭 7 |  반복 3141 / 9295 | 시간 3413[s] | 손실 1.62\n",
            "| 에폭 7 |  반복 3161 / 9295 | 시간 3414[s] | 손실 1.57\n",
            "| 에폭 7 |  반복 3181 / 9295 | 시간 3415[s] | 손실 1.60\n",
            "| 에폭 7 |  반복 3201 / 9295 | 시간 3416[s] | 손실 1.55\n",
            "| 에폭 7 |  반복 3221 / 9295 | 시간 3418[s] | 손실 1.58\n",
            "| 에폭 7 |  반복 3241 / 9295 | 시간 3419[s] | 손실 1.60\n",
            "| 에폭 7 |  반복 3261 / 9295 | 시간 3420[s] | 손실 1.56\n",
            "| 에폭 7 |  반복 3281 / 9295 | 시간 3421[s] | 손실 1.60\n",
            "| 에폭 7 |  반복 3301 / 9295 | 시간 3422[s] | 손실 1.59\n",
            "| 에폭 7 |  반복 3321 / 9295 | 시간 3423[s] | 손실 1.57\n",
            "| 에폭 7 |  반복 3341 / 9295 | 시간 3424[s] | 손실 1.59\n",
            "| 에폭 7 |  반복 3361 / 9295 | 시간 3426[s] | 손실 1.55\n",
            "| 에폭 7 |  반복 3381 / 9295 | 시간 3427[s] | 손실 1.61\n",
            "| 에폭 7 |  반복 3401 / 9295 | 시간 3428[s] | 손실 1.60\n",
            "| 에폭 7 |  반복 3421 / 9295 | 시간 3429[s] | 손실 1.63\n",
            "| 에폭 7 |  반복 3441 / 9295 | 시간 3430[s] | 손실 1.55\n",
            "| 에폭 7 |  반복 3461 / 9295 | 시간 3431[s] | 손실 1.62\n",
            "| 에폭 7 |  반복 3481 / 9295 | 시간 3433[s] | 손실 1.61\n",
            "| 에폭 7 |  반복 3501 / 9295 | 시간 3434[s] | 손실 1.58\n",
            "| 에폭 7 |  반복 3521 / 9295 | 시간 3435[s] | 손실 1.56\n",
            "| 에폭 7 |  반복 3541 / 9295 | 시간 3436[s] | 손실 1.59\n",
            "| 에폭 7 |  반복 3561 / 9295 | 시간 3437[s] | 손실 1.58\n",
            "| 에폭 7 |  반복 3581 / 9295 | 시간 3438[s] | 손실 1.59\n",
            "| 에폭 7 |  반복 3601 / 9295 | 시간 3439[s] | 손실 1.62\n",
            "| 에폭 7 |  반복 3621 / 9295 | 시간 3441[s] | 손실 1.61\n",
            "| 에폭 7 |  반복 3641 / 9295 | 시간 3442[s] | 손실 1.58\n",
            "| 에폭 7 |  반복 3661 / 9295 | 시간 3443[s] | 손실 1.54\n",
            "| 에폭 7 |  반복 3681 / 9295 | 시간 3444[s] | 손실 1.60\n",
            "| 에폭 7 |  반복 3701 / 9295 | 시간 3445[s] | 손실 1.58\n",
            "| 에폭 7 |  반복 3721 / 9295 | 시간 3446[s] | 손실 1.63\n",
            "| 에폭 7 |  반복 3741 / 9295 | 시간 3447[s] | 손실 1.57\n",
            "| 에폭 7 |  반복 3761 / 9295 | 시간 3449[s] | 손실 1.64\n",
            "| 에폭 7 |  반복 3781 / 9295 | 시간 3450[s] | 손실 1.59\n",
            "| 에폭 7 |  반복 3801 / 9295 | 시간 3451[s] | 손실 1.57\n",
            "| 에폭 7 |  반복 3821 / 9295 | 시간 3452[s] | 손실 1.60\n",
            "| 에폭 7 |  반복 3841 / 9295 | 시간 3453[s] | 손실 1.61\n",
            "| 에폭 7 |  반복 3861 / 9295 | 시간 3454[s] | 손실 1.59\n",
            "| 에폭 7 |  반복 3881 / 9295 | 시간 3455[s] | 손실 1.59\n",
            "| 에폭 7 |  반복 3901 / 9295 | 시간 3457[s] | 손실 1.57\n",
            "| 에폭 7 |  반복 3921 / 9295 | 시간 3458[s] | 손실 1.58\n",
            "| 에폭 7 |  반복 3941 / 9295 | 시간 3459[s] | 손실 1.62\n",
            "| 에폭 7 |  반복 3961 / 9295 | 시간 3460[s] | 손실 1.60\n",
            "| 에폭 7 |  반복 3981 / 9295 | 시간 3461[s] | 손실 1.59\n",
            "| 에폭 7 |  반복 4001 / 9295 | 시간 3462[s] | 손실 1.61\n",
            "| 에폭 7 |  반복 4021 / 9295 | 시간 3464[s] | 손실 1.55\n",
            "| 에폭 7 |  반복 4041 / 9295 | 시간 3465[s] | 손실 1.62\n",
            "| 에폭 7 |  반복 4061 / 9295 | 시간 3466[s] | 손실 1.59\n",
            "| 에폭 7 |  반복 4081 / 9295 | 시간 3467[s] | 손실 1.63\n",
            "| 에폭 7 |  반복 4101 / 9295 | 시간 3468[s] | 손실 1.60\n",
            "| 에폭 7 |  반복 4121 / 9295 | 시간 3469[s] | 손실 1.57\n",
            "| 에폭 7 |  반복 4141 / 9295 | 시간 3471[s] | 손실 1.58\n",
            "| 에폭 7 |  반복 4161 / 9295 | 시간 3472[s] | 손실 1.62\n",
            "| 에폭 7 |  반복 4181 / 9295 | 시간 3473[s] | 손실 1.60\n",
            "| 에폭 7 |  반복 4201 / 9295 | 시간 3474[s] | 손실 1.60\n",
            "| 에폭 7 |  반복 4221 / 9295 | 시간 3475[s] | 손실 1.60\n",
            "| 에폭 7 |  반복 4241 / 9295 | 시간 3476[s] | 손실 1.58\n",
            "| 에폭 7 |  반복 4261 / 9295 | 시간 3478[s] | 손실 1.56\n",
            "| 에폭 7 |  반복 4281 / 9295 | 시간 3479[s] | 손실 1.56\n",
            "| 에폭 7 |  반복 4301 / 9295 | 시간 3480[s] | 손실 1.56\n",
            "| 에폭 7 |  반복 4321 / 9295 | 시간 3481[s] | 손실 1.56\n",
            "| 에폭 7 |  반복 4341 / 9295 | 시간 3482[s] | 손실 1.58\n",
            "| 에폭 7 |  반복 4361 / 9295 | 시간 3483[s] | 손실 1.59\n",
            "| 에폭 7 |  반복 4381 / 9295 | 시간 3484[s] | 손실 1.62\n",
            "| 에폭 7 |  반복 4401 / 9295 | 시간 3486[s] | 손실 1.58\n",
            "| 에폭 7 |  반복 4421 / 9295 | 시간 3487[s] | 손실 1.55\n",
            "| 에폭 7 |  반복 4441 / 9295 | 시간 3488[s] | 손실 1.57\n",
            "| 에폭 7 |  반복 4461 / 9295 | 시간 3489[s] | 손실 1.60\n",
            "| 에폭 7 |  반복 4481 / 9295 | 시간 3490[s] | 손실 1.63\n",
            "| 에폭 7 |  반복 4501 / 9295 | 시간 3491[s] | 손실 1.58\n",
            "| 에폭 7 |  반복 4521 / 9295 | 시간 3492[s] | 손실 1.64\n",
            "| 에폭 7 |  반복 4541 / 9295 | 시간 3494[s] | 손실 1.59\n",
            "| 에폭 7 |  반복 4561 / 9295 | 시간 3495[s] | 손실 1.61\n",
            "| 에폭 7 |  반복 4581 / 9295 | 시간 3496[s] | 손실 1.57\n",
            "| 에폭 7 |  반복 4601 / 9295 | 시간 3497[s] | 손실 1.60\n",
            "| 에폭 7 |  반복 4621 / 9295 | 시간 3498[s] | 손실 1.56\n",
            "| 에폭 7 |  반복 4641 / 9295 | 시간 3499[s] | 손실 1.64\n",
            "| 에폭 7 |  반복 4661 / 9295 | 시간 3501[s] | 손실 1.59\n",
            "| 에폭 7 |  반복 4681 / 9295 | 시간 3502[s] | 손실 1.61\n",
            "| 에폭 7 |  반복 4701 / 9295 | 시간 3503[s] | 손실 1.62\n",
            "| 에폭 7 |  반복 4721 / 9295 | 시간 3504[s] | 손실 1.60\n",
            "| 에폭 7 |  반복 4741 / 9295 | 시간 3505[s] | 손실 1.62\n",
            "| 에폭 7 |  반복 4761 / 9295 | 시간 3506[s] | 손실 1.58\n",
            "| 에폭 7 |  반복 4781 / 9295 | 시간 3507[s] | 손실 1.57\n",
            "| 에폭 7 |  반복 4801 / 9295 | 시간 3509[s] | 손실 1.58\n",
            "| 에폭 7 |  반복 4821 / 9295 | 시간 3510[s] | 손실 1.59\n",
            "| 에폭 7 |  반복 4841 / 9295 | 시간 3511[s] | 손실 1.60\n",
            "| 에폭 7 |  반복 4861 / 9295 | 시간 3512[s] | 손실 1.58\n",
            "| 에폭 7 |  반복 4881 / 9295 | 시간 3513[s] | 손실 1.57\n",
            "| 에폭 7 |  반복 4901 / 9295 | 시간 3514[s] | 손실 1.60\n",
            "| 에폭 7 |  반복 4921 / 9295 | 시간 3516[s] | 손실 1.61\n",
            "| 에폭 7 |  반복 4941 / 9295 | 시간 3517[s] | 손실 1.64\n",
            "| 에폭 7 |  반복 4961 / 9295 | 시간 3518[s] | 손실 1.57\n",
            "| 에폭 7 |  반복 4981 / 9295 | 시간 3519[s] | 손실 1.59\n",
            "| 에폭 7 |  반복 5001 / 9295 | 시간 3520[s] | 손실 1.59\n",
            "| 에폭 7 |  반복 5021 / 9295 | 시간 3521[s] | 손실 1.57\n",
            "| 에폭 7 |  반복 5041 / 9295 | 시간 3523[s] | 손실 1.55\n",
            "| 에폭 7 |  반복 5061 / 9295 | 시간 3524[s] | 손실 1.58\n",
            "| 에폭 7 |  반복 5081 / 9295 | 시간 3525[s] | 손실 1.61\n",
            "| 에폭 7 |  반복 5101 / 9295 | 시간 3526[s] | 손실 1.62\n",
            "| 에폭 7 |  반복 5121 / 9295 | 시간 3527[s] | 손실 1.56\n",
            "| 에폭 7 |  반복 5141 / 9295 | 시간 3528[s] | 손실 1.60\n",
            "| 에폭 7 |  반복 5161 / 9295 | 시간 3529[s] | 손실 1.57\n",
            "| 에폭 7 |  반복 5181 / 9295 | 시간 3531[s] | 손실 1.54\n",
            "| 에폭 7 |  반복 5201 / 9295 | 시간 3532[s] | 손실 1.57\n",
            "| 에폭 7 |  반복 5221 / 9295 | 시간 3533[s] | 손실 1.62\n",
            "| 에폭 7 |  반복 5241 / 9295 | 시간 3534[s] | 손실 1.55\n",
            "| 에폭 7 |  반복 5261 / 9295 | 시간 3535[s] | 손실 1.65\n",
            "| 에폭 7 |  반복 5281 / 9295 | 시간 3536[s] | 손실 1.62\n",
            "| 에폭 7 |  반복 5301 / 9295 | 시간 3537[s] | 손실 1.58\n",
            "| 에폭 7 |  반복 5321 / 9295 | 시간 3539[s] | 손실 1.60\n",
            "| 에폭 7 |  반복 5341 / 9295 | 시간 3540[s] | 손실 1.58\n",
            "| 에폭 7 |  반복 5361 / 9295 | 시간 3541[s] | 손실 1.61\n",
            "| 에폭 7 |  반복 5381 / 9295 | 시간 3542[s] | 손실 1.60\n",
            "| 에폭 7 |  반복 5401 / 9295 | 시간 3543[s] | 손실 1.59\n",
            "| 에폭 7 |  반복 5421 / 9295 | 시간 3544[s] | 손실 1.62\n",
            "| 에폭 7 |  반복 5441 / 9295 | 시간 3546[s] | 손실 1.62\n",
            "| 에폭 7 |  반복 5461 / 9295 | 시간 3547[s] | 손실 1.63\n",
            "| 에폭 7 |  반복 5481 / 9295 | 시간 3548[s] | 손실 1.57\n",
            "| 에폭 7 |  반복 5501 / 9295 | 시간 3549[s] | 손실 1.55\n",
            "| 에폭 7 |  반복 5521 / 9295 | 시간 3550[s] | 손실 1.57\n",
            "| 에폭 7 |  반복 5541 / 9295 | 시간 3551[s] | 손실 1.62\n",
            "| 에폭 7 |  반복 5561 / 9295 | 시간 3552[s] | 손실 1.57\n",
            "| 에폭 7 |  반복 5581 / 9295 | 시간 3554[s] | 손실 1.65\n",
            "| 에폭 7 |  반복 5601 / 9295 | 시간 3555[s] | 손실 1.60\n",
            "| 에폭 7 |  반복 5621 / 9295 | 시간 3556[s] | 손실 1.61\n",
            "| 에폭 7 |  반복 5641 / 9295 | 시간 3557[s] | 손실 1.58\n",
            "| 에폭 7 |  반복 5661 / 9295 | 시간 3558[s] | 손실 1.59\n",
            "| 에폭 7 |  반복 5681 / 9295 | 시간 3559[s] | 손실 1.57\n",
            "| 에폭 7 |  반복 5701 / 9295 | 시간 3560[s] | 손실 1.57\n",
            "| 에폭 7 |  반복 5721 / 9295 | 시간 3562[s] | 손실 1.60\n",
            "| 에폭 7 |  반복 5741 / 9295 | 시간 3563[s] | 손실 1.57\n",
            "| 에폭 7 |  반복 5761 / 9295 | 시간 3564[s] | 손실 1.61\n",
            "| 에폭 7 |  반복 5781 / 9295 | 시간 3565[s] | 손실 1.59\n",
            "| 에폭 7 |  반복 5801 / 9295 | 시간 3566[s] | 손실 1.62\n",
            "| 에폭 7 |  반복 5821 / 9295 | 시간 3567[s] | 손실 1.60\n",
            "| 에폭 7 |  반복 5841 / 9295 | 시간 3569[s] | 손실 1.60\n",
            "| 에폭 7 |  반복 5861 / 9295 | 시간 3570[s] | 손실 1.61\n",
            "| 에폭 7 |  반복 5881 / 9295 | 시간 3571[s] | 손실 1.59\n",
            "| 에폭 7 |  반복 5901 / 9295 | 시간 3572[s] | 손실 1.60\n",
            "| 에폭 7 |  반복 5921 / 9295 | 시간 3573[s] | 손실 1.58\n",
            "| 에폭 7 |  반복 5941 / 9295 | 시간 3574[s] | 손실 1.58\n",
            "| 에폭 7 |  반복 5961 / 9295 | 시간 3575[s] | 손실 1.60\n",
            "| 에폭 7 |  반복 5981 / 9295 | 시간 3577[s] | 손실 1.59\n",
            "| 에폭 7 |  반복 6001 / 9295 | 시간 3578[s] | 손실 1.57\n",
            "| 에폭 7 |  반복 6021 / 9295 | 시간 3579[s] | 손실 1.54\n",
            "| 에폭 7 |  반복 6041 / 9295 | 시간 3580[s] | 손실 1.57\n",
            "| 에폭 7 |  반복 6061 / 9295 | 시간 3581[s] | 손실 1.63\n",
            "| 에폭 7 |  반복 6081 / 9295 | 시간 3582[s] | 손실 1.57\n",
            "| 에폭 7 |  반복 6101 / 9295 | 시간 3584[s] | 손실 1.60\n",
            "| 에폭 7 |  반복 6121 / 9295 | 시간 3585[s] | 손실 1.59\n",
            "| 에폭 7 |  반복 6141 / 9295 | 시간 3586[s] | 손실 1.58\n",
            "| 에폭 7 |  반복 6161 / 9295 | 시간 3587[s] | 손실 1.62\n",
            "| 에폭 7 |  반복 6181 / 9295 | 시간 3588[s] | 손실 1.65\n",
            "| 에폭 7 |  반복 6201 / 9295 | 시간 3589[s] | 손실 1.62\n",
            "| 에폭 7 |  반복 6221 / 9295 | 시간 3590[s] | 손실 1.56\n",
            "| 에폭 7 |  반복 6241 / 9295 | 시간 3592[s] | 손실 1.59\n",
            "| 에폭 7 |  반복 6261 / 9295 | 시간 3593[s] | 손실 1.57\n",
            "| 에폭 7 |  반복 6281 / 9295 | 시간 3594[s] | 손실 1.56\n",
            "| 에폭 7 |  반복 6301 / 9295 | 시간 3595[s] | 손실 1.61\n",
            "| 에폭 7 |  반복 6321 / 9295 | 시간 3596[s] | 손실 1.61\n",
            "| 에폭 7 |  반복 6341 / 9295 | 시간 3597[s] | 손실 1.60\n",
            "| 에폭 7 |  반복 6361 / 9295 | 시간 3599[s] | 손실 1.59\n",
            "| 에폭 7 |  반복 6381 / 9295 | 시간 3600[s] | 손실 1.57\n",
            "| 에폭 7 |  반복 6401 / 9295 | 시간 3601[s] | 손실 1.62\n",
            "| 에폭 7 |  반복 6421 / 9295 | 시간 3602[s] | 손실 1.63\n",
            "| 에폭 7 |  반복 6441 / 9295 | 시간 3603[s] | 손실 1.60\n",
            "| 에폭 7 |  반복 6461 / 9295 | 시간 3604[s] | 손실 1.62\n",
            "| 에폭 7 |  반복 6481 / 9295 | 시간 3606[s] | 손실 1.62\n",
            "| 에폭 7 |  반복 6501 / 9295 | 시간 3607[s] | 손실 1.63\n",
            "| 에폭 7 |  반복 6521 / 9295 | 시간 3608[s] | 손실 1.62\n",
            "| 에폭 7 |  반복 6541 / 9295 | 시간 3609[s] | 손실 1.58\n",
            "| 에폭 7 |  반복 6561 / 9295 | 시간 3610[s] | 손실 1.62\n",
            "| 에폭 7 |  반복 6581 / 9295 | 시간 3611[s] | 손실 1.61\n",
            "| 에폭 7 |  반복 6601 / 9295 | 시간 3612[s] | 손실 1.59\n",
            "| 에폭 7 |  반복 6621 / 9295 | 시간 3614[s] | 손실 1.59\n",
            "| 에폭 7 |  반복 6641 / 9295 | 시간 3615[s] | 손실 1.59\n",
            "| 에폭 7 |  반복 6661 / 9295 | 시간 3616[s] | 손실 1.58\n",
            "| 에폭 7 |  반복 6681 / 9295 | 시간 3617[s] | 손실 1.58\n",
            "| 에폭 7 |  반복 6701 / 9295 | 시간 3618[s] | 손실 1.62\n",
            "| 에폭 7 |  반복 6721 / 9295 | 시간 3619[s] | 손실 1.59\n",
            "| 에폭 7 |  반복 6741 / 9295 | 시간 3620[s] | 손실 1.58\n",
            "| 에폭 7 |  반복 6761 / 9295 | 시간 3622[s] | 손실 1.62\n",
            "| 에폭 7 |  반복 6781 / 9295 | 시간 3623[s] | 손실 1.56\n",
            "| 에폭 7 |  반복 6801 / 9295 | 시간 3624[s] | 손실 1.55\n",
            "| 에폭 7 |  반복 6821 / 9295 | 시간 3625[s] | 손실 1.60\n",
            "| 에폭 7 |  반복 6841 / 9295 | 시간 3626[s] | 손실 1.61\n",
            "| 에폭 7 |  반복 6861 / 9295 | 시간 3627[s] | 손실 1.56\n",
            "| 에폭 7 |  반복 6881 / 9295 | 시간 3629[s] | 손실 1.55\n",
            "| 에폭 7 |  반복 6901 / 9295 | 시간 3630[s] | 손실 1.55\n",
            "| 에폭 7 |  반복 6921 / 9295 | 시간 3631[s] | 손실 1.61\n",
            "| 에폭 7 |  반복 6941 / 9295 | 시간 3632[s] | 손실 1.59\n",
            "| 에폭 7 |  반복 6961 / 9295 | 시간 3633[s] | 손실 1.60\n",
            "| 에폭 7 |  반복 6981 / 9295 | 시간 3634[s] | 손실 1.57\n",
            "| 에폭 7 |  반복 7001 / 9295 | 시간 3636[s] | 손실 1.54\n",
            "| 에폭 7 |  반복 7021 / 9295 | 시간 3637[s] | 손실 1.61\n",
            "| 에폭 7 |  반복 7041 / 9295 | 시간 3638[s] | 손실 1.61\n",
            "| 에폭 7 |  반복 7061 / 9295 | 시간 3639[s] | 손실 1.64\n",
            "| 에폭 7 |  반복 7081 / 9295 | 시간 3640[s] | 손실 1.58\n",
            "| 에폭 7 |  반복 7101 / 9295 | 시간 3641[s] | 손실 1.60\n",
            "| 에폭 7 |  반복 7121 / 9295 | 시간 3643[s] | 손실 1.59\n",
            "| 에폭 7 |  반복 7141 / 9295 | 시간 3644[s] | 손실 1.62\n",
            "| 에폭 7 |  반복 7161 / 9295 | 시간 3645[s] | 손실 1.62\n",
            "| 에폭 7 |  반복 7181 / 9295 | 시간 3646[s] | 손실 1.66\n",
            "| 에폭 7 |  반복 7201 / 9295 | 시간 3647[s] | 손실 1.61\n",
            "| 에폭 7 |  반복 7221 / 9295 | 시간 3648[s] | 손실 1.57\n",
            "| 에폭 7 |  반복 7241 / 9295 | 시간 3649[s] | 손실 1.59\n",
            "| 에폭 7 |  반복 7261 / 9295 | 시간 3651[s] | 손실 1.54\n",
            "| 에폭 7 |  반복 7281 / 9295 | 시간 3652[s] | 손실 1.61\n",
            "| 에폭 7 |  반복 7301 / 9295 | 시간 3653[s] | 손실 1.58\n",
            "| 에폭 7 |  반복 7321 / 9295 | 시간 3654[s] | 손실 1.62\n",
            "| 에폭 7 |  반복 7341 / 9295 | 시간 3655[s] | 손실 1.61\n",
            "| 에폭 7 |  반복 7361 / 9295 | 시간 3656[s] | 손실 1.59\n",
            "| 에폭 7 |  반복 7381 / 9295 | 시간 3657[s] | 손실 1.60\n",
            "| 에폭 7 |  반복 7401 / 9295 | 시간 3659[s] | 손실 1.57\n",
            "| 에폭 7 |  반복 7421 / 9295 | 시간 3660[s] | 손실 1.59\n",
            "| 에폭 7 |  반복 7441 / 9295 | 시간 3661[s] | 손실 1.58\n",
            "| 에폭 7 |  반복 7461 / 9295 | 시간 3662[s] | 손실 1.58\n",
            "| 에폭 7 |  반복 7481 / 9295 | 시간 3663[s] | 손실 1.59\n",
            "| 에폭 7 |  반복 7501 / 9295 | 시간 3664[s] | 손실 1.62\n",
            "| 에폭 7 |  반복 7521 / 9295 | 시간 3665[s] | 손실 1.60\n",
            "| 에폭 7 |  반복 7541 / 9295 | 시간 3667[s] | 손실 1.58\n",
            "| 에폭 7 |  반복 7561 / 9295 | 시간 3668[s] | 손실 1.57\n",
            "| 에폭 7 |  반복 7581 / 9295 | 시간 3669[s] | 손실 1.62\n",
            "| 에폭 7 |  반복 7601 / 9295 | 시간 3670[s] | 손실 1.57\n",
            "| 에폭 7 |  반복 7621 / 9295 | 시간 3671[s] | 손실 1.58\n",
            "| 에폭 7 |  반복 7641 / 9295 | 시간 3672[s] | 손실 1.57\n",
            "| 에폭 7 |  반복 7661 / 9295 | 시간 3674[s] | 손실 1.57\n",
            "| 에폭 7 |  반복 7681 / 9295 | 시간 3675[s] | 손실 1.60\n",
            "| 에폭 7 |  반복 7701 / 9295 | 시간 3676[s] | 손실 1.58\n",
            "| 에폭 7 |  반복 7721 / 9295 | 시간 3677[s] | 손실 1.60\n",
            "| 에폭 7 |  반복 7741 / 9295 | 시간 3678[s] | 손실 1.58\n",
            "| 에폭 7 |  반복 7761 / 9295 | 시간 3679[s] | 손실 1.58\n",
            "| 에폭 7 |  반복 7781 / 9295 | 시간 3680[s] | 손실 1.59\n",
            "| 에폭 7 |  반복 7801 / 9295 | 시간 3682[s] | 손실 1.57\n",
            "| 에폭 7 |  반복 7821 / 9295 | 시간 3683[s] | 손실 1.58\n",
            "| 에폭 7 |  반복 7841 / 9295 | 시간 3684[s] | 손실 1.63\n",
            "| 에폭 7 |  반복 7861 / 9295 | 시간 3685[s] | 손실 1.59\n",
            "| 에폭 7 |  반복 7881 / 9295 | 시간 3686[s] | 손실 1.55\n",
            "| 에폭 7 |  반복 7901 / 9295 | 시간 3687[s] | 손실 1.65\n",
            "| 에폭 7 |  반복 7921 / 9295 | 시간 3689[s] | 손실 1.59\n",
            "| 에폭 7 |  반복 7941 / 9295 | 시간 3690[s] | 손실 1.63\n",
            "| 에폭 7 |  반복 7961 / 9295 | 시간 3691[s] | 손실 1.60\n",
            "| 에폭 7 |  반복 7981 / 9295 | 시간 3692[s] | 손실 1.64\n",
            "| 에폭 7 |  반복 8001 / 9295 | 시간 3693[s] | 손실 1.58\n",
            "| 에폭 7 |  반복 8021 / 9295 | 시간 3694[s] | 손실 1.56\n",
            "| 에폭 7 |  반복 8041 / 9295 | 시간 3695[s] | 손실 1.63\n",
            "| 에폭 7 |  반복 8061 / 9295 | 시간 3697[s] | 손실 1.62\n",
            "| 에폭 7 |  반복 8081 / 9295 | 시간 3698[s] | 손실 1.56\n",
            "| 에폭 7 |  반복 8101 / 9295 | 시간 3699[s] | 손실 1.59\n",
            "| 에폭 7 |  반복 8121 / 9295 | 시간 3700[s] | 손실 1.59\n",
            "| 에폭 7 |  반복 8141 / 9295 | 시간 3701[s] | 손실 1.60\n",
            "| 에폭 7 |  반복 8161 / 9295 | 시간 3702[s] | 손실 1.60\n",
            "| 에폭 7 |  반복 8181 / 9295 | 시간 3704[s] | 손실 1.60\n",
            "| 에폭 7 |  반복 8201 / 9295 | 시간 3705[s] | 손실 1.58\n",
            "| 에폭 7 |  반복 8221 / 9295 | 시간 3706[s] | 손실 1.59\n",
            "| 에폭 7 |  반복 8241 / 9295 | 시간 3707[s] | 손실 1.61\n",
            "| 에폭 7 |  반복 8261 / 9295 | 시간 3708[s] | 손실 1.58\n",
            "| 에폭 7 |  반복 8281 / 9295 | 시간 3709[s] | 손실 1.65\n",
            "| 에폭 7 |  반복 8301 / 9295 | 시간 3710[s] | 손실 1.61\n",
            "| 에폭 7 |  반복 8321 / 9295 | 시간 3712[s] | 손실 1.61\n",
            "| 에폭 7 |  반복 8341 / 9295 | 시간 3713[s] | 손실 1.62\n",
            "| 에폭 7 |  반복 8361 / 9295 | 시간 3714[s] | 손실 1.62\n",
            "| 에폭 7 |  반복 8381 / 9295 | 시간 3715[s] | 손실 1.58\n",
            "| 에폭 7 |  반복 8401 / 9295 | 시간 3716[s] | 손실 1.60\n",
            "| 에폭 7 |  반복 8421 / 9295 | 시간 3717[s] | 손실 1.59\n",
            "| 에폭 7 |  반복 8441 / 9295 | 시간 3718[s] | 손실 1.60\n",
            "| 에폭 7 |  반복 8461 / 9295 | 시간 3720[s] | 손실 1.59\n",
            "| 에폭 7 |  반복 8481 / 9295 | 시간 3721[s] | 손실 1.57\n",
            "| 에폭 7 |  반복 8501 / 9295 | 시간 3722[s] | 손실 1.60\n",
            "| 에폭 7 |  반복 8521 / 9295 | 시간 3723[s] | 손실 1.59\n",
            "| 에폭 7 |  반복 8541 / 9295 | 시간 3724[s] | 손실 1.57\n",
            "| 에폭 7 |  반복 8561 / 9295 | 시간 3725[s] | 손실 1.54\n",
            "| 에폭 7 |  반복 8581 / 9295 | 시간 3727[s] | 손실 1.57\n",
            "| 에폭 7 |  반복 8601 / 9295 | 시간 3728[s] | 손실 1.57\n",
            "| 에폭 7 |  반복 8621 / 9295 | 시간 3729[s] | 손실 1.56\n",
            "| 에폭 7 |  반복 8641 / 9295 | 시간 3730[s] | 손실 1.60\n",
            "| 에폭 7 |  반복 8661 / 9295 | 시간 3731[s] | 손실 1.55\n",
            "| 에폭 7 |  반복 8681 / 9295 | 시간 3732[s] | 손실 1.61\n",
            "| 에폭 7 |  반복 8701 / 9295 | 시간 3733[s] | 손실 1.60\n",
            "| 에폭 7 |  반복 8721 / 9295 | 시간 3735[s] | 손실 1.60\n",
            "| 에폭 7 |  반복 8741 / 9295 | 시간 3736[s] | 손실 1.58\n",
            "| 에폭 7 |  반복 8761 / 9295 | 시간 3737[s] | 손실 1.58\n",
            "| 에폭 7 |  반복 8781 / 9295 | 시간 3738[s] | 손실 1.61\n",
            "| 에폭 7 |  반복 8801 / 9295 | 시간 3739[s] | 손실 1.57\n",
            "| 에폭 7 |  반복 8821 / 9295 | 시간 3740[s] | 손실 1.63\n",
            "| 에폭 7 |  반복 8841 / 9295 | 시간 3741[s] | 손실 1.61\n",
            "| 에폭 7 |  반복 8861 / 9295 | 시간 3743[s] | 손실 1.56\n",
            "| 에폭 7 |  반복 8881 / 9295 | 시간 3744[s] | 손실 1.60\n",
            "| 에폭 7 |  반복 8901 / 9295 | 시간 3745[s] | 손실 1.62\n",
            "| 에폭 7 |  반복 8921 / 9295 | 시간 3746[s] | 손실 1.57\n",
            "| 에폭 7 |  반복 8941 / 9295 | 시간 3747[s] | 손실 1.57\n",
            "| 에폭 7 |  반복 8961 / 9295 | 시간 3748[s] | 손실 1.59\n",
            "| 에폭 7 |  반복 8981 / 9295 | 시간 3749[s] | 손실 1.60\n",
            "| 에폭 7 |  반복 9001 / 9295 | 시간 3751[s] | 손실 1.58\n",
            "| 에폭 7 |  반복 9021 / 9295 | 시간 3752[s] | 손실 1.60\n",
            "| 에폭 7 |  반복 9041 / 9295 | 시간 3753[s] | 손실 1.60\n",
            "| 에폭 7 |  반복 9061 / 9295 | 시간 3754[s] | 손실 1.60\n",
            "| 에폭 7 |  반복 9081 / 9295 | 시간 3755[s] | 손실 1.58\n",
            "| 에폭 7 |  반복 9101 / 9295 | 시간 3756[s] | 손실 1.61\n",
            "| 에폭 7 |  반복 9121 / 9295 | 시간 3758[s] | 손실 1.60\n",
            "| 에폭 7 |  반복 9141 / 9295 | 시간 3759[s] | 손실 1.60\n",
            "| 에폭 7 |  반복 9161 / 9295 | 시간 3760[s] | 손실 1.60\n",
            "| 에폭 7 |  반복 9181 / 9295 | 시간 3761[s] | 손실 1.60\n",
            "| 에폭 7 |  반복 9201 / 9295 | 시간 3762[s] | 손실 1.59\n",
            "| 에폭 7 |  반복 9221 / 9295 | 시간 3763[s] | 손실 1.61\n",
            "| 에폭 7 |  반복 9241 / 9295 | 시간 3764[s] | 손실 1.61\n",
            "| 에폭 7 |  반복 9261 / 9295 | 시간 3766[s] | 손실 1.60\n",
            "| 에폭 7 |  반복 9281 / 9295 | 시간 3767[s] | 손실 1.60\n",
            "| 에폭 8 |  반복 1 / 9295 | 시간 3768[s] | 손실 1.59\n",
            "| 에폭 8 |  반복 21 / 9295 | 시간 3769[s] | 손실 1.52\n",
            "| 에폭 8 |  반복 41 / 9295 | 시간 3770[s] | 손실 1.53\n",
            "| 에폭 8 |  반복 61 / 9295 | 시간 3771[s] | 손실 1.53\n",
            "| 에폭 8 |  반복 81 / 9295 | 시간 3772[s] | 손실 1.47\n",
            "| 에폭 8 |  반복 101 / 9295 | 시간 3773[s] | 손실 1.54\n",
            "| 에폭 8 |  반복 121 / 9295 | 시간 3775[s] | 손실 1.52\n",
            "| 에폭 8 |  반복 141 / 9295 | 시간 3776[s] | 손실 1.50\n",
            "| 에폭 8 |  반복 161 / 9295 | 시간 3777[s] | 손실 1.52\n",
            "| 에폭 8 |  반복 181 / 9295 | 시간 3778[s] | 손실 1.54\n",
            "| 에폭 8 |  반복 201 / 9295 | 시간 3779[s] | 손실 1.50\n",
            "| 에폭 8 |  반복 221 / 9295 | 시간 3780[s] | 손실 1.50\n",
            "| 에폭 8 |  반복 241 / 9295 | 시간 3782[s] | 손실 1.51\n",
            "| 에폭 8 |  반복 261 / 9295 | 시간 3783[s] | 손실 1.53\n",
            "| 에폭 8 |  반복 281 / 9295 | 시간 3784[s] | 손실 1.52\n",
            "| 에폭 8 |  반복 301 / 9295 | 시간 3785[s] | 손실 1.54\n",
            "| 에폭 8 |  반복 321 / 9295 | 시간 3786[s] | 손실 1.53\n",
            "| 에폭 8 |  반복 341 / 9295 | 시간 3787[s] | 손실 1.52\n",
            "| 에폭 8 |  반복 361 / 9295 | 시간 3788[s] | 손실 1.54\n",
            "| 에폭 8 |  반복 381 / 9295 | 시간 3790[s] | 손실 1.55\n",
            "| 에폭 8 |  반복 401 / 9295 | 시간 3791[s] | 손실 1.54\n",
            "| 에폭 8 |  반복 421 / 9295 | 시간 3792[s] | 손실 1.54\n",
            "| 에폭 8 |  반복 441 / 9295 | 시간 3793[s] | 손실 1.50\n",
            "| 에폭 8 |  반복 461 / 9295 | 시간 3794[s] | 손실 1.53\n",
            "| 에폭 8 |  반복 481 / 9295 | 시간 3795[s] | 손실 1.52\n",
            "| 에폭 8 |  반복 501 / 9295 | 시간 3797[s] | 손실 1.51\n",
            "| 에폭 8 |  반복 521 / 9295 | 시간 3798[s] | 손실 1.53\n",
            "| 에폭 8 |  반복 541 / 9295 | 시간 3799[s] | 손실 1.50\n",
            "| 에폭 8 |  반복 561 / 9295 | 시간 3800[s] | 손실 1.55\n",
            "| 에폭 8 |  반복 581 / 9295 | 시간 3801[s] | 손실 1.50\n",
            "| 에폭 8 |  반복 601 / 9295 | 시간 3802[s] | 손실 1.52\n",
            "| 에폭 8 |  반복 621 / 9295 | 시간 3803[s] | 손실 1.51\n",
            "| 에폭 8 |  반복 641 / 9295 | 시간 3805[s] | 손실 1.54\n",
            "| 에폭 8 |  반복 661 / 9295 | 시간 3806[s] | 손실 1.56\n",
            "| 에폭 8 |  반복 681 / 9295 | 시간 3807[s] | 손실 1.50\n",
            "| 에폭 8 |  반복 701 / 9295 | 시간 3808[s] | 손실 1.49\n",
            "| 에폭 8 |  반복 721 / 9295 | 시간 3809[s] | 손실 1.52\n",
            "| 에폭 8 |  반복 741 / 9295 | 시간 3810[s] | 손실 1.51\n",
            "| 에폭 8 |  반복 761 / 9295 | 시간 3812[s] | 손실 1.53\n",
            "| 에폭 8 |  반복 781 / 9295 | 시간 3813[s] | 손실 1.52\n",
            "| 에폭 8 |  반복 801 / 9295 | 시간 3814[s] | 손실 1.53\n",
            "| 에폭 8 |  반복 821 / 9295 | 시간 3815[s] | 손실 1.54\n",
            "| 에폭 8 |  반복 841 / 9295 | 시간 3816[s] | 손실 1.53\n",
            "| 에폭 8 |  반복 861 / 9295 | 시간 3817[s] | 손실 1.55\n",
            "| 에폭 8 |  반복 881 / 9295 | 시간 3818[s] | 손실 1.48\n",
            "| 에폭 8 |  반복 901 / 9295 | 시간 3820[s] | 손실 1.48\n",
            "| 에폭 8 |  반복 921 / 9295 | 시간 3821[s] | 손실 1.49\n",
            "| 에폭 8 |  반복 941 / 9295 | 시간 3822[s] | 손실 1.52\n",
            "| 에폭 8 |  반복 961 / 9295 | 시간 3823[s] | 손실 1.52\n",
            "| 에폭 8 |  반복 981 / 9295 | 시간 3824[s] | 손실 1.48\n",
            "| 에폭 8 |  반복 1001 / 9295 | 시간 3825[s] | 손실 1.51\n",
            "| 에폭 8 |  반복 1021 / 9295 | 시간 3827[s] | 손실 1.50\n",
            "| 에폭 8 |  반복 1041 / 9295 | 시간 3828[s] | 손실 1.50\n",
            "| 에폭 8 |  반복 1061 / 9295 | 시간 3829[s] | 손실 1.52\n",
            "| 에폭 8 |  반복 1081 / 9295 | 시간 3830[s] | 손실 1.53\n",
            "| 에폭 8 |  반복 1101 / 9295 | 시간 3831[s] | 손실 1.51\n",
            "| 에폭 8 |  반복 1121 / 9295 | 시간 3832[s] | 손실 1.53\n",
            "| 에폭 8 |  반복 1141 / 9295 | 시간 3834[s] | 손실 1.50\n",
            "| 에폭 8 |  반복 1161 / 9295 | 시간 3835[s] | 손실 1.53\n",
            "| 에폭 8 |  반복 1181 / 9295 | 시간 3836[s] | 손실 1.54\n",
            "| 에폭 8 |  반복 1201 / 9295 | 시간 3837[s] | 손실 1.55\n",
            "| 에폭 8 |  반복 1221 / 9295 | 시간 3838[s] | 손실 1.51\n",
            "| 에폭 8 |  반복 1241 / 9295 | 시간 3839[s] | 손실 1.50\n",
            "| 에폭 8 |  반복 1261 / 9295 | 시간 3840[s] | 손실 1.56\n",
            "| 에폭 8 |  반복 1281 / 9295 | 시간 3842[s] | 손실 1.53\n",
            "| 에폭 8 |  반복 1301 / 9295 | 시간 3843[s] | 손실 1.52\n",
            "| 에폭 8 |  반복 1321 / 9295 | 시간 3844[s] | 손실 1.50\n",
            "| 에폭 8 |  반복 1341 / 9295 | 시간 3845[s] | 손실 1.52\n",
            "| 에폭 8 |  반복 1361 / 9295 | 시간 3846[s] | 손실 1.53\n",
            "| 에폭 8 |  반복 1381 / 9295 | 시간 3847[s] | 손실 1.56\n",
            "| 에폭 8 |  반복 1401 / 9295 | 시간 3849[s] | 손실 1.55\n",
            "| 에폭 8 |  반복 1421 / 9295 | 시간 3850[s] | 손실 1.47\n",
            "| 에폭 8 |  반복 1441 / 9295 | 시간 3851[s] | 손실 1.49\n",
            "| 에폭 8 |  반복 1461 / 9295 | 시간 3852[s] | 손실 1.51\n",
            "| 에폭 8 |  반복 1481 / 9295 | 시간 3853[s] | 손실 1.53\n",
            "| 에폭 8 |  반복 1501 / 9295 | 시간 3854[s] | 손실 1.55\n",
            "| 에폭 8 |  반복 1521 / 9295 | 시간 3855[s] | 손실 1.55\n",
            "| 에폭 8 |  반복 1541 / 9295 | 시간 3857[s] | 손실 1.55\n",
            "| 에폭 8 |  반복 1561 / 9295 | 시간 3858[s] | 손실 1.50\n",
            "| 에폭 8 |  반복 1581 / 9295 | 시간 3859[s] | 손실 1.51\n",
            "| 에폭 8 |  반복 1601 / 9295 | 시간 3860[s] | 손실 1.52\n",
            "| 에폭 8 |  반복 1621 / 9295 | 시간 3861[s] | 손실 1.51\n",
            "| 에폭 8 |  반복 1641 / 9295 | 시간 3862[s] | 손실 1.50\n",
            "| 에폭 8 |  반복 1661 / 9295 | 시간 3864[s] | 손실 1.46\n",
            "| 에폭 8 |  반복 1681 / 9295 | 시간 3865[s] | 손실 1.56\n",
            "| 에폭 8 |  반복 1701 / 9295 | 시간 3866[s] | 손실 1.50\n",
            "| 에폭 8 |  반복 1721 / 9295 | 시간 3867[s] | 손실 1.55\n",
            "| 에폭 8 |  반복 1741 / 9295 | 시간 3868[s] | 손실 1.53\n",
            "| 에폭 8 |  반복 1761 / 9295 | 시간 3869[s] | 손실 1.57\n",
            "| 에폭 8 |  반복 1781 / 9295 | 시간 3870[s] | 손실 1.51\n",
            "| 에폭 8 |  반복 1801 / 9295 | 시간 3872[s] | 손실 1.54\n",
            "| 에폭 8 |  반복 1821 / 9295 | 시간 3873[s] | 손실 1.52\n",
            "| 에폭 8 |  반복 1841 / 9295 | 시간 3874[s] | 손실 1.52\n",
            "| 에폭 8 |  반복 1861 / 9295 | 시간 3875[s] | 손실 1.50\n",
            "| 에폭 8 |  반복 1881 / 9295 | 시간 3876[s] | 손실 1.51\n",
            "| 에폭 8 |  반복 1901 / 9295 | 시간 3877[s] | 손실 1.54\n",
            "| 에폭 8 |  반복 1921 / 9295 | 시간 3879[s] | 손실 1.52\n",
            "| 에폭 8 |  반복 1941 / 9295 | 시간 3880[s] | 손실 1.54\n",
            "| 에폭 8 |  반복 1961 / 9295 | 시간 3881[s] | 손실 1.50\n",
            "| 에폭 8 |  반복 1981 / 9295 | 시간 3882[s] | 손실 1.49\n",
            "| 에폭 8 |  반복 2001 / 9295 | 시간 3883[s] | 손실 1.50\n",
            "| 에폭 8 |  반복 2021 / 9295 | 시간 3884[s] | 손실 1.53\n",
            "| 에폭 8 |  반복 2041 / 9295 | 시간 3886[s] | 손실 1.55\n",
            "| 에폭 8 |  반복 2061 / 9295 | 시간 3887[s] | 손실 1.54\n",
            "| 에폭 8 |  반복 2081 / 9295 | 시간 3888[s] | 손실 1.52\n",
            "| 에폭 8 |  반복 2101 / 9295 | 시간 3889[s] | 손실 1.52\n",
            "| 에폭 8 |  반복 2121 / 9295 | 시간 3890[s] | 손실 1.53\n",
            "| 에폭 8 |  반복 2141 / 9295 | 시간 3891[s] | 손실 1.54\n",
            "| 에폭 8 |  반복 2161 / 9295 | 시간 3892[s] | 손실 1.56\n",
            "| 에폭 8 |  반복 2181 / 9295 | 시간 3894[s] | 손실 1.52\n",
            "| 에폭 8 |  반복 2201 / 9295 | 시간 3895[s] | 손실 1.53\n",
            "| 에폭 8 |  반복 2221 / 9295 | 시간 3896[s] | 손실 1.52\n",
            "| 에폭 8 |  반복 2241 / 9295 | 시간 3897[s] | 손실 1.53\n",
            "| 에폭 8 |  반복 2261 / 9295 | 시간 3898[s] | 손실 1.56\n",
            "| 에폭 8 |  반복 2281 / 9295 | 시간 3899[s] | 손실 1.52\n",
            "| 에폭 8 |  반복 2301 / 9295 | 시간 3901[s] | 손실 1.57\n",
            "| 에폭 8 |  반복 2321 / 9295 | 시간 3902[s] | 손실 1.53\n",
            "| 에폭 8 |  반복 2341 / 9295 | 시간 3903[s] | 손실 1.53\n",
            "| 에폭 8 |  반복 2361 / 9295 | 시간 3904[s] | 손실 1.54\n",
            "| 에폭 8 |  반복 2381 / 9295 | 시간 3905[s] | 손실 1.52\n",
            "| 에폭 8 |  반복 2401 / 9295 | 시간 3906[s] | 손실 1.51\n",
            "| 에폭 8 |  반복 2421 / 9295 | 시간 3908[s] | 손실 1.59\n",
            "| 에폭 8 |  반복 2441 / 9295 | 시간 3909[s] | 손실 1.54\n",
            "| 에폭 8 |  반복 2461 / 9295 | 시간 3910[s] | 손실 1.53\n",
            "| 에폭 8 |  반복 2481 / 9295 | 시간 3911[s] | 손실 1.53\n",
            "| 에폭 8 |  반복 2501 / 9295 | 시간 3912[s] | 손실 1.53\n",
            "| 에폭 8 |  반복 2521 / 9295 | 시간 3913[s] | 손실 1.52\n",
            "| 에폭 8 |  반복 2541 / 9295 | 시간 3914[s] | 손실 1.51\n",
            "| 에폭 8 |  반복 2561 / 9295 | 시간 3916[s] | 손실 1.52\n",
            "| 에폭 8 |  반복 2581 / 9295 | 시간 3917[s] | 손실 1.56\n",
            "| 에폭 8 |  반복 2601 / 9295 | 시간 3918[s] | 손실 1.52\n",
            "| 에폭 8 |  반복 2621 / 9295 | 시간 3919[s] | 손실 1.54\n",
            "| 에폭 8 |  반복 2641 / 9295 | 시간 3920[s] | 손실 1.53\n",
            "| 에폭 8 |  반복 2661 / 9295 | 시간 3921[s] | 손실 1.53\n",
            "| 에폭 8 |  반복 2681 / 9295 | 시간 3923[s] | 손실 1.51\n",
            "| 에폭 8 |  반복 2701 / 9295 | 시간 3924[s] | 손실 1.53\n",
            "| 에폭 8 |  반복 2721 / 9295 | 시간 3925[s] | 손실 1.54\n",
            "| 에폭 8 |  반복 2741 / 9295 | 시간 3926[s] | 손실 1.54\n",
            "| 에폭 8 |  반복 2761 / 9295 | 시간 3927[s] | 손실 1.54\n",
            "| 에폭 8 |  반복 2781 / 9295 | 시간 3928[s] | 손실 1.55\n",
            "| 에폭 8 |  반복 2801 / 9295 | 시간 3929[s] | 손실 1.51\n",
            "| 에폭 8 |  반복 2821 / 9295 | 시간 3931[s] | 손실 1.51\n",
            "| 에폭 8 |  반복 2841 / 9295 | 시간 3932[s] | 손실 1.52\n",
            "| 에폭 8 |  반복 2861 / 9295 | 시간 3933[s] | 손실 1.50\n",
            "| 에폭 8 |  반복 2881 / 9295 | 시간 3934[s] | 손실 1.54\n",
            "| 에폭 8 |  반복 2901 / 9295 | 시간 3935[s] | 손실 1.53\n",
            "| 에폭 8 |  반복 2921 / 9295 | 시간 3936[s] | 손실 1.53\n",
            "| 에폭 8 |  반복 2941 / 9295 | 시간 3938[s] | 손실 1.53\n",
            "| 에폭 8 |  반복 2961 / 9295 | 시간 3939[s] | 손실 1.54\n",
            "| 에폭 8 |  반복 2981 / 9295 | 시간 3940[s] | 손실 1.54\n",
            "| 에폭 8 |  반복 3001 / 9295 | 시간 3941[s] | 손실 1.49\n",
            "| 에폭 8 |  반복 3021 / 9295 | 시간 3942[s] | 손실 1.50\n",
            "| 에폭 8 |  반복 3041 / 9295 | 시간 3943[s] | 손실 1.55\n",
            "| 에폭 8 |  반복 3061 / 9295 | 시간 3944[s] | 손실 1.51\n",
            "| 에폭 8 |  반복 3081 / 9295 | 시간 3946[s] | 손실 1.54\n",
            "| 에폭 8 |  반복 3101 / 9295 | 시간 3947[s] | 손실 1.55\n",
            "| 에폭 8 |  반복 3121 / 9295 | 시간 3948[s] | 손실 1.54\n",
            "| 에폭 8 |  반복 3141 / 9295 | 시간 3949[s] | 손실 1.53\n",
            "| 에폭 8 |  반복 3161 / 9295 | 시간 3950[s] | 손실 1.52\n",
            "| 에폭 8 |  반복 3181 / 9295 | 시간 3951[s] | 손실 1.46\n",
            "| 에폭 8 |  반복 3201 / 9295 | 시간 3952[s] | 손실 1.53\n",
            "| 에폭 8 |  반복 3221 / 9295 | 시간 3954[s] | 손실 1.54\n",
            "| 에폭 8 |  반복 3241 / 9295 | 시간 3955[s] | 손실 1.54\n",
            "| 에폭 8 |  반복 3261 / 9295 | 시간 3956[s] | 손실 1.54\n",
            "| 에폭 8 |  반복 3281 / 9295 | 시간 3957[s] | 손실 1.54\n",
            "| 에폭 8 |  반복 3301 / 9295 | 시간 3958[s] | 손실 1.52\n",
            "| 에폭 8 |  반복 3321 / 9295 | 시간 3959[s] | 손실 1.53\n",
            "| 에폭 8 |  반복 3341 / 9295 | 시간 3961[s] | 손실 1.52\n",
            "| 에폭 8 |  반복 3361 / 9295 | 시간 3962[s] | 손실 1.49\n",
            "| 에폭 8 |  반복 3381 / 9295 | 시간 3963[s] | 손실 1.55\n",
            "| 에폭 8 |  반복 3401 / 9295 | 시간 3964[s] | 손실 1.55\n",
            "| 에폭 8 |  반복 3421 / 9295 | 시간 3965[s] | 손실 1.56\n",
            "| 에폭 8 |  반복 3441 / 9295 | 시간 3966[s] | 손실 1.52\n",
            "| 에폭 8 |  반복 3461 / 9295 | 시간 3967[s] | 손실 1.52\n",
            "| 에폭 8 |  반복 3481 / 9295 | 시간 3969[s] | 손실 1.49\n",
            "| 에폭 8 |  반복 3501 / 9295 | 시간 3970[s] | 손실 1.53\n",
            "| 에폭 8 |  반복 3521 / 9295 | 시간 3971[s] | 손실 1.52\n",
            "| 에폭 8 |  반복 3541 / 9295 | 시간 3972[s] | 손실 1.53\n",
            "| 에폭 8 |  반복 3561 / 9295 | 시간 3973[s] | 손실 1.49\n",
            "| 에폭 8 |  반복 3581 / 9295 | 시간 3974[s] | 손실 1.52\n",
            "| 에폭 8 |  반복 3601 / 9295 | 시간 3975[s] | 손실 1.52\n",
            "| 에폭 8 |  반복 3621 / 9295 | 시간 3977[s] | 손실 1.56\n",
            "| 에폭 8 |  반복 3641 / 9295 | 시간 3978[s] | 손실 1.52\n",
            "| 에폭 8 |  반복 3661 / 9295 | 시간 3979[s] | 손실 1.58\n",
            "| 에폭 8 |  반복 3681 / 9295 | 시간 3980[s] | 손실 1.54\n",
            "| 에폭 8 |  반복 3701 / 9295 | 시간 3981[s] | 손실 1.53\n",
            "| 에폭 8 |  반복 3721 / 9295 | 시간 3982[s] | 손실 1.56\n",
            "| 에폭 8 |  반복 3741 / 9295 | 시간 3983[s] | 손실 1.51\n",
            "| 에폭 8 |  반복 3761 / 9295 | 시간 3985[s] | 손실 1.50\n",
            "| 에폭 8 |  반복 3781 / 9295 | 시간 3986[s] | 손실 1.53\n",
            "| 에폭 8 |  반복 3801 / 9295 | 시간 3987[s] | 손실 1.52\n",
            "| 에폭 8 |  반복 3821 / 9295 | 시간 3988[s] | 손실 1.53\n",
            "| 에폭 8 |  반복 3841 / 9295 | 시간 3989[s] | 손실 1.56\n",
            "| 에폭 8 |  반복 3861 / 9295 | 시간 3990[s] | 손실 1.55\n",
            "| 에폭 8 |  반복 3881 / 9295 | 시간 3992[s] | 손실 1.50\n",
            "| 에폭 8 |  반복 3901 / 9295 | 시간 3993[s] | 손실 1.54\n",
            "| 에폭 8 |  반복 3921 / 9295 | 시간 3994[s] | 손실 1.53\n",
            "| 에폭 8 |  반복 3941 / 9295 | 시간 3995[s] | 손실 1.53\n",
            "| 에폭 8 |  반복 3961 / 9295 | 시간 3996[s] | 손실 1.53\n",
            "| 에폭 8 |  반복 3981 / 9295 | 시간 3997[s] | 손실 1.55\n",
            "| 에폭 8 |  반복 4001 / 9295 | 시간 3999[s] | 손실 1.51\n",
            "| 에폭 8 |  반복 4021 / 9295 | 시간 4000[s] | 손실 1.53\n",
            "| 에폭 8 |  반복 4041 / 9295 | 시간 4001[s] | 손실 1.53\n",
            "| 에폭 8 |  반복 4061 / 9295 | 시간 4002[s] | 손실 1.53\n",
            "| 에폭 8 |  반복 4081 / 9295 | 시간 4003[s] | 손실 1.50\n",
            "| 에폭 8 |  반복 4101 / 9295 | 시간 4004[s] | 손실 1.53\n",
            "| 에폭 8 |  반복 4121 / 9295 | 시간 4005[s] | 손실 1.51\n",
            "| 에폭 8 |  반복 4141 / 9295 | 시간 4007[s] | 손실 1.51\n",
            "| 에폭 8 |  반복 4161 / 9295 | 시간 4008[s] | 손실 1.52\n",
            "| 에폭 8 |  반복 4181 / 9295 | 시간 4009[s] | 손실 1.52\n",
            "| 에폭 8 |  반복 4201 / 9295 | 시간 4010[s] | 손실 1.54\n",
            "| 에폭 8 |  반복 4221 / 9295 | 시간 4011[s] | 손실 1.56\n",
            "| 에폭 8 |  반복 4241 / 9295 | 시간 4012[s] | 손실 1.53\n",
            "| 에폭 8 |  반복 4261 / 9295 | 시간 4013[s] | 손실 1.56\n",
            "| 에폭 8 |  반복 4281 / 9295 | 시간 4015[s] | 손실 1.58\n",
            "| 에폭 8 |  반복 4301 / 9295 | 시간 4016[s] | 손실 1.55\n",
            "| 에폭 8 |  반복 4321 / 9295 | 시간 4017[s] | 손실 1.55\n",
            "| 에폭 8 |  반복 4341 / 9295 | 시간 4018[s] | 손실 1.54\n",
            "| 에폭 8 |  반복 4361 / 9295 | 시간 4019[s] | 손실 1.53\n",
            "| 에폭 8 |  반복 4381 / 9295 | 시간 4020[s] | 손실 1.54\n",
            "| 에폭 8 |  반복 4401 / 9295 | 시간 4021[s] | 손실 1.56\n",
            "| 에폭 8 |  반복 4421 / 9295 | 시간 4023[s] | 손실 1.55\n",
            "| 에폭 8 |  반복 4441 / 9295 | 시간 4024[s] | 손실 1.53\n",
            "| 에폭 8 |  반복 4461 / 9295 | 시간 4025[s] | 손실 1.55\n",
            "| 에폭 8 |  반복 4481 / 9295 | 시간 4026[s] | 손실 1.56\n",
            "| 에폭 8 |  반복 4501 / 9295 | 시간 4027[s] | 손실 1.58\n",
            "| 에폭 8 |  반복 4521 / 9295 | 시간 4028[s] | 손실 1.53\n",
            "| 에폭 8 |  반복 4541 / 9295 | 시간 4030[s] | 손실 1.55\n",
            "| 에폭 8 |  반복 4561 / 9295 | 시간 4031[s] | 손실 1.51\n",
            "| 에폭 8 |  반복 4581 / 9295 | 시간 4032[s] | 손실 1.54\n",
            "| 에폭 8 |  반복 4601 / 9295 | 시간 4033[s] | 손실 1.55\n",
            "| 에폭 8 |  반복 4621 / 9295 | 시간 4034[s] | 손실 1.48\n",
            "| 에폭 8 |  반복 4641 / 9295 | 시간 4035[s] | 손실 1.53\n",
            "| 에폭 8 |  반복 4661 / 9295 | 시간 4036[s] | 손실 1.51\n",
            "| 에폭 8 |  반복 4681 / 9295 | 시간 4038[s] | 손실 1.54\n",
            "| 에폭 8 |  반복 4701 / 9295 | 시간 4039[s] | 손실 1.54\n",
            "| 에폭 8 |  반복 4721 / 9295 | 시간 4040[s] | 손실 1.55\n",
            "| 에폭 8 |  반복 4741 / 9295 | 시간 4041[s] | 손실 1.55\n",
            "| 에폭 8 |  반복 4761 / 9295 | 시간 4042[s] | 손실 1.55\n",
            "| 에폭 8 |  반복 4781 / 9295 | 시간 4043[s] | 손실 1.54\n",
            "| 에폭 8 |  반복 4801 / 9295 | 시간 4045[s] | 손실 1.52\n",
            "| 에폭 8 |  반복 4821 / 9295 | 시간 4046[s] | 손실 1.56\n",
            "| 에폭 8 |  반복 4841 / 9295 | 시간 4047[s] | 손실 1.56\n",
            "| 에폭 8 |  반복 4861 / 9295 | 시간 4048[s] | 손실 1.56\n",
            "| 에폭 8 |  반복 4881 / 9295 | 시간 4049[s] | 손실 1.54\n",
            "| 에폭 8 |  반복 4901 / 9295 | 시간 4050[s] | 손실 1.57\n",
            "| 에폭 8 |  반복 4921 / 9295 | 시간 4051[s] | 손실 1.58\n",
            "| 에폭 8 |  반복 4941 / 9295 | 시간 4053[s] | 손실 1.54\n",
            "| 에폭 8 |  반복 4961 / 9295 | 시간 4054[s] | 손실 1.56\n",
            "| 에폭 8 |  반복 4981 / 9295 | 시간 4055[s] | 손실 1.54\n",
            "| 에폭 8 |  반복 5001 / 9295 | 시간 4056[s] | 손실 1.55\n",
            "| 에폭 8 |  반복 5021 / 9295 | 시간 4057[s] | 손실 1.51\n",
            "| 에폭 8 |  반복 5041 / 9295 | 시간 4059[s] | 손실 1.52\n",
            "| 에폭 8 |  반복 5061 / 9295 | 시간 4060[s] | 손실 1.53\n",
            "| 에폭 8 |  반복 5081 / 9295 | 시간 4061[s] | 손실 1.53\n",
            "| 에폭 8 |  반복 5101 / 9295 | 시간 4062[s] | 손실 1.53\n",
            "| 에폭 8 |  반복 5121 / 9295 | 시간 4063[s] | 손실 1.51\n",
            "| 에폭 8 |  반복 5141 / 9295 | 시간 4064[s] | 손실 1.52\n",
            "| 에폭 8 |  반복 5161 / 9295 | 시간 4065[s] | 손실 1.56\n",
            "| 에폭 8 |  반복 5181 / 9295 | 시간 4067[s] | 손실 1.56\n",
            "| 에폭 8 |  반복 5201 / 9295 | 시간 4068[s] | 손실 1.54\n",
            "| 에폭 8 |  반복 5221 / 9295 | 시간 4069[s] | 손실 1.52\n",
            "| 에폭 8 |  반복 5241 / 9295 | 시간 4070[s] | 손실 1.56\n",
            "| 에폭 8 |  반복 5261 / 9295 | 시간 4071[s] | 손실 1.53\n",
            "| 에폭 8 |  반복 5281 / 9295 | 시간 4072[s] | 손실 1.55\n",
            "| 에폭 8 |  반복 5301 / 9295 | 시간 4074[s] | 손실 1.56\n",
            "| 에폭 8 |  반복 5321 / 9295 | 시간 4075[s] | 손실 1.53\n",
            "| 에폭 8 |  반복 5341 / 9295 | 시간 4076[s] | 손실 1.53\n",
            "| 에폭 8 |  반복 5361 / 9295 | 시간 4077[s] | 손실 1.56\n",
            "| 에폭 8 |  반복 5381 / 9295 | 시간 4078[s] | 손실 1.52\n",
            "| 에폭 8 |  반복 5401 / 9295 | 시간 4079[s] | 손실 1.53\n",
            "| 에폭 8 |  반복 5421 / 9295 | 시간 4081[s] | 손실 1.57\n",
            "| 에폭 8 |  반복 5441 / 9295 | 시간 4082[s] | 손실 1.51\n",
            "| 에폭 8 |  반복 5461 / 9295 | 시간 4083[s] | 손실 1.52\n",
            "| 에폭 8 |  반복 5481 / 9295 | 시간 4084[s] | 손실 1.56\n",
            "| 에폭 8 |  반복 5501 / 9295 | 시간 4085[s] | 손실 1.53\n",
            "| 에폭 8 |  반복 5521 / 9295 | 시간 4086[s] | 손실 1.54\n",
            "| 에폭 8 |  반복 5541 / 9295 | 시간 4087[s] | 손실 1.58\n",
            "| 에폭 8 |  반복 5561 / 9295 | 시간 4089[s] | 손실 1.56\n",
            "| 에폭 8 |  반복 5581 / 9295 | 시간 4090[s] | 손실 1.53\n",
            "| 에폭 8 |  반복 5601 / 9295 | 시간 4091[s] | 손실 1.52\n",
            "| 에폭 8 |  반복 5621 / 9295 | 시간 4092[s] | 손실 1.54\n",
            "| 에폭 8 |  반복 5641 / 9295 | 시간 4093[s] | 손실 1.55\n",
            "| 에폭 8 |  반복 5661 / 9295 | 시간 4094[s] | 손실 1.51\n",
            "| 에폭 8 |  반복 5681 / 9295 | 시간 4096[s] | 손실 1.51\n",
            "| 에폭 8 |  반복 5701 / 9295 | 시간 4097[s] | 손실 1.56\n",
            "| 에폭 8 |  반복 5721 / 9295 | 시간 4098[s] | 손실 1.53\n",
            "| 에폭 8 |  반복 5741 / 9295 | 시간 4099[s] | 손실 1.55\n",
            "| 에폭 8 |  반복 5761 / 9295 | 시간 4100[s] | 손실 1.54\n",
            "| 에폭 8 |  반복 5781 / 9295 | 시간 4101[s] | 손실 1.55\n",
            "| 에폭 8 |  반복 5801 / 9295 | 시간 4102[s] | 손실 1.50\n",
            "| 에폭 8 |  반복 5821 / 9295 | 시간 4104[s] | 손실 1.59\n",
            "| 에폭 8 |  반복 5841 / 9295 | 시간 4105[s] | 손실 1.53\n",
            "| 에폭 8 |  반복 5861 / 9295 | 시간 4106[s] | 손실 1.55\n",
            "| 에폭 8 |  반복 5881 / 9295 | 시간 4107[s] | 손실 1.54\n",
            "| 에폭 8 |  반복 5901 / 9295 | 시간 4108[s] | 손실 1.53\n",
            "| 에폭 8 |  반복 5921 / 9295 | 시간 4109[s] | 손실 1.50\n",
            "| 에폭 8 |  반복 5941 / 9295 | 시간 4111[s] | 손실 1.58\n",
            "| 에폭 8 |  반복 5961 / 9295 | 시간 4112[s] | 손실 1.55\n",
            "| 에폭 8 |  반복 5981 / 9295 | 시간 4113[s] | 손실 1.56\n",
            "| 에폭 8 |  반복 6001 / 9295 | 시간 4114[s] | 손실 1.51\n",
            "| 에폭 8 |  반복 6021 / 9295 | 시간 4115[s] | 손실 1.54\n",
            "| 에폭 8 |  반복 6041 / 9295 | 시간 4116[s] | 손실 1.51\n",
            "| 에폭 8 |  반복 6061 / 9295 | 시간 4118[s] | 손실 1.53\n",
            "| 에폭 8 |  반복 6081 / 9295 | 시간 4119[s] | 손실 1.55\n",
            "| 에폭 8 |  반복 6101 / 9295 | 시간 4120[s] | 손실 1.55\n",
            "| 에폭 8 |  반복 6121 / 9295 | 시간 4121[s] | 손실 1.55\n",
            "| 에폭 8 |  반복 6141 / 9295 | 시간 4122[s] | 손실 1.54\n",
            "| 에폭 8 |  반복 6161 / 9295 | 시간 4123[s] | 손실 1.58\n",
            "| 에폭 8 |  반복 6181 / 9295 | 시간 4125[s] | 손실 1.55\n",
            "| 에폭 8 |  반복 6201 / 9295 | 시간 4126[s] | 손실 1.54\n",
            "| 에폭 8 |  반복 6221 / 9295 | 시간 4127[s] | 손실 1.54\n",
            "| 에폭 8 |  반복 6241 / 9295 | 시간 4128[s] | 손실 1.53\n",
            "| 에폭 8 |  반복 6261 / 9295 | 시간 4129[s] | 손실 1.55\n",
            "| 에폭 8 |  반복 6281 / 9295 | 시간 4130[s] | 손실 1.52\n",
            "| 에폭 8 |  반복 6301 / 9295 | 시간 4131[s] | 손실 1.52\n",
            "| 에폭 8 |  반복 6321 / 9295 | 시간 4133[s] | 손실 1.55\n",
            "| 에폭 8 |  반복 6341 / 9295 | 시간 4134[s] | 손실 1.51\n",
            "| 에폭 8 |  반복 6361 / 9295 | 시간 4135[s] | 손실 1.52\n",
            "| 에폭 8 |  반복 6381 / 9295 | 시간 4136[s] | 손실 1.56\n",
            "| 에폭 8 |  반복 6401 / 9295 | 시간 4137[s] | 손실 1.58\n",
            "| 에폭 8 |  반복 6421 / 9295 | 시간 4138[s] | 손실 1.55\n",
            "| 에폭 8 |  반복 6441 / 9295 | 시간 4140[s] | 손실 1.51\n",
            "| 에폭 8 |  반복 6461 / 9295 | 시간 4141[s] | 손실 1.53\n",
            "| 에폭 8 |  반복 6481 / 9295 | 시간 4142[s] | 손실 1.56\n",
            "| 에폭 8 |  반복 6501 / 9295 | 시간 4143[s] | 손실 1.53\n",
            "| 에폭 8 |  반복 6521 / 9295 | 시간 4144[s] | 손실 1.54\n",
            "| 에폭 8 |  반복 6541 / 9295 | 시간 4145[s] | 손실 1.53\n",
            "| 에폭 8 |  반복 6561 / 9295 | 시간 4147[s] | 손실 1.53\n",
            "| 에폭 8 |  반복 6581 / 9295 | 시간 4148[s] | 손실 1.54\n",
            "| 에폭 8 |  반복 6601 / 9295 | 시간 4149[s] | 손실 1.55\n",
            "| 에폭 8 |  반복 6621 / 9295 | 시간 4150[s] | 손실 1.52\n",
            "| 에폭 8 |  반복 6641 / 9295 | 시간 4151[s] | 손실 1.56\n",
            "| 에폭 8 |  반복 6661 / 9295 | 시간 4152[s] | 손실 1.51\n",
            "| 에폭 8 |  반복 6681 / 9295 | 시간 4153[s] | 손실 1.52\n",
            "| 에폭 8 |  반복 6701 / 9295 | 시간 4155[s] | 손실 1.53\n",
            "| 에폭 8 |  반복 6721 / 9295 | 시간 4156[s] | 손실 1.52\n",
            "| 에폭 8 |  반복 6741 / 9295 | 시간 4157[s] | 손실 1.51\n",
            "| 에폭 8 |  반복 6761 / 9295 | 시간 4158[s] | 손실 1.53\n",
            "| 에폭 8 |  반복 6781 / 9295 | 시간 4159[s] | 손실 1.56\n",
            "| 에폭 8 |  반복 6801 / 9295 | 시간 4160[s] | 손실 1.54\n",
            "| 에폭 8 |  반복 6821 / 9295 | 시간 4162[s] | 손실 1.57\n",
            "| 에폭 8 |  반복 6841 / 9295 | 시간 4163[s] | 손실 1.60\n",
            "| 에폭 8 |  반복 6861 / 9295 | 시간 4164[s] | 손실 1.53\n",
            "| 에폭 8 |  반복 6881 / 9295 | 시간 4165[s] | 손실 1.55\n",
            "| 에폭 8 |  반복 6901 / 9295 | 시간 4166[s] | 손실 1.54\n",
            "| 에폭 8 |  반복 6921 / 9295 | 시간 4167[s] | 손실 1.51\n",
            "| 에폭 8 |  반복 6941 / 9295 | 시간 4168[s] | 손실 1.54\n",
            "| 에폭 8 |  반복 6961 / 9295 | 시간 4170[s] | 손실 1.51\n",
            "| 에폭 8 |  반복 6981 / 9295 | 시간 4171[s] | 손실 1.54\n",
            "| 에폭 8 |  반복 7001 / 9295 | 시간 4172[s] | 손실 1.52\n",
            "| 에폭 8 |  반복 7021 / 9295 | 시간 4173[s] | 손실 1.56\n",
            "| 에폭 8 |  반복 7041 / 9295 | 시간 4174[s] | 손실 1.53\n",
            "| 에폭 8 |  반복 7061 / 9295 | 시간 4175[s] | 손실 1.55\n",
            "| 에폭 8 |  반복 7081 / 9295 | 시간 4177[s] | 손실 1.55\n",
            "| 에폭 8 |  반복 7101 / 9295 | 시간 4178[s] | 손실 1.57\n",
            "| 에폭 8 |  반복 7121 / 9295 | 시간 4179[s] | 손실 1.51\n",
            "| 에폭 8 |  반복 7141 / 9295 | 시간 4180[s] | 손실 1.52\n",
            "| 에폭 8 |  반복 7161 / 9295 | 시간 4181[s] | 손실 1.57\n",
            "| 에폭 8 |  반복 7181 / 9295 | 시간 4182[s] | 손실 1.53\n",
            "| 에폭 8 |  반복 7201 / 9295 | 시간 4183[s] | 손실 1.56\n",
            "| 에폭 8 |  반복 7221 / 9295 | 시간 4185[s] | 손실 1.51\n",
            "| 에폭 8 |  반복 7241 / 9295 | 시간 4186[s] | 손실 1.54\n",
            "| 에폭 8 |  반복 7261 / 9295 | 시간 4187[s] | 손실 1.54\n",
            "| 에폭 8 |  반복 7281 / 9295 | 시간 4188[s] | 손실 1.52\n",
            "| 에폭 8 |  반복 7301 / 9295 | 시간 4189[s] | 손실 1.57\n",
            "| 에폭 8 |  반복 7321 / 9295 | 시간 4190[s] | 손실 1.53\n",
            "| 에폭 8 |  반복 7341 / 9295 | 시간 4192[s] | 손실 1.55\n",
            "| 에폭 8 |  반복 7361 / 9295 | 시간 4193[s] | 손실 1.55\n",
            "| 에폭 8 |  반복 7381 / 9295 | 시간 4194[s] | 손실 1.56\n",
            "| 에폭 8 |  반복 7401 / 9295 | 시간 4195[s] | 손실 1.53\n",
            "| 에폭 8 |  반복 7421 / 9295 | 시간 4196[s] | 손실 1.56\n",
            "| 에폭 8 |  반복 7441 / 9295 | 시간 4197[s] | 손실 1.51\n",
            "| 에폭 8 |  반복 7461 / 9295 | 시간 4198[s] | 손실 1.56\n",
            "| 에폭 8 |  반복 7481 / 9295 | 시간 4200[s] | 손실 1.50\n",
            "| 에폭 8 |  반복 7501 / 9295 | 시간 4201[s] | 손실 1.55\n",
            "| 에폭 8 |  반복 7521 / 9295 | 시간 4202[s] | 손실 1.55\n",
            "| 에폭 8 |  반복 7541 / 9295 | 시간 4203[s] | 손실 1.56\n",
            "| 에폭 8 |  반복 7561 / 9295 | 시간 4204[s] | 손실 1.57\n",
            "| 에폭 8 |  반복 7581 / 9295 | 시간 4205[s] | 손실 1.55\n",
            "| 에폭 8 |  반복 7601 / 9295 | 시간 4206[s] | 손실 1.49\n",
            "| 에폭 8 |  반복 7621 / 9295 | 시간 4208[s] | 손실 1.58\n",
            "| 에폭 8 |  반복 7641 / 9295 | 시간 4209[s] | 손실 1.56\n",
            "| 에폭 8 |  반복 7661 / 9295 | 시간 4210[s] | 손실 1.50\n",
            "| 에폭 8 |  반복 7681 / 9295 | 시간 4211[s] | 손실 1.59\n",
            "| 에폭 8 |  반복 7701 / 9295 | 시간 4212[s] | 손실 1.51\n",
            "| 에폭 8 |  반복 7721 / 9295 | 시간 4213[s] | 손실 1.50\n",
            "| 에폭 8 |  반복 7741 / 9295 | 시간 4214[s] | 손실 1.53\n",
            "| 에폭 8 |  반복 7761 / 9295 | 시간 4216[s] | 손실 1.53\n",
            "| 에폭 8 |  반복 7781 / 9295 | 시간 4217[s] | 손실 1.55\n",
            "| 에폭 8 |  반복 7801 / 9295 | 시간 4218[s] | 손실 1.49\n",
            "| 에폭 8 |  반복 7821 / 9295 | 시간 4219[s] | 손실 1.56\n",
            "| 에폭 8 |  반복 7841 / 9295 | 시간 4220[s] | 손실 1.52\n",
            "| 에폭 8 |  반복 7861 / 9295 | 시간 4221[s] | 손실 1.50\n",
            "| 에폭 8 |  반복 7881 / 9295 | 시간 4223[s] | 손실 1.54\n",
            "| 에폭 8 |  반복 7901 / 9295 | 시간 4224[s] | 손실 1.60\n",
            "| 에폭 8 |  반복 7921 / 9295 | 시간 4225[s] | 손실 1.56\n",
            "| 에폭 8 |  반복 7941 / 9295 | 시간 4226[s] | 손실 1.55\n",
            "| 에폭 8 |  반복 7961 / 9295 | 시간 4227[s] | 손실 1.50\n",
            "| 에폭 8 |  반복 7981 / 9295 | 시간 4228[s] | 손실 1.55\n",
            "| 에폭 8 |  반복 8001 / 9295 | 시간 4229[s] | 손실 1.56\n",
            "| 에폭 8 |  반복 8021 / 9295 | 시간 4231[s] | 손실 1.52\n",
            "| 에폭 8 |  반복 8041 / 9295 | 시간 4232[s] | 손실 1.54\n",
            "| 에폭 8 |  반복 8061 / 9295 | 시간 4233[s] | 손실 1.53\n",
            "| 에폭 8 |  반복 8081 / 9295 | 시간 4234[s] | 손실 1.57\n",
            "| 에폭 8 |  반복 8101 / 9295 | 시간 4235[s] | 손실 1.55\n",
            "| 에폭 8 |  반복 8121 / 9295 | 시간 4236[s] | 손실 1.54\n",
            "| 에폭 8 |  반복 8141 / 9295 | 시간 4237[s] | 손실 1.53\n",
            "| 에폭 8 |  반복 8161 / 9295 | 시간 4239[s] | 손실 1.54\n",
            "| 에폭 8 |  반복 8181 / 9295 | 시간 4240[s] | 손실 1.52\n",
            "| 에폭 8 |  반복 8201 / 9295 | 시간 4241[s] | 손실 1.51\n",
            "| 에폭 8 |  반복 8221 / 9295 | 시간 4242[s] | 손실 1.54\n",
            "| 에폭 8 |  반복 8241 / 9295 | 시간 4243[s] | 손실 1.54\n",
            "| 에폭 8 |  반복 8261 / 9295 | 시간 4244[s] | 손실 1.53\n",
            "| 에폭 8 |  반복 8281 / 9295 | 시간 4245[s] | 손실 1.52\n",
            "| 에폭 8 |  반복 8301 / 9295 | 시간 4247[s] | 손실 1.55\n",
            "| 에폭 8 |  반복 8321 / 9295 | 시간 4248[s] | 손실 1.49\n",
            "| 에폭 8 |  반복 8341 / 9295 | 시간 4249[s] | 손실 1.52\n",
            "| 에폭 8 |  반복 8361 / 9295 | 시간 4250[s] | 손실 1.54\n",
            "| 에폭 8 |  반복 8381 / 9295 | 시간 4251[s] | 손실 1.53\n",
            "| 에폭 8 |  반복 8401 / 9295 | 시간 4252[s] | 손실 1.52\n",
            "| 에폭 8 |  반복 8421 / 9295 | 시간 4254[s] | 손실 1.55\n",
            "| 에폭 8 |  반복 8441 / 9295 | 시간 4255[s] | 손실 1.50\n",
            "| 에폭 8 |  반복 8461 / 9295 | 시간 4256[s] | 손실 1.51\n",
            "| 에폭 8 |  반복 8481 / 9295 | 시간 4257[s] | 손실 1.54\n",
            "| 에폭 8 |  반복 8501 / 9295 | 시간 4258[s] | 손실 1.53\n",
            "| 에폭 8 |  반복 8521 / 9295 | 시간 4259[s] | 손실 1.53\n",
            "| 에폭 8 |  반복 8541 / 9295 | 시간 4260[s] | 손실 1.58\n",
            "| 에폭 8 |  반복 8561 / 9295 | 시간 4262[s] | 손실 1.52\n",
            "| 에폭 8 |  반복 8581 / 9295 | 시간 4263[s] | 손실 1.56\n",
            "| 에폭 8 |  반복 8601 / 9295 | 시간 4264[s] | 손실 1.53\n",
            "| 에폭 8 |  반복 8621 / 9295 | 시간 4265[s] | 손실 1.52\n",
            "| 에폭 8 |  반복 8641 / 9295 | 시간 4266[s] | 손실 1.52\n",
            "| 에폭 8 |  반복 8661 / 9295 | 시간 4267[s] | 손실 1.54\n",
            "| 에폭 8 |  반복 8681 / 9295 | 시간 4268[s] | 손실 1.57\n",
            "| 에폭 8 |  반복 8701 / 9295 | 시간 4270[s] | 손실 1.54\n",
            "| 에폭 8 |  반복 8721 / 9295 | 시간 4271[s] | 손실 1.55\n",
            "| 에폭 8 |  반복 8741 / 9295 | 시간 4272[s] | 손실 1.53\n",
            "| 에폭 8 |  반복 8761 / 9295 | 시간 4273[s] | 손실 1.55\n",
            "| 에폭 8 |  반복 8781 / 9295 | 시간 4274[s] | 손실 1.53\n",
            "| 에폭 8 |  반복 8801 / 9295 | 시간 4275[s] | 손실 1.56\n",
            "| 에폭 8 |  반복 8821 / 9295 | 시간 4277[s] | 손실 1.55\n",
            "| 에폭 8 |  반복 8841 / 9295 | 시간 4278[s] | 손실 1.52\n",
            "| 에폭 8 |  반복 8861 / 9295 | 시간 4279[s] | 손실 1.54\n",
            "| 에폭 8 |  반복 8881 / 9295 | 시간 4280[s] | 손실 1.56\n",
            "| 에폭 8 |  반복 8901 / 9295 | 시간 4281[s] | 손실 1.58\n",
            "| 에폭 8 |  반복 8921 / 9295 | 시간 4282[s] | 손실 1.58\n",
            "| 에폭 8 |  반복 8941 / 9295 | 시간 4283[s] | 손실 1.56\n",
            "| 에폭 8 |  반복 8961 / 9295 | 시간 4285[s] | 손실 1.53\n",
            "| 에폭 8 |  반복 8981 / 9295 | 시간 4286[s] | 손실 1.50\n",
            "| 에폭 8 |  반복 9001 / 9295 | 시간 4287[s] | 손실 1.56\n",
            "| 에폭 8 |  반복 9021 / 9295 | 시간 4288[s] | 손실 1.50\n",
            "| 에폭 8 |  반복 9041 / 9295 | 시간 4289[s] | 손실 1.54\n",
            "| 에폭 8 |  반복 9061 / 9295 | 시간 4290[s] | 손실 1.59\n",
            "| 에폭 8 |  반복 9081 / 9295 | 시간 4291[s] | 손실 1.52\n",
            "| 에폭 8 |  반복 9101 / 9295 | 시간 4293[s] | 손실 1.57\n",
            "| 에폭 8 |  반복 9121 / 9295 | 시간 4294[s] | 손실 1.55\n",
            "| 에폭 8 |  반복 9141 / 9295 | 시간 4295[s] | 손실 1.55\n",
            "| 에폭 8 |  반복 9161 / 9295 | 시간 4296[s] | 손실 1.54\n",
            "| 에폭 8 |  반복 9181 / 9295 | 시간 4297[s] | 손실 1.52\n",
            "| 에폭 8 |  반복 9201 / 9295 | 시간 4298[s] | 손실 1.58\n",
            "| 에폭 8 |  반복 9221 / 9295 | 시간 4299[s] | 손실 1.56\n",
            "| 에폭 8 |  반복 9241 / 9295 | 시간 4301[s] | 손실 1.55\n",
            "| 에폭 8 |  반복 9261 / 9295 | 시간 4302[s] | 손실 1.58\n",
            "| 에폭 8 |  반복 9281 / 9295 | 시간 4303[s] | 손실 1.54\n",
            "| 에폭 9 |  반복 1 / 9295 | 시간 4304[s] | 손실 1.52\n",
            "| 에폭 9 |  반복 21 / 9295 | 시간 4305[s] | 손실 1.44\n",
            "| 에폭 9 |  반복 41 / 9295 | 시간 4306[s] | 손실 1.45\n",
            "| 에폭 9 |  반복 61 / 9295 | 시간 4307[s] | 손실 1.43\n",
            "| 에폭 9 |  반복 81 / 9295 | 시간 4308[s] | 손실 1.47\n",
            "| 에폭 9 |  반복 101 / 9295 | 시간 4310[s] | 손실 1.45\n",
            "| 에폭 9 |  반복 121 / 9295 | 시간 4311[s] | 손실 1.43\n",
            "| 에폭 9 |  반복 141 / 9295 | 시간 4312[s] | 손실 1.47\n",
            "| 에폭 9 |  반복 161 / 9295 | 시간 4313[s] | 손실 1.45\n",
            "| 에폭 9 |  반복 181 / 9295 | 시간 4314[s] | 손실 1.44\n",
            "| 에폭 9 |  반복 201 / 9295 | 시간 4315[s] | 손실 1.46\n",
            "| 에폭 9 |  반복 221 / 9295 | 시간 4317[s] | 손실 1.49\n",
            "| 에폭 9 |  반복 241 / 9295 | 시간 4318[s] | 손실 1.45\n",
            "| 에폭 9 |  반복 261 / 9295 | 시간 4319[s] | 손실 1.47\n",
            "| 에폭 9 |  반복 281 / 9295 | 시간 4320[s] | 손실 1.51\n",
            "| 에폭 9 |  반복 301 / 9295 | 시간 4321[s] | 손실 1.44\n",
            "| 에폭 9 |  반복 321 / 9295 | 시간 4322[s] | 손실 1.46\n",
            "| 에폭 9 |  반복 341 / 9295 | 시간 4323[s] | 손실 1.44\n",
            "| 에폭 9 |  반복 361 / 9295 | 시간 4325[s] | 손실 1.47\n",
            "| 에폭 9 |  반복 381 / 9295 | 시간 4326[s] | 손실 1.47\n",
            "| 에폭 9 |  반복 401 / 9295 | 시간 4327[s] | 손실 1.46\n",
            "| 에폭 9 |  반복 421 / 9295 | 시간 4328[s] | 손실 1.47\n",
            "| 에폭 9 |  반복 441 / 9295 | 시간 4329[s] | 손실 1.45\n",
            "| 에폭 9 |  반복 461 / 9295 | 시간 4330[s] | 손실 1.48\n",
            "| 에폭 9 |  반복 481 / 9295 | 시간 4331[s] | 손실 1.48\n",
            "| 에폭 9 |  반복 501 / 9295 | 시간 4333[s] | 손실 1.47\n",
            "| 에폭 9 |  반복 521 / 9295 | 시간 4334[s] | 손실 1.44\n",
            "| 에폭 9 |  반복 541 / 9295 | 시간 4335[s] | 손실 1.48\n",
            "| 에폭 9 |  반복 561 / 9295 | 시간 4336[s] | 손실 1.45\n",
            "| 에폭 9 |  반복 581 / 9295 | 시간 4337[s] | 손실 1.50\n",
            "| 에폭 9 |  반복 601 / 9295 | 시간 4338[s] | 손실 1.41\n",
            "| 에폭 9 |  반복 621 / 9295 | 시간 4339[s] | 손실 1.46\n",
            "| 에폭 9 |  반복 641 / 9295 | 시간 4341[s] | 손실 1.46\n",
            "| 에폭 9 |  반복 661 / 9295 | 시간 4342[s] | 손실 1.45\n",
            "| 에폭 9 |  반복 681 / 9295 | 시간 4343[s] | 손실 1.46\n",
            "| 에폭 9 |  반복 701 / 9295 | 시간 4344[s] | 손실 1.46\n",
            "| 에폭 9 |  반복 721 / 9295 | 시간 4345[s] | 손실 1.48\n",
            "| 에폭 9 |  반복 741 / 9295 | 시간 4346[s] | 손실 1.49\n",
            "| 에폭 9 |  반복 761 / 9295 | 시간 4347[s] | 손실 1.44\n",
            "| 에폭 9 |  반복 781 / 9295 | 시간 4349[s] | 손실 1.47\n",
            "| 에폭 9 |  반복 801 / 9295 | 시간 4350[s] | 손실 1.46\n",
            "| 에폭 9 |  반복 821 / 9295 | 시간 4351[s] | 손실 1.46\n",
            "| 에폭 9 |  반복 841 / 9295 | 시간 4352[s] | 손실 1.47\n",
            "| 에폭 9 |  반복 861 / 9295 | 시간 4353[s] | 손실 1.48\n",
            "| 에폭 9 |  반복 881 / 9295 | 시간 4354[s] | 손실 1.42\n",
            "| 에폭 9 |  반복 901 / 9295 | 시간 4356[s] | 손실 1.49\n",
            "| 에폭 9 |  반복 921 / 9295 | 시간 4357[s] | 손실 1.45\n",
            "| 에폭 9 |  반복 941 / 9295 | 시간 4358[s] | 손실 1.46\n",
            "| 에폭 9 |  반복 961 / 9295 | 시간 4359[s] | 손실 1.46\n",
            "| 에폭 9 |  반복 981 / 9295 | 시간 4360[s] | 손실 1.49\n",
            "| 에폭 9 |  반복 1001 / 9295 | 시간 4361[s] | 손실 1.48\n",
            "| 에폭 9 |  반복 1021 / 9295 | 시간 4362[s] | 손실 1.47\n",
            "| 에폭 9 |  반복 1041 / 9295 | 시간 4364[s] | 손실 1.47\n",
            "| 에폭 9 |  반복 1061 / 9295 | 시간 4365[s] | 손실 1.50\n",
            "| 에폭 9 |  반복 1081 / 9295 | 시간 4366[s] | 손실 1.44\n",
            "| 에폭 9 |  반복 1101 / 9295 | 시간 4367[s] | 손실 1.48\n",
            "| 에폭 9 |  반복 1121 / 9295 | 시간 4368[s] | 손실 1.52\n",
            "| 에폭 9 |  반복 1141 / 9295 | 시간 4369[s] | 손실 1.49\n",
            "| 에폭 9 |  반복 1161 / 9295 | 시간 4370[s] | 손실 1.54\n",
            "| 에폭 9 |  반복 1181 / 9295 | 시간 4372[s] | 손실 1.50\n",
            "| 에폭 9 |  반복 1201 / 9295 | 시간 4373[s] | 손실 1.45\n",
            "| 에폭 9 |  반복 1221 / 9295 | 시간 4374[s] | 손실 1.44\n",
            "| 에폭 9 |  반복 1241 / 9295 | 시간 4375[s] | 손실 1.44\n",
            "| 에폭 9 |  반복 1261 / 9295 | 시간 4376[s] | 손실 1.47\n",
            "| 에폭 9 |  반복 1281 / 9295 | 시간 4377[s] | 손실 1.43\n",
            "| 에폭 9 |  반복 1301 / 9295 | 시간 4378[s] | 손실 1.47\n",
            "| 에폭 9 |  반복 1321 / 9295 | 시간 4380[s] | 손실 1.46\n",
            "| 에폭 9 |  반복 1341 / 9295 | 시간 4381[s] | 손실 1.44\n",
            "| 에폭 9 |  반복 1361 / 9295 | 시간 4382[s] | 손실 1.46\n",
            "| 에폭 9 |  반복 1381 / 9295 | 시간 4383[s] | 손실 1.47\n",
            "| 에폭 9 |  반복 1401 / 9295 | 시간 4384[s] | 손실 1.46\n",
            "| 에폭 9 |  반복 1421 / 9295 | 시간 4385[s] | 손실 1.43\n",
            "| 에폭 9 |  반복 1441 / 9295 | 시간 4386[s] | 손실 1.48\n",
            "| 에폭 9 |  반복 1461 / 9295 | 시간 4388[s] | 손실 1.44\n",
            "| 에폭 9 |  반복 1481 / 9295 | 시간 4389[s] | 손실 1.46\n",
            "| 에폭 9 |  반복 1501 / 9295 | 시간 4390[s] | 손실 1.47\n",
            "| 에폭 9 |  반복 1521 / 9295 | 시간 4391[s] | 손실 1.48\n",
            "| 에폭 9 |  반복 1541 / 9295 | 시간 4392[s] | 손실 1.47\n",
            "| 에폭 9 |  반복 1561 / 9295 | 시간 4393[s] | 손실 1.48\n",
            "| 에폭 9 |  반복 1581 / 9295 | 시간 4394[s] | 손실 1.49\n",
            "| 에폭 9 |  반복 1601 / 9295 | 시간 4396[s] | 손실 1.44\n",
            "| 에폭 9 |  반복 1621 / 9295 | 시간 4397[s] | 손실 1.45\n",
            "| 에폭 9 |  반복 1641 / 9295 | 시간 4398[s] | 손실 1.49\n",
            "| 에폭 9 |  반복 1661 / 9295 | 시간 4399[s] | 손실 1.48\n",
            "| 에폭 9 |  반복 1681 / 9295 | 시간 4400[s] | 손실 1.48\n",
            "| 에폭 9 |  반복 1701 / 9295 | 시간 4401[s] | 손실 1.50\n",
            "| 에폭 9 |  반복 1721 / 9295 | 시간 4402[s] | 손실 1.46\n",
            "| 에폭 9 |  반복 1741 / 9295 | 시간 4404[s] | 손실 1.48\n",
            "| 에폭 9 |  반복 1761 / 9295 | 시간 4405[s] | 손실 1.50\n",
            "| 에폭 9 |  반복 1781 / 9295 | 시간 4406[s] | 손실 1.53\n",
            "| 에폭 9 |  반복 1801 / 9295 | 시간 4407[s] | 손실 1.45\n",
            "| 에폭 9 |  반복 1821 / 9295 | 시간 4408[s] | 손실 1.46\n",
            "| 에폭 9 |  반복 1841 / 9295 | 시간 4409[s] | 손실 1.48\n",
            "| 에폭 9 |  반복 1861 / 9295 | 시간 4410[s] | 손실 1.46\n",
            "| 에폭 9 |  반복 1881 / 9295 | 시간 4412[s] | 손실 1.46\n",
            "| 에폭 9 |  반복 1901 / 9295 | 시간 4413[s] | 손실 1.46\n",
            "| 에폭 9 |  반복 1921 / 9295 | 시간 4414[s] | 손실 1.46\n",
            "| 에폭 9 |  반복 1941 / 9295 | 시간 4415[s] | 손실 1.47\n",
            "| 에폭 9 |  반복 1961 / 9295 | 시간 4416[s] | 손실 1.54\n",
            "| 에폭 9 |  반복 1981 / 9295 | 시간 4417[s] | 손실 1.44\n",
            "| 에폭 9 |  반복 2001 / 9295 | 시간 4418[s] | 손실 1.48\n",
            "| 에폭 9 |  반복 2021 / 9295 | 시간 4420[s] | 손실 1.48\n",
            "| 에폭 9 |  반복 2041 / 9295 | 시간 4421[s] | 손실 1.50\n",
            "| 에폭 9 |  반복 2061 / 9295 | 시간 4422[s] | 손실 1.46\n",
            "| 에폭 9 |  반복 2081 / 9295 | 시간 4423[s] | 손실 1.50\n",
            "| 에폭 9 |  반복 2101 / 9295 | 시간 4424[s] | 손실 1.48\n",
            "| 에폭 9 |  반복 2121 / 9295 | 시간 4425[s] | 손실 1.48\n",
            "| 에폭 9 |  반복 2141 / 9295 | 시간 4427[s] | 손실 1.46\n",
            "| 에폭 9 |  반복 2161 / 9295 | 시간 4428[s] | 손실 1.50\n",
            "| 에폭 9 |  반복 2181 / 9295 | 시간 4429[s] | 손실 1.47\n",
            "| 에폭 9 |  반복 2201 / 9295 | 시간 4430[s] | 손실 1.51\n",
            "| 에폭 9 |  반복 2221 / 9295 | 시간 4431[s] | 손실 1.45\n",
            "| 에폭 9 |  반복 2241 / 9295 | 시간 4432[s] | 손실 1.45\n",
            "| 에폭 9 |  반복 2261 / 9295 | 시간 4433[s] | 손실 1.46\n",
            "| 에폭 9 |  반복 2281 / 9295 | 시간 4434[s] | 손실 1.50\n",
            "| 에폭 9 |  반복 2301 / 9295 | 시간 4436[s] | 손실 1.49\n",
            "| 에폭 9 |  반복 2321 / 9295 | 시간 4437[s] | 손실 1.49\n",
            "| 에폭 9 |  반복 2341 / 9295 | 시간 4438[s] | 손실 1.48\n",
            "| 에폭 9 |  반복 2361 / 9295 | 시간 4439[s] | 손실 1.50\n",
            "| 에폭 9 |  반복 2381 / 9295 | 시간 4440[s] | 손실 1.49\n",
            "| 에폭 9 |  반복 2401 / 9295 | 시간 4441[s] | 손실 1.48\n",
            "| 에폭 9 |  반복 2421 / 9295 | 시간 4443[s] | 손실 1.48\n",
            "| 에폭 9 |  반복 2441 / 9295 | 시간 4444[s] | 손실 1.49\n",
            "| 에폭 9 |  반복 2461 / 9295 | 시간 4445[s] | 손실 1.53\n",
            "| 에폭 9 |  반복 2481 / 9295 | 시간 4446[s] | 손실 1.48\n",
            "| 에폭 9 |  반복 2501 / 9295 | 시간 4447[s] | 손실 1.49\n",
            "| 에폭 9 |  반복 2521 / 9295 | 시간 4448[s] | 손실 1.46\n",
            "| 에폭 9 |  반복 2541 / 9295 | 시간 4449[s] | 손실 1.50\n",
            "| 에폭 9 |  반복 2561 / 9295 | 시간 4450[s] | 손실 1.51\n",
            "| 에폭 9 |  반복 2581 / 9295 | 시간 4452[s] | 손실 1.49\n",
            "| 에폭 9 |  반복 2601 / 9295 | 시간 4453[s] | 손실 1.47\n",
            "| 에폭 9 |  반복 2621 / 9295 | 시간 4454[s] | 손실 1.47\n",
            "| 에폭 9 |  반복 2641 / 9295 | 시간 4455[s] | 손실 1.46\n",
            "| 에폭 9 |  반복 2661 / 9295 | 시간 4456[s] | 손실 1.50\n",
            "| 에폭 9 |  반복 2681 / 9295 | 시간 4457[s] | 손실 1.50\n",
            "| 에폭 9 |  반복 2701 / 9295 | 시간 4459[s] | 손실 1.46\n",
            "| 에폭 9 |  반복 2721 / 9295 | 시간 4460[s] | 손실 1.49\n",
            "| 에폭 9 |  반복 2741 / 9295 | 시간 4461[s] | 손실 1.48\n",
            "| 에폭 9 |  반복 2761 / 9295 | 시간 4462[s] | 손실 1.46\n",
            "| 에폭 9 |  반복 2781 / 9295 | 시간 4463[s] | 손실 1.50\n",
            "| 에폭 9 |  반복 2801 / 9295 | 시간 4464[s] | 손실 1.51\n",
            "| 에폭 9 |  반복 2821 / 9295 | 시간 4465[s] | 손실 1.52\n",
            "| 에폭 9 |  반복 2841 / 9295 | 시간 4467[s] | 손실 1.45\n",
            "| 에폭 9 |  반복 2861 / 9295 | 시간 4468[s] | 손실 1.46\n",
            "| 에폭 9 |  반복 2881 / 9295 | 시간 4469[s] | 손실 1.47\n",
            "| 에폭 9 |  반복 2901 / 9295 | 시간 4470[s] | 손실 1.48\n",
            "| 에폭 9 |  반복 2921 / 9295 | 시간 4471[s] | 손실 1.53\n",
            "| 에폭 9 |  반복 2941 / 9295 | 시간 4472[s] | 손실 1.51\n",
            "| 에폭 9 |  반복 2961 / 9295 | 시간 4474[s] | 손실 1.51\n",
            "| 에폭 9 |  반복 2981 / 9295 | 시간 4475[s] | 손실 1.44\n",
            "| 에폭 9 |  반복 3001 / 9295 | 시간 4476[s] | 손실 1.44\n",
            "| 에폭 9 |  반복 3021 / 9295 | 시간 4477[s] | 손실 1.46\n",
            "| 에폭 9 |  반복 3041 / 9295 | 시간 4478[s] | 손실 1.47\n",
            "| 에폭 9 |  반복 3061 / 9295 | 시간 4479[s] | 손실 1.51\n",
            "| 에폭 9 |  반복 3081 / 9295 | 시간 4480[s] | 손실 1.45\n",
            "| 에폭 9 |  반복 3101 / 9295 | 시간 4482[s] | 손실 1.51\n",
            "| 에폭 9 |  반복 3121 / 9295 | 시간 4483[s] | 손실 1.47\n",
            "| 에폭 9 |  반복 3141 / 9295 | 시간 4484[s] | 손실 1.47\n",
            "| 에폭 9 |  반복 3161 / 9295 | 시간 4485[s] | 손실 1.47\n",
            "| 에폭 9 |  반복 3181 / 9295 | 시간 4486[s] | 손실 1.48\n",
            "| 에폭 9 |  반복 3201 / 9295 | 시간 4487[s] | 손실 1.45\n",
            "| 에폭 9 |  반복 3221 / 9295 | 시간 4488[s] | 손실 1.50\n",
            "| 에폭 9 |  반복 3241 / 9295 | 시간 4490[s] | 손실 1.50\n",
            "| 에폭 9 |  반복 3261 / 9295 | 시간 4491[s] | 손실 1.51\n",
            "| 에폭 9 |  반복 3281 / 9295 | 시간 4492[s] | 손실 1.52\n",
            "| 에폭 9 |  반복 3301 / 9295 | 시간 4493[s] | 손실 1.48\n",
            "| 에폭 9 |  반복 3321 / 9295 | 시간 4494[s] | 손실 1.46\n",
            "| 에폭 9 |  반복 3341 / 9295 | 시간 4495[s] | 손실 1.45\n",
            "| 에폭 9 |  반복 3361 / 9295 | 시간 4497[s] | 손실 1.46\n",
            "| 에폭 9 |  반복 3381 / 9295 | 시간 4498[s] | 손실 1.50\n",
            "| 에폭 9 |  반복 3401 / 9295 | 시간 4499[s] | 손실 1.42\n",
            "| 에폭 9 |  반복 3421 / 9295 | 시간 4500[s] | 손실 1.49\n",
            "| 에폭 9 |  반복 3441 / 9295 | 시간 4501[s] | 손실 1.51\n",
            "| 에폭 9 |  반복 3461 / 9295 | 시간 4502[s] | 손실 1.46\n",
            "| 에폭 9 |  반복 3481 / 9295 | 시간 4503[s] | 손실 1.45\n",
            "| 에폭 9 |  반복 3501 / 9295 | 시간 4505[s] | 손실 1.47\n",
            "| 에폭 9 |  반복 3521 / 9295 | 시간 4506[s] | 손실 1.45\n",
            "| 에폭 9 |  반복 3541 / 9295 | 시간 4507[s] | 손실 1.47\n",
            "| 에폭 9 |  반복 3561 / 9295 | 시간 4508[s] | 손실 1.48\n",
            "| 에폭 9 |  반복 3581 / 9295 | 시간 4509[s] | 손실 1.48\n",
            "| 에폭 9 |  반복 3601 / 9295 | 시간 4510[s] | 손실 1.48\n",
            "| 에폭 9 |  반복 3621 / 9295 | 시간 4512[s] | 손실 1.52\n",
            "| 에폭 9 |  반복 3641 / 9295 | 시간 4513[s] | 손실 1.48\n",
            "| 에폭 9 |  반복 3661 / 9295 | 시간 4514[s] | 손실 1.47\n",
            "| 에폭 9 |  반복 3681 / 9295 | 시간 4515[s] | 손실 1.51\n",
            "| 에폭 9 |  반복 3701 / 9295 | 시간 4516[s] | 손실 1.50\n",
            "| 에폭 9 |  반복 3721 / 9295 | 시간 4517[s] | 손실 1.48\n",
            "| 에폭 9 |  반복 3741 / 9295 | 시간 4518[s] | 손실 1.48\n",
            "| 에폭 9 |  반복 3761 / 9295 | 시간 4520[s] | 손실 1.47\n",
            "| 에폭 9 |  반복 3781 / 9295 | 시간 4521[s] | 손실 1.48\n",
            "| 에폭 9 |  반복 3801 / 9295 | 시간 4522[s] | 손실 1.48\n",
            "| 에폭 9 |  반복 3821 / 9295 | 시간 4523[s] | 손실 1.55\n",
            "| 에폭 9 |  반복 3841 / 9295 | 시간 4524[s] | 손실 1.46\n",
            "| 에폭 9 |  반복 3861 / 9295 | 시간 4525[s] | 손실 1.48\n",
            "| 에폭 9 |  반복 3881 / 9295 | 시간 4527[s] | 손실 1.48\n",
            "| 에폭 9 |  반복 3901 / 9295 | 시간 4528[s] | 손실 1.52\n",
            "| 에폭 9 |  반복 3921 / 9295 | 시간 4529[s] | 손실 1.49\n",
            "| 에폭 9 |  반복 3941 / 9295 | 시간 4530[s] | 손실 1.46\n",
            "| 에폭 9 |  반복 3961 / 9295 | 시간 4531[s] | 손실 1.47\n",
            "| 에폭 9 |  반복 3981 / 9295 | 시간 4532[s] | 손실 1.45\n",
            "| 에폭 9 |  반복 4001 / 9295 | 시간 4533[s] | 손실 1.52\n",
            "| 에폭 9 |  반복 4021 / 9295 | 시간 4535[s] | 손실 1.47\n",
            "| 에폭 9 |  반복 4041 / 9295 | 시간 4536[s] | 손실 1.49\n",
            "| 에폭 9 |  반복 4061 / 9295 | 시간 4537[s] | 손실 1.51\n",
            "| 에폭 9 |  반복 4081 / 9295 | 시간 4538[s] | 손실 1.50\n",
            "| 에폭 9 |  반복 4101 / 9295 | 시간 4539[s] | 손실 1.51\n",
            "| 에폭 9 |  반복 4121 / 9295 | 시간 4540[s] | 손실 1.49\n",
            "| 에폭 9 |  반복 4141 / 9295 | 시간 4542[s] | 손실 1.47\n",
            "| 에폭 9 |  반복 4161 / 9295 | 시간 4543[s] | 손실 1.54\n",
            "| 에폭 9 |  반복 4181 / 9295 | 시간 4544[s] | 손실 1.51\n",
            "| 에폭 9 |  반복 4201 / 9295 | 시간 4545[s] | 손실 1.52\n",
            "| 에폭 9 |  반복 4221 / 9295 | 시간 4546[s] | 손실 1.50\n",
            "| 에폭 9 |  반복 4241 / 9295 | 시간 4547[s] | 손실 1.46\n",
            "| 에폭 9 |  반복 4261 / 9295 | 시간 4548[s] | 손실 1.48\n",
            "| 에폭 9 |  반복 4281 / 9295 | 시간 4550[s] | 손실 1.50\n",
            "| 에폭 9 |  반복 4301 / 9295 | 시간 4551[s] | 손실 1.51\n",
            "| 에폭 9 |  반복 4321 / 9295 | 시간 4552[s] | 손실 1.51\n",
            "| 에폭 9 |  반복 4341 / 9295 | 시간 4553[s] | 손실 1.49\n",
            "| 에폭 9 |  반복 4361 / 9295 | 시간 4554[s] | 손실 1.52\n",
            "| 에폭 9 |  반복 4381 / 9295 | 시간 4555[s] | 손실 1.49\n",
            "| 에폭 9 |  반복 4401 / 9295 | 시간 4556[s] | 손실 1.48\n",
            "| 에폭 9 |  반복 4421 / 9295 | 시간 4558[s] | 손실 1.46\n",
            "| 에폭 9 |  반복 4441 / 9295 | 시간 4559[s] | 손실 1.49\n",
            "| 에폭 9 |  반복 4461 / 9295 | 시간 4560[s] | 손실 1.47\n",
            "| 에폭 9 |  반복 4481 / 9295 | 시간 4561[s] | 손실 1.47\n",
            "| 에폭 9 |  반복 4501 / 9295 | 시간 4562[s] | 손실 1.47\n",
            "| 에폭 9 |  반복 4521 / 9295 | 시간 4563[s] | 손실 1.50\n",
            "| 에폭 9 |  반복 4541 / 9295 | 시간 4564[s] | 손실 1.49\n",
            "| 에폭 9 |  반복 4561 / 9295 | 시간 4566[s] | 손실 1.51\n",
            "| 에폭 9 |  반복 4581 / 9295 | 시간 4567[s] | 손실 1.52\n",
            "| 에폭 9 |  반복 4601 / 9295 | 시간 4568[s] | 손실 1.45\n",
            "| 에폭 9 |  반복 4621 / 9295 | 시간 4569[s] | 손실 1.50\n",
            "| 에폭 9 |  반복 4641 / 9295 | 시간 4570[s] | 손실 1.47\n",
            "| 에폭 9 |  반복 4661 / 9295 | 시간 4571[s] | 손실 1.50\n",
            "| 에폭 9 |  반복 4681 / 9295 | 시간 4572[s] | 손실 1.48\n",
            "| 에폭 9 |  반복 4701 / 9295 | 시간 4574[s] | 손실 1.47\n",
            "| 에폭 9 |  반복 4721 / 9295 | 시간 4575[s] | 손실 1.44\n",
            "| 에폭 9 |  반복 4741 / 9295 | 시간 4576[s] | 손실 1.47\n",
            "| 에폭 9 |  반복 4761 / 9295 | 시간 4577[s] | 손실 1.49\n",
            "| 에폭 9 |  반복 4781 / 9295 | 시간 4578[s] | 손실 1.48\n",
            "| 에폭 9 |  반복 4801 / 9295 | 시간 4579[s] | 손실 1.51\n",
            "| 에폭 9 |  반복 4821 / 9295 | 시간 4580[s] | 손실 1.47\n",
            "| 에폭 9 |  반복 4841 / 9295 | 시간 4582[s] | 손실 1.53\n",
            "| 에폭 9 |  반복 4861 / 9295 | 시간 4583[s] | 손실 1.46\n",
            "| 에폭 9 |  반복 4881 / 9295 | 시간 4584[s] | 손실 1.46\n",
            "| 에폭 9 |  반복 4901 / 9295 | 시간 4585[s] | 손실 1.48\n",
            "| 에폭 9 |  반복 4921 / 9295 | 시간 4586[s] | 손실 1.50\n",
            "| 에폭 9 |  반복 4941 / 9295 | 시간 4587[s] | 손실 1.52\n",
            "| 에폭 9 |  반복 4961 / 9295 | 시간 4588[s] | 손실 1.49\n",
            "| 에폭 9 |  반복 4981 / 9295 | 시간 4590[s] | 손실 1.52\n",
            "| 에폭 9 |  반복 5001 / 9295 | 시간 4591[s] | 손실 1.50\n",
            "| 에폭 9 |  반복 5021 / 9295 | 시간 4592[s] | 손실 1.51\n",
            "| 에폭 9 |  반복 5041 / 9295 | 시간 4593[s] | 손실 1.48\n",
            "| 에폭 9 |  반복 5061 / 9295 | 시간 4594[s] | 손실 1.52\n",
            "| 에폭 9 |  반복 5081 / 9295 | 시간 4595[s] | 손실 1.51\n",
            "| 에폭 9 |  반복 5101 / 9295 | 시간 4597[s] | 손실 1.52\n",
            "| 에폭 9 |  반복 5121 / 9295 | 시간 4598[s] | 손실 1.47\n",
            "| 에폭 9 |  반복 5141 / 9295 | 시간 4599[s] | 손실 1.50\n",
            "| 에폭 9 |  반복 5161 / 9295 | 시간 4600[s] | 손실 1.47\n",
            "| 에폭 9 |  반복 5181 / 9295 | 시간 4601[s] | 손실 1.48\n",
            "| 에폭 9 |  반복 5201 / 9295 | 시간 4602[s] | 손실 1.46\n",
            "| 에폭 9 |  반복 5221 / 9295 | 시간 4603[s] | 손실 1.46\n",
            "| 에폭 9 |  반복 5241 / 9295 | 시간 4605[s] | 손실 1.47\n",
            "| 에폭 9 |  반복 5261 / 9295 | 시간 4606[s] | 손실 1.54\n",
            "| 에폭 9 |  반복 5281 / 9295 | 시간 4607[s] | 손실 1.50\n",
            "| 에폭 9 |  반복 5301 / 9295 | 시간 4608[s] | 손실 1.50\n",
            "| 에폭 9 |  반복 5321 / 9295 | 시간 4609[s] | 손실 1.46\n",
            "| 에폭 9 |  반복 5341 / 9295 | 시간 4610[s] | 손실 1.46\n",
            "| 에폭 9 |  반복 5361 / 9295 | 시간 4611[s] | 손실 1.48\n",
            "| 에폭 9 |  반복 5381 / 9295 | 시간 4613[s] | 손실 1.53\n",
            "| 에폭 9 |  반복 5401 / 9295 | 시간 4614[s] | 손실 1.49\n",
            "| 에폭 9 |  반복 5421 / 9295 | 시간 4615[s] | 손실 1.49\n",
            "| 에폭 9 |  반복 5441 / 9295 | 시간 4616[s] | 손실 1.48\n",
            "| 에폭 9 |  반복 5461 / 9295 | 시간 4617[s] | 손실 1.49\n",
            "| 에폭 9 |  반복 5481 / 9295 | 시간 4618[s] | 손실 1.48\n",
            "| 에폭 9 |  반복 5501 / 9295 | 시간 4620[s] | 손실 1.50\n",
            "| 에폭 9 |  반복 5521 / 9295 | 시간 4621[s] | 손실 1.49\n",
            "| 에폭 9 |  반복 5541 / 9295 | 시간 4622[s] | 손실 1.46\n",
            "| 에폭 9 |  반복 5561 / 9295 | 시간 4623[s] | 손실 1.55\n",
            "| 에폭 9 |  반복 5581 / 9295 | 시간 4624[s] | 손실 1.52\n",
            "| 에폭 9 |  반복 5601 / 9295 | 시간 4625[s] | 손실 1.47\n",
            "| 에폭 9 |  반복 5621 / 9295 | 시간 4627[s] | 손실 1.50\n",
            "| 에폭 9 |  반복 5641 / 9295 | 시간 4628[s] | 손실 1.50\n",
            "| 에폭 9 |  반복 5661 / 9295 | 시간 4629[s] | 손실 1.49\n",
            "| 에폭 9 |  반복 5681 / 9295 | 시간 4630[s] | 손실 1.51\n",
            "| 에폭 9 |  반복 5701 / 9295 | 시간 4631[s] | 손실 1.50\n",
            "| 에폭 9 |  반복 5721 / 9295 | 시간 4632[s] | 손실 1.49\n",
            "| 에폭 9 |  반복 5741 / 9295 | 시간 4634[s] | 손실 1.50\n",
            "| 에폭 9 |  반복 5761 / 9295 | 시간 4635[s] | 손실 1.50\n",
            "| 에폭 9 |  반복 5781 / 9295 | 시간 4636[s] | 손실 1.48\n",
            "| 에폭 9 |  반복 5801 / 9295 | 시간 4637[s] | 손실 1.54\n",
            "| 에폭 9 |  반복 5821 / 9295 | 시간 4638[s] | 손실 1.48\n",
            "| 에폭 9 |  반복 5841 / 9295 | 시간 4639[s] | 손실 1.50\n",
            "| 에폭 9 |  반복 5861 / 9295 | 시간 4641[s] | 손실 1.44\n",
            "| 에폭 9 |  반복 5881 / 9295 | 시간 4642[s] | 손실 1.49\n",
            "| 에폭 9 |  반복 5901 / 9295 | 시간 4643[s] | 손실 1.52\n",
            "| 에폭 9 |  반복 5921 / 9295 | 시간 4644[s] | 손실 1.50\n",
            "| 에폭 9 |  반복 5941 / 9295 | 시간 4645[s] | 손실 1.55\n",
            "| 에폭 9 |  반복 5961 / 9295 | 시간 4646[s] | 손실 1.46\n",
            "| 에폭 9 |  반복 5981 / 9295 | 시간 4648[s] | 손실 1.50\n",
            "| 에폭 9 |  반복 6001 / 9295 | 시간 4649[s] | 손실 1.52\n",
            "| 에폭 9 |  반복 6021 / 9295 | 시간 4650[s] | 손실 1.49\n",
            "| 에폭 9 |  반복 6041 / 9295 | 시간 4651[s] | 손실 1.49\n",
            "| 에폭 9 |  반복 6061 / 9295 | 시간 4652[s] | 손실 1.50\n",
            "| 에폭 9 |  반복 6081 / 9295 | 시간 4654[s] | 손실 1.49\n",
            "| 에폭 9 |  반복 6101 / 9295 | 시간 4655[s] | 손실 1.50\n",
            "| 에폭 9 |  반복 6121 / 9295 | 시간 4656[s] | 손실 1.50\n",
            "| 에폭 9 |  반복 6141 / 9295 | 시간 4657[s] | 손실 1.50\n",
            "| 에폭 9 |  반복 6161 / 9295 | 시간 4658[s] | 손실 1.45\n",
            "| 에폭 9 |  반복 6181 / 9295 | 시간 4659[s] | 손실 1.46\n",
            "| 에폭 9 |  반복 6201 / 9295 | 시간 4661[s] | 손실 1.46\n",
            "| 에폭 9 |  반복 6221 / 9295 | 시간 4662[s] | 손실 1.47\n",
            "| 에폭 9 |  반복 6241 / 9295 | 시간 4663[s] | 손실 1.45\n",
            "| 에폭 9 |  반복 6261 / 9295 | 시간 4664[s] | 손실 1.51\n",
            "| 에폭 9 |  반복 6281 / 9295 | 시간 4665[s] | 손실 1.50\n",
            "| 에폭 9 |  반복 6301 / 9295 | 시간 4666[s] | 손실 1.54\n",
            "| 에폭 9 |  반복 6321 / 9295 | 시간 4668[s] | 손실 1.46\n",
            "| 에폭 9 |  반복 6341 / 9295 | 시간 4669[s] | 손실 1.48\n",
            "| 에폭 9 |  반복 6361 / 9295 | 시간 4670[s] | 손실 1.48\n",
            "| 에폭 9 |  반복 6381 / 9295 | 시간 4671[s] | 손실 1.47\n",
            "| 에폭 9 |  반복 6401 / 9295 | 시간 4672[s] | 손실 1.51\n",
            "| 에폭 9 |  반복 6421 / 9295 | 시간 4673[s] | 손실 1.49\n",
            "| 에폭 9 |  반복 6441 / 9295 | 시간 4675[s] | 손실 1.49\n",
            "| 에폭 9 |  반복 6461 / 9295 | 시간 4676[s] | 손실 1.49\n",
            "| 에폭 9 |  반복 6481 / 9295 | 시간 4677[s] | 손실 1.47\n",
            "| 에폭 9 |  반복 6501 / 9295 | 시간 4678[s] | 손실 1.49\n",
            "| 에폭 9 |  반복 6521 / 9295 | 시간 4679[s] | 손실 1.48\n",
            "| 에폭 9 |  반복 6541 / 9295 | 시간 4680[s] | 손실 1.46\n",
            "| 에폭 9 |  반복 6561 / 9295 | 시간 4682[s] | 손실 1.45\n",
            "| 에폭 9 |  반복 6581 / 9295 | 시간 4683[s] | 손실 1.50\n",
            "| 에폭 9 |  반복 6601 / 9295 | 시간 4684[s] | 손실 1.47\n",
            "| 에폭 9 |  반복 6621 / 9295 | 시간 4685[s] | 손실 1.48\n",
            "| 에폭 9 |  반복 6641 / 9295 | 시간 4686[s] | 손실 1.45\n",
            "| 에폭 9 |  반복 6661 / 9295 | 시간 4687[s] | 손실 1.47\n",
            "| 에폭 9 |  반복 6681 / 9295 | 시간 4689[s] | 손실 1.53\n",
            "| 에폭 9 |  반복 6701 / 9295 | 시간 4690[s] | 손실 1.50\n",
            "| 에폭 9 |  반복 6721 / 9295 | 시간 4691[s] | 손실 1.45\n",
            "| 에폭 9 |  반복 6741 / 9295 | 시간 4692[s] | 손실 1.48\n",
            "| 에폭 9 |  반복 6761 / 9295 | 시간 4693[s] | 손실 1.50\n",
            "| 에폭 9 |  반복 6781 / 9295 | 시간 4694[s] | 손실 1.53\n",
            "| 에폭 9 |  반복 6801 / 9295 | 시간 4695[s] | 손실 1.50\n",
            "| 에폭 9 |  반복 6821 / 9295 | 시간 4697[s] | 손실 1.49\n",
            "| 에폭 9 |  반복 6841 / 9295 | 시간 4698[s] | 손실 1.51\n",
            "| 에폭 9 |  반복 6861 / 9295 | 시간 4699[s] | 손실 1.55\n",
            "| 에폭 9 |  반복 6881 / 9295 | 시간 4700[s] | 손실 1.53\n",
            "| 에폭 9 |  반복 6901 / 9295 | 시간 4701[s] | 손실 1.48\n",
            "| 에폭 9 |  반복 6921 / 9295 | 시간 4702[s] | 손실 1.51\n",
            "| 에폭 9 |  반복 6941 / 9295 | 시간 4703[s] | 손실 1.49\n",
            "| 에폭 9 |  반복 6961 / 9295 | 시간 4705[s] | 손실 1.51\n",
            "| 에폭 9 |  반복 6981 / 9295 | 시간 4706[s] | 손실 1.50\n",
            "| 에폭 9 |  반복 7001 / 9295 | 시간 4707[s] | 손실 1.52\n",
            "| 에폭 9 |  반복 7021 / 9295 | 시간 4708[s] | 손실 1.49\n",
            "| 에폭 9 |  반복 7041 / 9295 | 시간 4709[s] | 손실 1.49\n",
            "| 에폭 9 |  반복 7061 / 9295 | 시간 4710[s] | 손실 1.51\n",
            "| 에폭 9 |  반복 7081 / 9295 | 시간 4711[s] | 손실 1.49\n",
            "| 에폭 9 |  반복 7101 / 9295 | 시간 4713[s] | 손실 1.49\n",
            "| 에폭 9 |  반복 7121 / 9295 | 시간 4714[s] | 손실 1.47\n",
            "| 에폭 9 |  반복 7141 / 9295 | 시간 4715[s] | 손실 1.50\n",
            "| 에폭 9 |  반복 7161 / 9295 | 시간 4716[s] | 손실 1.49\n",
            "| 에폭 9 |  반복 7181 / 9295 | 시간 4717[s] | 손실 1.49\n",
            "| 에폭 9 |  반복 7201 / 9295 | 시간 4718[s] | 손실 1.48\n",
            "| 에폭 9 |  반복 7221 / 9295 | 시간 4720[s] | 손실 1.47\n",
            "| 에폭 9 |  반복 7241 / 9295 | 시간 4721[s] | 손실 1.52\n",
            "| 에폭 9 |  반복 7261 / 9295 | 시간 4722[s] | 손실 1.50\n",
            "| 에폭 9 |  반복 7281 / 9295 | 시간 4723[s] | 손실 1.49\n",
            "| 에폭 9 |  반복 7301 / 9295 | 시간 4724[s] | 손실 1.48\n",
            "| 에폭 9 |  반복 7321 / 9295 | 시간 4726[s] | 손실 1.49\n",
            "| 에폭 9 |  반복 7341 / 9295 | 시간 4727[s] | 손실 1.48\n",
            "| 에폭 9 |  반복 7361 / 9295 | 시간 4728[s] | 손실 1.49\n",
            "| 에폭 9 |  반복 7381 / 9295 | 시간 4729[s] | 손실 1.53\n",
            "| 에폭 9 |  반복 7401 / 9295 | 시간 4730[s] | 손실 1.50\n",
            "| 에폭 9 |  반복 7421 / 9295 | 시간 4731[s] | 손실 1.49\n",
            "| 에폭 9 |  반복 7441 / 9295 | 시간 4732[s] | 손실 1.46\n",
            "| 에폭 9 |  반복 7461 / 9295 | 시간 4734[s] | 손실 1.47\n",
            "| 에폭 9 |  반복 7481 / 9295 | 시간 4735[s] | 손실 1.48\n",
            "| 에폭 9 |  반복 7501 / 9295 | 시간 4736[s] | 손실 1.50\n",
            "| 에폭 9 |  반복 7521 / 9295 | 시간 4737[s] | 손실 1.50\n",
            "| 에폭 9 |  반복 7541 / 9295 | 시간 4738[s] | 손실 1.51\n",
            "| 에폭 9 |  반복 7561 / 9295 | 시간 4739[s] | 손실 1.49\n",
            "| 에폭 9 |  반복 7581 / 9295 | 시간 4741[s] | 손실 1.48\n",
            "| 에폭 9 |  반복 7601 / 9295 | 시간 4742[s] | 손실 1.51\n",
            "| 에폭 9 |  반복 7621 / 9295 | 시간 4743[s] | 손실 1.50\n",
            "| 에폭 9 |  반복 7641 / 9295 | 시간 4744[s] | 손실 1.51\n",
            "| 에폭 9 |  반복 7661 / 9295 | 시간 4745[s] | 손실 1.49\n",
            "| 에폭 9 |  반복 7681 / 9295 | 시간 4746[s] | 손실 1.51\n",
            "| 에폭 9 |  반복 7701 / 9295 | 시간 4747[s] | 손실 1.53\n",
            "| 에폭 9 |  반복 7721 / 9295 | 시간 4749[s] | 손실 1.49\n",
            "| 에폭 9 |  반복 7741 / 9295 | 시간 4750[s] | 손실 1.51\n",
            "| 에폭 9 |  반복 7761 / 9295 | 시간 4751[s] | 손실 1.51\n",
            "| 에폭 9 |  반복 7781 / 9295 | 시간 4752[s] | 손실 1.54\n",
            "| 에폭 9 |  반복 7801 / 9295 | 시간 4753[s] | 손실 1.48\n",
            "| 에폭 9 |  반복 7821 / 9295 | 시간 4754[s] | 손실 1.45\n",
            "| 에폭 9 |  반복 7841 / 9295 | 시간 4756[s] | 손실 1.47\n",
            "| 에폭 9 |  반복 7861 / 9295 | 시간 4757[s] | 손실 1.48\n",
            "| 에폭 9 |  반복 7881 / 9295 | 시간 4758[s] | 손실 1.50\n",
            "| 에폭 9 |  반복 7901 / 9295 | 시간 4759[s] | 손실 1.47\n",
            "| 에폭 9 |  반복 7921 / 9295 | 시간 4760[s] | 손실 1.49\n",
            "| 에폭 9 |  반복 7941 / 9295 | 시간 4761[s] | 손실 1.50\n",
            "| 에폭 9 |  반복 7961 / 9295 | 시간 4763[s] | 손실 1.51\n",
            "| 에폭 9 |  반복 7981 / 9295 | 시간 4764[s] | 손실 1.52\n",
            "| 에폭 9 |  반복 8001 / 9295 | 시간 4765[s] | 손실 1.53\n",
            "| 에폭 9 |  반복 8021 / 9295 | 시간 4766[s] | 손실 1.50\n",
            "| 에폭 9 |  반복 8041 / 9295 | 시간 4767[s] | 손실 1.51\n",
            "| 에폭 9 |  반복 8061 / 9295 | 시간 4768[s] | 손실 1.51\n",
            "| 에폭 9 |  반복 8081 / 9295 | 시간 4770[s] | 손실 1.50\n",
            "| 에폭 9 |  반복 8101 / 9295 | 시간 4771[s] | 손실 1.50\n",
            "| 에폭 9 |  반복 8121 / 9295 | 시간 4772[s] | 손실 1.48\n",
            "| 에폭 9 |  반복 8141 / 9295 | 시간 4773[s] | 손실 1.53\n",
            "| 에폭 9 |  반복 8161 / 9295 | 시간 4774[s] | 손실 1.52\n",
            "| 에폭 9 |  반복 8181 / 9295 | 시간 4775[s] | 손실 1.50\n",
            "| 에폭 9 |  반복 8201 / 9295 | 시간 4777[s] | 손실 1.53\n",
            "| 에폭 9 |  반복 8221 / 9295 | 시간 4778[s] | 손실 1.50\n",
            "| 에폭 9 |  반복 8241 / 9295 | 시간 4779[s] | 손실 1.53\n",
            "| 에폭 9 |  반복 8261 / 9295 | 시간 4780[s] | 손실 1.47\n",
            "| 에폭 9 |  반복 8281 / 9295 | 시간 4781[s] | 손실 1.48\n",
            "| 에폭 9 |  반복 8301 / 9295 | 시간 4782[s] | 손실 1.51\n",
            "| 에폭 9 |  반복 8321 / 9295 | 시간 4783[s] | 손실 1.53\n",
            "| 에폭 9 |  반복 8341 / 9295 | 시간 4785[s] | 손실 1.47\n",
            "| 에폭 9 |  반복 8361 / 9295 | 시간 4786[s] | 손실 1.49\n",
            "| 에폭 9 |  반복 8381 / 9295 | 시간 4787[s] | 손실 1.50\n",
            "| 에폭 9 |  반복 8401 / 9295 | 시간 4788[s] | 손실 1.48\n",
            "| 에폭 9 |  반복 8421 / 9295 | 시간 4789[s] | 손실 1.49\n",
            "| 에폭 9 |  반복 8441 / 9295 | 시간 4790[s] | 손실 1.49\n",
            "| 에폭 9 |  반복 8461 / 9295 | 시간 4791[s] | 손실 1.52\n",
            "| 에폭 9 |  반복 8481 / 9295 | 시간 4793[s] | 손실 1.48\n",
            "| 에폭 9 |  반복 8501 / 9295 | 시간 4794[s] | 손실 1.48\n",
            "| 에폭 9 |  반복 8521 / 9295 | 시간 4795[s] | 손실 1.48\n",
            "| 에폭 9 |  반복 8541 / 9295 | 시간 4796[s] | 손실 1.50\n",
            "| 에폭 9 |  반복 8561 / 9295 | 시간 4797[s] | 손실 1.48\n",
            "| 에폭 9 |  반복 8581 / 9295 | 시간 4798[s] | 손실 1.48\n",
            "| 에폭 9 |  반복 8601 / 9295 | 시간 4800[s] | 손실 1.54\n",
            "| 에폭 9 |  반복 8621 / 9295 | 시간 4801[s] | 손실 1.50\n",
            "| 에폭 9 |  반복 8641 / 9295 | 시간 4802[s] | 손실 1.49\n",
            "| 에폭 9 |  반복 8661 / 9295 | 시간 4803[s] | 손실 1.48\n",
            "| 에폭 9 |  반복 8681 / 9295 | 시간 4804[s] | 손실 1.50\n",
            "| 에폭 9 |  반복 8701 / 9295 | 시간 4805[s] | 손실 1.48\n",
            "| 에폭 9 |  반복 8721 / 9295 | 시간 4807[s] | 손실 1.52\n",
            "| 에폭 9 |  반복 8741 / 9295 | 시간 4808[s] | 손실 1.49\n",
            "| 에폭 9 |  반복 8761 / 9295 | 시간 4809[s] | 손실 1.49\n",
            "| 에폭 9 |  반복 8781 / 9295 | 시간 4810[s] | 손실 1.51\n",
            "| 에폭 9 |  반복 8801 / 9295 | 시간 4811[s] | 손실 1.49\n",
            "| 에폭 9 |  반복 8821 / 9295 | 시간 4812[s] | 손실 1.46\n",
            "| 에폭 9 |  반복 8841 / 9295 | 시간 4813[s] | 손실 1.46\n",
            "| 에폭 9 |  반복 8861 / 9295 | 시간 4815[s] | 손실 1.51\n",
            "| 에폭 9 |  반복 8881 / 9295 | 시간 4816[s] | 손실 1.50\n",
            "| 에폭 9 |  반복 8901 / 9295 | 시간 4817[s] | 손실 1.48\n",
            "| 에폭 9 |  반복 8921 / 9295 | 시간 4818[s] | 손실 1.51\n",
            "| 에폭 9 |  반복 8941 / 9295 | 시간 4819[s] | 손실 1.46\n",
            "| 에폭 9 |  반복 8961 / 9295 | 시간 4820[s] | 손실 1.46\n",
            "| 에폭 9 |  반복 8981 / 9295 | 시간 4822[s] | 손실 1.48\n",
            "| 에폭 9 |  반복 9001 / 9295 | 시간 4823[s] | 손실 1.49\n",
            "| 에폭 9 |  반복 9021 / 9295 | 시간 4824[s] | 손실 1.51\n",
            "| 에폭 9 |  반복 9041 / 9295 | 시간 4825[s] | 손실 1.50\n",
            "| 에폭 9 |  반복 9061 / 9295 | 시간 4826[s] | 손실 1.49\n",
            "| 에폭 9 |  반복 9081 / 9295 | 시간 4827[s] | 손실 1.48\n",
            "| 에폭 9 |  반복 9101 / 9295 | 시간 4828[s] | 손실 1.53\n",
            "| 에폭 9 |  반복 9121 / 9295 | 시간 4830[s] | 손실 1.52\n",
            "| 에폭 9 |  반복 9141 / 9295 | 시간 4831[s] | 손실 1.47\n",
            "| 에폭 9 |  반복 9161 / 9295 | 시간 4832[s] | 손실 1.47\n",
            "| 에폭 9 |  반복 9181 / 9295 | 시간 4833[s] | 손실 1.51\n",
            "| 에폭 9 |  반복 9201 / 9295 | 시간 4834[s] | 손실 1.51\n",
            "| 에폭 9 |  반복 9221 / 9295 | 시간 4835[s] | 손실 1.47\n",
            "| 에폭 9 |  반복 9241 / 9295 | 시간 4837[s] | 손실 1.55\n",
            "| 에폭 9 |  반복 9261 / 9295 | 시간 4838[s] | 손실 1.51\n",
            "| 에폭 9 |  반복 9281 / 9295 | 시간 4839[s] | 손실 1.46\n",
            "| 에폭 10 |  반복 1 / 9295 | 시간 4840[s] | 손실 1.52\n",
            "| 에폭 10 |  반복 21 / 9295 | 시간 4841[s] | 손실 1.42\n",
            "| 에폭 10 |  반복 41 / 9295 | 시간 4842[s] | 손실 1.39\n",
            "| 에폭 10 |  반복 61 / 9295 | 시간 4843[s] | 손실 1.42\n",
            "| 에폭 10 |  반복 81 / 9295 | 시간 4845[s] | 손실 1.44\n",
            "| 에폭 10 |  반복 101 / 9295 | 시간 4846[s] | 손실 1.43\n",
            "| 에폭 10 |  반복 121 / 9295 | 시간 4847[s] | 손실 1.44\n",
            "| 에폭 10 |  반복 141 / 9295 | 시간 4848[s] | 손실 1.45\n",
            "| 에폭 10 |  반복 161 / 9295 | 시간 4849[s] | 손실 1.43\n",
            "| 에폭 10 |  반복 181 / 9295 | 시간 4850[s] | 손실 1.44\n",
            "| 에폭 10 |  반복 201 / 9295 | 시간 4852[s] | 손실 1.39\n",
            "| 에폭 10 |  반복 221 / 9295 | 시간 4853[s] | 손실 1.41\n",
            "| 에폭 10 |  반복 241 / 9295 | 시간 4854[s] | 손실 1.43\n",
            "| 에폭 10 |  반복 261 / 9295 | 시간 4855[s] | 손실 1.45\n",
            "| 에폭 10 |  반복 281 / 9295 | 시간 4856[s] | 손실 1.42\n",
            "| 에폭 10 |  반복 301 / 9295 | 시간 4857[s] | 손실 1.43\n",
            "| 에폭 10 |  반복 321 / 9295 | 시간 4859[s] | 손실 1.43\n",
            "| 에폭 10 |  반복 341 / 9295 | 시간 4860[s] | 손실 1.40\n",
            "| 에폭 10 |  반복 361 / 9295 | 시간 4861[s] | 손실 1.36\n",
            "| 에폭 10 |  반복 381 / 9295 | 시간 4862[s] | 손실 1.41\n",
            "| 에폭 10 |  반복 401 / 9295 | 시간 4863[s] | 손실 1.42\n",
            "| 에폭 10 |  반복 421 / 9295 | 시간 4864[s] | 손실 1.42\n",
            "| 에폭 10 |  반복 441 / 9295 | 시간 4865[s] | 손실 1.46\n",
            "| 에폭 10 |  반복 461 / 9295 | 시간 4867[s] | 손실 1.42\n",
            "| 에폭 10 |  반복 481 / 9295 | 시간 4868[s] | 손실 1.47\n",
            "| 에폭 10 |  반복 501 / 9295 | 시간 4869[s] | 손실 1.39\n",
            "| 에폭 10 |  반복 521 / 9295 | 시간 4870[s] | 손실 1.37\n",
            "| 에폭 10 |  반복 541 / 9295 | 시간 4871[s] | 손실 1.40\n",
            "| 에폭 10 |  반복 561 / 9295 | 시간 4872[s] | 손실 1.41\n",
            "| 에폭 10 |  반복 581 / 9295 | 시간 4874[s] | 손실 1.43\n",
            "| 에폭 10 |  반복 601 / 9295 | 시간 4875[s] | 손실 1.47\n",
            "| 에폭 10 |  반복 621 / 9295 | 시간 4876[s] | 손실 1.42\n",
            "| 에폭 10 |  반복 641 / 9295 | 시간 4877[s] | 손실 1.40\n",
            "| 에폭 10 |  반복 661 / 9295 | 시간 4878[s] | 손실 1.38\n",
            "| 에폭 10 |  반복 681 / 9295 | 시간 4879[s] | 손실 1.42\n",
            "| 에폭 10 |  반복 701 / 9295 | 시간 4880[s] | 손실 1.43\n",
            "| 에폭 10 |  반복 721 / 9295 | 시간 4882[s] | 손실 1.41\n",
            "| 에폭 10 |  반복 741 / 9295 | 시간 4883[s] | 손실 1.41\n",
            "| 에폭 10 |  반복 761 / 9295 | 시간 4884[s] | 손실 1.41\n",
            "| 에폭 10 |  반복 781 / 9295 | 시간 4885[s] | 손실 1.43\n",
            "| 에폭 10 |  반복 801 / 9295 | 시간 4886[s] | 손실 1.40\n",
            "| 에폭 10 |  반복 821 / 9295 | 시간 4888[s] | 손실 1.41\n",
            "| 에폭 10 |  반복 841 / 9295 | 시간 4889[s] | 손실 1.44\n",
            "| 에폭 10 |  반복 861 / 9295 | 시간 4890[s] | 손실 1.47\n",
            "| 에폭 10 |  반복 881 / 9295 | 시간 4891[s] | 손실 1.41\n",
            "| 에폭 10 |  반복 901 / 9295 | 시간 4892[s] | 손실 1.41\n",
            "| 에폭 10 |  반복 921 / 9295 | 시간 4893[s] | 손실 1.47\n",
            "| 에폭 10 |  반복 941 / 9295 | 시간 4894[s] | 손실 1.40\n",
            "| 에폭 10 |  반복 961 / 9295 | 시간 4896[s] | 손실 1.42\n",
            "| 에폭 10 |  반복 981 / 9295 | 시간 4897[s] | 손실 1.41\n",
            "| 에폭 10 |  반복 1001 / 9295 | 시간 4898[s] | 손실 1.43\n",
            "| 에폭 10 |  반복 1021 / 9295 | 시간 4899[s] | 손실 1.47\n",
            "| 에폭 10 |  반복 1041 / 9295 | 시간 4900[s] | 손실 1.42\n",
            "| 에폭 10 |  반복 1061 / 9295 | 시간 4901[s] | 손실 1.46\n",
            "| 에폭 10 |  반복 1081 / 9295 | 시간 4903[s] | 손실 1.45\n",
            "| 에폭 10 |  반복 1101 / 9295 | 시간 4904[s] | 손실 1.46\n",
            "| 에폭 10 |  반복 1121 / 9295 | 시간 4905[s] | 손실 1.41\n",
            "| 에폭 10 |  반복 1141 / 9295 | 시간 4906[s] | 손실 1.43\n",
            "| 에폭 10 |  반복 1161 / 9295 | 시간 4907[s] | 손실 1.41\n",
            "| 에폭 10 |  반복 1181 / 9295 | 시간 4908[s] | 손실 1.45\n",
            "| 에폭 10 |  반복 1201 / 9295 | 시간 4909[s] | 손실 1.42\n",
            "| 에폭 10 |  반복 1221 / 9295 | 시간 4911[s] | 손실 1.43\n",
            "| 에폭 10 |  반복 1241 / 9295 | 시간 4912[s] | 손실 1.42\n",
            "| 에폭 10 |  반복 1261 / 9295 | 시간 4913[s] | 손실 1.42\n",
            "| 에폭 10 |  반복 1281 / 9295 | 시간 4914[s] | 손실 1.42\n",
            "| 에폭 10 |  반복 1301 / 9295 | 시간 4915[s] | 손실 1.45\n",
            "| 에폭 10 |  반복 1321 / 9295 | 시간 4916[s] | 손실 1.42\n",
            "| 에폭 10 |  반복 1341 / 9295 | 시간 4918[s] | 손실 1.40\n",
            "| 에폭 10 |  반복 1361 / 9295 | 시간 4919[s] | 손실 1.42\n",
            "| 에폭 10 |  반복 1381 / 9295 | 시간 4920[s] | 손실 1.44\n",
            "| 에폭 10 |  반복 1401 / 9295 | 시간 4921[s] | 손실 1.39\n",
            "| 에폭 10 |  반복 1421 / 9295 | 시간 4922[s] | 손실 1.42\n",
            "| 에폭 10 |  반복 1441 / 9295 | 시간 4923[s] | 손실 1.40\n",
            "| 에폭 10 |  반복 1461 / 9295 | 시간 4925[s] | 손실 1.41\n",
            "| 에폭 10 |  반복 1481 / 9295 | 시간 4926[s] | 손실 1.39\n",
            "| 에폭 10 |  반복 1501 / 9295 | 시간 4927[s] | 손실 1.44\n",
            "| 에폭 10 |  반복 1521 / 9295 | 시간 4928[s] | 손실 1.47\n",
            "| 에폭 10 |  반복 1541 / 9295 | 시간 4929[s] | 손실 1.45\n",
            "| 에폭 10 |  반복 1561 / 9295 | 시간 4930[s] | 손실 1.43\n",
            "| 에폭 10 |  반복 1581 / 9295 | 시간 4931[s] | 손실 1.42\n",
            "| 에폭 10 |  반복 1601 / 9295 | 시간 4933[s] | 손실 1.46\n",
            "| 에폭 10 |  반복 1621 / 9295 | 시간 4934[s] | 손실 1.46\n",
            "| 에폭 10 |  반복 1641 / 9295 | 시간 4935[s] | 손실 1.42\n",
            "| 에폭 10 |  반복 1661 / 9295 | 시간 4936[s] | 손실 1.47\n",
            "| 에폭 10 |  반복 1681 / 9295 | 시간 4937[s] | 손실 1.38\n",
            "| 에폭 10 |  반복 1701 / 9295 | 시간 4938[s] | 손실 1.43\n",
            "| 에폭 10 |  반복 1721 / 9295 | 시간 4940[s] | 손실 1.39\n",
            "| 에폭 10 |  반복 1741 / 9295 | 시간 4941[s] | 손실 1.49\n",
            "| 에폭 10 |  반복 1761 / 9295 | 시간 4942[s] | 손실 1.40\n",
            "| 에폭 10 |  반복 1781 / 9295 | 시간 4943[s] | 손실 1.42\n",
            "| 에폭 10 |  반복 1801 / 9295 | 시간 4944[s] | 손실 1.46\n",
            "| 에폭 10 |  반복 1821 / 9295 | 시간 4945[s] | 손실 1.45\n",
            "| 에폭 10 |  반복 1841 / 9295 | 시간 4947[s] | 손실 1.44\n",
            "| 에폭 10 |  반복 1861 / 9295 | 시간 4948[s] | 손실 1.44\n",
            "| 에폭 10 |  반복 1881 / 9295 | 시간 4949[s] | 손실 1.38\n",
            "| 에폭 10 |  반복 1901 / 9295 | 시간 4950[s] | 손실 1.43\n",
            "| 에폭 10 |  반복 1921 / 9295 | 시간 4951[s] | 손실 1.42\n",
            "| 에폭 10 |  반복 1941 / 9295 | 시간 4952[s] | 손실 1.44\n",
            "| 에폭 10 |  반복 1961 / 9295 | 시간 4953[s] | 손실 1.46\n",
            "| 에폭 10 |  반복 1981 / 9295 | 시간 4955[s] | 손실 1.41\n",
            "| 에폭 10 |  반복 2001 / 9295 | 시간 4956[s] | 손실 1.43\n",
            "| 에폭 10 |  반복 2021 / 9295 | 시간 4957[s] | 손실 1.43\n",
            "| 에폭 10 |  반복 2041 / 9295 | 시간 4958[s] | 손실 1.45\n",
            "| 에폭 10 |  반복 2061 / 9295 | 시간 4959[s] | 손실 1.41\n",
            "| 에폭 10 |  반복 2081 / 9295 | 시간 4960[s] | 손실 1.44\n",
            "| 에폭 10 |  반복 2101 / 9295 | 시간 4962[s] | 손실 1.45\n",
            "| 에폭 10 |  반복 2121 / 9295 | 시간 4963[s] | 손실 1.43\n",
            "| 에폭 10 |  반복 2141 / 9295 | 시간 4964[s] | 손실 1.42\n",
            "| 에폭 10 |  반복 2161 / 9295 | 시간 4965[s] | 손실 1.44\n",
            "| 에폭 10 |  반복 2181 / 9295 | 시간 4966[s] | 손실 1.41\n",
            "| 에폭 10 |  반복 2201 / 9295 | 시간 4967[s] | 손실 1.41\n",
            "| 에폭 10 |  반복 2221 / 9295 | 시간 4968[s] | 손실 1.41\n",
            "| 에폭 10 |  반복 2241 / 9295 | 시간 4970[s] | 손실 1.42\n",
            "| 에폭 10 |  반복 2261 / 9295 | 시간 4971[s] | 손실 1.43\n",
            "| 에폭 10 |  반복 2281 / 9295 | 시간 4972[s] | 손실 1.48\n",
            "| 에폭 10 |  반복 2301 / 9295 | 시간 4973[s] | 손실 1.40\n",
            "| 에폭 10 |  반복 2321 / 9295 | 시간 4974[s] | 손실 1.43\n",
            "| 에폭 10 |  반복 2341 / 9295 | 시간 4975[s] | 손실 1.42\n",
            "| 에폭 10 |  반복 2361 / 9295 | 시간 4977[s] | 손실 1.47\n",
            "| 에폭 10 |  반복 2381 / 9295 | 시간 4978[s] | 손실 1.43\n",
            "| 에폭 10 |  반복 2401 / 9295 | 시간 4979[s] | 손실 1.45\n",
            "| 에폭 10 |  반복 2421 / 9295 | 시간 4980[s] | 손실 1.46\n",
            "| 에폭 10 |  반복 2441 / 9295 | 시간 4981[s] | 손실 1.43\n",
            "| 에폭 10 |  반복 2461 / 9295 | 시간 4982[s] | 손실 1.48\n",
            "| 에폭 10 |  반복 2481 / 9295 | 시간 4984[s] | 손실 1.48\n",
            "| 에폭 10 |  반복 2501 / 9295 | 시간 4985[s] | 손실 1.43\n",
            "| 에폭 10 |  반복 2521 / 9295 | 시간 4986[s] | 손실 1.45\n",
            "| 에폭 10 |  반복 2541 / 9295 | 시간 4987[s] | 손실 1.44\n",
            "| 에폭 10 |  반복 2561 / 9295 | 시간 4988[s] | 손실 1.42\n",
            "| 에폭 10 |  반복 2581 / 9295 | 시간 4989[s] | 손실 1.42\n",
            "| 에폭 10 |  반복 2601 / 9295 | 시간 4990[s] | 손실 1.45\n",
            "| 에폭 10 |  반복 2621 / 9295 | 시간 4992[s] | 손실 1.43\n",
            "| 에폭 10 |  반복 2641 / 9295 | 시간 4993[s] | 손실 1.42\n",
            "| 에폭 10 |  반복 2661 / 9295 | 시간 4994[s] | 손실 1.44\n",
            "| 에폭 10 |  반복 2681 / 9295 | 시간 4995[s] | 손실 1.44\n",
            "| 에폭 10 |  반복 2701 / 9295 | 시간 4996[s] | 손실 1.42\n",
            "| 에폭 10 |  반복 2721 / 9295 | 시간 4997[s] | 손실 1.48\n",
            "| 에폭 10 |  반복 2741 / 9295 | 시간 4999[s] | 손실 1.49\n",
            "| 에폭 10 |  반복 2761 / 9295 | 시간 5000[s] | 손실 1.43\n",
            "| 에폭 10 |  반복 2781 / 9295 | 시간 5001[s] | 손실 1.42\n",
            "| 에폭 10 |  반복 2801 / 9295 | 시간 5002[s] | 손실 1.44\n",
            "| 에폭 10 |  반복 2821 / 9295 | 시간 5003[s] | 손실 1.43\n",
            "| 에폭 10 |  반복 2841 / 9295 | 시간 5004[s] | 손실 1.46\n",
            "| 에폭 10 |  반복 2861 / 9295 | 시간 5005[s] | 손실 1.42\n",
            "| 에폭 10 |  반복 2881 / 9295 | 시간 5007[s] | 손실 1.47\n",
            "| 에폭 10 |  반복 2901 / 9295 | 시간 5008[s] | 손실 1.44\n",
            "| 에폭 10 |  반복 2921 / 9295 | 시간 5009[s] | 손실 1.42\n",
            "| 에폭 10 |  반복 2941 / 9295 | 시간 5010[s] | 손실 1.44\n",
            "| 에폭 10 |  반복 2961 / 9295 | 시간 5011[s] | 손실 1.42\n",
            "| 에폭 10 |  반복 2981 / 9295 | 시간 5012[s] | 손실 1.44\n",
            "| 에폭 10 |  반복 3001 / 9295 | 시간 5014[s] | 손실 1.45\n",
            "| 에폭 10 |  반복 3021 / 9295 | 시간 5015[s] | 손실 1.43\n",
            "| 에폭 10 |  반복 3041 / 9295 | 시간 5016[s] | 손실 1.42\n",
            "| 에폭 10 |  반복 3061 / 9295 | 시간 5017[s] | 손실 1.44\n",
            "| 에폭 10 |  반복 3081 / 9295 | 시간 5018[s] | 손실 1.40\n",
            "| 에폭 10 |  반복 3101 / 9295 | 시간 5019[s] | 손실 1.42\n",
            "| 에폭 10 |  반복 3121 / 9295 | 시간 5021[s] | 손실 1.41\n",
            "| 에폭 10 |  반복 3141 / 9295 | 시간 5022[s] | 손실 1.44\n",
            "| 에폭 10 |  반복 3161 / 9295 | 시간 5023[s] | 손실 1.43\n",
            "| 에폭 10 |  반복 3181 / 9295 | 시간 5024[s] | 손실 1.39\n",
            "| 에폭 10 |  반복 3201 / 9295 | 시간 5025[s] | 손실 1.40\n",
            "| 에폭 10 |  반복 3221 / 9295 | 시간 5026[s] | 손실 1.47\n",
            "| 에폭 10 |  반복 3241 / 9295 | 시간 5028[s] | 손실 1.44\n",
            "| 에폭 10 |  반복 3261 / 9295 | 시간 5029[s] | 손실 1.40\n",
            "| 에폭 10 |  반복 3281 / 9295 | 시간 5030[s] | 손실 1.45\n",
            "| 에폭 10 |  반복 3301 / 9295 | 시간 5031[s] | 손실 1.42\n",
            "| 에폭 10 |  반복 3321 / 9295 | 시간 5032[s] | 손실 1.44\n",
            "| 에폭 10 |  반복 3341 / 9295 | 시간 5033[s] | 손실 1.44\n",
            "| 에폭 10 |  반복 3361 / 9295 | 시간 5034[s] | 손실 1.43\n",
            "| 에폭 10 |  반복 3381 / 9295 | 시간 5036[s] | 손실 1.43\n",
            "| 에폭 10 |  반복 3401 / 9295 | 시간 5037[s] | 손실 1.42\n",
            "| 에폭 10 |  반복 3421 / 9295 | 시간 5038[s] | 손실 1.41\n",
            "| 에폭 10 |  반복 3441 / 9295 | 시간 5039[s] | 손실 1.44\n",
            "| 에폭 10 |  반복 3461 / 9295 | 시간 5040[s] | 손실 1.46\n",
            "| 에폭 10 |  반복 3481 / 9295 | 시간 5041[s] | 손실 1.42\n",
            "| 에폭 10 |  반복 3501 / 9295 | 시간 5043[s] | 손실 1.42\n",
            "| 에폭 10 |  반복 3521 / 9295 | 시간 5044[s] | 손실 1.46\n",
            "| 에폭 10 |  반복 3541 / 9295 | 시간 5045[s] | 손실 1.41\n",
            "| 에폭 10 |  반복 3561 / 9295 | 시간 5046[s] | 손실 1.39\n",
            "| 에폭 10 |  반복 3581 / 9295 | 시간 5047[s] | 손실 1.37\n",
            "| 에폭 10 |  반복 3601 / 9295 | 시간 5048[s] | 손실 1.47\n",
            "| 에폭 10 |  반복 3621 / 9295 | 시간 5049[s] | 손실 1.46\n",
            "| 에폭 10 |  반복 3641 / 9295 | 시간 5051[s] | 손실 1.43\n",
            "| 에폭 10 |  반복 3661 / 9295 | 시간 5052[s] | 손실 1.46\n",
            "| 에폭 10 |  반복 3681 / 9295 | 시간 5053[s] | 손실 1.46\n",
            "| 에폭 10 |  반복 3701 / 9295 | 시간 5054[s] | 손실 1.42\n",
            "| 에폭 10 |  반복 3721 / 9295 | 시간 5055[s] | 손실 1.47\n",
            "| 에폭 10 |  반복 3741 / 9295 | 시간 5056[s] | 손실 1.42\n",
            "| 에폭 10 |  반복 3761 / 9295 | 시간 5058[s] | 손실 1.45\n",
            "| 에폭 10 |  반복 3781 / 9295 | 시간 5059[s] | 손실 1.45\n",
            "| 에폭 10 |  반복 3801 / 9295 | 시간 5060[s] | 손실 1.41\n",
            "| 에폭 10 |  반복 3821 / 9295 | 시간 5061[s] | 손실 1.45\n",
            "| 에폭 10 |  반복 3841 / 9295 | 시간 5062[s] | 손실 1.51\n",
            "| 에폭 10 |  반복 3861 / 9295 | 시간 5063[s] | 손실 1.42\n",
            "| 에폭 10 |  반복 3881 / 9295 | 시간 5065[s] | 손실 1.43\n",
            "| 에폭 10 |  반복 3901 / 9295 | 시간 5066[s] | 손실 1.42\n",
            "| 에폭 10 |  반복 3921 / 9295 | 시간 5067[s] | 손실 1.45\n",
            "| 에폭 10 |  반복 3941 / 9295 | 시간 5068[s] | 손실 1.46\n",
            "| 에폭 10 |  반복 3961 / 9295 | 시간 5069[s] | 손실 1.46\n",
            "| 에폭 10 |  반복 3981 / 9295 | 시간 5070[s] | 손실 1.47\n",
            "| 에폭 10 |  반복 4001 / 9295 | 시간 5071[s] | 손실 1.46\n",
            "| 에폭 10 |  반복 4021 / 9295 | 시간 5073[s] | 손실 1.43\n",
            "| 에폭 10 |  반복 4041 / 9295 | 시간 5074[s] | 손실 1.44\n",
            "| 에폭 10 |  반복 4061 / 9295 | 시간 5075[s] | 손실 1.44\n",
            "| 에폭 10 |  반복 4081 / 9295 | 시간 5076[s] | 손실 1.41\n",
            "| 에폭 10 |  반복 4101 / 9295 | 시간 5077[s] | 손실 1.41\n",
            "| 에폭 10 |  반복 4121 / 9295 | 시간 5078[s] | 손실 1.47\n",
            "| 에폭 10 |  반복 4141 / 9295 | 시간 5080[s] | 손실 1.46\n",
            "| 에폭 10 |  반복 4161 / 9295 | 시간 5081[s] | 손실 1.47\n",
            "| 에폭 10 |  반복 4181 / 9295 | 시간 5082[s] | 손실 1.46\n",
            "| 에폭 10 |  반복 4201 / 9295 | 시간 5083[s] | 손실 1.43\n",
            "| 에폭 10 |  반복 4221 / 9295 | 시간 5084[s] | 손실 1.44\n",
            "| 에폭 10 |  반복 4241 / 9295 | 시간 5085[s] | 손실 1.45\n",
            "| 에폭 10 |  반복 4261 / 9295 | 시간 5087[s] | 손실 1.44\n",
            "| 에폭 10 |  반복 4281 / 9295 | 시간 5088[s] | 손실 1.42\n",
            "| 에폭 10 |  반복 4301 / 9295 | 시간 5089[s] | 손실 1.43\n",
            "| 에폭 10 |  반복 4321 / 9295 | 시간 5090[s] | 손실 1.42\n",
            "| 에폭 10 |  반복 4341 / 9295 | 시간 5091[s] | 손실 1.44\n",
            "| 에폭 10 |  반복 4361 / 9295 | 시간 5092[s] | 손실 1.45\n",
            "| 에폭 10 |  반복 4381 / 9295 | 시간 5093[s] | 손실 1.44\n",
            "| 에폭 10 |  반복 4401 / 9295 | 시간 5095[s] | 손실 1.48\n",
            "| 에폭 10 |  반복 4421 / 9295 | 시간 5096[s] | 손실 1.45\n",
            "| 에폭 10 |  반복 4441 / 9295 | 시간 5097[s] | 손실 1.46\n",
            "| 에폭 10 |  반복 4461 / 9295 | 시간 5098[s] | 손실 1.43\n",
            "| 에폭 10 |  반복 4481 / 9295 | 시간 5099[s] | 손실 1.49\n",
            "| 에폭 10 |  반복 4501 / 9295 | 시간 5100[s] | 손실 1.44\n",
            "| 에폭 10 |  반복 4521 / 9295 | 시간 5102[s] | 손실 1.44\n",
            "| 에폭 10 |  반복 4541 / 9295 | 시간 5103[s] | 손실 1.46\n",
            "| 에폭 10 |  반복 4561 / 9295 | 시간 5104[s] | 손실 1.51\n",
            "| 에폭 10 |  반복 4581 / 9295 | 시간 5105[s] | 손실 1.44\n",
            "| 에폭 10 |  반복 4601 / 9295 | 시간 5106[s] | 손실 1.45\n",
            "| 에폭 10 |  반복 4621 / 9295 | 시간 5107[s] | 손실 1.46\n",
            "| 에폭 10 |  반복 4641 / 9295 | 시간 5108[s] | 손실 1.44\n",
            "| 에폭 10 |  반복 4661 / 9295 | 시간 5110[s] | 손실 1.48\n",
            "| 에폭 10 |  반복 4681 / 9295 | 시간 5111[s] | 손실 1.47\n",
            "| 에폭 10 |  반복 4701 / 9295 | 시간 5112[s] | 손실 1.45\n",
            "| 에폭 10 |  반복 4721 / 9295 | 시간 5113[s] | 손실 1.43\n",
            "| 에폭 10 |  반복 4741 / 9295 | 시간 5114[s] | 손실 1.44\n",
            "| 에폭 10 |  반복 4761 / 9295 | 시간 5116[s] | 손실 1.42\n",
            "| 에폭 10 |  반복 4781 / 9295 | 시간 5117[s] | 손실 1.44\n",
            "| 에폭 10 |  반복 4801 / 9295 | 시간 5118[s] | 손실 1.45\n",
            "| 에폭 10 |  반복 4821 / 9295 | 시간 5119[s] | 손실 1.47\n",
            "| 에폭 10 |  반복 4841 / 9295 | 시간 5120[s] | 손실 1.41\n",
            "| 에폭 10 |  반복 4861 / 9295 | 시간 5121[s] | 손실 1.42\n",
            "| 에폭 10 |  반복 4881 / 9295 | 시간 5122[s] | 손실 1.46\n",
            "| 에폭 10 |  반복 4901 / 9295 | 시간 5124[s] | 손실 1.45\n",
            "| 에폭 10 |  반복 4921 / 9295 | 시간 5125[s] | 손실 1.47\n",
            "| 에폭 10 |  반복 4941 / 9295 | 시간 5126[s] | 손실 1.50\n",
            "| 에폭 10 |  반복 4961 / 9295 | 시간 5127[s] | 손실 1.45\n",
            "| 에폭 10 |  반복 4981 / 9295 | 시간 5128[s] | 손실 1.45\n",
            "| 에폭 10 |  반복 5001 / 9295 | 시간 5129[s] | 손실 1.43\n",
            "| 에폭 10 |  반복 5021 / 9295 | 시간 5130[s] | 손실 1.46\n",
            "| 에폭 10 |  반복 5041 / 9295 | 시간 5132[s] | 손실 1.42\n",
            "| 에폭 10 |  반복 5061 / 9295 | 시간 5133[s] | 손실 1.43\n",
            "| 에폭 10 |  반복 5081 / 9295 | 시간 5134[s] | 손실 1.42\n",
            "| 에폭 10 |  반복 5101 / 9295 | 시간 5135[s] | 손실 1.47\n",
            "| 에폭 10 |  반복 5121 / 9295 | 시간 5136[s] | 손실 1.41\n",
            "| 에폭 10 |  반복 5141 / 9295 | 시간 5137[s] | 손실 1.43\n",
            "| 에폭 10 |  반복 5161 / 9295 | 시간 5139[s] | 손실 1.43\n",
            "| 에폭 10 |  반복 5181 / 9295 | 시간 5140[s] | 손실 1.45\n",
            "| 에폭 10 |  반복 5201 / 9295 | 시간 5141[s] | 손실 1.46\n",
            "| 에폭 10 |  반복 5221 / 9295 | 시간 5142[s] | 손실 1.44\n",
            "| 에폭 10 |  반복 5241 / 9295 | 시간 5143[s] | 손실 1.46\n",
            "| 에폭 10 |  반복 5261 / 9295 | 시간 5144[s] | 손실 1.44\n",
            "| 에폭 10 |  반복 5281 / 9295 | 시간 5146[s] | 손실 1.44\n",
            "| 에폭 10 |  반복 5301 / 9295 | 시간 5147[s] | 손실 1.46\n",
            "| 에폭 10 |  반복 5321 / 9295 | 시간 5148[s] | 손실 1.43\n",
            "| 에폭 10 |  반복 5341 / 9295 | 시간 5149[s] | 손실 1.46\n",
            "| 에폭 10 |  반복 5361 / 9295 | 시간 5150[s] | 손실 1.45\n",
            "| 에폭 10 |  반복 5381 / 9295 | 시간 5151[s] | 손실 1.44\n",
            "| 에폭 10 |  반복 5401 / 9295 | 시간 5152[s] | 손실 1.43\n",
            "| 에폭 10 |  반복 5421 / 9295 | 시간 5154[s] | 손실 1.46\n",
            "| 에폭 10 |  반복 5441 / 9295 | 시간 5155[s] | 손실 1.42\n",
            "| 에폭 10 |  반복 5461 / 9295 | 시간 5156[s] | 손실 1.43\n",
            "| 에폭 10 |  반복 5481 / 9295 | 시간 5157[s] | 손실 1.46\n",
            "| 에폭 10 |  반복 5501 / 9295 | 시간 5158[s] | 손실 1.45\n",
            "| 에폭 10 |  반복 5521 / 9295 | 시간 5159[s] | 손실 1.47\n",
            "| 에폭 10 |  반복 5541 / 9295 | 시간 5161[s] | 손실 1.46\n",
            "| 에폭 10 |  반복 5561 / 9295 | 시간 5162[s] | 손실 1.46\n",
            "| 에폭 10 |  반복 5581 / 9295 | 시간 5163[s] | 손실 1.46\n",
            "| 에폭 10 |  반복 5601 / 9295 | 시간 5164[s] | 손실 1.44\n",
            "| 에폭 10 |  반복 5621 / 9295 | 시간 5165[s] | 손실 1.46\n",
            "| 에폭 10 |  반복 5641 / 9295 | 시간 5166[s] | 손실 1.43\n",
            "| 에폭 10 |  반복 5661 / 9295 | 시간 5167[s] | 손실 1.43\n",
            "| 에폭 10 |  반복 5681 / 9295 | 시간 5169[s] | 손실 1.43\n",
            "| 에폭 10 |  반복 5701 / 9295 | 시간 5170[s] | 손실 1.42\n",
            "| 에폭 10 |  반복 5721 / 9295 | 시간 5171[s] | 손실 1.44\n",
            "| 에폭 10 |  반복 5741 / 9295 | 시간 5172[s] | 손실 1.42\n",
            "| 에폭 10 |  반복 5761 / 9295 | 시간 5173[s] | 손실 1.43\n",
            "| 에폭 10 |  반복 5781 / 9295 | 시간 5174[s] | 손실 1.45\n",
            "| 에폭 10 |  반복 5801 / 9295 | 시간 5176[s] | 손실 1.43\n",
            "| 에폭 10 |  반복 5821 / 9295 | 시간 5177[s] | 손실 1.42\n",
            "| 에폭 10 |  반복 5841 / 9295 | 시간 5178[s] | 손실 1.44\n",
            "| 에폭 10 |  반복 5861 / 9295 | 시간 5179[s] | 손실 1.51\n",
            "| 에폭 10 |  반복 5881 / 9295 | 시간 5180[s] | 손실 1.40\n",
            "| 에폭 10 |  반복 5901 / 9295 | 시간 5181[s] | 손실 1.42\n",
            "| 에폭 10 |  반복 5921 / 9295 | 시간 5182[s] | 손실 1.44\n",
            "| 에폭 10 |  반복 5941 / 9295 | 시간 5184[s] | 손실 1.45\n",
            "| 에폭 10 |  반복 5961 / 9295 | 시간 5185[s] | 손실 1.45\n",
            "| 에폭 10 |  반복 5981 / 9295 | 시간 5186[s] | 손실 1.51\n",
            "| 에폭 10 |  반복 6001 / 9295 | 시간 5187[s] | 손실 1.43\n",
            "| 에폭 10 |  반복 6021 / 9295 | 시간 5188[s] | 손실 1.46\n",
            "| 에폭 10 |  반복 6041 / 9295 | 시간 5189[s] | 손실 1.46\n",
            "| 에폭 10 |  반복 6061 / 9295 | 시간 5190[s] | 손실 1.48\n",
            "| 에폭 10 |  반복 6081 / 9295 | 시간 5192[s] | 손실 1.45\n",
            "| 에폭 10 |  반복 6101 / 9295 | 시간 5193[s] | 손실 1.41\n",
            "| 에폭 10 |  반복 6121 / 9295 | 시간 5194[s] | 손실 1.46\n",
            "| 에폭 10 |  반복 6141 / 9295 | 시간 5195[s] | 손실 1.46\n",
            "| 에폭 10 |  반복 6161 / 9295 | 시간 5196[s] | 손실 1.49\n",
            "| 에폭 10 |  반복 6181 / 9295 | 시간 5197[s] | 손실 1.43\n",
            "| 에폭 10 |  반복 6201 / 9295 | 시간 5199[s] | 손실 1.44\n",
            "| 에폭 10 |  반복 6221 / 9295 | 시간 5200[s] | 손실 1.42\n",
            "| 에폭 10 |  반복 6241 / 9295 | 시간 5201[s] | 손실 1.47\n",
            "| 에폭 10 |  반복 6261 / 9295 | 시간 5202[s] | 손실 1.49\n",
            "| 에폭 10 |  반복 6281 / 9295 | 시간 5203[s] | 손실 1.43\n",
            "| 에폭 10 |  반복 6301 / 9295 | 시간 5204[s] | 손실 1.42\n",
            "| 에폭 10 |  반복 6321 / 9295 | 시간 5205[s] | 손실 1.46\n",
            "| 에폭 10 |  반복 6341 / 9295 | 시간 5207[s] | 손실 1.46\n",
            "| 에폭 10 |  반복 6361 / 9295 | 시간 5208[s] | 손실 1.44\n",
            "| 에폭 10 |  반복 6381 / 9295 | 시간 5209[s] | 손실 1.44\n",
            "| 에폭 10 |  반복 6401 / 9295 | 시간 5210[s] | 손실 1.45\n",
            "| 에폭 10 |  반복 6421 / 9295 | 시간 5211[s] | 손실 1.45\n",
            "| 에폭 10 |  반복 6441 / 9295 | 시간 5212[s] | 손실 1.42\n",
            "| 에폭 10 |  반복 6461 / 9295 | 시간 5214[s] | 손실 1.45\n",
            "| 에폭 10 |  반복 6481 / 9295 | 시간 5215[s] | 손실 1.43\n",
            "| 에폭 10 |  반복 6501 / 9295 | 시간 5216[s] | 손실 1.44\n",
            "| 에폭 10 |  반복 6521 / 9295 | 시간 5217[s] | 손실 1.47\n",
            "| 에폭 10 |  반복 6541 / 9295 | 시간 5218[s] | 손실 1.45\n",
            "| 에폭 10 |  반복 6561 / 9295 | 시간 5219[s] | 손실 1.41\n",
            "| 에폭 10 |  반복 6581 / 9295 | 시간 5220[s] | 손실 1.46\n",
            "| 에폭 10 |  반복 6601 / 9295 | 시간 5222[s] | 손실 1.46\n",
            "| 에폭 10 |  반복 6621 / 9295 | 시간 5223[s] | 손실 1.46\n",
            "| 에폭 10 |  반복 6641 / 9295 | 시간 5224[s] | 손실 1.43\n",
            "| 에폭 10 |  반복 6661 / 9295 | 시간 5225[s] | 손실 1.48\n",
            "| 에폭 10 |  반복 6681 / 9295 | 시간 5226[s] | 손실 1.44\n",
            "| 에폭 10 |  반복 6701 / 9295 | 시간 5227[s] | 손실 1.47\n",
            "| 에폭 10 |  반복 6721 / 9295 | 시간 5229[s] | 손실 1.48\n",
            "| 에폭 10 |  반복 6741 / 9295 | 시간 5230[s] | 손실 1.42\n",
            "| 에폭 10 |  반복 6761 / 9295 | 시간 5231[s] | 손실 1.43\n",
            "| 에폭 10 |  반복 6781 / 9295 | 시간 5232[s] | 손실 1.46\n",
            "| 에폭 10 |  반복 6801 / 9295 | 시간 5233[s] | 손실 1.44\n",
            "| 에폭 10 |  반복 6821 / 9295 | 시간 5234[s] | 손실 1.47\n",
            "| 에폭 10 |  반복 6841 / 9295 | 시간 5235[s] | 손실 1.46\n",
            "| 에폭 10 |  반복 6861 / 9295 | 시간 5237[s] | 손실 1.44\n",
            "| 에폭 10 |  반복 6881 / 9295 | 시간 5238[s] | 손실 1.47\n",
            "| 에폭 10 |  반복 6901 / 9295 | 시간 5239[s] | 손실 1.43\n",
            "| 에폭 10 |  반복 6921 / 9295 | 시간 5240[s] | 손실 1.45\n",
            "| 에폭 10 |  반복 6941 / 9295 | 시간 5241[s] | 손실 1.51\n",
            "| 에폭 10 |  반복 6961 / 9295 | 시간 5242[s] | 손실 1.41\n",
            "| 에폭 10 |  반복 6981 / 9295 | 시간 5244[s] | 손실 1.47\n",
            "| 에폭 10 |  반복 7001 / 9295 | 시간 5245[s] | 손실 1.46\n",
            "| 에폭 10 |  반복 7021 / 9295 | 시간 5246[s] | 손실 1.46\n",
            "| 에폭 10 |  반복 7041 / 9295 | 시간 5247[s] | 손실 1.45\n",
            "| 에폭 10 |  반복 7061 / 9295 | 시간 5248[s] | 손실 1.44\n",
            "| 에폭 10 |  반복 7081 / 9295 | 시간 5249[s] | 손실 1.43\n",
            "| 에폭 10 |  반복 7101 / 9295 | 시간 5251[s] | 손실 1.47\n",
            "| 에폭 10 |  반복 7121 / 9295 | 시간 5252[s] | 손실 1.41\n",
            "| 에폭 10 |  반복 7141 / 9295 | 시간 5253[s] | 손실 1.44\n",
            "| 에폭 10 |  반복 7161 / 9295 | 시간 5254[s] | 손실 1.44\n",
            "| 에폭 10 |  반복 7181 / 9295 | 시간 5255[s] | 손실 1.49\n",
            "| 에폭 10 |  반복 7201 / 9295 | 시간 5256[s] | 손실 1.48\n",
            "| 에폭 10 |  반복 7221 / 9295 | 시간 5258[s] | 손실 1.45\n",
            "| 에폭 10 |  반복 7241 / 9295 | 시간 5259[s] | 손실 1.46\n",
            "| 에폭 10 |  반복 7261 / 9295 | 시간 5260[s] | 손실 1.42\n",
            "| 에폭 10 |  반복 7281 / 9295 | 시간 5261[s] | 손실 1.45\n",
            "| 에폭 10 |  반복 7301 / 9295 | 시간 5262[s] | 손실 1.45\n",
            "| 에폭 10 |  반복 7321 / 9295 | 시간 5263[s] | 손실 1.46\n",
            "| 에폭 10 |  반복 7341 / 9295 | 시간 5264[s] | 손실 1.48\n",
            "| 에폭 10 |  반복 7361 / 9295 | 시간 5266[s] | 손실 1.47\n",
            "| 에폭 10 |  반복 7381 / 9295 | 시간 5267[s] | 손실 1.48\n",
            "| 에폭 10 |  반복 7401 / 9295 | 시간 5268[s] | 손실 1.45\n",
            "| 에폭 10 |  반복 7421 / 9295 | 시간 5269[s] | 손실 1.46\n",
            "| 에폭 10 |  반복 7441 / 9295 | 시간 5270[s] | 손실 1.43\n",
            "| 에폭 10 |  반복 7461 / 9295 | 시간 5271[s] | 손실 1.46\n",
            "| 에폭 10 |  반복 7481 / 9295 | 시간 5272[s] | 손실 1.43\n",
            "| 에폭 10 |  반복 7501 / 9295 | 시간 5274[s] | 손실 1.46\n",
            "| 에폭 10 |  반복 7521 / 9295 | 시간 5275[s] | 손실 1.43\n",
            "| 에폭 10 |  반복 7541 / 9295 | 시간 5276[s] | 손실 1.46\n",
            "| 에폭 10 |  반복 7561 / 9295 | 시간 5277[s] | 손실 1.48\n",
            "| 에폭 10 |  반복 7581 / 9295 | 시간 5278[s] | 손실 1.43\n",
            "| 에폭 10 |  반복 7601 / 9295 | 시간 5279[s] | 손실 1.45\n",
            "| 에폭 10 |  반복 7621 / 9295 | 시간 5281[s] | 손실 1.43\n",
            "| 에폭 10 |  반복 7641 / 9295 | 시간 5282[s] | 손실 1.42\n",
            "| 에폭 10 |  반복 7661 / 9295 | 시간 5283[s] | 손실 1.48\n",
            "| 에폭 10 |  반복 7681 / 9295 | 시간 5284[s] | 손실 1.44\n",
            "| 에폭 10 |  반복 7701 / 9295 | 시간 5285[s] | 손실 1.48\n",
            "| 에폭 10 |  반복 7721 / 9295 | 시간 5286[s] | 손실 1.42\n",
            "| 에폭 10 |  반복 7741 / 9295 | 시간 5287[s] | 손실 1.47\n",
            "| 에폭 10 |  반복 7761 / 9295 | 시간 5289[s] | 손실 1.48\n",
            "| 에폭 10 |  반복 7781 / 9295 | 시간 5290[s] | 손실 1.48\n",
            "| 에폭 10 |  반복 7801 / 9295 | 시간 5291[s] | 손실 1.48\n",
            "| 에폭 10 |  반복 7821 / 9295 | 시간 5292[s] | 손실 1.48\n",
            "| 에폭 10 |  반복 7841 / 9295 | 시간 5293[s] | 손실 1.44\n",
            "| 에폭 10 |  반복 7861 / 9295 | 시간 5294[s] | 손실 1.42\n",
            "| 에폭 10 |  반복 7881 / 9295 | 시간 5295[s] | 손실 1.42\n",
            "| 에폭 10 |  반복 7901 / 9295 | 시간 5297[s] | 손실 1.44\n",
            "| 에폭 10 |  반복 7921 / 9295 | 시간 5298[s] | 손실 1.45\n",
            "| 에폭 10 |  반복 7941 / 9295 | 시간 5299[s] | 손실 1.42\n",
            "| 에폭 10 |  반복 7961 / 9295 | 시간 5300[s] | 손실 1.47\n",
            "| 에폭 10 |  반복 7981 / 9295 | 시간 5301[s] | 손실 1.47\n",
            "| 에폭 10 |  반복 8001 / 9295 | 시간 5302[s] | 손실 1.43\n",
            "| 에폭 10 |  반복 8021 / 9295 | 시간 5303[s] | 손실 1.44\n",
            "| 에폭 10 |  반복 8041 / 9295 | 시간 5305[s] | 손실 1.50\n",
            "| 에폭 10 |  반복 8061 / 9295 | 시간 5306[s] | 손실 1.47\n",
            "| 에폭 10 |  반복 8081 / 9295 | 시간 5307[s] | 손실 1.45\n",
            "| 에폭 10 |  반복 8101 / 9295 | 시간 5308[s] | 손실 1.42\n",
            "| 에폭 10 |  반복 8121 / 9295 | 시간 5309[s] | 손실 1.45\n",
            "| 에폭 10 |  반복 8141 / 9295 | 시간 5310[s] | 손실 1.46\n",
            "| 에폭 10 |  반복 8161 / 9295 | 시간 5311[s] | 손실 1.42\n",
            "| 에폭 10 |  반복 8181 / 9295 | 시간 5313[s] | 손실 1.44\n",
            "| 에폭 10 |  반복 8201 / 9295 | 시간 5314[s] | 손실 1.47\n",
            "| 에폭 10 |  반복 8221 / 9295 | 시간 5315[s] | 손실 1.41\n",
            "| 에폭 10 |  반복 8241 / 9295 | 시간 5316[s] | 손실 1.45\n",
            "| 에폭 10 |  반복 8261 / 9295 | 시간 5317[s] | 손실 1.48\n",
            "| 에폭 10 |  반복 8281 / 9295 | 시간 5318[s] | 손실 1.47\n",
            "| 에폭 10 |  반복 8301 / 9295 | 시간 5320[s] | 손실 1.47\n",
            "| 에폭 10 |  반복 8321 / 9295 | 시간 5321[s] | 손실 1.45\n",
            "| 에폭 10 |  반복 8341 / 9295 | 시간 5322[s] | 손실 1.46\n",
            "| 에폭 10 |  반복 8361 / 9295 | 시간 5323[s] | 손실 1.45\n",
            "| 에폭 10 |  반복 8381 / 9295 | 시간 5324[s] | 손실 1.49\n",
            "| 에폭 10 |  반복 8401 / 9295 | 시간 5325[s] | 손실 1.49\n",
            "| 에폭 10 |  반복 8421 / 9295 | 시간 5326[s] | 손실 1.44\n",
            "| 에폭 10 |  반복 8441 / 9295 | 시간 5328[s] | 손실 1.45\n",
            "| 에폭 10 |  반복 8461 / 9295 | 시간 5329[s] | 손실 1.44\n",
            "| 에폭 10 |  반복 8481 / 9295 | 시간 5330[s] | 손실 1.47\n",
            "| 에폭 10 |  반복 8501 / 9295 | 시간 5331[s] | 손실 1.43\n",
            "| 에폭 10 |  반복 8521 / 9295 | 시간 5332[s] | 손실 1.48\n",
            "| 에폭 10 |  반복 8541 / 9295 | 시간 5333[s] | 손실 1.44\n",
            "| 에폭 10 |  반복 8561 / 9295 | 시간 5334[s] | 손실 1.45\n",
            "| 에폭 10 |  반복 8581 / 9295 | 시간 5336[s] | 손실 1.46\n",
            "| 에폭 10 |  반복 8601 / 9295 | 시간 5337[s] | 손실 1.45\n",
            "| 에폭 10 |  반복 8621 / 9295 | 시간 5338[s] | 손실 1.48\n",
            "| 에폭 10 |  반복 8641 / 9295 | 시간 5339[s] | 손실 1.46\n",
            "| 에폭 10 |  반복 8661 / 9295 | 시간 5340[s] | 손실 1.47\n",
            "| 에폭 10 |  반복 8681 / 9295 | 시간 5341[s] | 손실 1.47\n",
            "| 에폭 10 |  반복 8701 / 9295 | 시간 5342[s] | 손실 1.45\n",
            "| 에폭 10 |  반복 8721 / 9295 | 시간 5344[s] | 손실 1.46\n",
            "| 에폭 10 |  반복 8741 / 9295 | 시간 5345[s] | 손실 1.39\n",
            "| 에폭 10 |  반복 8761 / 9295 | 시간 5346[s] | 손실 1.48\n",
            "| 에폭 10 |  반복 8781 / 9295 | 시간 5347[s] | 손실 1.41\n",
            "| 에폭 10 |  반복 8801 / 9295 | 시간 5348[s] | 손실 1.47\n",
            "| 에폭 10 |  반복 8821 / 9295 | 시간 5349[s] | 손실 1.46\n",
            "| 에폭 10 |  반복 8841 / 9295 | 시간 5350[s] | 손실 1.46\n",
            "| 에폭 10 |  반복 8861 / 9295 | 시간 5352[s] | 손실 1.45\n",
            "| 에폭 10 |  반복 8881 / 9295 | 시간 5353[s] | 손실 1.45\n",
            "| 에폭 10 |  반복 8901 / 9295 | 시간 5354[s] | 손실 1.48\n",
            "| 에폭 10 |  반복 8921 / 9295 | 시간 5355[s] | 손실 1.51\n",
            "| 에폭 10 |  반복 8941 / 9295 | 시간 5356[s] | 손실 1.44\n",
            "| 에폭 10 |  반복 8961 / 9295 | 시간 5357[s] | 손실 1.45\n",
            "| 에폭 10 |  반복 8981 / 9295 | 시간 5358[s] | 손실 1.44\n",
            "| 에폭 10 |  반복 9001 / 9295 | 시간 5360[s] | 손실 1.48\n",
            "| 에폭 10 |  반복 9021 / 9295 | 시간 5361[s] | 손실 1.48\n",
            "| 에폭 10 |  반복 9041 / 9295 | 시간 5362[s] | 손실 1.45\n",
            "| 에폭 10 |  반복 9061 / 9295 | 시간 5363[s] | 손실 1.50\n",
            "| 에폭 10 |  반복 9081 / 9295 | 시간 5364[s] | 손실 1.48\n",
            "| 에폭 10 |  반복 9101 / 9295 | 시간 5365[s] | 손실 1.47\n",
            "| 에폭 10 |  반복 9121 / 9295 | 시간 5366[s] | 손실 1.46\n",
            "| 에폭 10 |  반복 9141 / 9295 | 시간 5368[s] | 손실 1.44\n",
            "| 에폭 10 |  반복 9161 / 9295 | 시간 5369[s] | 손실 1.44\n",
            "| 에폭 10 |  반복 9181 / 9295 | 시간 5370[s] | 손실 1.44\n",
            "| 에폭 10 |  반복 9201 / 9295 | 시간 5371[s] | 손실 1.45\n",
            "| 에폭 10 |  반복 9221 / 9295 | 시간 5372[s] | 손실 1.48\n",
            "| 에폭 10 |  반복 9241 / 9295 | 시간 5373[s] | 손실 1.49\n",
            "| 에폭 10 |  반복 9261 / 9295 | 시간 5375[s] | 손실 1.45\n",
            "| 에폭 10 |  반복 9281 / 9295 | 시간 5376[s] | 손실 1.42\n"
          ]
        },
        {
          "output_type": "stream",
          "name": "stderr",
          "text": [
            "/usr/local/lib/python3.7/dist-packages/matplotlib/backends/backend_agg.py:214: RuntimeWarning: Glyph 48152 missing from current font.\n",
            "  font.set_text(s, 0.0, flags=flags)\n",
            "/usr/local/lib/python3.7/dist-packages/matplotlib/backends/backend_agg.py:214: RuntimeWarning: Glyph 48373 missing from current font.\n",
            "  font.set_text(s, 0.0, flags=flags)\n",
            "/usr/local/lib/python3.7/dist-packages/matplotlib/backends/backend_agg.py:214: RuntimeWarning: Glyph 49552 missing from current font.\n",
            "  font.set_text(s, 0.0, flags=flags)\n",
            "/usr/local/lib/python3.7/dist-packages/matplotlib/backends/backend_agg.py:214: RuntimeWarning: Glyph 49892 missing from current font.\n",
            "  font.set_text(s, 0.0, flags=flags)\n",
            "/usr/local/lib/python3.7/dist-packages/matplotlib/backends/backend_agg.py:183: RuntimeWarning: Glyph 48152 missing from current font.\n",
            "  font.set_text(s, 0, flags=flags)\n",
            "/usr/local/lib/python3.7/dist-packages/matplotlib/backends/backend_agg.py:183: RuntimeWarning: Glyph 48373 missing from current font.\n",
            "  font.set_text(s, 0, flags=flags)\n",
            "/usr/local/lib/python3.7/dist-packages/matplotlib/backends/backend_agg.py:183: RuntimeWarning: Glyph 49552 missing from current font.\n",
            "  font.set_text(s, 0, flags=flags)\n",
            "/usr/local/lib/python3.7/dist-packages/matplotlib/backends/backend_agg.py:183: RuntimeWarning: Glyph 49892 missing from current font.\n",
            "  font.set_text(s, 0, flags=flags)\n"
          ]
        },
        {
          "output_type": "display_data",
          "data": {
            "image/png": "[encoded data removed]",
            "text/plain": [
              "<Figure size 432x288 with 1 Axes>"
            ]
          },
          "metadata": {
            "needs_background": "light"
          }
        }
      ]
    },
    {
      "cell_type": "code",
      "source": [
        "word_vecs = model.word_vecs \n",
        "params={}\n",
        "params['word_vecs'] = word_vecs.astype(np.float16)\n",
        "params['word_to_id'] = word_to_id\n",
        "params['id_to_word'] = id_to_word \n",
        "pkl_file = 'cbow_params.pkl' \n",
        "with open(pkl_file, 'wb') as f :\n",
        "  pickle.dump(params,f, -1)\n",
        "# pickle : 파이썬의 객체를 파일러 저장하는데 이용됨"
      ],
      "metadata": {
        "id": "VGKsXjU25qP_"
      },
      "execution_count": 63,
      "outputs": []
    },
    {
      "cell_type": "code",
      "source": [
        "# CBOW 모델 평가 \n",
        "from common.util import most_similar\n",
        "import pickle \n",
        "\n",
        "with open(pkl_file, 'rb') as f:\n",
        "  params = pickle.load(f) \n",
        "  word_vecs = params['word_vecs'] \n",
        "  word_to_id = params['word_to_id']\n",
        "  id_to_word = params['id_to_word']\n",
        "\n",
        "querys = ['you','year','car','toyota']  \n",
        "for query in querys :  \n",
        "  most_similar(query, word_to_id, id_to_word, word_vecs, top=5) "
      ],
      "metadata": {
        "colab": {
          "base_uri": "https://localhost:8080/"
        },
        "id": "YYlhgKmr6G3H",
        "outputId": "ecfc59ab-2d28-4b8a-c412-795d302eec27"
      },
      "execution_count": 70,
      "outputs": [
        {
          "output_type": "stream",
          "name": "stdout",
          "text": [
            "\n",
            "[query] you\n",
            " i: 0.7275390625\n",
            " we: 0.72412109375\n",
            " your: 0.6220703125\n",
            " they: 0.60888671875\n",
            " reasonable: 0.57080078125\n",
            "\n",
            "[query] year\n",
            " month: 0.8515625\n",
            " week: 0.7841796875\n",
            " spring: 0.78076171875\n",
            " summer: 0.73779296875\n",
            " decade: 0.69189453125\n",
            "\n",
            "[query] car\n",
            " window: 0.619140625\n",
            " auto: 0.60009765625\n",
            " luxury: 0.59619140625\n",
            " truck: 0.587890625\n",
            " merkur: 0.56103515625\n",
            "\n",
            "[query] toyota\n",
            " marathon: 0.6435546875\n",
            " seita: 0.63330078125\n",
            " honda: 0.63134765625\n",
            " mazda: 0.615234375\n",
            " minivans: 0.6123046875\n"
          ]
        }
      ]
    },
    {
      "cell_type": "code",
      "source": [
        "from ch04.eval import * \n",
        "analogy('king','man','queen', word_to_id, id_to_word, word_vecs)\n",
        "# king:man = queen: ?\n",
        "analogy('take','took','go',word_to_id, id_to_word, word_vecs) \n",
        "analogy('car','cars','child',word_to_id, id_to_word, word_vecs)\n"
      ],
      "metadata": {
        "colab": {
          "base_uri": "https://localhost:8080/"
        },
        "id": "vyQH8W-47oB7",
        "outputId": "881a52b2-04ce-49c5-b498-148e5370661f"
      },
      "execution_count": 72,
      "outputs": [
        {
          "output_type": "stream",
          "name": "stdout",
          "text": [
            "\n",
            "[analogy] king:man = queen:?\n",
            " woman: 5.2421875\n",
            " a.m: 5.22265625\n",
            " naczelnik: 4.99609375\n",
            " toxin: 4.9453125\n",
            " carolinas: 4.81640625\n",
            "\n",
            "[analogy] take:took = go:?\n",
            " were: 5.0\n",
            " went: 4.59375\n",
            " eurodollars: 4.57421875\n",
            " 're: 4.453125\n",
            " was: 4.32421875\n",
            "\n",
            "[analogy] car:cars = child:?\n",
            " a.m: 7.47265625\n",
            " daffynition: 6.234375\n",
            " rape: 5.625\n",
            " incest: 5.05078125\n",
            " bond-equivalent: 4.88671875\n"
          ]
        }
      ]
    },
    {
      "cell_type": "code",
      "source": [
        "# word2vec의 실험\n",
        "# 말뭉치가 클수록 결과가 좋음\n",
        "# 단어벡터 차원수는 적당한 크기가 좋음"
      ],
      "metadata": {
        "id": "ofouzbV17oEm"
      },
      "execution_count": null,
      "outputs": []
    },
    {
      "cell_type": "code",
      "source": [
        ""
      ],
      "metadata": {
        "id": "iZwEr4qr7oHx"
      },
      "execution_count": null,
      "outputs": []
    },
    {
      "cell_type": "code",
      "source": [
        ""
      ],
      "metadata": {
        "id": "Lz9Pv_yg7oK6"
      },
      "execution_count": null,
      "outputs": []
    },
    {
      "cell_type": "code",
      "source": [
        ""
      ],
      "metadata": {
        "id": "-w-ocFwA7oNx"
      },
      "execution_count": null,
      "outputs": []
    }
  ]
}