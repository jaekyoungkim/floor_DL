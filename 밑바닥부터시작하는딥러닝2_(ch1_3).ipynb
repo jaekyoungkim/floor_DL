{
  "nbformat": 4,
  "nbformat_minor": 0,
  "metadata": {
    "colab": {
      "name": "밑바닥부터시작하는딥러닝2 -(ch1-3).ipynb",
      "provenance": [],
      "toc_visible": true,
      "collapsed_sections": [],
      "machine_shape": "hm",
      "authorship_tag": "ABX9TyPFsKIbreBN/rVPaiCrOtsb",
      "include_colab_link": true
    },
    "kernelspec": {
      "name": "python3",
      "display_name": "Python 3"
    },
    "language_info": {
      "name": "python"
    },
    "accelerator": "GPU"
  },
  "cells": [
    {
      "cell_type": "markdown",
      "metadata": {
        "id": "view-in-github",
        "colab_type": "text"
      },
      "source": [
        "<a href=\"https://colab.research.google.com/github/jaekyoungkim/floor_DL/blob/main/%EB%B0%91%EB%B0%94%EB%8B%A5%EB%B6%80%ED%84%B0%EC%8B%9C%EC%9E%91%ED%95%98%EB%8A%94%EB%94%A5%EB%9F%AC%EB%8B%9D2_(ch1_3).ipynb\" target=\"_parent\"><img src=\"https://colab.research.google.com/assets/colab-badge.svg\" alt=\"Open In Colab\"/></a>"
      ]
    },
    {
      "cell_type": "code",
      "execution_count": 1,
      "metadata": {
        "id": "-p2YLaIYgO4o",
        "colab": {
          "base_uri": "https://localhost:8080/"
        },
        "outputId": "f6b2a19b-3f09-46e4-9978-b78dbe5e0967"
      },
      "outputs": [
        {
          "output_type": "stream",
          "name": "stdout",
          "text": [
            "Cloning into 'deep-learning-from-scratch-2'...\n",
            "remote: Enumerating objects: 606, done.\u001b[K\n",
            "remote: Counting objects: 100% (8/8), done.\u001b[K\n",
            "remote: Compressing objects: 100% (8/8), done.\u001b[K\n",
            "remote: Total 606 (delta 1), reused 5 (delta 0), pack-reused 598\u001b[K\n",
            "Receiving objects: 100% (606/606), 29.82 MiB | 14.25 MiB/s, done.\n",
            "Resolving deltas: 100% (361/361), done.\n"
          ]
        }
      ],
      "source": [
        "!git clone https://github.com/WegraLee/deep-learning-from-scratch-2.git"
      ]
    },
    {
      "cell_type": "markdown",
      "source": [
        "# ch1. 신경망 복습 "
      ],
      "metadata": {
        "id": "9p28Nwy8gS6x"
      }
    },
    {
      "cell_type": "code",
      "source": [
        "import numpy as np\n",
        "x=np.array([1,2,3])\n",
        "x.__class__"
      ],
      "metadata": {
        "colab": {
          "base_uri": "https://localhost:8080/"
        },
        "id": "6FJMVl0AgU0f",
        "outputId": "80293d16-fb2c-438d-fa6d-1ab3c6b36408"
      },
      "execution_count": null,
      "outputs": [
        {
          "output_type": "execute_result",
          "data": {
            "text/plain": [
              "numpy.ndarray"
            ]
          },
          "metadata": {},
          "execution_count": 1
        }
      ]
    },
    {
      "cell_type": "code",
      "source": [
        "x.shape"
      ],
      "metadata": {
        "colab": {
          "base_uri": "https://localhost:8080/"
        },
        "id": "PSZRQQOxgehr",
        "outputId": "6c18d76e-1589-4b83-8c05-c000265909d2"
      },
      "execution_count": null,
      "outputs": [
        {
          "output_type": "execute_result",
          "data": {
            "text/plain": [
              "(3,)"
            ]
          },
          "metadata": {},
          "execution_count": 2
        }
      ]
    },
    {
      "cell_type": "code",
      "source": [
        "x.ndim"
      ],
      "metadata": {
        "colab": {
          "base_uri": "https://localhost:8080/"
        },
        "id": "hQv9i0QhggWj",
        "outputId": "3b4590a4-ce2b-4314-ec11-c1d25de65411"
      },
      "execution_count": null,
      "outputs": [
        {
          "output_type": "execute_result",
          "data": {
            "text/plain": [
              "1"
            ]
          },
          "metadata": {},
          "execution_count": 4
        }
      ]
    },
    {
      "cell_type": "code",
      "source": [
        "W= np.array([[1,2,3],[4,5,6]])"
      ],
      "metadata": {
        "id": "ENtvW7krgg0r"
      },
      "execution_count": null,
      "outputs": []
    },
    {
      "cell_type": "code",
      "source": [
        "W.shape"
      ],
      "metadata": {
        "colab": {
          "base_uri": "https://localhost:8080/"
        },
        "id": "pz_UOx_ugmVc",
        "outputId": "4aa5bcaf-b630-4dd2-bc5b-28202349371f"
      },
      "execution_count": null,
      "outputs": [
        {
          "output_type": "execute_result",
          "data": {
            "text/plain": [
              "(2, 3)"
            ]
          },
          "metadata": {},
          "execution_count": 6
        }
      ]
    },
    {
      "cell_type": "code",
      "source": [
        "W.ndim"
      ],
      "metadata": {
        "colab": {
          "base_uri": "https://localhost:8080/"
        },
        "id": "3T_fMyXlgnWv",
        "outputId": "26935316-a495-4ca6-b2c7-712c2a00370d"
      },
      "execution_count": null,
      "outputs": [
        {
          "output_type": "execute_result",
          "data": {
            "text/plain": [
              "2"
            ]
          },
          "metadata": {},
          "execution_count": 7
        }
      ]
    },
    {
      "cell_type": "code",
      "source": [
        "a=np.array([1,2,3])\n",
        "b=np.array([4,5,6])\n",
        "np.dot(a,b) # 벡터의 내적"
      ],
      "metadata": {
        "colab": {
          "base_uri": "https://localhost:8080/"
        },
        "id": "83abMEM-gn6-",
        "outputId": "d02f1d36-4a06-4120-e314-2d8fc93455a5"
      },
      "execution_count": null,
      "outputs": [
        {
          "output_type": "execute_result",
          "data": {
            "text/plain": [
              "32"
            ]
          },
          "metadata": {},
          "execution_count": 8
        }
      ]
    },
    {
      "cell_type": "code",
      "source": [
        "A=np.array([[1,2],[3,4]])\n",
        "B=np.array([4,5,6])"
      ],
      "metadata": {
        "id": "UyBP-9vqg08T"
      },
      "execution_count": null,
      "outputs": []
    },
    {
      "cell_type": "code",
      "source": [
        "np.dot(A,B) "
      ],
      "metadata": {
        "colab": {
          "base_uri": "https://localhost:8080/"
        },
        "id": "s_n3FXLbg5e5",
        "outputId": "b6027fd6-2b3d-4a4d-d1df-97e88a1be4c0"
      },
      "execution_count": null,
      "outputs": [
        {
          "output_type": "execute_result",
          "data": {
            "text/plain": [
              "array([[19, 22],\n",
              "       [43, 50]])"
            ]
          },
          "metadata": {},
          "execution_count": 15
        }
      ]
    },
    {
      "cell_type": "code",
      "source": [
        "A=np.array([[1,2],[3,4]])\n",
        "B=np.array([[5,6],[7,8]])"
      ],
      "metadata": {
        "id": "6Q-Cs2XSg8ti"
      },
      "execution_count": null,
      "outputs": []
    },
    {
      "cell_type": "code",
      "source": [
        "np.matmul(A,B)  # 행렬곱"
      ],
      "metadata": {
        "colab": {
          "base_uri": "https://localhost:8080/"
        },
        "id": "5YsGqRfChETM",
        "outputId": "3069e483-b0e7-4024-81bf-526443b32cd9"
      },
      "execution_count": null,
      "outputs": [
        {
          "output_type": "execute_result",
          "data": {
            "text/plain": [
              "array([[19, 22],\n",
              "       [43, 50]])"
            ]
          },
          "metadata": {},
          "execution_count": 14
        }
      ]
    },
    {
      "cell_type": "code",
      "source": [
        "# 100 NUMPY EXCERSICE 예제 해보기, 좋은 샘플임"
      ],
      "metadata": {
        "id": "P4v9nHMyhFes"
      },
      "execution_count": null,
      "outputs": []
    },
    {
      "cell_type": "code",
      "source": [
        "# 신경명에서 수행하는 작업 : 학습과 추론\n",
        "# 입력층, 출력층, 은닉층으로 구성됨\n",
        "# 가중치, 편향을 통해 계산됨\n"
      ],
      "metadata": {
        "id": "OgvHrleLhYiG"
      },
      "execution_count": null,
      "outputs": []
    },
    {
      "cell_type": "code",
      "source": [
        "# h(1x4) = x(1x2)W(2x4) + b(1x4)\n",
        "# h1 = x1 * w11 + x2w21 + b1\n",
        "# x : 입력\n",
        "# h: 은닉층 뉴런\n",
        "# W : 가중치\n",
        "# b: 편향"
      ],
      "metadata": {
        "id": "phvb-51Y3VeC"
      },
      "execution_count": null,
      "outputs": []
    },
    {
      "cell_type": "code",
      "source": [
        "import numpy as np\n",
        "W1  = np.random.randn(2,4) ; W1 # 2x4 # "
      ],
      "metadata": {
        "id": "6tZv_vmr30sX",
        "colab": {
          "base_uri": "https://localhost:8080/"
        },
        "outputId": "a306cf05-e674-4587-9dd6-5d4326b441ff"
      },
      "execution_count": null,
      "outputs": [
        {
          "output_type": "execute_result",
          "data": {
            "text/plain": [
              "array([[ 1.21648767, -0.48698938, -0.55972081, -0.33360003],\n",
              "       [-0.07943261,  0.33523018,  1.91602756,  0.49719856]])"
            ]
          },
          "metadata": {},
          "execution_count": 1
        }
      ]
    },
    {
      "cell_type": "code",
      "source": [
        "b1 = np.random.randn(4); b1 # 편향 "
      ],
      "metadata": {
        "id": "e6aGiZ9o3mUg",
        "colab": {
          "base_uri": "https://localhost:8080/"
        },
        "outputId": "a99f587a-770d-4f09-d5c2-c984faa7c303"
      },
      "execution_count": null,
      "outputs": [
        {
          "output_type": "execute_result",
          "data": {
            "text/plain": [
              "array([ 0.09281632, -1.32468704,  0.1211265 ,  1.45028844])"
            ]
          },
          "metadata": {},
          "execution_count": 2
        }
      ]
    },
    {
      "cell_type": "code",
      "source": [
        "x = np.random.randn(10,2) ;x  # 10개의 샘플 데이터 10x2"
      ],
      "metadata": {
        "colab": {
          "base_uri": "https://localhost:8080/"
        },
        "id": "OkSttPPMNPjj",
        "outputId": "9d420973-fd08-4356-fc85-c3b4f5606b22"
      },
      "execution_count": null,
      "outputs": [
        {
          "output_type": "execute_result",
          "data": {
            "text/plain": [
              "array([[-0.79263062, -0.75536546],\n",
              "       [-0.96074454, -0.7729176 ],\n",
              "       [ 0.27417157,  1.24564265],\n",
              "       [-0.17863988, -0.25924527],\n",
              "       [-1.5889804 ,  0.12993258],\n",
              "       [ 0.79132852, -0.05668989],\n",
              "       [ 2.02010822,  0.22829108],\n",
              "       [ 1.57134666, -0.50833922],\n",
              "       [ 0.31941044, -0.37383323],\n",
              "       [ 1.06823862,  0.33171146]])"
            ]
          },
          "metadata": {},
          "execution_count": 3
        }
      ]
    },
    {
      "cell_type": "code",
      "source": [
        "h = np.matmul(x, W1)+b1 ; h # b1은 브로드캐스트됨, (4,) -> (10,4)로 복제됨\n",
        "# 은닉층의 뉴런은 4개"
      ],
      "metadata": {
        "colab": {
          "base_uri": "https://localhost:8080/"
        },
        "id": "CIATYmBaNR5z",
        "outputId": "9db0e29a-02be-42bf-ac3c-b804f977189d"
      },
      "execution_count": null,
      "outputs": [
        {
          "output_type": "execute_result",
          "data": {
            "text/plain": [
              "array([[-0.8114084 , -1.19190565, -0.88252269,  1.33914341],\n",
              "       [-1.01452271, -1.11591996, -0.8220562 ,  1.38649933],\n",
              "       [ 0.327398  , -1.04062868,  2.3543526 ,  1.97815653],\n",
              "       [-0.10390437, -1.32459816, -0.27560613,  1.38098633],\n",
              "       [-1.85047963, -0.50731314,  1.2594663 ,  2.04497463],\n",
              "       [ 1.05996073, -1.72905979, -0.43041594,  1.15811509],\n",
              "       [ 2.5321193 , -2.23192823, -0.57215811,  0.88988629],\n",
              "       [ 2.04471886, -2.26032683, -1.73238088,  0.67334163],\n",
              "       [ 0.51106973, -1.60555672, -0.77392894,  1.15786377],\n",
              "       [ 1.36596671, -1.73370821,  0.1587794 ,  1.25885047]])"
            ]
          },
          "metadata": {},
          "execution_count": 6
        }
      ]
    },
    {
      "cell_type": "code",
      "source": [
        "def sigmoid(x):\n",
        "  return 1 / (1+np.exp(-x))"
      ],
      "metadata": {
        "id": "P7axyvAdNjS2"
      },
      "execution_count": null,
      "outputs": []
    },
    {
      "cell_type": "code",
      "source": [
        "a=sigmoid(h);a"
      ],
      "metadata": {
        "colab": {
          "base_uri": "https://localhost:8080/"
        },
        "id": "AhWjMziwN2pD",
        "outputId": "e1879bec-e2e5-4057-9ee0-ee41eb0edc3e"
      },
      "execution_count": null,
      "outputs": [
        {
          "output_type": "execute_result",
          "data": {
            "text/plain": [
              "array([[0.30759045, 0.23291829, 0.29265529, 0.79234904],\n",
              "       [0.26609568, 0.24676887, 0.30532736, 0.80003279],\n",
              "       [0.58112614, 0.26102871, 0.91327957, 0.87848451],\n",
              "       [0.47404725, 0.2100543 , 0.43153132, 0.79914936],\n",
              "       [0.13581659, 0.3758236 , 0.77893422, 0.88543885],\n",
              "       [0.74268304, 0.15070788, 0.39402701, 0.76099005],\n",
              "       [0.92636305, 0.09691974, 0.360739  , 0.70886671],\n",
              "       [0.8854129 , 0.09446241, 0.15028329, 0.662251  ],\n",
              "       [0.62505721, 0.16720642, 0.31562981, 0.76094433],\n",
              "       [0.79672773, 0.15011387, 0.53961167, 0.77882816]])"
            ]
          },
          "metadata": {},
          "execution_count": 9
        }
      ]
    },
    {
      "cell_type": "code",
      "source": [
        "W2 = np.random.randn(4,3); W2"
      ],
      "metadata": {
        "colab": {
          "base_uri": "https://localhost:8080/"
        },
        "id": "tw8iW2SINU2b",
        "outputId": "e01b0cb5-2afb-43e4-a7b7-405d6351d932"
      },
      "execution_count": null,
      "outputs": [
        {
          "output_type": "execute_result",
          "data": {
            "text/plain": [
              "array([[-1.37739058, -1.37091245,  1.02414928],\n",
              "       [ 0.53476128, -0.57238529, -1.18448979],\n",
              "       [ 0.78459979, -1.51697355, -0.88192149],\n",
              "       [ 0.2837107 ,  0.82732871, -0.72231865]])"
            ]
          },
          "metadata": {},
          "execution_count": 12
        }
      ]
    },
    {
      "cell_type": "code",
      "source": [
        "b2 = np.random.randn(3) ; b1"
      ],
      "metadata": {
        "colab": {
          "base_uri": "https://localhost:8080/"
        },
        "id": "N_s59bX2OTB8",
        "outputId": "7f24367d-fb22-4d99-878e-812733989fdd"
      },
      "execution_count": null,
      "outputs": [
        {
          "output_type": "execute_result",
          "data": {
            "text/plain": [
              "array([-0.08098443, -0.3624163 , -1.45582362])"
            ]
          },
          "metadata": {},
          "execution_count": 14
        }
      ]
    },
    {
      "cell_type": "code",
      "source": [
        "s = np.matmul(a, W2) + b2;s # 10x3 3차원 데이터로 변환되었다는 의미 / 3개의 분류를 할 수 있음"
      ],
      "metadata": {
        "colab": {
          "base_uri": "https://localhost:8080/"
        },
        "id": "5cd9kkMBOUOX",
        "outputId": "23ded0fb-a3de-49f8-fc36-e2f1aeda7ffb"
      },
      "execution_count": null,
      "outputs": [
        {
          "output_type": "execute_result",
          "data": {
            "text/plain": [
              "array([[ 0.37118812, -0.25582204,  0.46471824],\n",
              "       [ 0.44787185, -0.21973042,  0.38908963],\n",
              "       [ 0.52083425, -1.51711378,  0.10200395],\n",
              "       [ 0.24057675, -0.67597789,  0.53488725],\n",
              "       [ 1.09215297, -0.76278842, -0.37657407],\n",
              "       [-0.2014279 , -0.98496228,  0.94094466],\n",
              "       [-0.52409655, -1.19861005,  1.25977899],\n",
              "       [-0.64735516, -0.86037521,  1.44002741],\n",
              "       [-0.09211181, -0.71426242,  0.8701091 ],\n",
              "       [-0.15689965, -1.2648029 ,  0.85571906]])"
            ]
          },
          "metadata": {},
          "execution_count": 16
        }
      ]
    },
    {
      "cell_type": "code",
      "source": [
        "# 완전연결계층에 의한 변환은 기하학에서의 아핀변환에 해당(Affine)\n",
        "# 계층은 파이썬 클래스로 구현하며, 기본변환을 수행하는 메서드의 이름은 forward()\n",
        "# 모든 계층은 forward() / backward()를 가짐\n",
        "# 모든계층은 인스턴스 변수인 params / Grads를 가짐\n",
        "# params : 가중치와 편향같은 매개변수를 담은 리스트\n",
        "# grads : params에 저장된 각 매개변수에 대응하여 해당 매개변수의 기울기를 보관하는 리스트\n"
      ],
      "metadata": {
        "id": "iePQD3KWOeCt"
      },
      "execution_count": null,
      "outputs": []
    },
    {
      "cell_type": "code",
      "source": [
        "import numpy as np\n",
        "class Sigmoid:\n",
        "  def __init__(self): \n",
        "    self.params = []\n",
        "  \n",
        "  def forward(self, x):\n",
        "    return 1/ (1+np.exp(-x))\n",
        "# 주변환처리는 forward(x) 메서드가 담당함\n"
      ],
      "metadata": {
        "id": "vHtrwZYtQjuP"
      },
      "execution_count": null,
      "outputs": []
    },
    {
      "cell_type": "code",
      "source": [
        "class Affine:\n",
        "  def __init__(self, W,b):\n",
        "    self.params = [W,b]\n",
        "  \n",
        "  def forward(self,x):\n",
        "    W, b = self.params \n",
        "    out = np.matmul(x,W) + b\n",
        "    return out\n",
        "   # 초기화할때 가중치와 편향을 받음\n",
        "   #  "
      ],
      "metadata": {
        "id": "II82XECdQzyN"
      },
      "execution_count": null,
      "outputs": []
    },
    {
      "cell_type": "code",
      "source": [
        "# x-affine-sigmoid-affine-s 구현해보기\n",
        "\n",
        "class TwoLayerNet:\n",
        "  def __init__(self, input_size, hidden_size, output_size):\n",
        "    I,H,O = input_size, hidden_size, output_size\n",
        "    #가중치편향초기화\n",
        "    W1 = np.random.randn(I, H)\n",
        "    b1 = np.random.randn(H)\n",
        "    W2 = np.random.randn(H,O)\n",
        "    b2 = np.random.randn(O)\n",
        "\n",
        "    #계층생성 / 3개의 계층을 생성함\n",
        "    self.layers = [Affine(W1,b1), Sigmoid(), Affine(W2,b2)]\n",
        "\n",
        "    # 모든 가중치를 리스트에 모은다\n",
        "    self.params = []\n",
        "    for layer in self.layers: \n",
        "      self.params += layer.params\n",
        "  \n",
        "  def predict(self, x):\n",
        "    for layer in self.layers:\n",
        "      x = layer.forward(x)\n",
        "    return x"
      ],
      "metadata": {
        "id": "helnhOirRFYB"
      },
      "execution_count": null,
      "outputs": []
    },
    {
      "cell_type": "code",
      "source": [
        "a = ['A', 'B']\n",
        "a+= ['C','D']\n",
        "a"
      ],
      "metadata": {
        "colab": {
          "base_uri": "https://localhost:8080/"
        },
        "id": "J6C84UEER4LI",
        "outputId": "7bd00f3d-a220-4e5c-b13d-d09397f95dec"
      },
      "execution_count": null,
      "outputs": [
        {
          "output_type": "execute_result",
          "data": {
            "text/plain": [
              "['A', 'B', 'C', 'D']"
            ]
          },
          "metadata": {},
          "execution_count": 32
        }
      ]
    },
    {
      "cell_type": "code",
      "source": [
        "x = np.random.randn(10,2)\n",
        "model = TwoLayerNet(2,4,3)\n",
        "s=model.predict(x)"
      ],
      "metadata": {
        "id": "GVbFuRe1SiY5"
      },
      "execution_count": null,
      "outputs": []
    },
    {
      "cell_type": "code",
      "source": [
        "s"
      ],
      "metadata": {
        "colab": {
          "base_uri": "https://localhost:8080/"
        },
        "id": "lb2FV0qMSveD",
        "outputId": "154e137f-7719-49c8-da8f-bb5a35a97748"
      },
      "execution_count": null,
      "outputs": [
        {
          "output_type": "execute_result",
          "data": {
            "text/plain": [
              "array([[-1.50968998, -3.69145486, -0.59078053],\n",
              "       [-1.6117588 , -4.22416638, -0.71167142],\n",
              "       [-0.49862053, -2.90384628, -1.64117301],\n",
              "       [-0.73843196, -2.6384056 , -0.9049674 ],\n",
              "       [-0.96349443, -2.85194653, -0.70539678],\n",
              "       [-0.42929553, -2.41121233, -1.55367667],\n",
              "       [-1.5465118 , -3.96349097, -0.71224558],\n",
              "       [-0.90985446, -3.14941086, -1.01884055],\n",
              "       [-0.82460339, -2.64136731, -0.77112327],\n",
              "       [-0.98907426, -3.44949816, -1.19451352]])"
            ]
          },
          "metadata": {},
          "execution_count": 34
        }
      ]
    },
    {
      "cell_type": "code",
      "source": [
        "#학습되지 않은 신경망은 좋은추론을 해낼수없음\n",
        "#학습을 먼저 수행하고, 그 학습된 매개변수를 이용해 추론을 수행하는 흐름이 일반적\n"
      ],
      "metadata": {
        "id": "OihKEYbISsGy"
      },
      "execution_count": null,
      "outputs": []
    },
    {
      "cell_type": "code",
      "source": [
        "# 손실함수 :학습이 얼마나 잘 되고 있는지를 알기 위한 척도, 신경망의 성능을 나타내는 척도로 손실을 사용\n",
        "# 예측한 결과를 비교하여 예측이 얼마나 나쁜가를 산출한 단일값(스칼라)\n",
        "# 교차엔트로피 오차(cross entropy error) : 예측한 확률과 정답레이블을 이요해 계산\n",
        "#"
      ],
      "metadata": {
        "id": "vFeG2sa0aPpl"
      },
      "execution_count": null,
      "outputs": []
    },
    {
      "cell_type": "code",
      "source": [
        "# x-affine-sigmoid-affine-softmax-crossentropy-error-L 과정구현\n",
        "# 소프트 맥스의 출력값은 0~1실수\n"
      ],
      "metadata": {
        "id": "IdCLu6GCaoBF"
      },
      "execution_count": null,
      "outputs": []
    },
    {
      "cell_type": "code",
      "source": [
        "# 기울기 개념의 등장 : 수학에서 말하는 기울기와는 다름, 수학에서의 기울기는 벡터에 대한 미분으로 한정, 한편 딥러닝에서는 행렬이나 텐서에 대해서도 미분을 정의함\n",
        "# 국소적인 미분을 구할수있다면 전체의 미분을 구할수있게하는 아이디어 : 연쇄법칙\n"
      ],
      "metadata": {
        "id": "RDpEemVSvgkg"
      },
      "execution_count": null,
      "outputs": []
    },
    {
      "cell_type": "code",
      "source": [
        "# 역전파 종류-\n",
        "# 덧셈노드\n",
        "# 곱셈노드\n",
        "# 분기노드\n",
        "# REPEAT노드(N개의 분기노드)\n",
        "# SUM노드\n",
        "# MATMUL노드"
      ],
      "metadata": {
        "id": "EOL3IT7CSitg"
      },
      "execution_count": null,
      "outputs": []
    },
    {
      "cell_type": "code",
      "source": [
        "import numpy as np\n",
        "D, N = 8,7\n",
        "x = np.random.randn(1,D);x # 8 개랜덤값"
      ],
      "metadata": {
        "colab": {
          "base_uri": "https://localhost:8080/"
        },
        "id": "42xbZ2TKRBsu",
        "outputId": "caf37aa8-7224-45c1-bd43-6b889d35e0d3"
      },
      "execution_count": null,
      "outputs": [
        {
          "output_type": "execute_result",
          "data": {
            "text/plain": [
              "array([[-0.5794089 , -0.4090421 ,  0.11616307, -0.80426539,  0.86277395,\n",
              "        -0.22785349,  1.2346049 ,  0.36791626]])"
            ]
          },
          "metadata": {},
          "execution_count": 39
        }
      ]
    },
    {
      "cell_type": "code",
      "source": [
        "y = np.repeat(x,N, axis=0); y # x를 N번 반복"
      ],
      "metadata": {
        "colab": {
          "base_uri": "https://localhost:8080/"
        },
        "id": "i8M4znzyxCzF",
        "outputId": "919ecb33-0765-49ab-f6d9-7303b7235e22"
      },
      "execution_count": null,
      "outputs": [
        {
          "output_type": "execute_result",
          "data": {
            "text/plain": [
              "array([[-0.5794089 , -0.4090421 ,  0.11616307, -0.80426539,  0.86277395,\n",
              "        -0.22785349,  1.2346049 ,  0.36791626],\n",
              "       [-0.5794089 , -0.4090421 ,  0.11616307, -0.80426539,  0.86277395,\n",
              "        -0.22785349,  1.2346049 ,  0.36791626],\n",
              "       [-0.5794089 , -0.4090421 ,  0.11616307, -0.80426539,  0.86277395,\n",
              "        -0.22785349,  1.2346049 ,  0.36791626],\n",
              "       [-0.5794089 , -0.4090421 ,  0.11616307, -0.80426539,  0.86277395,\n",
              "        -0.22785349,  1.2346049 ,  0.36791626],\n",
              "       [-0.5794089 , -0.4090421 ,  0.11616307, -0.80426539,  0.86277395,\n",
              "        -0.22785349,  1.2346049 ,  0.36791626],\n",
              "       [-0.5794089 , -0.4090421 ,  0.11616307, -0.80426539,  0.86277395,\n",
              "        -0.22785349,  1.2346049 ,  0.36791626],\n",
              "       [-0.5794089 , -0.4090421 ,  0.11616307, -0.80426539,  0.86277395,\n",
              "        -0.22785349,  1.2346049 ,  0.36791626]])"
            ]
          },
          "metadata": {},
          "execution_count": 40
        }
      ]
    },
    {
      "cell_type": "code",
      "source": [
        "dx = np.random.randn(N,D) ;dx.shape"
      ],
      "metadata": {
        "colab": {
          "base_uri": "https://localhost:8080/"
        },
        "id": "nR9alEL6QvnM",
        "outputId": "06ec67bc-c13d-46ea-8115-4452314cb05d"
      },
      "execution_count": null,
      "outputs": [
        {
          "output_type": "execute_result",
          "data": {
            "text/plain": [
              "(7, 8)"
            ]
          },
          "metadata": {},
          "execution_count": 41
        }
      ]
    },
    {
      "cell_type": "code",
      "source": [
        "dy = np.sum(dx, axis=0, keepdims=True);dy #  keepdims=True : 2차원을 유지시킴\n",
        "# (1,D) 출력 NOT (D)"
      ],
      "metadata": {
        "colab": {
          "base_uri": "https://localhost:8080/"
        },
        "id": "l-GuZAhuOXIL",
        "outputId": "02546eca-1c9a-4aa2-94aa-f4379035e333"
      },
      "execution_count": null,
      "outputs": [
        {
          "output_type": "execute_result",
          "data": {
            "text/plain": [
              "array([[ 1.75530335,  2.4007671 ,  0.80061987,  3.1102779 ,  0.78699361,\n",
              "         0.44033144,  1.3401611 , -2.93366021]])"
            ]
          },
          "metadata": {},
          "execution_count": 45
        }
      ]
    },
    {
      "cell_type": "code",
      "source": [
        "dy.ndim"
      ],
      "metadata": {
        "colab": {
          "base_uri": "https://localhost:8080/"
        },
        "id": "Bfl4VmG3xixg",
        "outputId": "d415d1b4-342c-499f-8c10-8e34103946dc"
      },
      "execution_count": null,
      "outputs": [
        {
          "output_type": "execute_result",
          "data": {
            "text/plain": [
              "2"
            ]
          },
          "metadata": {},
          "execution_count": 46
        }
      ]
    },
    {
      "cell_type": "code",
      "source": [
        "# SUM노드의 역전파\n",
        "D,N = 8,7 \n",
        "x=np.random.randn(N,D)\n",
        "y=np.sum(x, axis=0, keepdims=True) \n",
        "dx = np.random.randn(1,D)\n",
        "dy = np.repeat(dy, N, axis=0)"
      ],
      "metadata": {
        "id": "Fmp8KVWxxWXQ"
      },
      "execution_count": null,
      "outputs": []
    },
    {
      "cell_type": "code",
      "source": [
        "# matmul노드의 역전파\n",
        "# y = xW\n",
        "# (1,H) = (1,D) * (D,H) \n",
        "# (N,H) = (N,D) * (D,H) / 미니배치 처리인 경우\n",
        "\n"
      ],
      "metadata": {
        "id": "rDottCRByvAM"
      },
      "execution_count": null,
      "outputs": []
    },
    {
      "cell_type": "code",
      "source": [
        "class MatMul:\n",
        "  def __init__(self, W):\n",
        "    self.params = [W]\n",
        "    self.grads = [np.zeros_like(W)]\n",
        "    self.x = None  \n",
        "  \n",
        "  def forward(self, x): \n",
        "    W, = self.params  \n",
        "    out = np.matmul(x, W)\n",
        "    self.x = x\n",
        "    return out \n",
        "  \n",
        "  def  backward(self, dout ):\n",
        "    W, = self.params \n",
        "    dx = np.matmul(dout, W.T) \n",
        "    dy = np.matmul(self.x.T, dout )\n",
        "    self.grads[0][...] = dW  # 기울기값 설정하는 부분, 생략기호 ... 사용. 넘파이 배열이 가리키는 메모리 위치를 고정시킨 다음, 그 위치에 원소들을 덮어씀\n",
        "    # 생략기호는 넘파이 배열의 덮어쓰기를 수행\n",
        "    # grads[0] =dw처럼 그냥 할당하면 얕은 복사가 이루어지고 grads[0][...]= dw처럼 덮어쓰면 깊은 복사가 이뤄짐\n",
        "    return dx "
      ],
      "metadata": {
        "id": "GZTA_u6HX3ko"
      },
      "execution_count": null,
      "outputs": []
    },
    {
      "cell_type": "code",
      "source": [
        "a = np.array([1,2,3])\n",
        "b = np.array([4,5,6])\n",
        "a=b;a"
      ],
      "metadata": {
        "colab": {
          "base_uri": "https://localhost:8080/"
        },
        "id": "tQhjcELRkCPG",
        "outputId": "eacd36f3-9bbe-4cc4-96df-57e6aa3a21c2"
      },
      "execution_count": null,
      "outputs": [
        {
          "output_type": "execute_result",
          "data": {
            "text/plain": [
              "array([4, 5, 6])"
            ]
          },
          "metadata": {},
          "execution_count": 9
        }
      ]
    },
    {
      "cell_type": "code",
      "source": [
        "a = np.array([1,2,3])\n",
        "b = np.array([4,5,6])\n",
        "a[...]=b;a"
      ],
      "metadata": {
        "colab": {
          "base_uri": "https://localhost:8080/"
        },
        "id": "46WVHXrIkQUC",
        "outputId": "869ab379-ad8c-4259-cd4a-9efd7dfba823"
      },
      "execution_count": null,
      "outputs": [
        {
          "output_type": "execute_result",
          "data": {
            "text/plain": [
              "array([4, 5, 6])"
            ]
          },
          "metadata": {},
          "execution_count": 8
        }
      ]
    },
    {
      "cell_type": "code",
      "source": [
        "# a에는 모두 [4,5,6]이 할당됨\n",
        "# 두경우, A가 가리키는 메모리의 위치가 서로 다름\n",
        "# 생략기호를 이요하여 변수의 메모리 주소를 고정할 수 있음\n",
        "# 메모리 주소를 고정함으로써 인스턴스 변수 grads를 다루기가 더 쉬워짐\n",
        "# grads리스트에는 각 매개변수의 기울기를 저장함. 생략기호를 사용하므로 이 넘파이 배열의 메모리 주소가 변하는 일 없이 항상 값을 덮어씀\n",
        "# 이렇게 하면 기울기를 그룹화하는 작업을 최초에 한번만 하면 된다는 이점이 생김\n"
      ],
      "metadata": {
        "id": "bafeY0NWhYDr"
      },
      "execution_count": null,
      "outputs": []
    },
    {
      "cell_type": "code",
      "source": [
        "# 기울기의 도출과 역전파 구현\n",
        "# 1. sigmoid계층\n",
        "class Sigmoid:\n",
        "  def __init__(self):\n",
        "    self.params , self.grads =[],[]\n",
        "    self.out = None \n",
        "  \n",
        "  def forward(self, x):\n",
        "    out = 1/(1+np.exp(-x))\n",
        "    self.out = out \n",
        "    return out \n",
        "  \n",
        "  def backward(self, dout) : \n",
        "    dx = dout * (1-self.out) * self.out \n",
        "    return dx  \n",
        "  "
      ],
      "metadata": {
        "id": "RhiD0wQ31rhu"
      },
      "execution_count": null,
      "outputs": []
    },
    {
      "cell_type": "code",
      "source": [
        "# affine 계층\n",
        "# 순전파 : y=np.matmul(x,W)+b\n",
        "# 편향을 더할때는 넘파이의 브로드캐스트가 사용됨\n",
        "class Affine:\n",
        "  def __init__(self,W,b):\n",
        "    self.params = [W,b]\n",
        "    self.grads = [np.zeros_like(W), np.zeros_like(b)]\n",
        "    self.x = None\n",
        "\n",
        "  def forward(self,x):\n",
        "    W,b = self.params\n",
        "    out = np.matmul(x,W) + b\n",
        "    self.x = x\n",
        "    return out \n",
        "  \n",
        "  def backward(self, dout):\n",
        "    W,b = self.params\n",
        "    dx = np.matmul(dout, W.T) \n",
        "    dW = np.matmul(self.x.T, dout)\n",
        "    db = np.sum(dout, axis = 0)\n",
        "    self.grads[0][...] = dW \n",
        "    self.grads[1][...] = db \n",
        "    return dx \n",
        "\n"
      ],
      "metadata": {
        "id": "64Fgwilz2JbR"
      },
      "execution_count": null,
      "outputs": []
    },
    {
      "cell_type": "code",
      "source": [
        "# soft max with loss 계층\n",
        "#소프트 맥스함수와 교차 엔트로피 오차는 하나의 계층으로 구현할 것\n"
      ],
      "metadata": {
        "id": "QO_amO3tkua3"
      },
      "execution_count": null,
      "outputs": []
    },
    {
      "cell_type": "code",
      "source": [
        "# SGD구현\n",
        "class SGD:\n",
        "  def __init__(self, lr=0.01):\n",
        "    self.lr = lr\n",
        "  \n",
        "  def update(self, params, grads):\n",
        "    for i in range(len(params)):\n",
        "      params[i] -= self.lr * grads[i]\n",
        "      "
      ],
      "metadata": {
        "id": "eJGMzkKyOxKY"
      },
      "execution_count": null,
      "outputs": []
    },
    {
      "cell_type": "code",
      "source": [
        ""
      ],
      "metadata": {
        "id": "EMKT6xQlO-zt"
      },
      "execution_count": null,
      "outputs": []
    },
    {
      "cell_type": "code",
      "source": [
        "import sys\n",
        "sys.path"
      ],
      "metadata": {
        "colab": {
          "base_uri": "https://localhost:8080/"
        },
        "id": "wbJvA1-RXgNO",
        "outputId": "bf31088f-e051-4423-d5bb-b7b58d4b5f41"
      },
      "execution_count": null,
      "outputs": [
        {
          "output_type": "execute_result",
          "data": {
            "text/plain": [
              "['',\n",
              " '/content',\n",
              " '/env/python',\n",
              " '/usr/lib/python37.zip',\n",
              " '/usr/lib/python3.7',\n",
              " '/usr/lib/python3.7/lib-dynload',\n",
              " '/usr/local/lib/python3.7/dist-packages',\n",
              " '/usr/lib/python3/dist-packages',\n",
              " '/usr/local/lib/python3.7/dist-packages/IPython/extensions',\n",
              " '/root/.ipython']"
            ]
          },
          "metadata": {},
          "execution_count": 26
        }
      ]
    },
    {
      "cell_type": "code",
      "source": [
        "\n",
        "sys.path.append('/content/deep-learning-from-scratch-2')"
      ],
      "metadata": {
        "id": "eh1thlxMZIzw"
      },
      "execution_count": null,
      "outputs": []
    },
    {
      "cell_type": "code",
      "source": [
        "!pip install dataset"
      ],
      "metadata": {
        "colab": {
          "base_uri": "https://localhost:8080/"
        },
        "id": "XJCDCxFjXxBV",
        "outputId": "1413a654-bec1-4cee-d962-8d1536aa6978"
      },
      "execution_count": null,
      "outputs": [
        {
          "output_type": "stream",
          "name": "stdout",
          "text": [
            "Collecting dataset\n",
            "  Downloading dataset-1.5.2-py2.py3-none-any.whl (18 kB)\n",
            "Collecting banal>=1.0.1\n",
            "  Downloading banal-1.0.6-py2.py3-none-any.whl (6.1 kB)\n",
            "Requirement already satisfied: sqlalchemy>=1.3.2 in /usr/local/lib/python3.7/dist-packages (from dataset) (1.4.31)\n",
            "Collecting alembic>=0.6.2\n",
            "  Downloading alembic-1.7.6-py3-none-any.whl (210 kB)\n",
            "\u001b[K     |████████████████████████████████| 210 kB 5.2 MB/s \n",
            "\u001b[?25hRequirement already satisfied: importlib-resources in /usr/local/lib/python3.7/dist-packages (from alembic>=0.6.2->dataset) (5.4.0)\n",
            "Requirement already satisfied: importlib-metadata in /usr/local/lib/python3.7/dist-packages (from alembic>=0.6.2->dataset) (4.11.1)\n",
            "Collecting Mako\n",
            "  Downloading Mako-1.1.6-py2.py3-none-any.whl (75 kB)\n",
            "\u001b[K     |████████████████████████████████| 75 kB 3.4 MB/s \n",
            "\u001b[?25hRequirement already satisfied: greenlet!=0.4.17 in /usr/local/lib/python3.7/dist-packages (from sqlalchemy>=1.3.2->dataset) (1.1.2)\n",
            "Requirement already satisfied: zipp>=0.5 in /usr/local/lib/python3.7/dist-packages (from importlib-metadata->alembic>=0.6.2->dataset) (3.7.0)\n",
            "Requirement already satisfied: typing-extensions>=3.6.4 in /usr/local/lib/python3.7/dist-packages (from importlib-metadata->alembic>=0.6.2->dataset) (3.10.0.2)\n",
            "Requirement already satisfied: MarkupSafe>=0.9.2 in /usr/local/lib/python3.7/dist-packages (from Mako->alembic>=0.6.2->dataset) (2.0.1)\n",
            "Installing collected packages: Mako, banal, alembic, dataset\n",
            "Successfully installed Mako-1.1.6 alembic-1.7.6 banal-1.0.6 dataset-1.5.2\n"
          ]
        }
      ]
    },
    {
      "cell_type": "code",
      "source": [
        "from dataset import spiral  "
      ],
      "metadata": {
        "id": "EowZsxxCXrQ9"
      },
      "execution_count": null,
      "outputs": []
    },
    {
      "cell_type": "code",
      "source": [
        "import matplotlib.pyplot as plt \n",
        "x,t = spiral.load_data()\n",
        "\n",
        "print('x', x.shape)\n",
        "print('t', t.shape)"
      ],
      "metadata": {
        "colab": {
          "base_uri": "https://localhost:8080/"
        },
        "id": "KyWC0AfiXu94",
        "outputId": "36d5dbbf-5fd3-4092-881b-a5560d7e293d"
      },
      "execution_count": null,
      "outputs": [
        {
          "output_type": "stream",
          "name": "stdout",
          "text": [
            "x (300, 2)\n",
            "t (300, 3)\n"
          ]
        }
      ]
    },
    {
      "cell_type": "code",
      "source": [
        "from common.layers import Affine, Sigmoid, SoftmaxWithLoss\n",
        "\n",
        "class TwoLayerNet:\n",
        "  def __init__(self, input_size, hidden_size, output_size):\n",
        "    I,H,O = input_size, hidden_size, output_size \n",
        "    #가중치와 편향초기화\n",
        "    W1 = 0.01 * np.random.randn(I,H)\n",
        "    b1 = np.zeros(H)\n",
        "    W2 = 0.01 * np.random.randn(H,O)\n",
        "    b2 = np.zeros(0)\n",
        "\n",
        "    # 계층생성\n",
        "    self.layers = [Affine(W1, b1), Sigmoid(), Affine(W2,b2)]\n",
        "    self.loss_layer = SoftmaxWithLoss()\n",
        "\n",
        "    # 모든 가중치와 기울기를 리스트에 모음\n",
        "    self.params , self.grads = [], []\n",
        "    for layer in self.layers : \n",
        "      self.params += layer.params\n",
        "      self.grads += layer.grads \n",
        "\n",
        "  def predic(self, x):\n",
        "    for layer in self.layers : \n",
        "      x = layer.forward(x)\n",
        "    return x \n",
        "  \n",
        "\n",
        "  def forward(self, x, t):\n",
        "    score = self.predict(x)\n",
        "    loss = self.loss_layer.forward(score,t)\n",
        "    return loss  \n",
        "  \n",
        "  def backward(self, dout=1): \n",
        "    dout = self.loss_layer.backward(dout) \n",
        "    for layer in reversed(self.layers):\n",
        "      dout = layer.backward(dout) \n",
        "    return dout \n"
      ],
      "metadata": {
        "id": "83Zh5_MqY49C"
      },
      "execution_count": null,
      "outputs": []
    },
    {
      "cell_type": "code",
      "source": [
        "# 학습용 코드\n"
      ],
      "metadata": {
        "id": "R8Cnx9m8e4xa"
      },
      "execution_count": null,
      "outputs": []
    },
    {
      "cell_type": "markdown",
      "source": [
        "# ch2. 자연어와 단어의 분산 표현 "
      ],
      "metadata": {
        "id": "SB_WL3m1fl1j"
      }
    },
    {
      "cell_type": "code",
      "source": [
        "# 단어의 의미 이해시키기\n",
        "# 1. 시소러스를 활용한 기법(유의어 사전활용)\n",
        "# 2. 통계 기반기법\n",
        "# 3. 추론기반기법(word2vec)\n"
      ],
      "metadata": {
        "id": "XC4ZbVG-fpL7"
      },
      "execution_count": null,
      "outputs": []
    },
    {
      "cell_type": "code",
      "source": [
        "# 1.시로러스 활용\n",
        "# car=auto = automobile machine \n",
        "# 단어사이의 연결을 정의\n",
        "# 단어 네트워크를 이용하여 컴퓨터에게 단어 사이의 관계를 가르침\n",
        "# 워드넷 : 자연어 처리 분야에서 가장 유명한 시소러스/ 프린스턴 대학에서 1985년부터 구축하기 시작\n",
        "# 유의어를 얻거나 단어 네트워크를 이용할 수 있음\n",
        "# NLKT모듈을 설치하고 간단한 실험을 해볼예정\n",
        "# 시소러스의 문제점 : 단어의 의미를 사람이 수작업으로 레이블링하는 방식 : 시대변화에 대응하기 어려움, 사람을 쓰는 비용이 큼, 단어의 미묘한 차이를 표현할 수 없음(레트로, 빈티지)\n"
      ],
      "metadata": {
        "id": "StkHTKjmgEAd"
      },
      "execution_count": null,
      "outputs": []
    },
    {
      "cell_type": "code",
      "source": [
        "# 2.통계 기반 기법\n",
        "# 말뭉치(CORPUS)\n",
        "# "
      ],
      "metadata": {
        "id": "FHQ_Mj6eg5cN"
      },
      "execution_count": null,
      "outputs": []
    },
    {
      "cell_type": "code",
      "source": [
        "# 파이썬으로 말뭉치 전처리하기\n",
        "text= 'you say goodbye and i say hello.'\n",
        "text=text.lower()\n",
        "text= text.replace('.',' .')\n",
        "text"
      ],
      "metadata": {
        "colab": {
          "base_uri": "https://localhost:8080/",
          "height": 35
        },
        "id": "qBSJE270hAFQ",
        "outputId": "4fb5a433-eac7-4552-dc3d-f766a81e8741"
      },
      "execution_count": null,
      "outputs": [
        {
          "output_type": "execute_result",
          "data": {
            "application/vnd.google.colaboratory.intrinsic+json": {
              "type": "string"
            },
            "text/plain": [
              "'you say goodbye and i say hello .'"
            ]
          },
          "metadata": {},
          "execution_count": 6
        }
      ]
    },
    {
      "cell_type": "code",
      "source": [
        "words = text.split(' ')"
      ],
      "metadata": {
        "id": "9zdyeKEAgow6"
      },
      "execution_count": null,
      "outputs": []
    },
    {
      "cell_type": "code",
      "source": [
        "words"
      ],
      "metadata": {
        "colab": {
          "base_uri": "https://localhost:8080/"
        },
        "id": "wDp1x4sHhOy3",
        "outputId": "ce3a0aab-e9f8-4d9b-a1a5-fc7628ee169b"
      },
      "execution_count": null,
      "outputs": [
        {
          "output_type": "execute_result",
          "data": {
            "text/plain": [
              "['you', 'say', 'goodbye', 'and', 'i', 'say', 'hello', '.']"
            ]
          },
          "metadata": {},
          "execution_count": 8
        }
      ]
    },
    {
      "cell_type": "code",
      "source": [
        "word_to_id ={}\n",
        "id_to_word = {}\n",
        "for word in words:\n",
        "  if word not in word_to_id:\n",
        "    new_id = len(word_to_id) \n",
        "    word_to_id[word] = new_id \n",
        "    id_to_word[new_id] = word "
      ],
      "metadata": {
        "id": "fCP3BdZohPUZ"
      },
      "execution_count": null,
      "outputs": []
    },
    {
      "cell_type": "code",
      "source": [
        "len(word_to_id) "
      ],
      "metadata": {
        "colab": {
          "base_uri": "https://localhost:8080/"
        },
        "id": "ePPuK0iFog_c",
        "outputId": "430cf228-cf5d-4a29-b13e-7e65b5bdc0c3"
      },
      "execution_count": null,
      "outputs": [
        {
          "output_type": "execute_result",
          "data": {
            "text/plain": [
              "7"
            ]
          },
          "metadata": {},
          "execution_count": 16
        }
      ]
    },
    {
      "cell_type": "code",
      "source": [
        "id_to_word"
      ],
      "metadata": {
        "colab": {
          "base_uri": "https://localhost:8080/"
        },
        "id": "Yj0T23dhhiI_",
        "outputId": "0cf50bce-d136-451b-efed-665613be969c"
      },
      "execution_count": null,
      "outputs": [
        {
          "output_type": "execute_result",
          "data": {
            "text/plain": [
              "{0: 'you', 1: 'say', 2: 'goodbye', 3: 'and', 4: 'i', 5: 'hello', 6: '.'}"
            ]
          },
          "metadata": {},
          "execution_count": 17
        }
      ]
    },
    {
      "cell_type": "code",
      "source": [
        "word_to_id"
      ],
      "metadata": {
        "colab": {
          "base_uri": "https://localhost:8080/"
        },
        "id": "q9tQonUJhnFz",
        "outputId": "6106f869-3338-426c-bec2-065e94b6c5b4"
      },
      "execution_count": null,
      "outputs": [
        {
          "output_type": "execute_result",
          "data": {
            "text/plain": [
              "{'.': 6, 'and': 3, 'goodbye': 2, 'hello': 5, 'i': 4, 'say': 1, 'you': 0}"
            ]
          },
          "metadata": {},
          "execution_count": 18
        }
      ]
    },
    {
      "cell_type": "code",
      "source": [
        "id_to_word[1]"
      ],
      "metadata": {
        "colab": {
          "base_uri": "https://localhost:8080/",
          "height": 35
        },
        "id": "1PhA5UJjhobX",
        "outputId": "48ab07a2-73fd-43dc-d892-844846175879"
      },
      "execution_count": null,
      "outputs": [
        {
          "output_type": "execute_result",
          "data": {
            "application/vnd.google.colaboratory.intrinsic+json": {
              "type": "string"
            },
            "text/plain": [
              "'say'"
            ]
          },
          "metadata": {},
          "execution_count": 19
        }
      ]
    },
    {
      "cell_type": "code",
      "source": [
        "word_to_id['hello']"
      ],
      "metadata": {
        "colab": {
          "base_uri": "https://localhost:8080/"
        },
        "id": "X1zzmMLcX6_p",
        "outputId": "c5dc734a-9377-4d5f-f547-d43eb14e6875"
      },
      "execution_count": null,
      "outputs": [
        {
          "output_type": "execute_result",
          "data": {
            "text/plain": [
              "5"
            ]
          },
          "metadata": {},
          "execution_count": 20
        }
      ]
    },
    {
      "cell_type": "code",
      "source": [
        "words"
      ],
      "metadata": {
        "colab": {
          "base_uri": "https://localhost:8080/"
        },
        "id": "O_eTHVsrYJmJ",
        "outputId": "3dd42400-2e0d-44d2-c320-45f702bb66fd"
      },
      "execution_count": null,
      "outputs": [
        {
          "output_type": "execute_result",
          "data": {
            "text/plain": [
              "['you', 'say', 'goodbye', 'and', 'i', 'say', 'hello', '.']"
            ]
          },
          "metadata": {},
          "execution_count": 21
        }
      ]
    },
    {
      "cell_type": "code",
      "source": [
        "#단어목록을 단어 id목록으로 변경\n",
        "import numpy as np \n",
        "corpus = [word_to_id[w] for w in words] ;corpus"
      ],
      "metadata": {
        "colab": {
          "base_uri": "https://localhost:8080/"
        },
        "id": "5SgLNTkBX91B",
        "outputId": "5ca94ab2-05ea-4a75-8310-d9d19467d15c"
      },
      "execution_count": null,
      "outputs": [
        {
          "output_type": "execute_result",
          "data": {
            "text/plain": [
              "[0, 1, 2, 3, 4, 1, 5, 6]"
            ]
          },
          "metadata": {},
          "execution_count": 22
        }
      ]
    },
    {
      "cell_type": "code",
      "source": [
        "# 내포\n",
        "# 리스트나 딕셔너리 등의 반복문 처리를 간단하게 쓰기 위한기법\n",
        "xs = [1,2,3,4]\n",
        "[x**2 for x in xs]"
      ],
      "metadata": {
        "colab": {
          "base_uri": "https://localhost:8080/"
        },
        "id": "7_J_Z1VQYMzi",
        "outputId": "3e1834a9-88e4-483c-a6da-527a49bb74aa"
      },
      "execution_count": null,
      "outputs": [
        {
          "output_type": "execute_result",
          "data": {
            "text/plain": [
              "[1, 4, 9, 16]"
            ]
          },
          "metadata": {},
          "execution_count": 23
        }
      ]
    },
    {
      "cell_type": "code",
      "source": [
        "# 말뭉치를 이용하기 위한 사전준비 마침\n",
        "def preprocess(text):\n",
        "  text = text.lower()\n",
        "  text = text.replace('.', ' .')\n",
        "  words = text.split(' ')\n",
        "  word_to_id ={}\n",
        "  id_to_word ={}\n",
        "  for word in words:\n",
        "    if word not in word_to_id:\n",
        "      new_id = len(word_to_id)\n",
        "      word_to_id[word] = new_id\n",
        "      id_to_word[new_id] = word \n",
        "  corpus = np.array([word_to_id[w] for w in words])  \n",
        "  return corpus, word_to_id, id_to_word"
      ],
      "metadata": {
        "id": "koN3bNE6YZFE"
      },
      "execution_count": null,
      "outputs": []
    },
    {
      "cell_type": "code",
      "source": [
        "text = 'You say goodbye and I say hello.'\n",
        "corpus, word_to_id, id_to_word = preprocess(text)"
      ],
      "metadata": {
        "id": "2RjN9rtYY8vH"
      },
      "execution_count": null,
      "outputs": []
    },
    {
      "cell_type": "code",
      "source": [
        "corpus"
      ],
      "metadata": {
        "colab": {
          "base_uri": "https://localhost:8080/"
        },
        "id": "M64Rp5AlZFFl",
        "outputId": "ec25dadc-74ee-4dcf-e975-9d943ca3fafa"
      },
      "execution_count": null,
      "outputs": [
        {
          "output_type": "execute_result",
          "data": {
            "text/plain": [
              "array([0, 1, 2, 3, 4, 1, 5, 6])"
            ]
          },
          "metadata": {},
          "execution_count": 26
        }
      ]
    },
    {
      "cell_type": "code",
      "source": [
        "word_to_id"
      ],
      "metadata": {
        "colab": {
          "base_uri": "https://localhost:8080/"
        },
        "id": "MfUzTaXGZF3n",
        "outputId": "605f72f8-f81b-4100-d6f1-825f9b4d8bf3"
      },
      "execution_count": null,
      "outputs": [
        {
          "output_type": "execute_result",
          "data": {
            "text/plain": [
              "{'.': 6, 'and': 3, 'goodbye': 2, 'hello': 5, 'i': 4, 'say': 1, 'you': 0}"
            ]
          },
          "metadata": {},
          "execution_count": 27
        }
      ]
    },
    {
      "cell_type": "code",
      "source": [
        "id_to_word"
      ],
      "metadata": {
        "colab": {
          "base_uri": "https://localhost:8080/"
        },
        "id": "jIXyw6qhZG7w",
        "outputId": "16d93f6e-a053-49ef-b1c9-c31d7db21510"
      },
      "execution_count": null,
      "outputs": [
        {
          "output_type": "execute_result",
          "data": {
            "text/plain": [
              "{0: 'you', 1: 'say', 2: 'goodbye', 3: 'and', 4: 'i', 5: 'hello', 6: '.'}"
            ]
          },
          "metadata": {},
          "execution_count": 28
        }
      ]
    },
    {
      "cell_type": "code",
      "source": [
        "# 단어의 분산표현 : 단어를 고정길이의 밀집벡터로 변환\n",
        "# 분포가설\n",
        "# 단어를 벡터로 표현하는 연구는 수없이 이뤄져 왔음\n",
        "# 하나의 간단한 아이디어에 뿌리를 두고있음: 단어의 의미는 주변단어에 의해 형성된다는 점(분포가설)\n",
        "# 단어자체는 의미가 없고, 그 단어가 사용된 맥락이 의미를 형성함\n",
        "# i drink wine / we drink wine\n",
        "# i guzzle beer / we guzzle wine"
      ],
      "metadata": {
        "id": "iwkqu_UoZHt4"
      },
      "execution_count": null,
      "outputs": []
    },
    {
      "cell_type": "code",
      "source": [
        "# 동시발생 행렬\n",
        "# 어떤단어에 주목할때, 주변에 어떤단어가 몇번이나 등장하는지를 세어 집계하는 방식\n",
        "import sys\n",
        "sys.path.append('/content/deep-learning-from-scratch-2')\n",
        "from common.util import preprocess"
      ],
      "metadata": {
        "id": "UTpvh0zJbBPE"
      },
      "execution_count": null,
      "outputs": []
    },
    {
      "cell_type": "code",
      "source": [
        "text = 'You say goodbye and I say hello.'\n",
        "corpus, word_to_id, id_to_word = preprocess(text)"
      ],
      "metadata": {
        "id": "3slCadwMbVhR"
      },
      "execution_count": null,
      "outputs": []
    },
    {
      "cell_type": "code",
      "source": [
        "# co-occurance matrix\n",
        "C=np.array([\n",
        "    [0,1,0,0,0,0,0],\n",
        "    [1,0,1,0,1,1,0],\n",
        "    [0,1,0,1,0,0,0],\n",
        "    [0,0,1,0,1,0,0],\n",
        "    [0,1,0,1,0,0,0],\n",
        "    [0,1,0,1,0,0,1],\n",
        "    [0,0,0,0,0,1,0],\n",
        "], dtype=np.int32\n",
        ")"
      ],
      "metadata": {
        "id": "ybk-E5mqbjKw"
      },
      "execution_count": null,
      "outputs": []
    },
    {
      "cell_type": "code",
      "source": [
        "C"
      ],
      "metadata": {
        "colab": {
          "base_uri": "https://localhost:8080/"
        },
        "id": "eK7XRcNpcIef",
        "outputId": "c7ab907a-7f19-42f6-c272-16c66a909720"
      },
      "execution_count": null,
      "outputs": [
        {
          "output_type": "execute_result",
          "data": {
            "text/plain": [
              "array([[0, 1, 0, 0, 0, 0, 0],\n",
              "       [1, 0, 1, 0, 1, 1, 0],\n",
              "       [0, 1, 0, 1, 0, 0, 0],\n",
              "       [0, 0, 1, 0, 1, 0, 0],\n",
              "       [0, 1, 0, 1, 0, 0, 0],\n",
              "       [0, 1, 0, 1, 0, 0, 1],\n",
              "       [0, 0, 0, 0, 0, 1, 0]], dtype=int32)"
            ]
          },
          "metadata": {},
          "execution_count": 37
        }
      ]
    },
    {
      "cell_type": "code",
      "source": [
        "print(C[0]) #id가 0인 단어의 벡터표현"
      ],
      "metadata": {
        "colab": {
          "base_uri": "https://localhost:8080/"
        },
        "id": "WNQDbuaqcX_0",
        "outputId": "2bd1cc68-e4aa-4e54-fd85-4e73b2c8dd69"
      },
      "execution_count": null,
      "outputs": [
        {
          "output_type": "stream",
          "name": "stdout",
          "text": [
            "[0 1 0 0 0 0 0]\n"
          ]
        }
      ]
    },
    {
      "cell_type": "code",
      "source": [
        "print(C[4])# id가 4인 단어의 벡터표현"
      ],
      "metadata": {
        "colab": {
          "base_uri": "https://localhost:8080/"
        },
        "id": "On0ABN97cafo",
        "outputId": "b644a20a-5479-47bf-b9ad-2fb223769c52"
      },
      "execution_count": null,
      "outputs": [
        {
          "output_type": "stream",
          "name": "stdout",
          "text": [
            "[0 1 0 1 0 0 0]\n"
          ]
        }
      ]
    },
    {
      "cell_type": "code",
      "source": [
        "print(C[word_to_id['goodbye']]) # goodbye의 벡터표현"
      ],
      "metadata": {
        "colab": {
          "base_uri": "https://localhost:8080/"
        },
        "id": "V_dMvjoEcb-A",
        "outputId": "206b3c74-5486-43f9-efb0-9ab79a4bcbd1"
      },
      "execution_count": null,
      "outputs": [
        {
          "output_type": "stream",
          "name": "stdout",
          "text": [
            "[0 1 0 1 0 0 0]\n"
          ]
        }
      ]
    },
    {
      "cell_type": "code",
      "source": [
        "# 동시발생행렬 자동으로 만들기 \n",
        "# 말뭉치로부터 동시 발생 행렬을 만들어주는 함수구현하기\n",
        "def create_co_matrix(corpus, vocab_size, window_size=1):\n",
        "  corpus_size = len(corpus)\n",
        "  co_matrix = np.zeros((vocab_size, vocab_size), dtype=np.int32) # 0으로 만든 2차원 배열로 초기화\n",
        "\n",
        "  for idx , word_id in enumerate(corpus):\n",
        "      for i in range(i, window_size+1) :\n",
        "        left_idx = idx-i\n",
        "        rigth_idx = idx+i\n",
        "        if left_idx >= 0:\n",
        "          left_word_id = corpus[left_idx]\n",
        "          co_matrix[word_id, left_word_id] += 1\n",
        "        if rigth_idx < corpus_size:\n",
        "          rigth_word_id = corpus[rigth_idx]\n",
        "          co_matrix[word_id, right_word_id] += 1\n"
      ],
      "metadata": {
        "id": "YC846a6jcfNM"
      },
      "execution_count": null,
      "outputs": []
    },
    {
      "cell_type": "code",
      "source": [
        "# 벡터간 유사도: 코사인 유사도 사용\n",
        "# 코사인 유사도를 직관적으로 풀어보자면 두 벡터가 가르키는 방향이 얼마나 비슷한가, \n",
        "def cos_similarty(x,y):\n",
        "  nx =  x/np.sqrt(np.sum(x**2))\n",
        "  ny = y/np.sqrt(np.sum(y**2))\n",
        "  return np.dot(nx, ny)"
      ],
      "metadata": {
        "id": "Go2pmyxffBgw"
      },
      "execution_count": null,
      "outputs": []
    },
    {
      "cell_type": "code",
      "source": [
        "def cos_similarty(x,y, eps = 1e-8): # 0으로 나누는 사태를 방지해줌\n",
        "  nx =  x/np.sqrt(np.sum(x**2)+eps)\n",
        "  ny = y/np.sqrt(np.sum(y**2)+eps)\n",
        "  return np.dot(nx, ny)"
      ],
      "metadata": {
        "id": "U2d7GWn3fsG1"
      },
      "execution_count": null,
      "outputs": []
    },
    {
      "cell_type": "code",
      "source": [
        "# you 와 i의 유사도 구하기\n",
        "from common.util import preprocess, create_co_matrix, cos_similarity "
      ],
      "metadata": {
        "id": "8Y_ijNCmfz34"
      },
      "execution_count": null,
      "outputs": []
    },
    {
      "cell_type": "code",
      "source": [
        "text = 'You say goodbye and I say hello.'\n",
        "corpus, word_to_id, id_to_word = preprocess(text)"
      ],
      "metadata": {
        "id": "_inDgiBjgLjP"
      },
      "execution_count": null,
      "outputs": []
    },
    {
      "cell_type": "code",
      "source": [
        "vocab_size = len(word_to_id)\n"
      ],
      "metadata": {
        "id": "HabLAShtgLmt"
      },
      "execution_count": null,
      "outputs": []
    },
    {
      "cell_type": "code",
      "source": [
        "C= create_co_matrix(corpus, vocab_size)"
      ],
      "metadata": {
        "id": "NOC4TMkLgAF2"
      },
      "execution_count": null,
      "outputs": []
    },
    {
      "cell_type": "code",
      "source": [
        "C"
      ],
      "metadata": {
        "colab": {
          "base_uri": "https://localhost:8080/"
        },
        "id": "2c6cJTdvgF2N",
        "outputId": "c4031fcb-ab49-49ce-a9b4-b293329721f2"
      },
      "execution_count": null,
      "outputs": [
        {
          "output_type": "execute_result",
          "data": {
            "text/plain": [
              "array([[0, 1, 0, 0, 0, 0, 0],\n",
              "       [1, 0, 1, 0, 1, 1, 0],\n",
              "       [0, 1, 0, 1, 0, 0, 0],\n",
              "       [0, 0, 1, 0, 1, 0, 0],\n",
              "       [0, 1, 0, 1, 0, 0, 0],\n",
              "       [0, 1, 0, 0, 0, 0, 1],\n",
              "       [0, 0, 0, 0, 0, 1, 0]], dtype=int32)"
            ]
          },
          "metadata": {},
          "execution_count": 48
        }
      ]
    },
    {
      "cell_type": "code",
      "source": [
        "c0 = C[word_to_id['you']]\n",
        "c1 = C[word_to_id['i']]"
      ],
      "metadata": {
        "id": "gCaAqJEugSuR"
      },
      "execution_count": null,
      "outputs": []
    },
    {
      "cell_type": "code",
      "source": [
        "print(cos_similarity(c0,c1)) # high"
      ],
      "metadata": {
        "colab": {
          "base_uri": "https://localhost:8080/"
        },
        "id": "6ZPGM9ocgY5t",
        "outputId": "55c945e4-3201-4cd5-9a30-349753252847"
      },
      "execution_count": null,
      "outputs": [
        {
          "output_type": "stream",
          "name": "stdout",
          "text": [
            "0.7071067691154799\n"
          ]
        }
      ]
    },
    {
      "cell_type": "code",
      "source": [
        "# 유사 단어의 랭킹표시\n",
        "# 그 검색어와 비슷한 단어를 유사도 순으로 출력하는 함수\n",
        "# 구성 : most_similar(query, word_to_id, id_to_word, word_matrix, top=5)\n",
        "# query : 검색어\n",
        "def most_similar(query, word_to_id, id_to_word, word_matrix, top=5):\n",
        "  # 검색어를 꺼낸다 / 검색어의 단어벡터를 꺼낸다\n",
        "  if query not in word_to_id:\n",
        "    print('%s 를 찾을 수 없습니다'% query)\n",
        "    return\n",
        "  \n",
        "  print('\\n[query] ' + query)\n",
        "  query_id = word_to_id[query]\n",
        "  query_vec = word_matrix[query_id]\n",
        "\n",
        "  # 코사인 유사도 계산 / 검색어의 단어벡터와 다른 모든 단어 벡터와의 코사인 유사도를 각각 구한다\n",
        "  vocab_size = len(id_to_word) \n",
        "  similarity = np.zeros(vocab_size) #초기화\n",
        "  for i in range(vocab_size):\n",
        "    similarity[i] = cos_similarity(word_matrix[i], query_vec)\n",
        "  \n",
        "  # 코사인 유사도를 기준으로 내림차순으로 출력\n",
        "  count = 0\n",
        "  for i in (-1 * similarity).argsort():\n",
        "    if id_to_word[i] == query :\n",
        "      continue\n",
        "    \n",
        "    print('%s : %s' %(id_to_word[i], similarity[i]))\n",
        "    count +=1\n",
        "    \n",
        "    if count >= top:\n",
        "      return"
      ],
      "metadata": {
        "id": "nx3XKREsgcsK"
      },
      "execution_count": null,
      "outputs": []
    },
    {
      "cell_type": "code",
      "source": [
        "x= np.array([100,-20,2]) "
      ],
      "metadata": {
        "id": "gPRWqtmJkdmH"
      },
      "execution_count": null,
      "outputs": []
    },
    {
      "cell_type": "code",
      "source": [
        "x.argsort() #오름차순으로 정렬 index로 표시함"
      ],
      "metadata": {
        "colab": {
          "base_uri": "https://localhost:8080/"
        },
        "id": "X_KyFO8-kVSy",
        "outputId": "848ab515-6241-4c8e-c9f4-b751ed7726d6"
      },
      "execution_count": null,
      "outputs": [
        {
          "output_type": "execute_result",
          "data": {
            "text/plain": [
              "array([1, 2, 0])"
            ]
          },
          "metadata": {},
          "execution_count": 53
        }
      ]
    },
    {
      "cell_type": "code",
      "source": [
        "(-x).argsort() # 역순임"
      ],
      "metadata": {
        "colab": {
          "base_uri": "https://localhost:8080/"
        },
        "id": "nkrABpkakiG0",
        "outputId": "5ed3de9e-2f8c-4822-8e2b-786f20b181e3"
      },
      "execution_count": null,
      "outputs": [
        {
          "output_type": "execute_result",
          "data": {
            "text/plain": [
              "array([0, 2, 1])"
            ]
          },
          "metadata": {},
          "execution_count": 54
        }
      ]
    },
    {
      "cell_type": "code",
      "source": [
        "most_similar('you', word_to_id, id_to_word, C, top=5)"
      ],
      "metadata": {
        "colab": {
          "base_uri": "https://localhost:8080/"
        },
        "id": "vaCwJvlcksf-",
        "outputId": "5e4e4ca1-6c78-4c59-e2b8-8755b77b4af1"
      },
      "execution_count": null,
      "outputs": [
        {
          "output_type": "stream",
          "name": "stdout",
          "text": [
            "\n",
            "[query] you\n",
            "goodbye : 0.7071067691154799\n",
            "i : 0.7071067691154799\n",
            "hello : 0.7071067691154799\n",
            "say : 0.0\n",
            "and : 0.0\n"
          ]
        }
      ]
    },
    {
      "cell_type": "code",
      "source": [
        "# 통계 기반 기법 개선하기\n",
        "# 점별 상호 정보량 (PMI) 라는 척도를 사용 Pointwise mutual information \n",
        "# pmi는 확률변수 x 와 y에 대해 다음식으로 정의 \n",
        "# pmi(x,y) = log2 [(p(x,y) / p(x)p(y))]\n",
        "# pmi값이 높을수록 관련성이 높다는 의미\n",
        "# p(x) : 단어 x가 말뭉치에 등장할 확률의미\n",
        "# p(x,y) : 단어 x,y가 동시에 발생할 확률\n",
        "# p(x,y) = C(x,y) / N \n",
        "# C(x,y) : x,y가 동시발생한 횟수\n",
        "# N : 말뭉치에 포함된 단어수\n",
        "# 단어가 단독으로 출현하는 횟수가 고려된 값임\n",
        "# the같은경우, 자주출현하게 되면서 pmi점수가 낮아짐\n",
        "# pmi의 문제점 : 두 단어의 동시발생횟수가 0이면 -무한대가 된다는 점\n",
        "# 이 문제를 해결하기 위해 ppmi(양의 상호 정보량)을 사용\n",
        "# ppmi(x,y) = max(0, pmi(x,y))\n"
      ],
      "metadata": {
        "id": "O1A-3w20k3Nh"
      },
      "execution_count": null,
      "outputs": []
    },
    {
      "cell_type": "code",
      "source": [
        "def ppmi(C, verbose=False, eps = 1e-8):  # C : 동시발생 행렬, VERBOSE는 진행사항 출력여부를 결정하는 플래그\n",
        "  M = np.zeros_like(C, dtype = np.float32) \n",
        "  N = np.sum(C)\n",
        "  S = np.sum(C,axis=0)\n",
        "  total =C.shape[0] * C.shape[1] \n",
        "  cnt = 0\n",
        "\n",
        "  for i in range(C.shape[0]):\n",
        "    for j in range(C.shape[1]):\n",
        "      pmi = np.log2(C[i,j] *N / (S[j]*S[i]) + eps)\n",
        "      M[i,j] = max(0, pmi)\n",
        "      \n",
        "      if verbose:\n",
        "        cnt+=1\n",
        "        if cnt%(total//100+1) ==0:\n",
        "          print('%.1f%% 완료'%(100*cnt/total))\n",
        "  return M\n",
        "      "
      ],
      "metadata": {
        "id": "wbbhSDp7lIZK"
      },
      "execution_count": null,
      "outputs": []
    },
    {
      "cell_type": "code",
      "source": [
        "text= 'you say goodbye and i say hello.'\n",
        "corpus , word_to_id, id_to_word = preprocess(text)"
      ],
      "metadata": {
        "id": "tAsl1JbMs_-W"
      },
      "execution_count": null,
      "outputs": []
    },
    {
      "cell_type": "code",
      "source": [
        "vocab_size = len(word_to_id)\n",
        "C= create_co_matrix(corpus, vocab_size)\n",
        "W= ppmi(C);W"
      ],
      "metadata": {
        "colab": {
          "base_uri": "https://localhost:8080/"
        },
        "id": "qmaWu4jotDtq",
        "outputId": "755f3019-11eb-4e18-f520-bb4c4afdad67"
      },
      "execution_count": null,
      "outputs": [
        {
          "output_type": "execute_result",
          "data": {
            "text/plain": [
              "array([[0.       , 1.8073549, 0.       , 0.       , 0.       , 0.       ,\n",
              "        0.       ],\n",
              "       [1.8073549, 0.       , 0.8073549, 0.       , 0.8073549, 0.8073549,\n",
              "        0.       ],\n",
              "       [0.       , 0.8073549, 0.       , 1.8073549, 0.       , 0.       ,\n",
              "        0.       ],\n",
              "       [0.       , 0.       , 1.8073549, 0.       , 1.8073549, 0.       ,\n",
              "        0.       ],\n",
              "       [0.       , 0.8073549, 0.       , 1.8073549, 0.       , 0.       ,\n",
              "        0.       ],\n",
              "       [0.       , 0.8073549, 0.       , 0.       , 0.       , 0.       ,\n",
              "        2.807355 ],\n",
              "       [0.       , 0.       , 0.       , 0.       , 0.       , 2.807355 ,\n",
              "        0.       ]], dtype=float32)"
            ]
          },
          "metadata": {},
          "execution_count": 61
        }
      ]
    },
    {
      "cell_type": "code",
      "source": [
        "np.set_printoptions(precision=3) # 유효숫자 3자리보기"
      ],
      "metadata": {
        "id": "PZS5JxePuYMo"
      },
      "execution_count": null,
      "outputs": []
    },
    {
      "cell_type": "code",
      "source": [
        "print('동시발생확률')\n",
        "print(C)\n",
        "print('-'*50)\n",
        "print('PPMI')\n",
        "print(W)\n",
        "# 동시발생행렬을 PPMI행렬로 변환하는 것 확인"
      ],
      "metadata": {
        "colab": {
          "base_uri": "https://localhost:8080/"
        },
        "id": "s-dz1-L_ud5y",
        "outputId": "2a7899b6-d6fc-4c5b-8c5e-cf7addc5a99c"
      },
      "execution_count": null,
      "outputs": [
        {
          "output_type": "stream",
          "name": "stdout",
          "text": [
            "동시발생확률\n",
            "[[0 1 0 0 0 0 0]\n",
            " [1 0 1 0 1 1 0]\n",
            " [0 1 0 1 0 0 0]\n",
            " [0 0 1 0 1 0 0]\n",
            " [0 1 0 1 0 0 0]\n",
            " [0 1 0 0 0 0 1]\n",
            " [0 0 0 0 0 1 0]]\n",
            "--------------------------------------------------\n",
            "PPMI\n",
            "[[0.    1.807 0.    0.    0.    0.    0.   ]\n",
            " [1.807 0.    0.807 0.    0.807 0.807 0.   ]\n",
            " [0.    0.807 0.    1.807 0.    0.    0.   ]\n",
            " [0.    0.    1.807 0.    1.807 0.    0.   ]\n",
            " [0.    0.807 0.    1.807 0.    0.    0.   ]\n",
            " [0.    0.807 0.    0.    0.    0.    2.807]\n",
            " [0.    0.    0.    0.    0.    2.807 0.   ]]\n"
          ]
        }
      ]
    },
    {
      "cell_type": "code",
      "source": [
        "# PPMI행렬에도 여전히 문제가 존재함 말뭉치의 어휘수가 증가함에 따라 각 단어 벡터의 차원수도 증가함\n",
        "# 말뭉치의 어휘수가 10만개라면 그 벡터의 차원수도 똑같이 10만"
      ],
      "metadata": {
        "id": "lavPp_S1ul8r"
      },
      "execution_count": null,
      "outputs": []
    },
    {
      "cell_type": "code",
      "source": [
        "# 벡터의 차원감소\n",
        "# 중요한 정보는 최대한 유지하면서 줄이는게 핵심\n",
        "# 특이값분해 (SVD)를 이용한 차원축소\n",
        "# X = USV\n",
        "# U,V : 직교행렬, S: 대각행렬\n",
        "# U행렬은 단어 공간으로 취급할 수 있음\n",
        "# S행렬은 대학행렬로 대각성분에는 특잇값이 큰 순서로 나열되어 있음, 해당축의 중요도로 간주-> 중요도가 낮은 원소를 깍아내는 방법을 생각할 수 있음\n"
      ],
      "metadata": {
        "id": "Bo6LZGbju6tj"
      },
      "execution_count": null,
      "outputs": []
    },
    {
      "cell_type": "code",
      "source": [
        "# SVD에 의한 차원 감소\n",
        "U,S,V = np.linalg.svd(W)"
      ],
      "metadata": {
        "id": "Ov6Af5lRvWSq"
      },
      "execution_count": null,
      "outputs": []
    },
    {
      "cell_type": "code",
      "source": [
        "print(C[0])\n",
        "print(W[0])"
      ],
      "metadata": {
        "colab": {
          "base_uri": "https://localhost:8080/"
        },
        "id": "O6hbpWw76-2j",
        "outputId": "5e1801df-dd80-413d-c7f4-8f06308abfed"
      },
      "execution_count": null,
      "outputs": [
        {
          "output_type": "stream",
          "name": "stdout",
          "text": [
            "[0 1 0 0 0 0 0]\n",
            "[0.    1.807 0.    0.    0.    0.    0.   ]\n"
          ]
        }
      ]
    },
    {
      "cell_type": "code",
      "source": [
        "print(U[0]) # 희소벡터인 w[0]가 svd에 의해서 밀집벡터로 변함\n",
        "print(U[0,:2]) # 2차원 벡터로 줄임"
      ],
      "metadata": {
        "colab": {
          "base_uri": "https://localhost:8080/"
        },
        "id": "irnyqGzg7BOh",
        "outputId": "dc03f3f2-4b75-485b-d61e-335102534927"
      },
      "execution_count": null,
      "outputs": [
        {
          "output_type": "stream",
          "name": "stdout",
          "text": [
            "[-1.110e-16  3.409e-01 -4.163e-16 -1.205e-01 -1.110e-16 -9.323e-01\n",
            " -1.086e-16]\n",
            "[-1.110e-16  3.409e-01]\n"
          ]
        }
      ]
    },
    {
      "cell_type": "code",
      "source": [
        "word_to_id.items()"
      ],
      "metadata": {
        "colab": {
          "base_uri": "https://localhost:8080/"
        },
        "id": "ssh4vQBF8XFh",
        "outputId": "d8523111-2ff9-435d-e2ff-298f556c422e"
      },
      "execution_count": null,
      "outputs": [
        {
          "output_type": "execute_result",
          "data": {
            "text/plain": [
              "dict_items([('you', 0), ('say', 1), ('goodbye', 2), ('and', 3), ('i', 4), ('hello', 5), ('.', 6)])"
            ]
          },
          "metadata": {},
          "execution_count": 76
        }
      ]
    },
    {
      "cell_type": "code",
      "source": [
        "import matplotlib.pyplot as plt \n",
        "for word, word_id in word_to_id.items():\n",
        "  plt.annotate(word, (U[word_id,0], U[word_id,1]))\n",
        "\n",
        "plt.scatter(U[:,0], U[:,1], alpha=0.5)\n",
        "plt.show()\n",
        "# 행렬의 크기가 N이면 연산은 O(N^3)이 걸림 계산량이 N의 3제곱에 비례해 늘어남\n",
        "# Truncated SVD같은 더 빠른 기법이 사용됨(특이값이 작은것은 버림, 사이킥런의 Truncated SVM사용가능)"
      ],
      "metadata": {
        "colab": {
          "base_uri": "https://localhost:8080/",
          "height": 265
        },
        "id": "NRkkiCee7DtE",
        "outputId": "3d05a87f-7413-4571-c1f8-0ede2a8d040f"
      },
      "execution_count": null,
      "outputs": [
        {
          "output_type": "display_data",
          "data": {
            "image/png": "[encoded data removed]",
            "text/plain": [
              "<Figure size 432x288 with 1 Axes>"
            ]
          },
          "metadata": {
            "needs_background": "light"
          }
        }
      ]
    },
    {
      "cell_type": "code",
      "source": [
        "# PTB 데이터\n",
        "# 지금까지는 아주 작은 텍스트 데이터를 말뭉치로 사용함\n",
        "# 펜 트리뱅크 데이터셋(PENN TREEBANK) : 주어진 기법의 품질을 측정하는 벤치마크로 자주 이용됨\n",
        "# WORD2VEC의 발명자인 토마스 미콜로프의 웹페이지에서 받을 수 있음\n",
        "# 희소한 단어를 <UNK>라는 특수문자로 치환하거나 구체적인 숫자를 N으로 대체하는 등의 작업이 적용됨\n"
      ],
      "metadata": {
        "id": "eQLpYepj7xiE"
      },
      "execution_count": null,
      "outputs": []
    },
    {
      "cell_type": "code",
      "source": [
        "from dataset import ptb"
      ],
      "metadata": {
        "id": "95L3H0Nx-B16"
      },
      "execution_count": null,
      "outputs": []
    },
    {
      "cell_type": "code",
      "source": [
        "corpus, word_to_id, id_to_word = ptb.load_data('train')"
      ],
      "metadata": {
        "colab": {
          "base_uri": "https://localhost:8080/"
        },
        "id": "pul7lz3j-EVs",
        "outputId": "e531eb3f-f03f-4da7-b14e-7e530bba261e"
      },
      "execution_count": null,
      "outputs": [
        {
          "output_type": "stream",
          "name": "stdout",
          "text": [
            "Downloading ptb.train.txt ... \n",
            "Done\n"
          ]
        }
      ]
    },
    {
      "cell_type": "code",
      "source": [
        "print('말뭉치크기', len(corpus))\n",
        "print('corpus[:30]', corpus[:30])"
      ],
      "metadata": {
        "colab": {
          "base_uri": "https://localhost:8080/"
        },
        "id": "uINTHy7A-Ja1",
        "outputId": "8e8c5c6b-767f-452f-8f34-ff03b77f0624"
      },
      "execution_count": null,
      "outputs": [
        {
          "output_type": "stream",
          "name": "stdout",
          "text": [
            "말뭉치크기 929589\n",
            "corpus[:30] [ 0  1  2  3  4  5  6  7  8  9 10 11 12 13 14 15 16 17 18 19 20 21 22 23\n",
            " 24 25 26 27 28 29]\n"
          ]
        }
      ]
    },
    {
      "cell_type": "code",
      "source": [
        "print(id_to_word[0])\n",
        "print(id_to_word[1])\n",
        "print(id_to_word[2])\n",
        "\n",
        "\n",
        "print(word_to_id['car'])\n",
        "print(word_to_id['happy'])\n",
        "print(word_to_id['lexus'])"
      ],
      "metadata": {
        "colab": {
          "base_uri": "https://localhost:8080/"
        },
        "id": "8eaCONjr-Q65",
        "outputId": "bc1917f9-0173-4c30-88df-20da95dbb2e9"
      },
      "execution_count": null,
      "outputs": [
        {
          "output_type": "stream",
          "name": "stdout",
          "text": [
            "aer\n",
            "banknote\n",
            "berlitz\n",
            "3856\n",
            "4428\n",
            "7426\n"
          ]
        }
      ]
    },
    {
      "cell_type": "code",
      "source": [
        "# ptb데이터셋 평가 \n",
        "# ptb데이터셋에 통계기반 기법을 적용해보기\n",
        "# 이번에틑 큰 행렬에 svd를 적용해야하므로 고속 svd이용(sklearn) / 간단한np.linalg.svd()도 있음\n",
        "window_size= 2\n",
        "wordvec_size=100\n",
        "\n",
        "vocab_size = len(word_to_id)\n",
        "print('동시발생수 계산 ..')\n",
        "C= create_co_matrix(corpus, vocab_size, window_size) ;C"
      ],
      "metadata": {
        "colab": {
          "base_uri": "https://localhost:8080/"
        },
        "id": "M0_tKz6F-cmk",
        "outputId": "d65836a9-5432-4a04-a2aa-f6a72a5bff07"
      },
      "execution_count": null,
      "outputs": [
        {
          "output_type": "stream",
          "name": "stdout",
          "text": [
            "동시발생수 계산 ..\n"
          ]
        },
        {
          "output_type": "execute_result",
          "data": {
            "text/plain": [
              "array([[0, 1, 1, ..., 0, 0, 0],\n",
              "       [1, 0, 1, ..., 0, 0, 0],\n",
              "       [1, 1, 0, ..., 0, 0, 0],\n",
              "       ...,\n",
              "       [0, 0, 0, ..., 0, 0, 0],\n",
              "       [0, 0, 0, ..., 0, 0, 0],\n",
              "       [0, 0, 0, ..., 0, 0, 0]], dtype=int32)"
            ]
          },
          "metadata": {},
          "execution_count": 83
        }
      ]
    },
    {
      "cell_type": "code",
      "source": [
        "print('PPMI계산...')\n",
        "W= ppmi(C, verbose=True); W"
      ],
      "metadata": {
        "colab": {
          "base_uri": "https://localhost:8080/"
        },
        "id": "VQviuolK-_tw",
        "outputId": "e65c0ffa-bc2c-44c3-c98a-541c6c9326fc"
      },
      "execution_count": null,
      "outputs": [
        {
          "output_type": "stream",
          "name": "stdout",
          "text": [
            "PPMI계산...\n",
            "1.0% 완료\n",
            "2.0% 완료\n",
            "3.0% 완료\n",
            "4.0% 완료\n",
            "5.0% 완료\n",
            "6.0% 완료\n",
            "7.0% 완료\n",
            "8.0% 완료\n",
            "9.0% 완료\n",
            "10.0% 완료\n",
            "11.0% 완료\n",
            "12.0% 완료\n",
            "13.0% 완료\n",
            "14.0% 완료\n",
            "15.0% 완료\n",
            "16.0% 완료\n",
            "17.0% 완료\n",
            "18.0% 완료\n",
            "19.0% 완료\n",
            "20.0% 완료\n",
            "21.0% 완료\n",
            "22.0% 완료\n",
            "23.0% 완료\n",
            "24.0% 완료\n",
            "25.0% 완료\n",
            "26.0% 완료\n",
            "27.0% 완료\n",
            "28.0% 완료\n",
            "29.0% 완료\n",
            "30.0% 완료\n",
            "31.0% 완료\n",
            "32.0% 완료\n",
            "33.0% 완료\n",
            "34.0% 완료\n",
            "35.0% 완료\n",
            "36.0% 완료\n",
            "37.0% 완료\n",
            "38.0% 완료\n",
            "39.0% 완료\n",
            "40.0% 완료\n",
            "41.0% 완료\n",
            "42.0% 완료\n",
            "43.0% 완료\n",
            "44.0% 완료\n",
            "45.0% 완료\n",
            "46.0% 완료\n",
            "47.0% 완료\n",
            "48.0% 완료\n",
            "49.0% 완료\n",
            "50.0% 완료\n",
            "51.0% 완료\n",
            "52.0% 완료\n",
            "53.0% 완료\n",
            "54.0% 완료\n",
            "55.0% 완료\n",
            "56.0% 완료\n",
            "57.0% 완료\n",
            "58.0% 완료\n",
            "59.0% 완료\n",
            "60.0% 완료\n",
            "61.0% 완료\n",
            "62.0% 완료\n",
            "63.0% 완료\n",
            "64.0% 완료\n",
            "65.0% 완료\n",
            "66.0% 완료\n",
            "67.0% 완료\n",
            "68.0% 완료\n",
            "69.0% 완료\n",
            "70.0% 완료\n",
            "71.0% 완료\n",
            "72.0% 완료\n",
            "73.0% 완료\n",
            "74.0% 완료\n",
            "75.0% 완료\n",
            "76.0% 완료\n",
            "77.0% 완료\n",
            "78.0% 완료\n",
            "79.0% 완료\n",
            "80.0% 완료\n",
            "81.0% 완료\n",
            "82.0% 완료\n",
            "83.0% 완료\n",
            "84.0% 완료\n",
            "85.0% 완료\n",
            "86.0% 완료\n",
            "87.0% 완료\n",
            "88.0% 완료\n",
            "89.0% 완료\n",
            "90.0% 완료\n",
            "91.0% 완료\n",
            "92.0% 완료\n",
            "93.0% 완료\n",
            "94.0% 완료\n",
            "95.0% 완료\n",
            "96.0% 완료\n",
            "97.0% 완료\n",
            "98.0% 완료\n",
            "99.0% 완료\n"
          ]
        },
        {
          "output_type": "execute_result",
          "data": {
            "text/plain": [
              "array([[ 0.   , 19.241, 18.826, ...,  0.   ,  0.   ,  0.   ],\n",
              "       [19.241,  0.   , 18.241, ...,  0.   ,  0.   ,  0.   ],\n",
              "       [18.826, 18.241,  0.   , ...,  0.   ,  0.   ,  0.   ],\n",
              "       ...,\n",
              "       [ 0.   ,  0.   ,  0.   , ...,  0.   ,  0.   ,  0.   ],\n",
              "       [ 0.   ,  0.   ,  0.   , ...,  0.   ,  0.   ,  0.   ],\n",
              "       [ 0.   ,  0.   ,  0.   , ...,  0.   ,  0.   ,  0.   ]],\n",
              "      dtype=float32)"
            ]
          },
          "metadata": {},
          "execution_count": 87
        }
      ]
    },
    {
      "cell_type": "code",
      "source": [
        "print('svd계산 ...')\n",
        "try :\n",
        "  # truncatedsvd 빠름! \n",
        "  from sklearn.utils.extmath import randomized_svd \n",
        "  U,S,V = randomized_svd(W, n_components=wordvec_size, n_iter=5, random_state=None)  \n",
        "except ImportError:\n",
        "  # SVD\n",
        "  U,S,V = np.linalg.svd(W) \n",
        "\n",
        "word_vecs = U[:, :wordvec_size] \n",
        "querys = ['you', 'year','car','toyota'] \n",
        "for query in querys :  \n",
        "  most_similar(query, word_to_id, id_to_word, word_vecs, top=5) "
      ],
      "metadata": {
        "colab": {
          "base_uri": "https://localhost:8080/"
        },
        "id": "jF8FZdL9BQ0W",
        "outputId": "64affc73-8fc3-4bd6-acef-e3028c4d298a"
      },
      "execution_count": null,
      "outputs": [
        {
          "output_type": "stream",
          "name": "stdout",
          "text": [
            "svd계산 ...\n",
            "\n",
            "[query] you\n",
            "i : 0.6798784136772156\n",
            "we : 0.6585314869880676\n",
            "'ll : 0.5424599051475525\n",
            "do : 0.5095625519752502\n",
            "'d : 0.49672359228134155\n",
            "\n",
            "[query] year\n",
            "month : 0.7190585136413574\n",
            "earlier : 0.6854026913642883\n",
            "quarter : 0.6749022006988525\n",
            "last : 0.6479121446609497\n",
            "fiscal : 0.5858595967292786\n",
            "\n",
            "[query] car\n",
            "auto : 0.6217397451400757\n",
            "luxury : 0.58762526512146\n",
            "cars : 0.5173414945602417\n",
            "domestic : 0.4970399737358093\n",
            "truck : 0.4700299799442291\n",
            "\n",
            "[query] toyota\n",
            "motor : 0.7230758666992188\n",
            "motors : 0.682379424571991\n",
            "honda : 0.6747257709503174\n",
            "nissan : 0.6588114500045776\n",
            "lexus : 0.6090384721755981\n"
          ]
        }
      ]
    },
    {
      "cell_type": "code",
      "source": [
        ""
      ],
      "metadata": {
        "id": "nwRc1HT-CBs9"
      },
      "execution_count": null,
      "outputs": []
    },
    {
      "cell_type": "markdown",
      "source": [
        "# ch3. word2vec "
      ],
      "metadata": {
        "id": "klRm-_6ocT4H"
      }
    },
    {
      "cell_type": "code",
      "source": [
        "# 앞에서 통계기반 기법으로 분산표현을 얻음, 이번에는 추론기반기법을 사용\n",
        "# 추론기법과정에서 신경망을 활용함\n",
        "# 단순한 word2vec구하는 과정\n",
        "# 단어를 벡터로 표현하는 방법은 지금까지 활발히 연구됨, \n",
        "# 통계기반기법과 추론기법 : 단어의 의미를 얻는 방식은 서로 크게 다르지만, 그 배경에는 모두 분포가설이 있음"
      ],
      "metadata": {
        "id": "FiqdxUXXcV5X"
      },
      "execution_count": null,
      "outputs": []
    },
    {
      "cell_type": "code",
      "source": [
        "# 통계기반 기법의 문제점:계산량이 너무 큼\n",
        "# 통계기반기법 : 학습데이터를 한꺼번에 처리(배치학습)\n",
        "# 추론기법 : 학습데이터의 일부를 사용하여 순차적으로 학습(미니배치 학습), 여러 머신과 여러 GPU를 이용한 병렬 계산도 가능함 -> 학습속도 높임\n",
        "# 추론 문제를 풀면서 단어의 출현 패턴을 학습 \n",
        "# 분포가설 : 단어의 의미는 주변 단어에 의해 형성된다는 가설\n",
        "# 단어의 동시 발생 가능성을 얼마나 잘 모델링 하는가가 중요한 연구 주제"
      ],
      "metadata": {
        "id": "h0pRVcuSc1kz"
      },
      "execution_count": 2,
      "outputs": []
    },
    {
      "cell_type": "code",
      "source": [
        "import numpy as np\n",
        "c= np.array([[1,0,0,0,0,0,0]])\n",
        "W=np.random.randn(7,3) # 가중치\n",
        "h= np.matmul(c,W);h"
      ],
      "metadata": {
        "id": "bceAA0MQdSdj",
        "colab": {
          "base_uri": "https://localhost:8080/"
        },
        "outputId": "a9a5bc88-fb44-4c1b-f12b-5b9e0bbce22f"
      },
      "execution_count": 3,
      "outputs": [
        {
          "output_type": "execute_result",
          "data": {
            "text/plain": [
              "array([[ 0.51366783, -0.1890562 , -0.90969628]])"
            ]
          },
          "metadata": {},
          "execution_count": 3
        }
      ]
    },
    {
      "cell_type": "code",
      "source": [
        ""
      ],
      "metadata": {
        "id": "R5jhb0d4OCsA"
      },
      "execution_count": null,
      "outputs": []
    }
  ]
}