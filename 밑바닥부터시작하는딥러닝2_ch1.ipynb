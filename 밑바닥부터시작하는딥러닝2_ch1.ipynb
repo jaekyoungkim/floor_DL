{
  "nbformat": 4,
  "nbformat_minor": 0,
  "metadata": {
    "colab": {
      "name": "밑바닥부터시작하는딥러닝2 - ch1.ipynb",
      "provenance": [],
      "toc_visible": true,
      "collapsed_sections": [],
      "machine_shape": "hm",
      "authorship_tag": "ABX9TyM7BNRjsz3glasMsiRyD0xo",
      "include_colab_link": true
    },
    "kernelspec": {
      "name": "python3",
      "display_name": "Python 3"
    },
    "language_info": {
      "name": "python"
    },
    "accelerator": "GPU"
  },
  "cells": [
    {
      "cell_type": "markdown",
      "metadata": {
        "id": "view-in-github",
        "colab_type": "text"
      },
      "source": [
        "<a href=\"https://colab.research.google.com/github/jaekyoungkim/floor_DL/blob/main/%EB%B0%91%EB%B0%94%EB%8B%A5%EB%B6%80%ED%84%B0%EC%8B%9C%EC%9E%91%ED%95%98%EB%8A%94%EB%94%A5%EB%9F%AC%EB%8B%9D2_ch1.ipynb\" target=\"_parent\"><img src=\"https://colab.research.google.com/assets/colab-badge.svg\" alt=\"Open In Colab\"/></a>"
      ]
    },
    {
      "cell_type": "code",
      "execution_count": 2,
      "metadata": {
        "id": "-p2YLaIYgO4o",
        "colab": {
          "base_uri": "https://localhost:8080/"
        },
        "outputId": "f236d6f1-40c6-493c-af88-d4717e8f42b4"
      },
      "outputs": [
        {
          "output_type": "stream",
          "name": "stdout",
          "text": [
            "Cloning into 'deep-learning-from-scratch-2'...\n",
            "remote: Enumerating objects: 606, done.\u001b[K\n",
            "remote: Counting objects: 100% (8/8), done.\u001b[K\n",
            "remote: Compressing objects: 100% (8/8), done.\u001b[K\n",
            "remote: Total 606 (delta 1), reused 5 (delta 0), pack-reused 598\u001b[K\n",
            "Receiving objects: 100% (606/606), 29.82 MiB | 33.19 MiB/s, done.\n",
            "Resolving deltas: 100% (361/361), done.\n"
          ]
        }
      ],
      "source": [
        "!git clone https://github.com/WegraLee/deep-learning-from-scratch-2.git"
      ]
    },
    {
      "cell_type": "markdown",
      "source": [
        "# ch1. 신경망 복습 "
      ],
      "metadata": {
        "id": "9p28Nwy8gS6x"
      }
    },
    {
      "cell_type": "code",
      "source": [
        "import numpy as np\n",
        "x=np.array([1,2,3])\n",
        "x.__class__"
      ],
      "metadata": {
        "colab": {
          "base_uri": "https://localhost:8080/"
        },
        "id": "6FJMVl0AgU0f",
        "outputId": "80293d16-fb2c-438d-fa6d-1ab3c6b36408"
      },
      "execution_count": null,
      "outputs": [
        {
          "output_type": "execute_result",
          "data": {
            "text/plain": [
              "numpy.ndarray"
            ]
          },
          "metadata": {},
          "execution_count": 1
        }
      ]
    },
    {
      "cell_type": "code",
      "source": [
        "x.shape"
      ],
      "metadata": {
        "colab": {
          "base_uri": "https://localhost:8080/"
        },
        "id": "PSZRQQOxgehr",
        "outputId": "6c18d76e-1589-4b83-8c05-c000265909d2"
      },
      "execution_count": null,
      "outputs": [
        {
          "output_type": "execute_result",
          "data": {
            "text/plain": [
              "(3,)"
            ]
          },
          "metadata": {},
          "execution_count": 2
        }
      ]
    },
    {
      "cell_type": "code",
      "source": [
        "x.ndim"
      ],
      "metadata": {
        "colab": {
          "base_uri": "https://localhost:8080/"
        },
        "id": "hQv9i0QhggWj",
        "outputId": "3b4590a4-ce2b-4314-ec11-c1d25de65411"
      },
      "execution_count": null,
      "outputs": [
        {
          "output_type": "execute_result",
          "data": {
            "text/plain": [
              "1"
            ]
          },
          "metadata": {},
          "execution_count": 4
        }
      ]
    },
    {
      "cell_type": "code",
      "source": [
        "W= np.array([[1,2,3],[4,5,6]])"
      ],
      "metadata": {
        "id": "ENtvW7krgg0r"
      },
      "execution_count": null,
      "outputs": []
    },
    {
      "cell_type": "code",
      "source": [
        "W.shape"
      ],
      "metadata": {
        "colab": {
          "base_uri": "https://localhost:8080/"
        },
        "id": "pz_UOx_ugmVc",
        "outputId": "4aa5bcaf-b630-4dd2-bc5b-28202349371f"
      },
      "execution_count": null,
      "outputs": [
        {
          "output_type": "execute_result",
          "data": {
            "text/plain": [
              "(2, 3)"
            ]
          },
          "metadata": {},
          "execution_count": 6
        }
      ]
    },
    {
      "cell_type": "code",
      "source": [
        "W.ndim"
      ],
      "metadata": {
        "colab": {
          "base_uri": "https://localhost:8080/"
        },
        "id": "3T_fMyXlgnWv",
        "outputId": "26935316-a495-4ca6-b2c7-712c2a00370d"
      },
      "execution_count": null,
      "outputs": [
        {
          "output_type": "execute_result",
          "data": {
            "text/plain": [
              "2"
            ]
          },
          "metadata": {},
          "execution_count": 7
        }
      ]
    },
    {
      "cell_type": "code",
      "source": [
        "a=np.array([1,2,3])\n",
        "b=np.array([4,5,6])\n",
        "np.dot(a,b) # 벡터의 내적"
      ],
      "metadata": {
        "colab": {
          "base_uri": "https://localhost:8080/"
        },
        "id": "83abMEM-gn6-",
        "outputId": "d02f1d36-4a06-4120-e314-2d8fc93455a5"
      },
      "execution_count": null,
      "outputs": [
        {
          "output_type": "execute_result",
          "data": {
            "text/plain": [
              "32"
            ]
          },
          "metadata": {},
          "execution_count": 8
        }
      ]
    },
    {
      "cell_type": "code",
      "source": [
        "A=np.array([[1,2],[3,4]])\n",
        "B=np.array([4,5,6])"
      ],
      "metadata": {
        "id": "UyBP-9vqg08T"
      },
      "execution_count": null,
      "outputs": []
    },
    {
      "cell_type": "code",
      "source": [
        "np.dot(A,B) "
      ],
      "metadata": {
        "colab": {
          "base_uri": "https://localhost:8080/"
        },
        "id": "s_n3FXLbg5e5",
        "outputId": "b6027fd6-2b3d-4a4d-d1df-97e88a1be4c0"
      },
      "execution_count": null,
      "outputs": [
        {
          "output_type": "execute_result",
          "data": {
            "text/plain": [
              "array([[19, 22],\n",
              "       [43, 50]])"
            ]
          },
          "metadata": {},
          "execution_count": 15
        }
      ]
    },
    {
      "cell_type": "code",
      "source": [
        "A=np.array([[1,2],[3,4]])\n",
        "B=np.array([[5,6],[7,8]])"
      ],
      "metadata": {
        "id": "6Q-Cs2XSg8ti"
      },
      "execution_count": null,
      "outputs": []
    },
    {
      "cell_type": "code",
      "source": [
        "np.matmul(A,B)  # 행렬곱"
      ],
      "metadata": {
        "colab": {
          "base_uri": "https://localhost:8080/"
        },
        "id": "5YsGqRfChETM",
        "outputId": "3069e483-b0e7-4024-81bf-526443b32cd9"
      },
      "execution_count": null,
      "outputs": [
        {
          "output_type": "execute_result",
          "data": {
            "text/plain": [
              "array([[19, 22],\n",
              "       [43, 50]])"
            ]
          },
          "metadata": {},
          "execution_count": 14
        }
      ]
    },
    {
      "cell_type": "code",
      "source": [
        "# 100 NUMPY EXCERSICE 예제 해보기, 좋은 샘플임"
      ],
      "metadata": {
        "id": "P4v9nHMyhFes"
      },
      "execution_count": null,
      "outputs": []
    },
    {
      "cell_type": "code",
      "source": [
        "# 신경명에서 수행하는 작업 : 학습과 추론\n",
        "# 입력층, 출력층, 은닉층으로 구성됨\n",
        "# 가중치, 편향을 통해 계산됨\n"
      ],
      "metadata": {
        "id": "OgvHrleLhYiG"
      },
      "execution_count": null,
      "outputs": []
    },
    {
      "cell_type": "code",
      "source": [
        "# h(1x4) = x(1x2)W(2x4) + b(1x4)\n",
        "# h1 = x1 * w11 + x2w21 + b1\n",
        "# x : 입력\n",
        "# h: 은닉층 뉴런\n",
        "# W : 가중치\n",
        "# b: 편향"
      ],
      "metadata": {
        "id": "phvb-51Y3VeC"
      },
      "execution_count": null,
      "outputs": []
    },
    {
      "cell_type": "code",
      "source": [
        "import numpy as np\n",
        "W1  = np.random.randn(2,4) ; W1 # 2x4 # "
      ],
      "metadata": {
        "id": "6tZv_vmr30sX",
        "colab": {
          "base_uri": "https://localhost:8080/"
        },
        "outputId": "a306cf05-e674-4587-9dd6-5d4326b441ff"
      },
      "execution_count": 1,
      "outputs": [
        {
          "output_type": "execute_result",
          "data": {
            "text/plain": [
              "array([[ 1.21648767, -0.48698938, -0.55972081, -0.33360003],\n",
              "       [-0.07943261,  0.33523018,  1.91602756,  0.49719856]])"
            ]
          },
          "metadata": {},
          "execution_count": 1
        }
      ]
    },
    {
      "cell_type": "code",
      "source": [
        "b1 = np.random.randn(4); b1 # 편향 "
      ],
      "metadata": {
        "id": "e6aGiZ9o3mUg",
        "colab": {
          "base_uri": "https://localhost:8080/"
        },
        "outputId": "a99f587a-770d-4f09-d5c2-c984faa7c303"
      },
      "execution_count": 2,
      "outputs": [
        {
          "output_type": "execute_result",
          "data": {
            "text/plain": [
              "array([ 0.09281632, -1.32468704,  0.1211265 ,  1.45028844])"
            ]
          },
          "metadata": {},
          "execution_count": 2
        }
      ]
    },
    {
      "cell_type": "code",
      "source": [
        "x = np.random.randn(10,2) ;x  # 10개의 샘플 데이터 10x2"
      ],
      "metadata": {
        "colab": {
          "base_uri": "https://localhost:8080/"
        },
        "id": "OkSttPPMNPjj",
        "outputId": "9d420973-fd08-4356-fc85-c3b4f5606b22"
      },
      "execution_count": 3,
      "outputs": [
        {
          "output_type": "execute_result",
          "data": {
            "text/plain": [
              "array([[-0.79263062, -0.75536546],\n",
              "       [-0.96074454, -0.7729176 ],\n",
              "       [ 0.27417157,  1.24564265],\n",
              "       [-0.17863988, -0.25924527],\n",
              "       [-1.5889804 ,  0.12993258],\n",
              "       [ 0.79132852, -0.05668989],\n",
              "       [ 2.02010822,  0.22829108],\n",
              "       [ 1.57134666, -0.50833922],\n",
              "       [ 0.31941044, -0.37383323],\n",
              "       [ 1.06823862,  0.33171146]])"
            ]
          },
          "metadata": {},
          "execution_count": 3
        }
      ]
    },
    {
      "cell_type": "code",
      "source": [
        "h = np.matmul(x, W1)+b1 ; h # b1은 브로드캐스트됨, (4,) -> (10,4)로 복제됨\n",
        "# 은닉층의 뉴런은 4개"
      ],
      "metadata": {
        "colab": {
          "base_uri": "https://localhost:8080/"
        },
        "id": "CIATYmBaNR5z",
        "outputId": "9db0e29a-02be-42bf-ac3c-b804f977189d"
      },
      "execution_count": 6,
      "outputs": [
        {
          "output_type": "execute_result",
          "data": {
            "text/plain": [
              "array([[-0.8114084 , -1.19190565, -0.88252269,  1.33914341],\n",
              "       [-1.01452271, -1.11591996, -0.8220562 ,  1.38649933],\n",
              "       [ 0.327398  , -1.04062868,  2.3543526 ,  1.97815653],\n",
              "       [-0.10390437, -1.32459816, -0.27560613,  1.38098633],\n",
              "       [-1.85047963, -0.50731314,  1.2594663 ,  2.04497463],\n",
              "       [ 1.05996073, -1.72905979, -0.43041594,  1.15811509],\n",
              "       [ 2.5321193 , -2.23192823, -0.57215811,  0.88988629],\n",
              "       [ 2.04471886, -2.26032683, -1.73238088,  0.67334163],\n",
              "       [ 0.51106973, -1.60555672, -0.77392894,  1.15786377],\n",
              "       [ 1.36596671, -1.73370821,  0.1587794 ,  1.25885047]])"
            ]
          },
          "metadata": {},
          "execution_count": 6
        }
      ]
    },
    {
      "cell_type": "code",
      "source": [
        "def sigmoid(x):\n",
        "  return 1 / (1+np.exp(-x))"
      ],
      "metadata": {
        "id": "P7axyvAdNjS2"
      },
      "execution_count": 7,
      "outputs": []
    },
    {
      "cell_type": "code",
      "source": [
        "a=sigmoid(h);a"
      ],
      "metadata": {
        "colab": {
          "base_uri": "https://localhost:8080/"
        },
        "id": "AhWjMziwN2pD",
        "outputId": "e1879bec-e2e5-4057-9ee0-ee41eb0edc3e"
      },
      "execution_count": 9,
      "outputs": [
        {
          "output_type": "execute_result",
          "data": {
            "text/plain": [
              "array([[0.30759045, 0.23291829, 0.29265529, 0.79234904],\n",
              "       [0.26609568, 0.24676887, 0.30532736, 0.80003279],\n",
              "       [0.58112614, 0.26102871, 0.91327957, 0.87848451],\n",
              "       [0.47404725, 0.2100543 , 0.43153132, 0.79914936],\n",
              "       [0.13581659, 0.3758236 , 0.77893422, 0.88543885],\n",
              "       [0.74268304, 0.15070788, 0.39402701, 0.76099005],\n",
              "       [0.92636305, 0.09691974, 0.360739  , 0.70886671],\n",
              "       [0.8854129 , 0.09446241, 0.15028329, 0.662251  ],\n",
              "       [0.62505721, 0.16720642, 0.31562981, 0.76094433],\n",
              "       [0.79672773, 0.15011387, 0.53961167, 0.77882816]])"
            ]
          },
          "metadata": {},
          "execution_count": 9
        }
      ]
    },
    {
      "cell_type": "code",
      "source": [
        "W2 = np.random.randn(4,3); W2"
      ],
      "metadata": {
        "colab": {
          "base_uri": "https://localhost:8080/"
        },
        "id": "tw8iW2SINU2b",
        "outputId": "e01b0cb5-2afb-43e4-a7b7-405d6351d932"
      },
      "execution_count": 12,
      "outputs": [
        {
          "output_type": "execute_result",
          "data": {
            "text/plain": [
              "array([[-1.37739058, -1.37091245,  1.02414928],\n",
              "       [ 0.53476128, -0.57238529, -1.18448979],\n",
              "       [ 0.78459979, -1.51697355, -0.88192149],\n",
              "       [ 0.2837107 ,  0.82732871, -0.72231865]])"
            ]
          },
          "metadata": {},
          "execution_count": 12
        }
      ]
    },
    {
      "cell_type": "code",
      "source": [
        "b2 = np.random.randn(3) ; b1"
      ],
      "metadata": {
        "colab": {
          "base_uri": "https://localhost:8080/"
        },
        "id": "N_s59bX2OTB8",
        "outputId": "7f24367d-fb22-4d99-878e-812733989fdd"
      },
      "execution_count": 14,
      "outputs": [
        {
          "output_type": "execute_result",
          "data": {
            "text/plain": [
              "array([-0.08098443, -0.3624163 , -1.45582362])"
            ]
          },
          "metadata": {},
          "execution_count": 14
        }
      ]
    },
    {
      "cell_type": "code",
      "source": [
        "s = np.matmul(a, W2) + b2;s # 10x3 3차원 데이터로 변환되었다는 의미 / 3개의 분류를 할 수 있음"
      ],
      "metadata": {
        "colab": {
          "base_uri": "https://localhost:8080/"
        },
        "id": "5cd9kkMBOUOX",
        "outputId": "23ded0fb-a3de-49f8-fc36-e2f1aeda7ffb"
      },
      "execution_count": 16,
      "outputs": [
        {
          "output_type": "execute_result",
          "data": {
            "text/plain": [
              "array([[ 0.37118812, -0.25582204,  0.46471824],\n",
              "       [ 0.44787185, -0.21973042,  0.38908963],\n",
              "       [ 0.52083425, -1.51711378,  0.10200395],\n",
              "       [ 0.24057675, -0.67597789,  0.53488725],\n",
              "       [ 1.09215297, -0.76278842, -0.37657407],\n",
              "       [-0.2014279 , -0.98496228,  0.94094466],\n",
              "       [-0.52409655, -1.19861005,  1.25977899],\n",
              "       [-0.64735516, -0.86037521,  1.44002741],\n",
              "       [-0.09211181, -0.71426242,  0.8701091 ],\n",
              "       [-0.15689965, -1.2648029 ,  0.85571906]])"
            ]
          },
          "metadata": {},
          "execution_count": 16
        }
      ]
    },
    {
      "cell_type": "code",
      "source": [
        "# 완전연결계층에 의한 변환은 기하학에서의 아핀변환에 해당(Affine)\n",
        "# 계층은 파이썬 클래스로 구현하며, 기본변환을 수행하는 메서드의 이름은 forward()\n",
        "# 모든 계층은 forward() / backward()를 가짐\n",
        "# 모든계층은 인스턴스 변수인 params / Grads를 가짐\n",
        "# params : 가중치와 편향같은 매개변수를 담은 리스트\n",
        "# grads : params에 저장된 각 매개변수에 대응하여 해당 매개변수의 기울기를 보관하는 리스트\n"
      ],
      "metadata": {
        "id": "iePQD3KWOeCt"
      },
      "execution_count": 17,
      "outputs": []
    },
    {
      "cell_type": "code",
      "source": [
        "import numpy as np\n",
        "class Sigmoid:\n",
        "  def __init__(self): \n",
        "    self.params = []\n",
        "  \n",
        "  def forward(self, x):\n",
        "    return 1/ (1+np.exp(-x))\n",
        "# 주변환처리는 forward(x) 메서드가 담당함\n"
      ],
      "metadata": {
        "id": "vHtrwZYtQjuP"
      },
      "execution_count": 5,
      "outputs": []
    },
    {
      "cell_type": "code",
      "source": [
        "class Affine:\n",
        "  def __init__(self, W,b):\n",
        "    self.params = [W,b]\n",
        "  \n",
        "  def forward(self,x):\n",
        "    W, b = self.params \n",
        "    out = np.matmul(x,W) + b\n",
        "    return out\n",
        "   # 초기화할때 가중치와 편향을 받음\n",
        "   #  "
      ],
      "metadata": {
        "id": "II82XECdQzyN"
      },
      "execution_count": 21,
      "outputs": []
    },
    {
      "cell_type": "code",
      "source": [
        "# x-affine-sigmoid-affine-s 구현해보기\n",
        "\n",
        "class TwoLayerNet:\n",
        "  def __init__(self, input_size, hidden_size, output_size):\n",
        "    I,H,O = input_size, hidden_size, output_size\n",
        "    #가중치편향초기화\n",
        "    W1 = np.random.randn(I, H)\n",
        "    b1 = np.random.randn(H)\n",
        "    W2 = np.random.randn(H,O)\n",
        "    b2 = np.random.randn(O)\n",
        "\n",
        "    #계층생성 / 3개의 계층을 생성함\n",
        "    self.layers = [Affine(W1,b1), Sigmoid(), Affine(W2,b2)]\n",
        "\n",
        "    # 모든 가중치를 리스트에 모은다\n",
        "    self.params = []\n",
        "    for layer in self.layers: \n",
        "      self.params += layer.params\n",
        "  \n",
        "  def predict(self, x):\n",
        "    for layer in self.layers:\n",
        "      x = layer.forward(x)\n",
        "    return x"
      ],
      "metadata": {
        "id": "helnhOirRFYB"
      },
      "execution_count": 9,
      "outputs": []
    },
    {
      "cell_type": "code",
      "source": [
        "a = ['A', 'B']\n",
        "a+= ['C','D']\n",
        "a"
      ],
      "metadata": {
        "colab": {
          "base_uri": "https://localhost:8080/"
        },
        "id": "J6C84UEER4LI",
        "outputId": "7bd00f3d-a220-4e5c-b13d-d09397f95dec"
      },
      "execution_count": 32,
      "outputs": [
        {
          "output_type": "execute_result",
          "data": {
            "text/plain": [
              "['A', 'B', 'C', 'D']"
            ]
          },
          "metadata": {},
          "execution_count": 32
        }
      ]
    },
    {
      "cell_type": "code",
      "source": [
        "x = np.random.randn(10,2)\n",
        "model = TwoLayerNet(2,4,3)\n",
        "s=model.predict(x)"
      ],
      "metadata": {
        "id": "GVbFuRe1SiY5"
      },
      "execution_count": 33,
      "outputs": []
    },
    {
      "cell_type": "code",
      "source": [
        "s"
      ],
      "metadata": {
        "colab": {
          "base_uri": "https://localhost:8080/"
        },
        "id": "lb2FV0qMSveD",
        "outputId": "154e137f-7719-49c8-da8f-bb5a35a97748"
      },
      "execution_count": 34,
      "outputs": [
        {
          "output_type": "execute_result",
          "data": {
            "text/plain": [
              "array([[-1.50968998, -3.69145486, -0.59078053],\n",
              "       [-1.6117588 , -4.22416638, -0.71167142],\n",
              "       [-0.49862053, -2.90384628, -1.64117301],\n",
              "       [-0.73843196, -2.6384056 , -0.9049674 ],\n",
              "       [-0.96349443, -2.85194653, -0.70539678],\n",
              "       [-0.42929553, -2.41121233, -1.55367667],\n",
              "       [-1.5465118 , -3.96349097, -0.71224558],\n",
              "       [-0.90985446, -3.14941086, -1.01884055],\n",
              "       [-0.82460339, -2.64136731, -0.77112327],\n",
              "       [-0.98907426, -3.44949816, -1.19451352]])"
            ]
          },
          "metadata": {},
          "execution_count": 34
        }
      ]
    },
    {
      "cell_type": "code",
      "source": [
        "#학습되지 않은 신경망은 좋은추론을 해낼수없음\n",
        "#학습을 먼저 수행하고, 그 학습된 매개변수를 이용해 추론을 수행하는 흐름이 일반적\n"
      ],
      "metadata": {
        "id": "OihKEYbISsGy"
      },
      "execution_count": 35,
      "outputs": []
    },
    {
      "cell_type": "code",
      "source": [
        "# 손실함수 :학습이 얼마나 잘 되고 있는지를 알기 위한 척도, 신경망의 성능을 나타내는 척도로 손실을 사용\n",
        "# 예측한 결과를 비교하여 예측이 얼마나 나쁜가를 산출한 단일값(스칼라)\n",
        "# 교차엔트로피 오차(cross entropy error) : 예측한 확률과 정답레이블을 이요해 계산\n",
        "#"
      ],
      "metadata": {
        "id": "vFeG2sa0aPpl"
      },
      "execution_count": 36,
      "outputs": []
    },
    {
      "cell_type": "code",
      "source": [
        "# x-affine-sigmoid-affine-softmax-crossentropy-error-L 과정구현\n",
        "# 소프트 맥스의 출력값은 0~1실수\n"
      ],
      "metadata": {
        "id": "IdCLu6GCaoBF"
      },
      "execution_count": 37,
      "outputs": []
    },
    {
      "cell_type": "code",
      "source": [
        "# 기울기 개념의 등장 : 수학에서 말하는 기울기와는 다름, 수학에서의 기울기는 벡터에 대한 미분으로 한정, 한편 딥러닝에서는 행렬이나 텐서에 대해서도 미분을 정의함\n",
        "# 국소적인 미분을 구할수있다면 전체의 미분을 구할수있게하는 아이디어 : 연쇄법칙\n"
      ],
      "metadata": {
        "id": "RDpEemVSvgkg"
      },
      "execution_count": null,
      "outputs": []
    },
    {
      "cell_type": "code",
      "source": [
        "# 역전파 종류-\n",
        "# 덧셈노드\n",
        "# 곱셈노드\n",
        "# 분기노드\n",
        "# REPEAT노드(N개의 분기노드)\n",
        "# SUM노드\n",
        "# MATMUL노드"
      ],
      "metadata": {
        "id": "EOL3IT7CSitg"
      },
      "execution_count": null,
      "outputs": []
    },
    {
      "cell_type": "code",
      "source": [
        "import numpy as np\n",
        "D, N = 8,7\n",
        "x = np.random.randn(1,D);x # 8 개랜덤값"
      ],
      "metadata": {
        "colab": {
          "base_uri": "https://localhost:8080/"
        },
        "id": "42xbZ2TKRBsu",
        "outputId": "caf37aa8-7224-45c1-bd43-6b889d35e0d3"
      },
      "execution_count": 39,
      "outputs": [
        {
          "output_type": "execute_result",
          "data": {
            "text/plain": [
              "array([[-0.5794089 , -0.4090421 ,  0.11616307, -0.80426539,  0.86277395,\n",
              "        -0.22785349,  1.2346049 ,  0.36791626]])"
            ]
          },
          "metadata": {},
          "execution_count": 39
        }
      ]
    },
    {
      "cell_type": "code",
      "source": [
        "y = np.repeat(x,N, axis=0); y # x를 N번 반복"
      ],
      "metadata": {
        "colab": {
          "base_uri": "https://localhost:8080/"
        },
        "id": "i8M4znzyxCzF",
        "outputId": "919ecb33-0765-49ab-f6d9-7303b7235e22"
      },
      "execution_count": 40,
      "outputs": [
        {
          "output_type": "execute_result",
          "data": {
            "text/plain": [
              "array([[-0.5794089 , -0.4090421 ,  0.11616307, -0.80426539,  0.86277395,\n",
              "        -0.22785349,  1.2346049 ,  0.36791626],\n",
              "       [-0.5794089 , -0.4090421 ,  0.11616307, -0.80426539,  0.86277395,\n",
              "        -0.22785349,  1.2346049 ,  0.36791626],\n",
              "       [-0.5794089 , -0.4090421 ,  0.11616307, -0.80426539,  0.86277395,\n",
              "        -0.22785349,  1.2346049 ,  0.36791626],\n",
              "       [-0.5794089 , -0.4090421 ,  0.11616307, -0.80426539,  0.86277395,\n",
              "        -0.22785349,  1.2346049 ,  0.36791626],\n",
              "       [-0.5794089 , -0.4090421 ,  0.11616307, -0.80426539,  0.86277395,\n",
              "        -0.22785349,  1.2346049 ,  0.36791626],\n",
              "       [-0.5794089 , -0.4090421 ,  0.11616307, -0.80426539,  0.86277395,\n",
              "        -0.22785349,  1.2346049 ,  0.36791626],\n",
              "       [-0.5794089 , -0.4090421 ,  0.11616307, -0.80426539,  0.86277395,\n",
              "        -0.22785349,  1.2346049 ,  0.36791626]])"
            ]
          },
          "metadata": {},
          "execution_count": 40
        }
      ]
    },
    {
      "cell_type": "code",
      "source": [
        "dx = np.random.randn(N,D) ;dx.shape"
      ],
      "metadata": {
        "colab": {
          "base_uri": "https://localhost:8080/"
        },
        "id": "nR9alEL6QvnM",
        "outputId": "06ec67bc-c13d-46ea-8115-4452314cb05d"
      },
      "execution_count": 41,
      "outputs": [
        {
          "output_type": "execute_result",
          "data": {
            "text/plain": [
              "(7, 8)"
            ]
          },
          "metadata": {},
          "execution_count": 41
        }
      ]
    },
    {
      "cell_type": "code",
      "source": [
        "dy = np.sum(dx, axis=0, keepdims=True);dy #  keepdims=True : 2차원을 유지시킴\n",
        "# (1,D) 출력 NOT (D)"
      ],
      "metadata": {
        "colab": {
          "base_uri": "https://localhost:8080/"
        },
        "id": "l-GuZAhuOXIL",
        "outputId": "02546eca-1c9a-4aa2-94aa-f4379035e333"
      },
      "execution_count": 45,
      "outputs": [
        {
          "output_type": "execute_result",
          "data": {
            "text/plain": [
              "array([[ 1.75530335,  2.4007671 ,  0.80061987,  3.1102779 ,  0.78699361,\n",
              "         0.44033144,  1.3401611 , -2.93366021]])"
            ]
          },
          "metadata": {},
          "execution_count": 45
        }
      ]
    },
    {
      "cell_type": "code",
      "source": [
        "dy.ndim"
      ],
      "metadata": {
        "colab": {
          "base_uri": "https://localhost:8080/"
        },
        "id": "Bfl4VmG3xixg",
        "outputId": "d415d1b4-342c-499f-8c10-8e34103946dc"
      },
      "execution_count": 46,
      "outputs": [
        {
          "output_type": "execute_result",
          "data": {
            "text/plain": [
              "2"
            ]
          },
          "metadata": {},
          "execution_count": 46
        }
      ]
    },
    {
      "cell_type": "code",
      "source": [
        "# SUM노드의 역전파\n",
        "D,N = 8,7 \n",
        "x=np.random.randn(N,D)\n",
        "y=np.sum(x, axis=0, keepdims=True) \n",
        "dx = np.random.randn(1,D)\n",
        "dy = np.repeat(dy, N, axis=0)"
      ],
      "metadata": {
        "id": "Fmp8KVWxxWXQ"
      },
      "execution_count": 47,
      "outputs": []
    },
    {
      "cell_type": "code",
      "source": [
        "# matmul노드의 역전파\n",
        "# y = xW\n",
        "# (1,H) = (1,D) * (D,H) \n",
        "# (N,H) = (N,D) * (D,H) / 미니배치 처리인 경우\n",
        "\n"
      ],
      "metadata": {
        "id": "rDottCRByvAM"
      },
      "execution_count": 1,
      "outputs": []
    },
    {
      "cell_type": "code",
      "source": [
        "class MatMul:\n",
        "  def __init__(self, W):\n",
        "    self.params = [W]\n",
        "    self.grads = [np.zeros_like(W)]\n",
        "    self.x = None  \n",
        "  \n",
        "  def forward(self, x): \n",
        "    W, = self.params  \n",
        "    out = np.matmul(x, W)\n",
        "    self.x = x\n",
        "    return out \n",
        "  \n",
        "  def  backward(self, dout ):\n",
        "    W, = self.params \n",
        "    dx = np.matmul(dout, W.T) \n",
        "    dy = np.matmul(self.x.T, dout )\n",
        "    self.grads[0][...] = dW  # 기울기값 설정하는 부분, 생략기호 ... 사용. 넘파이 배열이 가리키는 메모리 위치를 고정시킨 다음, 그 위치에 원소들을 덮어씀\n",
        "    # 생략기호는 넘파이 배열의 덮어쓰기를 수행\n",
        "    # grads[0] =dw처럼 그냥 할당하면 얕은 복사가 이루어지고 grads[0][...]= dw처럼 덮어쓰면 깊은 복사가 이뤄짐\n",
        "    return dx "
      ],
      "metadata": {
        "id": "GZTA_u6HX3ko"
      },
      "execution_count": 3,
      "outputs": []
    },
    {
      "cell_type": "code",
      "source": [
        "a = np.array([1,2,3])\n",
        "b = np.array([4,5,6])\n",
        "a=b;a"
      ],
      "metadata": {
        "colab": {
          "base_uri": "https://localhost:8080/"
        },
        "id": "tQhjcELRkCPG",
        "outputId": "eacd36f3-9bbe-4cc4-96df-57e6aa3a21c2"
      },
      "execution_count": 9,
      "outputs": [
        {
          "output_type": "execute_result",
          "data": {
            "text/plain": [
              "array([4, 5, 6])"
            ]
          },
          "metadata": {},
          "execution_count": 9
        }
      ]
    },
    {
      "cell_type": "code",
      "source": [
        "a = np.array([1,2,3])\n",
        "b = np.array([4,5,6])\n",
        "a[...]=b;a"
      ],
      "metadata": {
        "colab": {
          "base_uri": "https://localhost:8080/"
        },
        "id": "46WVHXrIkQUC",
        "outputId": "869ab379-ad8c-4259-cd4a-9efd7dfba823"
      },
      "execution_count": 8,
      "outputs": [
        {
          "output_type": "execute_result",
          "data": {
            "text/plain": [
              "array([4, 5, 6])"
            ]
          },
          "metadata": {},
          "execution_count": 8
        }
      ]
    },
    {
      "cell_type": "code",
      "source": [
        "# a에는 모두 [4,5,6]이 할당됨\n",
        "# 두경우, A가 가리키는 메모리의 위치가 서로 다름\n",
        "# 생략기호를 이요하여 변수의 메모리 주소를 고정할 수 있음\n",
        "# 메모리 주소를 고정함으로써 인스턴스 변수 grads를 다루기가 더 쉬워짐\n",
        "# grads리스트에는 각 매개변수의 기울기를 저장함. 생략기호를 사용하므로 이 넘파이 배열의 메모리 주소가 변하는 일 없이 항상 값을 덮어씀\n",
        "# 이렇게 하면 기울기를 그룹화하는 작업을 최초에 한번만 하면 된다는 이점이 생김\n"
      ],
      "metadata": {
        "id": "bafeY0NWhYDr"
      },
      "execution_count": 11,
      "outputs": []
    },
    {
      "cell_type": "code",
      "source": [
        "# 기울기의 도출과 역전파 구현\n",
        "# 1. sigmoid계층\n",
        "class Sigmoid:\n",
        "  def __init__(self):\n",
        "    self.params , self.grads =[],[]\n",
        "    self.out = None \n",
        "  \n",
        "  def forward(self, x):\n",
        "    out = 1/(1+np.exp(-x))\n",
        "    self.out = out \n",
        "    return out \n",
        "  \n",
        "  def backward(self, dout) : \n",
        "    dx = dout * (1-self.out) * self.out \n",
        "    return dx  \n",
        "  "
      ],
      "metadata": {
        "id": "RhiD0wQ31rhu"
      },
      "execution_count": 12,
      "outputs": []
    },
    {
      "cell_type": "code",
      "source": [
        "# affine 계층\n",
        "# 순전파 : y=np.matmul(x,W)+b\n",
        "# 편향을 더할때는 넘파이의 브로드캐스트가 사용됨\n",
        "class Affine:\n",
        "  def __init__(self,W,b):\n",
        "    self.params = [W,b]\n",
        "    self.grads = [np.zeros_like(W), np.zeros_like(b)]\n",
        "    self.x = None\n",
        "\n",
        "  def forward(self,x):\n",
        "    W,b = self.params\n",
        "    out = np.matmul(x,W) + b\n",
        "    self.x = x\n",
        "    return out \n",
        "  \n",
        "  def backward(self, dout):\n",
        "    W,b = self.params\n",
        "    dx = np.matmul(dout, W.T) \n",
        "    dW = np.matmul(self.x.T, dout)\n",
        "    db = np.sum(dout, axis = 0)\n",
        "    self.grads[0][...] = dW \n",
        "    self.grads[1][...] = db \n",
        "    return dx \n",
        "\n"
      ],
      "metadata": {
        "id": "64Fgwilz2JbR"
      },
      "execution_count": 4,
      "outputs": []
    },
    {
      "cell_type": "code",
      "source": [
        "# soft max with loss 계층\n",
        "#소프트 맥스함수와 교차 엔트로피 오차는 하나의 계층으로 구현할 것\n"
      ],
      "metadata": {
        "id": "QO_amO3tkua3"
      },
      "execution_count": 5,
      "outputs": []
    },
    {
      "cell_type": "code",
      "source": [
        "# SGD구현\n",
        "class SGD:\n",
        "  def __init__(self, lr=0.01):\n",
        "    self.lr = lr\n",
        "  \n",
        "  def update(self, params, grads):\n",
        "    for i in range(len(params)):\n",
        "      params[i] -= self.lr * grads[i]\n",
        "      "
      ],
      "metadata": {
        "id": "eJGMzkKyOxKY"
      },
      "execution_count": 6,
      "outputs": []
    },
    {
      "cell_type": "code",
      "source": [
        ""
      ],
      "metadata": {
        "id": "EMKT6xQlO-zt"
      },
      "execution_count": 10,
      "outputs": []
    },
    {
      "cell_type": "code",
      "source": [
        "import sys\n",
        "sys.path"
      ],
      "metadata": {
        "colab": {
          "base_uri": "https://localhost:8080/"
        },
        "id": "wbJvA1-RXgNO",
        "outputId": "7b9cee48-971a-4f67-b8e1-af1f792ecd8b"
      },
      "execution_count": 1,
      "outputs": [
        {
          "output_type": "execute_result",
          "data": {
            "text/plain": [
              "['',\n",
              " '/content',\n",
              " '/env/python',\n",
              " '/usr/lib/python37.zip',\n",
              " '/usr/lib/python3.7',\n",
              " '/usr/lib/python3.7/lib-dynload',\n",
              " '/usr/local/lib/python3.7/dist-packages',\n",
              " '/usr/lib/python3/dist-packages',\n",
              " '/usr/local/lib/python3.7/dist-packages/IPython/extensions',\n",
              " '/root/.ipython']"
            ]
          },
          "metadata": {},
          "execution_count": 1
        }
      ]
    },
    {
      "cell_type": "code",
      "source": [
        "\n",
        "sys.path.append('/content/deep-learning-from-scratch-2')"
      ],
      "metadata": {
        "id": "eh1thlxMZIzw"
      },
      "execution_count": 5,
      "outputs": []
    },
    {
      "cell_type": "code",
      "source": [
        "!pip install dataset"
      ],
      "metadata": {
        "colab": {
          "base_uri": "https://localhost:8080/"
        },
        "id": "XJCDCxFjXxBV",
        "outputId": "1413a654-bec1-4cee-d962-8d1536aa6978"
      },
      "execution_count": 15,
      "outputs": [
        {
          "output_type": "stream",
          "name": "stdout",
          "text": [
            "Collecting dataset\n",
            "  Downloading dataset-1.5.2-py2.py3-none-any.whl (18 kB)\n",
            "Collecting banal>=1.0.1\n",
            "  Downloading banal-1.0.6-py2.py3-none-any.whl (6.1 kB)\n",
            "Requirement already satisfied: sqlalchemy>=1.3.2 in /usr/local/lib/python3.7/dist-packages (from dataset) (1.4.31)\n",
            "Collecting alembic>=0.6.2\n",
            "  Downloading alembic-1.7.6-py3-none-any.whl (210 kB)\n",
            "\u001b[K     |████████████████████████████████| 210 kB 5.2 MB/s \n",
            "\u001b[?25hRequirement already satisfied: importlib-resources in /usr/local/lib/python3.7/dist-packages (from alembic>=0.6.2->dataset) (5.4.0)\n",
            "Requirement already satisfied: importlib-metadata in /usr/local/lib/python3.7/dist-packages (from alembic>=0.6.2->dataset) (4.11.1)\n",
            "Collecting Mako\n",
            "  Downloading Mako-1.1.6-py2.py3-none-any.whl (75 kB)\n",
            "\u001b[K     |████████████████████████████████| 75 kB 3.4 MB/s \n",
            "\u001b[?25hRequirement already satisfied: greenlet!=0.4.17 in /usr/local/lib/python3.7/dist-packages (from sqlalchemy>=1.3.2->dataset) (1.1.2)\n",
            "Requirement already satisfied: zipp>=0.5 in /usr/local/lib/python3.7/dist-packages (from importlib-metadata->alembic>=0.6.2->dataset) (3.7.0)\n",
            "Requirement already satisfied: typing-extensions>=3.6.4 in /usr/local/lib/python3.7/dist-packages (from importlib-metadata->alembic>=0.6.2->dataset) (3.10.0.2)\n",
            "Requirement already satisfied: MarkupSafe>=0.9.2 in /usr/local/lib/python3.7/dist-packages (from Mako->alembic>=0.6.2->dataset) (2.0.1)\n",
            "Installing collected packages: Mako, banal, alembic, dataset\n",
            "Successfully installed Mako-1.1.6 alembic-1.7.6 banal-1.0.6 dataset-1.5.2\n"
          ]
        }
      ]
    },
    {
      "cell_type": "code",
      "source": [
        "from dataset import spiral  "
      ],
      "metadata": {
        "id": "EowZsxxCXrQ9"
      },
      "execution_count": 6,
      "outputs": []
    },
    {
      "cell_type": "code",
      "source": [
        "import matplotlib.pyplot as plt \n",
        "x,t = spiral.load_data()\n",
        "\n",
        "print('x', x.shape)\n",
        "print('t', t.shape)"
      ],
      "metadata": {
        "colab": {
          "base_uri": "https://localhost:8080/"
        },
        "id": "KyWC0AfiXu94",
        "outputId": "36d5dbbf-5fd3-4092-881b-a5560d7e293d"
      },
      "execution_count": 8,
      "outputs": [
        {
          "output_type": "stream",
          "name": "stdout",
          "text": [
            "x (300, 2)\n",
            "t (300, 3)\n"
          ]
        }
      ]
    },
    {
      "cell_type": "code",
      "source": [
        "from common.layers import Affine, Sigmoid, SoftmaxWithLoss\n",
        "\n",
        "class TwoLayerNet:\n",
        "  def __init__(self, input_size, hidden_size, output_size):\n",
        "    I,H,O = input_size, hidden_size, output_size \n",
        "    #가중치와 편향초기화\n",
        "    W1 = 0.01 * np.random.randn(I,H)\n",
        "    b1 = np.zeros(H)\n",
        "    W2 = 0.01 * np.random.randn(H,O)\n",
        "    b2 = np.zeros(0)\n",
        "\n",
        "    # 계층생성\n",
        "    self.layers = [Affine(W1, b1), Sigmoid(), Affine(W2,b2)]\n",
        "    self.loss_layer = SoftmaxWithLoss()\n",
        "\n",
        "    # 모든 가중치와 기울기를 리스트에 모음\n",
        "    self.params , self.grads = [], []\n",
        "    for layer in self.layers : \n",
        "      self.params += layer.params\n",
        "      self.grads += layer.grads \n",
        "\n",
        "  def predic(self, x):\n",
        "    for layer in self.layers : \n",
        "      x = layer.forward(x)\n",
        "    return x \n",
        "  \n",
        "\n",
        "  def forward(self, x, t):\n",
        "    score = self.predict(x)\n",
        "    loss = self.loss_layer.forward(score,t)\n",
        "    return loss  \n",
        "  \n",
        "  def backward(self, dout=1): \n",
        "    dout = self.loss_layer.backward(dout) \n",
        "    for layer in reversed(self.layers):\n",
        "      dout = layer.backward(dout) \n",
        "    return dout \n"
      ],
      "metadata": {
        "id": "83Zh5_MqY49C"
      },
      "execution_count": 10,
      "outputs": []
    },
    {
      "cell_type": "code",
      "source": [
        "# 학습용 코드\n"
      ],
      "metadata": {
        "id": "R8Cnx9m8e4xa"
      },
      "execution_count": null,
      "outputs": []
    },
    {
      "cell_type": "markdown",
      "source": [
        "# ch2. 자연어와 단어의 분산 표현 "
      ],
      "metadata": {
        "id": "SB_WL3m1fl1j"
      }
    },
    {
      "cell_type": "code",
      "source": [
        "# 단어의 의미 이해시키기\n",
        "# 1. 시소러스를 활용한 기법(유의어 사전활용)\n",
        "# 2. 통계 기반기법\n",
        "# 3. 추론기반기법(word2vec)\n"
      ],
      "metadata": {
        "id": "XC4ZbVG-fpL7"
      },
      "execution_count": 11,
      "outputs": []
    },
    {
      "cell_type": "code",
      "source": [
        "# 1.시로러스 활용\n",
        "# car=auto = automobile machine \n",
        "# 단어사이의 연결을 정의\n",
        "# 단어 네트워크를 이용하여 컴퓨터에게 단어 사이의 관계를 가르침\n",
        "# 워드넷 : 자연어 처리 분야에서 가장 유명한 시소러스/ 프린스턴 대학에서 1985년부터 구축하기 시작\n",
        "# 유의어를 얻거나 단어 네트워크를 이용할 수 있음\n",
        "# NLKT모듈을 설치하고 간단한 실험을 해볼예정\n",
        "# 시소러스의 문제점 : 단어의 의미를 사람이 수작업으로 레이블링하는 방식 : 시대변화에 대응하기 어려움, 사람을 쓰는 비용이 큼, 단어의 미묘한 차이를 표현할 수 없음(레트로, 빈티지)\n"
      ],
      "metadata": {
        "id": "StkHTKjmgEAd"
      },
      "execution_count": 13,
      "outputs": []
    },
    {
      "cell_type": "code",
      "source": [
        "# 2.통계 기반 기법\n",
        "# 말뭉치(CORPUS)\n",
        "# "
      ],
      "metadata": {
        "id": "FHQ_Mj6eg5cN"
      },
      "execution_count": 14,
      "outputs": []
    },
    {
      "cell_type": "code",
      "source": [
        "# 파이썬으로 말뭉치 전처리하기\n",
        "text= 'you say goodbye and i say hello.'\n",
        "text=text.lower()\n",
        "text= text.replace('.',' .')\n",
        "text"
      ],
      "metadata": {
        "colab": {
          "base_uri": "https://localhost:8080/",
          "height": 35
        },
        "id": "qBSJE270hAFQ",
        "outputId": "8586a04e-f8f3-4ba4-e437-4e6fe2ff5ae6"
      },
      "execution_count": 15,
      "outputs": [
        {
          "output_type": "execute_result",
          "data": {
            "application/vnd.google.colaboratory.intrinsic+json": {
              "type": "string"
            },
            "text/plain": [
              "'you say goodbye and i say hello .'"
            ]
          },
          "metadata": {},
          "execution_count": 15
        }
      ]
    },
    {
      "cell_type": "code",
      "source": [
        "words = text.split(' ')"
      ],
      "metadata": {
        "id": "9zdyeKEAgow6"
      },
      "execution_count": 16,
      "outputs": []
    },
    {
      "cell_type": "code",
      "source": [
        "words"
      ],
      "metadata": {
        "colab": {
          "base_uri": "https://localhost:8080/"
        },
        "id": "wDp1x4sHhOy3",
        "outputId": "3f77c78a-4d44-46d4-a864-cb98aed6a96e"
      },
      "execution_count": 17,
      "outputs": [
        {
          "output_type": "execute_result",
          "data": {
            "text/plain": [
              "['you', 'say', 'goodbye', 'and', 'i', 'say', 'hello', '.']"
            ]
          },
          "metadata": {},
          "execution_count": 17
        }
      ]
    },
    {
      "cell_type": "code",
      "source": [
        "word_to_id ={}\n",
        "id_to_word = {}\n",
        "for word in words:\n",
        "  if word not in word_to_id:\n",
        "    new_id = len(word_to_id) \n",
        "    word_to_id[word] = new_id \n",
        "    id_to_word[new_id] = word "
      ],
      "metadata": {
        "id": "fCP3BdZohPUZ"
      },
      "execution_count": 19,
      "outputs": []
    },
    {
      "cell_type": "code",
      "source": [
        "id_to_word"
      ],
      "metadata": {
        "colab": {
          "base_uri": "https://localhost:8080/"
        },
        "id": "Yj0T23dhhiI_",
        "outputId": "e5b26db0-fabf-4a90-8a35-bfa6c604c405"
      },
      "execution_count": 20,
      "outputs": [
        {
          "output_type": "execute_result",
          "data": {
            "text/plain": [
              "{0: 'you', 1: 'say', 2: 'goodbye', 3: 'and', 4: 'i', 5: 'hello', 6: '.'}"
            ]
          },
          "metadata": {},
          "execution_count": 20
        }
      ]
    },
    {
      "cell_type": "code",
      "source": [
        "word_to_id"
      ],
      "metadata": {
        "colab": {
          "base_uri": "https://localhost:8080/"
        },
        "id": "q9tQonUJhnFz",
        "outputId": "e977a3ee-6854-439e-c74e-e52e1eaf841b"
      },
      "execution_count": 21,
      "outputs": [
        {
          "output_type": "execute_result",
          "data": {
            "text/plain": [
              "{'.': 6, 'and': 3, 'goodbye': 2, 'hello': 5, 'i': 4, 'say': 1, 'you': 0}"
            ]
          },
          "metadata": {},
          "execution_count": 21
        }
      ]
    },
    {
      "cell_type": "code",
      "source": [
        ""
      ],
      "metadata": {
        "id": "1PhA5UJjhobX"
      },
      "execution_count": null,
      "outputs": []
    }
  ]
}