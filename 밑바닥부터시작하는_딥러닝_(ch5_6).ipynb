{
  "nbformat": 4,
  "nbformat_minor": 0,
  "metadata": {
    "colab": {
      "name": "밑바닥부터시작하는 딥러닝 (ch5-6).ipynb",
      "provenance": [],
      "collapsed_sections": [],
      "machine_shape": "hm",
      "authorship_tag": "ABX9TyPOoJRycT9zHg+PElDZka/1",
      "include_colab_link": true
    },
    "kernelspec": {
      "name": "python3",
      "display_name": "Python 3"
    },
    "language_info": {
      "name": "python"
    },
    "accelerator": "TPU"
  },
  "cells": [
    {
      "cell_type": "markdown",
      "metadata": {
        "id": "view-in-github",
        "colab_type": "text"
      },
      "source": [
        "<a href=\"https://colab.research.google.com/github/jaekyoungkim/floor_DL/blob/main/%EB%B0%91%EB%B0%94%EB%8B%A5%EB%B6%80%ED%84%B0%EC%8B%9C%EC%9E%91%ED%95%98%EB%8A%94_%EB%94%A5%EB%9F%AC%EB%8B%9D_(ch5_6).ipynb\" target=\"_parent\"><img src=\"https://colab.research.google.com/assets/colab-badge.svg\" alt=\"Open In Colab\"/></a>"
      ]
    },
    {
      "cell_type": "code",
      "execution_count": 7,
      "metadata": {
        "colab": {
          "base_uri": "https://localhost:8080/"
        },
        "id": "nDmkiOlw3H_t",
        "outputId": "6b10a709-2756-48a3-c586-2077717258d4"
      },
      "outputs": [
        {
          "output_type": "stream",
          "name": "stdout",
          "text": [
            "Cloning into 'deeplearning_from_scratch'...\n",
            "remote: Enumerating objects: 405, done.\u001b[K\n",
            "remote: Total 405 (delta 0), reused 0 (delta 0), pack-reused 405\u001b[K\n",
            "Receiving objects: 100% (405/405), 58.06 MiB | 40.89 MiB/s, done.\n",
            "Resolving deltas: 100% (74/74), done.\n"
          ]
        }
      ],
      "source": [
        "!git clone https://github.com/youbeebee/deeplearning_from_scratch"
      ]
    },
    {
      "cell_type": "markdown",
      "source": [
        "# ch 5. 오차역전파법 "
      ],
      "metadata": {
        "id": "VPlNiXsY3mUP"
      }
    },
    {
      "cell_type": "code",
      "source": [
        "# 앞장에서 신경망의 가중치 매개변수의 기울기는 수치미분을 사용해 계산함\n",
        "# 수치 미분은 단순하고 구현하기도 쉽지만 계산시간이 오래걸린다는게 단점 \n",
        "# 가중치 매개변수의 기울기를 효율적으로 계산하는 오차역전파법\n",
        "# 계산 그래프를 사용하는 이유 : 전체가 아무리 복잡해도 각 노드에서는 단순한 계산에 집주앟여 문제를 단순화 시킬 수 있음 + 중간결과 저장가능 + 역전파 통해 미분을 효율적으로 계산\n",
        "# 연쇄법칙 "
      ],
      "metadata": {
        "id": "6cx21iTS3Mob"
      },
      "execution_count": null,
      "outputs": []
    },
    {
      "cell_type": "code",
      "source": [
        "# 사과쇼핑 예를 파이썬으로 구현하기\n",
        "# 모든 게층은 forward() backward() 라는 공통의 메서드를 갖도록 구현함\n",
        "# forward 순전파, backward 역전파\n",
        "# 곱셈 계층은 mullayer\n",
        "class MuLayer:\n",
        "  def __init__(self): # x,y,를 초기화\n",
        "    self.x = None\n",
        "    self.y = None\n",
        "  \n",
        "  def forward(self, x, y):\n",
        "    self.x = x\n",
        "    self.y = y\n",
        "    out = x * y\n",
        "    return out\n",
        "  \n",
        "  def backward(self, dout):\n",
        "    dx = dout * self.y\n",
        "    dy = dout * self.x\n",
        "    return dx, dy"
      ],
      "metadata": {
        "id": "JY0nJbXL3NwG"
      },
      "execution_count": null,
      "outputs": []
    },
    {
      "cell_type": "code",
      "source": [
        "apple = 100\n",
        "apple_num =2 \n",
        "tax = 1.1\n",
        "\n",
        "# 계층들\n",
        "mul_apple_layer = MuLayer()\n",
        "mul_tax_layer = MuLayer()\n",
        "\n",
        "# 순전파\n",
        "apple_price = mul_apple_layer.forward(apple, apple_num)\n",
        "price = mul_tax_layer.forward(apple_price, tax)\n",
        "\n",
        "print(price)"
      ],
      "metadata": {
        "colab": {
          "base_uri": "https://localhost:8080/"
        },
        "id": "jBJi-i0v3OT4",
        "outputId": "3da2c335-e0b8-4c8c-f7a9-1c7491d18902"
      },
      "execution_count": null,
      "outputs": [
        {
          "output_type": "stream",
          "name": "stdout",
          "text": [
            "220.00000000000003\n"
          ]
        }
      ]
    },
    {
      "cell_type": "code",
      "source": [
        "# 역전파\n",
        "dprice = 1\n",
        "dapple_price, dtax = mul_tax_layer.backward(dprice)\n",
        "dapple, dapple_num = mul_apple_layer.backward(dapple_price)\n",
        "\n",
        "print(dapple, dapple_num, dtax)"
      ],
      "metadata": {
        "colab": {
          "base_uri": "https://localhost:8080/"
        },
        "id": "9g9zBHVd3QD-",
        "outputId": "a66ca966-45f6-4de0-8519-f65fff6a7ade"
      },
      "execution_count": null,
      "outputs": [
        {
          "output_type": "stream",
          "name": "stdout",
          "text": [
            "2.2 110.00000000000001 200\n"
          ]
        }
      ]
    },
    {
      "cell_type": "code",
      "source": [
        "# 덧셈계층\n",
        "class AddLayer:\n",
        "  def __init__(self):  # 덧셈 계층에서는 초기화가 필요없음 아무일도 안함\n",
        "    pass\n",
        "  \n",
        "  def forward(self, x, y):\n",
        "    out = x+y\n",
        "    return out \n",
        "  \n",
        "  def backward(self, dout): \n",
        "    dx = dout * 1 \n",
        "    dy = dout * 1\n",
        "    return dx, dy"
      ],
      "metadata": {
        "id": "LclqJ3Mx3Uut"
      },
      "execution_count": null,
      "outputs": []
    },
    {
      "cell_type": "code",
      "source": [
        "# 사과 2개, 귤3개구입에 대한 역전파\n",
        "apple = 100\n",
        "apple_num =2 \n",
        "orange = 150\n",
        "orange_num = 3\n",
        "tax = 1.1\n",
        "\n",
        "# 계층들\n",
        "mul_apple_layer = MuLayer()\n",
        "mul_orange_layer = MuLayer()\n",
        "add_apple_orange_layer =AddLayer()\n",
        "mul_tax_layer = MuLayer()\n",
        "\n",
        "# 순전파\n",
        "apple_price = mul_apple_layer.forward(apple, apple_num)\n",
        "orange_price = mul_orange_layer.forward(orange, orange_num)\n",
        "all_price = add_apple_orange_layer.forward(apple_price, orange_price)\n",
        "price = mul_tax_layer.forward(all_price, tax)\n",
        "\n",
        "# 역전파\n",
        "dprice = 1\n",
        "dall_price , dtax = mul_tax_layer.backward(dprice)\n",
        "dapple_price, dorange_price =add_apple_orange_layer.backward(dall_price)\n",
        "dorange, dorange_num = mul_orange_layer.backward(dorange_price)\n",
        "dapple, dapple_num = mul_apple_layer.backward(dapple_price)\n",
        "\n",
        "print(price)\n",
        "print(dapple_num, dapple, dorange, dorange_num, dtax)"
      ],
      "metadata": {
        "colab": {
          "base_uri": "https://localhost:8080/"
        },
        "id": "6LO0v_fY3WG5",
        "outputId": "5ef18b57-152a-4b7d-e0e1-c1936cd75aad"
      },
      "execution_count": null,
      "outputs": [
        {
          "output_type": "stream",
          "name": "stdout",
          "text": [
            "715.0000000000001\n",
            "110.00000000000001 2.2 3.3000000000000003 165.0 650\n"
          ]
        }
      ]
    },
    {
      "cell_type": "code",
      "source": [
        "# 활성화 함수 계층 구성하기\n",
        "# 1. relu\n",
        "# x > 0 : 역전파는 상류의 값을 그대로 하류로 흘림\n",
        "# x < 0 : 역전파는 하류로 신호를 보내지 않음\n",
        "class Relu:\n",
        "  def __init__(self):\n",
        "    self.mask = None  #  true, false로 구성된 넘파이 배열 \n",
        "  \n",
        "  def forward(self, x):\n",
        "    self.mask = (x<=0) # x 0이하는 true, 0 초과는 FALSE\n",
        "    out = x.copy()\n",
        "    out[self.mask] = 0 \n",
        "    return out\n",
        "  \n",
        "  def backward(self, dout):\n",
        "    dout[self.mask] = 0 \n",
        "    dx = dout\n",
        "    return dx "
      ],
      "metadata": {
        "id": "lEXRHGhe3XEB"
      },
      "execution_count": null,
      "outputs": []
    },
    {
      "cell_type": "code",
      "source": [
        "import numpy as np\n",
        "x = np.array([[1.0, 0.5], [-2.0, 3.0]])\n",
        "print(x)\n",
        "\n",
        "mask = (x <= 0)\n",
        "print(mask) "
      ],
      "metadata": {
        "colab": {
          "base_uri": "https://localhost:8080/"
        },
        "id": "eFuKQUsC3ej1",
        "outputId": "05da741c-d01e-4f0a-e059-5fa16928e00c"
      },
      "execution_count": null,
      "outputs": [
        {
          "output_type": "stream",
          "name": "stdout",
          "text": [
            "[[ 1.   0.5]\n",
            " [-2.   3. ]]\n",
            "[[False False]\n",
            " [ True False]]\n"
          ]
        }
      ]
    },
    {
      "cell_type": "code",
      "source": [
        "# 2. sigmoid 계층\n",
        "# x-> y  : y^2 * exp(-x) 가 하류 노드로 전파됨  / y(1-y):순전파의 출력(y)만으로 계산할수도있음\n",
        "class Sigmoid:\n",
        "  def __init__(self):\n",
        "    self.out = None\n",
        "  \n",
        "  def forward(self, x):\n",
        "    out = 1/(1+np.exp(-x))\n",
        "    self.out = out \n",
        "    return out\n",
        "  \n",
        "  def backward(self, dout):\n",
        "    dx = dout * (1.0 - self.out) * self.out\n",
        "    return dx\n",
        "\n"
      ],
      "metadata": {
        "id": "JDcoBNeu3fn5"
      },
      "execution_count": null,
      "outputs": []
    },
    {
      "cell_type": "code",
      "source": [
        "# Affine / softmax계층 구현하기\n",
        "# 1. affine 계층\n",
        "# 신경망의 순전파때 수행하는 행렬의 곱은 기하학에서는 어파인 변환이라고 함\n",
        "\n"
      ],
      "metadata": {
        "id": "W9RmkHYQ3kdz"
      },
      "execution_count": null,
      "outputs": []
    },
    {
      "cell_type": "code",
      "source": [
        "# 배치용 affine 계층\n",
        "# 입력데이터로 x하나만을 고려하지 않고, 데이터 n개를 묶어 순전파하는경우(묶은 데이터를 배치라고 함)\n",
        "x_dot_W = np.array([[0,0,0], [10,10,10]])\n",
        "B = np.array([1,2,3])\n",
        "\n",
        "x_dot_W "
      ],
      "metadata": {
        "colab": {
          "base_uri": "https://localhost:8080/"
        },
        "id": "Uyih8i6z69bQ",
        "outputId": "48e48875-609b-4d3a-ee54-3a96e5a84978"
      },
      "execution_count": null,
      "outputs": [
        {
          "output_type": "execute_result",
          "data": {
            "text/plain": [
              "array([[ 0,  0,  0],\n",
              "       [10, 10, 10]])"
            ]
          },
          "metadata": {},
          "execution_count": 4
        }
      ]
    },
    {
      "cell_type": "code",
      "source": [
        "x_dot_W + B"
      ],
      "metadata": {
        "colab": {
          "base_uri": "https://localhost:8080/"
        },
        "id": "VQd5J1su7pzB",
        "outputId": "def661f2-318f-4abf-c528-af61610cfbe4"
      },
      "execution_count": null,
      "outputs": [
        {
          "output_type": "execute_result",
          "data": {
            "text/plain": [
              "array([[ 1,  2,  3],\n",
              "       [11, 12, 13]])"
            ]
          },
          "metadata": {},
          "execution_count": 5
        }
      ]
    },
    {
      "cell_type": "code",
      "source": [
        "dY = np.array([[1,2,3], [4,5,6]])\n",
        "dY"
      ],
      "metadata": {
        "colab": {
          "base_uri": "https://localhost:8080/"
        },
        "id": "65tSdrjH7uF-",
        "outputId": "f42cb1a9-47ec-4c5b-d183-fc434f824ca4"
      },
      "execution_count": null,
      "outputs": [
        {
          "output_type": "execute_result",
          "data": {
            "text/plain": [
              "array([[1, 2, 3],\n",
              "       [4, 5, 6]])"
            ]
          },
          "metadata": {},
          "execution_count": 6
        }
      ]
    },
    {
      "cell_type": "code",
      "source": [
        "dB = np.sum(dY, axis=0); dB # 같은 위치에 있는 원소끼리 합쳐줌, 0 번째 축으로 합치기\n",
        "# 편향의 역전파는 n=2라고 가정하면, 그 두 데이터에 대한 미분을 데이터마다 더해수 구함"
      ],
      "metadata": {
        "colab": {
          "base_uri": "https://localhost:8080/"
        },
        "id": "GVf6IkJ871Y_",
        "outputId": "7623b325-bf05-4a8f-b5d7-e7c19f35a5bd"
      },
      "execution_count": null,
      "outputs": [
        {
          "output_type": "execute_result",
          "data": {
            "text/plain": [
              "array([5, 7, 9])"
            ]
          },
          "metadata": {},
          "execution_count": 8
        }
      ]
    },
    {
      "cell_type": "code",
      "source": [
        "np.sum(dY, axis=1) # 1번째 축으로 합치기"
      ],
      "metadata": {
        "colab": {
          "base_uri": "https://localhost:8080/"
        },
        "id": "kgBuf5Tj753y",
        "outputId": "29037718-cf94-4ce9-8d45-8d19a83b309e"
      },
      "execution_count": null,
      "outputs": [
        {
          "output_type": "execute_result",
          "data": {
            "text/plain": [
              "array([ 6, 15])"
            ]
          },
          "metadata": {},
          "execution_count": 9
        }
      ]
    },
    {
      "cell_type": "code",
      "source": [
        "def softmax(a):\n",
        "    c = np.max(a)\n",
        "    exp_a = np.exp(a - c)  # 오버플로 대책\n",
        "    sum_exp_a = np.sum(exp_a)\n",
        "    y = exp_a / sum_exp_a\n",
        "\n",
        "    return y\n",
        "\n",
        "\n",
        "def cross_entropy_error(y, t):\n",
        "    delta = 1e-7  # 0일때 -무한대가 되지 않기 위해 작은 값을 더함\n",
        "    return -np.sum(t * np.log(y + delta))\n"
      ],
      "metadata": {
        "id": "gz7Z8oQhDfbX"
      },
      "execution_count": null,
      "outputs": []
    },
    {
      "cell_type": "code",
      "source": [
        "class Affine:\n",
        "  def __init__(self, W, b):\n",
        "    self.W = W\n",
        "    self.b = b\n",
        "    self.x = None\n",
        "    self.dW = None\n",
        "    self.db = None\n",
        "\n",
        "  def forward(self,x):\n",
        "    self.x = x\n",
        "    out = np.dot(x, self.W) + self.b\n",
        "    return out\n",
        "\n",
        "  def backward(self, dout):\n",
        "    dx = np.dot(dout, self.W.T)  # x에대한 역전파\n",
        "    self.dW = np.dot(self.x.T, dout) #w에대한 역전파\n",
        "    self.db = np.sum(dout, axis= 0) # 배치결과들을 합치기\n",
        "    return dx"
      ],
      "metadata": {
        "id": "LIHbxQgT8AuE"
      },
      "execution_count": null,
      "outputs": []
    },
    {
      "cell_type": "code",
      "source": [
        "# 2. softmax-with-loss 계층\n",
        "# 소프트맥스 함수는 입력값을 정규화하여 출력함\n",
        "class SoftmaxWithLoss:\n",
        "  def __init__(self):\n",
        "    self.loss = None\n",
        "    self.y = None\n",
        "    self.t = None\n",
        "  \n",
        "  def forward(self, x, t):\n",
        "    self.t = t\n",
        "    self.y = softmax(t)\n",
        "    self.loss = cross_entropy_error(self.y , self.t)\n",
        "    return self.loss\n",
        "  \n",
        "  def backward(self, dout=1):\n",
        "    batch_size = self.t.shape[0]\n",
        "    dx = (self.y - self.t) / batch_size # 전파하는 값을 배치의 수로 나눠서 데이터 1개당 오차를 앞 계층으로 전파함\n",
        "    return dx\n"
      ],
      "metadata": {
        "id": "I9C0JS5V9XWb"
      },
      "execution_count": null,
      "outputs": []
    },
    {
      "cell_type": "code",
      "source": [
        "# 오차역전파 구현하기\n",
        "# 수치미분은 구현하기는 쉽지만 계산이 오래 걸림 -> 오차역전파법을 이용하면 느린 수치미분과 달리 기울기를 효율적으로 빠르게 구할 수 있음\n",
        "# numerical_gradient : 수치미분방식\n",
        "# gradient : 오차역전파법"
      ],
      "metadata": {
        "id": "KphKMjM9Cu3t"
      },
      "execution_count": null,
      "outputs": []
    },
    {
      "cell_type": "code",
      "source": [
        "import sys , os\n",
        "#sys.path.append('/content/deeplearning_from_scratch/common')\n",
        "sys.path.append('/content/deeplearning_from_scratch/')\n",
        "import numpy as np \n",
        "from common.layers import *\n",
        "from common.gradient import numerical_gradient\n",
        "from collections import OrderedDict"
      ],
      "metadata": {
        "id": "ek3ON5McJzqB"
      },
      "execution_count": null,
      "outputs": []
    },
    {
      "cell_type": "code",
      "source": [
        "class TwoLayerNet:\n",
        "  def __init__(self, input_size, hidden_size, output_size, weight_init_std= 0.01):\n",
        "    self.params = {}\n",
        "    self.params['W1'] = weight_init_std * np.random.randn(input_size , hidden_size)\n",
        "    self.params['b1'] = np.zeros(hidden_size)\n",
        "    self.params['W2'] = weight_init_std * np.random.randn(hidden_size, output_size)\n",
        "    self.params['b2'] = np.zeros(output_size)\n",
        "\n",
        "    #계층생성 \n",
        "    self.layers = OrderedDict() # 순서가 있는 딕셔너리 \n",
        "    # 순전파때는 추가한 순서대로 각 계층에 forward메서드를 호출하기만 하면 됨\n",
        "    # 역전파때는 계층을 반대 순서로 호출하면됨\n",
        "    self.layers['Affine1'] = Affine(self.params['W1'], self.params['b1'])\n",
        "    self.layers['Relu1'] = Relu()\n",
        "    self.layers['Affine2'] = Affine(self.params['W2'], self.params['b2'])\n",
        "    self.lastlayer = SoftmaxWithLoss()\n",
        "\n",
        "  def predict(self,x): #예측\n",
        "    for layer in self.layers.values():\n",
        "      x = layer.forward(x)\n",
        "    \n",
        "    return x\n",
        "\n",
        "  # x 입력데이터, t 정답 레이블\n",
        "  def loss(self, x, t):\n",
        "    y= self.predict(x)\n",
        "    return self.lastLayer.forward(y,t)\n",
        "  \n",
        "  def accuracy(self, x, t):\n",
        "    y=self.predict(x)\n",
        "    y= np.argmax(y, axis=1)\n",
        "    if t.ndim !=1 : t= np.argmax(t, axis=1)\n",
        "\n",
        "    accuracy = np.sum(y == t) / float(x.shape[0])\n",
        "    return accuracy\n",
        "\n",
        "\n",
        "  def numerical_gradient(self, x, t):\n",
        "    loss_W = lambda W : self.loss(x,t)\n",
        "    grads = {}\n",
        "    grads['W1'] = numerical_gradient(loss_W, self.params['W1'])\n",
        "    grads['b1'] = numerical_gradient(loss_W, self.params['b1'])\n",
        "    grads['W2'] = numerical_gradient(loss_W, self.params['W2'])\n",
        "    grads['b2'] = numerical_gradient(loss_W, self.params['b2'])\n",
        "\n",
        "    return grads\n",
        "    \n",
        "\n",
        "\n",
        "  def gradient(self, x, t):\n",
        "    # 순전파\n",
        "    self.loss(x,t)\n",
        "\n",
        "    # 역전파\n",
        "    dout = 1\n",
        "    dout = self.lastLayer.backward(dout)\n",
        "    layers = list(self.layers.values())\n",
        "    layers.reverse()\n",
        "    for layer in layers:\n",
        "      dout = layer.backward(dout)\n",
        "\n",
        "    # 결과저장\n",
        "    grads = {}\n",
        "    grads['W1'] = self.layers['Affine1'].dW\n",
        "    grads['b1'] = self.layers['Affine1'].db\n",
        "    grads['W2'] = self.layers['Affine2'].dW\n",
        "    grads['b2'] = self.layers['Affine2'].db \n",
        "    \n",
        "    return grads   "
      ],
      "metadata": {
        "id": "_sH_XjZFMqGV"
      },
      "execution_count": null,
      "outputs": []
    },
    {
      "cell_type": "code",
      "source": [
        "# 오차역전파법으로 구한 기울기 검증하기\n",
        "# 1. 수치미분 \n",
        "# 2. 해석적으로 수식을 풀어 구하는 방법, 매개변수가 많아도 효율적으로 계산할 수 있음\n",
        "# 수치미분은 오차역전파법을 정확히 구현했는지 확인하기 위해 필요함\n",
        "# 수치미분의 장점은 구현하기 쉽다는 것\n",
        "# 수치미분구현에는 버그가 숨어있기 어려운반면, 오차역전파법은 구현하기 복잡해서 종종 실수를 하곤 함\n",
        "# 기울기확인 : 1,2방법의 결과가 같은지 확인"
      ],
      "metadata": {
        "id": "4NCgL1ScaY2X"
      },
      "execution_count": null,
      "outputs": []
    },
    {
      "cell_type": "code",
      "source": [
        "from dataset.mnist import load_mnist\n",
        "from common.two_layer_net import TwoLayerNet  # ch5 에 들어있는 two_layer_net 파일 common으로 옮기기"
      ],
      "metadata": {
        "id": "ZFtBX8Znex_X"
      },
      "execution_count": null,
      "outputs": []
    },
    {
      "cell_type": "code",
      "source": [
        "(x_train, t_train), (x_test, t_test) = load_mnist(normalize = True, one_hot_label = True)\n",
        "network = TwoLayerNet(input_size = 784, hidden_size = 50, output_size= 10)\n",
        "x_batch = x_train[:3]\n",
        "t_batch = t_train[:3]\n",
        "\n",
        "grad_numerical = network.numerical_gradient(x_batch, t_batch)\n",
        "grad_backprop = network.gradient(x_batch, t_batch)\n",
        "\n",
        "# 각 가중치의 차이의 절댓값을 구한 후 그 절댓값들의 평균을 구함\n",
        "for key in grad_numerical.keys():\n",
        "  diff = np.average( np.abs(grad_backprop[key] - grad_numerical[key]))\n",
        "  print(key + \":\" + str(diff))  # 차이가 매우작음을 알 수 있음"
      ],
      "metadata": {
        "colab": {
          "base_uri": "https://localhost:8080/"
        },
        "id": "eIu-fbd1hSFo",
        "outputId": "8dd65693-dbf5-4c5f-9a9f-50a706a2b304"
      },
      "execution_count": null,
      "outputs": [
        {
          "output_type": "stream",
          "name": "stdout",
          "text": [
            "W1:2.2260574784664928e-13\n",
            "b1:6.023729865606287e-13\n",
            "W2:7.829423153370412e-13\n",
            "b2:1.2034817170603062e-10\n"
          ]
        }
      ]
    },
    {
      "cell_type": "code",
      "source": [
        "# 오차역전파를 사용한 학습 구현하기\n",
        "network = TwoLayerNet(input_size = 784, hidden_size = 50, output_size=10)\n",
        "iters_num = 10000\n",
        "train_size = x_train.shape[0] ;train_size # 60000\n"
      ],
      "metadata": {
        "colab": {
          "base_uri": "https://localhost:8080/"
        },
        "id": "NSDoQByBiYUp",
        "outputId": "3a01a9ef-8982-4599-df59-99a9c84bfd12"
      },
      "execution_count": null,
      "outputs": [
        {
          "output_type": "execute_result",
          "data": {
            "text/plain": [
              "60000"
            ]
          },
          "metadata": {},
          "execution_count": 30
        }
      ]
    },
    {
      "cell_type": "code",
      "source": [
        "batch_size = 100\n",
        "learning_rate = 0.1\n",
        "train_loss_list = []\n",
        "train_acc_list = []\n",
        "test_acc_list = []\n",
        "iter_per_epoch = max(train_size / batch_size, 1)\n",
        "for i in range(iters_num):\n",
        "  batch_mask = np.random.choice(train_size, batch_size) \n",
        "  x_batch = x_train[batch_mask]\n",
        "  t_batch = t_train[batch_mask]\n",
        "\n",
        "  #오차역전파법으로 기울기 구하기\n",
        "  grad = network.gradient(x_batch, t_batch)\n",
        "\n",
        "  # 갱신\n",
        "  for key in ('W1','b1','W2','b2'):\n",
        "    network.params[key] -= learning_rate * grad[key]\n",
        "  \n",
        "  loss = network.loss(x_batch, t_batch)\n",
        "  train_loss_list.append(loss)\n",
        "\n",
        "  if i% iter_per_epoch ==0:\n",
        "    train_acc = network.accuracy(x_train, t_train)\n",
        "    test_acc = network.accuracy(x_test, t_test)\n",
        "    train_acc_list.append(train_acc)\n",
        "    test_acc_list.append(test_acc)\n",
        "    print(train_acc, test_acc)"
      ],
      "metadata": {
        "colab": {
          "base_uri": "https://localhost:8080/"
        },
        "id": "KsfA9iQRkNn8",
        "outputId": "7bd08204-9235-4791-99ae-79a4804cf57b"
      },
      "execution_count": null,
      "outputs": [
        {
          "output_type": "stream",
          "name": "stdout",
          "text": [
            "0.14916666666666667 0.1508\n",
            "0.9021666666666667 0.9051\n",
            "0.9216333333333333 0.9233\n",
            "0.9330333333333334 0.9354\n",
            "0.94485 0.9425\n",
            "0.9507166666666667 0.9488\n",
            "0.9563833333333334 0.9514\n",
            "0.9596333333333333 0.9545\n",
            "0.9636 0.9579\n",
            "0.9663333333333334 0.9608\n",
            "0.9667166666666667 0.9609\n",
            "0.9706833333333333 0.965\n",
            "0.9728 0.9657\n",
            "0.9729666666666666 0.9665\n",
            "0.9751166666666666 0.9683\n",
            "0.97425 0.9672\n",
            "0.97835 0.9711\n"
          ]
        }
      ]
    },
    {
      "cell_type": "markdown",
      "source": [
        "# ch 6. 학습 관련 기술들 "
      ],
      "metadata": {
        "id": "54k0tzYul4Zo"
      }
    },
    {
      "cell_type": "code",
      "source": [
        "# 최적화 : 신경망의 최적화는 굉장히 어려운 문제 , 매개변수 공간은 매우넓고 복잡해서 최적의 솔루션은 쉽게 못찾음\n",
        "# 매개변수 갱신\n",
        "# SGD보다 좋은 최적화 방법들을 알아보고자 함\n"
      ],
      "metadata": {
        "id": "vLPs7Syhl6RJ"
      },
      "execution_count": null,
      "outputs": []
    },
    {
      "cell_type": "code",
      "source": [
        "# 1. SGD\n",
        "class SGD:\n",
        "  def __init__(self, lr = 0.01):\n",
        "    self.lr = lr\n",
        "  \n",
        "  def update(self, params, grads):\n",
        "    for key in params.keys():\n",
        "      params[key] -= self.lr * grads[key]"
      ],
      "metadata": {
        "id": "xna-wjVVqTVH"
      },
      "execution_count": null,
      "outputs": []
    },
    {
      "cell_type": "code",
      "source": [
        "#network = TwoLayerNet(...)\n",
        "#optimizer = SGD() #  이부분을 바꾸면됨\n",
        "#for i in range(10000):\n",
        "# x_batch, t_batch = get_mini_batch(...)\n",
        "# grads = network.gradient(x+batch, t_batch)\n",
        "# params = network.params\n",
        "# optimizer.update(params, grads) \n",
        "\n",
        "# SGD의 단점 : 단순하고 구현도 쉽지만, 비등방성함수에서는 탐색경로가 비효율적 ,무작정 기울어진 방향으로 진행하는 단순한 방식"
      ],
      "metadata": {
        "id": "JpRjOfCb_Jy1"
      },
      "execution_count": null,
      "outputs": []
    },
    {
      "cell_type": "code",
      "source": [
        "# 2. Momentum (운동량)\n",
        "class Momentum():\n",
        "  def __init__(self, lr = 0.01, momentum = 0.9): # v 물체의 속도\n",
        "    self.lr = lr\n",
        "    self.momentum = momentum\n",
        "    self.v = None\n",
        "  \n",
        "  def update(self, params, grads):\n",
        "    if self.v is None:\n",
        "      self.v = {}\n",
        "      for key, val in params.items():\n",
        "        self.v[key] = np.zeros_like(val)  # 초기 array생성해줌\n",
        "      \n",
        "    for key in params.keys():\n",
        "      self.v[key] = self.momentum * self.v[key] - self.lr * grads[key]\n",
        "      params[key] += self.v[key]  # params = Weight\n"
      ],
      "metadata": {
        "id": "JZJ-2xrYBYh6"
      },
      "execution_count": null,
      "outputs": []
    },
    {
      "cell_type": "code",
      "source": [
        "# 3. AdaGrad\n",
        "# 신경망 학습에서 학습률값이 중요\n",
        "# 이 값이 너무 작으면 학습시간이 너무 길어지고, 너무크면 발산하여 학습이 제대로 이뤄지지 않음\n",
        "# 학습률을 정하는 효과적기술로 학습률 감소가 있음\n",
        "# 학습을 진행하면서 학습률을 점차 줄여가는 방법\n",
        "# 처음에는 크게 학습하다가 조금씩 작게 학습한다는 것 (실제 신경망 학습에 자주 사용됨)\n",
        "# 학습률을 서서히 낮추는 가장 간단한 방법은 매개변수 전체의 학습률 값을 일괄적으로 낮추는것\n",
        "# 각각의 매개변수에 맞춤형값을 만들어줌\n",
        "# 학습을 진행할수록 갱신강도가 약해짐 실제로 무한히 계속 학습하다보면  어느순간 갱신량이 0이되어 전혀 갱신되지 않음\n",
        "class AdaGrad:\n",
        "  def __init__(self, lr = 0.01):\n",
        "    self.lr = lr\n",
        "    self.h = None\n",
        "  def update(self , params, grads):\n",
        "    if self.h is None:\n",
        "      self.h = {}\n",
        "      for key , val in params.items():\n",
        "        self.h[key] = np.zeros_like(val)\n",
        "    for key in params.keys():\n",
        "      self.h[key] += grads[key] * grads[key]\n",
        "      params[key] -= self.lr * grads[key] / (np.sqrt(self.h[key]) + 1e-7)  # 아주 작은값을 추가로더해줌\n",
        "\n",
        "# 최솟값을 향해 효율적으로 움직임, 처음에는 크게 움직이지만 그 큰 움직임에 비례해 갱신 정도도 큰폭으로 작아지도록 조정\n",
        "# y축 방향으로 갱신속도가 빠르게 약해지고, 지그재그 움직임이 감소"
      ],
      "metadata": {
        "id": "siZAuWfpG2np"
      },
      "execution_count": 2,
      "outputs": []
    },
    {
      "cell_type": "code",
      "source": [
        "# 4. Adam\n",
        "# 모멘텀은 공이 그릇 바닥을 구르는듯함 움직임을 보였음. adagrad는 매개변수의 원소마다 적응적으로 갱신정도를 조정함\n",
        "# 2015년에 제안된 방법 , 이론은 다소 복잡하지만 직관적으로는 모멘텀과 adagrad를 융합한 방법\n",
        "# 편향보정이 진행됨\n",
        "# 모멘텀과 비슷한 패턴인데, 공의 좌우 흔들림이 적음\n",
        "# 학습의 갱신속도를 적응적으로 조정해서 얻는 혜택이 있음\n",
        "# 파라미터가 3개임 : 지금까지의 학습률, 일차모멘텀용 계수, 이차 모멘텀용 계수 (기본값은 0.9, 0.999)\n"
      ],
      "metadata": {
        "id": "1CJFTSkIv3e2"
      },
      "execution_count": 3,
      "outputs": []
    },
    {
      "cell_type": "code",
      "source": [
        "# 주로, SGD, ADAM을 사용"
      ],
      "metadata": {
        "id": "a3F819U0w9Cy"
      },
      "execution_count": 5,
      "outputs": []
    },
    {
      "cell_type": "code",
      "source": [
        "# 가중치감소 (Weight decay) : 가중치 매개변수의 값이 작아지도록 학습하는 방법, 가중치값을 작게하여 오버피팅이 일어나지 않게 하는것\n",
        "# 가중치 초깃값을 0으로 하면 학습이 올바로 이뤄지지않음\n",
        "# 이유 : 오차역전파법에서 모든 가중치의 값이 똑같이 갱신됨\n",
        "# 가중치가 고르게 되어버리는 상황을 막으려면 (가중치의 대칭적인 구조를 무너뜨리려면) 초깃값을 무작위로 설정해야함"
      ],
      "metadata": {
        "id": "qdYlNDOBx1rq"
      },
      "execution_count": 6,
      "outputs": []
    },
    {
      "cell_type": "code",
      "source": [
        "# 은닉층의 활성화값 분포\n",
        "# 가중치의 초깃값에 따라 은닉층 활성화값들이 어떻게 변하는지 실험\n",
        "# weight_init_activation_histogramp.py 참고하기\n",
        "# coding: utf-8\n",
        "import numpy as np\n",
        "import matplotlib.pyplot as plt\n",
        "\n",
        "\n",
        "def sigmoid(x):\n",
        "    return 1 / (1 + np.exp(-x))\n",
        "\n",
        "\n",
        "def ReLU(x):\n",
        "    return np.maximum(0, x)\n",
        "\n",
        "\n",
        "def tanh(x):\n",
        "    return np.tanh(x)\n"
      ],
      "metadata": {
        "id": "4vLMyFlVzgFm"
      },
      "execution_count": 12,
      "outputs": []
    },
    {
      "cell_type": "code",
      "source": [
        "hidden_layer_size"
      ],
      "metadata": {
        "colab": {
          "base_uri": "https://localhost:8080/"
        },
        "id": "Abof2jSr1hlT",
        "outputId": "c25d8850-48d4-46f5-82a6-13fb5dc8d54f"
      },
      "execution_count": 16,
      "outputs": [
        {
          "output_type": "execute_result",
          "data": {
            "text/plain": [
              "5"
            ]
          },
          "metadata": {},
          "execution_count": 16
        }
      ]
    },
    {
      "cell_type": "code",
      "source": [
        "\n",
        "######################################################\n",
        "input_data = np.random.randn(1000, 100)  # 1000개의 데이터\n",
        "node_num = 100  # 각 은닉층의 노드(뉴런) 수\n",
        "hidden_layer_size = 5  # 은닉층이 5개\n",
        "activations = {}  # 이곳에 활성화 결과를 저장\n",
        "\n",
        "x = input_data\n",
        "\n",
        "for i in range(hidden_layer_size):\n",
        "    if i != 0: # 맨첨에는 여길 안지남\n",
        "        x = activations[i-1]\n",
        "\n",
        "    # 초깃값을 다양하게 바꿔가며 실험해보자！\n",
        "    # w = np.random.randn(node_num, node_num) * 1\n",
        "    # w = np.random.randn(node_num, node_num) * 0.01\n",
        "    # w = np.random.randn(node_num, node_num) * np.sqrt(1.0 / node_num)\n",
        "    w = np.random.randn(node_num, node_num) * np.sqrt(2.0 / node_num)\n",
        "\n",
        "    a = np.dot(x, w)\n",
        "\n",
        "    # 활성화 함수도 바꿔가며 실험해보자！\n",
        "    z = sigmoid(a)\n",
        "    # z = ReLU(a)\n",
        "    # z = tanh(a)\n",
        "\n",
        "    activations[i] = z # activation의 값을 하나씩 채워나감\n",
        "\n",
        "# 히스토그램 그리기\n",
        "for i, a in activations.items(): \n",
        "    plt.subplot(1, len(activations), i+1)\n",
        "    plt.title(str(i+1) + \"-layer\")\n",
        "    if i != 0:\n",
        "        plt.yticks([], [])\n",
        "    # plt.xlim(0.1, 1)\n",
        "    # plt.ylim(0, 7000)\n",
        "    plt.hist(a.flatten(), 30, range=(0, 1))\n",
        "\n",
        "plt.show()\n"
      ],
      "metadata": {
        "colab": {
          "base_uri": "https://localhost:8080/",
          "height": 281
        },
        "id": "mCoskMWe0ihe",
        "outputId": "2aba395b-ab28-446b-9ed1-4fc73130a481"
      },
      "execution_count": 9,
      "outputs": [
        {
          "output_type": "display_data",
          "data": {
            "image/png": "[encoded data removed]",
            "text/plain": [
              "<Figure size 432x288 with 5 Axes>"
            ]
          },
          "metadata": {
            "needs_background": "light"
          }
        }
      ]
    },
    {
      "cell_type": "code",
      "source": [
        "\n",
        "######################################################\n",
        "input_data = np.random.randn(1000, 100)  # 1000개의 데이터\n",
        "node_num = 100  # 각 은닉층의 노드(뉴런) 수\n",
        "hidden_layer_size = 5  # 은닉층이 5개\n",
        "activations = {}  # 이곳에 활성화 결과를 저장\n",
        "\n",
        "x = input_data\n",
        "\n",
        "for i in range(hidden_layer_size):\n",
        "    if i != 0:\n",
        "        x = activations[i-1]\n",
        "\n",
        "    # 초깃값을 다양하게 바꿔가며 실험해보자！\n",
        "    # w = np.random.randn(node_num, node_num) * 1\n",
        "    # w = np.random.randn(node_num, node_num) * 0.01\n",
        "    w = np.random.randn(node_num, node_num) * np.sqrt(1.0 / node_num)\n",
        "    # w = np.random.randn(node_num, node_num) * np.sqrt(2.0 / node_num)\n",
        "\n",
        "    a = np.dot(x, w)\n",
        "\n",
        "    # 활성화 함수도 바꿔가며 실험해보자！\n",
        "    # z = sigmoid(a)\n",
        "    # z = ReLU(a)\n",
        "    z = tanh(a)\n",
        "\n",
        "    activations[i] = z\n",
        "\n",
        "# 히스토그램 그리기\n",
        "for i, a in activations.items():\n",
        "    plt.subplot(1, len(activations), i+1)\n",
        "    plt.title(str(i+1) + \"-layer\")\n",
        "    if i != 0:\n",
        "        plt.yticks([], [])\n",
        "    # plt.xlim(0.1, 1)\n",
        "    # plt.ylim(0, 7000)\n",
        "    plt.hist(a.flatten(), 30, range=(0, 1))\n",
        "\n",
        "plt.show()\n"
      ],
      "metadata": {
        "colab": {
          "base_uri": "https://localhost:8080/",
          "height": 281
        },
        "id": "Tv0ko4_U1HrW",
        "outputId": "8fb0bfda-0339-430d-88ed-674801b75a3d"
      },
      "execution_count": 20,
      "outputs": [
        {
          "output_type": "display_data",
          "data": {
            "image/png": "[encoded data removed]",
            "text/plain": [
              "<Figure size 432x288 with 5 Axes>"
            ]
          },
          "metadata": {
            "needs_background": "light"
          }
        }
      ]
    },
    {
      "cell_type": "code",
      "source": [
        "\n",
        "######################################################\n",
        "input_data = np.random.randn(1000, 100)  # 1000개의 데이터\n",
        "node_num = 100  # 각 은닉층의 노드(뉴런) 수\n",
        "hidden_layer_size = 5  # 은닉층이 5개\n",
        "activations = {}  # 이곳에 활성화 결과를 저장\n",
        "\n",
        "x = input_data\n",
        "\n",
        "for i in range(hidden_layer_size):\n",
        "    if i != 0:\n",
        "        x = activations[i-1]\n",
        "\n",
        "    # 초깃값을 다양하게 바꿔가며 실험해보자！\n",
        "    w = np.random.randn(node_num, node_num) * 1\n",
        "    # w = np.random.randn(node_num, node_num) * 0.01\n",
        "    # w = np.random.randn(node_num, node_num) * np.sqrt(1.0 / node_num)\n",
        "    # w = np.random.randn(node_num, node_num) * np.sqrt(2.0 / node_num)\n",
        "\n",
        "    a = np.dot(x, w)\n",
        "\n",
        "    # 활성화 함수도 바꿔가며 실험해보자！\n",
        "    z = sigmoid(a)\n",
        "    # z = ReLU(a)\n",
        "    # z = tanh(a)\n",
        "\n",
        "    activations[i] = z\n",
        "\n",
        "# 히스토그램 그리기\n",
        "for i, a in activations.items():\n",
        "    plt.subplot(1, len(activations), i+1)\n",
        "    plt.title(str(i+1) + \"-layer\")\n",
        "    if i != 0:\n",
        "        plt.yticks([], [])\n",
        "    # plt.xlim(0.1, 1)\n",
        "    # plt.ylim(0, 7000)\n",
        "    plt.hist(a.flatten(), 30, range=(0, 1))\n",
        "\n",
        "plt.show()\n",
        "# 각 층의 활성화값들이 0과 1에 치우쳐져 있음\n",
        "# 데이터가 0/1에 치우쳐분포하게되면 역전파의 기울기 값이 점점 작아지다가 사라짐(기울기 소실)\n",
        "# 층을 깊게하는 딥러닝에서는 기울기 소실은 더 심각한 문제가됨\n",
        "# "
      ],
      "metadata": {
        "colab": {
          "base_uri": "https://localhost:8080/",
          "height": 281
        },
        "id": "43VI0U842yRr",
        "outputId": "a72cfb3f-8ee5-4234-b875-34d287892417"
      },
      "execution_count": 21,
      "outputs": [
        {
          "output_type": "display_data",
          "data": {
            "image/png": "[encoded data removed]",
            "text/plain": [
              "<Figure size 432x288 with 5 Axes>"
            ]
          },
          "metadata": {
            "needs_background": "light"
          }
        }
      ]
    },
    {
      "cell_type": "code",
      "source": [
        "\n",
        "######################################################\n",
        "# 표준편차를 0.01로 바꿈\n",
        "input_data = np.random.randn(1000, 100)  # 1000개의 데이터\n",
        "node_num = 100  # 각 은닉층의 노드(뉴런) 수\n",
        "hidden_layer_size = 5  # 은닉층이 5개\n",
        "activations = {}  # 이곳에 활성화 결과를 저장\n",
        "\n",
        "x = input_data\n",
        "\n",
        "for i in range(hidden_layer_size):\n",
        "    if i != 0:\n",
        "        x = activations[i-1]\n",
        "\n",
        "    # 초깃값을 다양하게 바꿔가며 실험해보자！\n",
        "    # w = np.random.randn(node_num, node_num) * 1\n",
        "    w = np.random.randn(node_num, node_num) * 0.01\n",
        "    # w = np.random.randn(node_num, node_num) * np.sqrt(1.0 / node_num)\n",
        "    # w = np.random.randn(node_num, node_num) * np.sqrt(2.0 / node_num)\n",
        "\n",
        "    a = np.dot(x, w)\n",
        "\n",
        "    # 활성화 함수도 바꿔가며 실험해보자！\n",
        "    z = sigmoid(a)\n",
        "    # z = ReLU(a)\n",
        "    # z = tanh(a)\n",
        "\n",
        "    activations[i] = z\n",
        "\n",
        "# 히스토그램 그리기\n",
        "for i, a in activations.items():\n",
        "    plt.subplot(1, len(activations), i+1)\n",
        "    plt.title(str(i+1) + \"-layer\")\n",
        "    if i != 0:\n",
        "        plt.yticks([], [])\n",
        "    # plt.xlim(0.1, 1)\n",
        "    # plt.ylim(0, 7000)\n",
        "    plt.hist(a.flatten(), 30, range=(0, 1))\n",
        "\n",
        "plt.show()\n",
        "# 0.5 부근에 집중되어있음\n",
        "# 0과 1에 치우치진않지만 기울기 소실문제는 없지만, 활성화값들이 치우쳤다는것은 표현력 관점에서는 쿤문제가 있는것\n",
        "# 다수의 뉴런이 거의 같은값을 출력하고있으니 뉴런을 여러개 둔 의미가 없어짐\n",
        "# 각 층의 활성화값은 적당히 고루 분포되어야함\n",
        "# 층과 층 사이에 적당하게 다양한 데이터가 흐르게 해야 신경망학습이 효율적으로 이뤄짐\n",
        "# 반대로 치우친 데이터가 흐르면 기울기 소실이나 표현력 제한 문제에 빠져서 학습이 잘 이뤄지지않는경우가 생김\n"
      ],
      "metadata": {
        "colab": {
          "base_uri": "https://localhost:8080/",
          "height": 281
        },
        "id": "BxBjxjQLxGOm",
        "outputId": "2b498366-cd80-454f-9dbd-09ececa8bd27"
      },
      "execution_count": 24,
      "outputs": [
        {
          "output_type": "display_data",
          "data": {
            "image/png": "[encoded data removed]",
            "text/plain": [
              "<Figure size 432x288 with 5 Axes>"
            ]
          },
          "metadata": {
            "needs_background": "light"
          }
        }
      ]
    },
    {
      "cell_type": "code",
      "source": [
        "# 벤지오, 글로로트 논문에서는 권장하는 가중치 초깃값인 : xavier 초깃값을 사용\n",
        "# xavier 초깃값은 일반적인 딥러닝 프레임워크들이 표준적으로 이용하고있음\n",
        "# 카페 프레임워크는 가중치 초깃값을 설정할때 인수로 xavier로 지정할 수 있음\n",
        "# 앞 계층의 노드가 n개라면 표준편차가 1/root(n)인 분포를 사용하면 된다는 결론\n"
      ],
      "metadata": {
        "id": "NliMgV466Zoa"
      },
      "execution_count": 25,
      "outputs": []
    },
    {
      "cell_type": "code",
      "source": [
        "# xavier 초깃값을 사용하면 앞 층에 노드가 많을수록 대상 노드의 초깃값으로 설정하는 가중치가 좁게 퍼져나감\n",
        "\n",
        "######################################################\n",
        "# 표준편차를 0.01로 바꿈\n",
        "input_data = np.random.randn(1000, 100)  # 1000개의 데이터\n",
        "node_num = 100  # 각 은닉층의 노드(뉴런) 수\n",
        "hidden_layer_size = 5  # 은닉층이 5개\n",
        "activations = {}  # 이곳에 활성화 결과를 저장\n",
        "\n",
        "x = input_data\n",
        "\n",
        "for i in range(hidden_layer_size):\n",
        "    if i != 0:\n",
        "        x = activations[i-1]\n",
        "\n",
        "    # 초깃값을 다양하게 바꿔가며 실험해보자！\n",
        "    # w = np.random.randn(node_num, node_num) * 1\n",
        "    # w = np.random.randn(node_num, node_num) * 0.01\n",
        "    w = np.random.randn(node_num, node_num) / np.sqrt(node_num)  # 사비에르 초깃값\n",
        "    # w = np.random.randn(node_num, node_num) * np.sqrt(2.0 / node_num)\n",
        "\n",
        "    a = np.dot(x, w)\n",
        "\n",
        "    # 활성화 함수도 바꿔가며 실험해보자！\n",
        "    z = sigmoid(a)\n",
        "    # z = ReLU(a)\n",
        "    # z = tanh(a)\n",
        "\n",
        "    activations[i] = z\n",
        "\n",
        "# 히스토그램 그리기\n",
        "for i, a in activations.items():\n",
        "    plt.subplot(1, len(activations), i+1)\n",
        "    plt.title(str(i+1) + \"-layer\")\n",
        "    if i != 0:\n",
        "        plt.yticks([], [])\n",
        "    # plt.xlim(0.1, 1)\n",
        "    # plt.ylim(0, 7000)\n",
        "    plt.hist(a.flatten(), 30, range=(0, 1))\n",
        "\n",
        "plt.show()\n",
        "# 층이 깊어지면서 갈수록 약간씩 일그러지고있음\n",
        "# 앞에서 본 방식보다는 확실히 넓게 분포함\n",
        "# 각층에 흐르는 데이터는 적당히 퍼져있으므로, 시그모이드 함수의 표현력도 제한받지 않음\n"
      ],
      "metadata": {
        "colab": {
          "base_uri": "https://localhost:8080/",
          "height": 281
        },
        "id": "iTQFik-w7iIU",
        "outputId": "868b1df6-133a-4487-ccbe-409c1130d573"
      },
      "execution_count": 28,
      "outputs": [
        {
          "output_type": "display_data",
          "data": {
            "image/png": "[encoded data removed]",
            "text/plain": [
              "<Figure size 432x288 with 5 Axes>"
            ]
          },
          "metadata": {
            "needs_background": "light"
          }
        }
      ]
    },
    {
      "cell_type": "code",
      "source": [
        "# HE초깃값\n",
        "# Sigmoid, tanh함수는 좌우대칭이라 중앙부근이 선형인 함수로 볼수있음\n",
        "# RELU를 사용할때는 이에 특화된 초깃값을 이용하라고 권장함 > he초깃값\n",
        "# 모든층에서 균일하게 분포함을 확인, 층이 깊어져도 분포가 균일하게 유지되기에 역전파 할때도 적절한 값이 나올것으로 기대됨\n"
      ],
      "metadata": {
        "id": "GlNzmONRtthl"
      },
      "execution_count": 30,
      "outputs": []
    },
    {
      "cell_type": "code",
      "source": [
        "# RELU => HE 초기값\n",
        "# Sigmoid, tanh => xavier 초기값"
      ],
      "metadata": {
        "id": "DyKaKt5BBJCF"
      },
      "execution_count": 31,
      "outputs": []
    },
    {
      "cell_type": "code",
      "source": [
        "# 배치정규화\n",
        "# 각층이 활성화를 적당히 퍼뜨리도록 강제하기\n",
        "# 2015년에 제안된 방법\n",
        "# 나온지 얼마 안된 기법임에도 많은 연구자와 기술자가 즐겨 사용하고있음\n",
        "# 학습을 빨리 진행할수있다(학습속도개선) + 초깃값에 크게 의존하지않음 + 오버피팅을 억제(드롭아웃등의 필요성 감소)\n"
      ],
      "metadata": {
        "id": "ymN6gww7BPRY"
      },
      "execution_count": null,
      "outputs": []
    }
  ]
}