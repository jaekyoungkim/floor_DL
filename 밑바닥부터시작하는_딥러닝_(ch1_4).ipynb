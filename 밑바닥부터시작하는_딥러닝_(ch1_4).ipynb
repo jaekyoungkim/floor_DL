{
  "nbformat": 4,
  "nbformat_minor": 0,
  "metadata": {
    "colab": {
      "name": "밑바닥부터시작하는 딥러닝 (ch1-4).ipynb",
      "provenance": [],
      "collapsed_sections": [],
      "toc_visible": true,
      "machine_shape": "hm",
      "authorship_tag": "ABX9TyMhlbCdZ9UkKHbSzef5nGza",
      "include_colab_link": true
    },
    "kernelspec": {
      "name": "python3",
      "display_name": "Python 3"
    },
    "language_info": {
      "name": "python"
    },
    "accelerator": "GPU"
  },
  "cells": [
    {
      "cell_type": "markdown",
      "metadata": {
        "id": "view-in-github",
        "colab_type": "text"
      },
      "source": [
        "<a href=\"https://colab.research.google.com/github/jaekyoungkim/floor_DL/blob/main/%EB%B0%91%EB%B0%94%EB%8B%A5%EB%B6%80%ED%84%B0%EC%8B%9C%EC%9E%91%ED%95%98%EB%8A%94_%EB%94%A5%EB%9F%AC%EB%8B%9D_(ch1_4).ipynb\" target=\"_parent\"><img src=\"https://colab.research.google.com/assets/colab-badge.svg\" alt=\"Open In Colab\"/></a>"
      ]
    },
    {
      "cell_type": "markdown",
      "source": [
        "# CH1 . 헬로 파이썬 "
      ],
      "metadata": {
        "id": "I33CEqf807Wr"
      }
    },
    {
      "cell_type": "code",
      "source": [
        "!git clone https://github.com/youbeebee/deeplearning_from_scratch"
      ],
      "metadata": {
        "colab": {
          "base_uri": "https://localhost:8080/"
        },
        "id": "eN1-N3kHXPpv",
        "outputId": "3b61bd5c-ca92-4524-e00b-7bb966c63b12"
      },
      "execution_count": 1,
      "outputs": [
        {
          "output_type": "stream",
          "name": "stdout",
          "text": [
            "Cloning into 'deeplearning_from_scratch'...\n",
            "remote: Enumerating objects: 405, done.\u001b[K\n",
            "remote: Total 405 (delta 0), reused 0 (delta 0), pack-reused 405\u001b[K\n",
            "Receiving objects: 100% (405/405), 58.06 MiB | 28.42 MiB/s, done.\n",
            "Resolving deltas: 100% (74/74), done.\n"
          ]
        }
      ]
    },
    {
      "cell_type": "code",
      "source": [
        "!python --version"
      ],
      "metadata": {
        "colab": {
          "base_uri": "https://localhost:8080/"
        },
        "id": "Or2l4b-btd50",
        "outputId": "0ccbd254-7f06-47ad-e566-e07e632b09a9"
      },
      "execution_count": 2,
      "outputs": [
        {
          "output_type": "stream",
          "name": "stdout",
          "text": [
            "Python 3.7.12\n"
          ]
        }
      ]
    },
    {
      "cell_type": "code",
      "source": [
        "!python # 대화형 파이썬을 열어줌"
      ],
      "metadata": {
        "colab": {
          "base_uri": "https://localhost:8080/"
        },
        "id": "TFoiQCIetL-4",
        "outputId": "5c3736ed-3013-4724-d258-4e9b2d1d9349"
      },
      "execution_count": 3,
      "outputs": [
        {
          "output_type": "stream",
          "name": "stdout",
          "text": [
            "Python 3.7.12 (default, Jan 15 2022, 18:48:18) \n",
            "[GCC 7.5.0] on linux\n",
            "Type \"help\", \"copyright\", \"credits\" or \"license\" for more information.\n",
            ">>> exit()\n"
          ]
        }
      ]
    },
    {
      "cell_type": "code",
      "source": [
        "a= [ 1,2,3,4,5] # list\n",
        "print(a)"
      ],
      "metadata": {
        "colab": {
          "base_uri": "https://localhost:8080/"
        },
        "id": "PWNqIFy2t3OO",
        "outputId": "cd78f849-14cf-47e8-898f-0d0d67709633"
      },
      "execution_count": 4,
      "outputs": [
        {
          "output_type": "stream",
          "name": "stdout",
          "text": [
            "[1, 2, 3, 4, 5]\n"
          ]
        }
      ]
    },
    {
      "cell_type": "code",
      "source": [
        "type(a)"
      ],
      "metadata": {
        "colab": {
          "base_uri": "https://localhost:8080/"
        },
        "id": "qI2N1oaNt_Gh",
        "outputId": "a3240939-be2c-4eb3-ed39-cee97fb4c413"
      },
      "execution_count": 5,
      "outputs": [
        {
          "output_type": "execute_result",
          "data": {
            "text/plain": [
              "list"
            ]
          },
          "metadata": {},
          "execution_count": 5
        }
      ]
    },
    {
      "cell_type": "code",
      "source": [
        "len(a)"
      ],
      "metadata": {
        "colab": {
          "base_uri": "https://localhost:8080/"
        },
        "id": "V3KNpVAotgr-",
        "outputId": "cf2790cc-d48b-4a7b-c754-b0f789e8e145"
      },
      "execution_count": 6,
      "outputs": [
        {
          "output_type": "execute_result",
          "data": {
            "text/plain": [
              "5"
            ]
          },
          "metadata": {},
          "execution_count": 6
        }
      ]
    },
    {
      "cell_type": "code",
      "source": [
        "a[4] = 99\n",
        "a"
      ],
      "metadata": {
        "colab": {
          "base_uri": "https://localhost:8080/"
        },
        "id": "edLfp_fKuBMi",
        "outputId": "c16f3d41-7b64-4586-ef4d-8ee3eb684d25"
      },
      "execution_count": 7,
      "outputs": [
        {
          "output_type": "execute_result",
          "data": {
            "text/plain": [
              "[1, 2, 3, 4, 99]"
            ]
          },
          "metadata": {},
          "execution_count": 7
        }
      ]
    },
    {
      "cell_type": "code",
      "source": [
        "a[0:2]"
      ],
      "metadata": {
        "colab": {
          "base_uri": "https://localhost:8080/"
        },
        "id": "pQ4yRWqBuCd1",
        "outputId": "a81d6a17-4915-4de3-a156-5bf85144db38"
      },
      "execution_count": 8,
      "outputs": [
        {
          "output_type": "execute_result",
          "data": {
            "text/plain": [
              "[1, 2]"
            ]
          },
          "metadata": {},
          "execution_count": 8
        }
      ]
    },
    {
      "cell_type": "code",
      "source": [
        "a[1:]"
      ],
      "metadata": {
        "colab": {
          "base_uri": "https://localhost:8080/"
        },
        "id": "D1h5AtzxuFg6",
        "outputId": "fe2622fc-6ace-47b3-cec5-2013926edcd8"
      },
      "execution_count": 9,
      "outputs": [
        {
          "output_type": "execute_result",
          "data": {
            "text/plain": [
              "[2, 3, 4, 99]"
            ]
          },
          "metadata": {},
          "execution_count": 9
        }
      ]
    },
    {
      "cell_type": "code",
      "source": [
        "a[:-1] # 마지막 원소 빼고 전부"
      ],
      "metadata": {
        "colab": {
          "base_uri": "https://localhost:8080/"
        },
        "id": "irnutflyuGmg",
        "outputId": "25e6ad7a-380c-4717-85b6-9d0d85230322"
      },
      "execution_count": 10,
      "outputs": [
        {
          "output_type": "execute_result",
          "data": {
            "text/plain": [
              "[1, 2, 3, 4]"
            ]
          },
          "metadata": {},
          "execution_count": 10
        }
      ]
    },
    {
      "cell_type": "code",
      "source": [
        "a[:-2] "
      ],
      "metadata": {
        "colab": {
          "base_uri": "https://localhost:8080/"
        },
        "id": "RWhqpjo1uJzr",
        "outputId": "3ae24957-7333-4aaf-c962-dfcf3f34bffe"
      },
      "execution_count": 11,
      "outputs": [
        {
          "output_type": "execute_result",
          "data": {
            "text/plain": [
              "[1, 2, 3]"
            ]
          },
          "metadata": {},
          "execution_count": 11
        }
      ]
    },
    {
      "cell_type": "code",
      "source": [
        "# dictionary \n",
        "# key, value로 이루어짐\n",
        "me = {'height': 180}\n",
        "me['height']"
      ],
      "metadata": {
        "colab": {
          "base_uri": "https://localhost:8080/"
        },
        "id": "LUT493tMuLsW",
        "outputId": "3fe5d2a3-d615-4762-ab1f-470449e170d6"
      },
      "execution_count": 12,
      "outputs": [
        {
          "output_type": "execute_result",
          "data": {
            "text/plain": [
              "180"
            ]
          },
          "metadata": {},
          "execution_count": 12
        }
      ]
    },
    {
      "cell_type": "code",
      "source": [
        "me['weight'] = 50"
      ],
      "metadata": {
        "id": "WCxSc-i9uTJn"
      },
      "execution_count": 13,
      "outputs": []
    },
    {
      "cell_type": "code",
      "source": [
        "print(me)"
      ],
      "metadata": {
        "colab": {
          "base_uri": "https://localhost:8080/"
        },
        "id": "IpD5-EYCuVNo",
        "outputId": "506fc6c9-305f-4935-82f1-e784ed6a9b34"
      },
      "execution_count": 14,
      "outputs": [
        {
          "output_type": "stream",
          "name": "stdout",
          "text": [
            "{'height': 180, 'weight': 50}\n"
          ]
        }
      ]
    },
    {
      "cell_type": "code",
      "source": [
        "# bool\n",
        "hungry= True\n",
        "sleepy =False\n",
        "type(hungry)"
      ],
      "metadata": {
        "colab": {
          "base_uri": "https://localhost:8080/"
        },
        "id": "sKthhlkTuWXs",
        "outputId": "8e434471-ef34-4bf0-f054-7463ecda1b29"
      },
      "execution_count": 15,
      "outputs": [
        {
          "output_type": "execute_result",
          "data": {
            "text/plain": [
              "bool"
            ]
          },
          "metadata": {},
          "execution_count": 15
        }
      ]
    },
    {
      "cell_type": "code",
      "source": [
        "not hungry"
      ],
      "metadata": {
        "colab": {
          "base_uri": "https://localhost:8080/"
        },
        "id": "NVDaFiuQuc4t",
        "outputId": "4b78151f-3060-44d5-e107-4b1ae7990e95"
      },
      "execution_count": 16,
      "outputs": [
        {
          "output_type": "execute_result",
          "data": {
            "text/plain": [
              "False"
            ]
          },
          "metadata": {},
          "execution_count": 16
        }
      ]
    },
    {
      "cell_type": "code",
      "source": [
        "hungry and sleepy"
      ],
      "metadata": {
        "colab": {
          "base_uri": "https://localhost:8080/"
        },
        "id": "LflN7oqzug15",
        "outputId": "3c3706b3-68ab-4aa9-fe8f-5fc20fbb817e"
      },
      "execution_count": 17,
      "outputs": [
        {
          "output_type": "execute_result",
          "data": {
            "text/plain": [
              "False"
            ]
          },
          "metadata": {},
          "execution_count": 17
        }
      ]
    },
    {
      "cell_type": "code",
      "source": [
        "hungry or sleepy"
      ],
      "metadata": {
        "colab": {
          "base_uri": "https://localhost:8080/"
        },
        "id": "bcVGZWSnuiW6",
        "outputId": "ea28a602-22f9-4f04-9f3e-3061f2c9036c"
      },
      "execution_count": 18,
      "outputs": [
        {
          "output_type": "execute_result",
          "data": {
            "text/plain": [
              "True"
            ]
          },
          "metadata": {},
          "execution_count": 18
        }
      ]
    },
    {
      "cell_type": "code",
      "source": [
        "# if 문\n",
        "hungry = True \n",
        "if hungry : \n",
        "  print(\"iam hungry\")"
      ],
      "metadata": {
        "colab": {
          "base_uri": "https://localhost:8080/"
        },
        "id": "tYpSgpefujrU",
        "outputId": "5e4a2103-49cb-479e-93bf-0b37c4a7d897"
      },
      "execution_count": 19,
      "outputs": [
        {
          "output_type": "stream",
          "name": "stdout",
          "text": [
            "iam hungry\n"
          ]
        }
      ]
    },
    {
      "cell_type": "code",
      "source": [
        "hungry = False\n",
        "if hungry :\n",
        "  print('i am hungry')\n",
        "else:\n",
        "  print('i am not hungry')\n",
        "  print('i am sleepy')"
      ],
      "metadata": {
        "colab": {
          "base_uri": "https://localhost:8080/"
        },
        "id": "mhgzXsg9u8RM",
        "outputId": "537c910d-da03-428f-9010-659087db3266"
      },
      "execution_count": 20,
      "outputs": [
        {
          "output_type": "stream",
          "name": "stdout",
          "text": [
            "i am not hungry\n",
            "i am sleepy\n"
          ]
        }
      ]
    },
    {
      "cell_type": "code",
      "source": [
        "# for문\n",
        "for i in [1,2,3]:\n",
        "  print(i)"
      ],
      "metadata": {
        "colab": {
          "base_uri": "https://localhost:8080/"
        },
        "id": "603Q1H-uvFsy",
        "outputId": "d72ae900-39be-4dc0-c273-aebdaef79927"
      },
      "execution_count": 21,
      "outputs": [
        {
          "output_type": "stream",
          "name": "stdout",
          "text": [
            "1\n",
            "2\n",
            "3\n"
          ]
        }
      ]
    },
    {
      "cell_type": "code",
      "source": [
        "def hello():\n",
        "  print('hello world!')\n",
        "  hello()"
      ],
      "metadata": {
        "id": "DqLcoZZBvODe"
      },
      "execution_count": 22,
      "outputs": []
    },
    {
      "cell_type": "code",
      "source": [
        "def hello(object):\n",
        "  print(\"hello \" + object + \"!\")\n",
        "hello(\"cat\")"
      ],
      "metadata": {
        "colab": {
          "base_uri": "https://localhost:8080/"
        },
        "id": "IPLX9p9-vTCr",
        "outputId": "4332453d-e7a0-4659-ac09-b757281e35d6"
      },
      "execution_count": 23,
      "outputs": [
        {
          "output_type": "stream",
          "name": "stdout",
          "text": [
            "hello cat!\n"
          ]
        }
      ]
    },
    {
      "cell_type": "code",
      "source": [
        "# 파이썬 스크립트 파일\n",
        "class Man:\n",
        "  def __init__(self, name):\n",
        "    self.name = name\n",
        "    print(\"initialized\")\n",
        "  def hello(self):\n",
        "    print(\"hello \" + self.name + '!')\n",
        "  def goodbye (self):\n",
        "    print(\"good bye \" + self.name + '!')\n"
      ],
      "metadata": {
        "id": "2F9xQyRrvTb6"
      },
      "execution_count": 24,
      "outputs": []
    },
    {
      "cell_type": "code",
      "source": [
        "m= Man(\"david\")"
      ],
      "metadata": {
        "colab": {
          "base_uri": "https://localhost:8080/"
        },
        "id": "LLr-dAZdwU3L",
        "outputId": "878ee9c6-14b0-4c68-e005-2b4a47a4ca4a"
      },
      "execution_count": 25,
      "outputs": [
        {
          "output_type": "stream",
          "name": "stdout",
          "text": [
            "initialized\n"
          ]
        }
      ]
    },
    {
      "cell_type": "code",
      "source": [
        "m.hello()\n"
      ],
      "metadata": {
        "colab": {
          "base_uri": "https://localhost:8080/"
        },
        "id": "7KHtRVr_wWh2",
        "outputId": "d6294312-a0c6-4923-ab71-a1d9d03f57f7"
      },
      "execution_count": 26,
      "outputs": [
        {
          "output_type": "stream",
          "name": "stdout",
          "text": [
            "hello david!\n"
          ]
        }
      ]
    },
    {
      "cell_type": "code",
      "source": [
        "m.goodbye()"
      ],
      "metadata": {
        "colab": {
          "base_uri": "https://localhost:8080/"
        },
        "id": "F4wiiY-TwX-u",
        "outputId": "0cbc3ba9-1d18-4b86-9f21-43a56e6a9e22"
      },
      "execution_count": 27,
      "outputs": [
        {
          "output_type": "stream",
          "name": "stdout",
          "text": [
            "good bye david!\n"
          ]
        }
      ]
    },
    {
      "cell_type": "code",
      "source": [
        "# numpy\n",
        "import numpy as np\n",
        "# numpy 배열을 만들때 :np.array()\n",
        "x = np.array( [1,2,3])\n",
        "print(x)\n",
        "type(x)"
      ],
      "metadata": {
        "colab": {
          "base_uri": "https://localhost:8080/"
        },
        "id": "h7Qp1w7GwZHv",
        "outputId": "b8da96a3-bbb6-4415-d3f4-f314c602113b"
      },
      "execution_count": 28,
      "outputs": [
        {
          "output_type": "stream",
          "name": "stdout",
          "text": [
            "[1 2 3]\n"
          ]
        },
        {
          "output_type": "execute_result",
          "data": {
            "text/plain": [
              "numpy.ndarray"
            ]
          },
          "metadata": {},
          "execution_count": 28
        }
      ]
    },
    {
      "cell_type": "code",
      "source": [
        "x= np.array([1,2,3])\n",
        "y= np.array([2,4,6])\n",
        "# element wise\n",
        "print(x+y)\n",
        "print(x*y)\n",
        "print(x/y)"
      ],
      "metadata": {
        "colab": {
          "base_uri": "https://localhost:8080/"
        },
        "id": "zt_kOvGry2aM",
        "outputId": "7c084f18-5bc7-426b-a3c5-ca58a9deb09c"
      },
      "execution_count": 29,
      "outputs": [
        {
          "output_type": "stream",
          "name": "stdout",
          "text": [
            "[3 6 9]\n",
            "[ 2  8 18]\n",
            "[0.5 0.5 0.5]\n"
          ]
        }
      ]
    },
    {
      "cell_type": "code",
      "source": [
        "x=np.array([1,2,3])\n",
        "x/2"
      ],
      "metadata": {
        "colab": {
          "base_uri": "https://localhost:8080/"
        },
        "id": "iySJMt5xy_K9",
        "outputId": "b0285acc-3e78-4ce2-8cae-216dbe37469e"
      },
      "execution_count": 30,
      "outputs": [
        {
          "output_type": "execute_result",
          "data": {
            "text/plain": [
              "array([0.5, 1. , 1.5])"
            ]
          },
          "metadata": {},
          "execution_count": 30
        }
      ]
    },
    {
      "cell_type": "code",
      "source": [
        "# numpy의 n차원 배열\n",
        "A= np.array([[1,2], [3,4]])\n",
        "print(A)\n",
        "print(type(A))"
      ],
      "metadata": {
        "colab": {
          "base_uri": "https://localhost:8080/"
        },
        "id": "vm-chRgHzMG6",
        "outputId": "8077a151-085b-4a3b-9e61-b9c51f5f7031"
      },
      "execution_count": 31,
      "outputs": [
        {
          "output_type": "stream",
          "name": "stdout",
          "text": [
            "[[1 2]\n",
            " [3 4]]\n",
            "<class 'numpy.ndarray'>\n"
          ]
        }
      ]
    },
    {
      "cell_type": "code",
      "source": [
        "A.dtype"
      ],
      "metadata": {
        "colab": {
          "base_uri": "https://localhost:8080/"
        },
        "id": "JHIwtxfuzVtQ",
        "outputId": "802ee5d9-fd9b-479e-f3e1-1a2c1b01970c"
      },
      "execution_count": 32,
      "outputs": [
        {
          "output_type": "execute_result",
          "data": {
            "text/plain": [
              "dtype('int64')"
            ]
          },
          "metadata": {},
          "execution_count": 32
        }
      ]
    },
    {
      "cell_type": "code",
      "source": [
        "B= np.array([[3,0],[0,6]])\n",
        "A+B"
      ],
      "metadata": {
        "colab": {
          "base_uri": "https://localhost:8080/"
        },
        "id": "xuiisojizXwB",
        "outputId": "151b579f-6898-4de1-9e38-c8c63b17af89"
      },
      "execution_count": 33,
      "outputs": [
        {
          "output_type": "execute_result",
          "data": {
            "text/plain": [
              "array([[ 4,  2],\n",
              "       [ 3, 10]])"
            ]
          },
          "metadata": {},
          "execution_count": 33
        }
      ]
    },
    {
      "cell_type": "code",
      "source": [
        "A*B"
      ],
      "metadata": {
        "colab": {
          "base_uri": "https://localhost:8080/"
        },
        "id": "vaVCBZ3nzecm",
        "outputId": "f5fdf576-3ec6-4593-c383-d2a6193dc03b"
      },
      "execution_count": 34,
      "outputs": [
        {
          "output_type": "execute_result",
          "data": {
            "text/plain": [
              "array([[ 3,  0],\n",
              "       [ 0, 24]])"
            ]
          },
          "metadata": {},
          "execution_count": 34
        }
      ]
    },
    {
      "cell_type": "code",
      "source": [
        "print(A)"
      ],
      "metadata": {
        "colab": {
          "base_uri": "https://localhost:8080/"
        },
        "id": "oOB0s9dZzfK7",
        "outputId": "b738195d-bf84-4d4c-8f90-dd3e357e57de"
      },
      "execution_count": 35,
      "outputs": [
        {
          "output_type": "stream",
          "name": "stdout",
          "text": [
            "[[1 2]\n",
            " [3 4]]\n"
          ]
        }
      ]
    },
    {
      "cell_type": "code",
      "source": [
        "A*10"
      ],
      "metadata": {
        "colab": {
          "base_uri": "https://localhost:8080/"
        },
        "id": "kGKVHRZ9zhl_",
        "outputId": "5fbfdcbf-de17-4ef9-8565-03ee9ee8030b"
      },
      "execution_count": 36,
      "outputs": [
        {
          "output_type": "execute_result",
          "data": {
            "text/plain": [
              "array([[10, 20],\n",
              "       [30, 40]])"
            ]
          },
          "metadata": {},
          "execution_count": 36
        }
      ]
    },
    {
      "cell_type": "code",
      "source": [
        "# 벡터와 행렬을 일반화 시킨것이텐서(TENSOR)\n"
      ],
      "metadata": {
        "id": "75G9AqrWziZj"
      },
      "execution_count": 37,
      "outputs": []
    },
    {
      "cell_type": "code",
      "source": [
        "# 브로드캐스트\n",
        "A=np.array([[1,2],[3,4]])\n",
        "B=np.array([10,20])\n",
        "A*B"
      ],
      "metadata": {
        "colab": {
          "base_uri": "https://localhost:8080/"
        },
        "id": "pbofwViizpLs",
        "outputId": "5a335d80-09d5-4fb4-eaf5-31cc44acedc3"
      },
      "execution_count": 38,
      "outputs": [
        {
          "output_type": "execute_result",
          "data": {
            "text/plain": [
              "array([[10, 40],\n",
              "       [30, 80]])"
            ]
          },
          "metadata": {},
          "execution_count": 38
        }
      ]
    },
    {
      "cell_type": "code",
      "source": [
        "C = np.array([[10,20],[10,20]])\n",
        "A*C"
      ],
      "metadata": {
        "colab": {
          "base_uri": "https://localhost:8080/"
        },
        "id": "M_jLtunRzveA",
        "outputId": "517b6afd-6a0e-47b8-c4e8-50dcd87b0dc8"
      },
      "execution_count": 39,
      "outputs": [
        {
          "output_type": "execute_result",
          "data": {
            "text/plain": [
              "array([[10, 40],\n",
              "       [30, 80]])"
            ]
          },
          "metadata": {},
          "execution_count": 39
        }
      ]
    },
    {
      "cell_type": "code",
      "source": [
        "# 원소접근\n",
        "x= np.array([[51,55],[14,19],[0,4]])\n",
        "print(x)\n",
        "\n"
      ],
      "metadata": {
        "colab": {
          "base_uri": "https://localhost:8080/"
        },
        "id": "WoTDie4n0BPE",
        "outputId": "f7295acf-9a89-4fea-ed83-2029f986bf54"
      },
      "execution_count": 40,
      "outputs": [
        {
          "output_type": "stream",
          "name": "stdout",
          "text": [
            "[[51 55]\n",
            " [14 19]\n",
            " [ 0  4]]\n"
          ]
        }
      ]
    },
    {
      "cell_type": "code",
      "source": [
        "x[0]"
      ],
      "metadata": {
        "colab": {
          "base_uri": "https://localhost:8080/"
        },
        "id": "hOFobw8u0MJo",
        "outputId": "0a1c083b-8a1b-41d7-8945-b28ff86e9e3f"
      },
      "execution_count": 41,
      "outputs": [
        {
          "output_type": "execute_result",
          "data": {
            "text/plain": [
              "array([51, 55])"
            ]
          },
          "metadata": {},
          "execution_count": 41
        }
      ]
    },
    {
      "cell_type": "code",
      "source": [
        "x[0][1]"
      ],
      "metadata": {
        "colab": {
          "base_uri": "https://localhost:8080/"
        },
        "id": "RcJtEFfe0Iv7",
        "outputId": "2d442de0-6752-4c68-cf5a-a7b41a997a45"
      },
      "execution_count": 42,
      "outputs": [
        {
          "output_type": "execute_result",
          "data": {
            "text/plain": [
              "55"
            ]
          },
          "metadata": {},
          "execution_count": 42
        }
      ]
    },
    {
      "cell_type": "code",
      "source": [
        "for row in x:\n",
        "  print(row)"
      ],
      "metadata": {
        "colab": {
          "base_uri": "https://localhost:8080/"
        },
        "id": "1vh2LRSz0JwQ",
        "outputId": "df6fb74f-94f9-4fb5-c4be-22ad2b8ef48c"
      },
      "execution_count": 43,
      "outputs": [
        {
          "output_type": "stream",
          "name": "stdout",
          "text": [
            "[51 55]\n",
            "[14 19]\n",
            "[0 4]\n"
          ]
        }
      ]
    },
    {
      "cell_type": "code",
      "source": [
        "X= x.flatten()\n",
        "print(X)"
      ],
      "metadata": {
        "colab": {
          "base_uri": "https://localhost:8080/"
        },
        "id": "72AKiDV50QFG",
        "outputId": "981d5452-cc1a-4279-9ed0-893334a2195f"
      },
      "execution_count": 44,
      "outputs": [
        {
          "output_type": "stream",
          "name": "stdout",
          "text": [
            "[51 55 14 19  0  4]\n"
          ]
        }
      ]
    },
    {
      "cell_type": "code",
      "source": [
        "X[np.array([0,2,4])] # 0,2,4번째 원소 불러오기"
      ],
      "metadata": {
        "colab": {
          "base_uri": "https://localhost:8080/"
        },
        "id": "p_BjzH5t0WDN",
        "outputId": "8b9bc4ff-7b37-4e27-fe4d-020fa921ad76"
      },
      "execution_count": 45,
      "outputs": [
        {
          "output_type": "execute_result",
          "data": {
            "text/plain": [
              "array([51, 14,  0])"
            ]
          },
          "metadata": {},
          "execution_count": 45
        }
      ]
    },
    {
      "cell_type": "code",
      "source": [
        "X>15"
      ],
      "metadata": {
        "colab": {
          "base_uri": "https://localhost:8080/"
        },
        "id": "W7X3_niU0eIB",
        "outputId": "173dab54-3c92-42ef-9395-d75225fdf733"
      },
      "execution_count": 46,
      "outputs": [
        {
          "output_type": "execute_result",
          "data": {
            "text/plain": [
              "array([ True,  True, False,  True, False, False])"
            ]
          },
          "metadata": {},
          "execution_count": 46
        }
      ]
    },
    {
      "cell_type": "code",
      "source": [
        "X[X>15]"
      ],
      "metadata": {
        "colab": {
          "base_uri": "https://localhost:8080/"
        },
        "id": "v5ebm4Q90Y4G",
        "outputId": "8e6c6318-7605-4494-c3f1-49a830c51ac9"
      },
      "execution_count": 47,
      "outputs": [
        {
          "output_type": "execute_result",
          "data": {
            "text/plain": [
              "array([51, 55, 19])"
            ]
          },
          "metadata": {},
          "execution_count": 47
        }
      ]
    },
    {
      "cell_type": "code",
      "source": [
        "# matplotliby\n",
        "import numpy as np\n",
        "import matplotlib.pyplot as plt"
      ],
      "metadata": {
        "id": "EOmNN7b90g6H"
      },
      "execution_count": 48,
      "outputs": []
    },
    {
      "cell_type": "code",
      "source": [
        "x = np.arange(0,6,0.1) # 0~6 0,1간격\n",
        "y= np.sin(x)\n"
      ],
      "metadata": {
        "id": "L3aC11Om0q1W"
      },
      "execution_count": 49,
      "outputs": []
    },
    {
      "cell_type": "code",
      "source": [
        "plt.plot(x,y)\n",
        "plt.show()"
      ],
      "metadata": {
        "colab": {
          "base_uri": "https://localhost:8080/",
          "height": 265
        },
        "id": "GSJICIu90zxN",
        "outputId": "aceb496b-0074-4a71-87a6-4d71ba7a46ef"
      },
      "execution_count": 50,
      "outputs": [
        {
          "output_type": "display_data",
          "data": {
            "image/png": "[encoded data removed]",
            "text/plain": [
              "<Figure size 432x288 with 1 Axes>"
            ]
          },
          "metadata": {
            "needs_background": "light"
          }
        }
      ]
    },
    {
      "cell_type": "code",
      "source": [
        "# 데이터 준비\n",
        "x=np.arange(0,6,0.1)\n",
        "y1 = np.sin(x)\n",
        "y2 = np.cos(x)\n"
      ],
      "metadata": {
        "id": "VhbQmq7H03rc"
      },
      "execution_count": 51,
      "outputs": []
    },
    {
      "cell_type": "code",
      "source": [
        "plt.plot(x,y1, label = 'sin')\n",
        "plt.plot(x,y2, label = 'cos', linestyle = '--')\n",
        "plt.xlabel('x')\n",
        "plt.ylabel('y')\n",
        "plt.title('sin cos')\n",
        "plt.legend()\n",
        "plt.show()\n"
      ],
      "metadata": {
        "colab": {
          "base_uri": "https://localhost:8080/",
          "height": 295
        },
        "id": "ad55osHo1FFs",
        "outputId": "e94b08ef-cfa8-4c28-f0c9-f61d89638011"
      },
      "execution_count": 52,
      "outputs": [
        {
          "output_type": "display_data",
          "data": {
            "image/png": "[encoded data removed]",
            "text/plain": [
              "<Figure size 432x288 with 1 Axes>"
            ]
          },
          "metadata": {
            "needs_background": "light"
          }
        }
      ]
    },
    {
      "cell_type": "code",
      "source": [
        "#이미지 표시하기\n",
        "import matplotlib.pyplot as plt\n",
        "from matplotlib.image import imread"
      ],
      "metadata": {
        "id": "awO0h5SC1Tez"
      },
      "execution_count": 53,
      "outputs": []
    },
    {
      "cell_type": "code",
      "source": [
        "# img = imread('cactus.png')\n",
        "#plt.imshow(img)\n",
        "#plt.show()\n"
      ],
      "metadata": {
        "id": "N6rSMXto1kNL"
      },
      "execution_count": 55,
      "outputs": []
    },
    {
      "cell_type": "markdown",
      "source": [
        "# ch2 . 퍼센트론 "
      ],
      "metadata": {
        "id": "O5sRaNCt1maw"
      }
    },
    {
      "cell_type": "code",
      "source": [
        "# 1957년 고안된 개념\n",
        "# 신경망의 기원이 되는 알고리즘"
      ],
      "metadata": {
        "id": "xsmSYZCx1sK0"
      },
      "execution_count": 56,
      "outputs": []
    },
    {
      "cell_type": "code",
      "source": [
        "# 퍼셉트론 구현하기\n",
        "def AND(x1,x2):\n",
        "  w1, w2, theta = 0.5, 0.5, 0.7\n",
        "  tmp = x1*w1 +x2*w2\n",
        "  if tmp <= theta:\n",
        "    return 0\n",
        "  elif tmp > theta :\n",
        "    return 1"
      ],
      "metadata": {
        "id": "TnZYdLoe2EFR"
      },
      "execution_count": 57,
      "outputs": []
    },
    {
      "cell_type": "code",
      "source": [
        "AND(0,0)"
      ],
      "metadata": {
        "colab": {
          "base_uri": "https://localhost:8080/"
        },
        "id": "3760xapR2Qus",
        "outputId": "bdeaaf74-1616-4c67-d76b-1a1c34ad21c3"
      },
      "execution_count": 58,
      "outputs": [
        {
          "output_type": "execute_result",
          "data": {
            "text/plain": [
              "0"
            ]
          },
          "metadata": {},
          "execution_count": 58
        }
      ]
    },
    {
      "cell_type": "code",
      "source": [
        "AND(1,0)\n"
      ],
      "metadata": {
        "colab": {
          "base_uri": "https://localhost:8080/"
        },
        "id": "noMShlV72R6B",
        "outputId": "efa112c5-90b9-4181-cc33-875b0ef84040"
      },
      "execution_count": 59,
      "outputs": [
        {
          "output_type": "execute_result",
          "data": {
            "text/plain": [
              "0"
            ]
          },
          "metadata": {},
          "execution_count": 59
        }
      ]
    },
    {
      "cell_type": "code",
      "source": [
        "AND(0,1)"
      ],
      "metadata": {
        "colab": {
          "base_uri": "https://localhost:8080/"
        },
        "id": "SGdti_gX2T8O",
        "outputId": "257ebc71-52c3-4a3b-e391-2244c3025f4b"
      },
      "execution_count": 60,
      "outputs": [
        {
          "output_type": "execute_result",
          "data": {
            "text/plain": [
              "0"
            ]
          },
          "metadata": {},
          "execution_count": 60
        }
      ]
    },
    {
      "cell_type": "code",
      "source": [
        "AND(1,1)"
      ],
      "metadata": {
        "colab": {
          "base_uri": "https://localhost:8080/"
        },
        "id": "5H620Lii2Uv3",
        "outputId": "931b0ce0-14e3-4c66-891b-3ff591b182a6"
      },
      "execution_count": 61,
      "outputs": [
        {
          "output_type": "execute_result",
          "data": {
            "text/plain": [
              "1"
            ]
          },
          "metadata": {},
          "execution_count": 61
        }
      ]
    },
    {
      "cell_type": "code",
      "source": [
        "# 가중치와 편향도입\n",
        "x= np.array([0,1])\n",
        "w = np.array([0.5,0.5])\n",
        "b = -0.7"
      ],
      "metadata": {
        "id": "7dLmdvLI2VRF"
      },
      "execution_count": 62,
      "outputs": []
    },
    {
      "cell_type": "code",
      "source": [
        "w*x"
      ],
      "metadata": {
        "colab": {
          "base_uri": "https://localhost:8080/"
        },
        "id": "-qvq2w002jti",
        "outputId": "cbffef99-2e65-420f-957b-823bb2081280"
      },
      "execution_count": 63,
      "outputs": [
        {
          "output_type": "execute_result",
          "data": {
            "text/plain": [
              "array([0. , 0.5])"
            ]
          },
          "metadata": {},
          "execution_count": 63
        }
      ]
    },
    {
      "cell_type": "code",
      "source": [
        "np.sum(w*x)"
      ],
      "metadata": {
        "colab": {
          "base_uri": "https://localhost:8080/"
        },
        "id": "OEGDbFfv2kZs",
        "outputId": "df6bbf98-9ae7-4904-84ba-cf50eb6a375c"
      },
      "execution_count": 64,
      "outputs": [
        {
          "output_type": "execute_result",
          "data": {
            "text/plain": [
              "0.5"
            ]
          },
          "metadata": {},
          "execution_count": 64
        }
      ]
    },
    {
      "cell_type": "code",
      "source": [
        "np.sum(w*x) + b"
      ],
      "metadata": {
        "colab": {
          "base_uri": "https://localhost:8080/"
        },
        "id": "Nkq9ggtP2llt",
        "outputId": "b7cf79ab-7c23-46c0-aade-fb5e391a35b2"
      },
      "execution_count": 65,
      "outputs": [
        {
          "output_type": "execute_result",
          "data": {
            "text/plain": [
              "-0.19999999999999996"
            ]
          },
          "metadata": {},
          "execution_count": 65
        }
      ]
    },
    {
      "cell_type": "code",
      "source": [
        "def AND(x1,x2):\n",
        "  x= np.array([x1,x2])\n",
        "  w = np.array([0.5,0.5])\n",
        "  b = -0.7\n",
        "  tmp = np.sum(w*x) + b\n",
        "  if tmp <= 0 :\n",
        "    return 0\n",
        "  else:\n",
        "    return 1"
      ],
      "metadata": {
        "id": "8ABaB9nF2nOe"
      },
      "execution_count": 66,
      "outputs": []
    },
    {
      "cell_type": "code",
      "source": [
        "def NAND(x1,x2):\n",
        "  x= np.array([x1,x2])\n",
        "  w = np.array([-0.5,-0.5])\n",
        "  b = 0.7\n",
        "  tmp = np.sum(w*x) + b\n",
        "  if tmp <= 0: \n",
        "    return 0\n",
        "  else :\n",
        "    return 1\n",
        "\n",
        "def OR(x1,x2):\n",
        "  x=np.array([x1,x2])\n",
        "  w = np.array([0.5,0.5])\n",
        "  b = -0.2\n",
        "  tmp = np.sum(w*x) +b\n",
        "  if tmp <= 0 :\n",
        "    return 0\n",
        "  else :\n",
        "    return 1"
      ],
      "metadata": {
        "id": "U7cjUZOr3D29"
      },
      "execution_count": 67,
      "outputs": []
    },
    {
      "cell_type": "code",
      "source": [
        "# XOR게이트\n",
        "# 배타적 논리함이라는 논리 회로, 둘중 하나만 1일때만 1을 출력 , 자기외에는 거부한다는 의미\n",
        "# 선형인 선으로는 두 구역을 나눈수 없음"
      ],
      "metadata": {
        "id": "hOF1cYgY3pSj"
      },
      "execution_count": 68,
      "outputs": []
    },
    {
      "cell_type": "code",
      "source": [
        "# 다층 퍼셉트론을 사용\n",
        "# 기존 게이트를 조합하는 방법\n",
        "# NAND + OR 출력을 AND로 연결\n",
        "def XOR(x1,x2):\n",
        "  s1 = NAND(x1,x2)\n",
        "  s2 = OR(x1,x2)\n",
        "  y= AND(s1,s2)\n",
        "  return y"
      ],
      "metadata": {
        "id": "sFu8xB6E3ydE"
      },
      "execution_count": 69,
      "outputs": []
    },
    {
      "cell_type": "code",
      "source": [
        "XOR(0,0)"
      ],
      "metadata": {
        "colab": {
          "base_uri": "https://localhost:8080/"
        },
        "id": "c3Ul4J4J4fFk",
        "outputId": "6eccef4b-a5e3-4659-eb82-7fbf5cc2dfef"
      },
      "execution_count": 70,
      "outputs": [
        {
          "output_type": "execute_result",
          "data": {
            "text/plain": [
              "0"
            ]
          },
          "metadata": {},
          "execution_count": 70
        }
      ]
    },
    {
      "cell_type": "code",
      "source": [
        "XOR(1,0)"
      ],
      "metadata": {
        "colab": {
          "base_uri": "https://localhost:8080/"
        },
        "id": "WjlMorXg4gho",
        "outputId": "c0c438f3-c9ed-4af8-ca8f-fb43e5e841cd"
      },
      "execution_count": 71,
      "outputs": [
        {
          "output_type": "execute_result",
          "data": {
            "text/plain": [
              "1"
            ]
          },
          "metadata": {},
          "execution_count": 71
        }
      ]
    },
    {
      "cell_type": "code",
      "source": [
        "XOR(0,1)"
      ],
      "metadata": {
        "colab": {
          "base_uri": "https://localhost:8080/"
        },
        "id": "0XESJjH74hrS",
        "outputId": "4e179575-582c-4c70-90c5-31203051fb2f"
      },
      "execution_count": 72,
      "outputs": [
        {
          "output_type": "execute_result",
          "data": {
            "text/plain": [
              "1"
            ]
          },
          "metadata": {},
          "execution_count": 72
        }
      ]
    },
    {
      "cell_type": "code",
      "source": [
        "XOR(1,1)"
      ],
      "metadata": {
        "colab": {
          "base_uri": "https://localhost:8080/"
        },
        "id": "Eygmk9bb4int",
        "outputId": "d5cfb38a-b741-4ed1-803c-8915d29f63c4"
      },
      "execution_count": 73,
      "outputs": [
        {
          "output_type": "execute_result",
          "data": {
            "text/plain": [
              "0"
            ]
          },
          "metadata": {},
          "execution_count": 73
        }
      ]
    },
    {
      "cell_type": "code",
      "source": [
        "# 단층 퍼셉트론으로 표현하지 못한것을 층을 하나 늘려 구현함\n",
        "# 퍼셉트론은 층을 쌓아 더 다양한것을 표현하게 해줌"
      ],
      "metadata": {
        "id": "Z5UFf0In4jTa"
      },
      "execution_count": 74,
      "outputs": []
    },
    {
      "cell_type": "code",
      "source": [
        ""
      ],
      "metadata": {
        "id": "Oj3S5QI-5BWW"
      },
      "execution_count": 74,
      "outputs": []
    },
    {
      "cell_type": "markdown",
      "source": [
        "# ch 3. 신경망"
      ],
      "metadata": {
        "id": "T1htgVFj5WwK"
      }
    },
    {
      "cell_type": "code",
      "source": [
        "# 활성화 함수의 등장, 입력신호의 총합을 출력신호로 변환하는 함수\n",
        "# 입력신호의 총합이 활성화를 일으키는지를 정하는 역할\n",
        "# 활성화 함수는 임계값을 경계로 출력이 바뀜, 이런함수를 계단함수라 함\n",
        "# 퍼셉트론과 신경망의 차이는 활성화 함수뿐"
      ],
      "metadata": {
        "id": "zpcPoPC55Z1l"
      },
      "execution_count": 75,
      "outputs": []
    },
    {
      "cell_type": "code",
      "source": [
        "# 계단함수 구하기\n",
        "def step_function(x):\n",
        "  if x>0 :\n",
        "    return 1 \n",
        "  else :\n",
        "    return 0\n",
        "  # numpy배열은 안됨"
      ],
      "metadata": {
        "id": "BhwiDj_J9Az9"
      },
      "execution_count": 76,
      "outputs": []
    },
    {
      "cell_type": "code",
      "source": [
        "# numpy배열도 될수있도록 변경\n",
        "def step_function(x):\n",
        "  y= x>0\n",
        "  return y.astype(np.int)"
      ],
      "metadata": {
        "id": "LAbtAZYj9Loz"
      },
      "execution_count": 77,
      "outputs": []
    },
    {
      "cell_type": "code",
      "source": [
        "import numpy as np\n",
        "x = np.array([-1,1,2])\n",
        "x"
      ],
      "metadata": {
        "colab": {
          "base_uri": "https://localhost:8080/"
        },
        "id": "aIt0bz_69Qqz",
        "outputId": "c47c02ba-e421-4835-becd-d43e350b47ee"
      },
      "execution_count": 78,
      "outputs": [
        {
          "output_type": "execute_result",
          "data": {
            "text/plain": [
              "array([-1,  1,  2])"
            ]
          },
          "metadata": {},
          "execution_count": 78
        }
      ]
    },
    {
      "cell_type": "code",
      "source": [
        "y= x>0;y"
      ],
      "metadata": {
        "colab": {
          "base_uri": "https://localhost:8080/"
        },
        "id": "XHd4okpl9nWj",
        "outputId": "26691dc3-85b8-4b30-c7b6-abb99abe0a54"
      },
      "execution_count": 79,
      "outputs": [
        {
          "output_type": "execute_result",
          "data": {
            "text/plain": [
              "array([False,  True,  True])"
            ]
          },
          "metadata": {},
          "execution_count": 79
        }
      ]
    },
    {
      "cell_type": "code",
      "source": [
        "y= y.astype(np.int)  # astype 데이터타입을 변경시켜줌"
      ],
      "metadata": {
        "id": "326m_0Ep9oMT"
      },
      "execution_count": 80,
      "outputs": []
    },
    {
      "cell_type": "code",
      "source": [
        "y"
      ],
      "metadata": {
        "colab": {
          "base_uri": "https://localhost:8080/"
        },
        "id": "GUS835rN9rLw",
        "outputId": "1d71e580-cfb0-40a2-d462-ea57f7c4a903"
      },
      "execution_count": 81,
      "outputs": [
        {
          "output_type": "execute_result",
          "data": {
            "text/plain": [
              "array([0, 1, 1])"
            ]
          },
          "metadata": {},
          "execution_count": 81
        }
      ]
    },
    {
      "cell_type": "code",
      "source": [
        "# 계단함수의 그래프\n",
        "x= np.arange(-5,5,0.1)\n",
        "y= step_function(x)\n",
        "plt.plot(x,y)\n",
        "plt.ylim(-0.1,1.1)\n",
        "plt.show()"
      ],
      "metadata": {
        "colab": {
          "base_uri": "https://localhost:8080/",
          "height": 265
        },
        "id": "s460YftQ9ryT",
        "outputId": "b19eab5d-8d9f-42aa-b73f-d3e89ed54ef6"
      },
      "execution_count": 82,
      "outputs": [
        {
          "output_type": "display_data",
          "data": {
            "image/png": "[encoded data removed]",
            "text/plain": [
              "<Figure size 432x288 with 1 Axes>"
            ]
          },
          "metadata": {
            "needs_background": "light"
          }
        }
      ]
    },
    {
      "cell_type": "code",
      "source": [
        "# 시그모이드 함수구현하기\n",
        "def sigmoid(x):\n",
        "  return 1/ (1+np.exp(-x))"
      ],
      "metadata": {
        "id": "Rw6MmA2g96YL"
      },
      "execution_count": 83,
      "outputs": []
    },
    {
      "cell_type": "code",
      "source": [
        "x= np.array([-1,1,2])\n",
        "sigmoid(x)"
      ],
      "metadata": {
        "colab": {
          "base_uri": "https://localhost:8080/"
        },
        "id": "d15VNWCw-KY8",
        "outputId": "b13b4c3e-5298-4bec-8bd7-d4d0e1b6ef3c"
      },
      "execution_count": 84,
      "outputs": [
        {
          "output_type": "execute_result",
          "data": {
            "text/plain": [
              "array([0.26894142, 0.73105858, 0.88079708])"
            ]
          },
          "metadata": {},
          "execution_count": 84
        }
      ]
    },
    {
      "cell_type": "code",
      "source": [
        "t= np.array([1,2,3])\n",
        "t+1"
      ],
      "metadata": {
        "colab": {
          "base_uri": "https://localhost:8080/"
        },
        "id": "EV-DoXbO-L8L",
        "outputId": "5ab2d96c-7140-441d-8d17-9c8cdc3922a7"
      },
      "execution_count": 85,
      "outputs": [
        {
          "output_type": "execute_result",
          "data": {
            "text/plain": [
              "array([2, 3, 4])"
            ]
          },
          "metadata": {},
          "execution_count": 85
        }
      ]
    },
    {
      "cell_type": "code",
      "source": [
        "1/t"
      ],
      "metadata": {
        "colab": {
          "base_uri": "https://localhost:8080/"
        },
        "id": "cjyL65z3-UOs",
        "outputId": "615221c5-ccdc-4339-87f6-ec9a1d35d464"
      },
      "execution_count": 86,
      "outputs": [
        {
          "output_type": "execute_result",
          "data": {
            "text/plain": [
              "array([1.        , 0.5       , 0.33333333])"
            ]
          },
          "metadata": {},
          "execution_count": 86
        }
      ]
    },
    {
      "cell_type": "code",
      "source": [
        "x=np.arange(-5,5,0.1)\n",
        "y= sigmoid(x)\n",
        "plt.plot(x,y)\n",
        "plt.ylim(-0.1,1.1)\n",
        "plt.show()"
      ],
      "metadata": {
        "colab": {
          "base_uri": "https://localhost:8080/",
          "height": 265
        },
        "id": "2FHo0gDo-VBo",
        "outputId": "7a2a32da-ee0d-4d55-c13f-c239d46aee1d"
      },
      "execution_count": 87,
      "outputs": [
        {
          "output_type": "display_data",
          "data": {
            "image/png": "[encoded data removed]",
            "text/plain": [
              "<Figure size 432x288 with 1 Axes>"
            ]
          },
          "metadata": {
            "needs_background": "light"
          }
        }
      ]
    },
    {
      "cell_type": "code",
      "source": [
        "#relu함수\n",
        "def relu(x):\n",
        "  return np.maximum(0,x)"
      ],
      "metadata": {
        "id": "jdlNQUdz-fYT"
      },
      "execution_count": 88,
      "outputs": []
    },
    {
      "cell_type": "code",
      "source": [
        "# 활성화함수로 선형함수가 의미없는이유\n",
        "# h(x)=c*x \n",
        "# h(h(h(x))) = c^3*x = a*x 결국 계수만 다른 선형함수됨\n",
        "# 층을쌓는 의미가 없어짐, 층을 쌓는 혜택을 얻고 싶다면 활성화 함수로는 반드시 비선형 함수를 사용"
      ],
      "metadata": {
        "id": "QsbieCo9_ZuE"
      },
      "execution_count": 89,
      "outputs": []
    },
    {
      "cell_type": "code",
      "source": [
        "# 다차원 배열의 계산\n",
        "\n",
        "A= np.array([1,2,3,4,5])\n",
        "np.ndim(A)\n"
      ],
      "metadata": {
        "colab": {
          "base_uri": "https://localhost:8080/"
        },
        "id": "WRkkhPC4_zXa",
        "outputId": "428358d8-3672-495c-92d1-0b046f70b209"
      },
      "execution_count": 90,
      "outputs": [
        {
          "output_type": "execute_result",
          "data": {
            "text/plain": [
              "1"
            ]
          },
          "metadata": {},
          "execution_count": 90
        }
      ]
    },
    {
      "cell_type": "code",
      "source": [
        "A.shape"
      ],
      "metadata": {
        "colab": {
          "base_uri": "https://localhost:8080/"
        },
        "id": "i90Qkyv4ABUW",
        "outputId": "bb1a4509-0f08-41ca-f58a-f1d60b02ee94"
      },
      "execution_count": 91,
      "outputs": [
        {
          "output_type": "execute_result",
          "data": {
            "text/plain": [
              "(5,)"
            ]
          },
          "metadata": {},
          "execution_count": 91
        }
      ]
    },
    {
      "cell_type": "code",
      "source": [
        "A.shape[0]"
      ],
      "metadata": {
        "colab": {
          "base_uri": "https://localhost:8080/"
        },
        "id": "x9QFNqBWACL5",
        "outputId": "53354d36-fbb4-440a-d2ca-028750dc6f4c"
      },
      "execution_count": 92,
      "outputs": [
        {
          "output_type": "execute_result",
          "data": {
            "text/plain": [
              "5"
            ]
          },
          "metadata": {},
          "execution_count": 92
        }
      ]
    },
    {
      "cell_type": "code",
      "source": [
        "B= np.array([[1,2],[3,4],[5,6]])\n",
        "print(B)"
      ],
      "metadata": {
        "colab": {
          "base_uri": "https://localhost:8080/"
        },
        "id": "Bc8e3fDHAEPO",
        "outputId": "700e20b4-5f31-403b-9d03-38987b842134"
      },
      "execution_count": 93,
      "outputs": [
        {
          "output_type": "stream",
          "name": "stdout",
          "text": [
            "[[1 2]\n",
            " [3 4]\n",
            " [5 6]]\n"
          ]
        }
      ]
    },
    {
      "cell_type": "code",
      "source": [
        "np.ndim(B)\n"
      ],
      "metadata": {
        "colab": {
          "base_uri": "https://localhost:8080/"
        },
        "id": "Igvvv8NFAJPu",
        "outputId": "4c4fc2ef-fb49-4ad6-a261-983bb421f26b"
      },
      "execution_count": 94,
      "outputs": [
        {
          "output_type": "execute_result",
          "data": {
            "text/plain": [
              "2"
            ]
          },
          "metadata": {},
          "execution_count": 94
        }
      ]
    },
    {
      "cell_type": "code",
      "source": [
        "B.shape"
      ],
      "metadata": {
        "colab": {
          "base_uri": "https://localhost:8080/"
        },
        "id": "KIy8kf1fALHK",
        "outputId": "450124a3-21b4-421a-e971-a627d8157beb"
      },
      "execution_count": 95,
      "outputs": [
        {
          "output_type": "execute_result",
          "data": {
            "text/plain": [
              "(3, 2)"
            ]
          },
          "metadata": {},
          "execution_count": 95
        }
      ]
    },
    {
      "cell_type": "code",
      "source": [
        "# 행렬의 곱\n",
        "A= np.array([[1,2],[3,4]])\n",
        "B= np.array([[5,6],[7,8]])\n",
        "np.dot(A,B)"
      ],
      "metadata": {
        "colab": {
          "base_uri": "https://localhost:8080/"
        },
        "id": "Yhtoxo-CALyr",
        "outputId": "c57427b2-4d6e-4729-b83b-38ba2324f92c"
      },
      "execution_count": 96,
      "outputs": [
        {
          "output_type": "execute_result",
          "data": {
            "text/plain": [
              "array([[19, 22],\n",
              "       [43, 50]])"
            ]
          },
          "metadata": {},
          "execution_count": 96
        }
      ]
    },
    {
      "cell_type": "code",
      "source": [
        "# 신경망에서의 행렬곱\n",
        "X = np.array([1,2])\n",
        "W = np.array([[1,3,5],[2,4,6]])\n",
        "print(X.shape) \n",
        "print(W.shape)"
      ],
      "metadata": {
        "colab": {
          "base_uri": "https://localhost:8080/"
        },
        "id": "Rra9nWkQAbM3",
        "outputId": "9fdabd3b-2af4-4cdb-fa13-695d96a2d71f"
      },
      "execution_count": 97,
      "outputs": [
        {
          "output_type": "stream",
          "name": "stdout",
          "text": [
            "(2,)\n",
            "(2, 3)\n"
          ]
        }
      ]
    },
    {
      "cell_type": "code",
      "source": [
        "Y = np.dot(X,W);Y"
      ],
      "metadata": {
        "colab": {
          "base_uri": "https://localhost:8080/"
        },
        "id": "F0gucYpHDrmA",
        "outputId": "e6e5b9c8-3d85-4e4f-b1e8-216726114c2d"
      },
      "execution_count": 98,
      "outputs": [
        {
          "output_type": "execute_result",
          "data": {
            "text/plain": [
              "array([ 5, 11, 17])"
            ]
          },
          "metadata": {},
          "execution_count": 98
        }
      ]
    },
    {
      "cell_type": "code",
      "source": [
        "X=np.array([1,0.5])\n",
        "W1=np.array([[0.1,0.3,0.5],[0.2,0.4,0.6]])\n",
        "B1=np.array([0.1,0.2,0.3])\n",
        "A1 = np.dot(X,W1) +B1"
      ],
      "metadata": {
        "id": "9kIUR5nzD9gp"
      },
      "execution_count": 99,
      "outputs": []
    },
    {
      "cell_type": "code",
      "source": [
        "A1"
      ],
      "metadata": {
        "colab": {
          "base_uri": "https://localhost:8080/"
        },
        "id": "6BE8ZnNTEdHl",
        "outputId": "cf69c220-4d1a-4e1a-d07e-e1f316d3d8dd"
      },
      "execution_count": 100,
      "outputs": [
        {
          "output_type": "execute_result",
          "data": {
            "text/plain": [
              "array([0.3, 0.7, 1.1])"
            ]
          },
          "metadata": {},
          "execution_count": 100
        }
      ]
    },
    {
      "cell_type": "code",
      "source": [
        "Z1=sigmoid(A1);Z1"
      ],
      "metadata": {
        "colab": {
          "base_uri": "https://localhost:8080/"
        },
        "id": "geZG96QAEdCd",
        "outputId": "531a7dfa-bff5-4a40-ddd7-01c32074b1ad"
      },
      "execution_count": 101,
      "outputs": [
        {
          "output_type": "execute_result",
          "data": {
            "text/plain": [
              "array([0.57444252, 0.66818777, 0.75026011])"
            ]
          },
          "metadata": {},
          "execution_count": 101
        }
      ]
    },
    {
      "cell_type": "code",
      "source": [
        "W2 = [[0.1,0.4],[0.2,0.5],[0.3,0.6]]\n",
        "B2 = np.array([0.1,0.2])\n",
        "A2 = np.dot(Z1, W2) + B2\n",
        "Z2 = sigmoid(A2);Z2"
      ],
      "metadata": {
        "colab": {
          "base_uri": "https://localhost:8080/"
        },
        "id": "X1-Siok0FsDd",
        "outputId": "2dbfc9e6-0267-4d6d-9368-1e20ac6fa02b"
      },
      "execution_count": 102,
      "outputs": [
        {
          "output_type": "execute_result",
          "data": {
            "text/plain": [
              "array([0.62624937, 0.7710107 ])"
            ]
          },
          "metadata": {},
          "execution_count": 102
        }
      ]
    },
    {
      "cell_type": "code",
      "source": [
        "def identity_function(x):\n",
        "  return x\n"
      ],
      "metadata": {
        "id": "7f3AElkHWWFu"
      },
      "execution_count": 103,
      "outputs": []
    },
    {
      "cell_type": "code",
      "source": [
        "W3 = np.array([[0.1, 0.3], [0.2, 0.4]])\n",
        "B3 = np.array([0.1, 0.2])\n",
        "\n",
        "A3 = np.dot(Z2,W3)+B3 \n",
        "Y = identity_function(A3) ; Y"
      ],
      "metadata": {
        "colab": {
          "base_uri": "https://localhost:8080/"
        },
        "id": "pm_sazQZWcJb",
        "outputId": "d1a954a2-786b-4e91-b9b7-a738b0d95f71"
      },
      "execution_count": 104,
      "outputs": [
        {
          "output_type": "execute_result",
          "data": {
            "text/plain": [
              "array([0.31682708, 0.69627909])"
            ]
          },
          "metadata": {},
          "execution_count": 104
        }
      ]
    },
    {
      "cell_type": "code",
      "source": [
        "# 한번에 정리\n",
        "\n",
        "def init_network():\n",
        "    network = {}\n",
        "    network['W1'] = np.array([[0.1, 0.3, 0.5], [0.2, 0.4, 0.6]])\n",
        "    network['b1'] = np.array([0.1, 0.2, 0.3])\n",
        "    network['W2'] = np.array([[0.1, 0.4], [0.2, 0.5], [0.3, 0.6]])\n",
        "    network['b2'] = np.array([0.1, 0.2])\n",
        "    network['W3'] = np.array([[0.1, 0.3], [0.2, 0.4]])\n",
        "    network['b3'] = np.array([0.1, 0.2])\n",
        "\n",
        "    return network\n",
        "\n",
        "\n",
        "def forward(network, x):\n",
        "    W1, W2, W3 = network['W1'], network['W2'], network['W3']\n",
        "    b1, b2, b3 = network['b1'], network['b2'], network['b3']\n",
        "\n",
        "    a1 = np.dot(x, W1) + b1\n",
        "    z1 = sigmoid(a1)\n",
        "    a2 = np.dot(z1, W2) + b2\n",
        "    z2 = sigmoid(a2)\n",
        "    a3 = np.dot(z2, W3) + b3\n",
        "    y = identity_function(a3)\n",
        "\n",
        "    return y"
      ],
      "metadata": {
        "id": "L0M-W-knWn6B"
      },
      "execution_count": 105,
      "outputs": []
    },
    {
      "cell_type": "code",
      "source": [
        "\n",
        "network = init_network()\n",
        "x= np.array([1,0.5])\n",
        "y = forward(network, x)\n",
        "print(y)"
      ],
      "metadata": {
        "colab": {
          "base_uri": "https://localhost:8080/"
        },
        "id": "Nm6aVyrFXHiD",
        "outputId": "9d07046e-4cb8-49eb-a942-7d1cb8a1aab8"
      },
      "execution_count": 106,
      "outputs": [
        {
          "output_type": "stream",
          "name": "stdout",
          "text": [
            "[0.31682708 0.69627909]\n"
          ]
        }
      ]
    },
    {
      "cell_type": "code",
      "source": [
        "# 신경망은 분류와 회귀 모두에 이용가능함\n",
        "# 어떤 문제냐에 따라 출력층에서 사용하는 활성화 함수가 달라짐\n",
        "# 회귀에는 항등함수, 분류에는 SOFTMAX함수를 사용\n"
      ],
      "metadata": {
        "id": "9DNHIL9kXd_h"
      },
      "execution_count": 107,
      "outputs": []
    },
    {
      "cell_type": "code",
      "source": [
        "# 소프트맥스 함수 구현하기\n",
        "a = np.array([0.3, 2.9, 4])\n",
        "exp_a = np.exp(a)\n",
        "sum_exp_a = np.sum(exp_a)\n",
        "y= exp_a / sum_exp_a;y"
      ],
      "metadata": {
        "colab": {
          "base_uri": "https://localhost:8080/"
        },
        "id": "W2xymBsZ_Vn7",
        "outputId": "397d33cc-285d-4e2a-f8e5-2a891dd9adf8"
      },
      "execution_count": 108,
      "outputs": [
        {
          "output_type": "execute_result",
          "data": {
            "text/plain": [
              "array([0.01821127, 0.24519181, 0.73659691])"
            ]
          },
          "metadata": {},
          "execution_count": 108
        }
      ]
    },
    {
      "cell_type": "code",
      "source": [
        "def softmax(a):\n",
        "  exp_a = np.exp(a)\n",
        "  sum_exp_a = np.sum(exp_a)\n",
        "  y = exp_a/ sum_exp_a\n",
        "  return y\n",
        "\n"
      ],
      "metadata": {
        "id": "5c6cE2RrOAcR"
      },
      "execution_count": 109,
      "outputs": []
    },
    {
      "cell_type": "code",
      "source": [
        "# softmax함수 구현시 주의점 : 오버플로문제\n",
        "a= np.array([1010,1000,990])\n",
        "np.exp(a) / np.sum(np.exp(a))"
      ],
      "metadata": {
        "colab": {
          "base_uri": "https://localhost:8080/"
        },
        "id": "-w5-5G2aOJxc",
        "outputId": "050c2b6c-281e-4273-c182-a72757236b82"
      },
      "execution_count": 110,
      "outputs": [
        {
          "output_type": "stream",
          "name": "stderr",
          "text": [
            "/usr/local/lib/python3.7/dist-packages/ipykernel_launcher.py:3: RuntimeWarning: overflow encountered in exp\n",
            "  This is separate from the ipykernel package so we can avoid doing imports until\n",
            "/usr/local/lib/python3.7/dist-packages/ipykernel_launcher.py:3: RuntimeWarning: invalid value encountered in true_divide\n",
            "  This is separate from the ipykernel package so we can avoid doing imports until\n"
          ]
        },
        {
          "output_type": "execute_result",
          "data": {
            "text/plain": [
              "array([nan, nan, nan])"
            ]
          },
          "metadata": {},
          "execution_count": 110
        }
      ]
    },
    {
      "cell_type": "code",
      "source": [
        "c = np.max(a) ;c"
      ],
      "metadata": {
        "colab": {
          "base_uri": "https://localhost:8080/"
        },
        "id": "cnR2FrTQOzVp",
        "outputId": "93711061-cb2c-41ca-ef7b-40275db3a401"
      },
      "execution_count": 111,
      "outputs": [
        {
          "output_type": "execute_result",
          "data": {
            "text/plain": [
              "1010"
            ]
          },
          "metadata": {},
          "execution_count": 111
        }
      ]
    },
    {
      "cell_type": "code",
      "source": [
        "a-c"
      ],
      "metadata": {
        "colab": {
          "base_uri": "https://localhost:8080/"
        },
        "id": "-AKywEgSO1P3",
        "outputId": "f7337865-6bc3-4887-ba97-b8070205daf1"
      },
      "execution_count": 112,
      "outputs": [
        {
          "output_type": "execute_result",
          "data": {
            "text/plain": [
              "array([  0, -10, -20])"
            ]
          },
          "metadata": {},
          "execution_count": 112
        }
      ]
    },
    {
      "cell_type": "code",
      "source": [
        "np.exp(a-c) / np.sum(np.exp(a-c))"
      ],
      "metadata": {
        "colab": {
          "base_uri": "https://localhost:8080/"
        },
        "id": "y1bwSXYiO1tw",
        "outputId": "f84238e6-98be-4cbc-db41-df54337f6cd8"
      },
      "execution_count": 113,
      "outputs": [
        {
          "output_type": "execute_result",
          "data": {
            "text/plain": [
              "array([9.99954600e-01, 4.53978686e-05, 2.06106005e-09])"
            ]
          },
          "metadata": {},
          "execution_count": 113
        }
      ]
    },
    {
      "cell_type": "code",
      "source": [
        "def softmax(a):\n",
        "  c = np.max(a)\n",
        "\n",
        "  exp_a = np.exp(a-c)\n",
        "  sum_exp_a = np.sum(exp_a)\n",
        "  y = exp_a/ sum_exp_a\n",
        "  return y\n",
        "\n"
      ],
      "metadata": {
        "id": "bSJMIS_7O5Wn"
      },
      "execution_count": 114,
      "outputs": []
    },
    {
      "cell_type": "code",
      "source": [
        "a = np.array([0.3,2.9, 4])\n",
        "y= softmax(a)\n",
        "print(y)"
      ],
      "metadata": {
        "colab": {
          "base_uri": "https://localhost:8080/"
        },
        "id": "cJTgOblXPFDh",
        "outputId": "f4a45293-0848-48c7-9787-824ae70584ba"
      },
      "execution_count": 115,
      "outputs": [
        {
          "output_type": "stream",
          "name": "stdout",
          "text": [
            "[0.01821127 0.24519181 0.73659691]\n"
          ]
        }
      ]
    },
    {
      "cell_type": "code",
      "source": [
        "np.sum(y)"
      ],
      "metadata": {
        "colab": {
          "base_uri": "https://localhost:8080/"
        },
        "id": "PEzw72goPPUQ",
        "outputId": "69f886d3-518b-41a9-81d8-6e0b4fe7f350"
      },
      "execution_count": 116,
      "outputs": [
        {
          "output_type": "execute_result",
          "data": {
            "text/plain": [
              "1.0"
            ]
          },
          "metadata": {},
          "execution_count": 116
        }
      ]
    },
    {
      "cell_type": "code",
      "source": [
        "# 출력층의 뉴런수 정하기\n",
        "# 손글씨 숫자인식 \n",
        "\n",
        "#학습과정은 생략하고, 추론과정만 구현 (순전파)\n",
        "# mnist data ; 0~9까지의 숫자글씨, 훈련 60000장, 테스트 10000장\n",
        "# 28 x 28크기의 이미지\n",
        "import sys, os\n",
        "sys.path.append(os.pardir)"
      ],
      "metadata": {
        "id": "7Mn0cOY5PQZs"
      },
      "execution_count": 117,
      "outputs": []
    },
    {
      "cell_type": "code",
      "source": [
        "a =  '/content/deeplearning_from_scratch/dataset'\n",
        "sys.path.append(a)"
      ],
      "metadata": {
        "id": "dvLs9sASQ22G"
      },
      "execution_count": 118,
      "outputs": []
    },
    {
      "cell_type": "code",
      "source": [
        "sys.path"
      ],
      "metadata": {
        "colab": {
          "base_uri": "https://localhost:8080/"
        },
        "id": "YVxfPPb1S-sY",
        "outputId": "7f407ddc-64a1-4806-e11e-5e99b41eccfc"
      },
      "execution_count": 119,
      "outputs": [
        {
          "output_type": "execute_result",
          "data": {
            "text/plain": [
              "['',\n",
              " '/content',\n",
              " '/env/python',\n",
              " '/usr/lib/python37.zip',\n",
              " '/usr/lib/python3.7',\n",
              " '/usr/lib/python3.7/lib-dynload',\n",
              " '/usr/local/lib/python3.7/dist-packages',\n",
              " '/usr/lib/python3/dist-packages',\n",
              " '/usr/local/lib/python3.7/dist-packages/IPython/extensions',\n",
              " '/root/.ipython',\n",
              " '..',\n",
              " '/content/deeplearning_from_scratch/dataset']"
            ]
          },
          "metadata": {},
          "execution_count": 119
        }
      ]
    },
    {
      "cell_type": "code",
      "source": [
        "from mnist import load_mnist"
      ],
      "metadata": {
        "id": "YUL95_y2Qe12"
      },
      "execution_count": 120,
      "outputs": []
    },
    {
      "cell_type": "code",
      "source": [
        "(x_train, t_train), (x_test, t_test) = load_mnist(flatten =True, normalize= True) # one_hot_lable도 설정가능\n",
        "# flatten : 1차원으로 표현, 784개의 원소지님\n",
        "# normalize : 0~1사이값으로 나오게함\n"
      ],
      "metadata": {
        "id": "efp2iYEQQhVI"
      },
      "execution_count": 121,
      "outputs": []
    },
    {
      "cell_type": "code",
      "source": [
        "print(x_train.shape)\n",
        "print(t_train.shape)\n",
        "print(x_test.shape)\n",
        "print(t_test.shape)"
      ],
      "metadata": {
        "colab": {
          "base_uri": "https://localhost:8080/"
        },
        "id": "LKX6HQkkTJd8",
        "outputId": "89fc41d1-3597-4b58-d2db-48b484358247"
      },
      "execution_count": 122,
      "outputs": [
        {
          "output_type": "stream",
          "name": "stdout",
          "text": [
            "(60000, 784)\n",
            "(60000,)\n",
            "(10000, 784)\n",
            "(10000,)\n"
          ]
        }
      ]
    },
    {
      "cell_type": "code",
      "source": [
        "# PIL모듈로 확인가능\n",
        "from PIL import Image"
      ],
      "metadata": {
        "id": "iV2xaAp3TPzF"
      },
      "execution_count": 123,
      "outputs": []
    },
    {
      "cell_type": "code",
      "source": [
        "img = x_train[0]\n",
        "label = t_train[0]\n",
        "print(label)"
      ],
      "metadata": {
        "colab": {
          "base_uri": "https://localhost:8080/"
        },
        "id": "K0nSeYBNToVQ",
        "outputId": "c888b7e5-3462-4ae6-8d0a-a4edddd45d70"
      },
      "execution_count": 124,
      "outputs": [
        {
          "output_type": "stream",
          "name": "stdout",
          "text": [
            "5\n"
          ]
        }
      ]
    },
    {
      "cell_type": "code",
      "source": [
        "print(img.shape)"
      ],
      "metadata": {
        "colab": {
          "base_uri": "https://localhost:8080/"
        },
        "id": "KAH-TcsHT2O9",
        "outputId": "80c204e8-d402-4fee-a0ff-6f333fba8d74"
      },
      "execution_count": 125,
      "outputs": [
        {
          "output_type": "stream",
          "name": "stdout",
          "text": [
            "(784,)\n"
          ]
        }
      ]
    },
    {
      "cell_type": "code",
      "source": [
        "img = img.reshape(28,28)\n",
        "print(img.shape)"
      ],
      "metadata": {
        "colab": {
          "base_uri": "https://localhost:8080/"
        },
        "id": "-7urZfjLT3se",
        "outputId": "28435986-196e-419b-dcb9-ac0b44425f7b"
      },
      "execution_count": 126,
      "outputs": [
        {
          "output_type": "stream",
          "name": "stdout",
          "text": [
            "(28, 28)\n"
          ]
        }
      ]
    },
    {
      "cell_type": "code",
      "source": [
        "def img_show(img):\n",
        "  pil_img = Image.fromarray(np.uint8(img))\n",
        "  pil_img.show()\n",
        "\n"
      ],
      "metadata": {
        "id": "MQkZQneQT6sS"
      },
      "execution_count": 127,
      "outputs": []
    },
    {
      "cell_type": "code",
      "source": [
        "img_show(img)"
      ],
      "metadata": {
        "id": "yzTxoVWQT9Z3"
      },
      "execution_count": 128,
      "outputs": []
    },
    {
      "cell_type": "code",
      "source": [
        "import pickle"
      ],
      "metadata": {
        "id": "KV2Pid0xWS08"
      },
      "execution_count": 129,
      "outputs": []
    },
    {
      "cell_type": "code",
      "source": [
        "# 신경망의 추론처리\n",
        "def get_data():\n",
        "  (x_train, t_train), (x_test, t_test) = load_mnist(normalize=True, flatten=True, one_hot_label =False)\n",
        "  return x_test, t_test\n",
        "\n",
        "def init_network():\n",
        "  with open(\"/content/deeplearning_from_scratch/ch3.신경망/sample_weight.pkl\",\"rb\") as f:\n",
        "    network = pickle.load(f)  # 학습된 가중치와 편향 매개변수가 딕셔너리 변수로 저장되어있음\n",
        "\n",
        "  return network\n",
        "\n",
        "def predict(network,x):\n",
        "  W1,W2,W3 =network['W1'],network['W2'],network['W3']\n",
        "  b1,b2,b3 =network['b1'],network['b2'],network['b3']\n",
        "\n",
        "  a1 = np.dot(x, W1) + b1\n",
        "  z1 = sigmoid(a1)\n",
        "  a2 = np.dot(z1, W2) + b2\n",
        "  z2 = sigmoid(a2)\n",
        "  a3 = np.dot(z2, W3) + b3\n",
        "  y = softmax(a3)\n",
        "  return y\n"
      ],
      "metadata": {
        "id": "KNQ2NfSfUlsK"
      },
      "execution_count": 130,
      "outputs": []
    },
    {
      "cell_type": "code",
      "source": [
        "x,t = get_data()"
      ],
      "metadata": {
        "id": "Wcaxbd5CVfyl"
      },
      "execution_count": 131,
      "outputs": []
    },
    {
      "cell_type": "code",
      "source": [
        "x"
      ],
      "metadata": {
        "colab": {
          "base_uri": "https://localhost:8080/"
        },
        "id": "LjK2SG9pWx3E",
        "outputId": "04c93d07-b9db-454a-af1b-a55c010af0ae"
      },
      "execution_count": 132,
      "outputs": [
        {
          "output_type": "execute_result",
          "data": {
            "text/plain": [
              "array([[0., 0., 0., ..., 0., 0., 0.],\n",
              "       [0., 0., 0., ..., 0., 0., 0.],\n",
              "       [0., 0., 0., ..., 0., 0., 0.],\n",
              "       ...,\n",
              "       [0., 0., 0., ..., 0., 0., 0.],\n",
              "       [0., 0., 0., ..., 0., 0., 0.],\n",
              "       [0., 0., 0., ..., 0., 0., 0.]], dtype=float32)"
            ]
          },
          "metadata": {},
          "execution_count": 132
        }
      ]
    },
    {
      "cell_type": "code",
      "source": [
        "x.shape"
      ],
      "metadata": {
        "colab": {
          "base_uri": "https://localhost:8080/"
        },
        "id": "a0jhMfpxWz4r",
        "outputId": "fbbc62b3-d77c-4fd6-9306-1ce78a78f1e4"
      },
      "execution_count": 133,
      "outputs": [
        {
          "output_type": "execute_result",
          "data": {
            "text/plain": [
              "(10000, 784)"
            ]
          },
          "metadata": {},
          "execution_count": 133
        }
      ]
    },
    {
      "cell_type": "code",
      "source": [
        "t"
      ],
      "metadata": {
        "colab": {
          "base_uri": "https://localhost:8080/"
        },
        "id": "CdjtInqGWypE",
        "outputId": "386e2556-3fde-4140-a6ad-6258b2697c34"
      },
      "execution_count": 134,
      "outputs": [
        {
          "output_type": "execute_result",
          "data": {
            "text/plain": [
              "array([7, 2, 1, ..., 4, 5, 6], dtype=uint8)"
            ]
          },
          "metadata": {},
          "execution_count": 134
        }
      ]
    },
    {
      "cell_type": "code",
      "source": [
        "network = init_network()"
      ],
      "metadata": {
        "id": "e5396VzqWCYY"
      },
      "execution_count": 135,
      "outputs": []
    },
    {
      "cell_type": "code",
      "source": [
        "accuracy_cnt = 0\n",
        "for i in range(len(x)):\n",
        "  y= predict(network, x[i])\n",
        "  p = np.argmax(y)\n",
        "  if p == t[i]:\n",
        "    accuracy_cnt += 1\n",
        "\n",
        "print(\"accuracy:\"+ str(float(accuracy_cnt)/ len(x)))"
      ],
      "metadata": {
        "colab": {
          "base_uri": "https://localhost:8080/"
        },
        "id": "LGCntlztWEgm",
        "outputId": "1aa9a79b-cf4a-43a6-8680-4b75c069d949"
      },
      "execution_count": 136,
      "outputs": [
        {
          "output_type": "stream",
          "name": "stdout",
          "text": [
            "accuracy:0.9352\n"
          ]
        }
      ]
    },
    {
      "cell_type": "code",
      "source": [
        "# 배치 처리\n",
        "# 입력 데이터와 가중치 매개변수의 형상에 주의해서 조금전의 구현을 다시 살펴봄\n",
        "\n",
        "x, _ = get_data()"
      ],
      "metadata": {
        "id": "Z4xR4WxWWkRB"
      },
      "execution_count": 137,
      "outputs": []
    },
    {
      "cell_type": "code",
      "source": [
        "x"
      ],
      "metadata": {
        "colab": {
          "base_uri": "https://localhost:8080/"
        },
        "id": "PKnXN9ptkw3d",
        "outputId": "b34695ec-c8a2-4ebc-f106-f836211a43df"
      },
      "execution_count": 138,
      "outputs": [
        {
          "output_type": "execute_result",
          "data": {
            "text/plain": [
              "array([[0., 0., 0., ..., 0., 0., 0.],\n",
              "       [0., 0., 0., ..., 0., 0., 0.],\n",
              "       [0., 0., 0., ..., 0., 0., 0.],\n",
              "       ...,\n",
              "       [0., 0., 0., ..., 0., 0., 0.],\n",
              "       [0., 0., 0., ..., 0., 0., 0.],\n",
              "       [0., 0., 0., ..., 0., 0., 0.]], dtype=float32)"
            ]
          },
          "metadata": {},
          "execution_count": 138
        }
      ]
    },
    {
      "cell_type": "code",
      "source": [
        "_"
      ],
      "metadata": {
        "colab": {
          "base_uri": "https://localhost:8080/"
        },
        "id": "bkFX7uClkxY9",
        "outputId": "496b7469-4a83-49af-a4ed-ee3807d4ae5d"
      },
      "execution_count": 139,
      "outputs": [
        {
          "output_type": "execute_result",
          "data": {
            "text/plain": [
              "array([[0., 0., 0., ..., 0., 0., 0.],\n",
              "       [0., 0., 0., ..., 0., 0., 0.],\n",
              "       [0., 0., 0., ..., 0., 0., 0.],\n",
              "       ...,\n",
              "       [0., 0., 0., ..., 0., 0., 0.],\n",
              "       [0., 0., 0., ..., 0., 0., 0.],\n",
              "       [0., 0., 0., ..., 0., 0., 0.]], dtype=float32)"
            ]
          },
          "metadata": {},
          "execution_count": 139
        }
      ]
    },
    {
      "cell_type": "code",
      "source": [
        "network = init_network()"
      ],
      "metadata": {
        "id": "bdFWzvFSkx2p"
      },
      "execution_count": 140,
      "outputs": []
    },
    {
      "cell_type": "code",
      "source": [
        "W1,W2,W3 = network['W1'], network['W2'], network['W3']\n"
      ],
      "metadata": {
        "id": "Wk4gYDjsk2VJ"
      },
      "execution_count": 141,
      "outputs": []
    },
    {
      "cell_type": "code",
      "source": [
        "x.shape"
      ],
      "metadata": {
        "colab": {
          "base_uri": "https://localhost:8080/"
        },
        "id": "kDuPQlHOk8L2",
        "outputId": "5bc003e5-8028-41b5-9aac-64c4172bd762"
      },
      "execution_count": 142,
      "outputs": [
        {
          "output_type": "execute_result",
          "data": {
            "text/plain": [
              "(10000, 784)"
            ]
          },
          "metadata": {},
          "execution_count": 142
        }
      ]
    },
    {
      "cell_type": "code",
      "source": [
        "x[0].shape"
      ],
      "metadata": {
        "colab": {
          "base_uri": "https://localhost:8080/"
        },
        "id": "O6nwJljBk86m",
        "outputId": "fb706178-e3e1-470c-d5b1-09dd5e7bb748"
      },
      "execution_count": 143,
      "outputs": [
        {
          "output_type": "execute_result",
          "data": {
            "text/plain": [
              "(784,)"
            ]
          },
          "metadata": {},
          "execution_count": 143
        }
      ]
    },
    {
      "cell_type": "code",
      "source": [
        "W1.shape"
      ],
      "metadata": {
        "colab": {
          "base_uri": "https://localhost:8080/"
        },
        "id": "fXHay0MWk9qs",
        "outputId": "2beb4cd7-f177-4b9c-fd11-7fcd12d9769c"
      },
      "execution_count": 144,
      "outputs": [
        {
          "output_type": "execute_result",
          "data": {
            "text/plain": [
              "(784, 50)"
            ]
          },
          "metadata": {},
          "execution_count": 144
        }
      ]
    },
    {
      "cell_type": "code",
      "source": [
        "W2.shape"
      ],
      "metadata": {
        "colab": {
          "base_uri": "https://localhost:8080/"
        },
        "id": "f2ND2eQjk-4Z",
        "outputId": "a5da22d0-7a14-4b5b-8e83-7e970ff9e28c"
      },
      "execution_count": 145,
      "outputs": [
        {
          "output_type": "execute_result",
          "data": {
            "text/plain": [
              "(50, 100)"
            ]
          },
          "metadata": {},
          "execution_count": 145
        }
      ]
    },
    {
      "cell_type": "code",
      "source": [
        "W3.shape"
      ],
      "metadata": {
        "colab": {
          "base_uri": "https://localhost:8080/"
        },
        "id": "UXna1vpYk_uI",
        "outputId": "8dc409a9-8de2-4592-f719-5f3088b6602f"
      },
      "execution_count": 146,
      "outputs": [
        {
          "output_type": "execute_result",
          "data": {
            "text/plain": [
              "(100, 10)"
            ]
          },
          "metadata": {},
          "execution_count": 146
        }
      ]
    },
    {
      "cell_type": "code",
      "source": [
        "# 배치 : 하나로 묶은 입력 데이터, 묶음, 이미지가 지폐처럼 다발로 묶여있다고 보면됨\n",
        "# 배치는 한장당 처리시간을 대폭 줄여줌 \n",
        "# 컴퓨터에서는 큰 배열을 한꺼번에 계산하는것이 분할된 작은 배열을 여러번 계산하는것보다 빠름\n",
        "batch_size = 100\n",
        "accuracy_cnt\n",
        "for i in range(0, len(x), batch_size):\n",
        "  x_batch = x[i:i+batch_size]\n",
        "  y_batch = predict(network, x_batch)\n",
        "  p = np.argmax(y_batch, axis =1)\n",
        "  accuracy_cnt += np.sum(p==t[i:i+batch_size])"
      ],
      "metadata": {
        "id": "qLeAACKllAy-"
      },
      "execution_count": 147,
      "outputs": []
    },
    {
      "cell_type": "code",
      "source": [
        "list(range(0,10))"
      ],
      "metadata": {
        "colab": {
          "base_uri": "https://localhost:8080/"
        },
        "id": "B_HVgqH3od13",
        "outputId": "814bdad4-1dd1-48e6-ce8b-68bd396d088f"
      },
      "execution_count": 148,
      "outputs": [
        {
          "output_type": "execute_result",
          "data": {
            "text/plain": [
              "[0, 1, 2, 3, 4, 5, 6, 7, 8, 9]"
            ]
          },
          "metadata": {},
          "execution_count": 148
        }
      ]
    },
    {
      "cell_type": "code",
      "source": [
        "list(range(0,10,3))"
      ],
      "metadata": {
        "colab": {
          "base_uri": "https://localhost:8080/"
        },
        "id": "d6ivQuiZnlew",
        "outputId": "7487542e-65af-4b48-c1c9-ee2b6c1531b4"
      },
      "execution_count": 149,
      "outputs": [
        {
          "output_type": "execute_result",
          "data": {
            "text/plain": [
              "[0, 3, 6, 9]"
            ]
          },
          "metadata": {},
          "execution_count": 149
        }
      ]
    },
    {
      "cell_type": "code",
      "source": [
        "x= np.array([[0.1,0.8,0.1], [0.3,0.1,0.6], [0.2,0.5,0.3], [0.9, 0.1,0.1]])\n",
        "y= np.argmax(x, axis=1)  # 최대값의 인덱스를 가져옴, 값이 아니라 인덱스임"
      ],
      "metadata": {
        "id": "xrxwZVDSoxje"
      },
      "execution_count": 150,
      "outputs": []
    },
    {
      "cell_type": "code",
      "source": [
        "y"
      ],
      "metadata": {
        "colab": {
          "base_uri": "https://localhost:8080/"
        },
        "id": "CEhVnaWPpdpe",
        "outputId": "23651f50-5e0d-4fe8-ab82-02241a2df5cb"
      },
      "execution_count": 151,
      "outputs": [
        {
          "output_type": "execute_result",
          "data": {
            "text/plain": [
              "array([1, 2, 1, 0])"
            ]
          },
          "metadata": {},
          "execution_count": 151
        }
      ]
    },
    {
      "cell_type": "code",
      "source": [
        "y = np.array([1,2,1,0])\n",
        "t= np.array([1,2,0,0])\n",
        "print(y==t)"
      ],
      "metadata": {
        "colab": {
          "base_uri": "https://localhost:8080/"
        },
        "id": "1tdMMoXrpiQ2",
        "outputId": "abe855ad-be74-424c-b7d3-63271d18b541"
      },
      "execution_count": 152,
      "outputs": [
        {
          "output_type": "stream",
          "name": "stdout",
          "text": [
            "[ True  True False  True]\n"
          ]
        }
      ]
    },
    {
      "cell_type": "code",
      "source": [
        "np.sum(y==t)"
      ],
      "metadata": {
        "colab": {
          "base_uri": "https://localhost:8080/"
        },
        "id": "h9rNiYRlr8XD",
        "outputId": "8ecb837d-bc28-4333-83a4-879271550a6c"
      },
      "execution_count": 153,
      "outputs": [
        {
          "output_type": "execute_result",
          "data": {
            "text/plain": [
              "3"
            ]
          },
          "metadata": {},
          "execution_count": 153
        }
      ]
    },
    {
      "cell_type": "code",
      "source": [
        ""
      ],
      "metadata": {
        "id": "FhyyWvBVr9Xr"
      },
      "execution_count": 153,
      "outputs": []
    },
    {
      "cell_type": "markdown",
      "source": [
        "# ch4 . 신경망 학습 "
      ],
      "metadata": {
        "id": "h0WMK3h5sJuB"
      }
    },
    {
      "cell_type": "code",
      "source": [
        "# 훈련 데이터로부터 가중치 매개변수의 최적값을 자동으로 획득하는 방법\n",
        "# 신경망과 딥러닝은 기존 기계학습에서 사용하던 방법보다 사람의 개입을 더욱 배제할 수 있게 해주는 중요한 특성 지님\n"
      ],
      "metadata": {
        "id": "sNCbcN57sNKK"
      },
      "execution_count": 154,
      "outputs": []
    },
    {
      "cell_type": "code",
      "source": [
        "# 손실함수\n",
        "# 일반적으로 오차제곱합과 교차 엔트로피 오차를 사용\n",
        "\n"
      ],
      "metadata": {
        "id": "8gs7kszYukS_"
      },
      "execution_count": 155,
      "outputs": []
    },
    {
      "cell_type": "code",
      "source": [
        "# 오차제곱합\n",
        "\n",
        "import numpy as np\n",
        "def sum_squares_error(y,t):\n",
        "  return 0.5 * np.sum((y-t)**2)"
      ],
      "metadata": {
        "id": "pChZHbH2vwXr"
      },
      "execution_count": 156,
      "outputs": []
    },
    {
      "cell_type": "code",
      "source": [
        "t= [0,0,1,0,0,0,0,0,0,0]\n",
        "y= [0.1,0.05, 0.6,0, 0.05, 0.1,0,0.1,0,0]"
      ],
      "metadata": {
        "id": "ohuo8qzWv3ud"
      },
      "execution_count": 157,
      "outputs": []
    },
    {
      "cell_type": "code",
      "source": [
        "sum_squares_error(np.array(t), np.array(y))"
      ],
      "metadata": {
        "colab": {
          "base_uri": "https://localhost:8080/"
        },
        "id": "iu5dQZW1wJ_1",
        "outputId": "7b852229-2d07-477e-a825-0adaa469ad8f"
      },
      "execution_count": 158,
      "outputs": [
        {
          "output_type": "execute_result",
          "data": {
            "text/plain": [
              "0.09750000000000003"
            ]
          },
          "metadata": {},
          "execution_count": 158
        }
      ]
    },
    {
      "cell_type": "code",
      "source": [
        "y= [0.1,0.05, 0.1, 0, 0.05,0.1,0,0.6,0,0]"
      ],
      "metadata": {
        "id": "y-RFE6G9wL9A"
      },
      "execution_count": 159,
      "outputs": []
    },
    {
      "cell_type": "code",
      "source": [
        "sum_squares_error(np.array(t), np.array(y))"
      ],
      "metadata": {
        "colab": {
          "base_uri": "https://localhost:8080/"
        },
        "id": "jFF9rdi8wWal",
        "outputId": "7fb12621-b041-4f2a-fddf-27890fd7c80f"
      },
      "execution_count": 160,
      "outputs": [
        {
          "output_type": "execute_result",
          "data": {
            "text/plain": [
              "0.5975"
            ]
          },
          "metadata": {},
          "execution_count": 160
        }
      ]
    },
    {
      "cell_type": "code",
      "source": [
        "# 교차엔트로피 \n",
        "def cross_entropy_error(y,t):\n",
        "  delta = 1e-7\n",
        "  return -np.sum(t* np.log(y+delta)) # delta 아주작은값을 더해서 절대 0이되지않게 해줌\n"
      ],
      "metadata": {
        "id": "FVDZpLjIwXdz"
      },
      "execution_count": 161,
      "outputs": []
    },
    {
      "cell_type": "code",
      "source": [
        "t= [0,0,1,0,0,0,0,0,0,0]\n",
        "y= [0.1,0.05, 0.6,0, 0.05, 0.1,0,0.1,0,0]\n",
        "\n",
        "cross_entropy_error(np.array(y), np.array(t))"
      ],
      "metadata": {
        "colab": {
          "base_uri": "https://localhost:8080/"
        },
        "id": "MknVXbEn3dBf",
        "outputId": "79fe5fc4-e913-4320-e7cb-361f488444af"
      },
      "execution_count": 162,
      "outputs": [
        {
          "output_type": "execute_result",
          "data": {
            "text/plain": [
              "0.510825457099338"
            ]
          },
          "metadata": {},
          "execution_count": 162
        }
      ]
    },
    {
      "cell_type": "code",
      "source": [
        "y= [0.1,0.05, 0.1, 0, 0.05,0.1,0,0.6,0,0]\n",
        "\n",
        "cross_entropy_error(np.array(y), np.array(t))"
      ],
      "metadata": {
        "colab": {
          "base_uri": "https://localhost:8080/"
        },
        "id": "f_ek-ZsI3lUL",
        "outputId": "95dc1455-4f2f-4419-a017-d701398d0241"
      },
      "execution_count": 163,
      "outputs": [
        {
          "output_type": "execute_result",
          "data": {
            "text/plain": [
              "2.302584092994546"
            ]
          },
          "metadata": {},
          "execution_count": 163
        }
      ]
    },
    {
      "cell_type": "code",
      "source": [
        "np.array(t) * np.log(np.array(y)+1e-7)"
      ],
      "metadata": {
        "colab": {
          "base_uri": "https://localhost:8080/"
        },
        "id": "NWSksX0T4BUI",
        "outputId": "08bdceb7-0c5b-4a28-e2c8-f60ec900638b"
      },
      "execution_count": 164,
      "outputs": [
        {
          "output_type": "execute_result",
          "data": {
            "text/plain": [
              "array([-0.        , -0.        , -2.30258409, -0.        , -0.        ,\n",
              "       -0.        , -0.        , -0.        , -0.        , -0.        ])"
            ]
          },
          "metadata": {},
          "execution_count": 164
        }
      ]
    },
    {
      "cell_type": "code",
      "source": [
        "np.sum(np.array(t) * np.log(np.array(y)+1e-7))"
      ],
      "metadata": {
        "colab": {
          "base_uri": "https://localhost:8080/"
        },
        "id": "3XrZRqyu4LmB",
        "outputId": "b4078243-08f0-4939-c271-e3b13567cabb"
      },
      "execution_count": 165,
      "outputs": [
        {
          "output_type": "execute_result",
          "data": {
            "text/plain": [
              "-2.302584092994546"
            ]
          },
          "metadata": {},
          "execution_count": 165
        }
      ]
    },
    {
      "cell_type": "code",
      "source": [
        "# 매니배치 학습\n",
        "# 데이터가 많은경우, 손실함수의 합을 구하려면 시간이 오래걸림\n",
        "# 데이터 일부를 추려 전체의 근사치로 이용할 수 있음\n",
        "# 신경망 학습에도 일부만 골라 학습을 수행함(미니배치)\n",
        "# 6만장중 100장을 무작위로 뽑아 그 100장만을 사용하여 학습하는것\n"
      ],
      "metadata": {
        "id": "-Icey28O4U9N"
      },
      "execution_count": 166,
      "outputs": []
    },
    {
      "cell_type": "code",
      "source": [
        "import sys, os\n",
        "(x_train, t_train), (x_test, t_test) = load_mnist(normalize = True, one_hot_label = True)\n"
      ],
      "metadata": {
        "id": "rKSOv5bF7ueH"
      },
      "execution_count": 167,
      "outputs": []
    },
    {
      "cell_type": "code",
      "source": [
        "train_size = x_train.shape[0] ; train_size"
      ],
      "metadata": {
        "colab": {
          "base_uri": "https://localhost:8080/"
        },
        "id": "4GQcchoz7601",
        "outputId": "5a7fc6bb-54d9-4751-86f6-321d472e3653"
      },
      "execution_count": 168,
      "outputs": [
        {
          "output_type": "execute_result",
          "data": {
            "text/plain": [
              "60000"
            ]
          },
          "metadata": {},
          "execution_count": 168
        }
      ]
    },
    {
      "cell_type": "code",
      "source": [
        "batch_size = 10\n",
        "batch_mask = np.random.choice(train_size, batch_size)\n",
        "batch_mask"
      ],
      "metadata": {
        "colab": {
          "base_uri": "https://localhost:8080/"
        },
        "id": "wQO-gIY18EXi",
        "outputId": "3fbc582a-9717-4858-8a1a-a4f7dfab07b2"
      },
      "execution_count": 169,
      "outputs": [
        {
          "output_type": "execute_result",
          "data": {
            "text/plain": [
              "array([ 7802, 31176,  2742, 55652, 23945, 47035, 57740, 23906, 34060,\n",
              "       20756])"
            ]
          },
          "metadata": {},
          "execution_count": 169
        }
      ]
    },
    {
      "cell_type": "code",
      "source": [
        "x_batch = x_train[batch_mask]\n",
        "t_batch = t_train[batch_mask]"
      ],
      "metadata": {
        "id": "QBx4d6cl8JSG"
      },
      "execution_count": 170,
      "outputs": []
    },
    {
      "cell_type": "code",
      "source": [
        "np.random.choice(60000,10)"
      ],
      "metadata": {
        "colab": {
          "base_uri": "https://localhost:8080/"
        },
        "id": "upO20dpU9-ZK",
        "outputId": "8d974467-9802-4fe5-b293-4783a1204235"
      },
      "execution_count": 171,
      "outputs": [
        {
          "output_type": "execute_result",
          "data": {
            "text/plain": [
              "array([35985, 29964, 33678, 37021, 16736,  8810, 46265,  5850, 44830,\n",
              "       25760])"
            ]
          },
          "metadata": {},
          "execution_count": 171
        }
      ]
    },
    {
      "cell_type": "code",
      "source": [
        "#배치용 교차 엔트로피 오차 구현하기\n",
        "def cross_entropy_error(y,t):\n",
        "  if y.ndim == 1:  # y가 1차원인경우\n",
        "    t = t.reshape(1, t.size)\n",
        "    y = y.reshape(1, y.size)\n",
        "  batch_size = y.shape[0]\n",
        "  return -np.sum(t * np.log(y + 1e-7)) / batch_size"
      ],
      "metadata": {
        "id": "KuQjfMZo-AY8"
      },
      "execution_count": 172,
      "outputs": []
    },
    {
      "cell_type": "code",
      "source": [
        "# 정답 레이블이 원핫인코딩이 아니라 숫자레이블로 주어졌을때의 교차 엔트로피\n",
        "def cross_entropy_error(y,t):\n",
        "  if y.ndim == 1:  # y가 1차원인경우\n",
        "    t = t.reshape(1, t.size)\n",
        "    y = y.reshape(1, y.size)\n",
        "  batch_size = y.shape[0]\n",
        "  return -np.sum(t * np.log(y[np.arange(batch_size), t] + 1e-7)) / batch_size"
      ],
      "metadata": {
        "id": "Lr-tlZ1hADAi"
      },
      "execution_count": 173,
      "outputs": []
    },
    {
      "cell_type": "code",
      "source": [
        "# 정확도를 지표로 삼으면 매개변수의 미분이 대부분의 장소에서 0이되는 이유\n",
        "# 100장중 32개 정확하게 맞춤\n",
        "# 매개변수 약간조정해도 32%라는 숫자에서 변동 없을 가능성 생김\n"
      ],
      "metadata": {
        "id": "5vHUEtPaEWsP"
      },
      "execution_count": 174,
      "outputs": []
    },
    {
      "cell_type": "code",
      "source": [
        "# 수치미분\n",
        "# 경사법에서는 기울기 값을 기준으로 나아갈 방향을 정함\n",
        "def numerical_diff(f, x):\n",
        "  h = 10e-50\n",
        "  return (f(x+h) -f(x)) /h\n",
        "# 얼핏보면 문제가 없어보이지만 개선할게 두가지 있음\n",
        "# h값 : 반올림 오차 문제 일으킴\n"
      ],
      "metadata": {
        "id": "QPTdrW6hIS8u"
      },
      "execution_count": 175,
      "outputs": []
    },
    {
      "cell_type": "code",
      "source": [
        "# 문제1\n",
        "np.float32(1e-50) # 올바른 푠현이 안나옴\n",
        "# 너무 작은값을 이용하면 컴퓨터로 계산하는데 문제가 됨\n",
        "# h값을 10^-4 정도로 바꿈"
      ],
      "metadata": {
        "colab": {
          "base_uri": "https://localhost:8080/"
        },
        "id": "bmasJqN30D-Z",
        "outputId": "a07dff48-2ad3-472a-d665-9e6258f06f9c"
      },
      "execution_count": 176,
      "outputs": [
        {
          "output_type": "execute_result",
          "data": {
            "text/plain": [
              "0.0"
            ]
          },
          "metadata": {},
          "execution_count": 176
        }
      ]
    },
    {
      "cell_type": "code",
      "source": [
        "# 문제2\n",
        "# 함수 f의 차분과 관련한것\n",
        "# 진정한 미분은 X위치의 함수의 기울기에 해당하지만, 이번 구현에서의 미분은 x+h , x사이의 기울기에 해당\n",
        "# 이러한 오차를 줄이기위해 , 중심차분을 사용하기도 함\n",
        "def numerical_diff(f,x):\n",
        "  h = 1e-4 \n",
        "  return (f(x+h) - f(x-h)) / (2*h)\n"
      ],
      "metadata": {
        "id": "a1VRxNUF0FiU"
      },
      "execution_count": 177,
      "outputs": []
    },
    {
      "cell_type": "code",
      "source": [
        "# 수치미분의 예\n",
        "def function_1(x):\n",
        "  return 0.01*x**2 + 0.1*x"
      ],
      "metadata": {
        "id": "MACK2yNe5buV"
      },
      "execution_count": 178,
      "outputs": []
    },
    {
      "cell_type": "code",
      "source": [
        "import numpy as np \n",
        "import matplotlib.pyplot as plt \n",
        "x = np.arange(0,20,0.1)\n",
        "y = function_1(x); y"
      ],
      "metadata": {
        "colab": {
          "base_uri": "https://localhost:8080/"
        },
        "id": "vRbG793g5ymW",
        "outputId": "7815fc05-5a7d-44d0-96dd-3971f8f14490"
      },
      "execution_count": 179,
      "outputs": [
        {
          "output_type": "execute_result",
          "data": {
            "text/plain": [
              "array([0.    , 0.0101, 0.0204, 0.0309, 0.0416, 0.0525, 0.0636, 0.0749,\n",
              "       0.0864, 0.0981, 0.11  , 0.1221, 0.1344, 0.1469, 0.1596, 0.1725,\n",
              "       0.1856, 0.1989, 0.2124, 0.2261, 0.24  , 0.2541, 0.2684, 0.2829,\n",
              "       0.2976, 0.3125, 0.3276, 0.3429, 0.3584, 0.3741, 0.39  , 0.4061,\n",
              "       0.4224, 0.4389, 0.4556, 0.4725, 0.4896, 0.5069, 0.5244, 0.5421,\n",
              "       0.56  , 0.5781, 0.5964, 0.6149, 0.6336, 0.6525, 0.6716, 0.6909,\n",
              "       0.7104, 0.7301, 0.75  , 0.7701, 0.7904, 0.8109, 0.8316, 0.8525,\n",
              "       0.8736, 0.8949, 0.9164, 0.9381, 0.96  , 0.9821, 1.0044, 1.0269,\n",
              "       1.0496, 1.0725, 1.0956, 1.1189, 1.1424, 1.1661, 1.19  , 1.2141,\n",
              "       1.2384, 1.2629, 1.2876, 1.3125, 1.3376, 1.3629, 1.3884, 1.4141,\n",
              "       1.44  , 1.4661, 1.4924, 1.5189, 1.5456, 1.5725, 1.5996, 1.6269,\n",
              "       1.6544, 1.6821, 1.71  , 1.7381, 1.7664, 1.7949, 1.8236, 1.8525,\n",
              "       1.8816, 1.9109, 1.9404, 1.9701, 2.    , 2.0301, 2.0604, 2.0909,\n",
              "       2.1216, 2.1525, 2.1836, 2.2149, 2.2464, 2.2781, 2.31  , 2.3421,\n",
              "       2.3744, 2.4069, 2.4396, 2.4725, 2.5056, 2.5389, 2.5724, 2.6061,\n",
              "       2.64  , 2.6741, 2.7084, 2.7429, 2.7776, 2.8125, 2.8476, 2.8829,\n",
              "       2.9184, 2.9541, 2.99  , 3.0261, 3.0624, 3.0989, 3.1356, 3.1725,\n",
              "       3.2096, 3.2469, 3.2844, 3.3221, 3.36  , 3.3981, 3.4364, 3.4749,\n",
              "       3.5136, 3.5525, 3.5916, 3.6309, 3.6704, 3.7101, 3.75  , 3.7901,\n",
              "       3.8304, 3.8709, 3.9116, 3.9525, 3.9936, 4.0349, 4.0764, 4.1181,\n",
              "       4.16  , 4.2021, 4.2444, 4.2869, 4.3296, 4.3725, 4.4156, 4.4589,\n",
              "       4.5024, 4.5461, 4.59  , 4.6341, 4.6784, 4.7229, 4.7676, 4.8125,\n",
              "       4.8576, 4.9029, 4.9484, 4.9941, 5.04  , 5.0861, 5.1324, 5.1789,\n",
              "       5.2256, 5.2725, 5.3196, 5.3669, 5.4144, 5.4621, 5.51  , 5.5581,\n",
              "       5.6064, 5.6549, 5.7036, 5.7525, 5.8016, 5.8509, 5.9004, 5.9501])"
            ]
          },
          "metadata": {},
          "execution_count": 179
        }
      ]
    },
    {
      "cell_type": "code",
      "source": [
        "plt.xlabel('x')\n",
        "plt.ylabel('y')\n",
        "plt.plot(x,y)\n",
        "plt.show()"
      ],
      "metadata": {
        "colab": {
          "base_uri": "https://localhost:8080/",
          "height": 279
        },
        "id": "FoApe3NM6FhL",
        "outputId": "b331dd3c-2d2d-4943-e924-53c5863f11d1"
      },
      "execution_count": 180,
      "outputs": [
        {
          "output_type": "display_data",
          "data": {
            "image/png": "[encoded data removed]",
            "text/plain": [
              "<Figure size 432x288 with 1 Axes>"
            ]
          },
          "metadata": {
            "needs_background": "light"
          }
        }
      ]
    },
    {
      "cell_type": "code",
      "source": [
        "numerical_diff(function_1, 5) # 5지점의 기울기"
      ],
      "metadata": {
        "colab": {
          "base_uri": "https://localhost:8080/"
        },
        "id": "fxmZ5ilL6NFK",
        "outputId": "1b746055-d419-45b1-c767-6cf6c8a6765d"
      },
      "execution_count": 181,
      "outputs": [
        {
          "output_type": "execute_result",
          "data": {
            "text/plain": [
              "0.1999999999990898"
            ]
          },
          "metadata": {},
          "execution_count": 181
        }
      ]
    },
    {
      "cell_type": "code",
      "source": [
        "numerical_diff(function_1, 10)"
      ],
      "metadata": {
        "colab": {
          "base_uri": "https://localhost:8080/"
        },
        "id": "IaVdHcNP6Ygz",
        "outputId": "699a7855-c63d-4444-a3b1-6c812f326845"
      },
      "execution_count": 182,
      "outputs": [
        {
          "output_type": "execute_result",
          "data": {
            "text/plain": [
              "0.2999999999986347"
            ]
          },
          "metadata": {},
          "execution_count": 182
        }
      ]
    },
    {
      "cell_type": "code",
      "source": [
        "# 편미분  : 변수가 여럿인 함수에 대한 미분을 편미분이라함\n",
        "def function_2(x):\n",
        "  return x[0]**2 + x[1]**2  # np.sum(x**2) 로 표현할수도있음\n"
      ],
      "metadata": {
        "id": "pffdl-DA6bDX"
      },
      "execution_count": 183,
      "outputs": []
    },
    {
      "cell_type": "code",
      "source": [
        "# x0=3, x1=4일때의 x0에 대한 미분값\n",
        "def function_tmp1(x0): \n",
        "  return x0*x0 + 4.0**2"
      ],
      "metadata": {
        "id": "PckhFbdH6pi_"
      },
      "execution_count": 184,
      "outputs": []
    },
    {
      "cell_type": "code",
      "source": [
        "numerical_diff(function_tmp1, 3) "
      ],
      "metadata": {
        "colab": {
          "base_uri": "https://localhost:8080/"
        },
        "id": "EYXxFGyZ6_LS",
        "outputId": "f2f0b5ae-c86b-4a5a-da60-3dd63666143e"
      },
      "execution_count": 185,
      "outputs": [
        {
          "output_type": "execute_result",
          "data": {
            "text/plain": [
              "6.00000000000378"
            ]
          },
          "metadata": {},
          "execution_count": 185
        }
      ]
    },
    {
      "cell_type": "code",
      "source": [
        "# x0=3, x1=4일때의 x1에 대한 미분값\n",
        "def function_tmp2(x1):\n",
        "  return 3**2 + x1*x1"
      ],
      "metadata": {
        "id": "oy11r9DC7CLW"
      },
      "execution_count": 186,
      "outputs": []
    },
    {
      "cell_type": "code",
      "source": [
        "numerical_diff(function_tmp2, 4)"
      ],
      "metadata": {
        "colab": {
          "base_uri": "https://localhost:8080/"
        },
        "id": "GzXmLe_Z8qzJ",
        "outputId": "6bd5a420-deaa-41b9-a6cc-f72cef6235bb"
      },
      "execution_count": 187,
      "outputs": [
        {
          "output_type": "execute_result",
          "data": {
            "text/plain": [
              "7.999999999999119"
            ]
          },
          "metadata": {},
          "execution_count": 187
        }
      ]
    },
    {
      "cell_type": "code",
      "source": [
        "# 기울기 : 모든변수의 편미분을 벡터로 정리한것\n",
        "def numerical_gradient(f,x):\n",
        "  h = 1e-4\n",
        "  grad = np.zeros_like(x) # x와 형상이 같은 배열 생성\n",
        "  \n",
        "  for idx in range(x.size): # x,size만큼 반복수행\n",
        "    tmp_val = x[idx] \n",
        "    \n",
        "    # f(x+h) 계산\n",
        "    x[idx] = tmp_val + h\n",
        "    fxh1 = f(x)\n",
        "\n",
        "    # f(x-h) 계산\n",
        "    x[idx] = tmp_val - h\n",
        "    fxh2 = f(x)\n",
        "\n",
        "    grad[idx] = (fxh1 - fxh2) / (2*h)\n",
        "    x[idx] = tmp_val\n",
        "  \n",
        "  return grad"
      ],
      "metadata": {
        "id": "FOTs6g0Y8tBE"
      },
      "execution_count": 188,
      "outputs": []
    },
    {
      "cell_type": "code",
      "source": [
        "numerical_gradient(function_2, np.array([3.0,4.0]))  #   np.array([3,4]) 로 했을경우 답이 다른이유??"
      ],
      "metadata": {
        "colab": {
          "base_uri": "https://localhost:8080/"
        },
        "id": "Z9nljfYq-kaa",
        "outputId": "9cb7355d-7b6c-41b9-fa4f-50e59cce8a03"
      },
      "execution_count": 189,
      "outputs": [
        {
          "output_type": "execute_result",
          "data": {
            "text/plain": [
              "array([6., 8.])"
            ]
          },
          "metadata": {},
          "execution_count": 189
        }
      ]
    },
    {
      "cell_type": "code",
      "source": [
        "numerical_gradient(function_2, np.array([0.0,2.0]))"
      ],
      "metadata": {
        "colab": {
          "base_uri": "https://localhost:8080/"
        },
        "id": "MVnmsrvD_gsW",
        "outputId": "24af4797-dfd8-4d01-b44b-72314ea8f0df"
      },
      "execution_count": 190,
      "outputs": [
        {
          "output_type": "execute_result",
          "data": {
            "text/plain": [
              "array([0., 4.])"
            ]
          },
          "metadata": {},
          "execution_count": 190
        }
      ]
    },
    {
      "cell_type": "code",
      "source": [
        "numerical_gradient(function_2, np.array([3.0,0.0]))"
      ],
      "metadata": {
        "colab": {
          "base_uri": "https://localhost:8080/"
        },
        "id": "8Cz0xoICBNgt",
        "outputId": "558757b5-2286-451e-d04e-56ec1a89c68c"
      },
      "execution_count": 191,
      "outputs": [
        {
          "output_type": "execute_result",
          "data": {
            "text/plain": [
              "array([6., 0.])"
            ]
          },
          "metadata": {},
          "execution_count": 191
        }
      ]
    },
    {
      "cell_type": "code",
      "source": [
        "# 경사하강법\n",
        "# 경사법은 기계학습을 최적화하는데 흔히쓰는 방법, 특히 신경망 학습에는 경사법을 많이 사용\n",
        "def gradient_descent(f, init_x , lr=0.01, step_num=100): # f는 최적화하려는 함수, init_x 는 초깃값, step_num은 반복횟수\n",
        "  x = init_x\n",
        "\n",
        "  for i in range(step_num) : \n",
        "    grad = numerical_gradient(f,x)\n",
        "    x -= lr*grad\n",
        "  return x "
      ],
      "metadata": {
        "id": "1gBSlYEOEAsh"
      },
      "execution_count": 192,
      "outputs": []
    },
    {
      "cell_type": "code",
      "source": [
        "init_x = np.array([-3.0, 4.0])\n",
        "# 최솟값 구하기\n",
        "gradient_descent(function_2, init_x = init_x , lr= 0.1, step_num=100)  # 결과값은 거의 0에 가까움 (0,0)"
      ],
      "metadata": {
        "colab": {
          "base_uri": "https://localhost:8080/"
        },
        "id": "n7d7BNNMMGZM",
        "outputId": "6c00af1a-5bb3-4954-db0f-3a92b93064fc"
      },
      "execution_count": 193,
      "outputs": [
        {
          "output_type": "execute_result",
          "data": {
            "text/plain": [
              "array([-6.11110793e-10,  8.14814391e-10])"
            ]
          },
          "metadata": {},
          "execution_count": 193
        }
      ]
    },
    {
      "cell_type": "code",
      "source": [
        "# 학습률이 너무큰예\n",
        "gradient_descent(function_2, init_x = init_x , lr= 10, step_num=100)  \n"
      ],
      "metadata": {
        "colab": {
          "base_uri": "https://localhost:8080/"
        },
        "id": "J-a1SzcyMWYj",
        "outputId": "038ce77f-8a0d-4de7-be78-5c3f35b396a2"
      },
      "execution_count": 194,
      "outputs": [
        {
          "output_type": "execute_result",
          "data": {
            "text/plain": [
              "array([ 2.34235971e+12, -3.96091057e+12])"
            ]
          },
          "metadata": {},
          "execution_count": 194
        }
      ]
    },
    {
      "cell_type": "code",
      "source": [
        "# 학습률이 너무 작은예\n",
        "gradient_descent(function_2, init_x = init_x , lr= 1e-10, step_num=100)  "
      ],
      "metadata": {
        "colab": {
          "base_uri": "https://localhost:8080/"
        },
        "id": "SXOEs129MmmN",
        "outputId": "22703bf7-85d9-4a08-d20a-face77eef784"
      },
      "execution_count": 195,
      "outputs": [
        {
          "output_type": "execute_result",
          "data": {
            "text/plain": [
              "array([ 2.34235971e+12, -3.96091057e+12])"
            ]
          },
          "metadata": {},
          "execution_count": 195
        }
      ]
    },
    {
      "cell_type": "code",
      "source": [
        "# 신경망에서 기울기\n",
        "import sys, os\n",
        "a =  '/content/deeplearning_from_scratch/common/'\n",
        "sys.path.append(os.pardir)\n",
        "sys.path.append(a)\n",
        "\n",
        "import numpy as np\n",
        "from functions import softmax, cross_entropy_error \n",
        "from gradient import  numerical_gradient\n"
      ],
      "metadata": {
        "id": "doXRdX3pMukz"
      },
      "execution_count": 196,
      "outputs": []
    },
    {
      "cell_type": "code",
      "source": [
        "class simpleNet: \n",
        "  def __init__(self):\n",
        "    self.W = np.random.randn(2,3) #정규분포로 초기화\n",
        "  \n",
        "  def predict(self, x):\n",
        "    return np.dot(x, self.W)\n",
        "  \n",
        "  def loss(self, x, t):\n",
        "    z = self.predict(x)\n",
        "    y = softmax(z)\n",
        "    loss = cross_entropy_error(y,t)\n",
        "  \n",
        "    return loss\n",
        "  "
      ],
      "metadata": {
        "id": "GqNxP5tmOugk"
      },
      "execution_count": 197,
      "outputs": []
    },
    {
      "cell_type": "code",
      "source": [
        "net = simpleNet()\n",
        "print(net.W) "
      ],
      "metadata": {
        "colab": {
          "base_uri": "https://localhost:8080/"
        },
        "id": "RuZLUsXMOjPa",
        "outputId": "6a5d6bd1-7327-41d7-d77f-d573e2658dcd"
      },
      "execution_count": 198,
      "outputs": [
        {
          "output_type": "stream",
          "name": "stdout",
          "text": [
            "[[ 1.36449496  0.48970699 -0.03258735]\n",
            " [-0.38136937 -0.56206575  0.41744633]]\n"
          ]
        }
      ]
    },
    {
      "cell_type": "code",
      "source": [
        "x = np.array([0.6, 0.9])\n",
        "p = net.predict(x)\n",
        "print(p)"
      ],
      "metadata": {
        "colab": {
          "base_uri": "https://localhost:8080/"
        },
        "id": "UyPdf8gWQm3-",
        "outputId": "6cfa84b9-eac3-43ff-c1f2-951ca230ea76"
      },
      "execution_count": 199,
      "outputs": [
        {
          "output_type": "stream",
          "name": "stdout",
          "text": [
            "[ 0.47546454 -0.21203498  0.35614929]\n"
          ]
        }
      ]
    },
    {
      "cell_type": "code",
      "source": [
        "np.argmax(p) # 최대값의 인덱스"
      ],
      "metadata": {
        "colab": {
          "base_uri": "https://localhost:8080/"
        },
        "id": "CKDi1996QwlL",
        "outputId": "b8d8377e-8999-4840-e377-10862eab3777"
      },
      "execution_count": 200,
      "outputs": [
        {
          "output_type": "execute_result",
          "data": {
            "text/plain": [
              "0"
            ]
          },
          "metadata": {},
          "execution_count": 200
        }
      ]
    },
    {
      "cell_type": "code",
      "source": [
        "t= np.array([0,0,1]) # 정답레이블\n",
        "net.loss(x,t) # x= [0.6, 0.9] / t = [0, 0, 1]"
      ],
      "metadata": {
        "colab": {
          "base_uri": "https://localhost:8080/"
        },
        "id": "EKQNFUPcQ61J",
        "outputId": "c92c73a8-2398-459f-8294-156a1cf16dd0"
      },
      "execution_count": 201,
      "outputs": [
        {
          "output_type": "execute_result",
          "data": {
            "text/plain": [
              "0.9907591438931664"
            ]
          },
          "metadata": {},
          "execution_count": 201
        }
      ]
    },
    {
      "cell_type": "code",
      "source": [
        "def f(W):\n",
        "  return net.loss(x,t)\n"
      ],
      "metadata": {
        "id": "YYgTJ7FeQz8m"
      },
      "execution_count": 202,
      "outputs": []
    },
    {
      "cell_type": "code",
      "source": [
        "dW = numerical_gradient(f, net.W)"
      ],
      "metadata": {
        "id": "Yshx5zf4XbpW"
      },
      "execution_count": 203,
      "outputs": []
    },
    {
      "cell_type": "code",
      "source": [
        "print(dW)"
      ],
      "metadata": {
        "colab": {
          "base_uri": "https://localhost:8080/"
        },
        "id": "iyXspJr1Xer3",
        "outputId": "7c029ad4-8e82-4214-ba35-db611f9eb7b9"
      },
      "execution_count": 204,
      "outputs": [
        {
          "output_type": "stream",
          "name": "stdout",
          "text": [
            "[[ 0.25100824  0.12621493 -0.37722317]\n",
            " [ 0.37651236  0.18932239 -0.56583475]]\n"
          ]
        }
      ]
    },
    {
      "cell_type": "code",
      "source": [
        "f = lambda w: net.loss(x,t)"
      ],
      "metadata": {
        "id": "gdRVHgCmXg0Y"
      },
      "execution_count": 205,
      "outputs": []
    },
    {
      "cell_type": "code",
      "source": [
        "dW = numerical_gradient(f, net.W)"
      ],
      "metadata": {
        "id": "xutyWPZtX_Gr"
      },
      "execution_count": 206,
      "outputs": []
    },
    {
      "cell_type": "code",
      "source": [
        "print(dW)"
      ],
      "metadata": {
        "colab": {
          "base_uri": "https://localhost:8080/"
        },
        "id": "rHpoEXq6YFPB",
        "outputId": "48723a31-3ffe-4807-9cc5-532a198a7d69"
      },
      "execution_count": 207,
      "outputs": [
        {
          "output_type": "stream",
          "name": "stdout",
          "text": [
            "[[ 0.25100824  0.12621493 -0.37722317]\n",
            " [ 0.37651236  0.18932239 -0.56583475]]\n"
          ]
        }
      ]
    },
    {
      "cell_type": "code",
      "source": [
        "# 학습 알고리즘 구현하기\n",
        "# 확률적 경사하강법(SGD) WHY? 데이터를 미니배치로 무작위로 선정함\n",
        "# 대부분의 딥러닝 프레임워크는 SGD\n"
      ],
      "metadata": {
        "id": "jLrhsZWGYHww"
      },
      "execution_count": 208,
      "outputs": []
    },
    {
      "cell_type": "code",
      "source": [
        "# params : 신경망의 매개변수를 보관하는 딕셔너리 변수\n",
        "# grads : 기울기를 보관하는 변수\n",
        "\n",
        "class TwoLayerNet:\n",
        "    \"\"\"\n",
        "    params : 신경망의 매개변수를 보관하는 딕셔너리 변수.\n",
        "    params['W1']은 1번째 층의 가중치, params['b1']은 1번째 층의 편향.\n",
        "    params['W2']은 2번째 층의 가중치, params['b2']은 2번째 층의 편향.\n",
        "    grad : 기울기를 보관하는 딕셔너리 변수(numerical_gradient()의 반환값)\n",
        "    grads['W1']은 1번째 층의 가중치의 기울기, grads['b1']은 1번째 층의 편향의 기울기.\n",
        "    grads['W2']은 2번째 층의 가중치의 기울기, grads['b2']은 2번째 층의 편향의 기울기.\n",
        "    \"\"\"\n",
        "    # 초기화를 수행한다.\n",
        "    def __init__(self, input_size, hidden_size, output_size,\n",
        "                 weight_init_std=0.01):\n",
        "        # 가중치 초기화\n",
        "        self.params = {}\n",
        "        self.params['W1'] = weight_init_std * \\\n",
        "            np.random.randn(input_size, hidden_size)\n",
        "        self.params['b1'] = np.zeros(hidden_size)\n",
        "        self.params['W2'] = weight_init_std * \\\n",
        "            np.random.randn(hidden_size, output_size)\n",
        "        self.params['b2'] = np.zeros(output_size)\n",
        "\n",
        "    # 예측(추론)을 수행한다.\n",
        "    def predict(self, x):\n",
        "        W1, W2 = self.params['W1'], self.params['W2']\n",
        "        b1, b2 = self.params['b1'], self.params['b2']\n",
        "\n",
        "        a1 = np.dot(x, W1) + b1\n",
        "        z1 = sigmoid(a1)\n",
        "        a2 = np.dot(z1, W2) + b2\n",
        "        y = softmax(a2)\n",
        "\n",
        "        return y\n",
        "\n",
        "    # 손실 함수의 값을 구한다.\n",
        "    # x : 입력데이터, t : 정답 레이블\n",
        "    def loss(self, x, t):\n",
        "        y = self.predict(x)\n",
        "\n",
        "        return cross_entropy_error(y, t)\n",
        "\n",
        "    # 정확도를 구한다.\n",
        "    def accuracy(self, x, t):\n",
        "        y = self.predict(x)\n",
        "        y = np.argmax(y, axis=1)\n",
        "        t = np.argmax(t, axis=1)\n",
        "\n",
        "        accuracy = np.sum(y == t) / float(x.shape[0])\n",
        "        return accuracy\n",
        "\n",
        "    # 가중치 매개변수의 기울기를 구한다.\n",
        "    def numerical_gradient(self, x, t):\n",
        "        loss_W = lambda W: self.loss(x, t)\n",
        "\n",
        "        grads = {}\n",
        "        grads['W1'] = numerical_gradient(loss_W, self.params['W1'])\n",
        "        grads['b1'] = numerical_gradient(loss_W, self.params['b1'])\n",
        "        grads['W2'] = numerical_gradient(loss_W, self.params['W2'])\n",
        "        grads['b2'] = numerical_gradient(loss_W, self.params['b2'])\n",
        "\n",
        "        return grads\n",
        "\n",
        "\n",
        "if __name__ == '__main__':\n",
        "    net = TwoLayerNet(input_size=784, hidden_size=100, output_size=10)\n",
        "    print(net.params['W1'].shape)  # (784, 100)\n",
        "    print(net.params['b1'].shape)  # (100,)\n",
        "    print(net.params['W2'].shape)  # (100, 10)\n",
        "    print(net.params['b2'].shape)  # (10,)\n",
        "\n",
        "    x = np.random.rand(100, 784)  # 더미 입력 데이터(100장 분량)\n",
        "    t = np.random.rand(100, 10)   # 더미 정답 레이블(100장 분량)\n",
        "\n",
        "    grads = net.numerical_gradient(x, t)  # 기울기 계산\n",
        "    # 주의 : 실행하는데 아주 오래걸림\n",
        "    print(grads['W1'].shape)  # (784, 100)\n",
        "    print(grads['b1'].shape)  # (100,)\n",
        "    print(grads['W2'].shape)  # (100, 10)\n",
        "    print(grads['b2'].shape)  # (10,)"
      ],
      "metadata": {
        "colab": {
          "base_uri": "https://localhost:8080/"
        },
        "id": "3UL3GuiOCaPp",
        "outputId": "977bc8df-c5da-4317-c53c-87430a284c54"
      },
      "execution_count": 209,
      "outputs": [
        {
          "output_type": "stream",
          "name": "stdout",
          "text": [
            "(784, 100)\n",
            "(100,)\n",
            "(100, 10)\n",
            "(10,)\n",
            "(784, 100)\n",
            "(100,)\n",
            "(100, 10)\n",
            "(10,)\n"
          ]
        }
      ]
    },
    {
      "cell_type": "code",
      "source": [
        "grads"
      ],
      "metadata": {
        "colab": {
          "base_uri": "https://localhost:8080/"
        },
        "id": "oV3kIlM4Pd0H",
        "outputId": "f1ad8d9f-130d-40f6-c012-404cbe675cef"
      },
      "execution_count": 210,
      "outputs": [
        {
          "output_type": "execute_result",
          "data": {
            "text/plain": [
              "{'W1': array([[ 1.64741252e-04,  5.30537614e-06,  6.00736572e-05, ...,\n",
              "          6.31083186e-06,  1.27502116e-04, -1.04928028e-04],\n",
              "        [ 5.12861109e-05, -4.63852556e-05, -6.50823639e-05, ...,\n",
              "          7.01277703e-05,  3.17841220e-05, -2.22427965e-05],\n",
              "        [-5.62045743e-06, -1.33144660e-04, -2.95181435e-05, ...,\n",
              "          2.05437254e-04, -7.77205633e-05,  9.83922388e-05],\n",
              "        ...,\n",
              "        [ 1.03990485e-04, -1.07680507e-04,  4.45482673e-05, ...,\n",
              "          1.04261000e-04,  6.37338626e-05,  7.85758614e-05],\n",
              "        [ 1.07674722e-04, -6.71007583e-05, -8.24751600e-06, ...,\n",
              "          1.27290838e-04, -1.75843784e-07,  1.29900413e-04],\n",
              "        [ 4.68710559e-05, -1.35829232e-04, -1.16297163e-04, ...,\n",
              "          1.05520848e-04,  2.32498931e-05,  1.19794712e-04]]),\n",
              " 'W2': array([[ 0.01033528,  0.01102536,  0.00865424, -0.0160835 , -0.00764723,\n",
              "          0.00757736,  0.0088865 , -0.01336934,  0.0196014 , -0.02898007],\n",
              "        [ 0.00985807,  0.01036755,  0.00990519, -0.01577136, -0.00740467,\n",
              "          0.00668967,  0.00974547, -0.01257532,  0.01921389, -0.03002848],\n",
              "        [ 0.01005269,  0.00979808,  0.00840256, -0.01612667, -0.0058445 ,\n",
              "          0.00611189,  0.00861661, -0.01147554,  0.01695264, -0.02648775],\n",
              "        [ 0.00995576,  0.01094006,  0.00988533, -0.01688741, -0.00892993,\n",
              "          0.00825795,  0.00992943, -0.01253634,  0.02045717, -0.03107203],\n",
              "        [ 0.00963019,  0.01145327,  0.00960458, -0.01642184, -0.00756859,\n",
              "          0.00736594,  0.00919686, -0.01287702,  0.01870822, -0.0290916 ],\n",
              "        [ 0.01059733,  0.01266501,  0.00960199, -0.01785906, -0.00744435,\n",
              "          0.00732456,  0.00985406, -0.01403932,  0.02054928, -0.03124951],\n",
              "        [ 0.00903761,  0.01019194,  0.00915531, -0.01506423, -0.00588795,\n",
              "          0.0068401 ,  0.00841507, -0.01389898,  0.01774724, -0.02653611],\n",
              "        [ 0.01105294,  0.01189737,  0.01016861, -0.0182799 , -0.00776534,\n",
              "          0.00850854,  0.01072243, -0.01484886,  0.02152393, -0.03297973],\n",
              "        [ 0.00927654,  0.01048598,  0.00803112, -0.01330635, -0.00698729,\n",
              "          0.00549532,  0.00829355, -0.01221468,  0.01719404, -0.02626822],\n",
              "        [ 0.01098252,  0.01082254,  0.00974105, -0.0175497 , -0.00779413,\n",
              "          0.00731497,  0.00962986, -0.01319765,  0.01899752, -0.02894699],\n",
              "        [ 0.00920647,  0.01205727,  0.01004353, -0.01748176, -0.00747585,\n",
              "          0.00767398,  0.00986479, -0.0135664 ,  0.01957872, -0.02990076],\n",
              "        [ 0.01101061,  0.01138303,  0.01003808, -0.01920161, -0.00816223,\n",
              "          0.00823765,  0.01005458, -0.01303784,  0.02044432, -0.03076658],\n",
              "        [ 0.01066405,  0.00983317,  0.0086918 , -0.01568146, -0.0071871 ,\n",
              "          0.00762083,  0.0082079 , -0.01222777,  0.01860751, -0.02852893],\n",
              "        [ 0.01058847,  0.01148927,  0.00847503, -0.01695689, -0.00753322,\n",
              "          0.00756532,  0.00823558, -0.01273905,  0.01973265, -0.02885717],\n",
              "        [ 0.00906855,  0.01192882,  0.00917337, -0.01782338, -0.00718151,\n",
              "          0.00871286,  0.01047307, -0.01327812,  0.021393  , -0.03246667],\n",
              "        [ 0.01125967,  0.01173518,  0.00933011, -0.01723995, -0.0087915 ,\n",
              "          0.00737994,  0.00974803, -0.01315494,  0.01968253, -0.02994907],\n",
              "        [ 0.0101901 ,  0.01065709,  0.00978317, -0.0172849 , -0.00745151,\n",
              "          0.00612296,  0.00865766, -0.01152398,  0.01859044, -0.02774104],\n",
              "        [ 0.00835626,  0.0092218 ,  0.00794564, -0.01483468, -0.00662702,\n",
              "          0.00599335,  0.00768048, -0.01006784,  0.01593625, -0.02360425],\n",
              "        [ 0.0097214 ,  0.01179781,  0.00985189, -0.01623083, -0.00815741,\n",
              "          0.00684881,  0.00881932, -0.01287041,  0.01905164, -0.02883223],\n",
              "        [ 0.00835076,  0.01079034,  0.00900167, -0.01470836, -0.00822815,\n",
              "          0.00681735,  0.00774981, -0.01026701,  0.01644554, -0.02595194],\n",
              "        [ 0.00936641,  0.00939453,  0.0080574 , -0.01555327, -0.00592941,\n",
              "          0.00682838,  0.00922503, -0.01171632,  0.01789167, -0.02756442],\n",
              "        [ 0.00910619,  0.00950661,  0.0079286 , -0.01494352, -0.00722668,\n",
              "          0.00787457,  0.00904554, -0.01196431,  0.0185349 , -0.0278619 ],\n",
              "        [ 0.01064128,  0.01125697,  0.00924308, -0.0168192 , -0.008873  ,\n",
              "          0.00698156,  0.00941628, -0.01320083,  0.01913636, -0.02778249],\n",
              "        [ 0.0114742 ,  0.01225458,  0.01009379, -0.01706024, -0.0087474 ,\n",
              "          0.00773683,  0.01052487, -0.01485423,  0.02038044, -0.03180285],\n",
              "        [ 0.01001158,  0.01047649,  0.00962469, -0.01605788, -0.00697619,\n",
              "          0.00585883,  0.00862918, -0.01266786,  0.0171791 , -0.02607794],\n",
              "        [ 0.00973489,  0.00980439,  0.00806395, -0.01548823, -0.00660494,\n",
              "          0.00649284,  0.00933176, -0.01170305,  0.01854343, -0.02817503],\n",
              "        [ 0.0102324 ,  0.01136064,  0.0095612 , -0.01770042, -0.0071344 ,\n",
              "          0.00718491,  0.00956408, -0.01333594,  0.02082978, -0.03056223],\n",
              "        [ 0.01034415,  0.01115902,  0.00928802, -0.01724724, -0.00763843,\n",
              "          0.00675423,  0.00926518, -0.01270635,  0.01903974, -0.02825831],\n",
              "        [ 0.01075177,  0.01097569,  0.00871393, -0.01539662, -0.00727193,\n",
              "          0.0065638 ,  0.00934202, -0.01246078,  0.0182776 , -0.02949547],\n",
              "        [ 0.01000548,  0.01066165,  0.00909843, -0.01587339, -0.0072942 ,\n",
              "          0.00610972,  0.00877617, -0.01244541,  0.01919364, -0.02823209],\n",
              "        [ 0.01015259,  0.01075299,  0.00894941, -0.01599907, -0.00724491,\n",
              "          0.00632397,  0.00912149, -0.01142195,  0.01916005, -0.02979457],\n",
              "        [ 0.01067661,  0.01159107,  0.00903727, -0.01665987, -0.00717734,\n",
              "          0.00603452,  0.00907263, -0.01349934,  0.01907264, -0.0281482 ],\n",
              "        [ 0.00941015,  0.01040144,  0.0087836 , -0.01560858, -0.00837517,\n",
              "          0.00756174,  0.00939335, -0.01255943,  0.01931424, -0.02832134],\n",
              "        [ 0.00892811,  0.01019402,  0.00846869, -0.01449883, -0.00690232,\n",
              "          0.00709166,  0.0081443 , -0.01204013,  0.01705149, -0.026437  ],\n",
              "        [ 0.01026754,  0.01107518,  0.0098364 , -0.01875665, -0.00690877,\n",
              "          0.00784501,  0.01037506, -0.01303518,  0.019915  , -0.0306136 ],\n",
              "        [ 0.00970628,  0.01018133,  0.00878257, -0.01528644, -0.00668733,\n",
              "          0.00635105,  0.00811385, -0.01117789,  0.01732773, -0.02731114],\n",
              "        [ 0.01050825,  0.01206592,  0.01033118, -0.01754201, -0.00810227,\n",
              "          0.00843176,  0.0102814 , -0.01333497,  0.02046394, -0.0331032 ],\n",
              "        [ 0.00813875,  0.00972121,  0.00829173, -0.0139388 , -0.00614083,\n",
              "          0.00594369,  0.00803444, -0.01048538,  0.01700186, -0.02656666],\n",
              "        [ 0.01073698,  0.00991587,  0.0086197 , -0.01426161, -0.00671667,\n",
              "          0.00594337,  0.00889134, -0.01279652,  0.01849653, -0.02882899],\n",
              "        [ 0.00899627,  0.011318  ,  0.0094908 , -0.01665595, -0.00732825,\n",
              "          0.00779691,  0.00865633, -0.0133294 ,  0.01828464, -0.02722935],\n",
              "        [ 0.00936942,  0.01026843,  0.00880646, -0.01566808, -0.00667426,\n",
              "          0.00691225,  0.00797716, -0.01247887,  0.01827046, -0.02678298],\n",
              "        [ 0.00873108,  0.01055569,  0.00855508, -0.01563743, -0.0065683 ,\n",
              "          0.00582947,  0.00942296, -0.01221523,  0.01765337, -0.0263267 ],\n",
              "        [ 0.01018458,  0.01133017,  0.00814154, -0.01792818, -0.00789154,\n",
              "          0.00789493,  0.01002494, -0.01214073,  0.01969894, -0.02931465],\n",
              "        [ 0.01090395,  0.01063577,  0.00904936, -0.01616825, -0.00754814,\n",
              "          0.00643027,  0.0091618 , -0.01153871,  0.01805667, -0.02898272],\n",
              "        [ 0.00988596,  0.01108944,  0.00834041, -0.01621056, -0.00564503,\n",
              "          0.00647061,  0.00949689, -0.0135025 ,  0.01816057, -0.02808579],\n",
              "        [ 0.01060396,  0.01068694,  0.00958157, -0.01584554, -0.00757702,\n",
              "          0.00763869,  0.00933066, -0.0131028 ,  0.01913031, -0.03044677],\n",
              "        [ 0.01012156,  0.0106983 ,  0.00855509, -0.01620741, -0.00709054,\n",
              "          0.00722899,  0.00882291, -0.01197155,  0.01853774, -0.0286951 ],\n",
              "        [ 0.00908983,  0.00958602,  0.00734771, -0.01354074, -0.00821672,\n",
              "          0.00602834,  0.0080282 , -0.01050468,  0.01639172, -0.02420967],\n",
              "        [ 0.00961309,  0.0110294 ,  0.00897166, -0.01773511, -0.00657207,\n",
              "          0.00742261,  0.00886654, -0.01336094,  0.01999105, -0.02822623],\n",
              "        [ 0.00953916,  0.01110866,  0.00849755, -0.01559414, -0.00736719,\n",
              "          0.0067627 ,  0.00900964, -0.0120378 ,  0.01851951, -0.02843808],\n",
              "        [ 0.01064516,  0.01287091,  0.00933113, -0.01944903, -0.00781183,\n",
              "          0.00847342,  0.01010417, -0.01331854,  0.02154421, -0.0323896 ],\n",
              "        [ 0.00989531,  0.01029701,  0.0089349 , -0.01511928, -0.00740951,\n",
              "          0.00828451,  0.00789663, -0.01296611,  0.01861525, -0.0284287 ],\n",
              "        [ 0.01072596,  0.01152997,  0.00858345, -0.01696616, -0.00838779,\n",
              "          0.0074245 ,  0.00827802, -0.01269586,  0.01862126, -0.02711335],\n",
              "        [ 0.01006709,  0.01043562,  0.00940187, -0.01591692, -0.00671752,\n",
              "          0.00731898,  0.00916938, -0.0133592 ,  0.01919023, -0.02958952],\n",
              "        [ 0.01185105,  0.01221263,  0.01107074, -0.01946156, -0.00931162,\n",
              "          0.00764194,  0.01070408, -0.01371286,  0.02299943, -0.03399383],\n",
              "        [ 0.01051895,  0.01118035,  0.00926457, -0.0181171 , -0.00717656,\n",
              "          0.00749628,  0.01051033, -0.01354218,  0.02073099, -0.03086566],\n",
              "        [ 0.01129969,  0.01265436,  0.01038095, -0.01871357, -0.00807673,\n",
              "          0.00806778,  0.01073997, -0.01403913,  0.02127861, -0.03359192],\n",
              "        [ 0.01032452,  0.00970118,  0.00910826, -0.01504755, -0.00667613,\n",
              "          0.00586738,  0.00923736, -0.01229204,  0.01790727, -0.02813025],\n",
              "        [ 0.00996676,  0.01071134,  0.00941189, -0.01613689, -0.00758578,\n",
              "          0.00688759,  0.00938305, -0.01291199,  0.018534  , -0.02825998],\n",
              "        [ 0.0112984 ,  0.01124253,  0.00903856, -0.01677782, -0.00825429,\n",
              "          0.0076374 ,  0.00947053, -0.01322144,  0.02117875, -0.03161262],\n",
              "        [ 0.00878626,  0.00991461,  0.00730455, -0.01431439, -0.00765159,\n",
              "          0.00703578,  0.00868311, -0.01171704,  0.01733005, -0.02537135],\n",
              "        [ 0.00915325,  0.00934803,  0.00831911, -0.01633475, -0.00618416,\n",
              "          0.0066309 ,  0.00763149, -0.00977726,  0.01803208, -0.02681867],\n",
              "        [ 0.00967463,  0.01007145,  0.00929746, -0.01574899, -0.00812855,\n",
              "          0.0069153 ,  0.00924493, -0.01176562,  0.01787581, -0.02743641],\n",
              "        [ 0.00844629,  0.00935012,  0.00875137, -0.01552707, -0.0073742 ,\n",
              "          0.00559601,  0.00812744, -0.01085509,  0.01743651, -0.02395138],\n",
              "        [ 0.00932123,  0.01022843,  0.00845364, -0.01507466, -0.00656471,\n",
              "          0.00729942,  0.00741694, -0.01143787,  0.01667516, -0.02631756],\n",
              "        [ 0.00992454,  0.01056548,  0.00894421, -0.0162132 , -0.0067222 ,\n",
              "          0.00665881,  0.00867336, -0.0132481 ,  0.01902477, -0.02760766],\n",
              "        [ 0.00919603,  0.01013755,  0.00867116, -0.01694306, -0.0071646 ,\n",
              "          0.00756966,  0.00977381, -0.01208611,  0.01969471, -0.02884915],\n",
              "        [ 0.00969198,  0.00987555,  0.00824227, -0.01494788, -0.00663473,\n",
              "          0.00656925,  0.00902148, -0.01136621,  0.01727305, -0.02772476],\n",
              "        [ 0.00889423,  0.01073925,  0.00868935, -0.01596653, -0.00666737,\n",
              "          0.00700275,  0.00908095, -0.011948  ,  0.01910716, -0.0289318 ],\n",
              "        [ 0.009552  ,  0.01064277,  0.00848136, -0.01511797, -0.00691416,\n",
              "          0.0072911 ,  0.01028577, -0.01291743,  0.01685277, -0.02815621],\n",
              "        [ 0.00952271,  0.01007421,  0.00868867, -0.01591413, -0.00664214,\n",
              "          0.00602725,  0.00785221, -0.01140138,  0.01875522, -0.0269626 ],\n",
              "        [ 0.00977809,  0.00979143,  0.01081328, -0.01650042, -0.00764913,\n",
              "          0.0069283 ,  0.00979123, -0.01329417,  0.02002883, -0.02968745],\n",
              "        [ 0.00918558,  0.01160009,  0.00980973, -0.01773245, -0.00875719,\n",
              "          0.00835005,  0.01025496, -0.0134931 ,  0.02029192, -0.02950959],\n",
              "        [ 0.01105195,  0.01169863,  0.00948384, -0.01872355, -0.00789537,\n",
              "          0.00792224,  0.0096754 , -0.01223468,  0.02092557, -0.03190403],\n",
              "        [ 0.00885367,  0.0097476 ,  0.00870359, -0.01463042, -0.00671054,\n",
              "          0.0065333 ,  0.00807808, -0.01139598,  0.01705153, -0.02623084],\n",
              "        [ 0.00816592,  0.00972755,  0.00782035, -0.01538528, -0.00665046,\n",
              "          0.00618668,  0.00747992, -0.00952654,  0.01698959, -0.02480773],\n",
              "        [ 0.00898279,  0.00851661,  0.00859125, -0.01515811, -0.00628301,\n",
              "          0.00685724,  0.0084021 , -0.01078069,  0.01608865, -0.02521684],\n",
              "        [ 0.00871253,  0.01079233,  0.00811881, -0.0157431 , -0.00724735,\n",
              "          0.00734403,  0.00815985, -0.01172435,  0.01779365, -0.0262064 ],\n",
              "        [ 0.00913991,  0.01025018,  0.00807626, -0.01471826, -0.00674115,\n",
              "          0.00643589,  0.00774793, -0.01186466,  0.01756044, -0.02588653],\n",
              "        [ 0.00871312,  0.01037357,  0.00812061, -0.01448764, -0.00735722,\n",
              "          0.00635583,  0.00827397, -0.01053062,  0.01670195, -0.02616357],\n",
              "        [ 0.00982582,  0.01006512,  0.00834856, -0.01570654, -0.00653142,\n",
              "          0.00679736,  0.0090201 , -0.01361164,  0.0180591 , -0.02626646],\n",
              "        [ 0.01080879,  0.01242814,  0.00944594, -0.01852515, -0.00819073,\n",
              "          0.00757927,  0.01063086, -0.01385495,  0.02045357, -0.03077574],\n",
              "        [ 0.00947231,  0.01074533,  0.0089585 , -0.01543531, -0.00683573,\n",
              "          0.00611863,  0.00917677, -0.01227911,  0.01890848, -0.02882987],\n",
              "        [ 0.01020453,  0.01118955,  0.0083316 , -0.01569158, -0.00712123,\n",
              "          0.00756442,  0.00891086, -0.01227168,  0.01892163, -0.0300381 ],\n",
              "        [ 0.01044749,  0.01196929,  0.00908103, -0.01716408, -0.00867865,\n",
              "          0.00820839,  0.009276  , -0.01347549,  0.02035662, -0.0300206 ],\n",
              "        [ 0.01038842,  0.01130296,  0.0097139 , -0.0162553 , -0.00707342,\n",
              "          0.00711515,  0.00942795, -0.01291476,  0.01944832, -0.03115323],\n",
              "        [ 0.01099591,  0.01223006,  0.01003043, -0.01759828, -0.0094504 ,\n",
              "          0.00840354,  0.00994519, -0.01338331,  0.02136821, -0.03254136],\n",
              "        [ 0.00994896,  0.01078149,  0.00906022, -0.01602649, -0.00718837,\n",
              "          0.00663717,  0.00893752, -0.01217068,  0.01855403, -0.02853383],\n",
              "        [ 0.00950556,  0.01045441,  0.00864771, -0.01605665, -0.00654276,\n",
              "          0.00717948,  0.00843005, -0.01131706,  0.0179155 , -0.02821624],\n",
              "        [ 0.01076508,  0.01239101,  0.00927439, -0.01621648, -0.00876672,\n",
              "          0.00796347,  0.00943584, -0.01377185,  0.01957159, -0.03064633],\n",
              "        [ 0.01132061,  0.01168417,  0.00931529, -0.01931889, -0.00810341,\n",
              "          0.00977576,  0.01002076, -0.01485055,  0.0208113 , -0.03065503],\n",
              "        [ 0.0114702 ,  0.01127876,  0.00969208, -0.01819012, -0.00776393,\n",
              "          0.00771342,  0.00997397, -0.0143896 ,  0.02101481, -0.03079959],\n",
              "        [ 0.00965725,  0.01075381,  0.00918608, -0.01532076, -0.00707681,\n",
              "          0.0077024 ,  0.0096809 , -0.01359524,  0.01854257, -0.0295302 ],\n",
              "        [ 0.00903989,  0.01082258,  0.00926662, -0.01633325, -0.00708213,\n",
              "          0.00683051,  0.00883429, -0.01237495,  0.01927333, -0.02827689],\n",
              "        [ 0.00841344,  0.00980932,  0.00881313, -0.01448598, -0.00680456,\n",
              "          0.0061305 ,  0.0089487 , -0.01200098,  0.01741595, -0.02623953],\n",
              "        [ 0.01082757,  0.01158341,  0.01049224, -0.01865881, -0.00827655,\n",
              "          0.00774402,  0.01149611, -0.01335999,  0.0208445 , -0.0326925 ],\n",
              "        [ 0.01002065,  0.01209766,  0.00833115, -0.01727613, -0.00707019,\n",
              "          0.00738498,  0.00998258, -0.01321072,  0.01911603, -0.02937602],\n",
              "        [ 0.01160738,  0.0127855 ,  0.00993247, -0.01952682, -0.00837942,\n",
              "          0.00768313,  0.00992415, -0.01382038,  0.02163139, -0.03183739],\n",
              "        [ 0.00969086,  0.01105178,  0.0089517 , -0.01620064, -0.00807681,\n",
              "          0.00615851,  0.00917023, -0.01229283,  0.01981208, -0.02826489],\n",
              "        [ 0.01013429,  0.01052595,  0.00893935, -0.01700265, -0.00731548,\n",
              "          0.00727749,  0.00991319, -0.01328525,  0.02023538, -0.02942226]]),\n",
              " 'b1': array([ 1.81630639e-04, -1.74981694e-04,  2.44090570e-05, -1.17594094e-04,\n",
              "         8.29716140e-05, -3.00722887e-04,  1.81157995e-04,  3.75735003e-04,\n",
              "        -1.10415499e-05,  3.79699368e-04, -1.56690620e-04,  1.36226848e-04,\n",
              "        -1.60719986e-04, -3.58443457e-04, -1.53849484e-04, -8.36229952e-05,\n",
              "        -3.26126690e-04,  1.11283871e-04,  1.49531298e-04,  7.32848644e-04,\n",
              "         1.30356390e-04,  1.84628004e-04, -2.31651955e-04,  8.12198819e-05,\n",
              "        -1.92106555e-04, -2.30575290e-04, -4.82410445e-05, -4.94158492e-05,\n",
              "        -2.68944311e-05, -1.72430425e-05,  3.06217764e-04, -1.03163496e-04,\n",
              "         3.01716645e-04,  5.30909228e-05, -2.36416116e-04,  1.65794154e-04,\n",
              "        -1.18684322e-04,  4.59698635e-05,  2.45929845e-04, -3.22529210e-04,\n",
              "        -3.38705708e-05,  2.66206168e-04, -5.41847678e-05,  2.14745874e-04,\n",
              "         4.28006506e-04,  2.80315859e-05, -1.20864736e-04, -4.45401471e-05,\n",
              "        -4.42764769e-04, -2.31591790e-05, -9.18641341e-05, -1.55846402e-05,\n",
              "        -1.05583982e-04, -4.24989113e-04, -2.82476620e-04, -2.39578106e-04,\n",
              "        -2.84652302e-05, -3.85163466e-04,  2.83784172e-04,  1.87776765e-04,\n",
              "         1.32852755e-04, -1.57490794e-04, -1.89295646e-05, -4.51597035e-04,\n",
              "        -1.00703004e-04, -2.82963091e-04,  1.40375354e-04, -3.38486081e-04,\n",
              "         5.57780178e-04,  4.02874534e-05,  1.95622147e-04,  2.58284101e-04,\n",
              "        -4.78814426e-04,  2.12915403e-04,  6.68259870e-05,  7.20923143e-05,\n",
              "        -1.59969371e-05, -1.95913330e-05, -9.39331746e-05, -1.97038839e-04,\n",
              "        -1.68508674e-05,  1.99313157e-04, -8.51024606e-05,  9.47441237e-06,\n",
              "         2.71208280e-04, -5.43860268e-05, -5.64537861e-05,  1.35539131e-04,\n",
              "        -9.15351550e-05, -6.36358322e-05, -8.77066886e-05, -2.25150876e-05,\n",
              "        -1.01087858e-04, -1.25916864e-04,  1.95167011e-04, -6.22380547e-05,\n",
              "        -2.13869744e-05,  2.54644132e-04,  9.16191945e-05,  7.82520915e-05]),\n",
              " 'b2': array([ 0.01972229,  0.02145848,  0.01785172, -0.03238571, -0.01453002,\n",
              "         0.01382607,  0.01809346, -0.02482808,  0.03735647, -0.05656467])}"
            ]
          },
          "metadata": {},
          "execution_count": 210
        }
      ]
    },
    {
      "cell_type": "code",
      "source": [
        "# 미니배치 학습 구현하기\n",
        "train_loss_list = []\n",
        "iters_num = 100\n",
        "# iters_num = 10000 # 반복횟수\n",
        "train_size = x_train.shape[0]\n",
        "batch_size = 100 # 미니배치크기\n",
        "learning_rate = 0.1\n",
        "\n"
      ],
      "metadata": {
        "id": "xXyoLbrHQrhL"
      },
      "execution_count": 211,
      "outputs": []
    },
    {
      "cell_type": "code",
      "source": [
        "network = TwoLayerNet(input_size = 784, hidden_size = 50, output_size = 10)\n",
        "for i in range(iters_num):\n",
        "  batch_mask = np.random.choice(train_size, batch_size)\n",
        "  x_batch = x_train[batch_mask]\n",
        "  t_batch = t_train[batch_mask]\n",
        "\n",
        "  # 기울기계산\n",
        "  grad = network.numerical_gradient(x_batch, t_batch)\n",
        "  # grad = network.gradient(x_batch, t_batch)\n",
        "\n",
        "  # 매개변수갱신\n",
        "  for key in ('W1','b1','W2','b2'):\n",
        "    network.params[key] -= learning_rate * grad[key]\n",
        "  \n",
        "  #학습경과기록\n",
        "  loss = network.loss(x_batch, t_batch)\n",
        "  train_loss_list.append(loss)"
      ],
      "metadata": {
        "id": "C3OX1w8DVRnV"
      },
      "execution_count": null,
      "outputs": []
    },
    {
      "cell_type": "code",
      "source": [
        "# 100개의 데이터를 추려내서 확률적 경사 하강법을 수행해 매개변수를 갱신\n",
        "# 학습이 늘어가면서 손실함수의 값이 줄어듬 : 학습이 잘된다는 의미\n",
        "# 수치미분을 이용한 계산에는 시간이 걸리지만, 그 구현은 간단함. 한편 오차역전파법은 기울기를 고속으로 구할 수 있음"
      ],
      "metadata": {
        "id": "rrxLwbIRWPAz"
      },
      "execution_count": null,
      "outputs": []
    },
    {
      "cell_type": "code",
      "source": [
        "# 실험 데이터로 평가하기\n",
        "# 학습 도중 정기적으로 훈련데이터와 시험데이터를 대상으로 정확도를 기록, 1에폭별로 훈련 데이터와 시험데이터에 대한 정확도를 기록\n",
        "# cf 에폭 : 하나의 단위, 1에폭은 학습에서 훈련데이터를 모두 소진했을 때의 횟수에 해당\n",
        "# 10000개 데이터를 100개의 미니배치로 학습할경우, 100회 반복하면 모든 훈련데이터를 소진하게됨 -> 100회가 1에폭이 됨\n"
      ],
      "metadata": {
        "id": "OaGuIAQCXZvB"
      },
      "execution_count": null,
      "outputs": []
    },
    {
      "cell_type": "code",
      "source": [
        "# 에폭반영\n",
        "\n",
        "train_loss_list = []\n",
        "train_acc_list = []\n",
        "test_acc_list = []\n",
        "\n",
        "# 1에폭당 반복횟수\n",
        "iter_per_epoch  = max(train_size / batch_size, 1)\n",
        "\n",
        "\n",
        "iters_num = 10000 # 반복횟수\n",
        "train_size = x_train.shape[0]\n",
        "batch_size = 100 # 미니배치크기\n",
        "learning_rate = 0.1\n",
        "network = TwoLayerNet(input_size = 784, hidden_size = 50, output_size = 10)\n",
        "for i in range(iters_num):\n",
        "  batch_mask = np.random.choice(train_size, batch_size)\n",
        "  x_batch = x_train[batch_mask]\n",
        "  t_batch = t_train[batch_mask]\n",
        "\n",
        "  # 기울기계산\n",
        "  grad = network.numerical_gradient(x_batch, t_batch)\n",
        "  # grad = network.gradient(x_batch, t_batch)\n",
        "\n",
        "  # 매개변수갱신\n",
        "  for key in ('W1','b1','W2','b2'):\n",
        "    network.params[key] -= learning_rate * grad[key]\n",
        "  \n",
        "  #학습경과기록\n",
        "  loss = network.loss(x_batch, t_batch)\n",
        "  train_loss_list.append(loss)\n",
        "\n",
        "  # 추가되는 부분\n",
        "  if i% iter_per_epoch == 0 :\n",
        "    train_acc = network.accuracy(x_train, t_train)\n",
        "    test_acc = network.accuracy(x_test, t_test)\n",
        "    train_acc_list.append(train_acc)\n",
        "    test_acc_list.append(test_acc)\n",
        "    print(\"train acc, test acc\" + str(train_acc) + \", \" + str(test_acc))"
      ],
      "metadata": {
        "id": "wYwnyIKSX0fN"
      },
      "execution_count": null,
      "outputs": []
    },
    {
      "cell_type": "code",
      "source": [
        ""
      ],
      "metadata": {
        "id": "7jnAageATBEE"
      },
      "execution_count": null,
      "outputs": []
    },
    {
      "cell_type": "code",
      "source": [
        ""
      ],
      "metadata": {
        "id": "_my78VqC0b9m"
      },
      "execution_count": null,
      "outputs": []
    }
  ]
}